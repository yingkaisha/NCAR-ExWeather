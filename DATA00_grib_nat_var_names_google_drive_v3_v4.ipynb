{
 "cells": [
  {
   "cell_type": "code",
   "execution_count": 1,
   "id": "764d3719-e6a6-4347-be25-9644cc10bdeb",
   "metadata": {},
   "outputs": [],
   "source": [
    "import sys\n",
    "from glob import glob\n",
    "\n",
    "import h5py\n",
    "import pygrib\n",
    "import numpy as np\n",
    "import pandas as pd\n",
    "from datetime import datetime, timedelta"
   ]
  },
  {
   "cell_type": "code",
   "execution_count": 2,
   "id": "b3936704-892f-4954-ae65-d4dab1069c96",
   "metadata": {},
   "outputs": [],
   "source": [
    "sys.path.insert(0, '/glade/u/home/ksha/NCAR/')\n",
    "sys.path.insert(0, '/glade/u/home/ksha/NCAR/libs/')\n",
    "\n",
    "from namelist import *\n",
    "import data_utils as du\n",
    "import preprocess_utils as pu"
   ]
  },
  {
   "cell_type": "code",
   "execution_count": 3,
   "id": "a18a8a26-8f34-41aa-8ee3-5137385a3121",
   "metadata": {},
   "outputs": [],
   "source": [
    "import matplotlib.pyplot as plt\n",
    "%matplotlib inline"
   ]
  },
  {
   "cell_type": "code",
   "execution_count": 4,
   "id": "d414884d-215d-4c48-9fba-92303af37e59",
   "metadata": {},
   "outputs": [
    {
     "data": {
      "text/plain": [
       "<module 'data_utils' from '/glade/u/home/ksha/NCAR/libs/data_utils.py'>"
      ]
     },
     "execution_count": 4,
     "metadata": {},
     "output_type": "execute_result"
    }
   ],
   "source": [
    "import importlib\n",
    "importlib.reload(du)"
   ]
  },
  {
   "cell_type": "code",
   "execution_count": null,
   "id": "31c652e4-10a7-4d29-8412-5628f6568da4",
   "metadata": {},
   "outputs": [],
   "source": []
  },
  {
   "cell_type": "code",
   "execution_count": 5,
   "id": "ffe2b93e-40a9-4d5f-b125-639f011dc7ad",
   "metadata": {},
   "outputs": [],
   "source": [
    "HRRR_dir = '/glade/campaign/cisl/aiml/ksha/HRRR/'\n",
    "\n",
    "# Variables to extract\n",
    "\n",
    "HRRRv3_inds = [1003, 1014, 1016, 1018, 1020, 1022, 1024, 1025, 1028, 1041, 1044, \n",
    "               1046, 1047, 1048, 1059, 1073, 1074, 1093, 1094, 1097, 1098, 1099, 1100]\n",
    "\n",
    "HRRRv4_inds = [1003, 1014, 1016, 1018, 1020, 1022, 1024, 1025, 1028, 1041, 1044, \n",
    "               1047, 1048, 1049, 1060, 1074, 1075, 1097, 1098, 1101, 1102, 1103, 1104]\n",
    "\n",
    "base_v3_s = datetime(2018, 7, 15)\n",
    "base_v3_e = datetime(2020, 12, 2)\n",
    "\n",
    "base_v4_s = datetime(2020, 12, 3)\n",
    "base_v4_e = datetime(2022, 7, 15)\n",
    "\n",
    "base_ref = datetime(2010, 1, 1)\n",
    "\n",
    "date_list_v3 = [base_v3_s + timedelta(days=day) for day in range(365+365+142)]\n",
    "date_list_v4 = [base_v4_s + timedelta(days=day) for day in range(365+365+30)]"
   ]
  },
  {
   "cell_type": "code",
   "execution_count": 8,
   "id": "ac780ae7-6c5f-42bb-816f-8cb6a2f29782",
   "metadata": {},
   "outputs": [],
   "source": [
    "lead = 2\n",
    "i = -1"
   ]
  },
  {
   "cell_type": "code",
   "execution_count": 10,
   "id": "33c4d346-6f36-4b9a-85c6-7c7ff747ae0c",
   "metadata": {},
   "outputs": [],
   "source": [
    "var_names_v4 = []\n",
    "date_temp = date_list_v4[i]\n",
    "with pygrib.open((datetime.strftime(date_temp, HRRR_dir+'fcst{:02d}hr/HRRR.%Y%m%d.natf{:02d}.grib2')).format(lead, lead)) as grbio:\n",
    "    for i, ind in enumerate(HRRRv4_inds):\n",
    "        var_names_v4.append(str(grbio[ind])[:35])"
   ]
  },
  {
   "cell_type": "code",
   "execution_count": 12,
   "id": "405baf70-2e88-4be5-acba-3ca1f249946e",
   "metadata": {},
   "outputs": [],
   "source": [
    "ind_pick = [0, 1, 3, 4, 8, 9, 10, 13, 14, 15, 16, 17, 18, 21, 22] "
   ]
  },
  {
   "cell_type": "code",
   "execution_count": 13,
   "id": "e4f64bf8-8073-44cd-8af1-4cf1c9119dc9",
   "metadata": {},
   "outputs": [
    {
     "name": "stdout",
     "output_type": "stream",
     "text": [
      "1003:Maximum/Composite radar reflec\n",
      "1014:MSLP (MAPS System Reduction):P\n",
      "1018:199:199 (max):lambert:heightAb\n",
      "1020:199:199 (max):lambert:heightAb\n",
      "1028:74:74 (max):lambert:atmosphere\n",
      "1041:2 metre temperature:K (instant\n",
      "1044:2 metre dewpoint temperature:K\n",
      "1049:10 metre wind speed:m s**-1 (m\n",
      "1060:Total Precipitation:kg m**-2 (\n",
      "1074:Convective available potential\n",
      "1075:Convective inhibition:J kg**-1\n",
      "1097:Storm relative helicity:J kg**\n",
      "1098:Storm relative helicity:J kg**\n",
      "1103:Vertical u-component shear:s**\n",
      "1104:Vertical v-component shear:s**\n"
     ]
    }
   ],
   "source": [
    "for i in ind_pick:\n",
    "    print(var_names_v4[i])"
   ]
  },
  {
   "cell_type": "code",
   "execution_count": null,
   "id": "8eb92ef5-1ad6-4f2c-8658-2d0ce7fc975d",
   "metadata": {},
   "outputs": [],
   "source": [
    "['Max/Comp Radar',\n",
    " 'MSLP',\n",
    " 'UH 2-5 km',\n",
    " 'UH 0-2 km',\n",
    " 'Graupel mass',\n",
    " 'T 2m',\n",
    " 'Dewpoint 2m',\n",
    " 'SPD 10m',\n",
    " 'APCP',\n",
    " 'CAPE',\n",
    " 'CIN',\n",
    " 'SRH 0-3 km',\n",
    " 'SRH 0-1 km',\n",
    " 'U shear 0-6 km',\n",
    " 'V shear 0-6 km']"
   ]
  }
 ],
 "metadata": {
  "kernelspec": {
   "display_name": "Python 3 (ipykernel)",
   "language": "python",
   "name": "python3"
  },
  "language_info": {
   "codemirror_mode": {
    "name": "ipython",
    "version": 3
   },
   "file_extension": ".py",
   "mimetype": "text/x-python",
   "name": "python",
   "nbconvert_exporter": "python",
   "pygments_lexer": "ipython3",
   "version": "3.9.15"
  }
 },
 "nbformat": 4,
 "nbformat_minor": 5
}
