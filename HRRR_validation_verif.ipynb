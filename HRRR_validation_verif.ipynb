{
 "cells": [
  {
   "cell_type": "code",
   "execution_count": 29,
   "id": "2691f0a5-e348-4592-a238-9c6858792779",
   "metadata": {},
   "outputs": [],
   "source": [
    "\n",
    "# general tools\n",
    "import sys\n",
    "from glob import glob\n",
    "\n",
    "# data tools\n",
    "import time\n",
    "import h5py\n",
    "import random\n",
    "import numpy as np\n",
    "from random import shuffle\n",
    "\n",
    "# deep learning tools\n",
    "import tensorflow as tf\n",
    "from tensorflow import keras\n",
    "\n",
    "from keras_unet_collection import models as k_models\n",
    "from keras_unet_collection import utils as k_utils\n",
    "from keras_unet_collection import layer_utils as k_layers\n",
    "from keras_unet_collection.activations import GELU\n",
    "\n",
    "sys.path.insert(0, '/glade/u/home/ksha/NCAR/')\n",
    "sys.path.insert(0, '/glade/u/home/ksha/NCAR/libs/')\n",
    "\n",
    "from namelist import *\n",
    "import data_utils as du\n",
    "\n",
    "from sklearn.metrics import classification_report, auc, roc_curve\n",
    "from sklearn.metrics import confusion_matrix\n",
    "\n",
    "import matplotlib.pyplot as plt\n",
    "%matplotlib inline\n",
    "\n",
    "sys.path.insert(0, '/glade/u/home/ksha/NCAR/')\n",
    "sys.path.insert(0, '/glade/u/home/ksha/NCAR/libs/')\n",
    "\n",
    "from namelist import *\n",
    "import data_utils as du\n",
    "import graph_utils as gu\n",
    "\n",
    "def verif_metric(VALID_target, Y_pred, thres=0.5):\n",
    "\n",
    "    tn, fp, fn, tp = confusion_matrix(VALID_target.ravel(), Y_pred.ravel()>thres).ravel()\n",
    "\n",
    "    CSI = tp/(tp+fn+fp)\n",
    "    CSI_metric = 1 - CSI\n",
    "    \n",
    "    POFD = fp/(tn+fp)\n",
    "    \n",
    "    fpr, tpr, thresholds = roc_curve(VALID_target.ravel(), Y_pred.ravel())\n",
    "    AUC = auc(fpr, tpr)\n",
    "    AUC_metric = 1 - AUC\n",
    "    \n",
    "    freq = (tp+fp)/(tp+fn)\n",
    "    freq_metric = np.abs(freq-1.0)\n",
    "    \n",
    "    print('{} {} {} {}'.format(CSI, POFD, AUC, freq))\n",
    "    metric = 0.2*CSI_metric + 0.8*freq_metric\n",
    "\n",
    "\n",
    "    return metric\n",
    "\n"
   ]
  },
  {
   "cell_type": "code",
   "execution_count": 14,
   "id": "9e9d0511-ac88-4a24-8a29-7863dfcf51c4",
   "metadata": {},
   "outputs": [],
   "source": [
    "# ========== training/validation split ========== #\n",
    "\n",
    "filename_aug = sorted(glob(\"/glade/scratch/ksha/DATA/NCAR_batch_aug/*.npy\"))\n",
    "filename_full = sorted(glob(\"/glade/scratch/ksha/DATA/NCAR_batch/*.npy\"))\n",
    "\n",
    "cut_train_aug = 136000\n",
    "cut_train_full = 2848299\n",
    "\n",
    "filename_train_aug = filename_aug[:cut_train_aug]\n",
    "filename_train_full = filename_full[:cut_train_full]\n",
    "\n",
    "factor = 20\n",
    "\n",
    "L_valid_aug = int(10*factor)\n",
    "L_valid_full = int(3000*factor)\n",
    "\n",
    "filename_valid_aug = filename_aug[cut_train_aug:]\n",
    "filename_valid_full = filename_full[cut_train_full:]\n",
    "\n",
    "shuffle(filename_valid_aug)\n",
    "shuffle(filename_valid_full)\n",
    "\n",
    "filename_valid_aug = filename_aug[-L_valid_aug:]\n",
    "filename_valid_full = filename_full[-L_valid_full:]\n",
    "\n",
    "# ========== Validation set ========== #\n",
    "\n",
    "ind_pick_from_batch = [1, 2, 5, 10, 11, 12, 13, 14, 15, 17]\n",
    "\n",
    "L_vars = len(ind_pick_from_batch)\n",
    "\n",
    "grid_shape = (128, 128)\n",
    "\n",
    "L_valid = L_valid_aug+L_valid_full\n",
    "\n",
    "VALID_input = np.empty((L_valid,)+grid_shape+(L_vars,))\n",
    "VALID_target = np.empty(L_valid)\n",
    "\n",
    "for i, filename in enumerate(filename_valid_aug+filename_valid_full):\n",
    "    data = np.load(filename)\n",
    "    \n",
    "    for c, v in enumerate(ind_pick_from_batch):\n",
    "    \n",
    "        VALID_input[i, ..., c] = data[..., v]\n",
    "        \n",
    "    if 'pos' in filename:\n",
    "        VALID_target[i] = True\n",
    "    elif 'neg' in filename:\n",
    "        VALID_target[i] = False\n",
    "    else:\n",
    "        aergheagtha\n",
    "\n"
   ]
  },
  {
   "cell_type": "code",
   "execution_count": 3,
   "id": "3519c468-8301-4d80-b085-bcb0741cdf6a",
   "metadata": {},
   "outputs": [
    {
     "name": "stderr",
     "output_type": "stream",
     "text": [
      "2022-08-22 11:55:05.094021: I tensorflow/compiler/jit/xla_cpu_device.cc:41] Not creating XLA devices, tf_xla_enable_xla_devices not set\n",
      "2022-08-22 11:55:06.317221: I tensorflow/stream_executor/platform/default/dso_loader.cc:49] Successfully opened dynamic library libcuda.so.1\n",
      "2022-08-22 11:55:06.405386: I tensorflow/core/common_runtime/gpu/gpu_device.cc:1720] Found device 0 with properties: \n",
      "pciBusID: 0000:3e:00.0 name: Tesla V100-SXM2-32GB computeCapability: 7.0\n",
      "coreClock: 1.53GHz coreCount: 80 deviceMemorySize: 31.75GiB deviceMemoryBandwidth: 836.37GiB/s\n",
      "2022-08-22 11:55:06.407008: I tensorflow/stream_executor/platform/default/dso_loader.cc:49] Successfully opened dynamic library libcudart.so.10.1\n",
      "2022-08-22 11:55:06.642986: I tensorflow/stream_executor/platform/default/dso_loader.cc:49] Successfully opened dynamic library libcublas.so.10\n",
      "2022-08-22 11:55:06.645091: I tensorflow/stream_executor/platform/default/dso_loader.cc:49] Successfully opened dynamic library libcublasLt.so.10\n",
      "2022-08-22 11:55:06.724583: I tensorflow/stream_executor/platform/default/dso_loader.cc:49] Successfully opened dynamic library libcufft.so.10\n",
      "2022-08-22 11:55:06.860608: I tensorflow/stream_executor/platform/default/dso_loader.cc:49] Successfully opened dynamic library libcurand.so.10\n",
      "2022-08-22 11:55:07.056286: I tensorflow/stream_executor/platform/default/dso_loader.cc:49] Successfully opened dynamic library libcusolver.so.10\n",
      "2022-08-22 11:55:07.153540: I tensorflow/stream_executor/platform/default/dso_loader.cc:49] Successfully opened dynamic library libcusparse.so.10\n",
      "2022-08-22 11:55:07.347028: I tensorflow/stream_executor/platform/default/dso_loader.cc:49] Successfully opened dynamic library libcudnn.so.7\n",
      "2022-08-22 11:55:07.351192: I tensorflow/core/common_runtime/gpu/gpu_device.cc:1862] Adding visible gpu devices: 0\n",
      "2022-08-22 11:55:07.371187: I tensorflow/core/platform/cpu_feature_guard.cc:142] This TensorFlow binary is optimized with oneAPI Deep Neural Network Library (oneDNN) to use the following CPU instructions in performance-critical operations:  SSE4.1 SSE4.2 AVX AVX2 AVX512F FMA\n",
      "To enable them in other operations, rebuild TensorFlow with the appropriate compiler flags.\n",
      "2022-08-22 11:55:07.372975: I tensorflow/compiler/jit/xla_gpu_device.cc:99] Not creating XLA devices, tf_xla_enable_xla_devices not set\n",
      "2022-08-22 11:55:07.375601: I tensorflow/core/common_runtime/gpu/gpu_device.cc:1720] Found device 0 with properties: \n",
      "pciBusID: 0000:3e:00.0 name: Tesla V100-SXM2-32GB computeCapability: 7.0\n",
      "coreClock: 1.53GHz coreCount: 80 deviceMemorySize: 31.75GiB deviceMemoryBandwidth: 836.37GiB/s\n",
      "2022-08-22 11:55:07.376578: I tensorflow/stream_executor/platform/default/dso_loader.cc:49] Successfully opened dynamic library libcudart.so.10.1\n",
      "2022-08-22 11:55:07.377901: I tensorflow/stream_executor/platform/default/dso_loader.cc:49] Successfully opened dynamic library libcublas.so.10\n",
      "2022-08-22 11:55:07.379064: I tensorflow/stream_executor/platform/default/dso_loader.cc:49] Successfully opened dynamic library libcublasLt.so.10\n",
      "2022-08-22 11:55:07.380119: I tensorflow/stream_executor/platform/default/dso_loader.cc:49] Successfully opened dynamic library libcufft.so.10\n",
      "2022-08-22 11:55:07.381161: I tensorflow/stream_executor/platform/default/dso_loader.cc:49] Successfully opened dynamic library libcurand.so.10\n",
      "2022-08-22 11:55:07.382167: I tensorflow/stream_executor/platform/default/dso_loader.cc:49] Successfully opened dynamic library libcusolver.so.10\n",
      "2022-08-22 11:55:07.383179: I tensorflow/stream_executor/platform/default/dso_loader.cc:49] Successfully opened dynamic library libcusparse.so.10\n",
      "2022-08-22 11:55:07.384205: I tensorflow/stream_executor/platform/default/dso_loader.cc:49] Successfully opened dynamic library libcudnn.so.7\n",
      "2022-08-22 11:55:07.387132: I tensorflow/core/common_runtime/gpu/gpu_device.cc:1862] Adding visible gpu devices: 0\n",
      "2022-08-22 11:55:07.387853: I tensorflow/stream_executor/platform/default/dso_loader.cc:49] Successfully opened dynamic library libcudart.so.10.1\n",
      "2022-08-22 11:55:11.094607: I tensorflow/core/common_runtime/gpu/gpu_device.cc:1261] Device interconnect StreamExecutor with strength 1 edge matrix:\n",
      "2022-08-22 11:55:11.095146: I tensorflow/core/common_runtime/gpu/gpu_device.cc:1267]      0 \n",
      "2022-08-22 11:55:11.095705: I tensorflow/core/common_runtime/gpu/gpu_device.cc:1280] 0:   N \n",
      "2022-08-22 11:55:11.102940: I tensorflow/core/common_runtime/gpu/gpu_device.cc:1406] Created TensorFlow device (/job:localhost/replica:0/task:0/device:GPU:0 with 30132 MB memory) -> physical GPU (device: 0, name: Tesla V100-SXM2-32GB, pci bus id: 0000:3e:00.0, compute capability: 7.0)\n"
     ]
    }
   ],
   "source": [
    "# ========== Model ========== #\n",
    "\n",
    "# ---------- Layers ---------- #\n",
    "\n",
    "IN = tf.keras.Input((128, 128, 10))\n",
    "\n",
    "X = IN\n",
    "\n",
    "X = k_layers.CONV_stack(X, 32, kernel_size=3, stack_num=2, dilation_rate=1, activation='GELU', batch_norm=True, name='conv_stack1')\n",
    "X = tf.keras.layers.Conv2D(32, kernel_size=2, strides=(2, 2), padding='valid', use_bias=True, name='stride_conv1')(X)\n",
    "\n",
    "X = k_layers.CONV_stack(X, 64, kernel_size=3, stack_num=2, dilation_rate=1, activation='GELU', batch_norm=True, name='conv_stack2')\n",
    "X = tf.keras.layers.Conv2D(64, kernel_size=2, strides=(2, 2), padding='valid', use_bias=True, name='stride_conv2')(X)\n",
    "\n",
    "X = k_layers.CONV_stack(X, 128, kernel_size=3, stack_num=2, dilation_rate=1, activation='GELU', batch_norm=True, name='conv_stack3')\n",
    "X = tf.keras.layers.Conv2D(128, kernel_size=2, strides=(2, 2), padding='valid', use_bias=True, name='stride_conv3')(X)\n",
    "\n",
    "X = k_layers.CONV_stack(X, 256, kernel_size=3, stack_num=2, dilation_rate=1, activation='GELU', batch_norm=True, name='conv_stack4')\n",
    "X = tf.keras.layers.Conv2D(256, kernel_size=2, strides=(2, 2), padding='valid', use_bias=True, name='stride_conv4')(X)\n",
    "\n",
    "X = k_layers.CONV_stack(X, 512, kernel_size=3, stack_num=2, dilation_rate=1, activation='GELU', batch_norm=True, name='conv_stack5')\n",
    "X = tf.keras.layers.Conv2D(512, kernel_size=2, strides=(2, 2), padding='valid', use_bias=True, name='stride_conv5')(X)\n",
    "\n",
    "D = tf.keras.layers.Flatten()(X)\n",
    "\n",
    "D = tf.keras.layers.Dense(512, use_bias=False, name='dense1')(D)\n",
    "D = tf.keras.layers.BatchNormalization(axis=-1, name='dense_bn1')(D)\n",
    "D = GELU()(D)\n",
    "\n",
    "D = tf.keras.layers.Dense(128, use_bias=False, name='dense2')(D)\n",
    "D = tf.keras.layers.BatchNormalization(axis=-1, name='dense_bn2')(D)\n",
    "D = GELU()(D)\n",
    "\n",
    "D = tf.keras.layers.Dense(1, activation='sigmoid', name='head')(D)\n",
    "\n",
    "OUT = D\n",
    "\n",
    "model = keras.models.Model(inputs=[IN,], outputs=[OUT,])\n",
    "\n",
    "W_new = model.get_weights()\n",
    "\n",
    "# ---------- Weights ---------- #\n",
    "\n",
    "temp_dir = '/glade/work/ksha/NCAR/Keras_models/'\n",
    "\n",
    "key = 'BIG10'\n",
    "\n",
    "model_name = '{}_tornado_tune'.format(key)\n",
    "model_path = temp_dir+model_name\n",
    "model_path_backup = temp_dir+model_name+'_backup'\n",
    "\n",
    "#W_new = k_utils.dummy_loader(model_path)\n",
    "\n",
    "#W_old = k_utils.dummy_loader(temp_dir+'VGG_X_pp20_tune2')\n",
    "W_new = k_utils.dummy_loader(temp_dir+'BIG10_tornado')\n",
    "#W_new = k_utils.dummy_loader(model_path)\n",
    "\n",
    "# for l in range(len(W_old)):\n",
    "#     if W_old[l].shape == W_new[l].shape:\n",
    "#         W_new[l] = W_old[l]\n",
    "\n",
    "# ---------- Compile ---------- #\n",
    "\n",
    "model.set_weights(W_new)\n",
    "\n",
    "model.compile(loss=keras.losses.categorical_crossentropy, optimizer=keras.optimizers.Adam(lr=1e-5))\n",
    "\n"
   ]
  },
  {
   "cell_type": "code",
   "execution_count": null,
   "id": "d98ca9fe-612c-4ced-9003-ca941c391887",
   "metadata": {},
   "outputs": [],
   "source": [
    "# # ========== Initial record ========== #\n",
    "\n",
    "# Y_pred = model.predict([VALID_input,])\n",
    "# record = verif_metric(VALID_target, Y_pred)\n",
    "# print('Initial record {}'.format(record))\n",
    "\n",
    "# # ========== Training hyper parameters ========== #\n",
    "\n",
    "# tol = 0\n",
    "# min_del = 0\n",
    "# max_tol = 500 # early stopping with patience\n",
    "\n",
    "# epochs = 500\n",
    "# L_train = 64\n",
    "# batch_size = 100\n",
    "# batch_size_half = 50\n",
    "\n",
    "# valid_size = 1\n",
    "\n",
    "# X_batch = np.empty((batch_size, 128, 128, L_vars))\n",
    "# Y_batch = np.empty((batch_size, 1))\n",
    "# X_batch[...] = np.nan\n",
    "# Y_batch[...] = np.nan\n",
    "\n",
    "# # ========== Training loop ========== #\n",
    "\n",
    "# L_full = len(filename_train_full)\n",
    "# L_aug = len(filename_train_aug)\n",
    "\n",
    "# for i in range(epochs):\n",
    "    \n",
    "#     if i <= 10:\n",
    "#         batch_size_full = 70\n",
    "#     if i > 10 and i <= 35:\n",
    "#         batch_size_full = 85\n",
    "#     if i > 35:\n",
    "#         batch_size_full = 95\n",
    "    \n",
    "#     batch_size_aug = batch_size - batch_size_full\n",
    "    \n",
    "#     #print('epoch = {}'.format(i))\n",
    "#     start_time = time.time()\n",
    "    \n",
    "#     # loop of batch\n",
    "#     for j in range(L_train):\n",
    "        \n",
    "#         ind_full = du.shuffle_ind(L_full)\n",
    "#         ind_aug = du.shuffle_ind(L_aug)\n",
    "        \n",
    "#         file_pick_full = []\n",
    "#         for ind_temp in ind_full[:batch_size_full]:\n",
    "#             file_pick_full.append(filename_train_full[ind_temp])\n",
    "\n",
    "#         file_pick_aug = []\n",
    "#         for ind_temp in ind_aug[:batch_size_aug]:\n",
    "#             file_pick_aug.append(filename_train_aug[ind_temp])\n",
    "        \n",
    "#         file_pick = file_pick_full + file_pick_aug\n",
    "        \n",
    "#         for k in range(batch_size):\n",
    "            \n",
    "#             data = np.load(file_pick[k])\n",
    "            \n",
    "#             for c, v in enumerate(ind_pick_from_batch):\n",
    "                \n",
    "#                 X_batch[k, ..., c] = data[..., v]\n",
    "            \n",
    "#             if 'pos' in file_pick[k]:\n",
    "#                 Y_batch[k, :] = np.random.uniform(0.95, 0.99)\n",
    "#             elif 'neg' in file_pick[k]:\n",
    "#                 Y_batch[k, :] = np.random.uniform(0.01, 0.05)\n",
    "#             else:\n",
    "#                 werhgaer\n",
    "        \n",
    "#         # # add noise within sparse inputs\n",
    "#         # for v in flag_sparse:\n",
    "#         #     X_batch[..., v] += np.random.uniform(0, 0.01, size=(batch_size, 128, 128))\n",
    "\n",
    "#         # shuffle indices\n",
    "#         ind_ = du.shuffle_ind(batch_size)\n",
    "#         X_batch = X_batch[ind_, ...]\n",
    "#         Y_batch = Y_batch[ind_, :]\n",
    "        \n",
    "#         if np.sum(np.isnan(X_batch)) > 0:\n",
    "#             asfeargagqarew\n",
    "        \n",
    "#         # train on batch\n",
    "#         model.train_on_batch([X_batch,], [Y_batch,]);\n",
    "    \n",
    "#     # epoch end operations\n",
    "#     Y_pred = model.predict([VALID_input,])\n",
    "#     record_temp = verif_metric(VALID_target, Y_pred, thres=0.7)\n",
    "    \n",
    "#     if i % 10 == 0:\n",
    "#         model.save(model_path_backup)\n",
    "    \n",
    "#     if (record - record_temp > min_del) and (np.max(Y_pred) > 0.6):\n",
    "#         print('Validation loss improved from {} to {}'.format(record, record_temp))\n",
    "#         record = record_temp\n",
    "#         tol = 0\n",
    "#         #print('tol: {}'.format(tol))\n",
    "#         # save\n",
    "#         print('save to: {}'.format(model_path))\n",
    "#         model.save(model_path)\n",
    "#     else:\n",
    "#         print('Validation loss {} NOT improved'.format(record_temp))\n",
    "#         tol += 1\n",
    "#         #print('tol: {}'.format(tol))\n",
    "#         if tol >= max_tol:\n",
    "#             print('Early stopping')\n",
    "#             sys.exit();\n",
    "#         else:\n",
    "#             #print('Pass to the next epoch')\n",
    "#             continue;\n",
    "#     print(\"--- %s seconds ---\" % (time.time() - start_time))"
   ]
  },
  {
   "cell_type": "code",
   "execution_count": null,
   "id": "09bcb796-c614-4fae-871e-cfc9fadd324c",
   "metadata": {},
   "outputs": [],
   "source": []
  },
  {
   "cell_type": "code",
   "execution_count": 5,
   "id": "4aa6cda4-1594-4b14-b2ad-97b80936f447",
   "metadata": {},
   "outputs": [],
   "source": [
    "temp_dir = '/glade/work/ksha/NCAR/Keras_models/'\n",
    "\n",
    "key = 'BIG10'\n",
    "\n",
    "model_name = '{}_tornado'.format(key)\n",
    "model_path = temp_dir+model_name\n",
    "\n",
    "W_new = k_utils.dummy_loader(model_path)\n",
    "\n",
    "model.set_weights(W_new)"
   ]
  },
  {
   "cell_type": "code",
   "execution_count": 15,
   "id": "1c2a4002-27e1-492b-af4e-3ac30528d4d9",
   "metadata": {},
   "outputs": [],
   "source": [
    "Y_pred = model.predict([VALID_input,])"
   ]
  },
  {
   "cell_type": "code",
   "execution_count": 16,
   "id": "508c323f-29c9-4e5e-97d2-f22199b436c1",
   "metadata": {},
   "outputs": [
    {
     "name": "stdout",
     "output_type": "stream",
     "text": [
      "0.33404255319148934 0.004483408056800946 0.9742443883185781 2.1194029850746268\n"
     ]
    }
   ],
   "source": [
    "record_temp = verif_metric(VALID_target, Y_pred, thres=0.7)\n",
    "Y_pred_label = Y_pred > 0.7"
   ]
  },
  {
   "cell_type": "code",
   "execution_count": 19,
   "id": "4719a543-059a-4d8e-899f-248d2c94c7d2",
   "metadata": {},
   "outputs": [
    {
     "name": "stdout",
     "output_type": "stream",
     "text": [
      "              precision    recall  f1-score   support\n",
      "\n",
      "       False       1.00      1.00      1.00     59774\n",
      "        True       0.78      0.37      0.50       426\n",
      "\n",
      "    accuracy                           0.99     60200\n",
      "   macro avg       0.89      0.68      0.75     60200\n",
      "weighted avg       0.99      0.99      0.99     60200\n",
      "\n"
     ]
    }
   ],
   "source": [
    "print(classification_report(Y_pred_label.ravel(), VALID_target.ravel()))"
   ]
  },
  {
   "cell_type": "code",
   "execution_count": 22,
   "id": "6c2991df-92f5-4d77-8ba9-7b6eee205a77",
   "metadata": {},
   "outputs": [],
   "source": [
    "tn, fp, fn, tp = confusion_matrix(VALID_target.ravel(), Y_pred_label.ravel()).ravel()"
   ]
  },
  {
   "cell_type": "code",
   "execution_count": 23,
   "id": "b8874901-03df-445e-82c9-9e3023ee9fc7",
   "metadata": {},
   "outputs": [
    {
     "name": "stdout",
     "output_type": "stream",
     "text": [
      "CSI = 0.33404255319148934\n"
     ]
    }
   ],
   "source": [
    "CSI = tp/(tp+fn+fp)\n",
    "print('CSI = {}'.format(CSI))"
   ]
  },
  {
   "cell_type": "code",
   "execution_count": 27,
   "id": "b7524d71-f1f6-48d9-9e33-d10e5d59b709",
   "metadata": {},
   "outputs": [
    {
     "name": "stdout",
     "output_type": "stream",
     "text": [
      "Prob. of False Detection = 0.004483408056800946\n"
     ]
    }
   ],
   "source": [
    "POFD = fp/(tn+fp)\n",
    "print('Prob. of False Detection = {}'.format(POFD))"
   ]
  },
  {
   "cell_type": "code",
   "execution_count": 25,
   "id": "71f8abbc-ec69-438b-ba59-4a52a3e0b88d",
   "metadata": {},
   "outputs": [
    {
     "name": "stdout",
     "output_type": "stream",
     "text": [
      "freq bias = 2.1194029850746268\n"
     ]
    }
   ],
   "source": [
    "freq = (tp+fp)/(tp+fn)\n",
    "print('freq bias = {}'.format(freq))"
   ]
  },
  {
   "cell_type": "code",
   "execution_count": 26,
   "id": "a8268932-91c0-48be-ae75-5de69eb7036c",
   "metadata": {},
   "outputs": [
    {
     "name": "stdout",
     "output_type": "stream",
     "text": [
      "AUC = 0.9742443883185781\n"
     ]
    }
   ],
   "source": [
    "fpr, tpr, _ = roc_curve(VALID_target.ravel(), Y_pred.ravel())\n",
    "AUC = auc(fpr, tpr)\n",
    "\n",
    "print('AUC = {}'.format(AUC))"
   ]
  },
  {
   "cell_type": "code",
   "execution_count": 30,
   "id": "949c295b-e524-46b5-804d-b1737d404f86",
   "metadata": {},
   "outputs": [
    {
     "data": {
      "text/plain": [
       "[<matplotlib.lines.Line2D at 0x2b7071c75220>]"
      ]
     },
     "execution_count": 30,
     "metadata": {},
     "output_type": "execute_result"
    },
    {
     "data": {
      "image/png": "[encoded data removed]",
      "text/plain": [
       "<Figure size 648x648 with 1 Axes>"
      ]
     },
     "metadata": {},
     "output_type": "display_data"
    }
   ],
   "source": [
    "fig = plt.figure(figsize=(9, 9))\n",
    "ax = fig.gca()\n",
    "ax = gu.ax_decorate_box(ax)\n",
    "ax.set_xlim([0, 1])\n",
    "ax.set_ylim([0, 1])\n",
    "ax.plot(fpr, tpr, lw=3)\n",
    "ax.plot(fpr, fpr, 'r--', lw=3)"
   ]
  },
  {
   "cell_type": "code",
   "execution_count": null,
   "id": "d332cfe9-95dc-44a9-bf26-fe570a748d41",
   "metadata": {},
   "outputs": [],
   "source": []
  },
  {
   "cell_type": "code",
   "execution_count": null,
   "id": "70b361cb-d0b1-44e5-9182-83d9b9a92844",
   "metadata": {},
   "outputs": [],
   "source": []
  }
 ],
 "metadata": {
  "kernelspec": {
   "display_name": "Python 3 (ipykernel)",
   "language": "python",
   "name": "python3"
  },
  "language_info": {
   "codemirror_mode": {
    "name": "ipython",
    "version": 3
   },
   "file_extension": ".py",
   "mimetype": "text/x-python",
   "name": "python",
   "nbconvert_exporter": "python",
   "pygments_lexer": "ipython3",
   "version": "3.9.13"
  }
 },
 "nbformat": 4,
 "nbformat_minor": 5
}
