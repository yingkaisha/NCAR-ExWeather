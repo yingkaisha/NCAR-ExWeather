{
 "cells": [
  {
   "cell_type": "code",
   "execution_count": 1,
   "id": "bfadc704-c82d-4e01-bc6d-99445f446a7d",
   "metadata": {},
   "outputs": [],
   "source": [
    "# general tools\n",
    "import sys\n",
    "import time\n",
    "from glob import glob\n",
    "\n",
    "# data tools\n",
    "import zarr\n",
    "import h5py\n",
    "import random\n",
    "from datetime import datetime, timedelta\n",
    "import numpy as np\n",
    "from random import shuffle\n",
    "from scipy.spatial import cKDTree\n",
    "\n",
    "import matplotlib.pyplot as plt\n",
    "%matplotlib inline"
   ]
  },
  {
   "cell_type": "code",
   "execution_count": 2,
   "id": "8e6783f3-6fd4-4e49-88f7-a8b44703b0d4",
   "metadata": {},
   "outputs": [
    {
     "name": "stderr",
     "output_type": "stream",
     "text": [
      "2022-08-27 22:31:20.601855: I tensorflow/stream_executor/platform/default/dso_loader.cc:49] Successfully opened dynamic library libcudart.so.10.1\n"
     ]
    }
   ],
   "source": [
    "# deep learning tools\n",
    "import tensorflow as tf\n",
    "from tensorflow import keras\n",
    "\n",
    "from keras_unet_collection import models as k_models\n",
    "from keras_unet_collection import utils as k_utils\n",
    "from keras_unet_collection import layer_utils as k_layers\n",
    "from keras_unet_collection.activations import GELU"
   ]
  },
  {
   "cell_type": "code",
   "execution_count": 3,
   "id": "64aa0d28-e9aa-4ccf-8090-d724ccc3a43c",
   "metadata": {},
   "outputs": [],
   "source": [
    "sys.path.insert(0, '/glade/u/home/ksha/NCAR/')\n",
    "sys.path.insert(0, '/glade/u/home/ksha/NCAR/libs/')\n",
    "\n",
    "from namelist import *\n",
    "import data_utils as du\n",
    "import graph_utils as gu"
   ]
  },
  {
   "cell_type": "code",
   "execution_count": null,
   "id": "3fa6568a-f9ab-4e12-b6e6-02d3b5b85443",
   "metadata": {},
   "outputs": [],
   "source": []
  },
  {
   "cell_type": "code",
   "execution_count": 4,
   "id": "98d9c6fe-8e5f-46d2-952b-13a4c2cc7eb9",
   "metadata": {},
   "outputs": [],
   "source": [
    "lead = 21"
   ]
  },
  {
   "cell_type": "code",
   "execution_count": 5,
   "id": "70719a6d-e3c6-45ce-907d-963dd1e9246d",
   "metadata": {},
   "outputs": [],
   "source": [
    "means = [\n",
    "    -6.335041783675384,\n",
    "    101598.30648208999,\n",
    "    2.4340308170812857,\n",
    "    0.0238316214287872,\n",
    "    0.0115228964831135,\n",
    "    0.015723252607236175,\n",
    "    0.00010298927478466365,\n",
    "    0.00013315081911787703,\n",
    "    0.02022990418418194,\n",
    "    285.1588453352469,\n",
    "    280.69456763975046,\n",
    "    0.18025322895802864,\n",
    "    -0.35625256772098957,\n",
    "    4.466962100212334,\n",
    "    0.10710428466431396,\n",
    "    311.51020050786116,\n",
    "    -22.95554152474839,\n",
    "    95.80303950026172,\n",
    "    41.22773039479408,\n",
    "    2.696538199313979,\n",
    "    0.257023643073863,\n",
    "    11.80181492281666,\n",
    "    0.15778718430103703,\n",
    "];\n",
    "\n",
    "stds = [\n",
    "    8.872575669978966,\n",
    "    672.3339463894478,\n",
    "    7.555104640235371,\n",
    "    0.5696550725786566,\n",
    "    0.2283199203388272,\n",
    "    0.37333362094670486,\n",
    "    0.00022281640603195643,\n",
    "    0.0002413561909874066,\n",
    "    0.3589573748563584,\n",
    "    11.553795616392204,\n",
    "    12.101590155483459,\n",
    "    3.1758721705443826,\n",
    "    3.6588052023281175,\n",
    "    2.6995797278745948,\n",
    "    0.9896017905552607,\n",
    "    748.8376068157106,\n",
    "    78.895180023938,\n",
    "    104.17948262883918*2,\n",
    "    77.25788246299936*2,\n",
    "    5.35086729614372,\n",
    "    5.438075471238217,\n",
    "    11.440203318938076,\n",
    "    11.327741531273508\n",
    "];\n"
   ]
  },
  {
   "cell_type": "code",
   "execution_count": 6,
   "id": "60161c83-b710-488e-a999-229d6ed5a651",
   "metadata": {},
   "outputs": [],
   "source": [
    "ind_pick = [0, 1, 3, 4, 5, 9, 10, 11, 12, 13, 14, 15, 16, 17, 18, 19, 20, 21, 22]\n",
    "\n",
    "log_norm = [True, False, True, True, True, True, True, True, True, False, False, \n",
    "            False, False, True, True, True, True, False, False, False, False, False, False]\n",
    "\n",
    "sparse = [True, False, True, True, True, True, True, True, True, False, False, \n",
    "          False, False, False, True, True, True, False, False, False, False, False, False]\n",
    "\n"
   ]
  },
  {
   "cell_type": "code",
   "execution_count": 7,
   "id": "a2ff44d8-f3d7-4e16-816e-c30a0368274b",
   "metadata": {},
   "outputs": [],
   "source": [
    "#HRRRv3_lead = zarr.load(save_dir_scratch+'HRRR_{:02}_v3.zarr'.format(lead))\n",
    "\n",
    "HRRRv3_lead = np.zeros((872, 1059, 1799, 23))"
   ]
  },
  {
   "cell_type": "code",
   "execution_count": null,
   "id": "2a0d388d-2965-4cf5-b693-91d418cb9c7b",
   "metadata": {},
   "outputs": [],
   "source": []
  },
  {
   "cell_type": "code",
   "execution_count": 8,
   "id": "6b8dd785-07bf-4b9f-9203-d9e2eb9231c3",
   "metadata": {},
   "outputs": [],
   "source": [
    "def neighbour_leads(lead):\n",
    "    out = [lead-2, lead-1, lead, lead+1, lead+2]\n",
    "    flag_shift = [0, 0, 0, 0, 0]\n",
    "    \n",
    "    for i in range(5):\n",
    "        if out[i] < 0:\n",
    "            out[i] = 24+out[i]\n",
    "            flag_shift[i] = -1\n",
    "        if out[i] > 23:\n",
    "            out[i] = out[i]-24\n",
    "            flag_shift[i] = +1\n",
    "            \n",
    "    return out, flag_shift"
   ]
  },
  {
   "cell_type": "code",
   "execution_count": 9,
   "id": "6014350f-764f-466a-9c1f-552c7fd2fb4c",
   "metadata": {},
   "outputs": [],
   "source": [
    "lead_window, flag_shift = neighbour_leads(lead)"
   ]
  },
  {
   "cell_type": "code",
   "execution_count": 10,
   "id": "6fab9932-996a-4752-a6bc-75e9dfbde056",
   "metadata": {},
   "outputs": [],
   "source": [
    "record_all = ()\n",
    "\n",
    "for i, lead_temp in enumerate(lead_window):\n",
    "    \n",
    "    flag_ = flag_shift[i]\n",
    "    if lead_temp > 0:\n",
    "        with h5py.File(save_dir_scratch+'SPC_to_lead{}_72km_all.hdf'.format(lead_temp), 'r') as h5io:\n",
    "            record_temp = h5io['record_v3'][...]\n",
    "\n",
    "        if flag_shift[i] == 0:\n",
    "            record_all = record_all + (record_temp,)\n",
    "\n",
    "        if flag_shift[i] == -1:\n",
    "            record_temp[1:, ...] = record_temp[:-1, ...]\n",
    "            record_temp[0, ...] = np.nan\n",
    "            record_all = record_all + (record_temp,)\n",
    "\n",
    "        if flag_shift[i] == +1:\n",
    "            record_temp[:-1, ...] = record_temp[1:, ...]\n",
    "            record_temp[-1, ...] = np.nan\n",
    "            record_all = record_all + (record_temp,)\n",
    "\n",
    "\n",
    "shape_record = record_temp.shape      \n",
    "record_v3 = np.empty(shape_record)\n",
    "record_v3[...] = np.nan\n",
    "\n",
    "for i in range(len(record_all)):\n",
    "    record_temp = record_all[i]\n",
    "    for day in range(shape_record[0]):\n",
    "        for ix in range(shape_record[1]):\n",
    "            for iy in range(shape_record[2]):\n",
    "                if np.logical_not(np.isnan(record_temp[day, ix, iy])):\n",
    "                    record_v3[day, ix, iy] = record_temp[day, ix, iy]\n",
    "    "
   ]
  },
  {
   "cell_type": "code",
   "execution_count": null,
   "id": "e11848e9-d108-4f78-8f17-6eabfdd61d91",
   "metadata": {},
   "outputs": [],
   "source": []
  },
  {
   "cell_type": "code",
   "execution_count": 11,
   "id": "0b549af6-f28c-4c2b-8131-54e656f91010",
   "metadata": {},
   "outputs": [],
   "source": [
    "with h5py.File(save_dir+'HRRR_domain.hdf', 'r') as h5io:\n",
    "    lon_3km = h5io['lon_3km'][...]\n",
    "    lat_3km = h5io['lat_3km'][...]\n",
    "    lon_72km = h5io['lon_72km'][...]\n",
    "    lat_72km = h5io['lat_72km'][...]\n",
    "    \n",
    "shape_72km = lon_72km.shape\n",
    "shape_3km = lon_3km.shape\n",
    "grid_shape = (872, 1059, 1799, 23)"
   ]
  },
  {
   "cell_type": "code",
   "execution_count": null,
   "id": "91d0093f-c3b4-4824-8b81-2302b772b631",
   "metadata": {},
   "outputs": [],
   "source": []
  },
  {
   "cell_type": "code",
   "execution_count": null,
   "id": "4cfd53a8-807a-4c7e-9f8b-299e86b5c556",
   "metadata": {},
   "outputs": [],
   "source": []
  },
  {
   "cell_type": "code",
   "execution_count": 12,
   "id": "c8ae0d80-ea51-4449-9f07-5f5e0f730d6a",
   "metadata": {},
   "outputs": [],
   "source": [
    "indx_array = np.empty(shape_72km)\n",
    "indy_array = np.empty(shape_72km)\n",
    "\n",
    "gridTree = cKDTree(list(zip(lon_3km.ravel(), lat_3km.ravel()))) #KDTree_wraper(xgrid, ygrid)\n",
    "\n",
    "for xi in range(shape_72km[0]):\n",
    "    for yi in range(shape_72km[1]):\n",
    "        \n",
    "        temp_lon = lon_72km[xi, yi]\n",
    "        temp_lat = lat_72km[xi, yi]\n",
    "        \n",
    "        dist, indexes = gridTree.query(list(zip(np.array(temp_lon)[None], np.array(temp_lat)[None])))\n",
    "        indx_3km, indy_3km = np.unravel_index(indexes, shape_3km)\n",
    "        \n",
    "        indx_array[xi, yi] = indx_3km[0]\n",
    "        indy_array[xi, yi] = indy_3km[0]"
   ]
  },
  {
   "cell_type": "code",
   "execution_count": null,
   "id": "4e639753-1f4e-4bdc-a1c9-782ada72227a",
   "metadata": {},
   "outputs": [],
   "source": []
  },
  {
   "cell_type": "code",
   "execution_count": 13,
   "id": "58587b20-850f-44e0-ac31-dfef7bdb0789",
   "metadata": {},
   "outputs": [],
   "source": [
    "input_size = 128\n",
    "half_margin = 64\n",
    "\n",
    "day_start = 595+41\n",
    "day_end = day_start+12\n",
    "N_valid = day_end - day_start\n",
    "\n",
    "# 15 days max"
   ]
  },
  {
   "cell_type": "code",
   "execution_count": 14,
   "id": "e16e871b-46cc-445d-a63d-4cb99cc956d2",
   "metadata": {},
   "outputs": [],
   "source": [
    "N_vars = len(ind_pick)\n",
    "\n",
    "single_day = np.empty((1,)+grid_shape[1:3]+(N_vars,))\n",
    "single_day[...] = np.nan\n",
    "\n",
    "N_per_day = 2691\n",
    "\n",
    "TEST_input = np.empty((N_valid*N_per_day, input_size, input_size, N_vars))\n",
    "TEST_target = np.empty((N_valid*N_per_day))"
   ]
  },
  {
   "cell_type": "code",
   "execution_count": null,
   "id": "f1f38efa-33ca-4e77-8515-b7f39d1b9b37",
   "metadata": {},
   "outputs": [],
   "source": [
    "\n",
    "count = 0\n",
    "for iday, day in enumerate(range(day_start, day_end, 1)):\n",
    "    #print('Process day: {}'.format(day))\n",
    "    #start_time = time.time()\n",
    "    for c, v in enumerate(ind_pick):\n",
    "        temp = HRRRv3_lead[day, ..., v]\n",
    "        if v == 0:\n",
    "            temp[temp<0] = 0\n",
    "        if log_norm[v]:\n",
    "            temp = np.log(np.abs(temp)+1)\n",
    "        else:\n",
    "            temp = (temp - means[v])/stds[v]\n",
    "\n",
    "        single_day[..., c] = temp\n",
    "\n",
    "    for xi in range(shape_72km[0]):\n",
    "        for yi in range(shape_72km[1]):\n",
    "            \n",
    "            indx_3km = int(indx_array[xi, yi])\n",
    "            indy_3km = int(indy_array[xi, yi])\n",
    "\n",
    "            x_edge_left = indx_3km - half_margin\n",
    "            x_edge_right = indx_3km + half_margin\n",
    "\n",
    "            y_edge_bottom = indy_3km - half_margin\n",
    "            y_edge_top = indy_3km + half_margin\n",
    "\n",
    "            if x_edge_left >= 0 and y_edge_bottom >= 0 and x_edge_right <= shape_3km[0] and y_edge_top <= shape_3km[1]:\n",
    "\n",
    "                TEST_input[count, ...] = single_day[0, x_edge_left:x_edge_right, y_edge_bottom:y_edge_top, :]\n",
    "                TEST_target[count] = record_v3[day, xi, yi]\n",
    "                count += 1\n",
    "                \n",
    "    #print(\"--- %s seconds ---\" % (time.time() - start_time))"
   ]
  },
  {
   "cell_type": "code",
   "execution_count": 17,
   "id": "3f7355ee-9b80-4941-84a5-0d0962a424fc",
   "metadata": {},
   "outputs": [
    {
     "data": {
      "text/plain": [
       "169"
      ]
     },
     "execution_count": 17,
     "metadata": {},
     "output_type": "execute_result"
    }
   ],
   "source": [
    "np.sum(np.logical_not(np.isnan(TEST_target)))"
   ]
  },
  {
   "cell_type": "code",
   "execution_count": 16,
   "id": "e6860645-f9e1-4d3b-a611-2543a97f37e9",
   "metadata": {},
   "outputs": [
    {
     "data": {
      "text/plain": [
       "[<matplotlib.lines.Line2D at 0x2bd1f0ea0220>]"
      ]
     },
     "execution_count": 16,
     "metadata": {},
     "output_type": "execute_result"
    },
    {
     "data": {
      "image/png": "[encoded data removed]",
      "text/plain": [
       "<Figure size 432x288 with 1 Axes>"
      ]
     },
     "metadata": {
      "needs_background": "light"
     },
     "output_type": "display_data"
    }
   ],
   "source": [
    "plt.plot(TEST_target)"
   ]
  },
  {
   "cell_type": "code",
   "execution_count": 32,
   "id": "a1dc9d28-f9ff-4a21-a014-147e5b0d70c4",
   "metadata": {},
   "outputs": [
    {
     "data": {
      "text/plain": [
       "40365"
      ]
     },
     "execution_count": 32,
     "metadata": {},
     "output_type": "execute_result"
    }
   ],
   "source": [
    "2691*15"
   ]
  },
  {
   "cell_type": "code",
   "execution_count": 51,
   "id": "29d6ad23-4017-4685-ba0c-a2912d182f92",
   "metadata": {},
   "outputs": [
    {
     "data": {
      "text/plain": [
       "41.06280193236715"
      ]
     },
     "execution_count": 51,
     "metadata": {},
     "output_type": "execute_result"
    }
   ],
   "source": [
    "110500/2691"
   ]
  },
  {
   "cell_type": "code",
   "execution_count": 52,
   "id": "e19e1b78-5060-4d81-bf0d-1678b69b7cd1",
   "metadata": {},
   "outputs": [
    {
     "data": {
      "text/plain": [
       "53.88331475287997"
      ]
     },
     "execution_count": 52,
     "metadata": {},
     "output_type": "execute_result"
    }
   ],
   "source": [
    "145000/2691"
   ]
  },
  {
   "cell_type": "code",
   "execution_count": null,
   "id": "ec7e3631-39ca-44e3-931f-384517c4b970",
   "metadata": {},
   "outputs": [],
   "source": []
  },
  {
   "cell_type": "code",
   "execution_count": null,
   "id": "f6654a6c-c2d7-49d1-9718-9f8ca19e6676",
   "metadata": {},
   "outputs": [],
   "source": []
  },
  {
   "cell_type": "code",
   "execution_count": null,
   "id": "02254696-d132-47ed-a8d0-6ce2210401d7",
   "metadata": {},
   "outputs": [],
   "source": []
  },
  {
   "cell_type": "code",
   "execution_count": null,
   "id": "3dddc8f7-5c2f-4ed7-adcc-53c1380f104b",
   "metadata": {},
   "outputs": [],
   "source": []
  },
  {
   "cell_type": "code",
   "execution_count": 9,
   "id": "38874436-12c6-4fde-b91b-144134439ae2",
   "metadata": {},
   "outputs": [
    {
     "name": "stderr",
     "output_type": "stream",
     "text": [
      "2022-08-25 17:12:49.293248: I tensorflow/compiler/jit/xla_cpu_device.cc:41] Not creating XLA devices, tf_xla_enable_xla_devices not set\n",
      "2022-08-25 17:12:49.294624: I tensorflow/stream_executor/platform/default/dso_loader.cc:49] Successfully opened dynamic library libcuda.so.1\n",
      "2022-08-25 17:12:49.346237: I tensorflow/core/common_runtime/gpu/gpu_device.cc:1720] Found device 0 with properties: \n",
      "pciBusID: 0000:89:00.0 name: Tesla V100-SXM2-32GB computeCapability: 7.0\n",
      "coreClock: 1.53GHz coreCount: 80 deviceMemorySize: 31.75GiB deviceMemoryBandwidth: 836.37GiB/s\n",
      "2022-08-25 17:12:49.346283: I tensorflow/stream_executor/platform/default/dso_loader.cc:49] Successfully opened dynamic library libcudart.so.10.1\n",
      "2022-08-25 17:12:49.348797: I tensorflow/stream_executor/platform/default/dso_loader.cc:49] Successfully opened dynamic library libcublas.so.10\n",
      "2022-08-25 17:12:49.348864: I tensorflow/stream_executor/platform/default/dso_loader.cc:49] Successfully opened dynamic library libcublasLt.so.10\n",
      "2022-08-25 17:12:49.351143: I tensorflow/stream_executor/platform/default/dso_loader.cc:49] Successfully opened dynamic library libcufft.so.10\n",
      "2022-08-25 17:12:49.351610: I tensorflow/stream_executor/platform/default/dso_loader.cc:49] Successfully opened dynamic library libcurand.so.10\n",
      "2022-08-25 17:12:49.354036: I tensorflow/stream_executor/platform/default/dso_loader.cc:49] Successfully opened dynamic library libcusolver.so.10\n",
      "2022-08-25 17:12:49.355063: I tensorflow/stream_executor/platform/default/dso_loader.cc:49] Successfully opened dynamic library libcusparse.so.10\n",
      "2022-08-25 17:12:49.359906: I tensorflow/stream_executor/platform/default/dso_loader.cc:49] Successfully opened dynamic library libcudnn.so.7\n",
      "2022-08-25 17:12:49.360951: I tensorflow/core/common_runtime/gpu/gpu_device.cc:1862] Adding visible gpu devices: 0\n",
      "2022-08-25 17:12:49.361403: I tensorflow/core/platform/cpu_feature_guard.cc:142] This TensorFlow binary is optimized with oneAPI Deep Neural Network Library (oneDNN) to use the following CPU instructions in performance-critical operations:  SSE4.1 SSE4.2 AVX AVX2 AVX512F FMA\n",
      "To enable them in other operations, rebuild TensorFlow with the appropriate compiler flags.\n",
      "2022-08-25 17:12:49.361666: I tensorflow/compiler/jit/xla_gpu_device.cc:99] Not creating XLA devices, tf_xla_enable_xla_devices not set\n",
      "2022-08-25 17:12:49.362203: I tensorflow/core/common_runtime/gpu/gpu_device.cc:1720] Found device 0 with properties: \n",
      "pciBusID: 0000:89:00.0 name: Tesla V100-SXM2-32GB computeCapability: 7.0\n",
      "coreClock: 1.53GHz coreCount: 80 deviceMemorySize: 31.75GiB deviceMemoryBandwidth: 836.37GiB/s\n",
      "2022-08-25 17:12:49.362235: I tensorflow/stream_executor/platform/default/dso_loader.cc:49] Successfully opened dynamic library libcudart.so.10.1\n",
      "2022-08-25 17:12:49.362255: I tensorflow/stream_executor/platform/default/dso_loader.cc:49] Successfully opened dynamic library libcublas.so.10\n",
      "2022-08-25 17:12:49.362265: I tensorflow/stream_executor/platform/default/dso_loader.cc:49] Successfully opened dynamic library libcublasLt.so.10\n",
      "2022-08-25 17:12:49.362275: I tensorflow/stream_executor/platform/default/dso_loader.cc:49] Successfully opened dynamic library libcufft.so.10\n",
      "2022-08-25 17:12:49.362286: I tensorflow/stream_executor/platform/default/dso_loader.cc:49] Successfully opened dynamic library libcurand.so.10\n",
      "2022-08-25 17:12:49.362295: I tensorflow/stream_executor/platform/default/dso_loader.cc:49] Successfully opened dynamic library libcusolver.so.10\n",
      "2022-08-25 17:12:49.362305: I tensorflow/stream_executor/platform/default/dso_loader.cc:49] Successfully opened dynamic library libcusparse.so.10\n",
      "2022-08-25 17:12:49.362315: I tensorflow/stream_executor/platform/default/dso_loader.cc:49] Successfully opened dynamic library libcudnn.so.7\n",
      "2022-08-25 17:12:49.363149: I tensorflow/core/common_runtime/gpu/gpu_device.cc:1862] Adding visible gpu devices: 0\n",
      "2022-08-25 17:12:49.363177: I tensorflow/stream_executor/platform/default/dso_loader.cc:49] Successfully opened dynamic library libcudart.so.10.1\n",
      "2022-08-25 17:12:49.956785: I tensorflow/core/common_runtime/gpu/gpu_device.cc:1261] Device interconnect StreamExecutor with strength 1 edge matrix:\n",
      "2022-08-25 17:12:49.956858: I tensorflow/core/common_runtime/gpu/gpu_device.cc:1267]      0 \n",
      "2022-08-25 17:12:49.956868: I tensorflow/core/common_runtime/gpu/gpu_device.cc:1280] 0:   N \n",
      "2022-08-25 17:12:49.958504: I tensorflow/core/common_runtime/gpu/gpu_device.cc:1406] Created TensorFlow device (/job:localhost/replica:0/task:0/device:GPU:0 with 30132 MB memory) -> physical GPU (device: 0, name: Tesla V100-SXM2-32GB, pci bus id: 0000:89:00.0, compute capability: 7.0)\n"
     ]
    }
   ],
   "source": [
    "IN = tf.keras.Input((128, 128, 19))\n",
    "\n",
    "X = IN\n",
    "\n",
    "X = k_layers.CONV_stack(X, 32, kernel_size=3, stack_num=2, dilation_rate=1, activation='GELU', batch_norm=True, name='conv_stack1')\n",
    "X = tf.keras.layers.Conv2D(32, kernel_size=2, strides=(2, 2), padding='valid', use_bias=True, name='stride_conv1')(X)\n",
    "\n",
    "X = k_layers.CONV_stack(X, 64, kernel_size=3, stack_num=2, dilation_rate=1, activation='GELU', batch_norm=True, name='conv_stack2')\n",
    "X = tf.keras.layers.Conv2D(64, kernel_size=2, strides=(2, 2), padding='valid', use_bias=True, name='stride_conv2')(X)\n",
    "\n",
    "X = k_layers.CONV_stack(X, 128, kernel_size=3, stack_num=2, dilation_rate=1, activation='GELU', batch_norm=True, name='conv_stack3')\n",
    "X = tf.keras.layers.Conv2D(128, kernel_size=2, strides=(2, 2), padding='valid', use_bias=True, name='stride_conv3')(X)\n",
    "\n",
    "X = k_layers.CONV_stack(X, 256, kernel_size=3, stack_num=2, dilation_rate=1, activation='GELU', batch_norm=True, name='conv_stack4')\n",
    "X = tf.keras.layers.Conv2D(256, kernel_size=2, strides=(2, 2), padding='valid', use_bias=True, name='stride_conv4')(X)\n",
    "\n",
    "X = k_layers.CONV_stack(X, 512, kernel_size=3, stack_num=2, dilation_rate=1, activation='GELU', batch_norm=True, name='conv_stack5')\n",
    "X = tf.keras.layers.Conv2D(512, kernel_size=2, strides=(2, 2), padding='valid', use_bias=True, name='stride_conv5')(X)\n",
    "\n",
    "D = tf.keras.layers.Flatten()(X)\n",
    "\n",
    "D = tf.keras.layers.Dense(512, use_bias=False, name='dense1')(D)\n",
    "D = tf.keras.layers.BatchNormalization(axis=-1, name='dense_bn1')(D)\n",
    "D = GELU()(D)\n",
    "\n",
    "D = tf.keras.layers.Dense(128, use_bias=False, name='dense2')(D)\n",
    "D = tf.keras.layers.BatchNormalization(axis=-1, name='dense_bn2')(D)\n",
    "D = GELU()(D)\n",
    "\n",
    "D = tf.keras.layers.Dense(1, activation='sigmoid', name='head')(D)\n",
    "#D = tf.keras.layers.Softmax()(D)\n",
    "\n",
    "OUT = D"
   ]
  },
  {
   "cell_type": "code",
   "execution_count": 10,
   "id": "93bda091-9f43-4cb4-88e0-7c15a26a2405",
   "metadata": {},
   "outputs": [],
   "source": [
    "model = keras.models.Model(inputs=[IN,], outputs=[OUT,])\n",
    "model.compile(loss=keras.losses.mean_absolute_error, optimizer=keras.optimizers.Adam(lr=0))"
   ]
  },
  {
   "cell_type": "code",
   "execution_count": 11,
   "id": "6a33534c-d1fc-45c9-bad5-6236e33fc945",
   "metadata": {},
   "outputs": [],
   "source": [
    "# temp_dir = '/glade/work/ksha/NCAR/Keras_models/'\n",
    "\n",
    "# key = 'BIG10'\n",
    "\n",
    "# model_name = '{}_tornado'.format(key)\n",
    "# model_path = temp_dir+model_name\n",
    "\n",
    "# W_new = k_utils.dummy_loader(model_path)\n",
    "\n",
    "# model.set_weights(W_new)"
   ]
  },
  {
   "cell_type": "code",
   "execution_count": 21,
   "id": "60ce9ece-ad0d-4ff2-8c2e-7bc12e7799c3",
   "metadata": {},
   "outputs": [
    {
     "name": "stdout",
     "output_type": "stream",
     "text": [
      "--- 338.5734794139862 seconds ---\n"
     ]
    }
   ],
   "source": [
    "start_time = time.time()\n",
    "\n",
    "pred = model.predict([TEST_input[:40000, ...],])\n",
    "\n",
    "print(\"--- %s seconds ---\" % (time.time() - start_time))"
   ]
  },
  {
   "cell_type": "code",
   "execution_count": 20,
   "id": "f4306296-cca5-4385-8dcd-3a070716d4e8",
   "metadata": {},
   "outputs": [
    {
     "data": {
      "text/plain": [
       "[PhysicalDevice(name='/physical_device:GPU:0', device_type='GPU')]"
      ]
     },
     "execution_count": 20,
     "metadata": {},
     "output_type": "execute_result"
    }
   ],
   "source": [
    "tf.config.experimental.list_physical_devices('GPU')"
   ]
  },
  {
   "cell_type": "code",
   "execution_count": 22,
   "id": "bd9fc992-1dd1-443b-beeb-74c75d4a21ff",
   "metadata": {},
   "outputs": [
    {
     "data": {
      "text/plain": [
       "14.864362690449648"
      ]
     },
     "execution_count": 22,
     "metadata": {},
     "output_type": "execute_result"
    }
   ],
   "source": [
    "40000/2691"
   ]
  },
  {
   "cell_type": "code",
   "execution_count": null,
   "id": "69a38daa-d5f9-4859-a603-14ba80d3fda3",
   "metadata": {},
   "outputs": [],
   "source": []
  }
 ],
 "metadata": {
  "kernelspec": {
   "display_name": "Python 3 (ipykernel)",
   "language": "python",
   "name": "python3"
  },
  "language_info": {
   "codemirror_mode": {
    "name": "ipython",
    "version": 3
   },
   "file_extension": ".py",
   "mimetype": "text/x-python",
   "name": "python",
   "nbconvert_exporter": "python",
   "pygments_lexer": "ipython3",
   "version": "3.9.13"
  }
 },
 "nbformat": 4,
 "nbformat_minor": 5
}
