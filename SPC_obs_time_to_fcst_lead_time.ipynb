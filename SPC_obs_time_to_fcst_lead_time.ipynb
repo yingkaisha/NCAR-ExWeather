{
 "cells": [
  {
   "cell_type": "code",
   "execution_count": 1,
   "id": "3b40241b-87d9-42f7-9c73-98d39d5877f0",
   "metadata": {},
   "outputs": [],
   "source": [
    "import sys\n",
    "from glob import glob\n",
    "\n",
    "import h5py\n",
    "import numpy as np\n",
    "import pandas as pd\n",
    "from datetime import datetime, timedelta"
   ]
  },
  {
   "cell_type": "code",
   "execution_count": 2,
   "id": "644a803c-bf8d-477a-af55-b80f7163c543",
   "metadata": {},
   "outputs": [],
   "source": [
    "sys.path.insert(0, '/glade/u/home/ksha/NCAR/')\n",
    "sys.path.insert(0, '/glade/u/home/ksha/NCAR/libs/')\n",
    "\n",
    "from namelist import *\n",
    "import data_utils as du\n",
    "import preprocess_utils as pu"
   ]
  },
  {
   "cell_type": "code",
   "execution_count": null,
   "id": "1e77ac24-1c2d-48f3-9fe9-b3a18b869452",
   "metadata": {},
   "outputs": [],
   "source": [
    "import matplotlib.pyplot as plt\n",
    "%matplotlib inline"
   ]
  },
  {
   "cell_type": "code",
   "execution_count": null,
   "id": "804bd397-6f55-4a59-91cc-2df5dc3f797c",
   "metadata": {},
   "outputs": [],
   "source": [
    "import importlib\n",
    "importlib.reload(du)"
   ]
  },
  {
   "cell_type": "code",
   "execution_count": null,
   "id": "19a3351b-96a0-49bc-8713-1200a4a5244e",
   "metadata": {},
   "outputs": [],
   "source": [
    "with h5py.File(save_dir+'HRRR_domain.hdf', 'r') as h5io:\n",
    "    lon_72km = h5io['lon_72km'][...]\n",
    "    lat_72km = h5io['lat_72km'][...]\n",
    "    lon_3km = h5io['lon_3km'][...]\n",
    "    lat_3km = h5io['lat_3km'][...]"
   ]
  },
  {
   "cell_type": "markdown",
   "id": "52a33cae-78af-4eed-906f-d8da87319ae6",
   "metadata": {},
   "source": [
    "Split based on HRRR v3 and HRRR v4\n",
    "\n",
    "Let obs time matches forecast lead time\n",
    "\n",
    "Save a HDF5"
   ]
  },
  {
   "cell_type": "code",
   "execution_count": null,
   "id": "91516451-24cb-4d68-b350-169350a0843b",
   "metadata": {},
   "outputs": [],
   "source": [
    "base_v3_s = datetime(2018, 7, 15)\n",
    "base_v3_e = datetime(2020, 12, 2)\n",
    "\n",
    "base_v4_s = datetime(2020, 12, 3)\n",
    "base_v4_e = datetime(2022, 7, 15)\n",
    "\n",
    "base_ref = datetime(2010, 1, 1)"
   ]
  },
  {
   "cell_type": "code",
   "execution_count": null,
   "id": "ac3fac00-da34-4bcd-9a12-2be8165b3636",
   "metadata": {},
   "outputs": [],
   "source": [
    "date_list_v3 = [base_v3_s + timedelta(days=day) for day in range(365+365+142)]\n",
    "date_list_v4 = [base_v4_s + timedelta(days=day) for day in range(365+180)]"
   ]
  },
  {
   "cell_type": "code",
   "execution_count": null,
   "id": "61e92dae-7c5d-48c2-bfd4-ab420a2eefbc",
   "metadata": {},
   "outputs": [],
   "source": []
  },
  {
   "cell_type": "code",
   "execution_count": 8,
   "id": "52f97249-040a-48ce-a50a-08a64b7376c2",
   "metadata": {},
   "outputs": [],
   "source": [
    "year = 2010\n",
    "file_torn = sorted(glob(report_dir+'{}_torn.csv'.format(year)))[0]"
   ]
  },
  {
   "cell_type": "code",
   "execution_count": 9,
   "id": "d501ff57-c11d-44ca-abaa-6bc7a7e0a07d",
   "metadata": {},
   "outputs": [],
   "source": [
    "df = pd.read_csv(file_torn)"
   ]
  },
  {
   "cell_type": "code",
   "execution_count": 10,
   "id": "8ec0f416-fd89-4326-aa7a-dd5848ecdee3",
   "metadata": {},
   "outputs": [],
   "source": [
    "preserve_inds = [4, 5, 6, 10, 15, 16]"
   ]
  },
  {
   "cell_type": "markdown",
   "id": "34650477-e4d6-445f-8b5d-1d9b7cd9933c",
   "metadata": {},
   "source": [
    "### 72km gridded version"
   ]
  },
  {
   "cell_type": "code",
   "execution_count": 11,
   "id": "f9fe5336-1592-4644-857f-55d1f7b648b1",
   "metadata": {},
   "outputs": [],
   "source": [
    "from scipy.spatial import cKDTree"
   ]
  },
  {
   "cell_type": "code",
   "execution_count": 12,
   "id": "7e2f1845-4ae1-4c86-babb-90f51f404296",
   "metadata": {},
   "outputs": [],
   "source": [
    "gridTree = cKDTree(list(zip(lon_72km.ravel(), lat_72km.ravel()))) #KDTree_wraper(xgrid, ygrid)"
   ]
  },
  {
   "cell_type": "code",
   "execution_count": 13,
   "id": "f49fa0f3-1053-4c2c-b6b4-24f2b7d2cb32",
   "metadata": {},
   "outputs": [],
   "source": [
    "grid_shape = lon_72km.shape"
   ]
  },
  {
   "cell_type": "code",
   "execution_count": 14,
   "id": "5b3f6eb6-0123-4337-8e2a-56d7d9721a91",
   "metadata": {},
   "outputs": [
    {
     "name": "stdout",
     "output_type": "stream",
     "text": [
      "========== Processing lead time = 0 ==========\n",
      "Save to /glade/scratch/ksha/DRIVE/SPC_to_lead0_72km.hdf\n",
      "========== Processing lead time = 1 ==========\n",
      "Save to /glade/scratch/ksha/DRIVE/SPC_to_lead1_72km.hdf\n",
      "========== Processing lead time = 2 ==========\n",
      "Save to /glade/scratch/ksha/DRIVE/SPC_to_lead2_72km.hdf\n",
      "========== Processing lead time = 3 ==========\n",
      "Save to /glade/scratch/ksha/DRIVE/SPC_to_lead3_72km.hdf\n",
      "========== Processing lead time = 4 ==========\n",
      "Save to /glade/scratch/ksha/DRIVE/SPC_to_lead4_72km.hdf\n",
      "========== Processing lead time = 5 ==========\n",
      "Save to /glade/scratch/ksha/DRIVE/SPC_to_lead5_72km.hdf\n",
      "========== Processing lead time = 6 ==========\n",
      "Save to /glade/scratch/ksha/DRIVE/SPC_to_lead6_72km.hdf\n",
      "========== Processing lead time = 7 ==========\n",
      "Save to /glade/scratch/ksha/DRIVE/SPC_to_lead7_72km.hdf\n",
      "========== Processing lead time = 8 ==========\n",
      "Save to /glade/scratch/ksha/DRIVE/SPC_to_lead8_72km.hdf\n",
      "========== Processing lead time = 9 ==========\n",
      "Save to /glade/scratch/ksha/DRIVE/SPC_to_lead9_72km.hdf\n",
      "========== Processing lead time = 10 ==========\n",
      "Save to /glade/scratch/ksha/DRIVE/SPC_to_lead10_72km.hdf\n",
      "========== Processing lead time = 11 ==========\n",
      "Save to /glade/scratch/ksha/DRIVE/SPC_to_lead11_72km.hdf\n",
      "========== Processing lead time = 12 ==========\n",
      "Save to /glade/scratch/ksha/DRIVE/SPC_to_lead12_72km.hdf\n",
      "========== Processing lead time = 13 ==========\n",
      "Save to /glade/scratch/ksha/DRIVE/SPC_to_lead13_72km.hdf\n",
      "========== Processing lead time = 14 ==========\n",
      "Save to /glade/scratch/ksha/DRIVE/SPC_to_lead14_72km.hdf\n",
      "========== Processing lead time = 15 ==========\n",
      "Save to /glade/scratch/ksha/DRIVE/SPC_to_lead15_72km.hdf\n",
      "========== Processing lead time = 16 ==========\n",
      "Save to /glade/scratch/ksha/DRIVE/SPC_to_lead16_72km.hdf\n",
      "========== Processing lead time = 17 ==========\n",
      "Save to /glade/scratch/ksha/DRIVE/SPC_to_lead17_72km.hdf\n",
      "========== Processing lead time = 18 ==========\n",
      "Save to /glade/scratch/ksha/DRIVE/SPC_to_lead18_72km.hdf\n",
      "========== Processing lead time = 19 ==========\n",
      "Save to /glade/scratch/ksha/DRIVE/SPC_to_lead19_72km.hdf\n",
      "========== Processing lead time = 20 ==========\n",
      "Save to /glade/scratch/ksha/DRIVE/SPC_to_lead20_72km.hdf\n",
      "========== Processing lead time = 21 ==========\n",
      "Save to /glade/scratch/ksha/DRIVE/SPC_to_lead21_72km.hdf\n",
      "========== Processing lead time = 22 ==========\n",
      "Save to /glade/scratch/ksha/DRIVE/SPC_to_lead22_72km.hdf\n",
      "========== Processing lead time = 23 ==========\n",
      "Save to /glade/scratch/ksha/DRIVE/SPC_to_lead23_72km.hdf\n"
     ]
    }
   ],
   "source": [
    "preserve_inds = [4, 5, 6, 10, 15, 16]\n",
    "# ['date', 'time', 'tz', 'mag', 'slat', 'slon']\n",
    "\n",
    "L_v3 = len(date_list_v3)\n",
    "L_v4 = len(date_list_v3)\n",
    "\n",
    "for lead in [0, 1, 2, 3, 4, 5, 6, 7, 8, 9, 10, 11, 12, 13, 14, 15, 16, 17, 18, 19, 20, 21, 22, 23]:\n",
    "    \n",
    "    torn_grid_v3 = np.empty((L_v3,)+lon_72km.shape)\n",
    "    torn_grid_v4 = np.empty((L_v4,)+lon_72km.shape)\n",
    "\n",
    "    torn_grid_v3[...] = np.nan\n",
    "    torn_grid_v4[...] = np.nan\n",
    "\n",
    "    print('========== Processing lead time = {} =========='.format(lead))\n",
    "\n",
    "    record_v3 = np.empty((L_v3, 3*30))*np.nan\n",
    "    record_v4 = np.empty((L_v3, 3*30))*np.nan\n",
    "\n",
    "    for y in range(2010, 2021):\n",
    "        temp_day_old = 9999\n",
    "        # Year info\n",
    "        year_int = int(y)\n",
    "        year = str(year_int)\n",
    "\n",
    "        # Raw tornado files\n",
    "        file_torn = sorted(glob(report_dir+'{}_torn.csv'.format(year)))[0]\n",
    "\n",
    "        # import csv to pandas and then np.array\n",
    "        df = pd.read_csv(file_torn)\n",
    "        temp_array = df.iloc[:, preserve_inds].values\n",
    "\n",
    "        # datetime and timezone processing\n",
    "        L = len(temp_array)\n",
    "        temp_tz = temp_array[:, 2]\n",
    "        temp_dt_list = []\n",
    "        flag_badboy = False\n",
    "\n",
    "        for i in range(L):\n",
    "            try:\n",
    "                # the string can be converted to datetime object\n",
    "                temp_localtime = datetime.strptime(temp_array[i, 0]+'|'+temp_array[i, 1], '%Y-%m-%d|%H:%M:%S')\n",
    "                flag_badboy = False\n",
    "            except:\n",
    "                # the string cannot be converted; typically a \"?\"\n",
    "                temp_localtime = np.nan\n",
    "                flag_badboy = True\n",
    "\n",
    "            # adjust timezones to UTC/GMT \n",
    "            if flag_badboy is False:\n",
    "                temp_tz = temp_array[i, 2]\n",
    "                if temp_tz == 3:\n",
    "                    temp_localtime = temp_localtime + timedelta(hours=6) # <--- !!! \"3\" means CST\n",
    "                elif temp_tz == 9:\n",
    "                    temp_localtime = temp_localtime # \"9\" means GMT\n",
    "                else:\n",
    "                    temp_localtime = np.nan # otherwise doint know\n",
    "\n",
    "            temp_dt_list.append(temp_localtime)\n",
    "\n",
    "        # Insert in-situ reports into hourly, gridded data frames    \n",
    "        ## convert slat slon to domain indices\n",
    "\n",
    "        slon = temp_array[:, 5]\n",
    "        slat = temp_array[:, 4]\n",
    "        mag = temp_array[:, 3]\n",
    "\n",
    "        flag_pick = np.logical_and(slon<-20, slat>5)\n",
    "\n",
    "        slon = slon[flag_pick]\n",
    "        slat = slat[flag_pick]\n",
    "        mag = mag[flag_pick]\n",
    "\n",
    "        L = len(slon)\n",
    "        \n",
    "        if L > 0:\n",
    "            \n",
    "            dist, indexes = gridTree.query(list(zip(np.array(slon), np.array(slat))))\n",
    "            indx, indy = np.unravel_index(indexes, grid_shape)\n",
    "            \n",
    "            for i in range(L):\n",
    "\n",
    "                # the time of a single record\n",
    "                temp_datetime = temp_dt_list[i]\n",
    "                temp_day = temp_datetime.day\n",
    "                temp_hour = temp_datetime.hour\n",
    "\n",
    "                temp_datetime_day = datetime(temp_datetime.year, temp_datetime.month, temp_day)\n",
    "\n",
    "                if (temp_day_old == temp_day) is False:\n",
    "                    count_v3 = 0\n",
    "                    count_v4 = 0\n",
    "                    temp_day_old = temp_day\n",
    "\n",
    "                if temp_hour == lead:\n",
    "                    diff_days = (temp_datetime_day - base_v4_s).days\n",
    "\n",
    "                    if diff_days > 0:\n",
    "                        #print('adding: {}'.format(temp_datetime))\n",
    "                        \n",
    "                        torn_grid_v4[diff_days, indx[i], indy[i]] = mag[i]\n",
    "                        count_v4 += 1\n",
    "\n",
    "                    else:\n",
    "                        diff_days = (temp_datetime_day - base_v3_s).days\n",
    "                        if diff_days > 0:\n",
    "                            #print('adding: {}'.format(temp_datetime))\n",
    "                            torn_grid_v3[diff_days, indx[i], indy[i]] = mag[i]\n",
    "                            count_v3 += 1\n",
    "\n",
    "                else:\n",
    "                    continue\n",
    "\n",
    "    tuple_save = (torn_grid_v3, torn_grid_v4)\n",
    "    label_save = ['record_v3', 'record_v4']\n",
    "    du.save_hdf5(tuple_save, label_save, save_dir_scratch, 'SPC_to_lead{}_72km.hdf'.format(lead))"
   ]
  },
  {
   "cell_type": "code",
   "execution_count": 15,
   "id": "7fe7dadd-6157-4207-aace-e62ca57467dd",
   "metadata": {},
   "outputs": [
    {
     "data": {
      "text/plain": [
       "<matplotlib.collections.QuadMesh at 0x2b6db7afe550>"
      ]
     },
     "execution_count": 15,
     "metadata": {},
     "output_type": "execute_result"
    },
    {
     "data": {
      "image/png": "[encoded data removed]",
      "text/plain": [
       "<Figure size 432x288 with 1 Axes>"
      ]
     },
     "metadata": {
      "needs_background": "light"
     },
     "output_type": "display_data"
    }
   ],
   "source": [
    "plt.pcolormesh(np.nansum(torn_grid_v3, axis=0), vmin=0, vmax=5)"
   ]
  },
  {
   "cell_type": "markdown",
   "id": "fc42b89f-0cac-436e-b476-a5b30ff9a676",
   "metadata": {},
   "source": [
    "### Pointed version"
   ]
  },
  {
   "cell_type": "code",
   "execution_count": 15,
   "id": "1d49b376-89ab-4583-9621-59834f62a716",
   "metadata": {},
   "outputs": [
    {
     "name": "stdout",
     "output_type": "stream",
     "text": [
      "========== Processing lead time = 0 ==========\n",
      "Save to /glade/scratch/ksha/DRIVE/SPC_to_lead0.hdf\n",
      "========== Processing lead time = 1 ==========\n",
      "Save to /glade/scratch/ksha/DRIVE/SPC_to_lead1.hdf\n",
      "========== Processing lead time = 2 ==========\n",
      "Save to /glade/scratch/ksha/DRIVE/SPC_to_lead2.hdf\n",
      "========== Processing lead time = 3 ==========\n",
      "Save to /glade/scratch/ksha/DRIVE/SPC_to_lead3.hdf\n",
      "========== Processing lead time = 4 ==========\n",
      "Save to /glade/scratch/ksha/DRIVE/SPC_to_lead4.hdf\n",
      "========== Processing lead time = 5 ==========\n",
      "Save to /glade/scratch/ksha/DRIVE/SPC_to_lead5.hdf\n",
      "========== Processing lead time = 6 ==========\n",
      "Save to /glade/scratch/ksha/DRIVE/SPC_to_lead6.hdf\n",
      "========== Processing lead time = 7 ==========\n",
      "Save to /glade/scratch/ksha/DRIVE/SPC_to_lead7.hdf\n",
      "========== Processing lead time = 8 ==========\n",
      "Save to /glade/scratch/ksha/DRIVE/SPC_to_lead8.hdf\n",
      "========== Processing lead time = 9 ==========\n",
      "Save to /glade/scratch/ksha/DRIVE/SPC_to_lead9.hdf\n",
      "========== Processing lead time = 10 ==========\n",
      "Save to /glade/scratch/ksha/DRIVE/SPC_to_lead10.hdf\n",
      "========== Processing lead time = 11 ==========\n",
      "Save to /glade/scratch/ksha/DRIVE/SPC_to_lead11.hdf\n",
      "========== Processing lead time = 12 ==========\n",
      "Save to /glade/scratch/ksha/DRIVE/SPC_to_lead12.hdf\n",
      "========== Processing lead time = 13 ==========\n",
      "Save to /glade/scratch/ksha/DRIVE/SPC_to_lead13.hdf\n",
      "========== Processing lead time = 14 ==========\n",
      "Save to /glade/scratch/ksha/DRIVE/SPC_to_lead14.hdf\n",
      "========== Processing lead time = 15 ==========\n",
      "Save to /glade/scratch/ksha/DRIVE/SPC_to_lead15.hdf\n",
      "========== Processing lead time = 16 ==========\n",
      "Save to /glade/scratch/ksha/DRIVE/SPC_to_lead16.hdf\n",
      "========== Processing lead time = 17 ==========\n",
      "Save to /glade/scratch/ksha/DRIVE/SPC_to_lead17.hdf\n",
      "========== Processing lead time = 18 ==========\n",
      "Save to /glade/scratch/ksha/DRIVE/SPC_to_lead18.hdf\n",
      "========== Processing lead time = 19 ==========\n",
      "Save to /glade/scratch/ksha/DRIVE/SPC_to_lead19.hdf\n",
      "========== Processing lead time = 20 ==========\n",
      "Save to /glade/scratch/ksha/DRIVE/SPC_to_lead20.hdf\n",
      "========== Processing lead time = 21 ==========\n",
      "Save to /glade/scratch/ksha/DRIVE/SPC_to_lead21.hdf\n",
      "========== Processing lead time = 22 ==========\n",
      "Save to /glade/scratch/ksha/DRIVE/SPC_to_lead22.hdf\n",
      "========== Processing lead time = 23 ==========\n",
      "Save to /glade/scratch/ksha/DRIVE/SPC_to_lead23.hdf\n"
     ]
    }
   ],
   "source": [
    "preserve_inds = [4, 5, 6, 10, 15, 16]\n",
    "# ['date', 'time', 'tz', 'mag', 'slat', 'slon']\n",
    "\n",
    "L_v3 = len(date_list_v3)\n",
    "L_v4 = len(date_list_v3)\n",
    "\n",
    "for lead in [0, 1, 2, 3, 4, 5, 6, 7, 8, 9, 10, 11, 12, 13, 14, 15, 16, 17, 18, 19, 20, 21, 22, 23]:\n",
    "\n",
    "    print('========== Processing lead time = {} =========='.format(lead))\n",
    "\n",
    "    record_v3 = np.empty((L_v3, 3*30))\n",
    "    record_v3[...] = np.nan\n",
    "    record_v4 = np.empty((L_v3, 3*30))\n",
    "    record_v4[...] = np.nan\n",
    "\n",
    "    for y in range(2010, 2021):\n",
    "        temp_day_old = 9999\n",
    "        # Year info\n",
    "        year_int = int(y)\n",
    "        year = str(year_int)\n",
    "\n",
    "        # Raw tornado files\n",
    "        file_torn = sorted(glob(report_dir+'{}_torn.csv'.format(year)))[0]\n",
    "\n",
    "        # import csv to pandas and then np.array\n",
    "        df = pd.read_csv(file_torn)\n",
    "        temp_array = df.iloc[:, preserve_inds].values\n",
    "\n",
    "        # datetime and timezone processing\n",
    "        L = len(temp_array)\n",
    "        temp_tz = temp_array[:, 2]\n",
    "        temp_dt_list = []\n",
    "        flag_badboy = False\n",
    "\n",
    "        for i in range(L):\n",
    "            try:\n",
    "                # the string can be converted to datetime object\n",
    "                temp_localtime = datetime.strptime(temp_array[i, 0]+'|'+temp_array[i, 1], '%Y-%m-%d|%H:%M:%S')\n",
    "                flag_badboy = False\n",
    "            except:\n",
    "                # the string cannot be converted; typically a \"?\"\n",
    "                temp_localtime = np.nan\n",
    "                flag_badboy = True\n",
    "\n",
    "            # adjust timezones to UTC/GMT \n",
    "            if flag_badboy is False:\n",
    "                temp_tz = temp_array[i, 2]\n",
    "                if temp_tz == 3:\n",
    "                    temp_localtime = temp_localtime + timedelta(hours=6) # <--- !!! \"3\" means CST\n",
    "                elif temp_tz == 9:\n",
    "                    temp_localtime = temp_localtime # \"9\" means GMT\n",
    "                else:\n",
    "                    temp_localtime = np.nan # otherwise doint know\n",
    "\n",
    "            temp_dt_list.append(temp_localtime)\n",
    "\n",
    "        # Insert in-situ reports into hourly, gridded data frames    \n",
    "        ## convert slat slon to domain indices\n",
    "\n",
    "        slon = temp_array[:, 5]\n",
    "        slat = temp_array[:, 4]\n",
    "        mag = temp_array[:, 3]\n",
    "\n",
    "        flag_pick = np.logical_and(slon<-20, slat>5)\n",
    "\n",
    "        slon = slon[flag_pick]\n",
    "        slat = slat[flag_pick]\n",
    "        mag = mag[flag_pick]\n",
    "\n",
    "        L = len(slon)\n",
    "\n",
    "        for i in range(L):\n",
    "            \n",
    "            # the time of a single record\n",
    "            temp_datetime = temp_dt_list[i]\n",
    "            temp_day = temp_datetime.day\n",
    "            temp_hour = temp_datetime.hour\n",
    "            \n",
    "            temp_datetime_day = datetime(temp_datetime.year, temp_datetime.month, temp_day)\n",
    "            \n",
    "            if (temp_day_old == temp_day) is False:\n",
    "                count_v3 = 0\n",
    "                count_v4 = 0\n",
    "                temp_day_old = temp_day\n",
    "            \n",
    "            if temp_hour == lead:\n",
    "                diff_days = (temp_datetime_day - base_v4_s).days\n",
    "\n",
    "                if diff_days > 0:\n",
    "                    #print('adding: {}'.format(temp_datetime))\n",
    "                    record_v4[diff_days, 3*count_v4] = slon[i]\n",
    "                    record_v4[diff_days, 3*count_v4+1] = slat[i]\n",
    "                    record_v4[diff_days, 3*count_v4+2] = mag[i]\n",
    "                    count_v4 += 1\n",
    "                    \n",
    "                else:\n",
    "                    diff_days = (temp_datetime_day - base_v3_s).days\n",
    "                    if diff_days > 0:\n",
    "                        #print('adding: {}'.format(temp_datetime))\n",
    "                        record_v3[diff_days, 3*count_v3] = slon[i]\n",
    "                        record_v3[diff_days, 3*count_v3+1] = slat[i]\n",
    "                        record_v3[diff_days, 3*count_v3+2] = mag[i]\n",
    "                        count_v3 += 1\n",
    "\n",
    "            else:\n",
    "                continue\n",
    "\n",
    "    tuple_save = (record_v3, record_v4)\n",
    "    label_save = ['record_v3', 'record_v4']\n",
    "    du.save_hdf5(tuple_save, label_save, save_dir_scratch, 'SPC_to_lead{}.hdf'.format(lead))\n"
   ]
  },
  {
   "cell_type": "code",
   "execution_count": 2,
   "id": "7c9c2975-d636-4278-ade4-4f51deea610e",
   "metadata": {},
   "outputs": [
    {
     "data": {
      "text/plain": [
       "163.84"
      ]
     },
     "execution_count": 2,
     "metadata": {},
     "output_type": "execute_result"
    }
   ],
   "source": [
    "128*128*0.01"
   ]
  },
  {
   "cell_type": "code",
   "execution_count": null,
   "id": "7e602f95-c69b-4cf4-83f6-f51126077451",
   "metadata": {},
   "outputs": [],
   "source": []
  },
  {
   "cell_type": "code",
   "execution_count": null,
   "id": "fef80b02-cd5f-4412-ad08-6e72c1cd618f",
   "metadata": {},
   "outputs": [],
   "source": []
  },
  {
   "cell_type": "code",
   "execution_count": null,
   "id": "356959f7-def4-470f-a729-271f406ee653",
   "metadata": {},
   "outputs": [],
   "source": []
  }
 ],
 "metadata": {
  "kernelspec": {
   "display_name": "Python 3 (ipykernel)",
   "language": "python",
   "name": "python3"
  },
  "language_info": {
   "codemirror_mode": {
    "name": "ipython",
    "version": 3
   },
   "file_extension": ".py",
   "mimetype": "text/x-python",
   "name": "python",
   "nbconvert_exporter": "python",
   "pygments_lexer": "ipython3",
   "version": "3.9.13"
  }
 },
 "nbformat": 4,
 "nbformat_minor": 5
}
