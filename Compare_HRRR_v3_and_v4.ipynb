{
 "cells": [
  {
   "cell_type": "code",
   "execution_count": 1,
   "id": "455bb7b0-6855-4be1-9ec5-bb5ff16fc6fc",
   "metadata": {},
   "outputs": [],
   "source": [
    "import sys\n",
    "from glob import glob\n",
    "\n",
    "import h5py\n",
    "import pygrib\n",
    "import numpy as np\n",
    "import pandas as pd\n",
    "from datetime import datetime, timedelta"
   ]
  },
  {
   "cell_type": "code",
   "execution_count": 2,
   "id": "f14d5e2e-30d8-4154-8824-65f8960c6924",
   "metadata": {},
   "outputs": [],
   "source": [
    "sys.path.insert(0, '/glade/u/home/ksha/NCAR/')\n",
    "sys.path.insert(0, '/glade/u/home/ksha/NCAR/libs/')\n",
    "\n",
    "from namelist import *\n",
    "import data_utils as du\n",
    "import preprocess_utils as pu"
   ]
  },
  {
   "cell_type": "code",
   "execution_count": 3,
   "id": "b32c4cc5-5638-4aaf-b1bd-6a8febeb7830",
   "metadata": {},
   "outputs": [],
   "source": [
    "import matplotlib.pyplot as plt\n",
    "%matplotlib inline"
   ]
  },
  {
   "cell_type": "code",
   "execution_count": 4,
   "id": "fd7b873b-25af-488a-9079-958171d6e4aa",
   "metadata": {},
   "outputs": [
    {
     "data": {
      "text/plain": [
       "<module 'data_utils' from '/glade/u/home/ksha/NCAR/libs/data_utils.py'>"
      ]
     },
     "execution_count": 4,
     "metadata": {},
     "output_type": "execute_result"
    }
   ],
   "source": [
    "import importlib\n",
    "importlib.reload(du)"
   ]
  },
  {
   "cell_type": "code",
   "execution_count": 5,
   "id": "ac4702d3-2581-4796-815e-8cfb6e6f215f",
   "metadata": {},
   "outputs": [],
   "source": [
    "import scipy.stats"
   ]
  },
  {
   "cell_type": "markdown",
   "id": "2199d605-dd5f-487c-8055-63a0627d9656",
   "metadata": {},
   "source": [
    "### U10"
   ]
  },
  {
   "cell_type": "code",
   "execution_count": 6,
   "id": "617750c6-dc6e-4b19-ac63-f925fff5b5b0",
   "metadata": {},
   "outputs": [],
   "source": [
    "u_bins = np.linspace(-40, 40, 160)"
   ]
  },
  {
   "cell_type": "code",
   "execution_count": 7,
   "id": "cf8fc308-35e0-4e1d-acd8-340d0b8f0b6b",
   "metadata": {},
   "outputs": [],
   "source": [
    "with h5py.File('/glade/scratch/ksha/DRIVE/SPC_3km_grid/HRRRv3_envi.hdf', 'r') as h5io:\n",
    "    lon = h5io['lon'][...]\n",
    "    lat = h5io['lat'][...]\n",
    "    land_mask = h5io['land_mask'][...]\n",
    "    u10v3 = h5io['u10'][...]\n",
    "    \n",
    "with h5py.File('/glade/scratch/ksha/DRIVE/SPC_3km_grid/HRRRv4_envi.hdf', 'r') as h5io:\n",
    "    u10v4 = h5io['u10'][...]"
   ]
  },
  {
   "cell_type": "code",
   "execution_count": 7,
   "id": "a270ab21-b41b-418b-b04a-fa3efd725f36",
   "metadata": {},
   "outputs": [],
   "source": [
    "u10v3[:, land_mask==0] = np.nan\n",
    "u10v4[:, land_mask==0] = np.nan"
   ]
  },
  {
   "cell_type": "code",
   "execution_count": 26,
   "id": "9e45518c-2ce8-45f0-b160-e3d64284c619",
   "metadata": {},
   "outputs": [],
   "source": [
    "# plt.pcolormesh(land_mask)"
   ]
  },
  {
   "cell_type": "code",
   "execution_count": 15,
   "id": "14a7d660-2f15-4880-8891-0b7c08c7cd73",
   "metadata": {},
   "outputs": [
    {
     "data": {
      "text/plain": [
       "<matplotlib.legend.Legend at 0x2ad098dedc40>"
      ]
     },
     "execution_count": 15,
     "metadata": {},
     "output_type": "execute_result"
    },
    {
     "data": {
      "image/png": "[encoded data removed]",
      "text/plain": [
       "<Figure size 936x360 with 1 Axes>"
      ]
     },
     "metadata": {
      "needs_background": "light"
     },
     "output_type": "display_data"
    }
   ],
   "source": [
    "plt.figure(figsize=(13, 5))\n",
    "ax = plt.gca()\n",
    "ax.hist(u10v3[:, 100:900, 600:].ravel(), u_bins, density=True, log=True, alpha=0.5, label='HRRRv3');\n",
    "ax.hist(u10v4[:, 100:900, 600:].ravel(), u_bins, density=True, log=True, alpha=0.5, label='HRRRv4');\n",
    "\n",
    "ax.set_title(\"U10 | Mar-Oct | Great Plain + East Coast | 12-hr lead time | Histogram frequency |\", fontsize=14)\n",
    "ax.legend()"
   ]
  },
  {
   "cell_type": "markdown",
   "id": "df3925d5-73de-4d7d-a97f-147300385a80",
   "metadata": {},
   "source": [
    "**HRRRv3**"
   ]
  },
  {
   "cell_type": "code",
   "execution_count": 18,
   "id": "a700c8bc-baae-40bd-b2d7-2b6a71d5a65d",
   "metadata": {},
   "outputs": [
    {
     "name": "stdout",
     "output_type": "stream",
     "text": [
      "HRRR v3 U10 mean: 0.1601510279499188\n",
      "HRRR v3 U10 std: 2.170468660536615\n"
     ]
    }
   ],
   "source": [
    "print('HRRR v3 U10 mean: {}'.format(np.nanmean(u10v3[:, 100:900, 600:])))\n",
    "print('HRRR v3 U10 std: {}'.format(np.nanstd(u10v3[:, 100:900, 600:])))"
   ]
  },
  {
   "cell_type": "code",
   "execution_count": 19,
   "id": "4a8b729d-a4a9-4b0d-b138-58e5aef6e8ad",
   "metadata": {},
   "outputs": [
    {
     "name": "stdout",
     "output_type": "stream",
     "text": [
      "HRRR v3 U10 skewness: 2.4734981423223936\n",
      "HRRR v3 U10 kurtosis: 102.36591096724749\n"
     ]
    }
   ],
   "source": [
    "skew_ = scipy.stats.moment(u10v3[:, 100:900, 600:].ravel(), moment=3, nan_policy='omit')\n",
    "kurt_ = scipy.stats.moment(u10v3[:, 100:900, 600:].ravel(), moment=4, nan_policy='omit')\n",
    "print('HRRR v3 U10 skewness: {}'.format(skew_))\n",
    "print('HRRR v3 U10 kurtosis: {}'.format(kurt_))"
   ]
  },
  {
   "cell_type": "markdown",
   "id": "1c07ba12-9333-493a-944c-888026dae9ad",
   "metadata": {},
   "source": [
    "**HRRRv4**"
   ]
  },
  {
   "cell_type": "code",
   "execution_count": 20,
   "id": "34cbc4b3-5f1e-4d99-b57c-403df279b755",
   "metadata": {},
   "outputs": [
    {
     "name": "stdout",
     "output_type": "stream",
     "text": [
      "HRRR v4 U10 mean: 0.21132719145568304\n",
      "HRRR v4 U10 std: 2.4371927843270123\n"
     ]
    }
   ],
   "source": [
    "print('HRRR v4 U10 mean: {}'.format(np.nanmean(u10v4[:, 100:900, 600:])))\n",
    "print('HRRR v4 U10 std: {}'.format(np.nanstd(u10v4[:, 100:900, 600:])))"
   ]
  },
  {
   "cell_type": "code",
   "execution_count": 21,
   "id": "94d6df3e-0b54-4e2f-adb5-b0f182019711",
   "metadata": {},
   "outputs": [
    {
     "name": "stdout",
     "output_type": "stream",
     "text": [
      "HRRR v4 U10 skewness: 3.87949265002145\n",
      "HRRR v4 U10 kurtosis: 163.14530502895835\n"
     ]
    }
   ],
   "source": [
    "skew_ = scipy.stats.moment(u10v4[:, 100:900, 600:].ravel(), moment=3, nan_policy='omit')\n",
    "kurt_ = scipy.stats.moment(u10v4[:, 100:900, 600:].ravel(), moment=4, nan_policy='omit')\n",
    "print('HRRR v4 U10 skewness: {}'.format(skew_))\n",
    "print('HRRR v4 U10 kurtosis: {}'.format(kurt_))"
   ]
  },
  {
   "cell_type": "markdown",
   "id": "f63eda68-0c25-4ea9-acb9-c80426fa9568",
   "metadata": {},
   "source": [
    "### V10"
   ]
  },
  {
   "cell_type": "code",
   "execution_count": null,
   "id": "8c04e98e-e785-4a09-bdaa-8849c0438911",
   "metadata": {},
   "outputs": [],
   "source": [
    "v_bins = np.linspace(-40, 40, 160)"
   ]
  },
  {
   "cell_type": "code",
   "execution_count": 9,
   "id": "8f93f2b9-f3e8-4928-b74d-42f59a9d046a",
   "metadata": {},
   "outputs": [],
   "source": [
    "with h5py.File('/glade/scratch/ksha/DRIVE/SPC_3km_grid/HRRRv3_envi.hdf', 'r') as h5io:\n",
    "    lon = h5io['lon'][...]\n",
    "    lat = h5io['lat'][...]\n",
    "    land_mask = h5io['land_mask'][...]\n",
    "    v10v3 = h5io['v10'][...]\n",
    "    \n",
    "with h5py.File('/glade/scratch/ksha/DRIVE/SPC_3km_grid/HRRRv4_envi.hdf', 'r') as h5io:\n",
    "    v10v4 = h5io['v10'][...]"
   ]
  },
  {
   "cell_type": "code",
   "execution_count": 10,
   "id": "64175942-5d88-47ee-9906-90d3d1bbc8c2",
   "metadata": {},
   "outputs": [],
   "source": [
    "v10v3[:, land_mask==0] = np.nan\n",
    "v10v4[:, land_mask==0] = np.nan"
   ]
  },
  {
   "cell_type": "code",
   "execution_count": 16,
   "id": "2d3a5ae8-495d-4c96-b6af-25539ea92e11",
   "metadata": {},
   "outputs": [
    {
     "data": {
      "text/plain": [
       "<matplotlib.legend.Legend at 0x2ad41eacd610>"
      ]
     },
     "execution_count": 16,
     "metadata": {},
     "output_type": "execute_result"
    },
    {
     "data": {
      "image/png": "[encoded data removed]",
      "text/plain": [
       "<Figure size 936x360 with 1 Axes>"
      ]
     },
     "metadata": {
      "needs_background": "light"
     },
     "output_type": "display_data"
    }
   ],
   "source": [
    "plt.figure(figsize=(13, 5))\n",
    "ax = plt.gca()\n",
    "ax.hist(v10v3[:, 100:900, 600:].ravel(), v_bins, density=True, log=True, alpha=0.5, label='HRRRv3');\n",
    "ax.hist(v10v4[:, 100:900, 600:].ravel(), v_bins, density=True, log=True, alpha=0.5, label='HRRRv4');\n",
    "\n",
    "ax.set_title(\"V10 | Mar-Oct | Great Plain + East Coast | 12-hr lead time | Histogram frequency |\", fontsize=14)\n",
    "ax.legend()"
   ]
  },
  {
   "cell_type": "markdown",
   "id": "8045fb3c-4bb0-44d4-ab56-9cefdc6b5629",
   "metadata": {},
   "source": [
    "**HRRRv3**"
   ]
  },
  {
   "cell_type": "code",
   "execution_count": 22,
   "id": "297ab645-411d-401c-b899-3136a13f6336",
   "metadata": {},
   "outputs": [
    {
     "name": "stdout",
     "output_type": "stream",
     "text": [
      "HRRR v3 V10 mean: 0.2614327459687993\n",
      "HRRR v3 V10 std: 2.455961457839735\n"
     ]
    }
   ],
   "source": [
    "print('HRRR v3 V10 mean: {}'.format(np.nanmean(v10v3[:, 100:900, 600:])))\n",
    "print('HRRR v3 V10 std: {}'.format(np.nanstd(v10v3[:, 100:900, 600:])))"
   ]
  },
  {
   "cell_type": "code",
   "execution_count": 23,
   "id": "736d774d-21b8-40f8-827b-ee9bec3b00ec",
   "metadata": {},
   "outputs": [
    {
     "name": "stdout",
     "output_type": "stream",
     "text": [
      "HRRR v3 V10 skewness: -2.2763076523121604\n",
      "HRRR v3 V10 kurtosis: 151.0234839942244\n"
     ]
    }
   ],
   "source": [
    "skew_ = scipy.stats.moment(v10v3[:, 100:900, 600:].ravel(), moment=3, nan_policy='omit')\n",
    "kurt_ = scipy.stats.moment(v10v3[:, 100:900, 600:].ravel(), moment=4, nan_policy='omit')\n",
    "print('HRRR v3 V10 skewness: {}'.format(skew_))\n",
    "print('HRRR v3 V10 kurtosis: {}'.format(kurt_))"
   ]
  },
  {
   "cell_type": "markdown",
   "id": "1e4b1c3b-6f0d-4c48-9cae-82f017af4562",
   "metadata": {},
   "source": [
    "**HRRRv4**"
   ]
  },
  {
   "cell_type": "code",
   "execution_count": 24,
   "id": "529b7aa6-0a7e-4728-b6f8-2824781dca5f",
   "metadata": {},
   "outputs": [
    {
     "name": "stdout",
     "output_type": "stream",
     "text": [
      "HRRR v4 V10 mean: 0.39033211154691994\n",
      "HRRR v4 V10 std: 2.8364436494787926\n"
     ]
    }
   ],
   "source": [
    "print('HRRR v4 V10 mean: {}'.format(np.nanmean(v10v4[:, 100:900, 600:])))\n",
    "print('HRRR v4 V10 std: {}'.format(np.nanstd(v10v4[:, 100:900, 600:])))"
   ]
  },
  {
   "cell_type": "code",
   "execution_count": 25,
   "id": "38efec76-3ed3-48f1-94f3-ad6a1fdc2681",
   "metadata": {},
   "outputs": [
    {
     "name": "stdout",
     "output_type": "stream",
     "text": [
      "HRRR v4 V10 skewness: -3.075483166633807\n",
      "HRRR v4 V10 kurtosis: 258.6921760772796\n"
     ]
    }
   ],
   "source": [
    "skew_ = scipy.stats.moment(v10v4[:, 100:900, 600:].ravel(), moment=3, nan_policy='omit')\n",
    "kurt_ = scipy.stats.moment(v10v4[:, 100:900, 600:].ravel(), moment=4, nan_policy='omit')\n",
    "print('HRRR v4 V10 skewness: {}'.format(skew_))\n",
    "print('HRRR v4 V10 kurtosis: {}'.format(kurt_))"
   ]
  },
  {
   "cell_type": "markdown",
   "id": "fcd4663b-5b7d-47c3-b4da-01e15ad9687d",
   "metadata": {},
   "source": [
    "### CAPE"
   ]
  },
  {
   "cell_type": "code",
   "execution_count": 76,
   "id": "63e7e891-8c60-4b32-8ff7-93df58a7915c",
   "metadata": {},
   "outputs": [],
   "source": [
    "cape_bins = np.linspace(0, 7750, 160)"
   ]
  },
  {
   "cell_type": "code",
   "execution_count": 35,
   "id": "5b7191e1-a562-4d84-b30b-a9fd0891608c",
   "metadata": {},
   "outputs": [],
   "source": [
    "with h5py.File('/glade/scratch/ksha/DRIVE/SPC_3km_grid/HRRRv3_envi.hdf', 'r') as h5io:\n",
    "    lon = h5io['lon'][...]\n",
    "    lat = h5io['lat'][...]\n",
    "    land_mask = h5io['land_mask'][...]\n",
    "    capev3 = h5io['cape'][...]\n",
    "    \n",
    "with h5py.File('/glade/scratch/ksha/DRIVE/SPC_3km_grid/HRRRv4_envi.hdf', 'r') as h5io:\n",
    "    capev4 = h5io['cape'][...]"
   ]
  },
  {
   "cell_type": "code",
   "execution_count": 36,
   "id": "1b757dc7-b32b-4e13-99a7-52231b2fc01d",
   "metadata": {},
   "outputs": [],
   "source": [
    "capev3[:, land_mask==0] = np.nan\n",
    "capev4[:, land_mask==0] = np.nan"
   ]
  },
  {
   "cell_type": "code",
   "execution_count": 78,
   "id": "3e0e663e-9548-4257-b195-5595c24dca7f",
   "metadata": {},
   "outputs": [
    {
     "data": {
      "text/plain": [
       "<matplotlib.legend.Legend at 0x2ad41e92a430>"
      ]
     },
     "execution_count": 78,
     "metadata": {},
     "output_type": "execute_result"
    },
    {
     "data": {
      "image/png": "[encoded data removed]",
      "text/plain": [
       "<Figure size 936x360 with 1 Axes>"
      ]
     },
     "metadata": {
      "needs_background": "light"
     },
     "output_type": "display_data"
    }
   ],
   "source": [
    "plt.figure(figsize=(13, 5))\n",
    "ax = plt.gca()\n",
    "ax.hist(capev3[:, 100:900, 600:].ravel(), cape_bins, density=True, log=True, alpha=0.5, label='HRRRv3');\n",
    "ax.hist(capev4[:, 100:900, 600:].ravel(), cape_bins, density=True, log=True, alpha=0.5, label='HRRRv4');\n",
    "ax.set_title(\"CAPE | Mar-Oct | Great Plain + East Coast | 12-hr lead time | Histogram frequency |\", fontsize=14)\n",
    "ax.legend()"
   ]
  },
  {
   "cell_type": "markdown",
   "id": "b5d1655b-d747-469f-bebf-9d43867955bb",
   "metadata": {},
   "source": [
    "**HRRR v3**"
   ]
  },
  {
   "cell_type": "code",
   "execution_count": 37,
   "id": "c5f167de-e36f-43b4-857a-76e5fd9c26da",
   "metadata": {},
   "outputs": [
    {
     "name": "stdout",
     "output_type": "stream",
     "text": [
      "HRRR v3 CAPE mean: 274.16913270979893\n",
      "HRRR v3 CAPE std: 571.0875740860216\n"
     ]
    }
   ],
   "source": [
    "print('HRRR v3 CAPE mean: {}'.format(np.nanmean(capev3[:, 100:900, 600:])))\n",
    "print('HRRR v3 CAPE std: {}'.format(np.nanstd(capev3[:, 100:900, 600:])))"
   ]
  },
  {
   "cell_type": "code",
   "execution_count": 38,
   "id": "992a80a5-064f-41b6-b1e5-01db916e6ca6",
   "metadata": {},
   "outputs": [
    {
     "name": "stdout",
     "output_type": "stream",
     "text": [
      "HRRR v3 CAPE skewness: 503911739.3878189\n",
      "HRRR v3 CAPE kurtosis: 1174511507196.8235\n"
     ]
    }
   ],
   "source": [
    "skew_ = scipy.stats.moment(capev3[:, 100:900, 600:].ravel(), moment=3, nan_policy='omit')\n",
    "kurt_ = scipy.stats.moment(capev3[:, 100:900, 600:].ravel(), moment=4, nan_policy='omit')\n",
    "print('HRRR v3 CAPE skewness: {}'.format(skew_))\n",
    "print('HRRR v3 CAPE kurtosis: {}'.format(kurt_))"
   ]
  },
  {
   "cell_type": "markdown",
   "id": "f6e65298-52a6-4fdf-9c70-89d47b970a77",
   "metadata": {},
   "source": [
    "**HRRR v4**"
   ]
  },
  {
   "cell_type": "code",
   "execution_count": 39,
   "id": "fddce39e-20e8-4392-9e80-bdba008fb188",
   "metadata": {},
   "outputs": [
    {
     "name": "stdout",
     "output_type": "stream",
     "text": [
      "HRRR v4 CAPE mean: 258.79834102404357\n",
      "HRRR v4 CAPE std: 570.2401668367827\n"
     ]
    }
   ],
   "source": [
    "print('HRRR v4 CAPE mean: {}'.format(np.nanmean(capev4[:, 100:900, 600:])))\n",
    "print('HRRR v4 CAPE std: {}'.format(np.nanstd(capev4[:, 100:900, 600:])))"
   ]
  },
  {
   "cell_type": "code",
   "execution_count": 40,
   "id": "7608d9f2-8044-4b89-964e-d2e62f9f91ad",
   "metadata": {},
   "outputs": [
    {
     "name": "stdout",
     "output_type": "stream",
     "text": [
      "HRRR v4 CAPE skewness: 514532542.39848816\n",
      "HRRR v4 CAPE kurtosis: 1182950967083.3835\n"
     ]
    }
   ],
   "source": [
    "skew_ = scipy.stats.moment(capev4[:, 100:900, 600:].ravel(), moment=3, nan_policy='omit')\n",
    "kurt_ = scipy.stats.moment(capev4[:, 100:900, 600:].ravel(), moment=4, nan_policy='omit')\n",
    "print('HRRR v4 CAPE skewness: {}'.format(skew_))\n",
    "print('HRRR v4 CAPE kurtosis: {}'.format(kurt_))"
   ]
  },
  {
   "cell_type": "markdown",
   "id": "0d03d10d-dc7b-437c-ba0a-52760be1ca07",
   "metadata": {},
   "source": [
    "### CIN"
   ]
  },
  {
   "cell_type": "code",
   "execution_count": 77,
   "id": "3b704d09-f52d-4d1b-a1bd-f02b1c46fc6c",
   "metadata": {},
   "outputs": [],
   "source": [
    "cin_bins = np.linspace(-1500, 5, 160)"
   ]
  },
  {
   "cell_type": "code",
   "execution_count": 42,
   "id": "c036e655-855e-4f25-bb90-8e796963b359",
   "metadata": {},
   "outputs": [],
   "source": [
    "with h5py.File('/glade/scratch/ksha/DRIVE/SPC_3km_grid/HRRRv3_envi.hdf', 'r') as h5io:\n",
    "    lon = h5io['lon'][...]\n",
    "    lat = h5io['lat'][...]\n",
    "    land_mask = h5io['land_mask'][...]\n",
    "    cinv3 = h5io['cin'][...]\n",
    "    \n",
    "with h5py.File('/glade/scratch/ksha/DRIVE/SPC_3km_grid/HRRRv4_envi.hdf', 'r') as h5io:\n",
    "    cinv4 = h5io['cin'][...]"
   ]
  },
  {
   "cell_type": "code",
   "execution_count": 43,
   "id": "5f20a34f-2b79-44a4-a6ab-a56771134635",
   "metadata": {},
   "outputs": [],
   "source": [
    "cinv3[:, land_mask==0] = np.nan\n",
    "cinv4[:, land_mask==0] = np.nan"
   ]
  },
  {
   "cell_type": "code",
   "execution_count": 65,
   "id": "a737ef81-aaf8-4c9e-b5af-c148ca568d44",
   "metadata": {},
   "outputs": [
    {
     "data": {
      "text/plain": [
       "-1860.0"
      ]
     },
     "execution_count": 65,
     "metadata": {},
     "output_type": "execute_result"
    }
   ],
   "source": [
    "np.nanmin(cinv3)"
   ]
  },
  {
   "cell_type": "code",
   "execution_count": 66,
   "id": "befbffdf-0c0e-4cd7-b751-14450bd663ce",
   "metadata": {},
   "outputs": [
    {
     "data": {
      "text/plain": [
       "4.8760986328125"
      ]
     },
     "execution_count": 66,
     "metadata": {},
     "output_type": "execute_result"
    }
   ],
   "source": [
    "np.nanmax(cinv3)"
   ]
  },
  {
   "cell_type": "code",
   "execution_count": 72,
   "id": "77cf88be-9dca-41c2-92a4-90853fa8a50b",
   "metadata": {},
   "outputs": [
    {
     "data": {
      "text/plain": [
       "<matplotlib.legend.Legend at 0x2ad09ae6c610>"
      ]
     },
     "execution_count": 72,
     "metadata": {},
     "output_type": "execute_result"
    },
    {
     "data": {
      "image/png": "[encoded data removed]",
      "text/plain": [
       "<Figure size 936x360 with 1 Axes>"
      ]
     },
     "metadata": {
      "needs_background": "light"
     },
     "output_type": "display_data"
    }
   ],
   "source": [
    "plt.figure(figsize=(13, 5))\n",
    "ax = plt.gca()\n",
    "ax.hist(cinv3[:, 100:900, 600:].ravel(), cin_bins, density=True, log=True, alpha=0.5, label='HRRRv3');\n",
    "ax.hist(cinv4[:, 100:900, 600:].ravel(), cin_bins, density=True, log=True, alpha=0.5, label='HRRRv4');\n",
    "ax.set_title(\"CIN | Mar-Oct | Great Plain + East Coast | 12-hr lead time | Histogram frequency |\", fontsize=14)\n",
    "ax.legend()"
   ]
  },
  {
   "cell_type": "markdown",
   "id": "ef195773-dd7c-46df-be38-240deda8c243",
   "metadata": {},
   "source": [
    "**HRRR v3**"
   ]
  },
  {
   "cell_type": "code",
   "execution_count": 44,
   "id": "00ab3a10-66de-4cac-8e7f-ca6be60ba00b",
   "metadata": {},
   "outputs": [
    {
     "name": "stdout",
     "output_type": "stream",
     "text": [
      "HRRR v3 CIN mean: -55.30354082469729\n",
      "HRRR v3 CIN std: 118.39540070407779\n"
     ]
    }
   ],
   "source": [
    "print('HRRR v3 CIN mean: {}'.format(np.nanmean(cinv3[:, 100:900, 600:])))\n",
    "print('HRRR v3 CIN std: {}'.format(np.nanstd(cinv3[:, 100:900, 600:])))"
   ]
  },
  {
   "cell_type": "code",
   "execution_count": 45,
   "id": "3fcd40fc-71fb-4661-944a-289307ab3e4d",
   "metadata": {},
   "outputs": [
    {
     "name": "stdout",
     "output_type": "stream",
     "text": [
      "HRRR v3 CIN skewness: -5073074.912202495\n",
      "HRRR v3 CIN kurtosis: 2786383191.2247252\n"
     ]
    }
   ],
   "source": [
    "skew_ = scipy.stats.moment(cinv3[:, 100:900, 600:].ravel(), moment=3, nan_policy='omit')\n",
    "kurt_ = scipy.stats.moment(cinv3[:, 100:900, 600:].ravel(), moment=4, nan_policy='omit')\n",
    "print('HRRR v3 CIN skewness: {}'.format(skew_))\n",
    "print('HRRR v3 CIN kurtosis: {}'.format(kurt_))"
   ]
  },
  {
   "cell_type": "markdown",
   "id": "1d021bff-04a8-425d-a191-d849846b7668",
   "metadata": {},
   "source": [
    "**HRRR v4**"
   ]
  },
  {
   "cell_type": "code",
   "execution_count": 46,
   "id": "33953538-87fe-4ca4-9d95-e5af1e2d66e2",
   "metadata": {},
   "outputs": [
    {
     "name": "stdout",
     "output_type": "stream",
     "text": [
      "HRRR v4 CIN mean: -50.67588889235598\n",
      "HRRR v4 CIN std: 118.05256312140511\n"
     ]
    }
   ],
   "source": [
    "print('HRRR v4 CIN mean: {}'.format(np.nanmean(cinv4[:, 100:900, 600:])))\n",
    "print('HRRR v4 CIN std: {}'.format(np.nanstd(cinv4[:, 100:900, 600:])))"
   ]
  },
  {
   "cell_type": "code",
   "execution_count": 47,
   "id": "44fcb0a4-7695-43d6-b5f1-32c076aadbce",
   "metadata": {},
   "outputs": [
    {
     "name": "stdout",
     "output_type": "stream",
     "text": [
      "HRRR v4 CIN skewness: -5614980.338803498\n",
      "HRRR v4 CIN kurtosis: 3366865700.980714\n"
     ]
    }
   ],
   "source": [
    "skew_ = scipy.stats.moment(cinv4[:, 100:900, 600:].ravel(), moment=3, nan_policy='omit')\n",
    "kurt_ = scipy.stats.moment(cinv4[:, 100:900, 600:].ravel(), moment=4, nan_policy='omit')\n",
    "print('HRRR v4 CIN skewness: {}'.format(skew_))\n",
    "print('HRRR v4 CIN kurtosis: {}'.format(kurt_))"
   ]
  },
  {
   "cell_type": "markdown",
   "id": "4daeaa50-63bf-4b98-8fdf-4bc789f6c319",
   "metadata": {},
   "source": [
    "### Storm relative helicity"
   ]
  },
  {
   "cell_type": "code",
   "execution_count": 73,
   "id": "2a7bdbbb-8151-4ccb-9c0d-dc74321f8368",
   "metadata": {},
   "outputs": [],
   "source": [
    "heli_bins = np.linspace(-1000, 1500, 160)"
   ]
  },
  {
   "cell_type": "code",
   "execution_count": 48,
   "id": "2745dd29-4dcd-4714-8cf0-57f9ea81e831",
   "metadata": {},
   "outputs": [],
   "source": [
    "with h5py.File('/glade/scratch/ksha/DRIVE/SPC_3km_grid/HRRRv3_envi.hdf', 'r') as h5io:\n",
    "    lon = h5io['lon'][...]\n",
    "    lat = h5io['lat'][...]\n",
    "    land_mask = h5io['land_mask'][...]\n",
    "    heliv3 = h5io['heli'][...]\n",
    "    \n",
    "with h5py.File('/glade/scratch/ksha/DRIVE/SPC_3km_grid/HRRRv4_envi.hdf', 'r') as h5io:\n",
    "    heliv4 = h5io['heli'][...]"
   ]
  },
  {
   "cell_type": "code",
   "execution_count": 49,
   "id": "77d08946-83a1-4115-bc81-bc1a02ae5c52",
   "metadata": {},
   "outputs": [],
   "source": [
    "heliv3[:, land_mask==0] = np.nan\n",
    "heliv4[:, land_mask==0] = np.nan"
   ]
  },
  {
   "cell_type": "code",
   "execution_count": 74,
   "id": "2582f50b-69c0-4f95-89ce-b6d55f06fb70",
   "metadata": {},
   "outputs": [
    {
     "data": {
      "text/plain": [
       "<matplotlib.legend.Legend at 0x2ad09b283a90>"
      ]
     },
     "execution_count": 74,
     "metadata": {},
     "output_type": "execute_result"
    },
    {
     "data": {
      "image/png": "[encoded data removed]",
      "text/plain": [
       "<Figure size 936x360 with 1 Axes>"
      ]
     },
     "metadata": {
      "needs_background": "light"
     },
     "output_type": "display_data"
    }
   ],
   "source": [
    "plt.figure(figsize=(13, 5))\n",
    "ax = plt.gca()\n",
    "ax.hist(heliv3[:, 100:900, 600:].ravel(), heli_bins, density=True, log=True, alpha=0.5, label='HRRRv3');\n",
    "ax.hist(heliv4[:, 100:900, 600:].ravel(), heli_bins, density=True, log=True, alpha=0.5, label='HRRRv4');\n",
    "\n",
    "ax.set_title(\"Storm relative heli | Mar-Oct | Great Plain + East Coast | 12-hr lead time | Histogram frequency |\", fontsize=14)\n",
    "ax.legend()"
   ]
  },
  {
   "cell_type": "markdown",
   "id": "203dbb42-8540-4f65-9e81-ec8febfbaada",
   "metadata": {},
   "source": [
    "**HRRR v3**"
   ]
  },
  {
   "cell_type": "code",
   "execution_count": 50,
   "id": "75fa09ca-e540-4a0f-bf44-6eb0b31eb160",
   "metadata": {},
   "outputs": [
    {
     "name": "stdout",
     "output_type": "stream",
     "text": [
      "HRRR v3 HELI mean: 45.24279860913006\n",
      "HRRR v3 HELI std: 83.94013083482265\n"
     ]
    }
   ],
   "source": [
    "print('HRRR v3 HELI mean: {}'.format(np.nanmean(heliv3[:, 100:900, 600:])))\n",
    "print('HRRR v3 HELI std: {}'.format(np.nanstd(heliv3[:, 100:900, 600:])))"
   ]
  },
  {
   "cell_type": "code",
   "execution_count": 51,
   "id": "d94156f8-dfc8-45f5-b0e6-8762fbe1304a",
   "metadata": {},
   "outputs": [
    {
     "name": "stdout",
     "output_type": "stream",
     "text": [
      "HRRR v3 HELI skewness: 810293.234420496\n",
      "HRRR v3 HELI kurtosis: 374280417.4025157\n"
     ]
    }
   ],
   "source": [
    "skew_ = scipy.stats.moment(heliv3[:, 100:900, 600:].ravel(), moment=3, nan_policy='omit')\n",
    "kurt_ = scipy.stats.moment(heliv3[:, 100:900, 600:].ravel(), moment=4, nan_policy='omit')\n",
    "print('HRRR v3 HELI skewness: {}'.format(skew_))\n",
    "print('HRRR v3 HELI kurtosis: {}'.format(kurt_))"
   ]
  },
  {
   "cell_type": "markdown",
   "id": "4166e35e-dfbc-4a4d-995a-2bbe7f01b106",
   "metadata": {},
   "source": [
    "**HRRR v4**"
   ]
  },
  {
   "cell_type": "code",
   "execution_count": 52,
   "id": "0c5b97f7-d9c3-4813-9474-27988de67517",
   "metadata": {},
   "outputs": [
    {
     "name": "stdout",
     "output_type": "stream",
     "text": [
      "HRRR v4 HELI mean: 46.2368858604096\n",
      "HRRR v4 HELI std: 86.17126208728924\n"
     ]
    }
   ],
   "source": [
    "print('HRRR v4 HELI mean: {}'.format(np.nanmean(heliv4[:, 100:900, 600:])))\n",
    "print('HRRR v4 HELI std: {}'.format(np.nanstd(heliv4[:, 100:900, 600:])))"
   ]
  },
  {
   "cell_type": "code",
   "execution_count": 53,
   "id": "26d7eb2f-1249-48bd-9bf8-af480f5572d3",
   "metadata": {},
   "outputs": [
    {
     "name": "stdout",
     "output_type": "stream",
     "text": [
      "HRRR v4 HELI skewness: 862751.6230208075\n",
      "HRRR v4 HELI kurtosis: 403935365.88590956\n"
     ]
    }
   ],
   "source": [
    "skew_ = scipy.stats.moment(heliv4[:, 100:900, 600:].ravel(), moment=3, nan_policy='omit')\n",
    "kurt_ = scipy.stats.moment(heliv4[:, 100:900, 600:].ravel(), moment=4, nan_policy='omit')\n",
    "print('HRRR v4 HELI skewness: {}'.format(skew_))\n",
    "print('HRRR v4 HELI kurtosis: {}'.format(kurt_))"
   ]
  },
  {
   "cell_type": "markdown",
   "id": "0779e45d-a185-449f-b4b6-da273a1f9f76",
   "metadata": {},
   "source": [
    "### U-component storm motion"
   ]
  },
  {
   "cell_type": "code",
   "execution_count": 87,
   "id": "b1c9ee0a-3833-4673-871c-02b569809a80",
   "metadata": {},
   "outputs": [],
   "source": [
    "with h5py.File('/glade/scratch/ksha/DRIVE/SPC_3km_grid/HRRRv3_envi.hdf', 'r') as h5io:\n",
    "    lon = h5io['lon'][...]\n",
    "    lat = h5io['lat'][...]\n",
    "    land_mask = h5io['land_mask'][...]\n",
    "    usv3 = h5io['us'][...]\n",
    "    \n",
    "with h5py.File('/glade/scratch/ksha/DRIVE/SPC_3km_grid/HRRRv4_envi.hdf', 'r') as h5io:\n",
    "    usv4 = h5io['us'][...]"
   ]
  },
  {
   "cell_type": "code",
   "execution_count": 88,
   "id": "cc7fe789-4e2a-45cd-9e10-b434cc11ac9b",
   "metadata": {},
   "outputs": [],
   "source": [
    "us_bins = np.linspace(np.nanmin(usv3), np.nanmax(usv3), 160)"
   ]
  },
  {
   "cell_type": "code",
   "execution_count": 89,
   "id": "67835654-ba6d-4091-be2c-7719b8b80f8b",
   "metadata": {},
   "outputs": [
    {
     "data": {
      "text/plain": [
       "<matplotlib.legend.Legend at 0x2ad41fc74c70>"
      ]
     },
     "execution_count": 89,
     "metadata": {},
     "output_type": "execute_result"
    },
    {
     "data": {
      "image/png": "[encoded data removed]",
      "text/plain": [
       "<Figure size 936x360 with 1 Axes>"
      ]
     },
     "metadata": {
      "needs_background": "light"
     },
     "output_type": "display_data"
    }
   ],
   "source": [
    "plt.figure(figsize=(13, 5))\n",
    "ax = plt.gca()\n",
    "ax.hist(usv3[:, 100:900, 600:].ravel(), us_bins, density=True, log=True, alpha=0.5, label='HRRRv3');\n",
    "ax.hist(usv4[:, 100:900, 600:].ravel(), us_bins, density=True, log=True, alpha=0.5, label='HRRRv4');\n",
    "\n",
    "ax.set_title(\"U storm motion | Mar-Oct | Great Plain + East Coast | 12-hr lead time | Histogram frequency |\", fontsize=14)\n",
    "ax.legend()"
   ]
  },
  {
   "cell_type": "code",
   "execution_count": null,
   "id": "2912ff67-5fa4-4f6e-ac0d-620d8b6330b5",
   "metadata": {},
   "outputs": [],
   "source": []
  },
  {
   "cell_type": "code",
   "execution_count": 90,
   "id": "37fc3043-7b93-489c-9629-6716302f3d7c",
   "metadata": {},
   "outputs": [
    {
     "name": "stdout",
     "output_type": "stream",
     "text": [
      "HRRR v3 U storm mean: 3.6825781602582173\n",
      "HRRR v3 U storm std: 7.6226779051911535\n"
     ]
    }
   ],
   "source": [
    "print('HRRR v3 U storm mean: {}'.format(np.nanmean(usv3[:, 100:900, 600:])))\n",
    "print('HRRR v3 U storm std: {}'.format(np.nanstd(usv3[:, 100:900, 600:])))"
   ]
  },
  {
   "cell_type": "code",
   "execution_count": 91,
   "id": "927abf02-7772-4d0e-b191-aee0a4cebbc6",
   "metadata": {},
   "outputs": [
    {
     "name": "stdout",
     "output_type": "stream",
     "text": [
      "HRRR v3 U storm skewness: 84.89372045854505\n",
      "HRRR v3 U storm kurtosis: 9425.056972642747\n"
     ]
    }
   ],
   "source": [
    "skew_ = scipy.stats.moment(usv3[:, 100:900, 600:].ravel(), moment=3, nan_policy='omit')\n",
    "kurt_ = scipy.stats.moment(usv3[:, 100:900, 600:].ravel(), moment=4, nan_policy='omit')\n",
    "print('HRRR v3 U storm skewness: {}'.format(skew_))\n",
    "print('HRRR v3 U storm kurtosis: {}'.format(kurt_))"
   ]
  },
  {
   "cell_type": "code",
   "execution_count": null,
   "id": "5cfedba0-d1f2-433e-9bf2-5662122919a7",
   "metadata": {},
   "outputs": [],
   "source": []
  },
  {
   "cell_type": "code",
   "execution_count": 92,
   "id": "b3f6cd85-4bd6-43f7-bd3b-5e375b80379e",
   "metadata": {},
   "outputs": [
    {
     "name": "stdout",
     "output_type": "stream",
     "text": [
      "HRRR v4 U storm mean: 3.4032411741684725\n",
      "HRRR v4 U storm std: 7.8035398177277475\n",
      "HRRR v4 U storm skewness: 153.41792365373107\n",
      "HRRR v4 U storm kurtosis: 10483.734550717361\n"
     ]
    }
   ],
   "source": [
    "print('HRRR v4 U storm mean: {}'.format(np.nanmean(usv4[:, 100:900, 600:])))\n",
    "print('HRRR v4 U storm std: {}'.format(np.nanstd(usv4[:, 100:900, 600:])))\n",
    "\n",
    "skew_ = scipy.stats.moment(usv4[:, 100:900, 600:].ravel(), moment=3, nan_policy='omit')\n",
    "kurt_ = scipy.stats.moment(usv4[:, 100:900, 600:].ravel(), moment=4, nan_policy='omit')\n",
    "print('HRRR v4 U storm skewness: {}'.format(skew_))\n",
    "print('HRRR v4 U storm kurtosis: {}'.format(kurt_))"
   ]
  },
  {
   "cell_type": "code",
   "execution_count": null,
   "id": "7d1efd62-4a08-4031-a018-151691ef91f8",
   "metadata": {},
   "outputs": [],
   "source": []
  },
  {
   "cell_type": "markdown",
   "id": "ab988a3d-b197-41ac-8353-0fb1875544ed",
   "metadata": {},
   "source": [
    "### V-component storm motion"
   ]
  },
  {
   "cell_type": "code",
   "execution_count": 93,
   "id": "a98395cf-36b7-4fdb-8215-7f2e9a918912",
   "metadata": {},
   "outputs": [],
   "source": [
    "with h5py.File('/glade/scratch/ksha/DRIVE/SPC_3km_grid/HRRRv3_envi.hdf', 'r') as h5io:\n",
    "    lon = h5io['lon'][...]\n",
    "    lat = h5io['lat'][...]\n",
    "    land_mask = h5io['land_mask'][...]\n",
    "    vsv3 = h5io['vs'][...]\n",
    "    \n",
    "with h5py.File('/glade/scratch/ksha/DRIVE/SPC_3km_grid/HRRRv4_envi.hdf', 'r') as h5io:\n",
    "    vsv4 = h5io['vs'][...]"
   ]
  },
  {
   "cell_type": "code",
   "execution_count": 94,
   "id": "53b4e036-b955-44b1-bd8e-668ad0b59d98",
   "metadata": {},
   "outputs": [
    {
     "data": {
      "text/plain": [
       "<matplotlib.legend.Legend at 0x2ad4200e17c0>"
      ]
     },
     "execution_count": 94,
     "metadata": {},
     "output_type": "execute_result"
    },
    {
     "data": {
      "image/png": "[encoded data removed]",
      "text/plain": [
       "<Figure size 936x360 with 1 Axes>"
      ]
     },
     "metadata": {
      "needs_background": "light"
     },
     "output_type": "display_data"
    }
   ],
   "source": [
    "vs_bins = np.linspace(np.nanmin(vsv3), np.nanmax(vsv3), 160)\n",
    "\n",
    "plt.figure(figsize=(13, 5))\n",
    "ax = plt.gca()\n",
    "ax.hist(vsv3[:, 100:900, 600:].ravel(), vs_bins, density=True, log=True, alpha=0.5, label='HRRRv3');\n",
    "ax.hist(vsv4[:, 100:900, 600:].ravel(), vs_bins, density=True, log=True, alpha=0.5, label='HRRRv4');\n",
    "\n",
    "ax.set_title(\"V storm motion | Mar-Oct | Great Plain + East Coast | 12-hr lead time | Histogram frequency |\", fontsize=14)\n",
    "ax.legend()"
   ]
  },
  {
   "cell_type": "code",
   "execution_count": 95,
   "id": "937b3e0e-9fb2-40bf-8692-9115b86120d0",
   "metadata": {},
   "outputs": [
    {
     "name": "stdout",
     "output_type": "stream",
     "text": [
      "HRRR v3 V storm mean: -3.449289417858723\n",
      "HRRR v3 V storm std: 6.867600682130747\n",
      "HRRR v3 V storm skewness: 73.60048022698253\n",
      "HRRR v3 V storm kurtosis: 6955.535257960293\n"
     ]
    }
   ],
   "source": [
    "print('HRRR v3 V storm mean: {}'.format(np.nanmean(vsv3[:, 100:900, 600:])))\n",
    "print('HRRR v3 V storm std: {}'.format(np.nanstd(vsv3[:, 100:900, 600:])))\n",
    "\n",
    "skew_ = scipy.stats.moment(vsv3[:, 100:900, 600:].ravel(), moment=3, nan_policy='omit')\n",
    "kurt_ = scipy.stats.moment(vsv3[:, 100:900, 600:].ravel(), moment=4, nan_policy='omit')\n",
    "print('HRRR v3 V storm skewness: {}'.format(skew_))\n",
    "print('HRRR v3 V storm kurtosis: {}'.format(kurt_))"
   ]
  },
  {
   "cell_type": "code",
   "execution_count": 96,
   "id": "c3bcccf9-9b1a-4b34-b9a2-25a634c57498",
   "metadata": {},
   "outputs": [
    {
     "name": "stdout",
     "output_type": "stream",
     "text": [
      "HRRR v4 V storm mean: -3.1398907592019834\n",
      "HRRR v4 V storm std: 7.1797315031238655\n",
      "HRRR v4 V storm skewness: 61.148890466703136\n",
      "HRRR v4 V storm kurtosis: 7800.249973496272\n"
     ]
    }
   ],
   "source": [
    "print('HRRR v4 V storm mean: {}'.format(np.nanmean(vsv4[:, 100:900, 600:])))\n",
    "print('HRRR v4 V storm std: {}'.format(np.nanstd(vsv4[:, 100:900, 600:])))\n",
    "\n",
    "skew_ = scipy.stats.moment(vsv4[:, 100:900, 600:].ravel(), moment=3, nan_policy='omit')\n",
    "kurt_ = scipy.stats.moment(vsv4[:, 100:900, 600:].ravel(), moment=4, nan_policy='omit')\n",
    "print('HRRR v4 V storm skewness: {}'.format(skew_))\n",
    "print('HRRR v4 V storm kurtosis: {}'.format(kurt_))"
   ]
  },
  {
   "cell_type": "markdown",
   "id": "7170df5c-b204-448f-8517-e8a1f392aa28",
   "metadata": {},
   "source": [
    "### U-component shear"
   ]
  },
  {
   "cell_type": "code",
   "execution_count": 97,
   "id": "af45aceb-7ba7-4951-9cdf-34abd937ff63",
   "metadata": {},
   "outputs": [],
   "source": [
    "with h5py.File('/glade/scratch/ksha/DRIVE/SPC_3km_grid/HRRRv3_envi.hdf', 'r') as h5io:\n",
    "    lon = h5io['lon'][...]\n",
    "    lat = h5io['lat'][...]\n",
    "    land_mask = h5io['land_mask'][...]\n",
    "    ushearv3 = h5io['ushear'][...]\n",
    "    \n",
    "with h5py.File('/glade/scratch/ksha/DRIVE/SPC_3km_grid/HRRRv4_envi.hdf', 'r') as h5io:\n",
    "    ushearv4 = h5io['ushear'][...]"
   ]
  },
  {
   "cell_type": "code",
   "execution_count": 98,
   "id": "fe0ee824-bead-4ba2-ad32-d6be101ca0a1",
   "metadata": {},
   "outputs": [
    {
     "data": {
      "text/plain": [
       "<matplotlib.legend.Legend at 0x2ad42042c100>"
      ]
     },
     "execution_count": 98,
     "metadata": {},
     "output_type": "execute_result"
    },
    {
     "data": {
      "image/png": "[encoded data removed]",
      "text/plain": [
       "<Figure size 936x360 with 1 Axes>"
      ]
     },
     "metadata": {
      "needs_background": "light"
     },
     "output_type": "display_data"
    }
   ],
   "source": [
    "ushear_bins = np.linspace(np.nanmin(ushearv3), np.nanmax(ushearv3), 160)\n",
    "\n",
    "plt.figure(figsize=(13, 5))\n",
    "ax = plt.gca()\n",
    "ax.hist(ushearv3[:, 100:900, 600:].ravel(), ushear_bins, density=True, log=True, alpha=0.5, label='HRRRv3');\n",
    "ax.hist(ushearv4[:, 100:900, 600:].ravel(), ushear_bins, density=True, log=True, alpha=0.5, label='HRRRv4');\n",
    "\n",
    "ax.set_title(\"U-component shear | Mar-Oct | Great Plain + East Coast | 12-hr lead time | Histogram frequency |\", fontsize=14)\n",
    "ax.legend()"
   ]
  },
  {
   "cell_type": "code",
   "execution_count": 99,
   "id": "52868ef8-4742-485a-8753-3a5e547207c4",
   "metadata": {},
   "outputs": [
    {
     "name": "stdout",
     "output_type": "stream",
     "text": [
      "HRRR v3 U shear mean: 2.8637361748295294\n",
      "HRRR v3 U shear std: 5.090361873158226\n",
      "HRRR v3 U shear skewness: 50.216119171092075\n",
      "HRRR v3 U shear kurtosis: 2813.6449502448995\n"
     ]
    }
   ],
   "source": [
    "print('HRRR v3 U shear mean: {}'.format(np.nanmean(ushearv3[:, 100:900, 600:])))\n",
    "print('HRRR v3 U shear std: {}'.format(np.nanstd(ushearv3[:, 100:900, 600:])))\n",
    "\n",
    "skew_ = scipy.stats.moment(ushearv3[:, 100:900, 600:].ravel(), moment=3, nan_policy='omit')\n",
    "kurt_ = scipy.stats.moment(ushearv3[:, 100:900, 600:].ravel(), moment=4, nan_policy='omit')\n",
    "print('HRRR v3 U shear skewness: {}'.format(skew_))\n",
    "print('HRRR v3 U shear kurtosis: {}'.format(kurt_))"
   ]
  },
  {
   "cell_type": "code",
   "execution_count": 100,
   "id": "5bb414b5-112a-4d67-9809-7c0e6dabf9d8",
   "metadata": {},
   "outputs": [
    {
     "name": "stdout",
     "output_type": "stream",
     "text": [
      "HRRR v4 U shear mean: 2.96140263778916\n",
      "HRRR v4 U shear std: 5.0386737905606\n",
      "HRRR v3 U shear skewness: 65.72342054692685\n",
      "HRRR v3 U shear kurtosis: 2788.064110198523\n"
     ]
    }
   ],
   "source": [
    "print('HRRR v4 U shear mean: {}'.format(np.nanmean(ushearv4[:, 100:900, 600:])))\n",
    "print('HRRR v4 U shear std: {}'.format(np.nanstd(ushearv4[:, 100:900, 600:])))\n",
    "\n",
    "skew_ = scipy.stats.moment(ushearv4[:, 100:900, 600:].ravel(), moment=3, nan_policy='omit')\n",
    "kurt_ = scipy.stats.moment(ushearv4[:, 100:900, 600:].ravel(), moment=4, nan_policy='omit')\n",
    "print('HRRR v4 U shear skewness: {}'.format(skew_))\n",
    "print('HRRR v4 U shear kurtosis: {}'.format(kurt_))"
   ]
  },
  {
   "cell_type": "code",
   "execution_count": null,
   "id": "87ed8e2b-abe4-43e2-8d2b-edf7f83a9acd",
   "metadata": {},
   "outputs": [],
   "source": []
  },
  {
   "cell_type": "markdown",
   "id": "8eaddec5-8c42-49e5-845d-663bce702f30",
   "metadata": {},
   "source": [
    "### V-component shear"
   ]
  },
  {
   "cell_type": "code",
   "execution_count": 101,
   "id": "03739bf3-80e7-4c35-b1ed-82b39faa51a3",
   "metadata": {},
   "outputs": [],
   "source": [
    "with h5py.File('/glade/scratch/ksha/DRIVE/SPC_3km_grid/HRRRv3_envi.hdf', 'r') as h5io:\n",
    "    lon = h5io['lon'][...]\n",
    "    lat = h5io['lat'][...]\n",
    "    land_mask = h5io['land_mask'][...]\n",
    "    vshearv3 = h5io['vshear'][...]\n",
    "    \n",
    "with h5py.File('/glade/scratch/ksha/DRIVE/SPC_3km_grid/HRRRv4_envi.hdf', 'r') as h5io:\n",
    "    vshearv4 = h5io['vshear'][...]"
   ]
  },
  {
   "cell_type": "code",
   "execution_count": 106,
   "id": "5c9c6f9b-bd0b-4ea7-a2b8-c925215c289c",
   "metadata": {},
   "outputs": [
    {
     "data": {
      "text/plain": [
       "<matplotlib.legend.Legend at 0x2ad41ff6cd60>"
      ]
     },
     "execution_count": 106,
     "metadata": {},
     "output_type": "execute_result"
    },
    {
     "data": {
      "image/png": "[encoded data removed]",
      "text/plain": [
       "<Figure size 936x360 with 1 Axes>"
      ]
     },
     "metadata": {
      "needs_background": "light"
     },
     "output_type": "display_data"
    }
   ],
   "source": [
    "vshear_bins = np.linspace(np.nanmin(vshearv3), np.nanmax(vshearv3), 160)\n",
    "\n",
    "plt.figure(figsize=(13, 5))\n",
    "ax = plt.gca()\n",
    "ax.hist(vshearv3[:, 100:900, 600:].ravel(), vshear_bins, density=True, log=True, alpha=0.5, label='HRRRv3');\n",
    "ax.hist(vshearv4[:, 100:900, 600:].ravel(), vshear_bins, density=True, log=True, alpha=0.5, label='HRRRv4');\n",
    "\n",
    "ax.set_title(\"V-component shear | Mar-Oct | Great Plain + East Coast | 12-hr lead time | Histogram frequency |\", fontsize=14)\n",
    "ax.legend()"
   ]
  },
  {
   "cell_type": "code",
   "execution_count": 103,
   "id": "b7b7e047-d080-4778-b25f-bbfb62fad7ca",
   "metadata": {},
   "outputs": [
    {
     "name": "stdout",
     "output_type": "stream",
     "text": [
      "HRRR v3 V shear mean: 0.8110890388358325\n",
      "HRRR v3 V shear std: 5.370346778784034\n",
      "HRRR v3 V shear skewness: 14.347652885518636\n",
      "HRRR v3 V shear kurtosis: 3684.4439511033893\n"
     ]
    }
   ],
   "source": [
    "print('HRRR v3 V shear mean: {}'.format(np.nanmean(vshearv3[:, 100:900, 600:])))\n",
    "print('HRRR v3 V shear std: {}'.format(np.nanstd(vshearv3[:, 100:900, 600:])))\n",
    "\n",
    "skew_ = scipy.stats.moment(vshearv3[:, 100:900, 600:].ravel(), moment=3, nan_policy='omit')\n",
    "kurt_ = scipy.stats.moment(vshearv3[:, 100:900, 600:].ravel(), moment=4, nan_policy='omit')\n",
    "print('HRRR v3 V shear skewness: {}'.format(skew_))\n",
    "print('HRRR v3 V shear kurtosis: {}'.format(kurt_))"
   ]
  },
  {
   "cell_type": "code",
   "execution_count": 104,
   "id": "8b0f339e-b1d3-4082-aa5b-b8662a78fb1a",
   "metadata": {},
   "outputs": [
    {
     "name": "stdout",
     "output_type": "stream",
     "text": [
      "HRRR v4 V shear mean: 0.7745723291800738\n",
      "HRRR v4 V shear std: 5.448636789173271\n",
      "HRRR v3 U shear skewness: 22.046480717783034\n",
      "HRRR v3 U shear kurtosis: 3878.762613360346\n"
     ]
    }
   ],
   "source": [
    "print('HRRR v4 V shear mean: {}'.format(np.nanmean(vshearv4[:, 100:900, 600:])))\n",
    "print('HRRR v4 V shear std: {}'.format(np.nanstd(vshearv4[:, 100:900, 600:])))\n",
    "\n",
    "skew_ = scipy.stats.moment(vshearv4[:, 100:900, 600:].ravel(), moment=3, nan_policy='omit')\n",
    "kurt_ = scipy.stats.moment(vshearv4[:, 100:900, 600:].ravel(), moment=4, nan_policy='omit')\n",
    "print('HRRR v4 U shear skewness: {}'.format(skew_))\n",
    "print('HRRR v4 U shear kurtosis: {}'.format(kurt_))"
   ]
  },
  {
   "cell_type": "code",
   "execution_count": null,
   "id": "acf63b9c-53da-4356-b013-409c6f7fa432",
   "metadata": {},
   "outputs": [],
   "source": []
  },
  {
   "cell_type": "markdown",
   "id": "b52a73b9-c1ff-4723-bc9b-df1fa7869433",
   "metadata": {},
   "source": [
    "### Maximum/Composite radar reflectivity"
   ]
  },
  {
   "cell_type": "code",
   "execution_count": 105,
   "id": "b969a325-6c7b-4a01-b031-19208d8367c0",
   "metadata": {},
   "outputs": [],
   "source": [
    "with h5py.File('/glade/scratch/ksha/DRIVE/SPC_3km_grid/HRRRv3_envi.hdf', 'r') as h5io:\n",
    "    lon = h5io['lon'][...]\n",
    "    lat = h5io['lat'][...]\n",
    "    land_mask = h5io['land_mask'][...]\n",
    "    max_reflv3 = h5io['max_refl'][...]\n",
    "    \n",
    "with h5py.File('/glade/scratch/ksha/DRIVE/SPC_3km_grid/HRRRv4_envi.hdf', 'r') as h5io:\n",
    "    max_reflv4 = h5io['max_refl'][...]"
   ]
  },
  {
   "cell_type": "code",
   "execution_count": 107,
   "id": "4ec7a2e8-300b-4e77-892c-4177a6b4bbb4",
   "metadata": {},
   "outputs": [
    {
     "data": {
      "text/plain": [
       "<matplotlib.legend.Legend at 0x2ad422e13fa0>"
      ]
     },
     "execution_count": 107,
     "metadata": {},
     "output_type": "execute_result"
    },
    {
     "data": {
      "image/png": "[encoded data removed]",
      "text/plain": [
       "<Figure size 936x360 with 1 Axes>"
      ]
     },
     "metadata": {
      "needs_background": "light"
     },
     "output_type": "display_data"
    }
   ],
   "source": [
    "max_refl_bins = np.linspace(np.nanmin(max_reflv3), np.nanmax(max_reflv3), 160)\n",
    "\n",
    "plt.figure(figsize=(13, 5))\n",
    "ax = plt.gca()\n",
    "ax.hist(max_reflv3[:, 100:900, 600:].ravel(), max_refl_bins, density=True, log=True, alpha=0.5, label='HRRRv3');\n",
    "ax.hist(max_reflv4[:, 100:900, 600:].ravel(), max_refl_bins, density=True, log=True, alpha=0.5, label='HRRRv4');\n",
    "\n",
    "ax.set_title(\"Max/com radar | Mar-Oct | Great Plain + East Coast | 12-hr lead time | Histogram frequency |\", fontsize=14)\n",
    "ax.legend()"
   ]
  },
  {
   "cell_type": "code",
   "execution_count": 108,
   "id": "15a30f0a-258a-4574-b37f-3b73b5777239",
   "metadata": {},
   "outputs": [
    {
     "name": "stdout",
     "output_type": "stream",
     "text": [
      "HRRR v3 Max/com radar mean: -6.07505164275351\n",
      "HRRR v3 Max/com radar std: 9.524612571436712\n",
      "HRRR v3 Max/com radar skewness: 2477.427030757803\n",
      "HRRR v3 Max/com radar kurtosis: 93713.76035948527\n"
     ]
    }
   ],
   "source": [
    "print('HRRR v3 Max/com radar mean: {}'.format(np.nanmean(max_reflv3[:, 100:900, 600:])))\n",
    "print('HRRR v3 Max/com radar std: {}'.format(np.nanstd(max_reflv3[:, 100:900, 600:])))\n",
    "\n",
    "skew_ = scipy.stats.moment(max_reflv3[:, 100:900, 600:].ravel(), moment=3, nan_policy='omit')\n",
    "kurt_ = scipy.stats.moment(max_reflv3[:, 100:900, 600:].ravel(), moment=4, nan_policy='omit')\n",
    "print('HRRR v3 Max/com radar skewness: {}'.format(skew_))\n",
    "print('HRRR v3 Max/com radar kurtosis: {}'.format(kurt_))"
   ]
  },
  {
   "cell_type": "code",
   "execution_count": 109,
   "id": "416aad0b-b371-4043-9420-f7d85445a535",
   "metadata": {},
   "outputs": [
    {
     "name": "stdout",
     "output_type": "stream",
     "text": [
      "HRRR v4 Max/com radar mean: -6.2363961605812674\n",
      "HRRR v4 Max/com radar std: 9.625550774666893\n",
      "HRRR v3 Max/com radar skewness: 2670.2203533125767\n",
      "HRRR v3 Max/com radar kurtosis: 103899.08708787526\n"
     ]
    }
   ],
   "source": [
    "print('HRRR v4 Max/com radar mean: {}'.format(np.nanmean(max_reflv4[:, 100:900, 600:])))\n",
    "print('HRRR v4 Max/com radar std: {}'.format(np.nanstd(max_reflv4[:, 100:900, 600:])))\n",
    "\n",
    "skew_ = scipy.stats.moment(max_reflv4[:, 100:900, 600:].ravel(), moment=3, nan_policy='omit')\n",
    "kurt_ = scipy.stats.moment(max_reflv4[:, 100:900, 600:].ravel(), moment=4, nan_policy='omit')\n",
    "print('HRRR v4 Max/com radar skewness: {}'.format(skew_))\n",
    "print('HRRR v4 Max/com radar kurtosis: {}'.format(kurt_))"
   ]
  },
  {
   "cell_type": "code",
   "execution_count": null,
   "id": "032f55db-6dbe-49b7-af86-d1627d3cff3b",
   "metadata": {},
   "outputs": [],
   "source": []
  },
  {
   "cell_type": "code",
   "execution_count": null,
   "id": "ccf35631-7488-447a-a8be-ae97d45c6059",
   "metadata": {},
   "outputs": [],
   "source": []
  },
  {
   "cell_type": "code",
   "execution_count": null,
   "id": "3d87b364-bd50-4b3b-9e43-c60a0ba43dd4",
   "metadata": {},
   "outputs": [],
   "source": []
  },
  {
   "cell_type": "code",
   "execution_count": null,
   "id": "88f7cb2c-11c0-4e4e-aa88-3f9b96c175bf",
   "metadata": {},
   "outputs": [],
   "source": []
  },
  {
   "cell_type": "code",
   "execution_count": null,
   "id": "b48be995-9add-4bd2-8a21-c6031511cb36",
   "metadata": {},
   "outputs": [],
   "source": []
  },
  {
   "cell_type": "code",
   "execution_count": null,
   "id": "2e17d450-db5a-420f-8e8c-40557f997a50",
   "metadata": {},
   "outputs": [],
   "source": []
  }
 ],
 "metadata": {
  "kernelspec": {
   "display_name": "Python 3 (ipykernel)",
   "language": "python",
   "name": "python3"
  },
  "language_info": {
   "codemirror_mode": {
    "name": "ipython",
    "version": 3
   },
   "file_extension": ".py",
   "mimetype": "text/x-python",
   "name": "python",
   "nbconvert_exporter": "python",
   "pygments_lexer": "ipython3",
   "version": "3.9.13"
  }
 },
 "nbformat": 4,
 "nbformat_minor": 5
}
