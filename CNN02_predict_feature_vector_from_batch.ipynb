{
 "cells": [
  {
   "cell_type": "code",
   "execution_count": null,
   "id": "1a1ccc50",
   "metadata": {},
   "outputs": [],
   "source": [
    "\n",
    "# general tools\n",
    "import sys\n",
    "from glob import glob\n",
    "\n",
    "# data tools\n",
    "import time\n",
    "import h5py\n",
    "import numpy as np\n",
    "\n",
    "sys.path.insert(0, '/glade/u/home/ksha/NCAR/')\n",
    "sys.path.insert(0, '/glade/u/home/ksha/NCAR/libs/')\n",
    "\n",
    "from namelist import *\n",
    "import data_utils as du\n",
    "import model_utils as mu"
   ]
  },
  {
   "cell_type": "code",
   "execution_count": null,
   "id": "72d419b8",
   "metadata": {},
   "outputs": [],
   "source": [
    "# import argparse\n",
    "\n",
    "# parser = argparse.ArgumentParser()\n",
    "# parser.add_argument('part', help='part')\n",
    "# parser.add_argument('lead', help='lead')\n",
    "# parser.add_argument('model', help='model')\n",
    "# parser.add_argument('prefix', help='prefix')\n",
    "# parser.add_argument('ver', help='ver')\n",
    "# args = vars(parser.parse_args())\n",
    "\n",
    "# =============== #\n",
    "part = 0 #int(args['part'])\n",
    "lead = 2 #int(args['lead'])\n",
    "model_name = 'xxxxx' #args['model']\n",
    "prefix = 'xxxxx' #args['prefix']\n",
    "ver = 'v3' #args['ver']\n",
    "gap = 200 #200000\n",
    "N_vars = L_vars = 15\n",
    "# =============== #\n"
   ]
  },
  {
   "cell_type": "code",
   "execution_count": null,
   "id": "97a248ae",
   "metadata": {},
   "outputs": [],
   "source": [
    "# Collection batch names from scratch and campaign\n",
    "names = glob(\"/glade/scratch/ksha/DATA/NCAR_batch_{}/TRAIN*lead{}.npy\".format(ver, lead)) + \\\n",
    "        glob(\"/glade/campaign/cisl/aiml/ksha/NCAR_batch_{}/TRAIN*lead{}.npy\".format(ver, lead))\n",
    "\n",
    "filename_train = sorted(names)\n",
    "\n",
    "# divide batch files into three parts\n",
    "if part == 0:\n",
    "    filename_train = filename_train[:gap]\n",
    "elif part == 1:\n",
    "    filename_train = filename_train[gap:2*gap]\n",
    "else:\n",
    "    filename_train = filename_train[2*gap:]\n",
    "\n",
    "L_train = len(filename_train)\n",
    "L_var = L_vars\n",
    "\n",
    "# Combine individual batch files to a large array\n",
    "TEST_input_64 = np.empty((L_train, 64, 64, L_var))\n",
    "TEST_target = np.ones(L_train)\n",
    "\n",
    "for i, name in enumerate(filename_train):\n",
    "    data = np.load(name)\n",
    "    for k, c in enumerate(ind_pick_from_batch):\n",
    "        \n",
    "        TEST_input_64[i, ..., k] = data[..., c]\n",
    "\n",
    "        if 'pos' in name:\n",
    "            TEST_target[i] = 1.0\n",
    "        else:\n",
    "            TEST_target[i] = 0.0\n"
   ]
  },
  {
   "cell_type": "code",
   "execution_count": null,
   "id": "4b9e452b",
   "metadata": {},
   "outputs": [],
   "source": [
    "\n",
    "# Crerate model\n",
    "model = mu.create_model_base(input_shape=(64, 64, 15), depths=[3, 3, 27, 3], projection_dims=[32, 64, 96, 128], first_pool=4)\n",
    "\n",
    "# get current weights\n",
    "W_new = model.get_weights()\n",
    "\n",
    "# get stored weights\n",
    "print('/glade/work/ksha/NCAR/Keras_models/{}/'.format(model_name))\n",
    "W_old = mu.dummy_loader('/glade/work/ksha/NCAR/Keras_models/{}/'.format(model_name))\n",
    "\n",
    "# update stored weights to new weights\n",
    "for i in range(len(W_new)):\n",
    "    if W_new[i].shape == W_old[i].shape:\n",
    "        W_new[i] = W_old[i]\n",
    "    else:\n",
    "        # the size of the weights always match, this will never happen\n",
    "        ewraewthws\n",
    "\n",
    "# dump new weights to the model\n",
    "model.set_weights(W_new)\n",
    "\n",
    "# compile just in case\n",
    "# model.compile(loss=keras.losses.mean_absolute_error, optimizer=keras.optimizers.SGD(lr=0))\n",
    "\n",
    "# predict feature vectors\n",
    "Y_vector = model.predict([TEST_input_64,])\n"
   ]
  },
  {
   "cell_type": "code",
   "execution_count": null,
   "id": "bb92f09d",
   "metadata": {},
   "outputs": [],
   "source": [
    "# Save as numpy file\n",
    "save_dict = {}\n",
    "save_dict['y_true'] = TEST_target\n",
    "save_dict['y_vector'] = Y_vector\n",
    "save_name = \"/glade/work/ksha/NCAR/TRAIN_{}_vec_lead{}_part{}_{}.npy\".format(ver, lead, part, prefix)\n",
    "print(save_name); np.save(save_name, save_dict)\n"
   ]
  },
  {
   "cell_type": "code",
   "execution_count": null,
   "id": "b9c7a0e2",
   "metadata": {},
   "outputs": [],
   "source": []
  },
  {
   "cell_type": "code",
   "execution_count": null,
   "id": "abfc2737",
   "metadata": {},
   "outputs": [],
   "source": []
  },
  {
   "cell_type": "code",
   "execution_count": null,
   "id": "2a16f268",
   "metadata": {},
   "outputs": [],
   "source": []
  }
 ],
 "metadata": {
  "kernelspec": {
   "display_name": "Python 3 (ipykernel)",
   "language": "python",
   "name": "python3"
  },
  "language_info": {
   "codemirror_mode": {
    "name": "ipython",
    "version": 3
   },
   "file_extension": ".py",
   "mimetype": "text/x-python",
   "name": "python",
   "nbconvert_exporter": "python",
   "pygments_lexer": "ipython3",
   "version": "3.9.13"
  }
 },
 "nbformat": 4,
 "nbformat_minor": 5
}
