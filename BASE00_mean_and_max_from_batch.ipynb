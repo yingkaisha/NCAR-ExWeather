{
 "cells": [
  {
   "cell_type": "code",
   "execution_count": 1,
   "id": "068637c4-d5af-43b4-89a2-3921e2e441d2",
   "metadata": {},
   "outputs": [],
   "source": [
    "# general tools\n",
    "import os\n",
    "import re\n",
    "import sys\n",
    "import time\n",
    "import h5py\n",
    "import random\n",
    "from glob import glob\n",
    "\n",
    "import numpy as np\n",
    "from datetime import datetime, timedelta\n",
    "from random import shuffle\n",
    "\n",
    "sys.path.insert(0, '/glade/u/home/ksha/NCAR/')\n",
    "sys.path.insert(0, '/glade/u/home/ksha/NCAR/libs/')\n",
    "\n",
    "from namelist import *\n",
    "import data_utils as du\n"
   ]
  },
  {
   "cell_type": "code",
   "execution_count": 4,
   "id": "eb358784-d8b9-4b05-9898-4ab95ab0c67a",
   "metadata": {},
   "outputs": [],
   "source": [
    "lead = 2"
   ]
  },
  {
   "cell_type": "code",
   "execution_count": 2,
   "id": "4971b6be-36a3-4e4a-9d77-6396097b0304",
   "metadata": {},
   "outputs": [],
   "source": [
    "filepath_vec = \"/glade/work/ksha/NCAR/\"\n",
    "\n",
    "path_name1_v3 = '/glade/campaign/cisl/aiml/ksha/NCAR_batch_v3/'\n",
    "path_name2_v3 = '/glade/campaign/cisl/aiml/ksha/NCAR_batch_v3/' \n",
    "path_name3_v3 = '/glade/campaign/cisl/aiml/ksha/NCAR_batch_v3/'\n",
    "path_name4_v3 = '/glade/campaign/cisl/aiml/ksha/NCAR_batch_v3/'\n",
    "\n",
    "path_name1_v4 = '/glade/campaign/cisl/aiml/ksha/NCAR_batch_v4x/'\n",
    "path_name2_v4 = '/glade/campaign/cisl/aiml/ksha/NCAR_batch_v4x/'\n",
    "path_name3_v4 = '/glade/campaign/cisl/aiml/ksha/NCAR_batch_v4x/'\n",
    "path_name4_v4 = '/glade/campaign/cisl/aiml/ksha/NCAR_batch_v4x/'\n",
    "\n",
    "path_name1_v4_test = '/glade/campaign/cisl/aiml/ksha/NCAR_batch_v4_temp/'\n",
    "path_name2_v4_test = '/glade/campaign/cisl/aiml/ksha/NCAR_batch_v4_temp/'\n",
    "path_name3_v4_test = '/glade/campaign/cisl/aiml/ksha/NCAR_batch_v4_temp/'\n",
    "path_name4_v4_test = '/glade/campaign/cisl/aiml/ksha/NCAR_batch_v4_temp/'"
   ]
  },
  {
   "cell_type": "code",
   "execution_count": 5,
   "id": "ba52b020-45e4-4bff-b2d2-c4fcaf2ff333",
   "metadata": {},
   "outputs": [],
   "source": [
    "filename_train_lead_v3 = sorted(glob(\"{}TRAIN*lead{}.npy\".format(path_name1_v3, lead)))\n",
    "filename_valid_lead_v3 = sorted(glob(\"{}VALID*lead{}.npy\".format(path_name1_v3, lead)))\n",
    "filename_test_lead = sorted(glob(\"{}TEST*lead{}.npy\".format(path_name1_v4_test, lead)))"
   ]
  },
  {
   "cell_type": "code",
   "execution_count": 6,
   "id": "3d20809a-1413-43a1-b9c5-bf12c2cdaef9",
   "metadata": {},
   "outputs": [],
   "source": []
  },
  {
   "cell_type": "code",
   "execution_count": 7,
   "id": "ed4daa0f-9b46-4e68-b832-b9d087a410f2",
   "metadata": {},
   "outputs": [],
   "source": []
  },
  {
   "cell_type": "code",
   "execution_count": 9,
   "id": "310e801f-03bb-47f3-b506-82ffe780423d",
   "metadata": {},
   "outputs": [],
   "source": [
    "L_train = len(filename_train_lead_v3)\n",
    "L_valid = len(filename_valid_lead_v3)\n",
    "L_test = len(filename_test_lead)"
   ]
  },
  {
   "cell_type": "code",
   "execution_count": 10,
   "id": "80f6c707-ae48-4ac6-8cfd-336298974e6b",
   "metadata": {},
   "outputs": [],
   "source": [
    "L = L_train+L_valid\n",
    "filename_train = filename_train_lead_v3+filename_valid_lead_v3\n",
    "filename_test = filename_test_lead\n",
    "\n",
    "TRAIN_MAX = np.empty((L, 15))\n",
    "TRAIN_MEAN = np.empty((L, 15))\n",
    "\n",
    "TEST_MAX = np.empty((L_test, 15))\n",
    "TEST_MEAN = np.empty((L_test, 15))\n",
    "\n",
    "for i in range(2):\n",
    "    temp_data = np.load(filename_train[i])\n",
    "    \n",
    "    for c in range(15):\n",
    "        TRAIN_MAX[i, c] = np.max(temp_data[..., c])\n",
    "        TRAIN_MEAN[i, c] = np.mean(temp_data[..., c])\n",
    "        \n",
    "for i in range(2):\n",
    "    temp_data = np.load(filename_test[i])\n",
    "    \n",
    "    for c in range(15):\n",
    "        TEST_MAX[i, c] = np.max(temp_data[..., c])\n",
    "        TEST_MEAN[i, c] = np.mean(temp_data[..., c])"
   ]
  },
  {
   "cell_type": "code",
   "execution_count": 12,
   "id": "034c173e-29ae-4bb8-bee9-333a889a43c8",
   "metadata": {},
   "outputs": [
    {
     "name": "stdout",
     "output_type": "stream",
     "text": [
      "/glade/work/ksha/NCAR/TRAIN_MINMAX_lead2.npy\n"
     ]
    }
   ],
   "source": [
    "# save_dict = {}\n",
    "# save_dict['TRAIN_MAX'] = TRAIN_MAX\n",
    "# save_dict['TRAIN_MEAN'] = TRAIN_MEAN\n",
    "\n",
    "# save_dict['TEST_MAX'] = TEST_MAX\n",
    "# save_dict['TEST_MEAN'] = TEST_MEAN\n",
    "\n",
    "# np.save('/glade/work/ksha/NCAR/TRAIN_MINMAX_lead{}.npy'.format(lead), save_dict)\n",
    "# print('/glade/work/ksha/NCAR/TRAIN_MINMAX_lead{}.npy'.format(lead))"
   ]
  },
  {
   "cell_type": "code",
   "execution_count": null,
   "id": "b5b9ab5f-cb7d-4792-9b34-413f094919ee",
   "metadata": {},
   "outputs": [],
   "source": []
  },
  {
   "cell_type": "code",
   "execution_count": null,
   "id": "d72372f3-a2f7-4566-bfc2-7446c9b6d2f5",
   "metadata": {},
   "outputs": [],
   "source": []
  },
  {
   "cell_type": "code",
   "execution_count": null,
   "id": "ca62936c-9248-435e-93bb-25d5dbe611df",
   "metadata": {},
   "outputs": [],
   "source": []
  },
  {
   "cell_type": "code",
   "execution_count": null,
   "id": "f659e1d1-a513-4d40-ad69-d4b77d362493",
   "metadata": {},
   "outputs": [],
   "source": []
  },
  {
   "cell_type": "code",
   "execution_count": null,
   "id": "d29742fc-8b33-4dd1-888f-1dae72c895f1",
   "metadata": {},
   "outputs": [],
   "source": []
  }
 ],
 "metadata": {
  "kernelspec": {
   "display_name": "Python 3 (ipykernel)",
   "language": "python",
   "name": "python3"
  },
  "language_info": {
   "codemirror_mode": {
    "name": "ipython",
    "version": 3
   },
   "file_extension": ".py",
   "mimetype": "text/x-python",
   "name": "python",
   "nbconvert_exporter": "python",
   "pygments_lexer": "ipython3",
   "version": "3.9.15"
  }
 },
 "nbformat": 4,
 "nbformat_minor": 5
}
