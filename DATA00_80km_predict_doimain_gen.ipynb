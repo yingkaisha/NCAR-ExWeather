{
 "cells": [
  {
   "cell_type": "code",
   "execution_count": 1,
   "id": "6ed9d44e-130b-410d-8076-fccfcf94c0b5",
   "metadata": {},
   "outputs": [],
   "source": [
    "import sys\n",
    "from glob import glob\n",
    "\n",
    "import time\n",
    "import zarr\n",
    "import h5py\n",
    "import pygrib\n",
    "import pickle\n",
    "import pandas as pd\n",
    "import netCDF4 as nc\n",
    "import numpy as np\n",
    "from datetime import datetime, timedelta"
   ]
  },
  {
   "cell_type": "code",
   "execution_count": 2,
   "id": "681fd3a4-8659-4e57-b4db-c147b9991a20",
   "metadata": {},
   "outputs": [],
   "source": [
    "sys.path.insert(0, '/glade/u/home/ksha/NCAR/')\n",
    "sys.path.insert(0, '/glade/u/home/ksha/NCAR/libs/')\n",
    "\n",
    "from namelist import *\n",
    "import data_utils as du"
   ]
  },
  {
   "cell_type": "code",
   "execution_count": 3,
   "id": "0f482dca-15fe-442b-9375-d5a6cca6d7b8",
   "metadata": {},
   "outputs": [],
   "source": [
    "import matplotlib.pyplot as plt\n",
    "%matplotlib inline"
   ]
  },
  {
   "cell_type": "code",
   "execution_count": 4,
   "id": "79b7c51b-d748-4d5d-b392-66faf776ff57",
   "metadata": {},
   "outputs": [
    {
     "ename": "ModuleNotFoundError",
     "evalue": "No module named 'mpl_toolkits.basemap'",
     "output_type": "error",
     "traceback": [
      "\u001b[0;31m---------------------------------------------------------------------------\u001b[0m",
      "\u001b[0;31mModuleNotFoundError\u001b[0m                       Traceback (most recent call last)",
      "Cell \u001b[0;32mIn[4], line 1\u001b[0m\n\u001b[0;32m----> 1\u001b[0m \u001b[38;5;28;01mfrom\u001b[39;00m \u001b[38;5;21;01mmpl_toolkits\u001b[39;00m\u001b[38;5;21;01m.\u001b[39;00m\u001b[38;5;21;01mbasemap\u001b[39;00m \u001b[38;5;28;01mimport\u001b[39;00m Basemap\n",
      "\u001b[0;31mModuleNotFoundError\u001b[0m: No module named 'mpl_toolkits.basemap'"
     ]
    }
   ],
   "source": [
    "from mpl_toolkits.basemap import Basemap"
   ]
  },
  {
   "cell_type": "code",
   "execution_count": 10,
   "id": "2a29ccdf-c99d-4ed6-8dbe-a1ccdd219346",
   "metadata": {},
   "outputs": [],
   "source": [
    "def domain_aggregate_2d(data, gap, method='mean'):\n",
    "    \n",
    "    assert gap >= 2\n",
    "    assert method in ['mean', 'min', 'max']\n",
    "    \n",
    "    grid_shape = data.shape\n",
    "    Nx = grid_shape[0] // gap + 1\n",
    "    Ny = grid_shape[1] // gap + 1\n",
    "    \n",
    "    edgex = gap*Nx\n",
    "    edgey = gap*Ny\n",
    "    \n",
    "    if (edgex > grid_shape[0]+1):\n",
    "        Nx -= 1\n",
    "    \n",
    "    if (edgey > grid_shape[1]+1):\n",
    "        Ny -= 1\n",
    "        \n",
    "    out = np.empty((Nx, Ny))\n",
    "    \n",
    "    for ix in range(Nx):\n",
    "        for iy in range(Ny):\n",
    "            if method == 'mean':\n",
    "                out[ix, iy] = np.nanmean(data[ix*gap:(ix+1)*gap, iy*gap:(iy+1)*gap])\n",
    "            elif method == 'min':\n",
    "                out[ix, iy] = np.nanmin(data[ix*gap:(ix+1)*gap, iy*gap:(iy+1)*gap])\n",
    "            else:\n",
    "                out[ix, iy] = np.nanmax(data[ix*gap:(ix+1)*gap, iy*gap:(iy+1)*gap])\n",
    "    return out"
   ]
  },
  {
   "cell_type": "code",
   "execution_count": null,
   "id": "e7d8265d-b417-4d00-99ee-0c4415ed8c4e",
   "metadata": {},
   "outputs": [],
   "source": [
    "# with pygrib.open(HRRR_dir+'fcst12hr/HRRR.20220105.natf12.grib2') as grbio:    \n",
    "#     var = grbio[1]\n",
    "#     lat_hrrr, lon_hrrr = var.latlons()"
   ]
  },
  {
   "cell_type": "code",
   "execution_count": 37,
   "id": "83717a34-1777-42e3-bf00-ceb400f541d0",
   "metadata": {},
   "outputs": [],
   "source": [
    "# test = pd.read_pickle('/glade/work/ksha/NCAR/usmask_hrrrv3.pk')\n",
    "# land_mask = test.reshape(lon_3km.shape)\n",
    "\n",
    "# # lon = domain_aggregate_2d(lon_hrrr, gap=24) # grid spacing = 24*3 = 72 km\n",
    "# # lat = domain_aggregate_2d(lat_hrrr, gap=24)\n",
    "\n",
    "# land_mask_72km = domain_aggregate_2d(land_mask, gap=24)\n",
    "# land_mask_72km = land_mask_72km > 0.5"
   ]
  },
  {
   "cell_type": "code",
   "execution_count": null,
   "id": "90a9cbea-75dc-4f88-a45b-fc694167bbf7",
   "metadata": {},
   "outputs": [],
   "source": [
    "# with nc.Dataset('/glade/scratch/ksha/BACKUP/ETOPO1_Ice_g_gmt4.grd', 'r') as ncio:\n",
    "#     x = ncio['x'][2500:7400]\n",
    "#     y = ncio['y'][6500:9000]\n",
    "#     z = ncio['z'][6500:9000, 2500:7400]\n",
    "    \n",
    "# long, lat = np.meshgrid(x, y)\n",
    "# elev = du.interp2d_wraper(long, lat, z, lon_3km, lat_3km, method='linear')"
   ]
  },
  {
   "cell_type": "code",
   "execution_count": null,
   "id": "d058429f-0749-4476-a60b-7e0616d0fc86",
   "metadata": {},
   "outputs": [],
   "source": [
    "# save_dir = '/glade/work/ksha/NCAR/'\n",
    "# tuple_save = (lon_72km, lat_72km, lon_3km, lat_3km, elev)\n",
    "# label_save = ['lon_72km', 'lat_72km', 'lon_3km', 'lat_3km', 'elev_3km']\n",
    "# #du.save_hdf5(tuple_save, label_save, save_dir, 'HRRR_domain.hdf')\n",
    "\n",
    "# save_dir = '/glade/work/ksha/NCAR/'\n",
    "# tuple_save = (lon_72km, lat_72km, lon_3km, lat_3km, land_mask, land_mask_72km, elev_3km)\n",
    "# label_save = ['lon_72km', 'lat_72km', 'lon_3km', 'lat_3km', 'land_mask_3km', 'land_mask_72km', 'elev_3km']\n",
    "# #du.save_hdf5(tuple_save, label_save, save_dir, 'HRRR_domain.hdf')"
   ]
  },
  {
   "cell_type": "code",
   "execution_count": 45,
   "id": "58c3869c-f554-482c-9474-ebf5132b8732",
   "metadata": {},
   "outputs": [],
   "source": [
    "# with h5py.File(save_dir+'HRRR_domain.hdf', 'r') as h5io:\n",
    "#     lon_72km = h5io['lon_72km'][...]\n",
    "#     lat_72km = h5io['lat_72km'][...]\n",
    "#     lon_3km = h5io['lon_3km'][...]\n",
    "#     lat_3km = h5io['lat_3km'][...]\n",
    "#     elev_3km = h5io['elev_3km'][...]"
   ]
  },
  {
   "cell_type": "code",
   "execution_count": 18,
   "id": "39c106ae-d672-48b6-a83f-b916cf05f530",
   "metadata": {},
   "outputs": [],
   "source": [
    "awips_proj = Basemap(projection='lcc', \n",
    "                     llcrnrlon=-133.459, \n",
    "                     llcrnrlat=12.19, \n",
    "                     urcrnrlon=-49.38641, \n",
    "                     urcrnrlat=57.2894, \n",
    "                     lat_1=25.0, lat_2=25.0, lon_0=-95)\n",
    "\n",
    "lon_80km, lat_80km, distx_80km, disty_80km = awips_proj.makegrid(93, 65, returnxy=True)\n"
   ]
  },
  {
   "cell_type": "code",
   "execution_count": 13,
   "id": "2de9f24a-438e-4725-8be5-7109f71a2250",
   "metadata": {},
   "outputs": [
    {
     "data": {
      "text/plain": [
       "(65, 93)"
      ]
     },
     "execution_count": 13,
     "metadata": {},
     "output_type": "execute_result"
    }
   ],
   "source": [
    "lons.shape"
   ]
  },
  {
   "cell_type": "code",
   "execution_count": 13,
   "id": "6493791a-99f2-4761-955b-5bf07f3f0804",
   "metadata": {},
   "outputs": [],
   "source": [
    "# with h5py.File(save_dir+'HRRR_domain.hdf', 'r') as h5io:\n",
    "#     print(h5io.keys())\n",
    "#     lon_72km = h5io['lon_72km'][...]\n",
    "#     lat_72km = h5io['lat_72km'][...]\n",
    "#     lon_3km = h5io['lon_3km'][...]\n",
    "#     lat_3km = h5io['lat_3km'][...]\n",
    "#     elev_3km = h5io['elev_3km'][...]\n",
    "#     land_mask_3km = h5io['land_mask_3km'][...]\n",
    "#     land_mask_72km = h5io['land_mask_72km'][...]\n",
    "\n",
    "with h5py.File(save_dir+'HRRR_domain.hdf', 'r') as h5io:\n",
    "    lon_3km = h5io['lon_3km'][...]\n",
    "    lat_3km = h5io['lat_3km'][...]\n",
    "    lon_80km = h5io['lon_80km'][...]\n",
    "    lat_80km = h5io['lat_80km'][...]\n",
    "    land_mask_80km = h5io['land_mask_80km'][...]\n",
    "    land_mask_3km = h5io['land_mask_3km'][...]\n",
    "    elev_3km = h5io['elev_3km'][...]\n"
   ]
  },
  {
   "cell_type": "code",
   "execution_count": 8,
   "id": "6e9888f4-8f0c-4f6f-8a15-d9f20dd87623",
   "metadata": {},
   "outputs": [],
   "source": [
    "# land_mask_80km = du.interp2d_wraper(lon_3km, lat_3km, land_mask_3km, lon_80km, lat_80km, method='linear')\n",
    "# land_mask_80km = land_mask_80km > 0.5\n",
    "# plt.pcolormesh(land_mask_80km)"
   ]
  },
  {
   "cell_type": "code",
   "execution_count": 9,
   "id": "f06cbdbc-4351-4ca4-a2b1-96f889848115",
   "metadata": {},
   "outputs": [],
   "source": [
    "import pickle"
   ]
  },
  {
   "cell_type": "code",
   "execution_count": 10,
   "id": "f0934412-b417-4e97-b6bc-ffefdf4f284f",
   "metadata": {},
   "outputs": [],
   "source": [
    "mask  = pickle.load(open('/glade/work/sobash/NSC_objects/HRRR/usamask_mod.pk', 'rb'))"
   ]
  },
  {
   "cell_type": "code",
   "execution_count": 11,
   "id": "5acc3328-d49f-485e-885e-911daf56e31f",
   "metadata": {},
   "outputs": [],
   "source": [
    "mask_grid = mask.reshape(65, 93)"
   ]
  },
  {
   "cell_type": "code",
   "execution_count": 12,
   "id": "0b79348c-f079-4231-a07b-844826a8092f",
   "metadata": {},
   "outputs": [
    {
     "name": "stderr",
     "output_type": "stream",
     "text": [
      "/glade/scratch/ksha/ipykernel_166659/1739501477.py:1: UserWarning: The input coordinates to pcolormesh are interpreted as cell centers, but are not monotonically increasing or decreasing. This may lead to incorrectly calculated cell edges, in which case, please supply explicit cell edges to pcolormesh.\n",
      "  plt.pcolormesh(lon_80km, lat_80km, mask_grid)\n",
      "/glade/scratch/ksha/ipykernel_166659/1739501477.py:2: UserWarning: The input coordinates to pcolormesh are interpreted as cell centers, but are not monotonically increasing or decreasing. This may lead to incorrectly calculated cell edges, in which case, please supply explicit cell edges to pcolormesh.\n",
      "  plt.pcolormesh(lon_3km, lat_3km, land_mask_3km, alpha=0.5)\n"
     ]
    },
    {
     "data": {
      "text/plain": [
       "<matplotlib.collections.QuadMesh at 0x2b924276bd90>"
      ]
     },
     "execution_count": 12,
     "metadata": {},
     "output_type": "execute_result"
    },
    {
     "data": {
      "image/png": "[encoded data removed]",
      "text/plain": [
       "<Figure size 640x480 with 1 Axes>"
      ]
     },
     "metadata": {},
     "output_type": "display_data"
    }
   ],
   "source": [
    "plt.pcolormesh(lon_80km, lat_80km, mask_grid)\n",
    "plt.pcolormesh(lon_3km, lat_3km, land_mask_3km, alpha=0.5)"
   ]
  },
  {
   "cell_type": "code",
   "execution_count": 14,
   "id": "b183b348-9cb3-49e1-b365-7fd52a756d66",
   "metadata": {},
   "outputs": [],
   "source": [
    "land_mask_80km = mask_grid"
   ]
  },
  {
   "cell_type": "code",
   "execution_count": 15,
   "id": "7fba39df-a6a8-481c-a316-169073923310",
   "metadata": {},
   "outputs": [
    {
     "name": "stdout",
     "output_type": "stream",
     "text": [
      "Save to /glade/work/ksha/NCAR/HRRR_domain.hdf\n"
     ]
    }
   ],
   "source": [
    "save_dir = '/glade/work/ksha/NCAR/'\n",
    "\n",
    "tuple_save = (lon_80km, lat_80km, lon_3km, lat_3km, \n",
    "              land_mask_3km, land_mask_80km, elev_3km)\n",
    "\n",
    "label_save = ['lon_80km', 'lat_80km', 'lon_3km', 'lat_3km', \n",
    "              'land_mask_3km', 'land_mask_80km', 'elev_3km']\n",
    "\n",
    "du.save_hdf5(tuple_save, label_save, save_dir, 'HRRR_domain.hdf')"
   ]
  },
  {
   "cell_type": "code",
   "execution_count": 16,
   "id": "3e06c193-70f1-428b-a57f-5c9f9f7cd7bb",
   "metadata": {},
   "outputs": [],
   "source": [
    "# with h5py.File(save_dir+'HRRR_domain_backup.hdf', 'r') as h5io:\n",
    "#     print(h5io.keys())\n",
    "#     lon_80km = h5io['lon_80km'][...]\n",
    "#     lat_80km = h5io['lat_80km'][...]\n",
    "#     lon_72km = h5io['lon_72km'][...]\n",
    "#     lat_72km = h5io['lat_72km'][...]\n",
    "#     lon_3km = h5io['lon_3km'][...]\n",
    "#     lat_3km = h5io['lat_3km'][...]\n",
    "#     elev_3km = h5io['elev_3km'][...]\n",
    "#     land_mask_3km = h5io['land_mask_3km'][...]\n",
    "#     land_mask_72km = h5io['land_mask_72km'][...]\n",
    "#     land_mask_80km = h5io['land_mask_80km'][...]"
   ]
  },
  {
   "cell_type": "code",
   "execution_count": null,
   "id": "64766427-2f51-4970-8db0-559a14eb8aac",
   "metadata": {},
   "outputs": [],
   "source": []
  },
  {
   "cell_type": "code",
   "execution_count": null,
   "id": "e76a1ac8-9fc9-4fac-b26b-26f60ce41522",
   "metadata": {},
   "outputs": [],
   "source": []
  }
 ],
 "metadata": {
  "kernelspec": {
   "display_name": "Python 3 (ipykernel)",
   "language": "python",
   "name": "python3"
  },
  "language_info": {
   "codemirror_mode": {
    "name": "ipython",
    "version": 3
   },
   "file_extension": ".py",
   "mimetype": "text/x-python",
   "name": "python",
   "nbconvert_exporter": "python",
   "pygments_lexer": "ipython3",
   "version": "3.9.15"
  }
 },
 "nbformat": 4,
 "nbformat_minor": 5
}
