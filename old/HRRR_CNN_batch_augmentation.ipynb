{
 "cells": [
  {
   "cell_type": "code",
   "execution_count": 1,
   "id": "0a48dd73-c51d-4923-9f7a-4a06abef74a5",
   "metadata": {},
   "outputs": [],
   "source": [
    "import sys\n",
    "from glob import glob\n",
    "\n",
    "import time\n",
    "import h5py\n",
    "import zarr\n",
    "import numpy as np\n",
    "import pandas as pd"
   ]
  },
  {
   "cell_type": "code",
   "execution_count": 2,
   "id": "a35f9db1-a1ac-468d-922b-0603dae93d2c",
   "metadata": {},
   "outputs": [],
   "source": [
    "sys.path.insert(0, '/glade/u/home/ksha/NCAR/')\n",
    "sys.path.insert(0, '/glade/u/home/ksha/NCAR/libs/')\n",
    "\n",
    "from namelist import *\n",
    "import data_utils as du"
   ]
  },
  {
   "cell_type": "code",
   "execution_count": 3,
   "id": "cd2a2f04-5c13-4e25-9883-1c95d42905e0",
   "metadata": {},
   "outputs": [],
   "source": [
    "import matplotlib.pyplot as plt\n",
    "%matplotlib inline"
   ]
  },
  {
   "cell_type": "code",
   "execution_count": 4,
   "id": "88332dcc-1ab6-4992-a24e-4536589fb086",
   "metadata": {},
   "outputs": [],
   "source": [
    "from datetime import datetime, timedelta"
   ]
  },
  {
   "cell_type": "code",
   "execution_count": 5,
   "id": "fd50a53f-524f-4ef1-ac46-2e7858806611",
   "metadata": {},
   "outputs": [],
   "source": [
    "import subprocess"
   ]
  },
  {
   "cell_type": "code",
   "execution_count": 6,
   "id": "0b868331-c3ad-4693-be25-8e1cd04741e2",
   "metadata": {},
   "outputs": [],
   "source": [
    "lead = 9"
   ]
  },
  {
   "cell_type": "markdown",
   "id": "e1367d94-0fbe-4852-858d-2984c75266bb",
   "metadata": {},
   "source": [
    "### Import HRRR v3"
   ]
  },
  {
   "cell_type": "code",
   "execution_count": 7,
   "id": "c61d7f27-e90a-435f-8f84-9a2e7433b7d8",
   "metadata": {},
   "outputs": [
    {
     "name": "stdout",
     "output_type": "stream",
     "text": [
      "--- 1815.733027935028 seconds ---\n"
     ]
    }
   ],
   "source": [
    "start_time = time.time()\n",
    "\n",
    "HRRRv3_lead = zarr.load(save_dir_scratch+'HRRR_{:02}_v3.zarr'.format(lead))\n",
    "\n",
    "print(\"--- %s seconds ---\" % (time.time() - start_time))"
   ]
  },
  {
   "cell_type": "code",
   "execution_count": 9,
   "id": "7c24f8f6-9ead-4730-8e88-63cc3781693b",
   "metadata": {},
   "outputs": [],
   "source": [
    "with h5py.File(save_dir_scratch+'SPC_to_lead{}.hdf'.format(lead), 'r') as h5io:\n",
    "    record_v3 = h5io['record_v3'][...]"
   ]
  },
  {
   "cell_type": "code",
   "execution_count": 36,
   "id": "d2be0beb-9775-4d71-b78e-9495bbba03e7",
   "metadata": {},
   "outputs": [],
   "source": [
    "with h5py.File(save_dir+'HRRR_domain.hdf', 'r') as h5io:\n",
    "    lon_3km = h5io['lon_3km'][...]\n",
    "    lat_3km = h5io['lat_3km'][...]\n",
    "    lon_72km = h5io['lon_72km'][...]\n",
    "    lat_72km = h5io['lat_72km'][...]"
   ]
  },
  {
   "cell_type": "code",
   "execution_count": 56,
   "id": "d6489ac0-4ae8-4cb5-aa8a-cd69981c76da",
   "metadata": {},
   "outputs": [],
   "source": [
    "batch_dir_neg = '/glade/scratch/ksha/DATA/NCAR_batch_neg/'\n",
    "\n",
    "features_pick = [10, 13, 18, 19, 20]\n",
    "\n",
    "mean_dp = 280\n",
    "std_dp = 12\n",
    "\n",
    "mean_srh = 41\n",
    "std_srh = 80\n",
    "\n",
    "mean_ushear = 3\n",
    "std_ushear = 5\n",
    "\n",
    "mean_vshear = 0.2\n",
    "std_vshear = 5\n",
    "\n",
    "grid_shape = record_v3.shape\n",
    "\n",
    "L_vars = len(features_pick)\n",
    "\n",
    "target_size = 24\n",
    "input_size = 128\n",
    "\n",
    "half_margin = int((input_size - target_size) / 2)\n",
    "\n",
    "grid_shape_input = (1059, 1799)\n",
    "\n",
    "prefix_train = 'TRAIN_neg_{}_mag{}_lead'+str(lead)+'.npy'\n",
    "prefix_valid = 'VALID_neg_{}_mag{}_lead'+str(lead)+'.npy'\n",
    "\n",
    "L_train = np.min([675, grid_shape[0]])\n",
    "L_valid = grid_shape[0]-L_train\n",
    "\n",
    "count = 0\n",
    "out_slice = np.empty((1, input_size, input_size, L_vars))\n",
    "\n",
    "count = 0\n",
    "\n",
    "for i in range(grid_shape[0]-1):\n",
    "\n",
    "    if i < L_train:\n",
    "        prefix = prefix_train\n",
    "    else:\n",
    "        prefix = prefix_valid\n",
    "\n",
    "    lon_temp = record_v3[i, 0]\n",
    "    lat_temp = record_v3[i, 1]\n",
    "    mag_temp = record_v3[i, 2]\n",
    "\n",
    "    flag_obs = lon_temp + lat_temp\n",
    "\n",
    "    if np.logical_not(np.isnan(flag_obs)):\n",
    "\n",
    "        k = i + 1\n",
    "\n",
    "        lon_temp_neg = record_v3[k, 0]\n",
    "        lat_temp_neg = record_v3[k, 1]\n",
    "\n",
    "        flag_obs_neg = lon_temp_neg + lat_temp_neg\n",
    "        \n",
    "        indx_3km, indy_3km = du.grid_search(lon_3km, lat_3km, np.array(lon_temp)[None], np.array(lat_temp)[None])\n",
    "        indx_3km = indx_3km[0]\n",
    "        indy_3km = indy_3km[0]\n",
    "        \n",
    "        while np.isnan(flag_obs_neg) and k < grid_shape[0]:\n",
    "            #print(k)\n",
    "            \n",
    "            for augx in range(0, target_size, 4):\n",
    "                for augy in range(0, target_size, 4):\n",
    "\n",
    "                    x_margin_left = augx\n",
    "                    x_margin_right = target_size - augx\n",
    "\n",
    "                    y_margin_bottom = augy\n",
    "                    y_margin_top = target_size - augy\n",
    "\n",
    "                    x_edge_left = indx_3km - x_margin_left - half_margin\n",
    "                    x_edge_right = indx_3km + x_margin_right + half_margin\n",
    "\n",
    "                    y_edge_bottom = indy_3km - y_margin_bottom - half_margin\n",
    "                    y_edge_top = indy_3km + y_margin_top + half_margin\n",
    "                    \n",
    "\n",
    "                    if x_edge_left >= 0 and y_edge_bottom >= 0 and x_edge_right <= grid_shape_input[0] and y_edge_top <= grid_shape_input[1]:\n",
    "                        for v, ind_var in enumerate(features_pick):\n",
    "                            out_slice[..., v] = HRRRv3_lead[k, x_edge_left:x_edge_right, y_edge_bottom:y_edge_top, ind_var]\n",
    "\n",
    "                        # ----- Normalization ----- #\n",
    "                        out_slice[..., 0] = (out_slice[..., 0] - mean_dp) / std_dp\n",
    "                        out_slice[..., 1] = np.log(out_slice[..., 1]+1)\n",
    "                        out_slice[..., 2] = (out_slice[..., 2] - mean_srh) / std_srh\n",
    "                        out_slice[..., 3] = (out_slice[..., 3] - mean_ushear) / std_ushear\n",
    "                        out_slice[..., 4] = (out_slice[..., 4] - mean_vshear) / std_vshear\n",
    "                        # ------------------------- #\n",
    "\n",
    "                        save_name = batch_dir_neg+prefix.format(count, int(mag_temp))\n",
    "                        print(save_name)\n",
    "                        np.save(save_name, out_slice)\n",
    "\n",
    "                        count += 1\n",
    "\n",
    "            k += 1\n",
    "            if k < grid_shape[0]:\n",
    "                lon_temp_neg = record_v3[k, 0]\n",
    "                lat_temp_neg = record_v3[k, 1]\n",
    "\n",
    "                flag_obs_neg = lon_temp_neg + lat_temp_neg\n",
    "            else:\n",
    "                flag_obs_neg = 999\n",
    "\n"
   ]
  },
  {
   "cell_type": "code",
   "execution_count": 20,
   "id": "46d229dc-bee6-45e8-912e-4ddbeb6e7086",
   "metadata": {},
   "outputs": [],
   "source": []
  },
  {
   "cell_type": "code",
   "execution_count": 59,
   "id": "ea8a4676-4dc2-4e77-9925-707dd7b3f084",
   "metadata": {},
   "outputs": [],
   "source": [
    "# count = 0\n",
    "\n",
    "# for i in range(grid_shape[0]-1):\n",
    "\n",
    "#     if i < L_train:\n",
    "#         prefix = prefix_train\n",
    "#     else:\n",
    "#         prefix = prefix_valid\n",
    "\n",
    "#     lon_temp = record_v3[i, 0]\n",
    "#     lat_temp = record_v3[i, 1]\n",
    "#     mag_temp = record_v3[i, 2]\n",
    "\n",
    "#     flag_obs = lon_temp + lat_temp\n",
    "\n",
    "#     if np.logical_not(np.isnan(flag_obs)):\n",
    "\n",
    "#         k = i + 1\n",
    "\n",
    "#         lon_temp_neg = record_v3[k, 0]\n",
    "#         lat_temp_neg = record_v3[k, 1]\n",
    "\n",
    "#         flag_obs_neg = lon_temp_neg + lat_temp_neg\n",
    "        \n",
    "#         indx_3km, indy_3km = du.grid_search(lon_3km, lat_3km, np.array(lon_temp)[None], np.array(lat_temp)[None])\n",
    "#         indx_3km = indx_3km[0]\n",
    "#         indy_3km = indy_3km[0]\n",
    "        \n",
    "#         while np.isnan(flag_obs_neg) and k < grid_shape[0]:\n",
    "#             #print(k)\n",
    "            \n",
    "#             for augx in range(0, target_size, 4):\n",
    "#                 for augy in range(0, target_size, 4):\n",
    "\n",
    "#                     x_margin_left = augx\n",
    "#                     x_margin_right = target_size - augx\n",
    "\n",
    "#                     y_margin_bottom = augy\n",
    "#                     y_margin_top = target_size - augy\n",
    "\n",
    "#                     x_edge_left = indx_3km - x_margin_left - half_margin\n",
    "#                     x_edge_right = indx_3km + x_margin_right + half_margin\n",
    "\n",
    "#                     y_edge_bottom = indy_3km - y_margin_bottom - half_margin\n",
    "#                     y_edge_top = indy_3km + y_margin_top + half_margin\n",
    "                    \n",
    "\n",
    "#                     if x_edge_left >= 0 and y_edge_bottom >= 0 and x_edge_right <= grid_shape_input[0] and y_edge_top <= grid_shape_input[1]:\n",
    "#                         for v, ind_var in enumerate(features_pick):\n",
    "#                             out_slice[..., v] = HRRRv3_lead[k, x_edge_left:x_edge_right, y_edge_bottom:y_edge_top, ind_var]\n",
    "\n",
    "#                         # ----- Normalization ----- #\n",
    "#                         out_slice[..., 0] = (out_slice[..., 0] - mean_dp) / std_dp\n",
    "#                         out_slice[..., 1] = np.log(out_slice[..., 1]+1)\n",
    "#                         out_slice[..., 2] = (out_slice[..., 2] - mean_srh) / std_srh\n",
    "#                         out_slice[..., 3] = (out_slice[..., 3] - mean_ushear) / std_ushear\n",
    "#                         out_slice[..., 4] = (out_slice[..., 4] - mean_vshear) / std_vshear\n",
    "#                         # ------------------------- #\n",
    "\n",
    "#                         save_name = batch_dir_neg+prefix.format(count, int(mag_temp))\n",
    "#                         print(save_name)\n",
    "#                         np.save(save_name, out_slice)\n",
    "\n",
    "#                         count += 1\n",
    "\n",
    "#             k += 1\n",
    "#             if k < grid_shape[0]:\n",
    "#                 lon_temp_neg = record_v3[k, 0]\n",
    "#                 lat_temp_neg = record_v3[k, 1]\n",
    "\n",
    "#                 flag_obs_neg = lon_temp_neg + lat_temp_neg\n",
    "#             else:\n",
    "#                 flag_obs_neg = 999\n"
   ]
  },
  {
   "cell_type": "code",
   "execution_count": 34,
   "id": "b1da2959-ca98-444a-8008-9b937e83d957",
   "metadata": {},
   "outputs": [
    {
     "data": {
      "text/plain": [
       "True"
      ]
     },
     "execution_count": 34,
     "metadata": {},
     "output_type": "execute_result"
    }
   ],
   "source": [
    "k < grid_shape[0]"
   ]
  },
  {
   "cell_type": "code",
   "execution_count": null,
   "id": "34009e6e-5059-40e7-b012-e3e80d54a481",
   "metadata": {},
   "outputs": [],
   "source": []
  },
  {
   "cell_type": "code",
   "execution_count": null,
   "id": "97df8788-76a0-41e2-ab90-321419e54e4e",
   "metadata": {},
   "outputs": [],
   "source": []
  },
  {
   "cell_type": "code",
   "execution_count": null,
   "id": "32dcee68-557c-40d1-87f8-dcb8d8626c72",
   "metadata": {},
   "outputs": [],
   "source": []
  },
  {
   "cell_type": "code",
   "execution_count": null,
   "id": "05296e01-b242-4258-adb8-2c108e80ea4d",
   "metadata": {},
   "outputs": [],
   "source": []
  },
  {
   "cell_type": "markdown",
   "id": "3cb6650e-da72-4169-af3f-69498ba94583",
   "metadata": {},
   "source": [
    "### Import tornado observations"
   ]
  },
  {
   "cell_type": "code",
   "execution_count": 16,
   "id": "f8daead8-508f-4e88-b181-d522814a2584",
   "metadata": {},
   "outputs": [],
   "source": [
    "with h5py.File(save_dir_scratch+'SPC_to_lead{}.hdf'.format(lead), 'r') as h5io:\n",
    "    record_v3 = h5io['record_v3'][...]"
   ]
  },
  {
   "cell_type": "code",
   "execution_count": 9,
   "id": "82285484-41b0-4fc0-a557-e9abae8283f2",
   "metadata": {},
   "outputs": [
    {
     "data": {
      "text/plain": [
       "(872, 1059, 1799, 23)"
      ]
     },
     "execution_count": 9,
     "metadata": {},
     "output_type": "execute_result"
    }
   ],
   "source": [
    "HRRRv3_lead.shape"
   ]
  },
  {
   "cell_type": "markdown",
   "id": "8d9842a1-9f8e-459e-83e6-cd5b4549e2f6",
   "metadata": {},
   "source": [
    "### Import domain info"
   ]
  },
  {
   "cell_type": "code",
   "execution_count": 52,
   "id": "21ce021c-bc05-43c7-98ce-6383c571f68d",
   "metadata": {},
   "outputs": [],
   "source": [
    "with h5py.File(save_dir+'HRRR_domain.hdf', 'r') as h5io:\n",
    "    lon_3km = h5io['lon_3km'][...]\n",
    "    lat_3km = h5io['lat_3km'][...]\n",
    "    lon_72km = h5io['lon_72km'][...]\n",
    "    lat_72km = h5io['lat_72km'][...]"
   ]
  },
  {
   "cell_type": "markdown",
   "id": "0643fe06-4b1e-4ae3-b56a-ea56f23298d6",
   "metadata": {},
   "source": [
    "### Predictors"
   ]
  },
  {
   "cell_type": "code",
   "execution_count": 88,
   "id": "b815e93a-1aee-4d6a-8c37-4b64482120ac",
   "metadata": {},
   "outputs": [],
   "source": [
    "names = [\n",
    "    'Maximum/Composite radar reflectivity:dB (instant):lambert:atmosphere:level 0',\n",
    "    'MSLP (MAPS System Reduction):Pa (instant):lambert:meanSea:level 0',\n",
    "    '1016:198:198 (max):lambert:heightAboveGround:level 1000 m',\n",
    "    '1018:199:199 (max):lambert:heightAboveGroundLayer:levels 5000-2000 m',\n",
    "    '1020:199:199 (max):lambert:heightAboveGroundLayer:levels 2000-0 m',\n",
    "    '1022:199:199 (max):lambert:heightAboveGroundLayer:levels 3000-0 m',\n",
    "    'Vorticity (relative):s**-1 (max):lambert:heightAboveGroundLayer:levels 2000-0 m',\n",
    "    'Vorticity (relative):s**-1 (max):lambert:heightAboveGroundLayer:levels 1000-0 m',\n",
    "    '1028:74:74 (max):lambert:atmosphereSingleLayer:level 0 considered as a single layer',\n",
    "    '2 metre temperature:K (instant):lambert:heightAboveGround:level 2 m',\n",
    "    '2 metre dewpoint temperature:K (instant):lambert:heightAboveGround:level 2 m',\n",
    "    '10 metre U wind component:m s**-1 (instant):lambert:heightAboveGround:level 10 m',\n",
    "    '10 metre V wind component:m s**-1 (instant):lambert:heightAboveGround:level 10 m',\n",
    "    '10 metre wind speed:m s**-1 (max):lambert:heightAboveGround:level 10 m',\n",
    "    'Total Precipitation:kg m**-2 (accum):lambert:surface:level 0',\n",
    "    'Convective available potential energy:J kg**-1 (instant):lambert:surface:level 0',\n",
    "    'Convective inhibition:J kg**-1 (instant):lambert:surface:level 0',\n",
    "    'Storm relative helicity:J kg**-1 (instant):lambert:heightAboveGroundLayer:levels 3000-0 m',\n",
    "    'Storm relative helicity:J kg**-1 (instant):lambert:heightAboveGroundLayer:levels 1000-0 m',\n",
    "    'Vertical u-component shear:s**-1 (instant):lambert:heightAboveGroundLayer:levels 0-1000 m',\n",
    "    'Vertical v-component shear:s**-1 (instant):lambert:heightAboveGroundLayer:levels 0-1000 m',\n",
    "    'Vertical u-component shear:s**-1 (instant):lambert:heightAboveGroundLayer:levels 0-6000 m',\n",
    "    'Vertical v-component shear:s**-1 (instant):lambert:heightAboveGroundLayer:levels 0-6000 m'\n",
    "]"
   ]
  },
  {
   "cell_type": "code",
   "execution_count": 89,
   "id": "4f4cce10-d2b8-4eab-8885-def25c62cdd0",
   "metadata": {},
   "outputs": [
    {
     "name": "stdout",
     "output_type": "stream",
     "text": [
      "the following predictors are selected:\n",
      "\n",
      "\t2 metre dewpoint temperature:K (instant):lambert:heightAboveGround:level 2 m\n",
      "\t10 metre wind speed:m s**-1 (max):lambert:heightAboveGround:level 10 m\n",
      "\tStorm relative helicity:J kg**-1 (instant):lambert:heightAboveGroundLayer:levels 1000-0 m\n",
      "\tVertical u-component shear:s**-1 (instant):lambert:heightAboveGroundLayer:levels 0-1000 m\n",
      "\tVertical v-component shear:s**-1 (instant):lambert:heightAboveGroundLayer:levels 0-1000 m\n"
     ]
    }
   ],
   "source": [
    "features_pick = [10, 13, 18, 19, 20]\n",
    "\n",
    "print(\"the following predictors are selected:\\n\")\n",
    "\n",
    "for ind in features_pick:\n",
    "    print('\\t'+names[ind])"
   ]
  },
  {
   "cell_type": "code",
   "execution_count": 90,
   "id": "63570f06-5b9b-489b-8d39-2e970313bf32",
   "metadata": {},
   "outputs": [],
   "source": [
    "mean_dp = 280\n",
    "std_dp = 12\n",
    "\n",
    "mean_srh = 41\n",
    "std_srh = 80\n",
    "\n",
    "mean_ushear = 3\n",
    "std_ushear = 5\n",
    "\n",
    "mean_vshear = 0.2\n",
    "std_vshear = 5\n"
   ]
  },
  {
   "cell_type": "code",
   "execution_count": 91,
   "id": "a9adab13-2da8-4d4b-8035-b7b852edac65",
   "metadata": {},
   "outputs": [],
   "source": [
    "grid_shape = record_v3.shape\n",
    "L_max = int(grid_shape[-1]/3)*grid_shape[0]\n",
    "\n",
    "L_vars = len(features_pick)"
   ]
  },
  {
   "cell_type": "code",
   "execution_count": 92,
   "id": "0a1a101a-a4d9-4b73-b4cd-819822cbec91",
   "metadata": {},
   "outputs": [],
   "source": [
    "target_size = 24\n",
    "input_size = 128\n",
    "\n",
    "half_margin = int((input_size - target_size) / 2)\n",
    "\n",
    "grid_shape_input = (1059, 1799)"
   ]
  },
  {
   "cell_type": "code",
   "execution_count": 115,
   "id": "7f711de8-ce5b-4b23-ab33-9765d15ef406",
   "metadata": {},
   "outputs": [],
   "source": [
    "batch_dir = '/glade/scratch/ksha/DATA/NCAR_batch/'\n",
    "prefix_train = 'TRAIN_pos_{}_mag{}_lead'+str(lead)+'.npy'\n",
    "prefix_train = 'VALID_pos_{}_mag{}_lead'+str(lead)+'.npy'"
   ]
  },
  {
   "cell_type": "code",
   "execution_count": 119,
   "id": "86bebc7b-f74e-45ea-affc-3cdc9703ef69",
   "metadata": {},
   "outputs": [],
   "source": [
    "L_train = 800\n",
    "L_valid = 72"
   ]
  },
  {
   "cell_type": "code",
   "execution_count": null,
   "id": "5a1f44e9-bbf9-4dae-927c-612e295686a2",
   "metadata": {},
   "outputs": [],
   "source": []
  },
  {
   "cell_type": "code",
   "execution_count": 123,
   "id": "40d67828-0df0-4f51-816b-77b77a73b0c5",
   "metadata": {},
   "outputs": [
    {
     "data": {
      "text/plain": [
       "800"
      ]
     },
     "execution_count": 123,
     "metadata": {},
     "output_type": "execute_result"
    }
   ],
   "source": [
    "np.min([800, grid_shape[0]])"
   ]
  },
  {
   "cell_type": "code",
   "execution_count": null,
   "id": "7f05463d-24f6-47b1-b5fb-f67a65b5179b",
   "metadata": {},
   "outputs": [],
   "source": []
  }
 ],
 "metadata": {
  "kernelspec": {
   "display_name": "Python 3 (ipykernel)",
   "language": "python",
   "name": "python3"
  },
  "language_info": {
   "codemirror_mode": {
    "name": "ipython",
    "version": 3
   },
   "file_extension": ".py",
   "mimetype": "text/x-python",
   "name": "python",
   "nbconvert_exporter": "python",
   "pygments_lexer": "ipython3",
   "version": "3.9.13"
  }
 },
 "nbformat": 4,
 "nbformat_minor": 5
}
