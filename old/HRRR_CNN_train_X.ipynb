{
 "cells": [
  {
   "cell_type": "code",
   "execution_count": 1,
   "id": "ce76310e-2358-43eb-ba0c-188a45af0b5e",
   "metadata": {},
   "outputs": [],
   "source": [
    "# general tools\n",
    "import sys\n",
    "from glob import glob\n",
    "\n",
    "# data tools\n",
    "import time\n",
    "import h5py\n",
    "import random\n",
    "import numpy as np\n",
    "from random import shuffle\n",
    "\n",
    "import matplotlib.pyplot as plt\n",
    "%matplotlib inline"
   ]
  },
  {
   "cell_type": "code",
   "execution_count": 2,
   "id": "ee2f455b-7a16-4d6c-b673-ff37e482f46d",
   "metadata": {},
   "outputs": [
    {
     "name": "stderr",
     "output_type": "stream",
     "text": [
      "2022-08-06 17:23:49.814251: I tensorflow/stream_executor/platform/default/dso_loader.cc:49] Successfully opened dynamic library libcudart.so.10.1\n"
     ]
    }
   ],
   "source": [
    "# deep learning tools\n",
    "import tensorflow as tf\n",
    "from tensorflow import keras\n",
    "\n",
    "from keras_unet_collection import models as k_models\n",
    "from keras_unet_collection import utils as k_utils\n",
    "from keras_unet_collection import layer_utils as k_layers\n",
    "from keras_unet_collection.activations import GELU"
   ]
  },
  {
   "cell_type": "code",
   "execution_count": 3,
   "id": "f1a4ac9a-f7f6-4dbb-a676-c787f2c01f3c",
   "metadata": {},
   "outputs": [],
   "source": [
    "from tensorflow.keras.utils import to_categorical"
   ]
  },
  {
   "cell_type": "code",
   "execution_count": 4,
   "id": "329c3d14-edd9-49fa-a0b6-c112ea9c7553",
   "metadata": {},
   "outputs": [],
   "source": [
    "sys.path.insert(0, '/glade/u/home/ksha/NCAR/')\n",
    "sys.path.insert(0, '/glade/u/home/ksha/NCAR/libs/')\n",
    "\n",
    "from namelist import *\n",
    "import data_utils as du"
   ]
  },
  {
   "cell_type": "code",
   "execution_count": null,
   "id": "9e1ee330-cf69-4ead-aa86-42cb0aeec11b",
   "metadata": {},
   "outputs": [],
   "source": []
  },
  {
   "cell_type": "code",
   "execution_count": 5,
   "id": "c181e0e9-cf6a-4fc9-a913-97562ce045c2",
   "metadata": {},
   "outputs": [],
   "source": [
    "filename_train_pos = sorted(glob(\"/glade/scratch/ksha/DATA/NCAR_batch/*TRAIN*.npy\"))\n",
    "filename_train_neg = sorted(glob(\"/glade/scratch/ksha/DATA/NCAR_batch_neg/*TRAIN*.npy\"))\n",
    "\n",
    "filename_valid_pos = sorted(glob(\"/glade/scratch/ksha/DATA/NCAR_batch/*VALID*.npy\"))[::10]\n",
    "filename_valid_neg = sorted(glob(\"/glade/scratch/ksha/DATA/NCAR_batch_neg/*VALID*.npy\"))[::10]"
   ]
  },
  {
   "cell_type": "code",
   "execution_count": 6,
   "id": "8a1ca07d-9a52-4d14-94ca-060782457026",
   "metadata": {},
   "outputs": [],
   "source": [
    "grid_shape = (128, 128)\n",
    "\n",
    "label_pos = np.ones(len(filename_valid_pos))\n",
    "label_neg = np.zeros(len(filename_valid_neg))\n",
    "VALID_label = np.hstack([label_pos, label_neg])\n",
    "\n",
    "L_valid = len(VALID_label)\n",
    "\n",
    "VALID_input = np.empty((L_valid,)+grid_shape+(5,))\n",
    "\n",
    "for i, filename in enumerate(filename_valid_pos+filename_valid_neg):\n",
    "    data = np.load(filename)\n",
    "    VALID_input[i, ...] = data[...]"
   ]
  },
  {
   "cell_type": "code",
   "execution_count": 7,
   "id": "ed6b2f42-6554-4934-a99d-31da92f18145",
   "metadata": {},
   "outputs": [],
   "source": [
    "VALID_label_cate = to_categorical(VALID_label)"
   ]
  },
  {
   "cell_type": "code",
   "execution_count": 8,
   "id": "3668142d-fef2-498e-89c2-ec7efe6e161d",
   "metadata": {},
   "outputs": [],
   "source": [
    "from tensorflow.keras.applications import Xception"
   ]
  },
  {
   "cell_type": "code",
   "execution_count": 24,
   "id": "0b21ea30-fb99-45e6-8c3d-b5c423b9d957",
   "metadata": {},
   "outputs": [
    {
     "name": "stderr",
     "output_type": "stream",
     "text": [
      "/glade/work/ksha/anaconda3/lib/python3.9/site-packages/tensorflow/python/keras/applications/imagenet_utils.py:331: UserWarning: This model usually expects 1 or 3 input channels. However, it was passed an input_shape with 5 input channels.\n",
      "  warnings.warn('This model usually expects 1 or 3 input channels. '\n"
     ]
    }
   ],
   "source": [
    "model = Xception(include_top=True,\n",
    "                 weights=None,\n",
    "                 input_tensor=None,\n",
    "                 input_shape=(128, 128, 5),\n",
    "                 pooling=None,\n",
    "                 classes=2,\n",
    "                 classifier_activation=\"softmax\",)"
   ]
  },
  {
   "cell_type": "code",
   "execution_count": 25,
   "id": "cb49538d-f688-48cb-b35d-17c4ead379c8",
   "metadata": {},
   "outputs": [],
   "source": [
    "model.compile(loss=keras.losses.categorical_crossentropy, optimizer=keras.optimizers.Adam(lr=1e-4))"
   ]
  },
  {
   "cell_type": "code",
   "execution_count": 26,
   "id": "dd91c3ed-4f9e-4d56-8c0a-1b74c820906d",
   "metadata": {},
   "outputs": [],
   "source": [
    "#model.compile(loss=keras.losses.categorical_crossentropy, optimizer=keras.optimizers.SGD(lr=1e-5))"
   ]
  },
  {
   "cell_type": "code",
   "execution_count": 27,
   "id": "ca8e6183-6964-467a-8ebe-01b822b8b8f0",
   "metadata": {},
   "outputs": [],
   "source": [
    "tol = 0\n",
    "min_del = 0\n",
    "max_tol = 500 # early stopping with patience\n",
    "\n",
    "epochs = 500\n",
    "L_train = 64\n",
    "batch_size = 100\n",
    "batch_size_half = 50\n",
    "\n",
    "valid_size = 1"
   ]
  },
  {
   "cell_type": "code",
   "execution_count": 28,
   "id": "67244080-0104-4922-9543-941d6318f26a",
   "metadata": {},
   "outputs": [],
   "source": [
    "\n",
    "batch_dir = '/glade/scratch/ksha/DATA/NCAR_batch/'\n",
    "temp_dir = '/glade/work/ksha/NCAR/Keras_models/'\n",
    "\n",
    "key = 'Xcept_chad'\n",
    "\n",
    "model_name = '{}_pp5'.format(key)\n",
    "model_path = temp_dir+model_name"
   ]
  },
  {
   "cell_type": "code",
   "execution_count": 29,
   "id": "b6bf49a3-1b86-484a-b8e2-94cadceb6ce8",
   "metadata": {},
   "outputs": [],
   "source": [
    "X_batch = np.empty((batch_size, 128, 128, 5))*np.nan\n",
    "# Y_batch = np.empty((batch_size, 1))*np.nan"
   ]
  },
  {
   "cell_type": "code",
   "execution_count": 30,
   "id": "c9c63cfd-6675-4ed1-a369-0e11a0d75f56",
   "metadata": {},
   "outputs": [
    {
     "name": "stdout",
     "output_type": "stream",
     "text": [
      "Initial record: 1.0\n"
     ]
    }
   ],
   "source": [
    "#Y_pred = model.predict([VALID_X])\n",
    "record = 1.0 #np.nanmean(np.abs(Y_pred-VALID_Y))\n",
    "print(\"Initial record: {}\".format(record))"
   ]
  },
  {
   "cell_type": "code",
   "execution_count": 31,
   "id": "842940ff-c806-4094-96e5-71b903fe9276",
   "metadata": {},
   "outputs": [
    {
     "data": {
      "text/plain": [
       "[PhysicalDevice(name='/physical_device:GPU:0', device_type='GPU')]"
      ]
     },
     "execution_count": 31,
     "metadata": {},
     "output_type": "execute_result"
    }
   ],
   "source": [
    "tf.config.list_physical_devices('GPU')"
   ]
  },
  {
   "cell_type": "code",
   "execution_count": 32,
   "id": "7bc8fcbf-6dfa-4d4f-bb1c-b8d00f4070d7",
   "metadata": {},
   "outputs": [],
   "source": [
    "from sklearn.metrics import classification_report, auc, roc_curve"
   ]
  },
  {
   "cell_type": "code",
   "execution_count": 33,
   "id": "d9808d29-697e-4831-bd18-db6c6c65cd18",
   "metadata": {},
   "outputs": [
    {
     "name": "stdout",
     "output_type": "stream",
     "text": [
      "Validation loss improved from 1.0 to 0.3718861354831119\n",
      "save to: /glade/work/ksha/NCAR/Keras_models/Xcept_chad_pp5\n",
      "INFO:tensorflow:Assets written to: /glade/work/ksha/NCAR/Keras_models/Xcept_chad_pp5/assets\n",
      "--- 198.77639651298523 seconds ---\n",
      "Validation loss improved from 0.3718861354831119 to 0.35009164450075214\n",
      "save to: /glade/work/ksha/NCAR/Keras_models/Xcept_chad_pp5\n",
      "INFO:tensorflow:Assets written to: /glade/work/ksha/NCAR/Keras_models/Xcept_chad_pp5/assets\n",
      "--- 193.4740068912506 seconds ---\n",
      "Validation loss improved from 0.35009164450075214 to 0.3416244752666213\n",
      "save to: /glade/work/ksha/NCAR/Keras_models/Xcept_chad_pp5\n",
      "INFO:tensorflow:Assets written to: /glade/work/ksha/NCAR/Keras_models/Xcept_chad_pp5/assets\n",
      "--- 193.4643280506134 seconds ---\n",
      "Validation loss improved from 0.3416244752666213 to 0.2965750116607416\n",
      "save to: /glade/work/ksha/NCAR/Keras_models/Xcept_chad_pp5\n",
      "INFO:tensorflow:Assets written to: /glade/work/ksha/NCAR/Keras_models/Xcept_chad_pp5/assets\n",
      "--- 190.80728816986084 seconds ---\n",
      "Validation loss improved from 0.2965750116607416 to 0.25366164361831767\n",
      "save to: /glade/work/ksha/NCAR/Keras_models/Xcept_chad_pp5\n",
      "INFO:tensorflow:Assets written to: /glade/work/ksha/NCAR/Keras_models/Xcept_chad_pp5/assets\n",
      "--- 194.14038276672363 seconds ---\n",
      "Validation loss 0.5227603759591223 NOT improved\n",
      "Validation loss 0.5800953108060409 NOT improved\n"
     ]
    },
    {
     "ename": "KeyboardInterrupt",
     "evalue": "",
     "output_type": "error",
     "traceback": [
      "\u001b[0;31m---------------------------------------------------------------------------\u001b[0m",
      "\u001b[0;31mKeyboardInterrupt\u001b[0m                         Traceback (most recent call last)",
      "Input \u001b[0;32mIn [33]\u001b[0m, in \u001b[0;36m<cell line: 5>\u001b[0;34m()\u001b[0m\n\u001b[1;32m     20\u001b[0m file_pick \u001b[38;5;241m=\u001b[39m file_pick_pos\u001b[38;5;241m+\u001b[39mfile_pick_neg\n\u001b[1;32m     22\u001b[0m \u001b[38;5;28;01mfor\u001b[39;00m k \u001b[38;5;129;01min\u001b[39;00m \u001b[38;5;28mrange\u001b[39m(batch_size):\n\u001b[0;32m---> 23\u001b[0m     data \u001b[38;5;241m=\u001b[39m \u001b[43mnp\u001b[49m\u001b[38;5;241;43m.\u001b[39;49m\u001b[43mload\u001b[49m\u001b[43m(\u001b[49m\u001b[43mfile_pick\u001b[49m\u001b[43m[\u001b[49m\u001b[43mk\u001b[49m\u001b[43m]\u001b[49m\u001b[43m)\u001b[49m\n\u001b[1;32m     24\u001b[0m     X_batch[k, \u001b[38;5;241m.\u001b[39m\u001b[38;5;241m.\u001b[39m\u001b[38;5;241m.\u001b[39m] \u001b[38;5;241m=\u001b[39m data[\u001b[38;5;241m.\u001b[39m\u001b[38;5;241m.\u001b[39m\u001b[38;5;241m.\u001b[39m]\n\u001b[1;32m     26\u001b[0m Y_batch \u001b[38;5;241m=\u001b[39m np\u001b[38;5;241m.\u001b[39mones((batch_size, \u001b[38;5;241m1\u001b[39m))\n",
      "File \u001b[0;32m/glade/work/ksha/anaconda3/lib/python3.9/site-packages/numpy/lib/npyio.py:423\u001b[0m, in \u001b[0;36mload\u001b[0;34m(file, mmap_mode, allow_pickle, fix_imports, encoding)\u001b[0m\n\u001b[1;32m    421\u001b[0m _ZIP_SUFFIX \u001b[38;5;241m=\u001b[39m \u001b[38;5;124mb\u001b[39m\u001b[38;5;124m'\u001b[39m\u001b[38;5;124mPK\u001b[39m\u001b[38;5;130;01m\\x05\u001b[39;00m\u001b[38;5;130;01m\\x06\u001b[39;00m\u001b[38;5;124m'\u001b[39m \u001b[38;5;66;03m# empty zip files start with this\u001b[39;00m\n\u001b[1;32m    422\u001b[0m N \u001b[38;5;241m=\u001b[39m \u001b[38;5;28mlen\u001b[39m(\u001b[38;5;28mformat\u001b[39m\u001b[38;5;241m.\u001b[39mMAGIC_PREFIX)\n\u001b[0;32m--> 423\u001b[0m magic \u001b[38;5;241m=\u001b[39m \u001b[43mfid\u001b[49m\u001b[38;5;241;43m.\u001b[39;49m\u001b[43mread\u001b[49m\u001b[43m(\u001b[49m\u001b[43mN\u001b[49m\u001b[43m)\u001b[49m\n\u001b[1;32m    424\u001b[0m \u001b[38;5;66;03m# If the file size is less than N, we need to make sure not\u001b[39;00m\n\u001b[1;32m    425\u001b[0m \u001b[38;5;66;03m# to seek past the beginning of the file\u001b[39;00m\n\u001b[1;32m    426\u001b[0m fid\u001b[38;5;241m.\u001b[39mseek(\u001b[38;5;241m-\u001b[39m\u001b[38;5;28mmin\u001b[39m(N, \u001b[38;5;28mlen\u001b[39m(magic)), \u001b[38;5;241m1\u001b[39m)  \u001b[38;5;66;03m# back-up\u001b[39;00m\n",
      "\u001b[0;31mKeyboardInterrupt\u001b[0m: "
     ]
    }
   ],
   "source": [
    "# ------------------- #\n",
    "# loop of epoch\n",
    "#filenames = glob(batch_dir+'TRAIN*.npy')\n",
    "\n",
    "for i in range(epochs):\n",
    "    #print('epoch = {}'.format(i))\n",
    "    start_time = time.time()\n",
    "    shuffle(filename_train_pos)\n",
    "    shuffle(filename_train_neg)\n",
    "    \n",
    "    # loop of batch\n",
    "    for j in range(L_train):\n",
    "        \n",
    "        shuffle(filename_train_pos)\n",
    "        shuffle(filename_train_neg)\n",
    "        \n",
    "        file_pick_pos = filename_train_pos[:batch_size_half]\n",
    "        file_pick_neg = filename_train_neg[:batch_size_half]\n",
    "        \n",
    "        file_pick = file_pick_pos+file_pick_neg\n",
    "        \n",
    "        for k in range(batch_size):\n",
    "            data = np.load(file_pick[k])\n",
    "            X_batch[k, ...] = data[...]\n",
    "        \n",
    "        Y_batch = np.ones((batch_size, 1))\n",
    "        Y_batch[batch_size_half:, :] = 0\n",
    "        \n",
    "        ind_ = du.shuffle_ind(batch_size)\n",
    "        X_batch = X_batch[ind_, ...]\n",
    "        Y_batch = to_categorical(Y_batch[ind_, :])\n",
    "        Y_batch = Y_batch*0.9\n",
    "        Y_batch[Y_batch==0]=0.09\n",
    "        if np.sum(np.isnan(X_batch)) > 0:\n",
    "            asfeargagqarew\n",
    "        \n",
    "        # train on batch\n",
    "        model.train_on_batch([X_batch,], [Y_batch,]);\n",
    "    \n",
    "    # epoch end operations\n",
    "    Y_pred = model.predict([VALID_input])\n",
    "    Y_pred = Y_pred[:, 1]\n",
    "    fpr, tpr, thresholds = roc_curve(VALID_label.ravel(), Y_pred.ravel())\n",
    "    record_temp = auc(fpr, tpr)\n",
    "    record_temp = 1 - record_temp\n",
    "    \n",
    "    if record - record_temp > min_del:\n",
    "        print('Validation loss improved from {} to {}'.format(record, record_temp))\n",
    "        record = record_temp\n",
    "        tol = 0\n",
    "        #print('tol: {}'.format(tol))\n",
    "        # save\n",
    "        print('save to: {}'.format(model_path))\n",
    "        model.save(model_path)\n",
    "    else:\n",
    "        print('Validation loss {} NOT improved'.format(record_temp))\n",
    "        tol += 1\n",
    "        #print('tol: {}'.format(tol))\n",
    "        if tol >= max_tol:\n",
    "            print('Early stopping')\n",
    "            sys.exit();\n",
    "        else:\n",
    "            #print('Pass to the next epoch')\n",
    "            continue;\n",
    "    print(\"--- %s seconds ---\" % (time.time() - start_time))\n"
   ]
  },
  {
   "cell_type": "code",
   "execution_count": null,
   "id": "a12fe17f-d2c1-4be8-bb57-29104540dcaa",
   "metadata": {},
   "outputs": [],
   "source": []
  },
  {
   "cell_type": "code",
   "execution_count": null,
   "id": "70fd24f2-f431-4f19-be68-5a74451ff3b0",
   "metadata": {},
   "outputs": [],
   "source": []
  },
  {
   "cell_type": "code",
   "execution_count": null,
   "id": "0eacdadc-43a1-4777-b3f0-69c09503d772",
   "metadata": {},
   "outputs": [],
   "source": []
  },
  {
   "cell_type": "code",
   "execution_count": null,
   "id": "32328d12-868e-4e4f-b1c2-d9b08c6d82c8",
   "metadata": {},
   "outputs": [],
   "source": []
  },
  {
   "cell_type": "code",
   "execution_count": null,
   "id": "39573720-8d53-45ce-b96c-1dea0485acd1",
   "metadata": {},
   "outputs": [],
   "source": []
  },
  {
   "cell_type": "code",
   "execution_count": 34,
   "id": "910249a6-ead0-426b-9508-ef1c670e402a",
   "metadata": {},
   "outputs": [],
   "source": [
    "key = 'Xcept_chad'\n",
    "model_name = '{}_pp5'.format(key)\n",
    "model_path = temp_dir+model_name\n",
    "\n",
    "W = k_utils.dummy_loader(model_path)\n",
    "model.set_weights(W)\n",
    "\n",
    "model.compile(loss=keras.losses.categorical_crossentropy, optimizer=keras.optimizers.SGD(lr=1e-5))\n",
    "\n",
    "model_name = '{}_pp5_tune'.format(key)\n",
    "model_path = temp_dir+model_name"
   ]
  },
  {
   "cell_type": "code",
   "execution_count": 35,
   "id": "d88473a6-83c9-403c-9ba1-83d76e5daf4e",
   "metadata": {},
   "outputs": [
    {
     "name": "stdout",
     "output_type": "stream",
     "text": [
      "0.25366164361831767\n"
     ]
    }
   ],
   "source": [
    "Y_pred = model.predict([VALID_input])\n",
    "Y_pred = Y_pred[:, 1]\n",
    "\n",
    "fpr, tpr, thresholds = roc_curve(VALID_label.ravel(), Y_pred.ravel())\n",
    "record_temp = auc(fpr, tpr)\n",
    "record_temp = 1 - record_temp\n",
    "\n",
    "print(record_temp)"
   ]
  },
  {
   "cell_type": "code",
   "execution_count": 36,
   "id": "712dd196-b125-4909-8c11-6b61c31324a6",
   "metadata": {},
   "outputs": [
    {
     "name": "stdout",
     "output_type": "stream",
     "text": [
      "Validation loss 0.3245193620838901 NOT improved\n",
      "Validation loss 0.44887880917563805 NOT improved\n",
      "Validation loss 0.652474112628058 NOT improved\n",
      "Validation loss 0.7714807802612006 NOT improved\n",
      "Validation loss 0.8062652456319492 NOT improved\n",
      "Validation loss 0.6124312173814386 NOT improved\n",
      "Validation loss 0.4598206688223281 NOT improved\n",
      "Validation loss 0.30587445320575857 NOT improved\n",
      "Validation loss 0.2539610410416089 NOT improved\n",
      "Validation loss improved from 0.25366164361831767 to 0.23196898715427472\n",
      "save to: /glade/work/ksha/NCAR/Keras_models/Xcept_chad_pp5_tune\n",
      "INFO:tensorflow:Assets written to: /glade/work/ksha/NCAR/Keras_models/Xcept_chad_pp5_tune/assets\n",
      "--- 188.93584656715393 seconds ---\n",
      "Validation loss improved from 0.23196898715427472 to 0.21977287553891545\n",
      "save to: /glade/work/ksha/NCAR/Keras_models/Xcept_chad_pp5_tune\n",
      "INFO:tensorflow:Assets written to: /glade/work/ksha/NCAR/Keras_models/Xcept_chad_pp5_tune/assets\n",
      "--- 181.80476450920105 seconds ---\n",
      "Validation loss improved from 0.21977287553891545 to 0.2133669525124171\n",
      "save to: /glade/work/ksha/NCAR/Keras_models/Xcept_chad_pp5_tune\n",
      "INFO:tensorflow:Assets written to: /glade/work/ksha/NCAR/Keras_models/Xcept_chad_pp5_tune/assets\n",
      "--- 179.82111382484436 seconds ---\n",
      "Validation loss improved from 0.2133669525124171 to 0.2107387552630915\n",
      "save to: /glade/work/ksha/NCAR/Keras_models/Xcept_chad_pp5_tune\n",
      "INFO:tensorflow:Assets written to: /glade/work/ksha/NCAR/Keras_models/Xcept_chad_pp5_tune/assets\n",
      "--- 178.88134598731995 seconds ---\n",
      "Validation loss improved from 0.2107387552630915 to 0.2096447071788149\n",
      "save to: /glade/work/ksha/NCAR/Keras_models/Xcept_chad_pp5_tune\n",
      "INFO:tensorflow:Assets written to: /glade/work/ksha/NCAR/Keras_models/Xcept_chad_pp5_tune/assets\n",
      "--- 183.54113745689392 seconds ---\n",
      "Validation loss 0.21120702333829167 NOT improved\n",
      "Validation loss improved from 0.2096447071788149 to 0.208038728895108\n",
      "save to: /glade/work/ksha/NCAR/Keras_models/Xcept_chad_pp5_tune\n",
      "INFO:tensorflow:Assets written to: /glade/work/ksha/NCAR/Keras_models/Xcept_chad_pp5_tune/assets\n",
      "--- 189.316339969635 seconds ---\n",
      "Validation loss 0.20850896669019825 NOT improved\n",
      "Validation loss 0.2107707303826405 NOT improved\n",
      "Validation loss 0.2104993686391179 NOT improved\n",
      "Validation loss 0.21199090619721161 NOT improved\n",
      "Validation loss 0.2108694790064628 NOT improved\n",
      "Validation loss 0.2089400727168057 NOT improved\n",
      "Validation loss 0.2097244808343629 NOT improved\n",
      "Validation loss 0.21041362016656995 NOT improved\n",
      "Validation loss 0.21181284351914886 NOT improved\n",
      "Validation loss 0.21293308887796347 NOT improved\n",
      "Validation loss 0.21453263274336276 NOT improved\n",
      "Validation loss 0.21305672162973055 NOT improved\n",
      "Validation loss 0.2151234173957256 NOT improved\n",
      "Validation loss 0.2146362400095807 NOT improved\n",
      "Validation loss 0.2163391285118792 NOT improved\n",
      "Validation loss 0.21766941166830556 NOT improved\n",
      "Validation loss 0.21778726657506153 NOT improved\n",
      "Validation loss 0.21652566098546933 NOT improved\n",
      "Validation loss 0.21701809095798774 NOT improved\n",
      "Validation loss 0.21935831515938442 NOT improved\n",
      "Validation loss 0.21786165632957666 NOT improved\n",
      "Validation loss 0.21892720913277697 NOT improved\n",
      "Validation loss 0.22008553574279976 NOT improved\n",
      "Validation loss 0.2219356936355461 NOT improved\n",
      "Validation loss 0.22110755773642943 NOT improved\n",
      "Validation loss 0.22031770006050977 NOT improved\n"
     ]
    },
    {
     "ename": "KeyboardInterrupt",
     "evalue": "",
     "output_type": "error",
     "traceback": [
      "\u001b[0;31m---------------------------------------------------------------------------\u001b[0m",
      "\u001b[0;31mKeyboardInterrupt\u001b[0m                         Traceback (most recent call last)",
      "Input \u001b[0;32mIn [36]\u001b[0m, in \u001b[0;36m<cell line: 5>\u001b[0;34m()\u001b[0m\n\u001b[1;32m     20\u001b[0m file_pick \u001b[38;5;241m=\u001b[39m file_pick_pos\u001b[38;5;241m+\u001b[39mfile_pick_neg\n\u001b[1;32m     22\u001b[0m \u001b[38;5;28;01mfor\u001b[39;00m k \u001b[38;5;129;01min\u001b[39;00m \u001b[38;5;28mrange\u001b[39m(batch_size):\n\u001b[0;32m---> 23\u001b[0m     data \u001b[38;5;241m=\u001b[39m \u001b[43mnp\u001b[49m\u001b[38;5;241;43m.\u001b[39;49m\u001b[43mload\u001b[49m\u001b[43m(\u001b[49m\u001b[43mfile_pick\u001b[49m\u001b[43m[\u001b[49m\u001b[43mk\u001b[49m\u001b[43m]\u001b[49m\u001b[43m)\u001b[49m\n\u001b[1;32m     24\u001b[0m     X_batch[k, \u001b[38;5;241m.\u001b[39m\u001b[38;5;241m.\u001b[39m\u001b[38;5;241m.\u001b[39m] \u001b[38;5;241m=\u001b[39m data[\u001b[38;5;241m.\u001b[39m\u001b[38;5;241m.\u001b[39m\u001b[38;5;241m.\u001b[39m]\n\u001b[1;32m     26\u001b[0m Y_batch \u001b[38;5;241m=\u001b[39m np\u001b[38;5;241m.\u001b[39mones((batch_size, \u001b[38;5;241m1\u001b[39m))\n",
      "File \u001b[0;32m/glade/work/ksha/anaconda3/lib/python3.9/site-packages/numpy/lib/npyio.py:423\u001b[0m, in \u001b[0;36mload\u001b[0;34m(file, mmap_mode, allow_pickle, fix_imports, encoding)\u001b[0m\n\u001b[1;32m    421\u001b[0m _ZIP_SUFFIX \u001b[38;5;241m=\u001b[39m \u001b[38;5;124mb\u001b[39m\u001b[38;5;124m'\u001b[39m\u001b[38;5;124mPK\u001b[39m\u001b[38;5;130;01m\\x05\u001b[39;00m\u001b[38;5;130;01m\\x06\u001b[39;00m\u001b[38;5;124m'\u001b[39m \u001b[38;5;66;03m# empty zip files start with this\u001b[39;00m\n\u001b[1;32m    422\u001b[0m N \u001b[38;5;241m=\u001b[39m \u001b[38;5;28mlen\u001b[39m(\u001b[38;5;28mformat\u001b[39m\u001b[38;5;241m.\u001b[39mMAGIC_PREFIX)\n\u001b[0;32m--> 423\u001b[0m magic \u001b[38;5;241m=\u001b[39m \u001b[43mfid\u001b[49m\u001b[38;5;241;43m.\u001b[39;49m\u001b[43mread\u001b[49m\u001b[43m(\u001b[49m\u001b[43mN\u001b[49m\u001b[43m)\u001b[49m\n\u001b[1;32m    424\u001b[0m \u001b[38;5;66;03m# If the file size is less than N, we need to make sure not\u001b[39;00m\n\u001b[1;32m    425\u001b[0m \u001b[38;5;66;03m# to seek past the beginning of the file\u001b[39;00m\n\u001b[1;32m    426\u001b[0m fid\u001b[38;5;241m.\u001b[39mseek(\u001b[38;5;241m-\u001b[39m\u001b[38;5;28mmin\u001b[39m(N, \u001b[38;5;28mlen\u001b[39m(magic)), \u001b[38;5;241m1\u001b[39m)  \u001b[38;5;66;03m# back-up\u001b[39;00m\n",
      "\u001b[0;31mKeyboardInterrupt\u001b[0m: "
     ]
    }
   ],
   "source": [
    "# ------------------- #\n",
    "# loop of epoch\n",
    "#filenames = glob(batch_dir+'TRAIN*.npy')\n",
    "\n",
    "for i in range(epochs):\n",
    "    #print('epoch = {}'.format(i))\n",
    "    start_time = time.time()\n",
    "    shuffle(filename_train_pos)\n",
    "    shuffle(filename_train_neg)\n",
    "    \n",
    "    # loop of batch\n",
    "    for j in range(L_train):\n",
    "        \n",
    "        shuffle(filename_train_pos)\n",
    "        shuffle(filename_train_neg)\n",
    "        \n",
    "        file_pick_pos = filename_train_pos[:batch_size_half]\n",
    "        file_pick_neg = filename_train_neg[:batch_size_half]\n",
    "        \n",
    "        file_pick = file_pick_pos+file_pick_neg\n",
    "        \n",
    "        for k in range(batch_size):\n",
    "            data = np.load(file_pick[k])\n",
    "            X_batch[k, ...] = data[...]\n",
    "        \n",
    "        Y_batch = np.ones((batch_size, 1))\n",
    "        Y_batch[batch_size_half:, :] = 0\n",
    "        \n",
    "        ind_ = du.shuffle_ind(batch_size)\n",
    "        X_batch = X_batch[ind_, ...]\n",
    "        Y_batch = to_categorical(Y_batch[ind_, :])\n",
    "        Y_batch = Y_batch*0.9\n",
    "        Y_batch[Y_batch==0]=0.09\n",
    "        if np.sum(np.isnan(X_batch)) > 0:\n",
    "            asfeargagqarew\n",
    "        \n",
    "        # train on batch\n",
    "        model.train_on_batch([X_batch,], [Y_batch,]);\n",
    "    \n",
    "    # epoch end operations\n",
    "    Y_pred = model.predict([VALID_input])\n",
    "    Y_pred = Y_pred[:, 1]\n",
    "    fpr, tpr, thresholds = roc_curve(VALID_label.ravel(), Y_pred.ravel())\n",
    "    record_temp = auc(fpr, tpr)\n",
    "    record_temp = 1 - record_temp\n",
    "    \n",
    "    if record - record_temp > min_del:\n",
    "        print('Validation loss improved from {} to {}'.format(record, record_temp))\n",
    "        record = record_temp\n",
    "        tol = 0\n",
    "        #print('tol: {}'.format(tol))\n",
    "        # save\n",
    "        print('save to: {}'.format(model_path))\n",
    "        model.save(model_path)\n",
    "    else:\n",
    "        print('Validation loss {} NOT improved'.format(record_temp))\n",
    "        tol += 1\n",
    "        #print('tol: {}'.format(tol))\n",
    "        if tol >= max_tol:\n",
    "            print('Early stopping')\n",
    "            sys.exit();\n",
    "        else:\n",
    "            #print('Pass to the next epoch')\n",
    "            continue;\n",
    "    print(\"--- %s seconds ---\" % (time.time() - start_time))\n"
   ]
  },
  {
   "cell_type": "code",
   "execution_count": 37,
   "id": "3b23baaa-074e-469c-b70c-0d62bb2017b1",
   "metadata": {},
   "outputs": [],
   "source": [
    "key = 'Xcept_chad'\n",
    "model_name = '{}_pp5_tune'.format(key)\n",
    "model_path = temp_dir+model_name\n",
    "\n",
    "W = k_utils.dummy_loader(model_path)\n",
    "model.set_weights(W)"
   ]
  },
  {
   "cell_type": "code",
   "execution_count": null,
   "id": "a10ad74d-a79e-4e17-8114-21a96b97d675",
   "metadata": {},
   "outputs": [],
   "source": []
  },
  {
   "cell_type": "markdown",
   "id": "9a58e8ce-edd1-4847-ad19-5381d63790f7",
   "metadata": {},
   "source": [
    "### Classification results"
   ]
  },
  {
   "cell_type": "code",
   "execution_count": 38,
   "id": "2b99b905-5d90-4c77-90f2-12fd1e73dc19",
   "metadata": {},
   "outputs": [],
   "source": [
    "from sklearn.metrics import classification_report, auc, roc_curve"
   ]
  },
  {
   "cell_type": "code",
   "execution_count": 39,
   "id": "99e261c3-c989-4332-b3e2-874e9b65a6e3",
   "metadata": {},
   "outputs": [],
   "source": [
    "filename_train_pos = sorted(glob(\"/glade/scratch/ksha/DATA/NCAR_batch/*TRAIN*.npy\"))\n",
    "filename_train_neg = sorted(glob(\"/glade/scratch/ksha/DATA/NCAR_batch_neg/*TRAIN*.npy\"))\n",
    "\n",
    "filename_valid_pos = sorted(glob(\"/glade/scratch/ksha/DATA/NCAR_batch/*VALID*.npy\"))\n",
    "filename_valid_neg = sorted(glob(\"/glade/scratch/ksha/DATA/NCAR_batch_neg/*VALID*.npy\"))"
   ]
  },
  {
   "cell_type": "code",
   "execution_count": 40,
   "id": "9c1cadcb-7898-4e91-b679-278abbb6b873",
   "metadata": {},
   "outputs": [],
   "source": [
    "grid_shape = (128, 128)\n",
    "\n",
    "label_pos = np.ones(len(filename_valid_pos))\n",
    "label_neg = np.zeros(len(filename_valid_neg))\n",
    "VALID_label = np.hstack([label_pos, label_neg])\n",
    "\n",
    "L_valid = len(VALID_label)\n",
    "\n",
    "VALID_input = np.empty((L_valid,)+grid_shape+(5,))\n",
    "\n",
    "for i, filename in enumerate(filename_valid_pos+filename_valid_neg):\n",
    "    data = np.load(filename)\n",
    "    VALID_input[i, ...] = data[...]"
   ]
  },
  {
   "cell_type": "code",
   "execution_count": 41,
   "id": "9888419f-5dab-425f-a7a4-88d31b8d1ff6",
   "metadata": {},
   "outputs": [],
   "source": [
    "filename_valid_pos = sorted(glob(\"/glade/scratch/ksha/DATA/NCAR_batch/*VALID*.npy\"))[::10]\n",
    "label_pos = np.ones(len(filename_valid_pos))\n",
    "label_neg = np.zeros(len(filename_valid_neg))\n",
    "VALID_label_skew = np.hstack([label_pos, label_neg])\n",
    "\n",
    "L_valid = len(VALID_label_skew)\n",
    "\n",
    "VALID_skew = np.empty((L_valid,)+grid_shape+(5,))\n",
    "\n",
    "for i, filename in enumerate(filename_valid_pos+filename_valid_neg):\n",
    "    data = np.load(filename)\n",
    "    VALID_skew[i, ...] = data[...]"
   ]
  },
  {
   "cell_type": "markdown",
   "id": "d4fc6866-d00f-4013-bd6b-663632c5002a",
   "metadata": {},
   "source": [
    "**Balanced verif**"
   ]
  },
  {
   "cell_type": "code",
   "execution_count": 44,
   "id": "8d4368dc-01e6-47d4-b8f9-7878e0549921",
   "metadata": {},
   "outputs": [],
   "source": [
    "Y_pred = model.predict([VALID_input])\n",
    "Y_pred_label = Y_pred > 0.5"
   ]
  },
  {
   "cell_type": "code",
   "execution_count": 45,
   "id": "6a6a3bbd-b744-41de-9ae7-fe8acc561e36",
   "metadata": {},
   "outputs": [
    {
     "name": "stdout",
     "output_type": "stream",
     "text": [
      "              precision    recall  f1-score   support\n",
      "\n",
      "       False       0.96      0.72      0.83     38948\n",
      "        True       0.59      0.93      0.72     16348\n",
      "\n",
      "    accuracy                           0.78     55296\n",
      "   macro avg       0.77      0.83      0.77     55296\n",
      "weighted avg       0.85      0.78      0.79     55296\n",
      "\n"
     ]
    }
   ],
   "source": [
    "print(classification_report(Y_pred_label[:, 1].ravel(), VALID_label.ravel()))"
   ]
  },
  {
   "cell_type": "code",
   "execution_count": 46,
   "id": "a4489ecb-95ee-4ffe-9517-3c4bfa224b7e",
   "metadata": {},
   "outputs": [
    {
     "data": {
      "text/plain": [
       "0.8371623946030101"
      ]
     },
     "execution_count": 46,
     "metadata": {},
     "output_type": "execute_result"
    }
   ],
   "source": [
    "fpr, tpr, thresholds = roc_curve(VALID_label.ravel(), Y_pred[:, 1].ravel())\n",
    "auc(fpr, tpr)"
   ]
  },
  {
   "cell_type": "markdown",
   "id": "739f0611-6e2f-4dda-af69-a1e549607af4",
   "metadata": {},
   "source": [
    "**Natural verif**"
   ]
  },
  {
   "cell_type": "code",
   "execution_count": 47,
   "id": "771cfcc6-5925-4495-94ce-7a2bb24f7d22",
   "metadata": {},
   "outputs": [],
   "source": [
    "Y_pred = model.predict([VALID_skew])\n",
    "Y_pred_label = Y_pred > 0.5"
   ]
  },
  {
   "cell_type": "code",
   "execution_count": 48,
   "id": "db07630c-19ae-4dfa-b798-4888e2c04078",
   "metadata": {},
   "outputs": [
    {
     "name": "stdout",
     "output_type": "stream",
     "text": [
      "              precision    recall  f1-score   support\n",
      "\n",
      "       False       0.96      0.96      0.96     29372\n",
      "        True       0.55      0.55      0.55      2596\n",
      "\n",
      "    accuracy                           0.93     31968\n",
      "   macro avg       0.75      0.75      0.75     31968\n",
      "weighted avg       0.93      0.93      0.93     31968\n",
      "\n"
     ]
    }
   ],
   "source": [
    "print(classification_report(Y_pred_label[:, 1].ravel(), VALID_label_skew.ravel()))"
   ]
  },
  {
   "cell_type": "code",
   "execution_count": 49,
   "id": "46ef4168-9f8a-4eea-ad16-9538bb378bae",
   "metadata": {},
   "outputs": [
    {
     "data": {
      "text/plain": [
       "0.7977736100709574"
      ]
     },
     "execution_count": 49,
     "metadata": {},
     "output_type": "execute_result"
    }
   ],
   "source": [
    "fpr, tpr, thresholds = roc_curve(VALID_label_skew.ravel(), Y_pred[:, 1].ravel())\n",
    "auc(fpr, tpr)"
   ]
  },
  {
   "cell_type": "code",
   "execution_count": 50,
   "id": "9b0ae141-1281-49d9-b907-d53534521e9f",
   "metadata": {},
   "outputs": [
    {
     "data": {
      "text/plain": [
       "[<matplotlib.lines.Line2D at 0x2adb6f642b80>]"
      ]
     },
     "execution_count": 50,
     "metadata": {},
     "output_type": "execute_result"
    },
    {
     "data": {
      "image/png": "[encoded data removed]",
      "text/plain": [
       "<Figure size 432x288 with 1 Axes>"
      ]
     },
     "metadata": {
      "needs_background": "light"
     },
     "output_type": "display_data"
    }
   ],
   "source": [
    "plt.plot(Y_pred[:, 1].ravel()[:10000])\n",
    "plt.plot(VALID_label_skew.ravel()[:10000])"
   ]
  },
  {
   "cell_type": "code",
   "execution_count": null,
   "id": "63261176-3bb0-4bc2-afd4-e7c683cfb326",
   "metadata": {},
   "outputs": [],
   "source": []
  }
 ],
 "metadata": {
  "kernelspec": {
   "display_name": "Python 3 (ipykernel)",
   "language": "python",
   "name": "python3"
  },
  "language_info": {
   "codemirror_mode": {
    "name": "ipython",
    "version": 3
   },
   "file_extension": ".py",
   "mimetype": "text/x-python",
   "name": "python",
   "nbconvert_exporter": "python",
   "pygments_lexer": "ipython3",
   "version": "3.9.13"
  }
 },
 "nbformat": 4,
 "nbformat_minor": 5
}
