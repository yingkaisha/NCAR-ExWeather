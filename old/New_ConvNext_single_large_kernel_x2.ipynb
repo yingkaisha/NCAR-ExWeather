{
 "cells": [
  {
   "cell_type": "code",
   "execution_count": 1,
   "id": "ce76310e-2358-43eb-ba0c-188a45af0b5e",
   "metadata": {},
   "outputs": [],
   "source": [
    "# general tools\n",
    "import sys\n",
    "from glob import glob\n",
    "\n",
    "# data tools\n",
    "import time\n",
    "import h5py\n",
    "import random\n",
    "import numpy as np\n",
    "from random import shuffle\n",
    "\n",
    "import matplotlib.pyplot as plt\n",
    "%matplotlib inline"
   ]
  },
  {
   "cell_type": "code",
   "execution_count": 2,
   "id": "ee2f455b-7a16-4d6c-b673-ff37e482f46d",
   "metadata": {},
   "outputs": [
    {
     "name": "stderr",
     "output_type": "stream",
     "text": [
      "2022-10-21 08:12:46.158546: I tensorflow/stream_executor/platform/default/dso_loader.cc:49] Successfully opened dynamic library libcudart.so.10.1\n"
     ]
    }
   ],
   "source": [
    "# deep learning tools\n",
    "import tensorflow as tf\n",
    "from tensorflow import keras\n",
    "from tensorflow.keras import layers\n",
    "from tensorflow.keras import backend\n",
    "from tensorflow.keras import utils\n",
    "from tensorflow.keras import Model\n",
    "\n",
    "tf.config.run_functions_eagerly(True)\n",
    "\n",
    "# from keras_unet_collection import models as k_models\n",
    "from keras_unet_collection import utils as k_utils\n",
    "# from keras_unet_collection import layer_utils as k_layers\n",
    "# from keras_unet_collection.activations import GELU"
   ]
  },
  {
   "cell_type": "code",
   "execution_count": 3,
   "id": "329c3d14-edd9-49fa-a0b6-c112ea9c7553",
   "metadata": {},
   "outputs": [],
   "source": [
    "sys.path.insert(0, '/glade/u/home/ksha/NCAR/')\n",
    "sys.path.insert(0, '/glade/u/home/ksha/NCAR/libs/')\n",
    "\n",
    "from namelist import *\n",
    "import data_utils as du\n",
    "import graph_utils as gu\n",
    "#import convnext_keras as ck\n",
    "\n",
    "from sklearn.metrics import classification_report, auc, roc_curve\n",
    "from sklearn.metrics import confusion_matrix\n",
    "\n",
    "import matplotlib.pyplot as plt\n",
    "%matplotlib inline"
   ]
  },
  {
   "cell_type": "code",
   "execution_count": 4,
   "id": "a1c2e1ce-3a18-4453-a423-4933848bf089",
   "metadata": {},
   "outputs": [],
   "source": [
    "# from importlib import reload\n",
    "# reload(ck)"
   ]
  },
  {
   "cell_type": "code",
   "execution_count": 5,
   "id": "9e1ee330-cf69-4ead-aa86-42cb0aeec11b",
   "metadata": {},
   "outputs": [],
   "source": [
    "ind_pick_from_batch = [0, 1, 3, 4, 8, 9, 10, 13, 14, 15, 16, 17, 18, 21, 22]\n",
    "L_vars = len(ind_pick_from_batch)"
   ]
  },
  {
   "cell_type": "code",
   "execution_count": 6,
   "id": "c181e0e9-cf6a-4fc9-a913-97562ce045c2",
   "metadata": {},
   "outputs": [],
   "source": [
    "filename_neg_train = sorted(glob(\"/glade/scratch/ksha/DATA/NCAR_batch/*neg_neg_neg*lead2.npy\")+\\\n",
    "                            glob(\"/glade/scratch/ksha/DATA/NCAR_batch/*neg_neg_neg*lead3.npy\")+\\\n",
    "                            glob(\"/glade/scratch/ksha/DATA/NCAR_batch/*neg_neg_neg*lead4.npy\"))\n",
    "\n",
    "filename_pos_train = sorted(glob(\"/glade/scratch/ksha/DATA/NCAR_batch/*pos*lead2.npy\")+\\\n",
    "                            glob(\"/glade/scratch/ksha/DATA/NCAR_batch/*pos*lead3.npy\")+\\\n",
    "                            glob(\"/glade/scratch/ksha/DATA/NCAR_batch/*pos*lead4.npy\"))\n",
    "\n",
    "filename_neg_valid = sorted(glob(\"/glade/scratch/ksha/DATA/NCAR_batch/VALID*neg_neg_neg*lead2.npy\"))\n",
    "filename_pos_valid = sorted(glob(\"/glade/scratch/ksha/DATA/NCAR_batch/VALID*pos*lead2.npy\"))"
   ]
  },
  {
   "cell_type": "code",
   "execution_count": 7,
   "id": "7a1d9b13-17a8-4c2e-b316-a7731afdce58",
   "metadata": {},
   "outputs": [],
   "source": [
    "filename_neg_valid = sorted(glob(\"/glade/scratch/ksha/DATA/NCAR_batch_v4/*neg_neg_neg*lead2.npy\"))\n",
    "filename_pos_valid = sorted(glob(\"/glade/scratch/ksha/DATA/NCAR_batch_v4/*pos*lead2.npy\"))"
   ]
  },
  {
   "cell_type": "code",
   "execution_count": 8,
   "id": "f7c05a22-1c2b-4e2e-857b-4bdd7885bfd2",
   "metadata": {},
   "outputs": [
    {
     "data": {
      "text/plain": [
       "453"
      ]
     },
     "execution_count": 8,
     "metadata": {},
     "output_type": "execute_result"
    }
   ],
   "source": [
    "len(filename_pos_valid)"
   ]
  },
  {
   "cell_type": "code",
   "execution_count": 9,
   "id": "d9e2caa8-e4ec-468b-a926-0c9cd51077ff",
   "metadata": {},
   "outputs": [],
   "source": [
    "filename_valid = filename_neg_valid[::80] + filename_pos_valid"
   ]
  },
  {
   "cell_type": "code",
   "execution_count": 10,
   "id": "70fd1836-9fec-4edc-9278-c30bc8553104",
   "metadata": {},
   "outputs": [
    {
     "data": {
      "text/plain": [
       "5511"
      ]
     },
     "execution_count": 10,
     "metadata": {},
     "output_type": "execute_result"
    }
   ],
   "source": [
    "len(filename_valid)"
   ]
  },
  {
   "cell_type": "code",
   "execution_count": 11,
   "id": "8c7745a8-c368-4d01-9211-d3a7973d243a",
   "metadata": {},
   "outputs": [],
   "source": [
    "with h5py.File(save_dir+'HRRR_domain.hdf', 'r') as h5io:\n",
    "    lon_3km = h5io['lon_3km'][...]\n",
    "    lat_3km = h5io['lat_3km'][...]\n",
    "    lon_72km = h5io['lon_72km'][...]\n",
    "    lat_72km = h5io['lat_72km'][...]\n",
    "    land_mask_72km = h5io['land_mask_72km'][...]\n",
    "    land_mask_3km = h5io['land_mask_3km'][...]"
   ]
  },
  {
   "cell_type": "code",
   "execution_count": 12,
   "id": "3063ca0a-a4d9-4e3a-a477-01b92709754f",
   "metadata": {},
   "outputs": [],
   "source": [
    "L_valid = len(filename_valid)\n",
    "L_var = L_vars\n",
    "\n",
    "TEST_input_64 = np.empty((L_valid, 64, 64, L_var))\n",
    "TEST_target = np.ones(L_valid)\n",
    "\n",
    "for i, name in enumerate(filename_valid):\n",
    "    data = np.load(name)\n",
    "    for k, c in enumerate(ind_pick_from_batch):\n",
    "        \n",
    "        TEST_input_64[i, ..., k] = data[..., c]\n",
    "\n",
    "        if 'pos' in name:\n",
    "            TEST_target[i] = 1.0\n",
    "        else:\n",
    "            TEST_target[i] = 0.0"
   ]
  },
  {
   "cell_type": "markdown",
   "id": "26d6c483-697c-43b9-8469-8028e4b819bc",
   "metadata": {},
   "source": [
    "**ConvNext**"
   ]
  },
  {
   "cell_type": "code",
   "execution_count": 13,
   "id": "6151e0af-3479-4b81-a0b9-0c892ed01c1e",
   "metadata": {},
   "outputs": [],
   "source": [
    "class LayerScale(layers.Layer):\n",
    "    \"\"\"Layer scale module.\n",
    "    References:\n",
    "      - https://arxiv.org/abs/2103.17239\n",
    "    Args:\n",
    "      init_values (float): Initial value for layer scale. Should be within\n",
    "        [0, 1].\n",
    "      projection_dim (int): Projection dimensionality.\n",
    "    Returns:\n",
    "      Tensor multiplied to the scale.\n",
    "    \"\"\"\n",
    "\n",
    "    def __init__(self, init_values, projection_dim, **kwargs):\n",
    "        super().__init__(**kwargs)\n",
    "        self.init_values = init_values\n",
    "        self.projection_dim = projection_dim\n",
    "\n",
    "    def build(self, input_shape):\n",
    "        self.gamma = tf.Variable(\n",
    "            self.init_values * tf.ones((self.projection_dim,))\n",
    "        )\n",
    "\n",
    "    def call(self, x):\n",
    "        return x * self.gamma\n",
    "\n",
    "    def get_config(self):\n",
    "        config = super().get_config()\n",
    "        config.update(\n",
    "            {\n",
    "                \"init_values\": self.init_values,\n",
    "                \"projection_dim\": self.projection_dim,\n",
    "            }\n",
    "        )\n",
    "        return config\n",
    "    \n",
    "\n",
    "\n",
    "def Head(num_classes=1000, name=None):\n",
    "    \"\"\"Implementation of classification head of RegNet.\n",
    "    Args:\n",
    "      num_classes: number of classes for Dense layer\n",
    "      name: name prefix\n",
    "    Returns:\n",
    "      Classification head function.\n",
    "    \"\"\"\n",
    "    if name is None:\n",
    "        name = str(backend.get_uid(\"head\"))\n",
    "\n",
    "    def apply(x):\n",
    "        x = layers.GlobalAveragePooling2D(name=name + \"_head_gap\")(x)\n",
    "        x = layers.LayerNormalization(\n",
    "            epsilon=1e-6, name=name + \"_head_layernorm\"\n",
    "        )(x)\n",
    "        x = layers.Dense(num_classes, name=name + \"_head_dense\")(x)\n",
    "        return x\n",
    "\n",
    "    return apply\n"
   ]
  },
  {
   "cell_type": "code",
   "execution_count": 14,
   "id": "5910626c-9f88-4112-8beb-28045df1d016",
   "metadata": {},
   "outputs": [
    {
     "name": "stderr",
     "output_type": "stream",
     "text": [
      "2022-10-21 08:15:55.103695: I tensorflow/compiler/jit/xla_cpu_device.cc:41] Not creating XLA devices, tf_xla_enable_xla_devices not set\n",
      "2022-10-21 08:15:55.105237: I tensorflow/stream_executor/platform/default/dso_loader.cc:49] Successfully opened dynamic library libcuda.so.1\n",
      "2022-10-21 08:15:55.158005: I tensorflow/core/common_runtime/gpu/gpu_device.cc:1720] Found device 0 with properties: \n",
      "pciBusID: 0000:62:00.0 name: Tesla V100-SXM2-32GB computeCapability: 7.0\n",
      "coreClock: 1.53GHz coreCount: 80 deviceMemorySize: 31.75GiB deviceMemoryBandwidth: 836.37GiB/s\n",
      "2022-10-21 08:15:55.158063: I tensorflow/stream_executor/platform/default/dso_loader.cc:49] Successfully opened dynamic library libcudart.so.10.1\n",
      "2022-10-21 08:15:55.294259: I tensorflow/stream_executor/platform/default/dso_loader.cc:49] Successfully opened dynamic library libcublas.so.10\n",
      "2022-10-21 08:15:55.294352: I tensorflow/stream_executor/platform/default/dso_loader.cc:49] Successfully opened dynamic library libcublasLt.so.10\n",
      "2022-10-21 08:15:55.359238: I tensorflow/stream_executor/platform/default/dso_loader.cc:49] Successfully opened dynamic library libcufft.so.10\n",
      "2022-10-21 08:15:55.458288: I tensorflow/stream_executor/platform/default/dso_loader.cc:49] Successfully opened dynamic library libcurand.so.10\n",
      "2022-10-21 08:15:55.554999: I tensorflow/stream_executor/platform/default/dso_loader.cc:49] Successfully opened dynamic library libcusolver.so.10\n",
      "2022-10-21 08:15:55.615357: I tensorflow/stream_executor/platform/default/dso_loader.cc:49] Successfully opened dynamic library libcusparse.so.10\n",
      "2022-10-21 08:15:55.764867: I tensorflow/stream_executor/platform/default/dso_loader.cc:49] Successfully opened dynamic library libcudnn.so.7\n",
      "2022-10-21 08:15:55.765652: I tensorflow/core/common_runtime/gpu/gpu_device.cc:1862] Adding visible gpu devices: 0\n",
      "2022-10-21 08:15:55.766174: I tensorflow/core/platform/cpu_feature_guard.cc:142] This TensorFlow binary is optimized with oneAPI Deep Neural Network Library (oneDNN) to use the following CPU instructions in performance-critical operations:  SSE4.1 SSE4.2 AVX AVX2 AVX512F FMA\n",
      "To enable them in other operations, rebuild TensorFlow with the appropriate compiler flags.\n",
      "2022-10-21 08:15:55.766375: I tensorflow/compiler/jit/xla_gpu_device.cc:99] Not creating XLA devices, tf_xla_enable_xla_devices not set\n",
      "2022-10-21 08:15:55.766809: I tensorflow/core/common_runtime/gpu/gpu_device.cc:1720] Found device 0 with properties: \n",
      "pciBusID: 0000:62:00.0 name: Tesla V100-SXM2-32GB computeCapability: 7.0\n",
      "coreClock: 1.53GHz coreCount: 80 deviceMemorySize: 31.75GiB deviceMemoryBandwidth: 836.37GiB/s\n",
      "2022-10-21 08:15:55.766851: I tensorflow/stream_executor/platform/default/dso_loader.cc:49] Successfully opened dynamic library libcudart.so.10.1\n",
      "2022-10-21 08:15:55.766883: I tensorflow/stream_executor/platform/default/dso_loader.cc:49] Successfully opened dynamic library libcublas.so.10\n",
      "2022-10-21 08:15:55.766894: I tensorflow/stream_executor/platform/default/dso_loader.cc:49] Successfully opened dynamic library libcublasLt.so.10\n",
      "2022-10-21 08:15:55.766904: I tensorflow/stream_executor/platform/default/dso_loader.cc:49] Successfully opened dynamic library libcufft.so.10\n",
      "2022-10-21 08:15:55.766914: I tensorflow/stream_executor/platform/default/dso_loader.cc:49] Successfully opened dynamic library libcurand.so.10\n",
      "2022-10-21 08:15:55.766925: I tensorflow/stream_executor/platform/default/dso_loader.cc:49] Successfully opened dynamic library libcusolver.so.10\n",
      "2022-10-21 08:15:55.766935: I tensorflow/stream_executor/platform/default/dso_loader.cc:49] Successfully opened dynamic library libcusparse.so.10\n",
      "2022-10-21 08:15:55.766945: I tensorflow/stream_executor/platform/default/dso_loader.cc:49] Successfully opened dynamic library libcudnn.so.7\n",
      "2022-10-21 08:15:55.767454: I tensorflow/core/common_runtime/gpu/gpu_device.cc:1862] Adding visible gpu devices: 0\n",
      "2022-10-21 08:15:55.767501: I tensorflow/stream_executor/platform/default/dso_loader.cc:49] Successfully opened dynamic library libcudart.so.10.1\n",
      "2022-10-21 08:15:58.366811: I tensorflow/core/common_runtime/gpu/gpu_device.cc:1261] Device interconnect StreamExecutor with strength 1 edge matrix:\n",
      "2022-10-21 08:15:58.366843: I tensorflow/core/common_runtime/gpu/gpu_device.cc:1267]      0 \n",
      "2022-10-21 08:15:58.366862: I tensorflow/core/common_runtime/gpu/gpu_device.cc:1280] 0:   N \n",
      "2022-10-21 08:15:58.367964: I tensorflow/core/common_runtime/gpu/gpu_device.cc:1406] Created TensorFlow device (/job:localhost/replica:0/task:0/device:GPU:0 with 30132 MB memory) -> physical GPU (device: 0, name: Tesla V100-SXM2-32GB, pci bus id: 0000:62:00.0, compute capability: 7.0)\n"
     ]
    }
   ],
   "source": [
    "depths=[3, 3, 27, 3]\n",
    "projection_dims=[96, 192, 384, 768]\n",
    "drop_path_rate=0.0\n",
    "layer_scale_init_value=1e-6\n",
    "\n",
    "\n",
    "model_name='Branch64X'\n",
    "input_shape=(64, 64, 15)\n",
    "IN64 = layers.Input(shape=input_shape)\n",
    "X = IN64\n",
    "\n",
    "X = layers.LocallyConnected2D(64, kernel_size=1, strides=(1, 1), padding=\"valid\", implementation=1)(X)\n",
    "X = layers.LayerNormalization(epsilon=1e-6, name=\"{}_lc1_norm\".format(model_name))(X)\n",
    "X = layers.Activation(\"gelu\", name=\"{}_lc1_gelu\".format(model_name))(X)\n",
    "\n",
    "# X = layers.LocallyConnected2D(96, kernel_size=1, strides=(1, 1), padding=\"valid\", implementation=1)(X)\n",
    "# X = layers.LayerNormalization(epsilon=1e-6, name=\"{}_lc2_norm\".format(model_name))(X)\n",
    "# X = layers.Activation(\"gelu\", name=\"{}_lc2_gelu\".format(model_name))(X)\n",
    "\n",
    "# ----- convnext block 0 ----- #\n",
    "\n",
    "X = layers.Conv2D(projection_dims[0], kernel_size=2, strides=2, name=\"{}_down0\".format(model_name))(X)\n",
    "X = layers.LayerNormalization(epsilon=1e-6, name=\"{}_down0_norm\".format(model_name))(X)\n",
    "\n",
    "for j in range(depths[0]):\n",
    "    \n",
    "    X_convnext = X\n",
    "    X_convnext = layers.Conv2D(filters=projection_dims[0], kernel_size=7, padding=\"same\",\n",
    "                               groups=projection_dims[0], name=\"{}_down0_dconv{}\".format(model_name, j))(X_convnext)\n",
    "    X_convnext = layers.LayerNormalization(epsilon=1e-6, name=\"{}_down0_dconv{}_norm\".format(model_name, j))(X_convnext)\n",
    "    X_convnext = layers.Dense(4 * projection_dims[0], name=\"{}_down0_dense{}_p1\".format(model_name, j))(X_convnext)\n",
    "    X_convnext = layers.Activation(\"gelu\", name=\"{}_down0_gelu{}\".format(model_name, j))(X_convnext)\n",
    "    X_convnext = layers.Dense(projection_dims[0], name=\"{}_down0_dense{}_p2\".format(model_name, j))(X_convnext)\n",
    "\n",
    "    X_convnext = LayerScale(layer_scale_init_value, projection_dims[0], name=\"{}_down0_layerscale{}\".format(model_name, j))(X_convnext)\n",
    "\n",
    "    X = X + X_convnext\n",
    "\n",
    "\n",
    "# ----- convnext block 1 ----- #\n",
    "\n",
    "X = layers.LayerNormalization(epsilon=1e-6, name=\"{}_down1_norm\".format(model_name))(X)\n",
    "X = layers.Conv2D(projection_dims[1], kernel_size=2, strides=2, name=\"{}_down1\".format(model_name))(X)\n",
    "\n",
    "for j in range(depths[1]):\n",
    "    \n",
    "    X_convnext = X\n",
    "    X_convnext = layers.Conv2D(filters=projection_dims[1], kernel_size=7, padding=\"same\",\n",
    "                               groups=projection_dims[1], name=\"{}_down1_dconv{}\".format(model_name, j))(X_convnext)\n",
    "    X_convnext = layers.LayerNormalization(epsilon=1e-6, name=\"{}_down1_dconv{}_norm\".format(model_name, j))(X_convnext)\n",
    "    X_convnext = layers.Dense(4 * projection_dims[1], name=\"{}_down1_dense{}_p1\".format(model_name, j))(X_convnext)\n",
    "    X_convnext = layers.Activation(\"gelu\", name=\"{}_down1_gelu{}\".format(model_name, j))(X_convnext)\n",
    "    X_convnext = layers.Dense(projection_dims[1], name=\"{}_down1_dense{}_p2\".format(model_name, j))(X_convnext)\n",
    "\n",
    "    X_convnext = LayerScale(layer_scale_init_value, projection_dims[1], name=\"{}_down1_layerscale{}\".format(model_name, j))(X_convnext)\n",
    "\n",
    "    X = X + X_convnext\n",
    "\n",
    "# ----- convnext block 2 ----- #\n",
    "\n",
    "X = layers.LayerNormalization(epsilon=1e-6, name=\"{}_down2_norm\".format(model_name))(X)\n",
    "X = layers.Conv2D(projection_dims[2], kernel_size=2, strides=2, name=\"{}_down2\".format(model_name))(X)\n",
    "\n",
    "for j in range(depths[2]):\n",
    "    \n",
    "    X_convnext = X\n",
    "    X_convnext = layers.Conv2D(filters=projection_dims[2], kernel_size=7, padding=\"same\",\n",
    "                               groups=projection_dims[2], name=\"{}_down2_dconv{}\".format(model_name, j))(X_convnext)\n",
    "    X_convnext = layers.LayerNormalization(epsilon=1e-6, name=\"{}_down2_dconv{}_norm\".format(model_name, j))(X_convnext)\n",
    "    X_convnext = layers.Dense(4 * projection_dims[2], name=\"{}_down2_dense{}_p1\".format(model_name, j))(X_convnext)\n",
    "    X_convnext = layers.Activation(\"gelu\", name=\"{}_down2_gelu{}\".format(model_name, j))(X_convnext)\n",
    "    X_convnext = layers.Dense(projection_dims[2], name=\"{}_down2_dense{}_p2\".format(model_name, j))(X_convnext)\n",
    "\n",
    "    X_convnext = LayerScale(layer_scale_init_value, projection_dims[2], name=\"{}_down2_layerscale{}\".format(model_name, j))(X_convnext)\n",
    "\n",
    "    X = X + X_convnext\n",
    "\n",
    "# ----- convnext block 3 ----- #\n",
    "\n",
    "X = layers.LayerNormalization(epsilon=1e-6, name=\"{}_down3_norm\".format(model_name))(X)\n",
    "X = layers.Conv2D(projection_dims[3], kernel_size=2, padding='same', name=\"{}_down3\".format(model_name))(X)\n",
    "\n",
    "for j in range(depths[3]):\n",
    "    \n",
    "    X_convnext = X\n",
    "    X_convnext = layers.Conv2D(filters=projection_dims[3], kernel_size=7, padding=\"same\",\n",
    "                               groups=projection_dims[3], name=\"{}_down3_dconv{}\".format(model_name, j))(X_convnext)\n",
    "    X_convnext = layers.LayerNormalization(epsilon=1e-6, name=\"{}_down3_dconv{}_norm\".format(model_name, j))(X_convnext)\n",
    "    X_convnext = layers.Dense(4 * projection_dims[3], name=\"{}_down3_dense{}_p1\".format(model_name, j))(X_convnext)\n",
    "    X_convnext = layers.Activation(\"gelu\", name=\"{}_down3_gelu{}\".format(model_name, j))(X_convnext)\n",
    "    X_convnext = layers.Dense(projection_dims[3], name=\"{}_down3_dense{}_p2\".format(model_name, j))(X_convnext)\n",
    "\n",
    "    X_convnext = LayerScale(layer_scale_init_value, projection_dims[3], name=\"{}_down3_layerscale{}\".format(model_name, j))(X_convnext)\n",
    "\n",
    "    X = X + X_convnext\n",
    "\n",
    "V1 = X\n",
    "\n",
    "OUT = layers.GlobalMaxPooling2D(name=\"{}_head_pool64\".format(model_name))(V1)\n",
    "OUT = layers.LayerNormalization(epsilon=1e-6, name=\"{}_head_norm64\".format(model_name))(OUT)\n",
    "\n",
    "OUT = layers.Dense(256, name=\"{}_dense1\".format(model_name))(OUT)\n",
    "OUT = layers.LayerNormalization(epsilon=1e-6, name=\"{}_dense1_norm\".format(model_name))(OUT)\n",
    "OUT = layers.Activation(\"gelu\", name=\"{}_dense1_gelu{}\".format(model_name, j))(OUT)\n",
    "\n",
    "OUT = layers.Dense(1, name=\"{}_head_out\".format(model_name))(OUT)\n",
    "\n",
    "model = Model(inputs=IN64, outputs=OUT, name=model_name)"
   ]
  },
  {
   "cell_type": "code",
   "execution_count": 15,
   "id": "7bd96426-c921-4137-9cd6-68ebc68a896f",
   "metadata": {},
   "outputs": [],
   "source": [
    "# OUT1 = layers.GlobalMaxPooling2D(name=\"{}_head_pool64\".format(model_name))(V1)\n",
    "# OUT1 = layers.LayerNormalization(epsilon=1e-6, name=\"{}_head_norm64\".format(model_name))(OUT1)\n",
    "\n",
    "# OUT2 = layers.GlobalMaxPooling2D(name=\"{}_head_pool32\".format(model_name))(V2)\n",
    "# OUT2 = layers.LayerNormalization(epsilon=1e-6, name=\"{}_head_norm32\".format(model_name))(OUT2)\n",
    "\n",
    "# OUT = layers.Concatenate(axis=-1, name='concat_64_32')([OUT1, OUT2])\n",
    "\n",
    "# OUT = layers.Dense(256, name=\"{}_dense1\".format(model_name))(OUT)\n",
    "# OUT = layers.LayerNormalization(epsilon=1e-6, name=\"{}_dense1_norm\".format(model_name))(OUT)\n",
    "# OUT = layers.Activation(\"gelu\", name=\"{}_dense1_gelu{}\".format(model_name, j))(OUT)\n",
    "\n",
    "# OUT = layers.Dense(1, name=\"{}_head_out\".format(model_name))(OUT)\n",
    "\n",
    "# model = Model(inputs=[IN64, IN32], outputs=OUT, name=model_name)"
   ]
  },
  {
   "cell_type": "code",
   "execution_count": 16,
   "id": "6d21a400-630c-4e40-b990-4e14e5d139c9",
   "metadata": {},
   "outputs": [],
   "source": [
    "from sklearn.metrics import brier_score_loss\n",
    "from sklearn.metrics import log_loss\n",
    "\n",
    "\n",
    "def verif_metric(VALID_target, Y_pred):\n",
    "\n",
    "\n",
    "    # fpr, tpr, thresholds = roc_curve(VALID_target.ravel(), Y_pred.ravel())\n",
    "    # AUC = auc(fpr, tpr)\n",
    "    # AUC_metric = 1 - AUC\n",
    "    \n",
    "    BS = np.mean((VALID_target.ravel() - Y_pred.ravel())**2)\n",
    "    #ll = log_loss(VALID_target.ravel(), Y_pred.ravel())\n",
    "    \n",
    "    print('{}'.format(BS))\n",
    "    metric = BS\n",
    "\n",
    "    return metric"
   ]
  },
  {
   "cell_type": "code",
   "execution_count": 17,
   "id": "ca8e6183-6964-467a-8ebe-01b822b8b8f0",
   "metadata": {},
   "outputs": [],
   "source": [
    "tol = 0\n",
    "min_del = 0\n",
    "max_tol = 500 # early stopping with patience\n",
    "\n",
    "epochs = 500\n",
    "L_train = 64\n",
    "batch_size = 100\n",
    "\n",
    "batch_size_half = 50\n",
    "\n",
    "valid_size = 1"
   ]
  },
  {
   "cell_type": "code",
   "execution_count": 18,
   "id": "82c8fc2c-79f9-4db7-9edd-76037602b064",
   "metadata": {},
   "outputs": [],
   "source": [
    "batch_dir = '/glade/scratch/ksha/DATA/NCAR_batch/'\n",
    "temp_dir = '/glade/work/ksha/NCAR/Keras_models/'\n",
    "\n",
    "key = 'BASE15_Lead2'\n",
    "\n",
    "model_name = '{}_pp12_tune2'.format(key)\n",
    "model_path = temp_dir+model_name\n",
    "\n",
    "# W_old = k_utils.dummy_loader(temp_dir+'LCD_12_Lead2_pp12_tune')\n",
    "# model.set_weights(W_old)"
   ]
  },
  {
   "cell_type": "code",
   "execution_count": 19,
   "id": "67244080-0104-4922-9543-941d6318f26a",
   "metadata": {},
   "outputs": [],
   "source": [
    "# batch_dir = '/glade/scratch/ksha/DATA/NCAR_batch/'\n",
    "# temp_dir = '/glade/work/ksha/NCAR/Keras_models/'\n",
    "\n",
    "# key = 'SHM_12_Lead2'\n",
    "\n",
    "# model_name = '{}_pp12_tune'.format(key)\n",
    "# model_path = temp_dir+model_name\n",
    "\n",
    "# W_old = k_utils.dummy_loader(temp_dir+'SHM_12_Lead2_pp12')\n",
    "# model.set_weights(W_old)\n"
   ]
  },
  {
   "cell_type": "code",
   "execution_count": 20,
   "id": "c5f32705-6a1b-4c2b-9dd3-f89d29a5ff72",
   "metadata": {},
   "outputs": [],
   "source": [
    "model.compile(loss=keras.losses.mean_absolute_error, optimizer=keras.optimizers.Adam(lr=1e-5))\n",
    "#keras.losses.BinaryCrossentropy(from_logits=True)"
   ]
  },
  {
   "cell_type": "code",
   "execution_count": 21,
   "id": "b6bf49a3-1b86-484a-b8e2-94cadceb6ce8",
   "metadata": {},
   "outputs": [],
   "source": [
    "X_batch_64 = np.empty((batch_size, 64, 64, L_vars))\n",
    "#X_batch_32 = np.empty((batch_size, 32, 32, L_vars))\n",
    "Y_batch = np.empty((batch_size, 1))\n",
    "\n",
    "X_batch_64[...] = np.nan\n",
    "#X_batch_32[...] = np.nan\n",
    "Y_batch[...] = np.nan"
   ]
  },
  {
   "cell_type": "code",
   "execution_count": 22,
   "id": "0cc658f4-1b4c-4286-862a-406bc3a9a44d",
   "metadata": {},
   "outputs": [
    {
     "name": "stderr",
     "output_type": "stream",
     "text": [
      "/glade/work/ksha/anaconda3/lib/python3.9/site-packages/tensorflow/python/data/ops/dataset_ops.py:3503: UserWarning: Even though the tf.config.experimental_run_functions_eagerly option is set, this option does not apply to tf.data functions. tf.data functions are still traced and executed as graphs.\n",
      "  warnings.warn(\n",
      "2022-10-21 08:16:09.280039: I tensorflow/compiler/mlir/mlir_graph_optimization_pass.cc:116] None of the MLIR optimization passes are enabled (registered 2)\n",
      "2022-10-21 08:16:09.280487: I tensorflow/core/platform/profile_utils/cpu_utils.cc:112] CPU Frequency: 2600000000 Hz\n",
      "2022-10-21 08:16:09.837544: I tensorflow/stream_executor/platform/default/dso_loader.cc:49] Successfully opened dynamic library libcublas.so.10\n",
      "2022-10-21 08:16:10.014000: I tensorflow/stream_executor/platform/default/dso_loader.cc:49] Successfully opened dynamic library libcudnn.so.7\n"
     ]
    }
   ],
   "source": [
    "Y_pred = model.predict([TEST_input_64])"
   ]
  },
  {
   "cell_type": "code",
   "execution_count": 23,
   "id": "1421171d-b9ec-450f-ac51-a728bc340dc5",
   "metadata": {},
   "outputs": [],
   "source": [
    "# save_dict = {}\n",
    "# save_dict['y_true'] = TEST_target\n",
    "# save_dict['y_pred'] = Y_pred\n",
    "\n",
    "# np.save(\"ALL_pred_lead2.npy\", save_dict)"
   ]
  },
  {
   "cell_type": "code",
   "execution_count": 24,
   "id": "f4fef90f-d890-49de-9685-97135dd6572b",
   "metadata": {},
   "outputs": [
    {
     "name": "stdout",
     "output_type": "stream",
     "text": [
      "3.2467882556305283\n",
      "Initial record: 3.2467882556305283\n"
     ]
    }
   ],
   "source": [
    "# Y_pred[Y_pred<0] = 0\n",
    "# Y_pred[Y_pred>1] = 1\n",
    "record = verif_metric(TEST_target, Y_pred)\n",
    "print(\"Initial record: {}\".format(record))"
   ]
  },
  {
   "cell_type": "code",
   "execution_count": 25,
   "id": "6fd0b65c-10a9-4fdb-9b78-1320f78cf1dc",
   "metadata": {},
   "outputs": [],
   "source": [
    "# 0.034775568168985756\n",
    "# Initial record: 0.034775568168985756"
   ]
  },
  {
   "cell_type": "code",
   "execution_count": 26,
   "id": "441243c7-e0cc-47fe-a521-b4e0878c22d9",
   "metadata": {},
   "outputs": [
    {
     "data": {
      "text/plain": [
       "[<matplotlib.lines.Line2D at 0x2b6e0feb41f0>]"
      ]
     },
     "execution_count": 26,
     "metadata": {},
     "output_type": "execute_result"
    },
    {
     "data": {
      "image/png": "[encoded data removed]",
      "text/plain": [
       "<Figure size 1500x400 with 1 Axes>"
      ]
     },
     "metadata": {},
     "output_type": "display_data"
    }
   ],
   "source": [
    "plt.figure(figsize=(15, 4))\n",
    "plt.plot(TEST_target[:], 'b-', lw=3.0)\n",
    "plt.plot(Y_pred[:], 'r-')\n",
    "#plt.plot(Y_pred>0.5)"
   ]
  },
  {
   "cell_type": "code",
   "execution_count": null,
   "id": "a8e5a18d-f320-4016-9453-8c2ce2a9cc0c",
   "metadata": {},
   "outputs": [],
   "source": []
  },
  {
   "cell_type": "code",
   "execution_count": 27,
   "id": "e3648415-0885-4838-ad2a-252d436f6177",
   "metadata": {},
   "outputs": [],
   "source": [
    "# plt.pcolormesh(TEST_input[3154, ..., 2], cmap=plt.cm.nipy_spectral_r)\n",
    "# plt.colorbar()"
   ]
  },
  {
   "cell_type": "code",
   "execution_count": 28,
   "id": "842940ff-c806-4094-96e5-71b903fe9276",
   "metadata": {},
   "outputs": [
    {
     "data": {
      "text/plain": [
       "[PhysicalDevice(name='/physical_device:GPU:0', device_type='GPU')]"
      ]
     },
     "execution_count": 28,
     "metadata": {},
     "output_type": "execute_result"
    }
   ],
   "source": [
    "tf.config.list_physical_devices('GPU')"
   ]
  },
  {
   "cell_type": "code",
   "execution_count": 29,
   "id": "70383c46-ed57-4ddb-b35e-1f6b9fa1f7c1",
   "metadata": {},
   "outputs": [
    {
     "name": "stdout",
     "output_type": "stream",
     "text": [
      "0.0784474954113975\n",
      "Validation loss improved from 3.2467882556305283 to 0.0784474954113975\n",
      "save to: /glade/work/ksha/NCAR/Keras_models/BASE15_Lead2_pp12_tune2\n"
     ]
    },
    {
     "name": "stderr",
     "output_type": "stream",
     "text": [
      "2022-10-21 08:24:35.515018: W tensorflow/python/util/util.cc:348] Sets are not currently considered sequences, but this may change in the future, so consider avoiding using them.\n"
     ]
    },
    {
     "name": "stdout",
     "output_type": "stream",
     "text": [
      "INFO:tensorflow:Assets written to: /glade/work/ksha/NCAR/Keras_models/BASE15_Lead2_pp12_tune2/assets\n",
      "--- 427.346506357193 seconds ---\n"
     ]
    },
    {
     "name": "stderr",
     "output_type": "stream",
     "text": [
      "/glade/work/ksha/anaconda3/lib/python3.9/site-packages/tensorflow/python/data/ops/dataset_ops.py:3503: UserWarning: Even though the tf.config.experimental_run_functions_eagerly option is set, this option does not apply to tf.data functions. tf.data functions are still traced and executed as graphs.\n",
      "  warnings.warn(\n"
     ]
    },
    {
     "name": "stdout",
     "output_type": "stream",
     "text": [
      "0.06489039404604276\n",
      "Validation loss improved from 0.0784474954113975 to 0.06489039404604276\n",
      "save to: /glade/work/ksha/NCAR/Keras_models/BASE15_Lead2_pp12_tune2\n",
      "INFO:tensorflow:Assets written to: /glade/work/ksha/NCAR/Keras_models/BASE15_Lead2_pp12_tune2/assets\n",
      "--- 451.9655730724335 seconds ---\n"
     ]
    },
    {
     "name": "stderr",
     "output_type": "stream",
     "text": [
      "/glade/work/ksha/anaconda3/lib/python3.9/site-packages/tensorflow/python/data/ops/dataset_ops.py:3503: UserWarning: Even though the tf.config.experimental_run_functions_eagerly option is set, this option does not apply to tf.data functions. tf.data functions are still traced and executed as graphs.\n",
      "  warnings.warn(\n"
     ]
    },
    {
     "name": "stdout",
     "output_type": "stream",
     "text": [
      "0.049910272539278454\n",
      "Validation loss improved from 0.06489039404604276 to 0.049910272539278454\n",
      "save to: /glade/work/ksha/NCAR/Keras_models/BASE15_Lead2_pp12_tune2\n",
      "INFO:tensorflow:Assets written to: /glade/work/ksha/NCAR/Keras_models/BASE15_Lead2_pp12_tune2/assets\n",
      "--- 437.4121289253235 seconds ---\n"
     ]
    },
    {
     "name": "stderr",
     "output_type": "stream",
     "text": [
      "/glade/work/ksha/anaconda3/lib/python3.9/site-packages/tensorflow/python/data/ops/dataset_ops.py:3503: UserWarning: Even though the tf.config.experimental_run_functions_eagerly option is set, this option does not apply to tf.data functions. tf.data functions are still traced and executed as graphs.\n",
      "  warnings.warn(\n"
     ]
    },
    {
     "name": "stdout",
     "output_type": "stream",
     "text": [
      "0.04504122308452816\n",
      "Validation loss improved from 0.049910272539278454 to 0.04504122308452816\n",
      "save to: /glade/work/ksha/NCAR/Keras_models/BASE15_Lead2_pp12_tune2\n",
      "INFO:tensorflow:Assets written to: /glade/work/ksha/NCAR/Keras_models/BASE15_Lead2_pp12_tune2/assets\n",
      "--- 439.99686884880066 seconds ---\n"
     ]
    },
    {
     "name": "stderr",
     "output_type": "stream",
     "text": [
      "/glade/work/ksha/anaconda3/lib/python3.9/site-packages/tensorflow/python/data/ops/dataset_ops.py:3503: UserWarning: Even though the tf.config.experimental_run_functions_eagerly option is set, this option does not apply to tf.data functions. tf.data functions are still traced and executed as graphs.\n",
      "  warnings.warn(\n"
     ]
    },
    {
     "name": "stdout",
     "output_type": "stream",
     "text": [
      "0.040565654205518005\n",
      "Validation loss improved from 0.04504122308452816 to 0.040565654205518005\n",
      "save to: /glade/work/ksha/NCAR/Keras_models/BASE15_Lead2_pp12_tune2\n",
      "INFO:tensorflow:Assets written to: /glade/work/ksha/NCAR/Keras_models/BASE15_Lead2_pp12_tune2/assets\n",
      "--- 437.373939037323 seconds ---\n"
     ]
    },
    {
     "name": "stderr",
     "output_type": "stream",
     "text": [
      "/glade/work/ksha/anaconda3/lib/python3.9/site-packages/tensorflow/python/data/ops/dataset_ops.py:3503: UserWarning: Even though the tf.config.experimental_run_functions_eagerly option is set, this option does not apply to tf.data functions. tf.data functions are still traced and executed as graphs.\n",
      "  warnings.warn(\n"
     ]
    },
    {
     "name": "stdout",
     "output_type": "stream",
     "text": [
      "0.04078089958264381\n",
      "Validation loss 0.04078089958264381 NOT improved\n",
      "0.038633542573871076\n",
      "Validation loss improved from 0.040565654205518005 to 0.038633542573871076\n",
      "save to: /glade/work/ksha/NCAR/Keras_models/BASE15_Lead2_pp12_tune2\n",
      "INFO:tensorflow:Assets written to: /glade/work/ksha/NCAR/Keras_models/BASE15_Lead2_pp12_tune2/assets\n",
      "--- 434.41381072998047 seconds ---\n"
     ]
    },
    {
     "name": "stderr",
     "output_type": "stream",
     "text": [
      "/glade/work/ksha/anaconda3/lib/python3.9/site-packages/tensorflow/python/data/ops/dataset_ops.py:3503: UserWarning: Even though the tf.config.experimental_run_functions_eagerly option is set, this option does not apply to tf.data functions. tf.data functions are still traced and executed as graphs.\n",
      "  warnings.warn(\n"
     ]
    },
    {
     "name": "stdout",
     "output_type": "stream",
     "text": [
      "0.04071043045652712\n",
      "Validation loss 0.04071043045652712 NOT improved\n",
      "0.03909413172679908\n",
      "Validation loss 0.03909413172679908 NOT improved\n",
      "0.036966590117061555\n",
      "Validation loss improved from 0.038633542573871076 to 0.036966590117061555\n",
      "save to: /glade/work/ksha/NCAR/Keras_models/BASE15_Lead2_pp12_tune2\n",
      "INFO:tensorflow:Assets written to: /glade/work/ksha/NCAR/Keras_models/BASE15_Lead2_pp12_tune2/assets\n",
      "--- 441.38367557525635 seconds ---\n"
     ]
    },
    {
     "name": "stderr",
     "output_type": "stream",
     "text": [
      "/glade/work/ksha/anaconda3/lib/python3.9/site-packages/tensorflow/python/data/ops/dataset_ops.py:3503: UserWarning: Even though the tf.config.experimental_run_functions_eagerly option is set, this option does not apply to tf.data functions. tf.data functions are still traced and executed as graphs.\n",
      "  warnings.warn(\n"
     ]
    },
    {
     "name": "stdout",
     "output_type": "stream",
     "text": [
      "0.03474666722806555\n",
      "Validation loss improved from 0.036966590117061555 to 0.03474666722806555\n",
      "save to: /glade/work/ksha/NCAR/Keras_models/BASE15_Lead2_pp12_tune2\n",
      "INFO:tensorflow:Assets written to: /glade/work/ksha/NCAR/Keras_models/BASE15_Lead2_pp12_tune2/assets\n",
      "--- 442.63372111320496 seconds ---\n"
     ]
    },
    {
     "name": "stderr",
     "output_type": "stream",
     "text": [
      "/glade/work/ksha/anaconda3/lib/python3.9/site-packages/tensorflow/python/data/ops/dataset_ops.py:3503: UserWarning: Even though the tf.config.experimental_run_functions_eagerly option is set, this option does not apply to tf.data functions. tf.data functions are still traced and executed as graphs.\n",
      "  warnings.warn(\n"
     ]
    },
    {
     "name": "stdout",
     "output_type": "stream",
     "text": [
      "0.03622043472731458\n",
      "Validation loss 0.03622043472731458 NOT improved\n",
      "0.03506871986908221\n",
      "Validation loss 0.03506871986908221 NOT improved\n",
      "0.035369358420714744\n",
      "Validation loss 0.035369358420714744 NOT improved\n",
      "0.03507865216779133\n",
      "Validation loss 0.03507865216779133 NOT improved\n",
      "0.03499015747343517\n",
      "Validation loss 0.03499015747343517 NOT improved\n",
      "0.03494409538674087\n",
      "Validation loss 0.03494409538674087 NOT improved\n"
     ]
    },
    {
     "name": "stderr",
     "output_type": "stream",
     "text": [
      "\n",
      "KeyboardInterrupt\n",
      "\n"
     ]
    }
   ],
   "source": [
    "# ========== Training loop ========== #\n",
    "L_storm = len(filename_neg_train)\n",
    "L_aug = len(filename_pos_train)\n",
    "\n",
    "for i in range(epochs):\n",
    "    \n",
    "    shuffle(filename_neg_train)\n",
    "    shuffle(filename_pos_train)\n",
    "    \n",
    "    #print('epoch = {}'.format(i))\n",
    "    start_time = time.time()\n",
    "    \n",
    "    # loop of batch\n",
    "    for j in range(L_train):\n",
    "        \n",
    "        #N_aug = int(np.random.uniform(2, 7))\n",
    "        N_aug = int(np.random.uniform(8, 14))\n",
    "        #N_aug = int(np.random.uniform(10, 25))\n",
    "        #N_aug = int(np.random.uniform(20, 45))\n",
    "        \n",
    "        N_storm = 100 - N_aug\n",
    "        \n",
    "        ind_storm = du.shuffle_ind(L_storm)\n",
    "        ind_aug = du.shuffle_ind(L_aug)\n",
    "        \n",
    "        file_pick_storm = []\n",
    "        for ind_temp in ind_storm[:N_storm]:\n",
    "            file_pick_storm.append(filename_neg_train[ind_temp])\n",
    "\n",
    "        file_pick_aug = []\n",
    "        for ind_temp in ind_aug[:N_aug]:\n",
    "            file_pick_aug.append(filename_pos_train[ind_temp])\n",
    "        \n",
    "        file_pick = file_pick_storm + file_pick_aug\n",
    "        \n",
    "        if len(file_pick) != 100:\n",
    "            sregwet\n",
    "        \n",
    "        for k in range(batch_size):\n",
    "\n",
    "            data = np.load(file_pick[k])\n",
    "            \n",
    "            for l, c in enumerate(ind_pick_from_batch):\n",
    "            \n",
    "                X_batch_64[k, ..., l] = data[..., c]\n",
    "            \n",
    "            if 'pos' in file_pick[k]:\n",
    "                Y_batch[k, :] = 1.0 #np.random.uniform(0.9, 0.99)\n",
    "            elif 'neg_neg_neg' in file_pick[k]:\n",
    "                Y_batch[k, :] = 0.0 #np.random.uniform(0.01, 0.05)\n",
    "            else:\n",
    "                werhgaer\n",
    "                \n",
    "        #Y_batch_cate = tf.keras.utils.to_categorical(Y_batch)\n",
    "        \n",
    "        # # add noise within sparse inputs\n",
    "        # for v in flag_sparse:\n",
    "        #     X_batch[..., v] += np.random.uniform(0, 0.01, size=(batch_size, 128, 128))\n",
    "\n",
    "        # shuffle indices\n",
    "        ind_ = du.shuffle_ind(batch_size)\n",
    "        X_batch_64 = X_batch_64[ind_, ...]\n",
    "        Y_batch = Y_batch[ind_, :]\n",
    "        \n",
    "        # train on batch\n",
    "        model.train_on_batch(X_batch_64, Y_batch);\n",
    "    \n",
    "    # epoch end operations\n",
    "    Y_pred = model.predict([TEST_input_64])\n",
    "    # Y_pred[Y_pred<0] = 0\n",
    "    # Y_pred[Y_pred>1] = 1\n",
    "    record_temp = verif_metric(TEST_target, Y_pred)\n",
    "    \n",
    "    # if i % 10 == 0:\n",
    "    #     model.save(model_path_backup)\n",
    "    \n",
    "    if (record - record_temp > min_del) and (np.max(Y_pred) > 0.6):\n",
    "        print('Validation loss improved from {} to {}'.format(record, record_temp))\n",
    "        record = record_temp\n",
    "        tol = 0\n",
    "        #print('tol: {}'.format(tol))\n",
    "        # save\n",
    "        print('save to: {}'.format(model_path))\n",
    "        model.save(model_path)\n",
    "    else:\n",
    "        print('Validation loss {} NOT improved'.format(record_temp))\n",
    "        tol += 1\n",
    "        #print('tol: {}'.format(tol))\n",
    "        if tol >= max_tol:\n",
    "            print('Early stopping')\n",
    "            sys.exit();\n",
    "        else:\n",
    "            #print('Pass to the next epoch')\n",
    "            continue;\n",
    "    print(\"--- %s seconds ---\" % (time.time() - start_time))"
   ]
  },
  {
   "cell_type": "code",
   "execution_count": null,
   "id": "3c3778a4-d333-4f0e-b087-ba114ae28d34",
   "metadata": {},
   "outputs": [],
   "source": []
  },
  {
   "cell_type": "code",
   "execution_count": null,
   "id": "d3f2a3c6-b81e-48c7-958f-bcb0710fd54f",
   "metadata": {},
   "outputs": [],
   "source": []
  },
  {
   "cell_type": "code",
   "execution_count": null,
   "id": "cbb10a54-1aa8-4633-bfb8-3a6dd812d1a1",
   "metadata": {},
   "outputs": [],
   "source": []
  },
  {
   "cell_type": "code",
   "execution_count": null,
   "id": "b3c66fbf-399b-4441-9e5a-cb4f1f41f7f9",
   "metadata": {},
   "outputs": [],
   "source": []
  },
  {
   "cell_type": "code",
   "execution_count": null,
   "id": "ed08fd72-c7c9-41e4-86c4-25e7ad33ceef",
   "metadata": {},
   "outputs": [],
   "source": []
  },
  {
   "cell_type": "code",
   "execution_count": 30,
   "id": "ca6e5ad6-0941-4737-88f1-6df2077dba9d",
   "metadata": {},
   "outputs": [
    {
     "name": "stdout",
     "output_type": "stream",
     "text": [
      "0.07514533614068455\n",
      "Validation loss improved from 0.2998326700708481 to 0.07514533614068455\n",
      "save to: /glade/work/ksha/NCAR/Keras_models/LCD_12_Lead2_pp12\n"
     ]
    },
    {
     "name": "stderr",
     "output_type": "stream",
     "text": [
      "2022-10-14 13:24:01.764774: W tensorflow/python/util/util.cc:348] Sets are not currently considered sequences, but this may change in the future, so consider avoiding using them.\n"
     ]
    },
    {
     "name": "stdout",
     "output_type": "stream",
     "text": [
      "INFO:tensorflow:Assets written to: /glade/work/ksha/NCAR/Keras_models/LCD_12_Lead2_pp12/assets\n",
      "--- 633.1284303665161 seconds ---\n"
     ]
    },
    {
     "name": "stderr",
     "output_type": "stream",
     "text": [
      "/glade/work/ksha/anaconda3/lib/python3.9/site-packages/tensorflow/python/data/ops/dataset_ops.py:3503: UserWarning: Even though the tf.config.experimental_run_functions_eagerly option is set, this option does not apply to tf.data functions. tf.data functions are still traced and executed as graphs.\n",
      "  warnings.warn(\n"
     ]
    },
    {
     "name": "stdout",
     "output_type": "stream",
     "text": [
      "0.04136495989064323\n",
      "Validation loss improved from 0.07514533614068455 to 0.04136495989064323\n",
      "save to: /glade/work/ksha/NCAR/Keras_models/LCD_12_Lead2_pp12\n",
      "INFO:tensorflow:Assets written to: /glade/work/ksha/NCAR/Keras_models/LCD_12_Lead2_pp12/assets\n",
      "--- 742.1642851829529 seconds ---\n"
     ]
    },
    {
     "name": "stderr",
     "output_type": "stream",
     "text": [
      "/glade/work/ksha/anaconda3/lib/python3.9/site-packages/tensorflow/python/data/ops/dataset_ops.py:3503: UserWarning: Even though the tf.config.experimental_run_functions_eagerly option is set, this option does not apply to tf.data functions. tf.data functions are still traced and executed as graphs.\n",
      "  warnings.warn(\n"
     ]
    },
    {
     "name": "stdout",
     "output_type": "stream",
     "text": [
      "0.038807801316810574\n",
      "Validation loss improved from 0.04136495989064323 to 0.038807801316810574\n",
      "save to: /glade/work/ksha/NCAR/Keras_models/LCD_12_Lead2_pp12\n",
      "INFO:tensorflow:Assets written to: /glade/work/ksha/NCAR/Keras_models/LCD_12_Lead2_pp12/assets\n",
      "--- 712.9455497264862 seconds ---\n"
     ]
    },
    {
     "name": "stderr",
     "output_type": "stream",
     "text": [
      "/glade/work/ksha/anaconda3/lib/python3.9/site-packages/tensorflow/python/data/ops/dataset_ops.py:3503: UserWarning: Even though the tf.config.experimental_run_functions_eagerly option is set, this option does not apply to tf.data functions. tf.data functions are still traced and executed as graphs.\n",
      "  warnings.warn(\n"
     ]
    },
    {
     "name": "stdout",
     "output_type": "stream",
     "text": [
      "0.03177556492371975\n",
      "Validation loss improved from 0.038807801316810574 to 0.03177556492371975\n",
      "save to: /glade/work/ksha/NCAR/Keras_models/LCD_12_Lead2_pp12\n",
      "INFO:tensorflow:Assets written to: /glade/work/ksha/NCAR/Keras_models/LCD_12_Lead2_pp12/assets\n",
      "--- 660.8410992622375 seconds ---\n"
     ]
    },
    {
     "name": "stderr",
     "output_type": "stream",
     "text": [
      "/glade/work/ksha/anaconda3/lib/python3.9/site-packages/tensorflow/python/data/ops/dataset_ops.py:3503: UserWarning: Even though the tf.config.experimental_run_functions_eagerly option is set, this option does not apply to tf.data functions. tf.data functions are still traced and executed as graphs.\n",
      "  warnings.warn(\n"
     ]
    },
    {
     "name": "stdout",
     "output_type": "stream",
     "text": [
      "0.030470391321217895\n",
      "Validation loss improved from 0.03177556492371975 to 0.030470391321217895\n",
      "save to: /glade/work/ksha/NCAR/Keras_models/LCD_12_Lead2_pp12\n",
      "INFO:tensorflow:Assets written to: /glade/work/ksha/NCAR/Keras_models/LCD_12_Lead2_pp12/assets\n",
      "--- 736.8477790355682 seconds ---\n"
     ]
    },
    {
     "name": "stderr",
     "output_type": "stream",
     "text": [
      "/glade/work/ksha/anaconda3/lib/python3.9/site-packages/tensorflow/python/data/ops/dataset_ops.py:3503: UserWarning: Even though the tf.config.experimental_run_functions_eagerly option is set, this option does not apply to tf.data functions. tf.data functions are still traced and executed as graphs.\n",
      "  warnings.warn(\n"
     ]
    },
    {
     "name": "stdout",
     "output_type": "stream",
     "text": [
      "0.02832385153894868\n",
      "Validation loss improved from 0.030470391321217895 to 0.02832385153894868\n",
      "save to: /glade/work/ksha/NCAR/Keras_models/LCD_12_Lead2_pp12\n",
      "INFO:tensorflow:Assets written to: /glade/work/ksha/NCAR/Keras_models/LCD_12_Lead2_pp12/assets\n",
      "--- 662.7899610996246 seconds ---\n"
     ]
    },
    {
     "name": "stderr",
     "output_type": "stream",
     "text": [
      "/glade/work/ksha/anaconda3/lib/python3.9/site-packages/tensorflow/python/data/ops/dataset_ops.py:3503: UserWarning: Even though the tf.config.experimental_run_functions_eagerly option is set, this option does not apply to tf.data functions. tf.data functions are still traced and executed as graphs.\n",
      "  warnings.warn(\n",
      "\n",
      "KeyboardInterrupt\n",
      "\n"
     ]
    }
   ],
   "source": [
    "# ========== Training loop ========== #\n",
    "L_storm = len(filename_neg_train)\n",
    "L_aug = len(filename_pos_train)\n",
    "\n",
    "for i in range(epochs):\n",
    "    \n",
    "    shuffle(filename_neg_train)\n",
    "    shuffle(filename_pos_train)\n",
    "    \n",
    "    #print('epoch = {}'.format(i))\n",
    "    start_time = time.time()\n",
    "    \n",
    "    # loop of batch\n",
    "    for j in range(L_train):\n",
    "        \n",
    "        #N_aug = int(np.random.uniform(2, 7))\n",
    "        N_aug = int(np.random.uniform(8, 14))\n",
    "        #N_aug = int(np.random.uniform(10, 25))\n",
    "        #N_aug = int(np.random.uniform(20, 45))\n",
    "        \n",
    "        N_storm = 100 - N_aug\n",
    "        \n",
    "        ind_storm = du.shuffle_ind(L_storm)\n",
    "        ind_aug = du.shuffle_ind(L_aug)\n",
    "        \n",
    "        file_pick_storm = []\n",
    "        for ind_temp in ind_storm[:N_storm]:\n",
    "            file_pick_storm.append(filename_neg_train[ind_temp])\n",
    "\n",
    "        file_pick_aug = []\n",
    "        for ind_temp in ind_aug[:N_aug]:\n",
    "            file_pick_aug.append(filename_pos_train[ind_temp])\n",
    "        \n",
    "        file_pick = file_pick_storm + file_pick_aug\n",
    "        \n",
    "        if len(file_pick) != 100:\n",
    "            sregwet\n",
    "        \n",
    "        for k in range(batch_size):\n",
    "\n",
    "            data = np.load(file_pick[k])\n",
    "            \n",
    "            for l, c in enumerate(ind_pick_from_batch):\n",
    "            \n",
    "                X_batch_64[k, ..., l] = data[..., c]\n",
    "                X_batch_32[k, ..., l] = data[:, 16:-16, 16:-16, c]\n",
    "            \n",
    "            if 'pos' in file_pick[k]:\n",
    "                Y_batch[k, :] = 1.0 #np.random.uniform(0.9, 0.99)\n",
    "            elif 'neg_neg_neg' in file_pick[k]:\n",
    "                Y_batch[k, :] = 0.0 #np.random.uniform(0.01, 0.05)\n",
    "            else:\n",
    "                werhgaer\n",
    "                \n",
    "        #Y_batch_cate = tf.keras.utils.to_categorical(Y_batch)\n",
    "        \n",
    "        # # add noise within sparse inputs\n",
    "        # for v in flag_sparse:\n",
    "        #     X_batch[..., v] += np.random.uniform(0, 0.01, size=(batch_size, 128, 128))\n",
    "\n",
    "        # shuffle indices\n",
    "        ind_ = du.shuffle_ind(batch_size)\n",
    "        X_batch_64 = X_batch_64[ind_, ...]\n",
    "        X_batch_32 = X_batch_32[ind_, ...]\n",
    "        Y_batch = Y_batch[ind_, :]\n",
    "        \n",
    "        # train on batch\n",
    "        model.train_on_batch([X_batch_64, X_batch_32], [Y_batch,]);\n",
    "    \n",
    "    # epoch end operations\n",
    "    Y_pred = model.predict([TEST_input_64, TEST_input_32])\n",
    "    # Y_pred[Y_pred<0] = 0\n",
    "    # Y_pred[Y_pred>1] = 1\n",
    "    record_temp = verif_metric(TEST_target, Y_pred)\n",
    "    \n",
    "    # if i % 10 == 0:\n",
    "    #     model.save(model_path_backup)\n",
    "    \n",
    "    if (record - record_temp > min_del) and (np.max(Y_pred) > 0.6):\n",
    "        print('Validation loss improved from {} to {}'.format(record, record_temp))\n",
    "        record = record_temp\n",
    "        tol = 0\n",
    "        #print('tol: {}'.format(tol))\n",
    "        # save\n",
    "        print('save to: {}'.format(model_path))\n",
    "        model.save(model_path)\n",
    "    else:\n",
    "        print('Validation loss {} NOT improved'.format(record_temp))\n",
    "        tol += 1\n",
    "        #print('tol: {}'.format(tol))\n",
    "        if tol >= max_tol:\n",
    "            print('Early stopping')\n",
    "            sys.exit();\n",
    "        else:\n",
    "            #print('Pass to the next epoch')\n",
    "            continue;\n",
    "    print(\"--- %s seconds ---\" % (time.time() - start_time))"
   ]
  },
  {
   "cell_type": "code",
   "execution_count": null,
   "id": "79545757-3242-449d-bd8f-46612af69f7f",
   "metadata": {},
   "outputs": [],
   "source": []
  },
  {
   "cell_type": "code",
   "execution_count": null,
   "id": "25f1c6f0-1c2b-421f-8c3c-d6f54f920135",
   "metadata": {},
   "outputs": [],
   "source": []
  },
  {
   "cell_type": "code",
   "execution_count": 38,
   "id": "baaee327-4cd1-4656-b778-8dadbf4a7c2a",
   "metadata": {},
   "outputs": [
    {
     "data": {
      "text/plain": [
       "123844"
      ]
     },
     "execution_count": 38,
     "metadata": {},
     "output_type": "execute_result"
    }
   ],
   "source": [
    "j"
   ]
  },
  {
   "cell_type": "code",
   "execution_count": null,
   "id": "5e36941d-bcdc-4d6f-a44a-4a30e273ebb7",
   "metadata": {},
   "outputs": [],
   "source": [
    "https://mesonet.agron.iastate.edu/pickup/wwa/"
   ]
  },
  {
   "cell_type": "code",
   "execution_count": null,
   "id": "06d3a65c-c303-47c3-a629-94351ebd3ade",
   "metadata": {},
   "outputs": [],
   "source": []
  },
  {
   "cell_type": "code",
   "execution_count": 29,
   "id": "e4d9a07b-cea7-45dd-81e5-f08f8a50e689",
   "metadata": {},
   "outputs": [
    {
     "data": {
      "text/plain": [
       "1"
      ]
     },
     "execution_count": 29,
     "metadata": {},
     "output_type": "execute_result"
    }
   ],
   "source": [
    "10 % 3"
   ]
  },
  {
   "cell_type": "code",
   "execution_count": null,
   "id": "e83e1ee3-6c58-4da1-8f55-d942b9be9159",
   "metadata": {},
   "outputs": [],
   "source": []
  },
  {
   "cell_type": "code",
   "execution_count": null,
   "id": "c7191747-33d0-453b-8f49-60abd69cb37b",
   "metadata": {},
   "outputs": [],
   "source": []
  },
  {
   "cell_type": "code",
   "execution_count": null,
   "id": "9e03b9ee-0806-40b4-86a5-2375b696fc82",
   "metadata": {},
   "outputs": [],
   "source": []
  }
 ],
 "metadata": {
  "kernelspec": {
   "display_name": "Python 3 (ipykernel)",
   "language": "python",
   "name": "python3"
  },
  "language_info": {
   "codemirror_mode": {
    "name": "ipython",
    "version": 3
   },
   "file_extension": ".py",
   "mimetype": "text/x-python",
   "name": "python",
   "nbconvert_exporter": "python",
   "pygments_lexer": "ipython3",
   "version": "3.9.13"
  }
 },
 "nbformat": 4,
 "nbformat_minor": 5
}
