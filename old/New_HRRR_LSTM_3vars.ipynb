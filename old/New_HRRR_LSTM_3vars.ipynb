{
 "cells": [
  {
   "cell_type": "code",
   "execution_count": 1,
   "id": "ce76310e-2358-43eb-ba0c-188a45af0b5e",
   "metadata": {},
   "outputs": [],
   "source": [
    "# general tools\n",
    "import sys\n",
    "from glob import glob\n",
    "\n",
    "# data tools\n",
    "import time\n",
    "import h5py\n",
    "import random\n",
    "import numpy as np\n",
    "from random import shuffle\n",
    "\n",
    "import matplotlib.pyplot as plt\n",
    "%matplotlib inline"
   ]
  },
  {
   "cell_type": "code",
   "execution_count": 2,
   "id": "ee2f455b-7a16-4d6c-b673-ff37e482f46d",
   "metadata": {},
   "outputs": [
    {
     "name": "stderr",
     "output_type": "stream",
     "text": [
      "2022-09-20 14:10:21.586617: I tensorflow/stream_executor/platform/default/dso_loader.cc:49] Successfully opened dynamic library libcudart.so.10.1\n"
     ]
    }
   ],
   "source": [
    "# deep learning tools\n",
    "import tensorflow as tf\n",
    "from tensorflow import keras\n",
    "from tensorflow.keras import layers\n",
    "tf.config.run_functions_eagerly(True)\n",
    "\n",
    "# from keras_unet_collection import models as k_models\n",
    "from keras_unet_collection import utils as k_utils\n",
    "# from keras_unet_collection import layer_utils as k_layers\n",
    "# from keras_unet_collection.activations import GELU"
   ]
  },
  {
   "cell_type": "code",
   "execution_count": 3,
   "id": "329c3d14-edd9-49fa-a0b6-c112ea9c7553",
   "metadata": {},
   "outputs": [],
   "source": [
    "sys.path.insert(0, '/glade/u/home/ksha/NCAR/')\n",
    "sys.path.insert(0, '/glade/u/home/ksha/NCAR/libs/')\n",
    "\n",
    "from namelist import *\n",
    "import data_utils as du\n",
    "import graph_utils as gu\n",
    "import convnext_keras as ck\n",
    "\n",
    "from sklearn.metrics import classification_report, auc, roc_curve\n",
    "from sklearn.metrics import confusion_matrix\n",
    "\n",
    "import matplotlib.pyplot as plt\n",
    "%matplotlib inline\n",
    "\n"
   ]
  },
  {
   "cell_type": "code",
   "execution_count": 4,
   "id": "a1c2e1ce-3a18-4453-a423-4933848bf089",
   "metadata": {},
   "outputs": [
    {
     "data": {
      "text/plain": [
       "<module 'convnext_keras' from '/glade/u/home/ksha/NCAR/libs/convnext_keras.py'>"
      ]
     },
     "execution_count": 4,
     "metadata": {},
     "output_type": "execute_result"
    }
   ],
   "source": [
    "from importlib import reload\n",
    "reload(ck)"
   ]
  },
  {
   "cell_type": "code",
   "execution_count": 5,
   "id": "c181e0e9-cf6a-4fc9-a913-97562ce045c2",
   "metadata": {},
   "outputs": [],
   "source": [
    "filename_neg_train = sorted(glob(\"/glade/scratch/ksha/DATA/NCAR_batch2/*neg_neg_neg*.npy\"))\n",
    "filename_pos_train = sorted(glob(\"/glade/scratch/ksha/DATA/NCAR_batch2/*pos*.npy\"))"
   ]
  },
  {
   "cell_type": "code",
   "execution_count": 6,
   "id": "7a1d9b13-17a8-4c2e-b316-a7731afdce58",
   "metadata": {},
   "outputs": [],
   "source": [
    "filename_neg_valid = sorted(glob(\"/glade/scratch/ksha/DATA/NCAR_batch2/VALID*neg_neg_neg*.npy\"))\n",
    "filename_pos_valid = sorted(glob(\"/glade/scratch/ksha/DATA/NCAR_batch2/VALID*pos*.npy\"))"
   ]
  },
  {
   "cell_type": "code",
   "execution_count": 7,
   "id": "d9e2caa8-e4ec-468b-a926-0c9cd51077ff",
   "metadata": {},
   "outputs": [],
   "source": [
    "filename_valid = filename_neg_valid + filename_pos_valid"
   ]
  },
  {
   "cell_type": "code",
   "execution_count": 8,
   "id": "935d737e-1f3f-4bcd-8507-510fa7789c2e",
   "metadata": {},
   "outputs": [],
   "source": [
    "for name in filename_neg_train:\n",
    "    m = np.sum(np.load(filename_pos_valid[3], allow_pickle=True)[()]['code'])\n",
    "    if m > 0:\n",
    "        print(name)"
   ]
  },
  {
   "cell_type": "code",
   "execution_count": null,
   "id": "4243a1c5-370a-4d0a-9c6b-4cfc29e02c2d",
   "metadata": {},
   "outputs": [],
   "source": []
  },
  {
   "cell_type": "code",
   "execution_count": 16,
   "id": "44e1e93e-150f-4e8b-b8ce-9cd00bf37cc0",
   "metadata": {},
   "outputs": [],
   "source": [
    "with h5py.File(save_dir+'HRRR_domain.hdf', 'r') as h5io:\n",
    "    lon_3km = h5io['lon_3km'][...]\n",
    "    lat_3km = h5io['lat_3km'][...]\n",
    "    lon_72km = h5io['lon_72km'][...]\n",
    "    lat_72km = h5io['lat_72km'][...]\n",
    "    land_mask_72km = h5io['land_mask_72km'][...]\n",
    "    land_mask_3km = h5io['land_mask_3km'][...]"
   ]
  },
  {
   "cell_type": "code",
   "execution_count": 17,
   "id": "09875430-75b3-4d88-ad26-58830db6f338",
   "metadata": {},
   "outputs": [
    {
     "data": {
      "text/plain": [
       "(44, 75)"
      ]
     },
     "execution_count": 17,
     "metadata": {},
     "output_type": "execute_result"
    }
   ],
   "source": [
    "lon_72km.shape"
   ]
  },
  {
   "cell_type": "code",
   "execution_count": null,
   "id": "dec77b64-d4dd-430e-9388-a2024d9a25ce",
   "metadata": {},
   "outputs": [],
   "source": []
  },
  {
   "cell_type": "code",
   "execution_count": null,
   "id": "7112aecf-857c-42c5-b4e0-bba2fdf7f6bd",
   "metadata": {},
   "outputs": [],
   "source": []
  },
  {
   "cell_type": "code",
   "execution_count": null,
   "id": "b278321a-79c5-4299-8847-c271146121fa",
   "metadata": {},
   "outputs": [],
   "source": []
  },
  {
   "cell_type": "code",
   "execution_count": 9,
   "id": "603abdf9-f11d-49e1-b4c9-3bd0bb4bc499",
   "metadata": {},
   "outputs": [],
   "source": [
    "#ind_pick_from_batch = [2, 11, 17, 18]\n",
    "\n",
    "L_vars = 4\n",
    "L_vars_h = 4\n",
    "L_vars_ori = 19"
   ]
  },
  {
   "cell_type": "code",
   "execution_count": 10,
   "id": "3063ca0a-a4d9-4e3a-a477-01b92709754f",
   "metadata": {},
   "outputs": [],
   "source": [
    "L_valid = len(filename_valid)\n",
    "\n",
    "TEST_input = np.empty((L_valid, 4, 64))\n",
    "TEST_target = np.ones(L_valid)\n",
    "\n",
    "for i, name in enumerate(filename_valid):\n",
    "    \n",
    "    collection = np.load(name, allow_pickle=True)[()]\n",
    "    \n",
    "    vector_gn2 = collection['Gn2']\n",
    "    vector_gn1 = collection['Gn1']\n",
    "    vector_gp0 = collection['Gp0']\n",
    "    vector_gp1 = collection['Gp1']\n",
    "     \n",
    "    TEST_input[i, 0, :] = vector_gn2\n",
    "    TEST_input[i, 1, :] = vector_gn1\n",
    "    TEST_input[i, 2, :] = vector_gp0\n",
    "    TEST_input[i, 3, :] = vector_gp1\n",
    "    \n",
    "    if 'pos' in name:\n",
    "        TEST_target[i] = 1.0\n",
    "    else:\n",
    "        TEST_target[i] = 0.0"
   ]
  },
  {
   "cell_type": "code",
   "execution_count": 11,
   "id": "bd7007c9-b7b3-4b03-8854-d9c59a1ceca6",
   "metadata": {},
   "outputs": [],
   "source": [
    "prob_base = np.sum(TEST_target) / len(TEST_target)"
   ]
  },
  {
   "cell_type": "code",
   "execution_count": 12,
   "id": "498d8398-9d0f-4653-a68e-c72041df8082",
   "metadata": {},
   "outputs": [
    {
     "data": {
      "text/plain": [
       "0.003781148922600337"
      ]
     },
     "execution_count": 12,
     "metadata": {},
     "output_type": "execute_result"
    }
   ],
   "source": [
    "prob_base"
   ]
  },
  {
   "cell_type": "code",
   "execution_count": 13,
   "id": "992823d2-8297-4a07-9239-a38dd5951136",
   "metadata": {},
   "outputs": [
    {
     "data": {
      "text/plain": [
       "[<matplotlib.lines.Line2D at 0x2b4b815d7c70>]"
      ]
     },
     "execution_count": 13,
     "metadata": {},
     "output_type": "execute_result"
    },
    {
     "data": {
      "image/png": "[encoded data removed]",
      "text/plain": [
       "<Figure size 800x200 with 1 Axes>"
      ]
     },
     "metadata": {},
     "output_type": "display_data"
    }
   ],
   "source": [
    "plt.figure(figsize=(8, 2))\n",
    "plt.plot(TEST_target)"
   ]
  },
  {
   "cell_type": "code",
   "execution_count": 14,
   "id": "c4398bb0-5f02-4aa0-80be-0dee0d8b8cdc",
   "metadata": {},
   "outputs": [
    {
     "data": {
      "text/plain": [
       "83"
      ]
     },
     "execution_count": 14,
     "metadata": {},
     "output_type": "execute_result"
    }
   ],
   "source": [
    "len(filename_pos_valid)"
   ]
  },
  {
   "cell_type": "code",
   "execution_count": null,
   "id": "86674864-9d50-4dbc-8291-cd9f4e446b27",
   "metadata": {},
   "outputs": [],
   "source": []
  },
  {
   "cell_type": "code",
   "execution_count": 15,
   "id": "d09534af-5fbc-4274-acac-3b47449727a7",
   "metadata": {},
   "outputs": [
    {
     "data": {
      "text/plain": [
       "21868"
      ]
     },
     "execution_count": 15,
     "metadata": {},
     "output_type": "execute_result"
    }
   ],
   "source": [
    "len(filename_neg_valid)"
   ]
  },
  {
   "cell_type": "markdown",
   "id": "26d6c483-697c-43b9-8469-8028e4b819bc",
   "metadata": {},
   "source": [
    "**ConvNext**"
   ]
  },
  {
   "cell_type": "code",
   "execution_count": 24,
   "id": "23506a64-a232-46d0-92fa-5e28a3b21053",
   "metadata": {},
   "outputs": [],
   "source": [
    "from sklearn.metrics import brier_score_loss\n",
    "\n",
    "def verif_metric(VALID_target, Y_pred, thres=0.5):\n",
    "\n",
    "    tn, fp, fn, tp = confusion_matrix(VALID_target.ravel(), Y_pred.ravel()>thres).ravel()\n",
    "\n",
    "    CSI = tp/(tp+fn+fp)\n",
    "    CSI_metric = 1 - CSI\n",
    "\n",
    "    fpr, tpr, thresholds = roc_curve(VALID_target.ravel(), Y_pred.ravel())\n",
    "    AUC = auc(fpr, tpr)\n",
    "    AUC_metric = 1 - AUC\n",
    "    \n",
    "    freq = (tp+fp)/(tp+fn)\n",
    "    freq_metric = np.abs(freq-1.0)\n",
    "    \n",
    "    BS = brier_score_loss(VALID_target.ravel(), Y_pred.ravel())\n",
    "    \n",
    "    print('{} {} {} {}'.format(CSI, AUC, freq, BS))\n",
    "    metric = AUC_metric + 2*BS\n",
    "\n",
    "\n",
    "    return metric\n",
    "\n",
    "\n",
    "# def verif_metric(VALID_target, Y_pred, prob_base):\n",
    "#     BS = np.mean((Y_pred.ravel()-VALID_target.ravel())**2)\n",
    "#     BSS = 1-(BS/prob_base)\n",
    "#     print('BS = {}; BSS = {}'.format(BS, BSS))\n",
    "#     return BS/prob_base"
   ]
  },
  {
   "cell_type": "code",
   "execution_count": 25,
   "id": "d78feddb-98bf-453b-aeb8-237da3cfc37f",
   "metadata": {},
   "outputs": [],
   "source": [
    "from tensorflow.keras import Model"
   ]
  },
  {
   "cell_type": "code",
   "execution_count": 48,
   "id": "269d8a0b-ec60-4051-aa80-b026ab4212c4",
   "metadata": {},
   "outputs": [],
   "source": [
    "IN = tf.keras.Input(shape=(4, 64))\n",
    "\n",
    "X = IN\n",
    "\n",
    "X = tf.keras.layers.Conv1D(64, kernel_size=2, padding=\"same\",)(X)\n",
    "X = layers.Activation(\"gelu\")(X)\n",
    "X = layers.LayerNormalization(epsilon=1e-6)(X)\n",
    "\n",
    "X = tf.keras.layers.Conv1D(128, kernel_size=2, padding=\"same\",)(X)\n",
    "X = layers.Activation(\"gelu\")(X)\n",
    "X = layers.LayerNormalization(epsilon=1e-6)(X)\n",
    "\n",
    "#X = tf.keras.layers.Dropout(0.1)(X)\n",
    "\n",
    "X = tf.keras.layers.Conv1D(256, kernel_size=2, padding=\"same\",)(X)\n",
    "X = layers.Activation(\"gelu\")(X)\n",
    "X = layers.LayerNormalization(epsilon=1e-6)(X)\n",
    "\n",
    "X = tf.keras.layers.Conv1D(128, kernel_size=2, padding=\"same\",)(X)\n",
    "X = layers.Activation(\"gelu\")(X)\n",
    "X = layers.LayerNormalization(epsilon=1e-6)(X)\n",
    "\n",
    "X = tf.keras.layers.Conv1D(64, kernel_size=2, padding=\"same\",)(X)\n",
    "X = layers.Activation(\"gelu\")(X)\n",
    "X = layers.LayerNormalization(epsilon=1e-6)(X)\n",
    "\n",
    "X = tf.keras.layers.Flatten()(X)\n",
    "\n",
    "OUT = X\n",
    "\n",
    "OUT = layers.Dense(64)(OUT)\n",
    "OUT = layers.Activation(\"gelu\")(OUT)\n",
    "OUT = layers.LayerNormalization(epsilon=1e-6)(OUT)\n",
    "\n",
    "OUT = layers.Dense(1, activation='sigmoid')(OUT)\n",
    "\n",
    "model = Model(inputs=IN, outputs=OUT)"
   ]
  },
  {
   "cell_type": "code",
   "execution_count": 49,
   "id": "ca8e6183-6964-467a-8ebe-01b822b8b8f0",
   "metadata": {},
   "outputs": [],
   "source": [
    "tol = 0\n",
    "min_del = 0\n",
    "max_tol = 500 # early stopping with patience\n",
    "epochs = 500\n",
    "L_train = 100\n",
    "batch_size = 100\n",
    "batch_size_half = 50"
   ]
  },
  {
   "cell_type": "code",
   "execution_count": 62,
   "id": "67244080-0104-4922-9543-941d6318f26a",
   "metadata": {},
   "outputs": [],
   "source": [
    "batch_dir = '/glade/scratch/ksha/DATA/NCAR_batch/'\n",
    "temp_dir = '/glade/work/ksha/NCAR/Keras_models/'\n",
    "\n",
    "key = 'SEQ_S'\n",
    "\n",
    "model_name = '{}_pp4_tune11'.format(key)\n",
    "model_path = temp_dir+model_name\n",
    "\n",
    "W_new = model.get_weights()\n",
    "W_old = k_utils.dummy_loader(temp_dir+'SEQ_S_pp4_tune9')\n",
    "\n",
    "for l in range(len(W_new)):\n",
    "    if W_new[l].shape == W_old[l].shape:\n",
    "        W_new[l] = W_old[l]\n",
    "\n",
    "model.set_weights(W_new)\n"
   ]
  },
  {
   "cell_type": "code",
   "execution_count": 63,
   "id": "c5f32705-6a1b-4c2b-9dd3-f89d29a5ff72",
   "metadata": {},
   "outputs": [],
   "source": [
    "model.compile(loss=keras.losses.mean_absolute_error, optimizer=keras.optimizers.SGD(lr=1e-5))"
   ]
  },
  {
   "cell_type": "code",
   "execution_count": 64,
   "id": "b6bf49a3-1b86-484a-b8e2-94cadceb6ce8",
   "metadata": {},
   "outputs": [],
   "source": [
    "X_batch = np.empty((batch_size, 4, 64))\n",
    "Y_batch = np.empty((batch_size, 1))\n",
    "X_batch[...] = np.nan\n",
    "Y_batch[...] = np.nan"
   ]
  },
  {
   "cell_type": "code",
   "execution_count": 65,
   "id": "26a2f07f-5f69-4ae0-acfb-92ebe843248a",
   "metadata": {},
   "outputs": [
    {
     "name": "stderr",
     "output_type": "stream",
     "text": [
      "/glade/work/ksha/anaconda3/lib/python3.9/site-packages/tensorflow/python/data/ops/dataset_ops.py:3503: UserWarning: Even though the tf.config.experimental_run_functions_eagerly option is set, this option does not apply to tf.data functions. tf.data functions are still traced and executed as graphs.\n",
      "  warnings.warn(\n"
     ]
    }
   ],
   "source": [
    "Y_pred = model.predict([TEST_input,])"
   ]
  },
  {
   "cell_type": "code",
   "execution_count": 66,
   "id": "0cc658f4-1b4c-4286-862a-406bc3a9a44d",
   "metadata": {},
   "outputs": [
    {
     "name": "stdout",
     "output_type": "stream",
     "text": [
      "0.017391304347826087 0.8716984271455677 0.40963855421686746 0.004504105874436079\n",
      "Initial record: 0.13730978460330448\n"
     ]
    }
   ],
   "source": [
    "Y_pred[Y_pred<0] = 0\n",
    "Y_pred[Y_pred>1] = 1\n",
    "record_temp = verif_metric(TEST_target, Y_pred)\n",
    "record = record_temp\n",
    "print(\"Initial record: {}\".format(record))"
   ]
  },
  {
   "cell_type": "code",
   "execution_count": 67,
   "id": "3bdb9fc1-f03c-461c-8275-ed5951b45c40",
   "metadata": {},
   "outputs": [],
   "source": [
    "#verif_metric(TEST_target, Y_pred, thres=0.5)"
   ]
  },
  {
   "cell_type": "code",
   "execution_count": 68,
   "id": "441243c7-e0cc-47fe-a521-b4e0878c22d9",
   "metadata": {},
   "outputs": [
    {
     "data": {
      "text/plain": [
       "[<matplotlib.lines.Line2D at 0x2b7ed3423be0>]"
      ]
     },
     "execution_count": 68,
     "metadata": {},
     "output_type": "execute_result"
    },
    {
     "data": {
      "image/png": "[encoded data removed]",
      "text/plain": [
       "<Figure size 1500x400 with 1 Axes>"
      ]
     },
     "metadata": {},
     "output_type": "display_data"
    }
   ],
   "source": [
    "plt.figure(figsize=(15, 4))\n",
    "#plt.plot(TEST_target[:], 'b-', lw=3.0)\n",
    "plt.plot(Y_pred[:], 'r.')\n",
    "#plt.plot(Y_pred>0.5)"
   ]
  },
  {
   "cell_type": "code",
   "execution_count": 69,
   "id": "842940ff-c806-4094-96e5-71b903fe9276",
   "metadata": {},
   "outputs": [
    {
     "data": {
      "text/plain": [
       "[PhysicalDevice(name='/physical_device:GPU:0', device_type='GPU')]"
      ]
     },
     "execution_count": 69,
     "metadata": {},
     "output_type": "execute_result"
    }
   ],
   "source": [
    "tf.config.list_physical_devices('GPU')"
   ]
  },
  {
   "cell_type": "code",
   "execution_count": 46,
   "id": "ca6e5ad6-0941-4737-88f1-6df2077dba9d",
   "metadata": {},
   "outputs": [
    {
     "name": "stderr",
     "output_type": "stream",
     "text": [
      "/glade/work/ksha/anaconda3/lib/python3.9/site-packages/tensorflow/python/data/ops/dataset_ops.py:3503: UserWarning: Even though the tf.config.experimental_run_functions_eagerly option is set, this option does not apply to tf.data functions. tf.data functions are still traced and executed as graphs.\n",
      "  warnings.warn(\n"
     ]
    },
    {
     "name": "stdout",
     "output_type": "stream",
     "text": [
      "0.047872340425531915 0.8724752678171989 1.3734939759036144 0.006777848199756797\n",
      "Validation loss 0.14108042858231473 NOT improved\n"
     ]
    },
    {
     "name": "stderr",
     "output_type": "stream",
     "text": [
      "/glade/work/ksha/anaconda3/lib/python3.9/site-packages/tensorflow/python/data/ops/dataset_ops.py:3503: UserWarning: Even though the tf.config.experimental_run_functions_eagerly option is set, this option does not apply to tf.data functions. tf.data functions are still traced and executed as graphs.\n",
      "  warnings.warn(\n"
     ]
    },
    {
     "name": "stdout",
     "output_type": "stream",
     "text": [
      "0.051351351351351354 0.8728758090712954 3.6867469879518073 0.013108146336215496\n",
      "Validation loss 0.15334048360113564 NOT improved\n"
     ]
    },
    {
     "name": "stderr",
     "output_type": "stream",
     "text": [
      "/glade/work/ksha/anaconda3/lib/python3.9/site-packages/tensorflow/python/data/ops/dataset_ops.py:3503: UserWarning: Even though the tf.config.experimental_run_functions_eagerly option is set, this option does not apply to tf.data functions. tf.data functions are still traced and executed as graphs.\n",
      "  warnings.warn(\n"
     ]
    },
    {
     "name": "stdout",
     "output_type": "stream",
     "text": [
      "0.060126582278481014 0.8727760869708943 3.036144578313253 0.011353599859079794\n",
      "Validation loss 0.14993111274726534 NOT improved\n"
     ]
    },
    {
     "name": "stderr",
     "output_type": "stream",
     "text": [
      "\n",
      "KeyboardInterrupt\n",
      "\n"
     ]
    }
   ],
   "source": [
    "# ========== Training loop ========== #\n",
    "\n",
    "\n",
    "\n",
    "for i in range(epochs):\n",
    "    \n",
    "    shuffle(filename_neg_train)\n",
    "    shuffle(filename_pos_train)\n",
    "    \n",
    "    #print('epoch = {}'.format(i))\n",
    "    start_time = time.time()\n",
    "    \n",
    "    # loop of batch\n",
    "    for j in range(L_train):\n",
    "        \n",
    "        N_aug = int(np.random.uniform(16, 19))\n",
    "        N_storm = 100 - N_aug\n",
    "\n",
    "        L_storm = len(filename_neg_train)\n",
    "        L_aug = len(filename_pos_train)\n",
    "        \n",
    "        ind_storm = du.shuffle_ind(L_storm)\n",
    "        ind_aug = du.shuffle_ind(L_aug)\n",
    "        \n",
    "        file_pick_storm = []\n",
    "        for ind_temp in ind_storm[:N_storm]:\n",
    "            file_pick_storm.append(filename_neg_train[ind_temp])\n",
    "\n",
    "        file_pick_aug = []\n",
    "        for ind_temp in ind_aug[:N_aug]:\n",
    "            file_pick_aug.append(filename_pos_train[ind_temp])\n",
    "        \n",
    "        file_pick = file_pick_storm + file_pick_aug\n",
    "        \n",
    "        if len(file_pick) != 100:\n",
    "            sregwet\n",
    "        \n",
    "        for k in range(batch_size):\n",
    "            \n",
    "            collection = np.load(file_pick[k], allow_pickle=True)[()]\n",
    "    \n",
    "            vector_gn2 = collection['Gn2']\n",
    "            vector_gn1 = collection['Gn1']\n",
    "            vector_gp0 = collection['Gp0']\n",
    "            vector_gp1 = collection['Gp1']\n",
    "            \n",
    "            X_batch[k, 0, :] = vector_gn2\n",
    "            X_batch[k, 1, :] = vector_gn1\n",
    "            X_batch[k, 2, :] = vector_gp0\n",
    "            X_batch[k, 3, :] = vector_gp1\n",
    "\n",
    "            if 'pos' in file_pick[k]:\n",
    "                Y_batch[k, :] = np.random.uniform(0.9999, 1.0)\n",
    "            elif 'neg_neg_neg' in file_pick[k]:\n",
    "                Y_batch[k, :] = np.random.uniform(0.0, 0.0001)\n",
    "            else:\n",
    "                werhgaer\n",
    "                \n",
    "        #Y_batch_cate = tf.keras.utils.to_categorical(Y_batch)\n",
    "        \n",
    "        # # add noise within sparse inputs\n",
    "        # for v in flag_sparse:\n",
    "        #     X_batch[..., v] += np.random.uniform(0, 0.01, size=(batch_size, 128, 128))\n",
    "\n",
    "        # shuffle indices\n",
    "        ind_ = du.shuffle_ind(batch_size)\n",
    "        X_batch = X_batch[ind_, ...]\n",
    "        Y_batch = Y_batch[ind_, :]\n",
    "        \n",
    "        if np.sum(np.isnan(X_batch)) > 0:\n",
    "            asfeargagqarew\n",
    "        \n",
    "        # train on batch\n",
    "        model.train_on_batch([X_batch,], [Y_batch,]);\n",
    "    \n",
    "    # epoch end operations\n",
    "    Y_pred = model.predict([TEST_input,])\n",
    "    Y_pred[Y_pred<0.0] = 0\n",
    "    Y_pred[Y_pred>1] = 1\n",
    "    #Y_pred = Y_pred[:, -1]\n",
    "    \n",
    "    record_temp = verif_metric(TEST_target, Y_pred)\n",
    "    \n",
    "    # if i % 10 == 0:\n",
    "    #     model.save(model_path_backup)\n",
    "    \n",
    "    if (record - record_temp > min_del) and (np.max(Y_pred) > 0.5):\n",
    "        print('Validation loss improved from {} to {}'.format(record, record_temp))\n",
    "        record = record_temp\n",
    "        tol = 0\n",
    "        #print('tol: {}'.format(tol))\n",
    "        # save\n",
    "        print('save to: {}'.format(model_path))\n",
    "        model.save(model_path)\n",
    "    else:\n",
    "        print('Validation loss {} NOT improved'.format(record_temp))\n",
    "        tol += 1\n",
    "        #print('tol: {}'.format(tol))\n",
    "        if tol >= max_tol:\n",
    "            print('Early stopping')\n",
    "            sys.exit();\n",
    "        else:\n",
    "            #print('Pass to the next epoch')\n",
    "            continue;\n",
    "    print(\"--- %s seconds ---\" % (time.time() - start_time))"
   ]
  },
  {
   "cell_type": "code",
   "execution_count": null,
   "id": "baaee327-4cd1-4656-b778-8dadbf4a7c2a",
   "metadata": {},
   "outputs": [],
   "source": [
    "model.save(model_path)"
   ]
  },
  {
   "cell_type": "code",
   "execution_count": null,
   "id": "a6b1e5c7-a7d9-4be8-90a9-630e12e1bca9",
   "metadata": {},
   "outputs": [],
   "source": []
  },
  {
   "cell_type": "code",
   "execution_count": null,
   "id": "1ab3e920-e8b1-43f7-8c79-f0719a81733b",
   "metadata": {},
   "outputs": [],
   "source": []
  },
  {
   "cell_type": "markdown",
   "id": "a8def65a-638d-4c13-a8ca-c9011fb3dbfb",
   "metadata": {},
   "source": [
    "0.07216494845360824 0.8547555871923765 1.5060240963855422 0.008271191126251975\n",
    "\n",
    "Validation loss improved from 0.16323948442990924 to 0.16178679506012741\n",
    "\n",
    "save to: /glade/work/ksha/NCAR/Keras_models/SEQ_S_pp4_tune5\n",
    "\n",
    "INFO:tensorflow:Assets written to: /glade/work/ksha/NCAR/Keras_models/SEQ_S_pp4_tune5/assets"
   ]
  },
  {
   "cell_type": "markdown",
   "id": "4ce23f7c-7b6a-45fd-bac4-c550b7ada1cc",
   "metadata": {},
   "source": [
    "### Verification"
   ]
  },
  {
   "cell_type": "code",
   "execution_count": 55,
   "id": "fcb9702c-2fbd-4de3-aad4-80bec0daeaa0",
   "metadata": {},
   "outputs": [],
   "source": [
    "from sklearn.metrics import classification_report, auc, roc_curve\n",
    "from sklearn.metrics import confusion_matrix"
   ]
  },
  {
   "cell_type": "code",
   "execution_count": 58,
   "id": "bc63ab58-ba6a-46e5-b5d2-b9607095a20f",
   "metadata": {},
   "outputs": [],
   "source": [
    "from sklearn.calibration import calibration_curve"
   ]
  },
  {
   "cell_type": "code",
   "execution_count": 77,
   "id": "e19b6710-d0d0-4a64-809d-a80628541454",
   "metadata": {},
   "outputs": [
    {
     "name": "stdout",
     "output_type": "stream",
     "text": [
      "              precision    recall  f1-score   support\n",
      "\n",
      "       False       1.00      1.00      1.00     21917\n",
      "        True       0.02      0.06      0.03        34\n",
      "\n",
      "    accuracy                           0.99     21951\n",
      "   macro avg       0.51      0.53      0.52     21951\n",
      "weighted avg       1.00      0.99      1.00     21951\n",
      "\n"
     ]
    }
   ],
   "source": [
    "print(classification_report(Y_pred.ravel() > 0.5, TEST_target.ravel()))"
   ]
  },
  {
   "cell_type": "code",
   "execution_count": null,
   "id": "b9b0b418-7d51-4d6e-9481-4b462dd60270",
   "metadata": {},
   "outputs": [],
   "source": [
    "\n",
    "\n"
   ]
  },
  {
   "cell_type": "code",
   "execution_count": 74,
   "id": "256853f6-403c-47f8-97c1-2ed7cbdef0fb",
   "metadata": {},
   "outputs": [],
   "source": [
    "prob_true, prob_pred = calibration_curve(TEST_target.ravel(), Y_pred.ravel(), n_bins=10)"
   ]
  },
  {
   "cell_type": "code",
   "execution_count": 75,
   "id": "8ed0c294-a6dc-4eec-8a42-f39a12ac4442",
   "metadata": {},
   "outputs": [],
   "source": [
    "o_bar_ = np.mean(TEST_target.ravel())"
   ]
  },
  {
   "cell_type": "code",
   "execution_count": 83,
   "id": "bb25e1bc-265e-4ce5-bbc5-2fa7b4e2ab24",
   "metadata": {},
   "outputs": [
    {
     "data": {
      "text/plain": [
       "(0.0, 1.0)"
      ]
     },
     "execution_count": 83,
     "metadata": {},
     "output_type": "execute_result"
    },
    {
     "data": {
      "image/png": "[encoded data removed]",
      "text/plain": [
       "<Figure size 600x600 with 1 Axes>"
      ]
     },
     "metadata": {},
     "output_type": "display_data"
    }
   ],
   "source": [
    "fig = plt.figure(figsize=(6, 6))\n",
    "ax = fig.gca()\n",
    "\n",
    "\n",
    "ax.plot(prob_pred, 0.5*prob_pred + 0.5*o_bar_, lw=3.0)\n",
    "\n",
    "ax.plot(np.linspace(0, 1, 10), np.linspace(0, 1, 10), 'r--', lw=2.0)\n",
    "\n",
    "ax.axhline(o_bar_, lw=0.5)\n",
    "ax.axvline(o_bar_, lw=0.5)\n",
    "\n",
    "plt.plot(prob_pred, prob_true, lw=3)\n",
    "ax.set_xlim([0, 1])\n",
    "ax.set_ylim([0, 1])"
   ]
  },
  {
   "cell_type": "code",
   "execution_count": 85,
   "id": "f65d139b-a15c-492b-b5f0-6ff89e86cddb",
   "metadata": {},
   "outputs": [],
   "source": [
    "CSI = []\n",
    "POFD = []\n",
    "AUC = []\n",
    "freq = []\n",
    "\n",
    "thress = [0.2, 0.25, 0.3, 0.35, 0.4, 0.45, 0.5, 0.55, 0.6, 0.65, 0.7]\n",
    "\n",
    "for i, thres in enumerate(thress):\n",
    "\n",
    "    Y_pred_label = Y_pred.ravel() > thres\n",
    "    \n",
    "    tn, fp, fn, tp = confusion_matrix(TEST_target.ravel(), Y_pred_label).ravel()\n",
    "    CSI.append(tp/(tp+fn+fp))\n",
    "    POFD.append(fp/(tn+fp))\n",
    "    # fpr, tpr, thresholds = roc_curve(Y_true_point.ravel(), Y_pred_label.ravel())\n",
    "    # AUC.append(auc(fpr, tpr))\n",
    "    freq.append((tp+fp)/(tp+fn))\n",
    "    "
   ]
  },
  {
   "cell_type": "code",
   "execution_count": 86,
   "id": "cdaf46bd-33d5-4262-999b-67589b181742",
   "metadata": {},
   "outputs": [
    {
     "data": {
      "text/plain": [
       "Text(0, 0.5, 'CSI')"
      ]
     },
     "execution_count": 86,
     "metadata": {},
     "output_type": "execute_result"
    },
    {
     "data": {
      "image/png": "[encoded data removed]",
      "text/plain": [
       "<Figure size 600x500 with 1 Axes>"
      ]
     },
     "metadata": {},
     "output_type": "display_data"
    }
   ],
   "source": [
    "plt.figure(figsize=(6, 5))\n",
    "plt.bar(thress, CSI, width=0.05, edgecolor='k')\n",
    "plt.xlabel('thresholds')\n",
    "plt.ylabel('CSI')"
   ]
  },
  {
   "cell_type": "code",
   "execution_count": null,
   "id": "c798a400-dd66-4c6b-a286-f3f09f923a5d",
   "metadata": {},
   "outputs": [],
   "source": []
  },
  {
   "cell_type": "code",
   "execution_count": null,
   "id": "4bf59950-3767-4813-9a84-10862e481724",
   "metadata": {},
   "outputs": [],
   "source": []
  },
  {
   "cell_type": "code",
   "execution_count": null,
   "id": "5c15a9b4-5048-4056-9eab-f3213703f079",
   "metadata": {},
   "outputs": [],
   "source": []
  },
  {
   "cell_type": "code",
   "execution_count": null,
   "id": "a299a12c-e7f2-4d57-86d1-b0f9ca108879",
   "metadata": {},
   "outputs": [],
   "source": []
  },
  {
   "cell_type": "code",
   "execution_count": null,
   "id": "4771ffb0-a1b8-4fc9-8965-9462bf48fe9e",
   "metadata": {},
   "outputs": [],
   "source": []
  },
  {
   "cell_type": "code",
   "execution_count": null,
   "id": "287fa824-8d3e-4888-97b1-dd58c3faadd4",
   "metadata": {},
   "outputs": [],
   "source": []
  },
  {
   "cell_type": "code",
   "execution_count": null,
   "id": "5e36941d-bcdc-4d6f-a44a-4a30e273ebb7",
   "metadata": {},
   "outputs": [],
   "source": [
    "import tf.keras.backend as K"
   ]
  },
  {
   "cell_type": "code",
   "execution_count": null,
   "id": "06d3a65c-c303-47c3-a629-94351ebd3ade",
   "metadata": {},
   "outputs": [],
   "source": [
    "def custom_loss(y_true, y_pred):\n",
    "            \n",
    "    y_pred_neg = y_pred[y_true == 0]\n",
    "    y_pred_pos = y_pred[y_true == 1]\n",
    "    \n",
    "    loss = 0.1*K.mean(y_pred_neg) + K.mean(K.abs(y_pred_pos-1))\n",
    "        \n",
    "    return loss"
   ]
  },
  {
   "cell_type": "code",
   "execution_count": null,
   "id": "e4d9a07b-cea7-45dd-81e5-f08f8a50e689",
   "metadata": {},
   "outputs": [],
   "source": []
  },
  {
   "cell_type": "code",
   "execution_count": null,
   "id": "e83e1ee3-6c58-4da1-8f55-d942b9be9159",
   "metadata": {},
   "outputs": [],
   "source": []
  },
  {
   "cell_type": "code",
   "execution_count": null,
   "id": "c7191747-33d0-453b-8f49-60abd69cb37b",
   "metadata": {},
   "outputs": [],
   "source": []
  },
  {
   "cell_type": "code",
   "execution_count": null,
   "id": "9e03b9ee-0806-40b4-86a5-2375b696fc82",
   "metadata": {},
   "outputs": [],
   "source": []
  }
 ],
 "metadata": {
  "kernelspec": {
   "display_name": "Python 3 (ipykernel)",
   "language": "python",
   "name": "python3"
  },
  "language_info": {
   "codemirror_mode": {
    "name": "ipython",
    "version": 3
   },
   "file_extension": ".py",
   "mimetype": "text/x-python",
   "name": "python",
   "nbconvert_exporter": "python",
   "pygments_lexer": "ipython3",
   "version": "3.9.13"
  }
 },
 "nbformat": 4,
 "nbformat_minor": 5
}
