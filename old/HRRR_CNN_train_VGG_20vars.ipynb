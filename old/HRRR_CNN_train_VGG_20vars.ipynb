{
 "cells": [
  {
   "cell_type": "code",
   "execution_count": 1,
   "id": "ce76310e-2358-43eb-ba0c-188a45af0b5e",
   "metadata": {},
   "outputs": [],
   "source": [
    "# general tools\n",
    "import sys\n",
    "from glob import glob\n",
    "\n",
    "# data tools\n",
    "import time\n",
    "import h5py\n",
    "import random\n",
    "import numpy as np\n",
    "from random import shuffle\n",
    "\n",
    "import matplotlib.pyplot as plt\n",
    "%matplotlib inline"
   ]
  },
  {
   "cell_type": "code",
   "execution_count": 2,
   "id": "ee2f455b-7a16-4d6c-b673-ff37e482f46d",
   "metadata": {},
   "outputs": [
    {
     "name": "stderr",
     "output_type": "stream",
     "text": [
      "2022-08-12 10:54:24.568133: I tensorflow/stream_executor/platform/default/dso_loader.cc:49] Successfully opened dynamic library libcudart.so.10.1\n"
     ]
    }
   ],
   "source": [
    "# deep learning tools\n",
    "import tensorflow as tf\n",
    "from tensorflow import keras\n",
    "\n",
    "from keras_unet_collection import models as k_models\n",
    "from keras_unet_collection import utils as k_utils\n",
    "from keras_unet_collection import layer_utils as k_layers\n",
    "from keras_unet_collection.activations import GELU"
   ]
  },
  {
   "cell_type": "code",
   "execution_count": 3,
   "id": "329c3d14-edd9-49fa-a0b6-c112ea9c7553",
   "metadata": {},
   "outputs": [],
   "source": [
    "sys.path.insert(0, '/glade/u/home/ksha/NCAR/')\n",
    "sys.path.insert(0, '/glade/u/home/ksha/NCAR/libs/')\n",
    "\n",
    "from namelist import *\n",
    "import data_utils as du\n",
    "import graph_utils as gu"
   ]
  },
  {
   "cell_type": "code",
   "execution_count": 4,
   "id": "9e1ee330-cf69-4ead-aa86-42cb0aeec11b",
   "metadata": {},
   "outputs": [],
   "source": [
    "flag_sparse = [0, 2, 3, 4, 10, 11, 12,]"
   ]
  },
  {
   "cell_type": "code",
   "execution_count": 5,
   "id": "c181e0e9-cf6a-4fc9-a913-97562ce045c2",
   "metadata": {},
   "outputs": [],
   "source": [
    "filename_train_pos = sorted(glob(\"/glade/scratch/ksha/DATA/NCAR_batch/*TRAIN*.npy\"))\n",
    "filename_train_neg = sorted(glob(\"/glade/scratch/ksha/DATA/NCAR_batch_neg/*TRAIN*.npy\"))\n",
    "\n",
    "filename_valid_pos = sorted(glob(\"/glade/scratch/ksha/DATA/NCAR_batch/*VALID*.npy\"))[::10]\n",
    "filename_valid_neg = sorted(glob(\"/glade/scratch/ksha/DATA/NCAR_batch_neg/*VALID*.npy\"))[::10]"
   ]
  },
  {
   "cell_type": "code",
   "execution_count": 6,
   "id": "8a1ca07d-9a52-4d14-94ca-060782457026",
   "metadata": {},
   "outputs": [],
   "source": [
    "grid_shape = (128, 128)\n",
    "\n",
    "label_pos = np.ones(len(filename_valid_pos))\n",
    "label_neg = np.zeros(len(filename_valid_neg))\n",
    "VALID_label = np.hstack([label_pos, label_neg])\n",
    "\n",
    "L_valid = len(VALID_label)\n",
    "L_vars = 20\n",
    "L_sparse = len(flag_sparse)\n",
    "L_dense = L_vars - L_sparse\n",
    "\n",
    "VALID_sparse = np.empty((L_valid,)+grid_shape+(L_sparse,))\n",
    "VALID_dense = np.empty((L_valid,)+grid_shape+(L_dense,))\n",
    "VALID_input = np.empty((L_valid,)+grid_shape+(L_vars,))\n",
    "\n",
    "for i, filename in enumerate(filename_valid_pos+filename_valid_neg):\n",
    "    data = np.load(filename)\n",
    "    count0 = 0\n",
    "    count1 = 0\n",
    "    VALID_input[i, ...] = data[...]\n",
    "    \n",
    "    for v in range(L_vars):\n",
    "        if v in flag_sparse:\n",
    "            VALID_sparse[i, ..., count0] = data[..., v]\n",
    "            count0 += 1\n",
    "        else:\n",
    "            VALID_dense[i, ..., count1] = data[..., v]\n",
    "            count1 += 1"
   ]
  },
  {
   "cell_type": "code",
   "execution_count": 7,
   "id": "7b4b819c-3932-4123-95c3-a639b76942bf",
   "metadata": {},
   "outputs": [
    {
     "name": "stderr",
     "output_type": "stream",
     "text": [
      "2022-08-12 10:58:34.175301: I tensorflow/compiler/jit/xla_cpu_device.cc:41] Not creating XLA devices, tf_xla_enable_xla_devices not set\n",
      "2022-08-12 10:58:34.218883: I tensorflow/stream_executor/platform/default/dso_loader.cc:49] Successfully opened dynamic library libcuda.so.1\n",
      "2022-08-12 10:58:34.268257: I tensorflow/core/common_runtime/gpu/gpu_device.cc:1720] Found device 0 with properties: \n",
      "pciBusID: 0000:62:00.0 name: Tesla V100-SXM2-32GB computeCapability: 7.0\n",
      "coreClock: 1.53GHz coreCount: 80 deviceMemorySize: 31.75GiB deviceMemoryBandwidth: 836.37GiB/s\n",
      "2022-08-12 10:58:34.268852: I tensorflow/stream_executor/platform/default/dso_loader.cc:49] Successfully opened dynamic library libcudart.so.10.1\n",
      "2022-08-12 10:58:34.473603: I tensorflow/stream_executor/platform/default/dso_loader.cc:49] Successfully opened dynamic library libcublas.so.10\n",
      "2022-08-12 10:58:34.474602: I tensorflow/stream_executor/platform/default/dso_loader.cc:49] Successfully opened dynamic library libcublasLt.so.10\n",
      "2022-08-12 10:58:34.568614: I tensorflow/stream_executor/platform/default/dso_loader.cc:49] Successfully opened dynamic library libcufft.so.10\n",
      "2022-08-12 10:58:34.727491: I tensorflow/stream_executor/platform/default/dso_loader.cc:49] Successfully opened dynamic library libcurand.so.10\n",
      "2022-08-12 10:58:34.876175: I tensorflow/stream_executor/platform/default/dso_loader.cc:49] Successfully opened dynamic library libcusolver.so.10\n",
      "2022-08-12 10:58:34.987252: I tensorflow/stream_executor/platform/default/dso_loader.cc:49] Successfully opened dynamic library libcusparse.so.10\n",
      "2022-08-12 10:58:35.247562: I tensorflow/stream_executor/platform/default/dso_loader.cc:49] Successfully opened dynamic library libcudnn.so.7\n",
      "2022-08-12 10:58:35.249747: I tensorflow/core/common_runtime/gpu/gpu_device.cc:1862] Adding visible gpu devices: 0\n",
      "2022-08-12 10:58:35.256226: I tensorflow/core/platform/cpu_feature_guard.cc:142] This TensorFlow binary is optimized with oneAPI Deep Neural Network Library (oneDNN) to use the following CPU instructions in performance-critical operations:  SSE4.1 SSE4.2 AVX AVX2 AVX512F FMA\n",
      "To enable them in other operations, rebuild TensorFlow with the appropriate compiler flags.\n",
      "2022-08-12 10:58:35.257682: I tensorflow/compiler/jit/xla_gpu_device.cc:99] Not creating XLA devices, tf_xla_enable_xla_devices not set\n",
      "2022-08-12 10:58:35.258996: I tensorflow/core/common_runtime/gpu/gpu_device.cc:1720] Found device 0 with properties: \n",
      "pciBusID: 0000:62:00.0 name: Tesla V100-SXM2-32GB computeCapability: 7.0\n",
      "coreClock: 1.53GHz coreCount: 80 deviceMemorySize: 31.75GiB deviceMemoryBandwidth: 836.37GiB/s\n",
      "2022-08-12 10:58:35.259579: I tensorflow/stream_executor/platform/default/dso_loader.cc:49] Successfully opened dynamic library libcudart.so.10.1\n",
      "2022-08-12 10:58:35.260356: I tensorflow/stream_executor/platform/default/dso_loader.cc:49] Successfully opened dynamic library libcublas.so.10\n",
      "2022-08-12 10:58:35.261045: I tensorflow/stream_executor/platform/default/dso_loader.cc:49] Successfully opened dynamic library libcublasLt.so.10\n",
      "2022-08-12 10:58:35.261615: I tensorflow/stream_executor/platform/default/dso_loader.cc:49] Successfully opened dynamic library libcufft.so.10\n",
      "2022-08-12 10:58:35.262214: I tensorflow/stream_executor/platform/default/dso_loader.cc:49] Successfully opened dynamic library libcurand.so.10\n",
      "2022-08-12 10:58:35.262769: I tensorflow/stream_executor/platform/default/dso_loader.cc:49] Successfully opened dynamic library libcusolver.so.10\n",
      "2022-08-12 10:58:35.263360: I tensorflow/stream_executor/platform/default/dso_loader.cc:49] Successfully opened dynamic library libcusparse.so.10\n",
      "2022-08-12 10:58:35.263906: I tensorflow/stream_executor/platform/default/dso_loader.cc:49] Successfully opened dynamic library libcudnn.so.7\n",
      "2022-08-12 10:58:35.265333: I tensorflow/core/common_runtime/gpu/gpu_device.cc:1862] Adding visible gpu devices: 0\n",
      "2022-08-12 10:58:35.265776: I tensorflow/stream_executor/platform/default/dso_loader.cc:49] Successfully opened dynamic library libcudart.so.10.1\n",
      "2022-08-12 10:58:38.674631: I tensorflow/core/common_runtime/gpu/gpu_device.cc:1261] Device interconnect StreamExecutor with strength 1 edge matrix:\n",
      "2022-08-12 10:58:38.674817: I tensorflow/core/common_runtime/gpu/gpu_device.cc:1267]      0 \n",
      "2022-08-12 10:58:38.674848: I tensorflow/core/common_runtime/gpu/gpu_device.cc:1280] 0:   N \n",
      "2022-08-12 10:58:38.677668: I tensorflow/core/common_runtime/gpu/gpu_device.cc:1406] Created TensorFlow device (/job:localhost/replica:0/task:0/device:GPU:0 with 30132 MB memory) -> physical GPU (device: 0, name: Tesla V100-SXM2-32GB, pci bus id: 0000:62:00.0, compute capability: 7.0)\n"
     ]
    }
   ],
   "source": [
    "IN = tf.keras.Input((128, 128, 20))\n",
    "\n",
    "X = IN\n",
    "\n",
    "X = k_layers.CONV_stack(X, 32, kernel_size=3, stack_num=2, dilation_rate=1, activation='GELU', batch_norm=True, name='conv_stack1')\n",
    "X = tf.keras.layers.Conv2D(32, kernel_size=2, strides=(2, 2), padding='valid', use_bias=True, name='stride_conv1')(X)\n",
    "\n",
    "X = k_layers.CONV_stack(X, 64, kernel_size=3, stack_num=2, dilation_rate=1, activation='GELU', batch_norm=True, name='conv_stack2')\n",
    "X = tf.keras.layers.Conv2D(64, kernel_size=2, strides=(2, 2), padding='valid', use_bias=True, name='stride_conv2')(X)\n",
    "\n",
    "X = k_layers.CONV_stack(X, 128, kernel_size=3, stack_num=2, dilation_rate=1, activation='GELU', batch_norm=True, name='conv_stack3')\n",
    "X = tf.keras.layers.Conv2D(128, kernel_size=2, strides=(2, 2), padding='valid', use_bias=True, name='stride_conv3')(X)\n",
    "\n",
    "X = k_layers.CONV_stack(X, 256, kernel_size=3, stack_num=2, dilation_rate=1, activation='GELU', batch_norm=True, name='conv_stack4')\n",
    "X = tf.keras.layers.Conv2D(256, kernel_size=2, strides=(2, 2), padding='valid', use_bias=True, name='stride_conv4')(X)\n",
    "\n",
    "X = k_layers.CONV_stack(X, 512, kernel_size=3, stack_num=2, dilation_rate=1, activation='GELU', batch_norm=True, name='conv_stack5')\n",
    "X = tf.keras.layers.Conv2D(512, kernel_size=2, strides=(2, 2), padding='valid', use_bias=True, name='stride_conv5')(X)\n",
    "\n",
    "D = tf.keras.layers.Flatten()(X)\n",
    "\n",
    "D = tf.keras.layers.Dense(512, use_bias=False, name='dense1')(D)\n",
    "D = tf.keras.layers.BatchNormalization(axis=-1, name='dense_bn1')(D)\n",
    "D = GELU()(D)\n",
    "\n",
    "D = tf.keras.layers.Dense(128, use_bias=False, name='dense2')(D)\n",
    "D = tf.keras.layers.BatchNormalization(axis=-1, name='dense_bn2')(D)\n",
    "D = GELU()(D)\n",
    "\n",
    "D = tf.keras.layers.Dense(1, activation='sigmoid', name='head')(D)\n",
    "#D = tf.keras.layers.Softmax()(D)\n",
    "\n",
    "OUT = D"
   ]
  },
  {
   "cell_type": "code",
   "execution_count": 8,
   "id": "cb49538d-f688-48cb-b35d-17c4ead379c8",
   "metadata": {},
   "outputs": [],
   "source": [
    "model = keras.models.Model(inputs=[IN,], outputs=[OUT,])\n",
    "model.compile(loss=keras.losses.categorical_crossentropy, optimizer=keras.optimizers.Adam(lr=2e-5))"
   ]
  },
  {
   "cell_type": "code",
   "execution_count": 9,
   "id": "ca8e6183-6964-467a-8ebe-01b822b8b8f0",
   "metadata": {},
   "outputs": [],
   "source": [
    "tol = 0\n",
    "min_del = 0\n",
    "max_tol = 500 # early stopping with patience\n",
    "\n",
    "epochs = 500\n",
    "L_train = 64\n",
    "batch_size = 100\n",
    "batch_size_half = 50\n",
    "\n",
    "valid_size = 1"
   ]
  },
  {
   "cell_type": "code",
   "execution_count": 10,
   "id": "67244080-0104-4922-9543-941d6318f26a",
   "metadata": {},
   "outputs": [],
   "source": [
    "batch_dir = '/glade/scratch/ksha/DATA/NCAR_batch/'\n",
    "temp_dir = '/glade/work/ksha/NCAR/Keras_models/'\n",
    "\n",
    "key = 'VGG_tornado'\n",
    "\n",
    "model_name = '{}_pp20'.format(key)\n",
    "model_path = temp_dir+model_name"
   ]
  },
  {
   "cell_type": "code",
   "execution_count": 15,
   "id": "b6bf49a3-1b86-484a-b8e2-94cadceb6ce8",
   "metadata": {},
   "outputs": [],
   "source": [
    "# X_batch_sparse = np.empty((batch_size, 128, 128, L_sparse))*np.nan\n",
    "# X_batch_dense = np.empty((batch_size, 128, 128, L_dense))*np.nan\n",
    "X_batch = np.empty((batch_size, 128, 128, L_vars))\n",
    "Y_batch = np.empty((batch_size, 1))\n",
    "X_batch[...] = np.nan\n",
    "Y_batch[...] = np.nan"
   ]
  },
  {
   "cell_type": "code",
   "execution_count": 12,
   "id": "c9c63cfd-6675-4ed1-a369-0e11a0d75f56",
   "metadata": {},
   "outputs": [
    {
     "name": "stdout",
     "output_type": "stream",
     "text": [
      "Initial record: 1.0\n"
     ]
    }
   ],
   "source": [
    "#Y_pred = model.predict([VALID_X])\n",
    "record = 1.0 #np.nanmean(np.abs(Y_pred-VALID_Y))\n",
    "print(\"Initial record: {}\".format(record))"
   ]
  },
  {
   "cell_type": "code",
   "execution_count": 13,
   "id": "842940ff-c806-4094-96e5-71b903fe9276",
   "metadata": {},
   "outputs": [
    {
     "data": {
      "text/plain": [
       "[PhysicalDevice(name='/physical_device:GPU:0', device_type='GPU')]"
      ]
     },
     "execution_count": 13,
     "metadata": {},
     "output_type": "execute_result"
    }
   ],
   "source": [
    "tf.config.list_physical_devices('GPU')"
   ]
  },
  {
   "cell_type": "code",
   "execution_count": 14,
   "id": "7bc8fcbf-6dfa-4d4f-bb1c-b8d00f4070d7",
   "metadata": {},
   "outputs": [],
   "source": [
    "from sklearn.metrics import classification_report, auc, roc_curve"
   ]
  },
  {
   "cell_type": "code",
   "execution_count": 19,
   "id": "f03c24b2-487f-48a9-b527-d9cd21a30f45",
   "metadata": {},
   "outputs": [],
   "source": []
  },
  {
   "cell_type": "code",
   "execution_count": 16,
   "id": "ca6e5ad6-0941-4737-88f1-6df2077dba9d",
   "metadata": {},
   "outputs": [
    {
     "name": "stderr",
     "output_type": "stream",
     "text": [
      "2022-08-12 11:03:47.941851: I tensorflow/compiler/mlir/mlir_graph_optimization_pass.cc:116] None of the MLIR optimization passes are enabled (registered 2)\n",
      "2022-08-12 11:03:47.970015: I tensorflow/core/platform/profile_utils/cpu_utils.cc:112] CPU Frequency: 2600000000 Hz\n",
      "2022-08-12 11:03:48.976678: I tensorflow/stream_executor/platform/default/dso_loader.cc:49] Successfully opened dynamic library libcublas.so.10\n",
      "2022-08-12 11:03:49.978074: I tensorflow/stream_executor/platform/default/dso_loader.cc:49] Successfully opened dynamic library libcudnn.so.7\n"
     ]
    },
    {
     "name": "stdout",
     "output_type": "stream",
     "text": [
      "Validation loss 0.16215968492885913 NOT improved\n",
      "Validation loss 0.16496220238845605 NOT improved\n",
      "Validation loss 0.19296820504416357 NOT improved\n",
      "Validation loss improved from 1.0 to 0.1473651188345142\n",
      "save to: /glade/work/ksha/NCAR/Keras_models/VGG_tornado_pp20\n"
     ]
    },
    {
     "name": "stderr",
     "output_type": "stream",
     "text": [
      "2022-08-12 11:32:23.849155: W tensorflow/python/util/util.cc:348] Sets are not currently considered sequences, but this may change in the future, so consider avoiding using them.\n"
     ]
    },
    {
     "name": "stdout",
     "output_type": "stream",
     "text": [
      "INFO:tensorflow:Assets written to: /glade/work/ksha/NCAR/Keras_models/VGG_tornado_pp20/assets\n",
      "--- 436.92192912101746 seconds ---\n",
      "Validation loss improved from 0.1473651188345142 to 0.13087311379623345\n",
      "save to: /glade/work/ksha/NCAR/Keras_models/VGG_tornado_pp20\n",
      "INFO:tensorflow:Assets written to: /glade/work/ksha/NCAR/Keras_models/VGG_tornado_pp20/assets\n",
      "--- 438.0288083553314 seconds ---\n",
      "Validation loss improved from 0.13087311379623345 to 0.12248946068544153\n",
      "save to: /glade/work/ksha/NCAR/Keras_models/VGG_tornado_pp20\n",
      "INFO:tensorflow:Assets written to: /glade/work/ksha/NCAR/Keras_models/VGG_tornado_pp20/assets\n",
      "--- 429.0602777004242 seconds ---\n",
      "Validation loss improved from 0.12248946068544153 to 0.12070285908781486\n",
      "save to: /glade/work/ksha/NCAR/Keras_models/VGG_tornado_pp20\n",
      "INFO:tensorflow:Assets written to: /glade/work/ksha/NCAR/Keras_models/VGG_tornado_pp20/assets\n",
      "--- 445.3712010383606 seconds ---\n",
      "Validation loss improved from 0.12070285908781486 to 0.10423514726151162\n",
      "save to: /glade/work/ksha/NCAR/Keras_models/VGG_tornado_pp20\n",
      "INFO:tensorflow:Assets written to: /glade/work/ksha/NCAR/Keras_models/VGG_tornado_pp20/assets\n",
      "--- 443.3136410713196 seconds ---\n",
      "Validation loss 0.11141510454747916 NOT improved\n",
      "Validation loss 0.12340222888250163 NOT improved\n",
      "Validation loss 0.1158012111413661 NOT improved\n",
      "Validation loss 0.11067252014892137 NOT improved\n",
      "Validation loss 0.11237580259519786 NOT improved\n",
      "Validation loss 0.10771045537822821 NOT improved\n",
      "Validation loss 0.10507247518678209 NOT improved\n",
      "Validation loss 0.1301705803687736 NOT improved\n"
     ]
    },
    {
     "ename": "KeyboardInterrupt",
     "evalue": "",
     "output_type": "error",
     "traceback": [
      "\u001b[0;31m---------------------------------------------------------------------------\u001b[0m",
      "\u001b[0;31mKeyboardInterrupt\u001b[0m                         Traceback (most recent call last)",
      "Input \u001b[0;32mIn [16]\u001b[0m, in \u001b[0;36m<cell line: 5>\u001b[0;34m()\u001b[0m\n\u001b[1;32m     20\u001b[0m file_pick \u001b[38;5;241m=\u001b[39m file_pick_pos\u001b[38;5;241m+\u001b[39mfile_pick_neg\n\u001b[1;32m     22\u001b[0m \u001b[38;5;28;01mfor\u001b[39;00m k \u001b[38;5;129;01min\u001b[39;00m \u001b[38;5;28mrange\u001b[39m(batch_size):\n\u001b[0;32m---> 23\u001b[0m     data \u001b[38;5;241m=\u001b[39m \u001b[43mnp\u001b[49m\u001b[38;5;241;43m.\u001b[39;49m\u001b[43mload\u001b[49m\u001b[43m(\u001b[49m\u001b[43mfile_pick\u001b[49m\u001b[43m[\u001b[49m\u001b[43mk\u001b[49m\u001b[43m]\u001b[49m\u001b[43m)\u001b[49m\n\u001b[1;32m     24\u001b[0m     X_batch[k, \u001b[38;5;241m.\u001b[39m\u001b[38;5;241m.\u001b[39m\u001b[38;5;241m.\u001b[39m] \u001b[38;5;241m=\u001b[39m data[\u001b[38;5;241m.\u001b[39m\u001b[38;5;241m.\u001b[39m\u001b[38;5;241m.\u001b[39m]\n\u001b[1;32m     26\u001b[0m \u001b[38;5;66;03m# add noise within sparse inputs\u001b[39;00m\n",
      "File \u001b[0;32m/glade/work/ksha/anaconda3/lib/python3.9/site-packages/numpy/lib/npyio.py:423\u001b[0m, in \u001b[0;36mload\u001b[0;34m(file, mmap_mode, allow_pickle, fix_imports, encoding)\u001b[0m\n\u001b[1;32m    421\u001b[0m _ZIP_SUFFIX \u001b[38;5;241m=\u001b[39m \u001b[38;5;124mb\u001b[39m\u001b[38;5;124m'\u001b[39m\u001b[38;5;124mPK\u001b[39m\u001b[38;5;130;01m\\x05\u001b[39;00m\u001b[38;5;130;01m\\x06\u001b[39;00m\u001b[38;5;124m'\u001b[39m \u001b[38;5;66;03m# empty zip files start with this\u001b[39;00m\n\u001b[1;32m    422\u001b[0m N \u001b[38;5;241m=\u001b[39m \u001b[38;5;28mlen\u001b[39m(\u001b[38;5;28mformat\u001b[39m\u001b[38;5;241m.\u001b[39mMAGIC_PREFIX)\n\u001b[0;32m--> 423\u001b[0m magic \u001b[38;5;241m=\u001b[39m \u001b[43mfid\u001b[49m\u001b[38;5;241;43m.\u001b[39;49m\u001b[43mread\u001b[49m\u001b[43m(\u001b[49m\u001b[43mN\u001b[49m\u001b[43m)\u001b[49m\n\u001b[1;32m    424\u001b[0m \u001b[38;5;66;03m# If the file size is less than N, we need to make sure not\u001b[39;00m\n\u001b[1;32m    425\u001b[0m \u001b[38;5;66;03m# to seek past the beginning of the file\u001b[39;00m\n\u001b[1;32m    426\u001b[0m fid\u001b[38;5;241m.\u001b[39mseek(\u001b[38;5;241m-\u001b[39m\u001b[38;5;28mmin\u001b[39m(N, \u001b[38;5;28mlen\u001b[39m(magic)), \u001b[38;5;241m1\u001b[39m)  \u001b[38;5;66;03m# back-up\u001b[39;00m\n",
      "\u001b[0;31mKeyboardInterrupt\u001b[0m: "
     ]
    }
   ],
   "source": [
    "# ------------------- #\n",
    "# loop of epoch\n",
    "#filenames = glob(batch_dir+'TRAIN*.npy')\n",
    "\n",
    "for i in range(epochs):\n",
    "    #print('epoch = {}'.format(i))\n",
    "    start_time = time.time()\n",
    "    shuffle(filename_train_pos)\n",
    "    shuffle(filename_train_neg)\n",
    "    \n",
    "    # loop of batch\n",
    "    for j in range(L_train):\n",
    "        \n",
    "        shuffle(filename_train_pos)\n",
    "        shuffle(filename_train_neg)\n",
    "        \n",
    "        file_pick_pos = filename_train_pos[:batch_size_half]\n",
    "        file_pick_neg = filename_train_neg[:batch_size_half]\n",
    "        \n",
    "        file_pick = file_pick_pos+file_pick_neg\n",
    "        \n",
    "        for k in range(batch_size):\n",
    "            data = np.load(file_pick[k])\n",
    "            X_batch[k, ...] = data[...]\n",
    "        \n",
    "        # add noise within sparse inputs\n",
    "        for v in flag_sparse:\n",
    "            X_batch[..., v] += np.random.uniform(0, 0.01, size=(batch_size, 128, 128))\n",
    "        \n",
    "        # Soft labelling\n",
    "        Y_batch[:batch_size_half, :] = np.random.uniform(0.95, 0.99, size=(batch_size_half, 1))\n",
    "        Y_batch[batch_size_half:, :] = np.random.uniform(0.01, 0.05, size=(batch_size_half, 1))\n",
    "        \n",
    "        # shuffle indices\n",
    "        ind_ = du.shuffle_ind(batch_size)\n",
    "        X_batch = X_batch[ind_, ...]\n",
    "        Y_batch = Y_batch[ind_, :]\n",
    "        \n",
    "        if np.sum(np.isnan(X_batch)) > 0:\n",
    "            asfeargagqarew\n",
    "        \n",
    "        # train on batch\n",
    "        model.train_on_batch([X_batch,], [Y_batch,]);\n",
    "    \n",
    "    # epoch end operations\n",
    "    Y_pred = model.predict([VALID_input,])\n",
    "    \n",
    "    fpr, tpr, thresholds = roc_curve(VALID_label.ravel(), Y_pred.ravel())\n",
    "    record_temp = auc(fpr, tpr)\n",
    "    record_temp = 1 - record_temp\n",
    "    \n",
    "    if (record - record_temp > min_del) and (np.max(Y_pred) > 0.6):\n",
    "        print('Validation loss improved from {} to {}'.format(record, record_temp))\n",
    "        record = record_temp\n",
    "        tol = 0\n",
    "        #print('tol: {}'.format(tol))\n",
    "        # save\n",
    "        print('save to: {}'.format(model_path))\n",
    "        model.save(model_path)\n",
    "    else:\n",
    "        print('Validation loss {} NOT improved'.format(record_temp))\n",
    "        tol += 1\n",
    "        #print('tol: {}'.format(tol))\n",
    "        if tol >= max_tol:\n",
    "            print('Early stopping')\n",
    "            sys.exit();\n",
    "        else:\n",
    "            #print('Pass to the next epoch')\n",
    "            continue;\n",
    "    print(\"--- %s seconds ---\" % (time.time() - start_time))\n"
   ]
  },
  {
   "cell_type": "code",
   "execution_count": null,
   "id": "a5f10e46-07fd-44ea-bbeb-b6b0ba68519d",
   "metadata": {},
   "outputs": [],
   "source": []
  },
  {
   "cell_type": "code",
   "execution_count": null,
   "id": "08223d85-8396-4004-9d1e-6c8a546bc75f",
   "metadata": {},
   "outputs": [],
   "source": []
  },
  {
   "cell_type": "code",
   "execution_count": null,
   "id": "39c8962f-8caa-4eca-bd5b-f6506b4e97f6",
   "metadata": {},
   "outputs": [],
   "source": []
  },
  {
   "cell_type": "code",
   "execution_count": null,
   "id": "982cd373-2ff7-4fa1-b64f-0f4103eb30a2",
   "metadata": {},
   "outputs": [],
   "source": []
  },
  {
   "cell_type": "code",
   "execution_count": 24,
   "id": "910249a6-ead0-426b-9508-ef1c670e402a",
   "metadata": {},
   "outputs": [],
   "source": [
    "batch_dir = '/glade/scratch/ksha/DATA/NCAR_batch/'\n",
    "temp_dir = '/glade/work/ksha/NCAR/Keras_models/'\n",
    "\n",
    "key = 'VGG_tornado'\n",
    "\n",
    "model_name = '{}_pp20'.format(key)\n",
    "model_path = temp_dir+model_name\n",
    "\n",
    "W = k_utils.dummy_loader(model_path)\n",
    "model.set_weights(W)\n",
    "\n",
    "model.compile(loss=keras.losses.mean_absolute_error, optimizer=keras.optimizers.SGD(lr=2.5e-6))\n",
    "\n",
    "model_name = '{}_pp20_tune'.format(key)\n",
    "model_path = temp_dir+model_name"
   ]
  },
  {
   "cell_type": "code",
   "execution_count": 25,
   "id": "d88473a6-83c9-403c-9ba1-83d76e5daf4e",
   "metadata": {},
   "outputs": [
    {
     "name": "stdout",
     "output_type": "stream",
     "text": [
      "0.10423514726151162\n"
     ]
    }
   ],
   "source": [
    "Y_pred = model.predict([VALID_input,])\n",
    "\n",
    "fpr, tpr, thresholds = roc_curve(VALID_label.ravel(), Y_pred.ravel())\n",
    "record_temp = auc(fpr, tpr)\n",
    "record_temp = 1 - record_temp\n",
    "\n",
    "print(record_temp)"
   ]
  },
  {
   "cell_type": "code",
   "execution_count": 26,
   "id": "658ff191-1a50-4065-87ae-1a94b48219af",
   "metadata": {},
   "outputs": [
    {
     "data": {
      "text/plain": [
       "0.8957648527384884"
      ]
     },
     "execution_count": 26,
     "metadata": {},
     "output_type": "execute_result"
    }
   ],
   "source": [
    "auc(fpr, tpr)"
   ]
  },
  {
   "cell_type": "code",
   "execution_count": 27,
   "id": "7afe5c91-3078-46c7-baa3-eaf3de275109",
   "metadata": {},
   "outputs": [
    {
     "data": {
      "text/plain": [
       "[<matplotlib.lines.Line2D at 0x2b8ffc0b2100>]"
      ]
     },
     "execution_count": 27,
     "metadata": {},
     "output_type": "execute_result"
    },
    {
     "data": {
      "image/png": "[encoded data removed]",
      "text/plain": [
       "<Figure size 432x288 with 1 Axes>"
      ]
     },
     "metadata": {
      "needs_background": "light"
     },
     "output_type": "display_data"
    }
   ],
   "source": [
    "plt.plot(Y_pred.ravel())\n",
    "plt.plot(VALID_label.ravel())"
   ]
  },
  {
   "cell_type": "code",
   "execution_count": null,
   "id": "712dd196-b125-4909-8c11-6b61c31324a6",
   "metadata": {},
   "outputs": [
    {
     "name": "stdout",
     "output_type": "stream",
     "text": [
      "Validation loss improved from 0.10423514726151162 to 0.10333990957147299\n",
      "save to: /glade/work/ksha/NCAR/Keras_models/VGG_tornado_pp20_tune\n",
      "INFO:tensorflow:Assets written to: /glade/work/ksha/NCAR/Keras_models/VGG_tornado_pp20_tune/assets\n",
      "--- 426.8856997489929 seconds ---\n",
      "Validation loss improved from 0.10333990957147299 to 0.10320518073099194\n",
      "save to: /glade/work/ksha/NCAR/Keras_models/VGG_tornado_pp20_tune\n",
      "INFO:tensorflow:Assets written to: /glade/work/ksha/NCAR/Keras_models/VGG_tornado_pp20_tune/assets\n",
      "--- 419.2100965976715 seconds ---\n",
      "Validation loss 0.10328869685433106 NOT improved\n",
      "Validation loss improved from 0.10320518073099194 to 0.10284800485759182\n",
      "save to: /glade/work/ksha/NCAR/Keras_models/VGG_tornado_pp20_tune\n",
      "INFO:tensorflow:Assets written to: /glade/work/ksha/NCAR/Keras_models/VGG_tornado_pp20_tune/assets\n",
      "--- 415.4635727405548 seconds ---\n",
      "Validation loss 0.10373923745052083 NOT improved\n",
      "Validation loss 0.10341869836707596 NOT improved\n",
      "Validation loss 0.10376648524233334 NOT improved\n",
      "Validation loss 0.10299363281479801 NOT improved\n",
      "Validation loss 0.10302436044508312 NOT improved\n"
     ]
    }
   ],
   "source": [
    "# ------------------- #\n",
    "# loop of epoch\n",
    "#filenames = glob(batch_dir+'TRAIN*.npy')\n",
    "\n",
    "for i in range(epochs):\n",
    "    #print('epoch = {}'.format(i))\n",
    "    start_time = time.time()\n",
    "    shuffle(filename_train_pos)\n",
    "    shuffle(filename_train_neg)\n",
    "    \n",
    "    # loop of batch\n",
    "    for j in range(L_train):\n",
    "        \n",
    "        shuffle(filename_train_pos)\n",
    "        shuffle(filename_train_neg)\n",
    "        \n",
    "        file_pick_pos = filename_train_pos[:batch_size_half]\n",
    "        file_pick_neg = filename_train_neg[:batch_size_half]\n",
    "        \n",
    "        file_pick = file_pick_pos+file_pick_neg\n",
    "        \n",
    "        for k in range(batch_size):\n",
    "            data = np.load(file_pick[k])\n",
    "            X_batch[k, ...] = data[...]\n",
    "        \n",
    "        # add noise within sparse inputs\n",
    "        for v in flag_sparse:\n",
    "            X_batch[..., v] += np.random.uniform(0, 0.01, size=(batch_size, 128, 128))\n",
    "        \n",
    "        # Soft labelling\n",
    "        Y_batch[:batch_size_half, :] = np.random.uniform(0.95, 0.99, size=(batch_size_half, 1))\n",
    "        Y_batch[batch_size_half:, :] = np.random.uniform(0.01, 0.05, size=(batch_size_half, 1))\n",
    "        \n",
    "        # shuffle indices\n",
    "        ind_ = du.shuffle_ind(batch_size)\n",
    "        X_batch = X_batch[ind_, ...]\n",
    "        Y_batch = Y_batch[ind_, :]\n",
    "        \n",
    "        if np.sum(np.isnan(X_batch)) > 0:\n",
    "            asfeargagqarew\n",
    "        \n",
    "        # train on batch\n",
    "        model.train_on_batch([X_batch,], [Y_batch,]);\n",
    "    \n",
    "    # epoch end operations\n",
    "    Y_pred = model.predict([VALID_input,])\n",
    "    \n",
    "    fpr, tpr, thresholds = roc_curve(VALID_label.ravel(), Y_pred.ravel())\n",
    "    record_temp = auc(fpr, tpr)\n",
    "    record_temp = 1 - record_temp\n",
    "    \n",
    "    if (record - record_temp > min_del) and (np.max(Y_pred) > 0.6):\n",
    "        print('Validation loss improved from {} to {}'.format(record, record_temp))\n",
    "        record = record_temp\n",
    "        tol = 0\n",
    "        #print('tol: {}'.format(tol))\n",
    "        # save\n",
    "        print('save to: {}'.format(model_path))\n",
    "        model.save(model_path)\n",
    "    else:\n",
    "        print('Validation loss {} NOT improved'.format(record_temp))\n",
    "        tol += 1\n",
    "        #print('tol: {}'.format(tol))\n",
    "        if tol >= max_tol:\n",
    "            print('Early stopping')\n",
    "            sys.exit();\n",
    "        else:\n",
    "            #print('Pass to the next epoch')\n",
    "            continue;\n",
    "    print(\"--- %s seconds ---\" % (time.time() - start_time))"
   ]
  },
  {
   "cell_type": "code",
   "execution_count": null,
   "id": "7a5ae18b-f5b3-46de-9107-8ed0be93b4b4",
   "metadata": {},
   "outputs": [],
   "source": []
  },
  {
   "cell_type": "code",
   "execution_count": null,
   "id": "06d92f3d-a841-438c-b9aa-101a685701fe",
   "metadata": {},
   "outputs": [],
   "source": []
  },
  {
   "cell_type": "code",
   "execution_count": null,
   "id": "a45cb3aa-1530-4e77-ac06-e9d11d8fa777",
   "metadata": {},
   "outputs": [],
   "source": []
  },
  {
   "cell_type": "code",
   "execution_count": null,
   "id": "3b23baaa-074e-469c-b70c-0d62bb2017b1",
   "metadata": {},
   "outputs": [],
   "source": []
  },
  {
   "cell_type": "code",
   "execution_count": 50,
   "id": "a10ad74d-a79e-4e17-8114-21a96b97d675",
   "metadata": {},
   "outputs": [],
   "source": [
    "batch_dir = '/glade/scratch/ksha/DATA/NCAR_batch/'\n",
    "temp_dir = '/glade/work/ksha/NCAR/Keras_models/'\n",
    "\n",
    "key = 'TH_chad'\n",
    "model_name = '{}_pp20'.format(key)\n",
    "model_path = temp_dir+model_name\n",
    "\n",
    "W = k_utils.dummy_loader(model_path)\n",
    "model.set_weights(W)"
   ]
  },
  {
   "cell_type": "markdown",
   "id": "9a58e8ce-edd1-4847-ad19-5381d63790f7",
   "metadata": {},
   "source": [
    "### Classification results"
   ]
  },
  {
   "cell_type": "code",
   "execution_count": 9,
   "id": "2b99b905-5d90-4c77-90f2-12fd1e73dc19",
   "metadata": {},
   "outputs": [],
   "source": [
    "from sklearn.metrics import classification_report, auc, roc_curve"
   ]
  },
  {
   "cell_type": "code",
   "execution_count": 53,
   "id": "99e261c3-c989-4332-b3e2-874e9b65a6e3",
   "metadata": {},
   "outputs": [],
   "source": [
    "#filename_train_pos = sorted(glob(\"/glade/scratch/ksha/DATA/NCAR_batch/*TRAIN*.npy\"))\n",
    "#filename_train_neg = sorted(glob(\"/glade/scratch/ksha/DATA/NCAR_batch_neg/*TRAIN*.npy\"))\n",
    "\n",
    "filename_valid_pos = sorted(glob(\"/glade/scratch/ksha/DATA/NCAR_batch/*VALID*.npy\"))\n",
    "filename_valid_neg = sorted(glob(\"/glade/scratch/ksha/DATA/NCAR_batch_neg/*VALID*.npy\"))"
   ]
  },
  {
   "cell_type": "code",
   "execution_count": 54,
   "id": "9c1cadcb-7898-4e91-b679-278abbb6b873",
   "metadata": {},
   "outputs": [],
   "source": [
    "grid_shape = (128, 128)\n",
    "\n",
    "label_pos = np.ones(len(filename_valid_pos))\n",
    "label_neg = np.zeros(len(filename_valid_neg))\n",
    "VALID_label = np.hstack([label_pos, label_neg])\n",
    "\n",
    "L_valid = len(VALID_label)\n",
    "L_vars = 20\n",
    "L_sparse = len(flag_sparse)\n",
    "L_dense = L_vars - L_sparse\n",
    "\n",
    "VALID_sparse = np.empty((L_valid,)+grid_shape+(L_sparse,))\n",
    "VALID_dense = np.empty((L_valid,)+grid_shape+(L_dense,))\n",
    "\n",
    "for i, filename in enumerate(filename_valid_pos+filename_valid_neg):\n",
    "    data = np.load(filename)\n",
    "    count0 = 0\n",
    "    count1 = 0\n",
    "    for v in range(L_vars):\n",
    "        if v in flag_sparse:\n",
    "            VALID_sparse[i, ..., count0] = data[..., v]\n",
    "            count0 += 1\n",
    "        else:\n",
    "            VALID_dense[i, ..., count1] = data[..., v]\n",
    "            count1 += 1"
   ]
  },
  {
   "cell_type": "code",
   "execution_count": 60,
   "id": "bf0589e8-cef0-42d3-a7f0-b0439807ebae",
   "metadata": {},
   "outputs": [
    {
     "data": {
      "text/plain": [
       "array([1., 1., 1., ..., 0., 0., 0.])"
      ]
     },
     "execution_count": 60,
     "metadata": {},
     "output_type": "execute_result"
    }
   ],
   "source": [
    "VALID_label"
   ]
  },
  {
   "cell_type": "code",
   "execution_count": 55,
   "id": "9888419f-5dab-425f-a7a4-88d31b8d1ff6",
   "metadata": {},
   "outputs": [],
   "source": [
    "# filename_valid_pos = sorted(glob(\"/glade/scratch/ksha/DATA/NCAR_batch/*VALID*.npy\"))[::10]\n",
    "# label_pos = np.ones(len(filename_valid_pos))\n",
    "# label_neg = np.zeros(len(filename_valid_neg))\n",
    "# VALID_label_skew = np.hstack([label_pos, label_neg])\n",
    "\n",
    "# L_valid = len(VALID_label_skew)\n",
    "\n",
    "# VALID_skew = np.empty((L_valid,)+grid_shape+(5,))\n",
    "\n",
    "# for i, filename in enumerate(filename_valid_pos+filename_valid_neg):\n",
    "#     data = np.load(filename)\n",
    "#     VALID_skew[i, ...] = data[...]"
   ]
  },
  {
   "cell_type": "markdown",
   "id": "d4fc6866-d00f-4013-bd6b-663632c5002a",
   "metadata": {},
   "source": [
    "**Balanced verif**"
   ]
  },
  {
   "cell_type": "code",
   "execution_count": 56,
   "id": "8d4368dc-01e6-47d4-b8f9-7878e0549921",
   "metadata": {},
   "outputs": [
    {
     "name": "stderr",
     "output_type": "stream",
     "text": [
      "2022-08-11 17:58:34.004253: W tensorflow/core/framework/cpu_allocator_impl.cc:80] Allocation of 47110422528 exceeds 10% of free system memory.\n"
     ]
    }
   ],
   "source": [
    "Y_pred = model.predict([VALID_dense, VALID_sparse])\n",
    "Y_pred_label = Y_pred > 0.5"
   ]
  },
  {
   "cell_type": "code",
   "execution_count": 57,
   "id": "08258957-c3ef-4617-8326-e4f7d7b5db61",
   "metadata": {},
   "outputs": [
    {
     "name": "stdout",
     "output_type": "stream",
     "text": [
      "              precision    recall  f1-score   support\n",
      "\n",
      "         0.0       1.00      0.53      0.69     55296\n",
      "         1.0       0.00      0.00      0.00         0\n",
      "\n",
      "    accuracy                           0.53     55296\n",
      "   macro avg       0.50      0.27      0.35     55296\n",
      "weighted avg       1.00      0.53      0.69     55296\n",
      "\n"
     ]
    },
    {
     "name": "stderr",
     "output_type": "stream",
     "text": [
      "/glade/work/ksha/anaconda3/lib/python3.9/site-packages/sklearn/metrics/_classification.py:1327: UndefinedMetricWarning: Recall and F-score are ill-defined and being set to 0.0 in labels with no true samples. Use `zero_division` parameter to control this behavior.\n",
      "  _warn_prf(average, modifier, msg_start, len(result))\n",
      "/glade/work/ksha/anaconda3/lib/python3.9/site-packages/sklearn/metrics/_classification.py:1327: UndefinedMetricWarning: Recall and F-score are ill-defined and being set to 0.0 in labels with no true samples. Use `zero_division` parameter to control this behavior.\n",
      "  _warn_prf(average, modifier, msg_start, len(result))\n",
      "/glade/work/ksha/anaconda3/lib/python3.9/site-packages/sklearn/metrics/_classification.py:1327: UndefinedMetricWarning: Recall and F-score are ill-defined and being set to 0.0 in labels with no true samples. Use `zero_division` parameter to control this behavior.\n",
      "  _warn_prf(average, modifier, msg_start, len(result))\n"
     ]
    }
   ],
   "source": [
    "print(classification_report(Y_pred_label.ravel(), VALID_label.ravel()))"
   ]
  },
  {
   "cell_type": "code",
   "execution_count": null,
   "id": "c57f536a-8ebb-430a-8a7a-701e1a1cfe30",
   "metadata": {},
   "outputs": [],
   "source": []
  },
  {
   "cell_type": "code",
   "execution_count": 48,
   "id": "6a6a3bbd-b744-41de-9ae7-fe8acc561e36",
   "metadata": {},
   "outputs": [
    {
     "name": "stdout",
     "output_type": "stream",
     "text": [
      "              precision    recall  f1-score   support\n",
      "\n",
      "       False       0.88      0.78      0.83     33142\n",
      "        True       0.72      0.84      0.77     22154\n",
      "\n",
      "    accuracy                           0.80     55296\n",
      "   macro avg       0.80      0.81      0.80     55296\n",
      "weighted avg       0.81      0.80      0.80     55296\n",
      "\n"
     ]
    }
   ],
   "source": [
    "print(classification_report(Y_pred_label.ravel(), VALID_label.ravel()))"
   ]
  },
  {
   "cell_type": "code",
   "execution_count": 58,
   "id": "e5a6e2f8-1322-4f8e-8abe-43cb2bd376b3",
   "metadata": {},
   "outputs": [
    {
     "data": {
      "text/plain": [
       "0.9319409017491813"
      ]
     },
     "execution_count": 58,
     "metadata": {},
     "output_type": "execute_result"
    }
   ],
   "source": [
    "fpr, tpr, thresholds = roc_curve(VALID_label.ravel(), Y_pred.ravel())\n",
    "auc(fpr, tpr)"
   ]
  },
  {
   "cell_type": "code",
   "execution_count": 17,
   "id": "2f47f4fa-edba-423a-9514-75bdd2d7bb61",
   "metadata": {},
   "outputs": [
    {
     "data": {
      "text/plain": [
       "0.8871815021742365"
      ]
     },
     "execution_count": 17,
     "metadata": {},
     "output_type": "execute_result"
    }
   ],
   "source": [
    "fpr, tpr, thresholds = roc_curve(VALID_label.ravel(), Y_pred.ravel())\n",
    "auc(fpr, tpr)"
   ]
  },
  {
   "cell_type": "code",
   "execution_count": 18,
   "id": "cc8e1093-e978-48c9-95c6-08d88102d200",
   "metadata": {},
   "outputs": [
    {
     "data": {
      "text/plain": [
       "(17970,)"
      ]
     },
     "execution_count": 18,
     "metadata": {},
     "output_type": "execute_result"
    }
   ],
   "source": [
    "fpr.shape"
   ]
  },
  {
   "cell_type": "code",
   "execution_count": 61,
   "id": "488420f2-d399-467d-81f0-87d5dccd9977",
   "metadata": {},
   "outputs": [
    {
     "data": {
      "text/plain": [
       "[<matplotlib.lines.Line2D at 0x2ab52d0c6a60>]"
      ]
     },
     "execution_count": 61,
     "metadata": {},
     "output_type": "execute_result"
    },
    {
     "data": {
      "image/png": "[encoded data removed]",
      "text/plain": [
       "<Figure size 648x648 with 1 Axes>"
      ]
     },
     "metadata": {},
     "output_type": "display_data"
    }
   ],
   "source": [
    "fig = plt.figure(figsize=(9, 9))\n",
    "ax = fig.gca()\n",
    "ax = gu.ax_decorate_box(ax)\n",
    "ax.set_xlim([0, 1])\n",
    "ax.set_ylim([0, 1])\n",
    "ax.plot(fpr, tpr, lw=3)\n",
    "ax.plot(fpr, fpr, 'r--', lw=3)"
   ]
  },
  {
   "cell_type": "code",
   "execution_count": null,
   "id": "133c9a1b-3192-4578-aee5-f08a6eb7523e",
   "metadata": {},
   "outputs": [],
   "source": []
  },
  {
   "cell_type": "markdown",
   "id": "739f0611-6e2f-4dda-af69-a1e549607af4",
   "metadata": {},
   "source": [
    "**Natural verif**"
   ]
  },
  {
   "cell_type": "code",
   "execution_count": 25,
   "id": "db07630c-19ae-4dfa-b798-4888e2c04078",
   "metadata": {},
   "outputs": [
    {
     "name": "stdout",
     "output_type": "stream",
     "text": [
      "              precision    recall  f1-score   support\n",
      "\n",
      "       False       0.88      0.97      0.92     26640\n",
      "        True       0.67      0.33      0.44      5328\n",
      "\n",
      "    accuracy                           0.86     31968\n",
      "   macro avg       0.78      0.65      0.68     31968\n",
      "weighted avg       0.84      0.86      0.84     31968\n",
      "\n"
     ]
    }
   ],
   "source": [
    "Y_pred = model.predict([VALID_skew])\n",
    "Y_pred_label = Y_pred > 0.5\n",
    "print(classification_report(Y_pred_label.ravel(), VALID_label_skew.ravel()))"
   ]
  },
  {
   "cell_type": "code",
   "execution_count": 26,
   "id": "a769d453-96b5-4176-bb5e-3613220b8315",
   "metadata": {},
   "outputs": [
    {
     "data": {
      "text/plain": [
       "0.8685229089653266"
      ]
     },
     "execution_count": 26,
     "metadata": {},
     "output_type": "execute_result"
    }
   ],
   "source": [
    "fpr, tpr, thresholds = roc_curve(VALID_label_skew.ravel(), Y_pred.ravel())\n",
    "auc(fpr, tpr)"
   ]
  },
  {
   "cell_type": "code",
   "execution_count": 27,
   "id": "c67bd384-e1b5-4d56-b2e0-85dc9f612f56",
   "metadata": {},
   "outputs": [
    {
     "data": {
      "text/plain": [
       "[<matplotlib.lines.Line2D at 0x2adf3882e670>]"
      ]
     },
     "execution_count": 27,
     "metadata": {},
     "output_type": "execute_result"
    },
    {
     "data": {
      "image/png": "[encoded data removed]",
      "text/plain": [
       "<Figure size 648x648 with 1 Axes>"
      ]
     },
     "metadata": {},
     "output_type": "display_data"
    }
   ],
   "source": [
    "fig = plt.figure(figsize=(9, 9))\n",
    "ax = fig.gca()\n",
    "ax = gu.ax_decorate_box(ax)\n",
    "ax.set_xlim([0, 1])\n",
    "ax.set_ylim([0, 1])\n",
    "ax.plot(fpr, tpr, lw=3)\n",
    "ax.plot(fpr, fpr, 'r--', lw=3)"
   ]
  },
  {
   "cell_type": "code",
   "execution_count": null,
   "id": "199e7ad9-6499-4cbe-8fab-950948350c5e",
   "metadata": {},
   "outputs": [],
   "source": []
  },
  {
   "cell_type": "code",
   "execution_count": null,
   "id": "5352d3ec-1f56-4324-958c-fc477de4d7d7",
   "metadata": {},
   "outputs": [],
   "source": []
  },
  {
   "cell_type": "code",
   "execution_count": 40,
   "id": "9b0ae141-1281-49d9-b907-d53534521e9f",
   "metadata": {},
   "outputs": [
    {
     "data": {
      "text/plain": [
       "[<matplotlib.lines.Line2D at 0x2ae563144640>]"
      ]
     },
     "execution_count": 40,
     "metadata": {},
     "output_type": "execute_result"
    },
    {
     "data": {
      "image/png": "[encoded data removed]",
      "text/plain": [
       "<Figure size 432x288 with 1 Axes>"
      ]
     },
     "metadata": {
      "needs_background": "light"
     },
     "output_type": "display_data"
    }
   ],
   "source": [
    "plt.plot(Y_pred.ravel()[:10000])\n",
    "plt.plot(VALID_label_skew.ravel()[:10000])"
   ]
  },
  {
   "cell_type": "code",
   "execution_count": 42,
   "id": "63261176-3bb0-4bc2-afd4-e7c683cfb326",
   "metadata": {},
   "outputs": [
    {
     "data": {
      "text/plain": [
       "[<matplotlib.lines.Line2D at 0x2ae56305f7c0>]"
      ]
     },
     "execution_count": 42,
     "metadata": {},
     "output_type": "execute_result"
    },
    {
     "data": {
      "image/png": "[encoded data removed]",
      "text/plain": [
       "<Figure size 432x288 with 1 Axes>"
      ]
     },
     "metadata": {
      "needs_background": "light"
     },
     "output_type": "display_data"
    }
   ],
   "source": [
    "plt.plot(Y_pred.ravel()[:10000]>0.7)\n",
    "plt.plot(VALID_label_skew.ravel()[:10000])"
   ]
  },
  {
   "cell_type": "code",
   "execution_count": null,
   "id": "baaee327-4cd1-4656-b778-8dadbf4a7c2a",
   "metadata": {},
   "outputs": [],
   "source": []
  }
 ],
 "metadata": {
  "kernelspec": {
   "display_name": "Python 3 (ipykernel)",
   "language": "python",
   "name": "python3"
  },
  "language_info": {
   "codemirror_mode": {
    "name": "ipython",
    "version": 3
   },
   "file_extension": ".py",
   "mimetype": "text/x-python",
   "name": "python",
   "nbconvert_exporter": "python",
   "pygments_lexer": "ipython3",
   "version": "3.9.13"
  }
 },
 "nbformat": 4,
 "nbformat_minor": 5
}
