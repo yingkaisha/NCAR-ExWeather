{
 "cells": [
  {
   "cell_type": "code",
   "execution_count": 1,
   "id": "ce76310e-2358-43eb-ba0c-188a45af0b5e",
   "metadata": {},
   "outputs": [],
   "source": [
    "# general tools\n",
    "import sys\n",
    "from glob import glob\n",
    "\n",
    "# data tools\n",
    "import time\n",
    "import h5py\n",
    "import random\n",
    "import numpy as np\n",
    "from random import shuffle\n",
    "\n",
    "import matplotlib.pyplot as plt\n",
    "%matplotlib inline"
   ]
  },
  {
   "cell_type": "code",
   "execution_count": 2,
   "id": "ee2f455b-7a16-4d6c-b673-ff37e482f46d",
   "metadata": {},
   "outputs": [
    {
     "name": "stderr",
     "output_type": "stream",
     "text": [
      "2022-08-28 08:20:31.885696: I tensorflow/stream_executor/platform/default/dso_loader.cc:49] Successfully opened dynamic library libcudart.so.10.1\n"
     ]
    }
   ],
   "source": [
    "# deep learning tools\n",
    "import tensorflow as tf\n",
    "from tensorflow import keras\n",
    "\n",
    "from keras_unet_collection import models as k_models\n",
    "from keras_unet_collection import utils as k_utils\n",
    "from keras_unet_collection import layer_utils as k_layers\n",
    "from keras_unet_collection.activations import GELU"
   ]
  },
  {
   "cell_type": "code",
   "execution_count": 36,
   "id": "329c3d14-edd9-49fa-a0b6-c112ea9c7553",
   "metadata": {},
   "outputs": [],
   "source": [
    "sys.path.insert(0, '/glade/u/home/ksha/NCAR/')\n",
    "sys.path.insert(0, '/glade/u/home/ksha/NCAR/libs/')\n",
    "\n",
    "from namelist import *\n",
    "import data_utils as du\n",
    "import graph_utils as gu\n",
    "\n",
    "from sklearn.metrics import classification_report, auc, roc_curve\n",
    "from sklearn.metrics import confusion_matrix\n",
    "\n",
    "import matplotlib.pyplot as plt\n",
    "%matplotlib inline\n",
    "\n",
    "def verif_metric(VALID_target, Y_pred, thres=0.5):\n",
    "\n",
    "    tn, fp, fn, tp = confusion_matrix(VALID_target.ravel(), Y_pred.ravel()>thres).ravel()\n",
    "\n",
    "    CSI = tp/(tp+fn+fp)\n",
    "    CSI_metric = 1 - CSI\n",
    "    \n",
    "    POFD = fp/(tn+fp)\n",
    "    \n",
    "    fpr, tpr, thresholds = roc_curve(VALID_target.ravel(), Y_pred.ravel())\n",
    "    AUC = auc(fpr, tpr)\n",
    "    AUC_metric = 1 - AUC\n",
    "    \n",
    "    freq = (tp+fp)/(tp+fn)\n",
    "    freq_metric = np.abs(freq-1.0)\n",
    "    \n",
    "    print('{} {} {} {}'.format(CSI, POFD, AUC, freq))\n",
    "    metric = 0.8*CSI_metric + 0.2*freq_metric\n",
    "\n",
    "\n",
    "    return metric"
   ]
  },
  {
   "cell_type": "code",
   "execution_count": 4,
   "id": "9e1ee330-cf69-4ead-aa86-42cb0aeec11b",
   "metadata": {},
   "outputs": [],
   "source": [
    "L_vars = 19"
   ]
  },
  {
   "cell_type": "code",
   "execution_count": 6,
   "id": "c181e0e9-cf6a-4fc9-a913-97562ce045c2",
   "metadata": {},
   "outputs": [],
   "source": [
    "filename_neg_storm = sorted(glob(\"/glade/scratch/ksha/DATA/NCAR_batch/*storm*.npy\"))\n",
    "filename_neg_calm = sorted(glob(\"/glade/scratch/ksha/DATA/NCAR_batch/*calm*.npy\"))\n",
    "# filename_neg_wind = sorted(glob(\"/glade/scratch/ksha/DATA/NCAR_batch_neg/*wind*.npy\"))\n",
    "# filename_neg_hail = sorted(glob(\"/glade/scratch/ksha/DATA/NCAR_batch_neg/*hail*.npy\"))\n",
    "filename_aug = sorted(glob(\"/glade/scratch/ksha/DATA/NCAR_batch_aug/*.npy\"))"
   ]
  },
  {
   "cell_type": "code",
   "execution_count": 48,
   "id": "8a1ca07d-9a52-4d14-94ca-060782457026",
   "metadata": {},
   "outputs": [],
   "source": [
    "with h5py.File(save_dir_scratch+'VALID_real_lead{}.hdf'.format(21), 'r') as h5io:\n",
    "    TEST_input = h5io['TEST_input'][...]\n",
    "    TEST_target = h5io['TEST_target'][...]"
   ]
  },
  {
   "cell_type": "code",
   "execution_count": 49,
   "id": "2e89d8a9-c6b8-4949-b017-1f286dc448de",
   "metadata": {},
   "outputs": [],
   "source": [
    "TEST_target[np.isnan(TEST_target)] = 0.0"
   ]
  },
  {
   "cell_type": "code",
   "execution_count": 50,
   "id": "55146719-49cf-454b-bda6-c7be68afed07",
   "metadata": {},
   "outputs": [],
   "source": [
    "TEST_target[TEST_target!=0] = 1.0"
   ]
  },
  {
   "cell_type": "code",
   "execution_count": 51,
   "id": "52c792ca-7e6d-44bc-ba30-89e2c030b599",
   "metadata": {},
   "outputs": [],
   "source": [
    "TEST_input = TEST_input[3000:5000, ...]\n",
    "TEST_target = TEST_target[3000:5000, ...]"
   ]
  },
  {
   "cell_type": "code",
   "execution_count": 52,
   "id": "c0e13585-4095-481a-999d-8bbcc89ecc1b",
   "metadata": {},
   "outputs": [
    {
     "data": {
      "text/plain": [
       "[<matplotlib.lines.Line2D at 0x2b19c7a40130>]"
      ]
     },
     "execution_count": 52,
     "metadata": {},
     "output_type": "execute_result"
    },
    {
     "data": {
      "image/png": "[encoded data removed]",
      "text/plain": [
       "<Figure size 432x288 with 1 Axes>"
      ]
     },
     "metadata": {
      "needs_background": "light"
     },
     "output_type": "display_data"
    }
   ],
   "source": [
    "plt.plot(TEST_target)"
   ]
  },
  {
   "cell_type": "code",
   "execution_count": null,
   "id": "501cdee2-b040-497f-93f6-fee25e15fdb9",
   "metadata": {},
   "outputs": [],
   "source": []
  },
  {
   "cell_type": "code",
   "execution_count": 12,
   "id": "7b4b819c-3932-4123-95c3-a639b76942bf",
   "metadata": {},
   "outputs": [
    {
     "name": "stderr",
     "output_type": "stream",
     "text": [
      "2022-08-28 08:32:27.361692: I tensorflow/compiler/jit/xla_cpu_device.cc:41] Not creating XLA devices, tf_xla_enable_xla_devices not set\n",
      "2022-08-28 08:32:28.590694: I tensorflow/stream_executor/platform/default/dso_loader.cc:49] Successfully opened dynamic library libcuda.so.1\n",
      "2022-08-28 08:32:28.770266: I tensorflow/core/common_runtime/gpu/gpu_device.cc:1720] Found device 0 with properties: \n",
      "pciBusID: 0000:1a:00.0 name: Tesla V100-SXM2-32GB computeCapability: 7.0\n",
      "coreClock: 1.53GHz coreCount: 80 deviceMemorySize: 31.75GiB deviceMemoryBandwidth: 836.37GiB/s\n",
      "2022-08-28 08:32:28.770876: I tensorflow/stream_executor/platform/default/dso_loader.cc:49] Successfully opened dynamic library libcudart.so.10.1\n",
      "2022-08-28 08:32:29.043610: I tensorflow/stream_executor/platform/default/dso_loader.cc:49] Successfully opened dynamic library libcublas.so.10\n",
      "2022-08-28 08:32:29.045429: I tensorflow/stream_executor/platform/default/dso_loader.cc:49] Successfully opened dynamic library libcublasLt.so.10\n",
      "2022-08-28 08:32:29.167728: I tensorflow/stream_executor/platform/default/dso_loader.cc:49] Successfully opened dynamic library libcufft.so.10\n",
      "2022-08-28 08:32:29.298821: I tensorflow/stream_executor/platform/default/dso_loader.cc:49] Successfully opened dynamic library libcurand.so.10\n",
      "2022-08-28 08:32:29.431457: I tensorflow/stream_executor/platform/default/dso_loader.cc:49] Successfully opened dynamic library libcusolver.so.10\n",
      "2022-08-28 08:32:29.510993: I tensorflow/stream_executor/platform/default/dso_loader.cc:49] Successfully opened dynamic library libcusparse.so.10\n",
      "2022-08-28 08:32:29.750257: I tensorflow/stream_executor/platform/default/dso_loader.cc:49] Successfully opened dynamic library libcudnn.so.7\n",
      "2022-08-28 08:32:29.753557: I tensorflow/core/common_runtime/gpu/gpu_device.cc:1862] Adding visible gpu devices: 0\n",
      "2022-08-28 08:32:29.781161: I tensorflow/core/platform/cpu_feature_guard.cc:142] This TensorFlow binary is optimized with oneAPI Deep Neural Network Library (oneDNN) to use the following CPU instructions in performance-critical operations:  SSE4.1 SSE4.2 AVX AVX2 AVX512F FMA\n",
      "To enable them in other operations, rebuild TensorFlow with the appropriate compiler flags.\n",
      "2022-08-28 08:32:29.790221: I tensorflow/compiler/jit/xla_gpu_device.cc:99] Not creating XLA devices, tf_xla_enable_xla_devices not set\n",
      "2022-08-28 08:32:29.791568: I tensorflow/core/common_runtime/gpu/gpu_device.cc:1720] Found device 0 with properties: \n",
      "pciBusID: 0000:1a:00.0 name: Tesla V100-SXM2-32GB computeCapability: 7.0\n",
      "coreClock: 1.53GHz coreCount: 80 deviceMemorySize: 31.75GiB deviceMemoryBandwidth: 836.37GiB/s\n",
      "2022-08-28 08:32:29.792141: I tensorflow/stream_executor/platform/default/dso_loader.cc:49] Successfully opened dynamic library libcudart.so.10.1\n",
      "2022-08-28 08:32:29.792733: I tensorflow/stream_executor/platform/default/dso_loader.cc:49] Successfully opened dynamic library libcublas.so.10\n",
      "2022-08-28 08:32:29.792804: I tensorflow/stream_executor/platform/default/dso_loader.cc:49] Successfully opened dynamic library libcublasLt.so.10\n",
      "2022-08-28 08:32:29.792821: I tensorflow/stream_executor/platform/default/dso_loader.cc:49] Successfully opened dynamic library libcufft.so.10\n",
      "2022-08-28 08:32:29.792861: I tensorflow/stream_executor/platform/default/dso_loader.cc:49] Successfully opened dynamic library libcurand.so.10\n",
      "2022-08-28 08:32:29.792881: I tensorflow/stream_executor/platform/default/dso_loader.cc:49] Successfully opened dynamic library libcusolver.so.10\n",
      "2022-08-28 08:32:29.792905: I tensorflow/stream_executor/platform/default/dso_loader.cc:49] Successfully opened dynamic library libcusparse.so.10\n",
      "2022-08-28 08:32:29.793044: I tensorflow/stream_executor/platform/default/dso_loader.cc:49] Successfully opened dynamic library libcudnn.so.7\n",
      "2022-08-28 08:32:29.794200: I tensorflow/core/common_runtime/gpu/gpu_device.cc:1862] Adding visible gpu devices: 0\n",
      "2022-08-28 08:32:29.794668: I tensorflow/stream_executor/platform/default/dso_loader.cc:49] Successfully opened dynamic library libcudart.so.10.1\n",
      "2022-08-28 08:32:33.831053: I tensorflow/core/common_runtime/gpu/gpu_device.cc:1261] Device interconnect StreamExecutor with strength 1 edge matrix:\n",
      "2022-08-28 08:32:33.831280: I tensorflow/core/common_runtime/gpu/gpu_device.cc:1267]      0 \n",
      "2022-08-28 08:32:33.871317: I tensorflow/core/common_runtime/gpu/gpu_device.cc:1280] 0:   N \n",
      "2022-08-28 08:32:33.927947: I tensorflow/core/common_runtime/gpu/gpu_device.cc:1406] Created TensorFlow device (/job:localhost/replica:0/task:0/device:GPU:0 with 30132 MB memory) -> physical GPU (device: 0, name: Tesla V100-SXM2-32GB, pci bus id: 0000:1a:00.0, compute capability: 7.0)\n"
     ]
    }
   ],
   "source": [
    "IN = tf.keras.Input((128, 128, 19))\n",
    "\n",
    "X = IN\n",
    "\n",
    "X = k_layers.CONV_stack(X, 32, kernel_size=3, stack_num=2, dilation_rate=1, activation='GELU', batch_norm=True, name='conv_stack1')\n",
    "X = tf.keras.layers.Conv2D(32, kernel_size=2, strides=(2, 2), padding='valid', use_bias=True, name='stride_conv1')(X)\n",
    "\n",
    "X = k_layers.CONV_stack(X, 64, kernel_size=3, stack_num=2, dilation_rate=1, activation='GELU', batch_norm=True, name='conv_stack2')\n",
    "X = tf.keras.layers.Conv2D(64, kernel_size=2, strides=(2, 2), padding='valid', use_bias=True, name='stride_conv2')(X)\n",
    "\n",
    "X = k_layers.CONV_stack(X, 128, kernel_size=3, stack_num=2, dilation_rate=1, activation='GELU', batch_norm=True, name='conv_stack3')\n",
    "X = tf.keras.layers.Conv2D(128, kernel_size=2, strides=(2, 2), padding='valid', use_bias=True, name='stride_conv3')(X)\n",
    "\n",
    "X = k_layers.CONV_stack(X, 256, kernel_size=3, stack_num=2, dilation_rate=1, activation='GELU', batch_norm=True, name='conv_stack4')\n",
    "X = tf.keras.layers.Conv2D(256, kernel_size=2, strides=(2, 2), padding='valid', use_bias=True, name='stride_conv4')(X)\n",
    "\n",
    "X = k_layers.CONV_stack(X, 512, kernel_size=3, stack_num=2, dilation_rate=1, activation='GELU', batch_norm=True, name='conv_stack5')\n",
    "X = tf.keras.layers.Conv2D(512, kernel_size=2, strides=(2, 2), padding='valid', use_bias=True, name='stride_conv5')(X)\n",
    "\n",
    "D = tf.keras.layers.Flatten()(X)\n",
    "\n",
    "D = tf.keras.layers.Dense(512, use_bias=False, name='dense1')(D)\n",
    "D = tf.keras.layers.BatchNormalization(axis=-1, name='dense_bn1')(D)\n",
    "D = GELU()(D)\n",
    "\n",
    "D = tf.keras.layers.Dense(128, use_bias=False, name='dense2')(D)\n",
    "D = tf.keras.layers.BatchNormalization(axis=-1, name='dense_bn2')(D)\n",
    "D = GELU()(D)\n",
    "\n",
    "D = tf.keras.layers.Dense(1, activation='sigmoid', name='head')(D)\n",
    "#D = tf.keras.layers.Softmax()(D)\n",
    "\n",
    "OUT = D"
   ]
  },
  {
   "cell_type": "code",
   "execution_count": 13,
   "id": "cb49538d-f688-48cb-b35d-17c4ead379c8",
   "metadata": {},
   "outputs": [],
   "source": [
    "model = keras.models.Model(inputs=[IN,], outputs=[OUT,])"
   ]
  },
  {
   "cell_type": "code",
   "execution_count": 14,
   "id": "ca8e6183-6964-467a-8ebe-01b822b8b8f0",
   "metadata": {},
   "outputs": [],
   "source": [
    "tol = 0\n",
    "min_del = 0\n",
    "max_tol = 500 # early stopping with patience\n",
    "\n",
    "epochs = 500\n",
    "L_train = 64\n",
    "batch_size = 100\n",
    "\n",
    "batch_size_half = 50\n",
    "\n",
    "valid_size = 1"
   ]
  },
  {
   "cell_type": "code",
   "execution_count": 15,
   "id": "67244080-0104-4922-9543-941d6318f26a",
   "metadata": {},
   "outputs": [],
   "source": [
    "batch_dir = '/glade/scratch/ksha/DATA/NCAR_batch/'\n",
    "temp_dir = '/glade/work/ksha/NCAR/Keras_models/'\n",
    "\n",
    "key = 'VGG_ALL'\n",
    "\n",
    "model_name = '{}_pp20'.format(key)\n",
    "model_path = temp_dir+model_name\n",
    "\n",
    "W_new = model.get_weights()\n",
    "W_old = k_utils.dummy_loader(temp_dir+'VGG_X_pp20_tune2')\n",
    "\n",
    "for l in range(len(W_old)):\n",
    "    if W_old[l].shape == W_new[l].shape:\n",
    "        W_new[l] = W_old[l]\n",
    "        \n",
    "model.set_weights(W_new)\n",
    "model.compile(loss=keras.losses.categorical_crossentropy, optimizer=keras.optimizers.Adam(lr=2e-5))"
   ]
  },
  {
   "cell_type": "code",
   "execution_count": 16,
   "id": "b6bf49a3-1b86-484a-b8e2-94cadceb6ce8",
   "metadata": {},
   "outputs": [],
   "source": [
    "# X_batch_sparse = np.empty((batch_size, 128, 128, L_sparse))*np.nan\n",
    "# X_batch_dense = np.empty((batch_size, 128, 128, L_dense))*np.nan\n",
    "X_batch = np.empty((batch_size, 128, 128, L_vars))\n",
    "Y_batch = np.empty((batch_size, 1))\n",
    "X_batch[...] = np.nan\n",
    "Y_batch[...] = np.nan"
   ]
  },
  {
   "cell_type": "code",
   "execution_count": 17,
   "id": "c9c63cfd-6675-4ed1-a369-0e11a0d75f56",
   "metadata": {},
   "outputs": [
    {
     "name": "stdout",
     "output_type": "stream",
     "text": [
      "Initial record: 999\n"
     ]
    }
   ],
   "source": [
    "#Y_pred = model.predict([VALID_X])\n",
    "record = 999 #np.nanmean(np.abs(Y_pred-VALID_Y))\n",
    "print(\"Initial record: {}\".format(record))"
   ]
  },
  {
   "cell_type": "code",
   "execution_count": 18,
   "id": "842940ff-c806-4094-96e5-71b903fe9276",
   "metadata": {},
   "outputs": [
    {
     "data": {
      "text/plain": [
       "[PhysicalDevice(name='/physical_device:GPU:0', device_type='GPU')]"
      ]
     },
     "execution_count": 18,
     "metadata": {},
     "output_type": "execute_result"
    }
   ],
   "source": [
    "tf.config.list_physical_devices('GPU')"
   ]
  },
  {
   "cell_type": "code",
   "execution_count": 19,
   "id": "7bc8fcbf-6dfa-4d4f-bb1c-b8d00f4070d7",
   "metadata": {},
   "outputs": [],
   "source": [
    "from sklearn.metrics import classification_report, auc, roc_curve"
   ]
  },
  {
   "cell_type": "code",
   "execution_count": 61,
   "id": "f03c24b2-487f-48a9-b527-d9cd21a30f45",
   "metadata": {},
   "outputs": [
    {
     "data": {
      "text/plain": [
       "(100, 128, 128, 19)"
      ]
     },
     "execution_count": 61,
     "metadata": {},
     "output_type": "execute_result"
    }
   ],
   "source": [
    "X_batch.shape"
   ]
  },
  {
   "cell_type": "code",
   "execution_count": 21,
   "id": "ca6e5ad6-0941-4737-88f1-6df2077dba9d",
   "metadata": {},
   "outputs": [
    {
     "name": "stderr",
     "output_type": "stream",
     "text": [
      "2022-08-28 08:34:43.793967: I tensorflow/compiler/mlir/mlir_graph_optimization_pass.cc:116] None of the MLIR optimization passes are enabled (registered 2)\n",
      "2022-08-28 08:34:43.896134: I tensorflow/core/platform/profile_utils/cpu_utils.cc:112] CPU Frequency: 2300000000 Hz\n",
      "2022-08-28 08:34:46.017394: I tensorflow/stream_executor/platform/default/dso_loader.cc:49] Successfully opened dynamic library libcublas.so.10\n",
      "2022-08-28 08:34:47.002916: I tensorflow/stream_executor/platform/default/dso_loader.cc:49] Successfully opened dynamic library libcudnn.so.7\n"
     ]
    },
    {
     "name": "stdout",
     "output_type": "stream",
     "text": [
      "0.10759493670886076 0.051437829080599434 0.918904088111943 4.645161290322581\n",
      "Validation loss improved from 999 to 2.8193344222131484\n",
      "save to: /glade/work/ksha/NCAR/Keras_models/VGG_ALL_pp20\n"
     ]
    },
    {
     "name": "stderr",
     "output_type": "stream",
     "text": [
      "2022-08-28 08:41:12.323028: W tensorflow/python/util/util.cc:348] Sets are not currently considered sequences, but this may change in the future, so consider avoiding using them.\n"
     ]
    },
    {
     "name": "stdout",
     "output_type": "stream",
     "text": [
      "INFO:tensorflow:Assets written to: /glade/work/ksha/NCAR/Keras_models/VGG_ALL_pp20/assets\n",
      "--- 414.0304663181305 seconds ---\n",
      "0.07537688442211055 0.06804374240583232 0.9078541658500895 5.903225806451613\n",
      "Validation loss 3.7096449991894955 NOT improved\n",
      "0.09375 0.058728230052652895 0.9235814421406081 5.209677419354839\n",
      "Validation loss 3.218649193548387 NOT improved\n",
      "0.11627906976744186 0.02227622519238558 0.9106893217836658 2.096774193548387\n",
      "Validation loss improved from 2.8193344222131484 to 1.0328582145536382\n",
      "save to: /glade/work/ksha/NCAR/Keras_models/VGG_ALL_pp20\n",
      "INFO:tensorflow:Assets written to: /glade/work/ksha/NCAR/Keras_models/VGG_ALL_pp20/assets\n",
      "--- 366.09208822250366 seconds ---\n",
      "0.11864406779661017 0.011340623734305387 0.9011255699708647 1.1290322580645162\n",
      "Validation loss improved from 1.0328582145536382 to 0.3547293603061783\n",
      "save to: /glade/work/ksha/NCAR/Keras_models/VGG_ALL_pp20\n",
      "INFO:tensorflow:Assets written to: /glade/work/ksha/NCAR/Keras_models/VGG_ALL_pp20/assets\n",
      "--- 367.72221279144287 seconds ---\n",
      "0.09868421052631579 0.018226002430133656 0.8944818981172996 1.6935483870967742\n",
      "Validation loss 0.7558786078098472 NOT improved\n",
      "0.058823529411764705 0.018428513568246253 0.8875409921739243 1.6129032258064515\n",
      "Validation loss 0.7113851992409866 NOT improved\n",
      "0.06060606060606061 0.014175779667881734 0.8917839271482512 1.2580645161290323\n",
      "Validation loss 0.46246334310850434 NOT improved\n",
      "0.11475409836065574 0.012150668286755772 0.8984112674584199 1.1935483870967742\n",
      "Validation loss 0.4010576414595452 NOT improved\n",
      "0.07913669064748201 0.015593357634669907 0.8927997491474935 1.4193548387096775\n",
      "Validation loss 0.5698073799025296 NOT improved\n",
      "0.0 0.0006075334143377885 0.8909412195090084 0.04838709677419355\n",
      "Validation loss 0.9661290322580645 NOT improved\n",
      "0.047619047619047616 0.0002025111381125962 0.9173068631677969 0.06451612903225806\n",
      "Validation loss 0.940552995391705 NOT improved\n",
      "0.08641975308641975 0.0038477116241393276 0.8907321757535375 0.41935483870967744\n",
      "Validation loss 0.6805256869772998 NOT improved\n",
      "0.0 0.0002025111381125962 0.8701772952351088 0.016129032258064516\n",
      "Validation loss 0.9887096774193549 NOT improved\n",
      "0.0 0.0 0.9075895948470714 0.0\n",
      "Validation loss 1.0 NOT improved\n",
      "0.043478260869565216 0.0014175779667881733 0.904489867910477 0.16129032258064516\n",
      "Validation loss 0.8740532959326788 NOT improved\n"
     ]
    },
    {
     "ename": "KeyboardInterrupt",
     "evalue": "",
     "output_type": "error",
     "traceback": [
      "\u001b[0;31m---------------------------------------------------------------------------\u001b[0m",
      "\u001b[0;31mKeyboardInterrupt\u001b[0m                         Traceback (most recent call last)",
      "Input \u001b[0;32mIn [21]\u001b[0m, in \u001b[0;36m<cell line: 15>\u001b[0;34m()\u001b[0m\n\u001b[1;32m     30\u001b[0m \u001b[38;5;28;01mfor\u001b[39;00m j \u001b[38;5;129;01min\u001b[39;00m \u001b[38;5;28mrange\u001b[39m(L_train):\n\u001b[1;32m     32\u001b[0m     ind_storm \u001b[38;5;241m=\u001b[39m du\u001b[38;5;241m.\u001b[39mshuffle_ind(L_storm)\n\u001b[0;32m---> 33\u001b[0m     ind_calm \u001b[38;5;241m=\u001b[39m \u001b[43mdu\u001b[49m\u001b[38;5;241;43m.\u001b[39;49m\u001b[43mshuffle_ind\u001b[49m\u001b[43m(\u001b[49m\u001b[43mL_calm\u001b[49m\u001b[43m)\u001b[49m\n\u001b[1;32m     34\u001b[0m     \u001b[38;5;66;03m# ind_wind = du.shuffle_ind(L_wind)\u001b[39;00m\n\u001b[1;32m     35\u001b[0m     \u001b[38;5;66;03m# ind_hail = du.shuffle_ind(L_hail)\u001b[39;00m\n\u001b[1;32m     36\u001b[0m     ind_aug \u001b[38;5;241m=\u001b[39m du\u001b[38;5;241m.\u001b[39mshuffle_ind(L_aug)\n",
      "File \u001b[0;32m~/NCAR/libs/data_utils.py:24\u001b[0m, in \u001b[0;36mshuffle_ind\u001b[0;34m(L)\u001b[0m\n\u001b[1;32m     19\u001b[0m \u001b[38;5;124;03m'''\u001b[39;00m\n\u001b[1;32m     20\u001b[0m \u001b[38;5;124;03mshuffle indices\u001b[39;00m\n\u001b[1;32m     21\u001b[0m \u001b[38;5;124;03mL: length of dimension\u001b[39;00m\n\u001b[1;32m     22\u001b[0m \u001b[38;5;124;03m'''\u001b[39;00m\n\u001b[1;32m     23\u001b[0m ind \u001b[38;5;241m=\u001b[39m np\u001b[38;5;241m.\u001b[39marange(L)\n\u001b[0;32m---> 24\u001b[0m \u001b[43mnp\u001b[49m\u001b[38;5;241;43m.\u001b[39;49m\u001b[43mrandom\u001b[49m\u001b[38;5;241;43m.\u001b[39;49m\u001b[43mshuffle\u001b[49m\u001b[43m(\u001b[49m\u001b[43mind\u001b[49m\u001b[43m)\u001b[49m\n\u001b[1;32m     25\u001b[0m \u001b[38;5;28;01mreturn\u001b[39;00m ind\n",
      "\u001b[0;31mKeyboardInterrupt\u001b[0m: "
     ]
    }
   ],
   "source": [
    "# ========== Training loop ========== #\n",
    "\n",
    "N_aug = int(np.random.uniform(15, 20))\n",
    "# N_wind = int(np.random.uniform(10, 15))\n",
    "# N_hail = int(np.random.uniform(7, 13))\n",
    "N_storm = int(np.random.uniform(25, 35))\n",
    "N_calm = 100 - N_aug - N_storm\n",
    "\n",
    "L_storm = len(filename_neg_storm)\n",
    "L_calm = len(filename_neg_calm)\n",
    "# L_wind = len(filename_neg_wind)\n",
    "# L_hail = len(filename_neg_hail)\n",
    "L_aug = len(filename_aug)\n",
    "\n",
    "for i in range(epochs):\n",
    "    \n",
    "    if i <= 10:\n",
    "        batch_size_full = 70\n",
    "    if i > 10 and i <= 35:\n",
    "        batch_size_full = 85\n",
    "    if i > 35:\n",
    "        batch_size_full = 95\n",
    "    \n",
    "    batch_size_aug = batch_size - batch_size_full\n",
    "    \n",
    "    #print('epoch = {}'.format(i))\n",
    "    start_time = time.time()\n",
    "    \n",
    "    # loop of batch\n",
    "    for j in range(L_train):\n",
    "        \n",
    "        ind_storm = du.shuffle_ind(L_storm)\n",
    "        ind_calm = du.shuffle_ind(L_calm)\n",
    "        # ind_wind = du.shuffle_ind(L_wind)\n",
    "        # ind_hail = du.shuffle_ind(L_hail)\n",
    "        ind_aug = du.shuffle_ind(L_aug)\n",
    "        \n",
    "        file_pick_storm = []\n",
    "        for ind_temp in ind_storm[:N_storm]:\n",
    "            file_pick_storm.append(filename_neg_storm[ind_temp])\n",
    "            \n",
    "        file_pick_calm = []\n",
    "        for ind_temp in ind_calm[:N_calm]:\n",
    "            file_pick_calm.append(filename_neg_calm[ind_temp])\n",
    "            \n",
    "#         file_pick_wind = []\n",
    "#         for ind_temp in ind_wind[:N_wind]:\n",
    "#             file_pick_wind.append(filename_neg_wind[ind_temp])\n",
    "            \n",
    "#         file_pick_hail = []\n",
    "#         for ind_temp in ind_hail[:N_hail]:\n",
    "#             file_pick_hail.append(filename_neg_hail[ind_temp])\n",
    "\n",
    "        file_pick_aug = []\n",
    "        for ind_temp in ind_aug[:N_aug]:\n",
    "            file_pick_aug.append(filename_aug[ind_temp])\n",
    "        \n",
    "        file_pick = file_pick_storm + file_pick_calm + file_pick_aug\n",
    "        \n",
    "        if len(file_pick) != 100:\n",
    "            sregwet\n",
    "        \n",
    "        for k in range(batch_size):\n",
    "            \n",
    "            data = np.load(file_pick[k])\n",
    "            #for c, v in enumerate(ind_pick_from_batch):\n",
    "            X_batch[k, ...] = data\n",
    "            \n",
    "            if 'pos' in file_pick[k]:\n",
    "                Y_batch[k, :] = np.random.uniform(0.95, 0.99)\n",
    "            elif 'neg' in file_pick[k]:\n",
    "                Y_batch[k, :] = np.random.uniform(0.01, 0.05)\n",
    "            else:\n",
    "                werhgaer\n",
    "        \n",
    "        # # add noise within sparse inputs\n",
    "        # for v in flag_sparse:\n",
    "        #     X_batch[..., v] += np.random.uniform(0, 0.01, size=(batch_size, 128, 128))\n",
    "\n",
    "        # shuffle indices\n",
    "        ind_ = du.shuffle_ind(batch_size)\n",
    "        X_batch = X_batch[ind_, ...]\n",
    "        Y_batch = Y_batch[ind_, :]\n",
    "        \n",
    "        if np.sum(np.isnan(X_batch)) > 0:\n",
    "            asfeargagqarew\n",
    "        \n",
    "        # train on batch\n",
    "        model.train_on_batch([X_batch,], [Y_batch,]);\n",
    "    \n",
    "    # epoch end operations\n",
    "    Y_pred = model.predict([TEST_input,])\n",
    "    record_temp = verif_metric(TEST_target, Y_pred, thres=0.5)\n",
    "    \n",
    "    # if i % 10 == 0:\n",
    "    #     model.save(model_path_backup)\n",
    "    \n",
    "    if (record - record_temp > min_del) and (np.max(Y_pred) > 0.6):\n",
    "        print('Validation loss improved from {} to {}'.format(record, record_temp))\n",
    "        record = record_temp\n",
    "        tol = 0\n",
    "        #print('tol: {}'.format(tol))\n",
    "        # save\n",
    "        print('save to: {}'.format(model_path))\n",
    "        model.save(model_path)\n",
    "    else:\n",
    "        print('Validation loss {} NOT improved'.format(record_temp))\n",
    "        tol += 1\n",
    "        #print('tol: {}'.format(tol))\n",
    "        if tol >= max_tol:\n",
    "            print('Early stopping')\n",
    "            sys.exit();\n",
    "        else:\n",
    "            #print('Pass to the next epoch')\n",
    "            continue;\n",
    "    print(\"--- %s seconds ---\" % (time.time() - start_time))"
   ]
  },
  {
   "cell_type": "code",
   "execution_count": null,
   "id": "982cd373-2ff7-4fa1-b64f-0f4103eb30a2",
   "metadata": {},
   "outputs": [],
   "source": []
  },
  {
   "cell_type": "code",
   "execution_count": 53,
   "id": "910249a6-ead0-426b-9508-ef1c670e402a",
   "metadata": {},
   "outputs": [],
   "source": [
    "batch_dir = '/glade/scratch/ksha/DATA/NCAR_batch/'\n",
    "temp_dir = '/glade/work/ksha/NCAR/Keras_models/'\n",
    "\n",
    "W_old = k_utils.dummy_loader(temp_dir+'VGG_ALL_pp20')\n",
    "model.set_weights(W_old)\n",
    "\n",
    "key = 'VGG_ALL'\n",
    "\n",
    "model_name = '{}_pp20_tune'.format(key)\n",
    "model_path = temp_dir+model_name\n",
    "\n",
    "model.compile(loss=keras.losses.categorical_crossentropy, optimizer=keras.optimizers.Adam(lr=1e-6))"
   ]
  },
  {
   "cell_type": "code",
   "execution_count": 54,
   "id": "6f01895e-ca4c-4de8-b96e-6c4256684232",
   "metadata": {},
   "outputs": [
    {
     "name": "stdout",
     "output_type": "stream",
     "text": [
      "0.12658227848101267 0.01638504864311316 0.9068536130993236 0.8936170212765957\n"
     ]
    }
   ],
   "source": [
    "Y_pred = model.predict([TEST_input,])\n",
    "record = verif_metric(TEST_target, Y_pred, thres=0.5)"
   ]
  },
  {
   "cell_type": "code",
   "execution_count": 55,
   "id": "2905a207-af6b-49e0-8fd0-7ee72db1e669",
   "metadata": {},
   "outputs": [
    {
     "name": "stdout",
     "output_type": "stream",
     "text": [
      "0.12658227848101267 0.01638504864311316 0.9068536130993236 0.8936170212765957\n"
     ]
    }
   ],
   "source": [
    "record = verif_metric(TEST_target, Y_pred, thres=0.5)"
   ]
  },
  {
   "cell_type": "code",
   "execution_count": 56,
   "id": "7afe5c91-3078-46c7-baa3-eaf3de275109",
   "metadata": {},
   "outputs": [
    {
     "data": {
      "text/plain": [
       "[<matplotlib.lines.Line2D at 0x2b19c99a18e0>]"
      ]
     },
     "execution_count": 56,
     "metadata": {},
     "output_type": "execute_result"
    },
    {
     "data": {
      "image/png": "[encoded data removed]",
      "text/plain": [
       "<Figure size 432x288 with 1 Axes>"
      ]
     },
     "metadata": {
      "needs_background": "light"
     },
     "output_type": "display_data"
    }
   ],
   "source": [
    "plt.plot(Y_pred.ravel())\n",
    "plt.plot(TEST_target.ravel())"
   ]
  },
  {
   "cell_type": "code",
   "execution_count": null,
   "id": "712dd196-b125-4909-8c11-6b61c31324a6",
   "metadata": {},
   "outputs": [
    {
     "name": "stdout",
     "output_type": "stream",
     "text": [
      "0.10416666666666667 0.025089605734767026 0.9064832064145724 1.2553191489361701\n",
      "Validation loss 0.7677304964539008 NOT improved\n",
      "0.1134020618556701 0.025601638504864313 0.9051432057609134 1.297872340425532\n",
      "Validation loss 0.7688528186005703 NOT improved\n",
      "0.14 0.02713773681515617 0.9064777592574434 1.425531914893617\n",
      "Validation loss 0.7731063829787235 NOT improved\n",
      "0.12121212121212122 0.026625704045058884 0.9043588151343814 1.3617021276595744\n",
      "Validation loss 0.775370728562218 NOT improved\n",
      "0.12371134020618557 0.025601638504864313 0.903509058622305 1.3191489361702127\n",
      "Validation loss 0.7648607150690941 NOT improved\n",
      "0.11578947368421053 0.02457757296466974 0.9043914980771536 1.2553191489361701\n",
      "Validation loss 0.7584322508398657 NOT improved\n",
      "0.11702127659574468 0.024065540194572452 0.9040973515922041 1.2340425531914894\n",
      "Validation loss 0.7531914893617021 NOT improved\n",
      "0.11363636363636363 0.020993343573988736 0.9006983255438987 1.0851063829787233\n",
      "Validation loss 0.7261121856866538 NOT improved\n",
      "0.12087912087912088 0.022529441884280594 0.8996306827466746 1.1702127659574468\n",
      "Validation loss 0.7373392564881928 NOT improved\n",
      "0.11363636363636363 0.020993343573988736 0.8996960486322189 1.0851063829787233\n",
      "Validation loss 0.7261121856866538 NOT improved\n",
      "0.11363636363636363 0.020993343573988736 0.8993474305759823 1.0851063829787233\n",
      "Validation loss 0.7261121856866538 NOT improved\n",
      "0.11956521739130435 0.02304147465437788 0.9031386519375537 1.1914893617021276\n",
      "Validation loss 0.742645698427382 NOT improved\n",
      "0.11904761904761904 0.01894521249359959 0.8990314954625181 1.0\n",
      "Validation loss improved from 0.7200107729598708 to 0.7047619047619048\n",
      "save to: /glade/work/ksha/NCAR/Keras_models/VGG_ALL_pp20_tune\n",
      "INFO:tensorflow:Assets written to: /glade/work/ksha/NCAR/Keras_models/VGG_ALL_pp20_tune/assets\n",
      "--- 254.75481486320496 seconds ---\n",
      "0.11956521739130435 0.02304147465437788 0.9029861315379503 1.1914893617021276\n",
      "Validation loss 0.742645698427382 NOT improved\n",
      "0.11956521739130435 0.02304147465437788 0.9031059689947817 1.1914893617021276\n",
      "Validation loss 0.742645698427382 NOT improved\n",
      "0.11827956989247312 0.023553507424475168 0.9042607663060648 1.2127659574468086\n",
      "Validation loss 0.7479295355753833 NOT improved\n",
      "0.12643678160919541 0.02048131080389145 0.9031059689947817 1.0851063829787233\n",
      "Validation loss 0.7158718513083885 NOT improved\n",
      "0.125 0.020993343573988736 0.9030732860520095 1.1063829787234043\n",
      "Validation loss 0.721276595744681 NOT improved\n",
      "0.11494252873563218 0.02048131080389145 0.9010033663431055 1.0638297872340425\n",
      "Validation loss 0.7208119344583028 NOT improved\n",
      "0.11764705882352941 0.01945724526369688 0.8994563737185561 1.0212765957446808\n",
      "Validation loss 0.7101376720901127 NOT improved\n",
      "0.12222222222222222 0.022017409114183307 0.9002080814023162 1.148936170212766\n",
      "Validation loss 0.7320094562647755 NOT improved\n",
      "0.12987012987012986 0.015360983102918587 0.8990423897767755 0.851063829787234\n",
      "Validation loss 0.7258911301464493 NOT improved\n",
      "0.13253012048192772 0.018433179723502304 0.8995653168611303 1.0\n",
      "Validation loss improved from 0.7047619047619048 to 0.6939759036144579\n",
      "save to: /glade/work/ksha/NCAR/Keras_models/VGG_ALL_pp20_tune\n",
      "INFO:tensorflow:Assets written to: /glade/work/ksha/NCAR/Keras_models/VGG_ALL_pp20_tune/assets\n",
      "--- 254.77304482460022 seconds ---\n",
      "0.11904761904761904 0.01894521249359959 0.8912965323397719 1.0\n",
      "Validation loss 0.7047619047619048 NOT improved\n",
      "0.12643678160919541 0.02048131080389145 0.8983124707215304 1.0851063829787233\n",
      "Validation loss 0.7158718513083885 NOT improved\n",
      "0.12643678160919541 0.02048131080389145 0.8963732827837151 1.0851063829787233\n",
      "Validation loss 0.7158718513083885 NOT improved\n",
      "0.12941176470588237 0.01945724526369688 0.8955235262716388 1.0425531914893618\n",
      "Validation loss 0.7049812265331665 NOT improved\n",
      "0.12941176470588237 0.01945724526369688 0.8987264546633112 1.0425531914893618\n",
      "Validation loss 0.7049812265331665 NOT improved\n",
      "0.12941176470588237 0.01945724526369688 0.8945648266169886 1.0425531914893618\n",
      "Validation loss 0.7049812265331665 NOT improved\n",
      "0.14942528735632185 0.02048131080389145 0.8974082426381672 1.127659574468085\n",
      "Validation loss 0.7059916850085596 NOT improved\n",
      "0.13580246913580246 0.017409114183307733 0.8988789750629146 0.9574468085106383\n",
      "Validation loss 0.6998686629892305 NOT improved\n",
      "0.1111111111111111 0.017409114183307733 0.8933337691059037 0.9148936170212766\n",
      "Validation loss 0.7281323877068558 NOT improved\n",
      "0.13333333333333333 0.014336917562724014 0.8949134446732251 0.8085106382978723\n",
      "Validation loss 0.7316312056737589 NOT improved\n",
      "0.14942528735632185 0.02048131080389145 0.8946084038740182 1.127659574468085\n",
      "Validation loss 0.7059916850085596 NOT improved\n",
      "0.16091954022988506 0.02048131080389145 0.8941181597324357 1.148936170212766\n",
      "Validation loss 0.7010516018586452 NOT improved\n",
      "0.10256410256410256 0.015873015873015872 0.8930723055637263 0.8297872340425532\n",
      "Validation loss 0.7519912711402075 NOT improved\n",
      "0.1111111111111111 0.017409114183307733 0.8927781590787769 0.9148936170212766\n",
      "Validation loss 0.7281323877068558 NOT improved\n",
      "0.1 0.016897081413210446 0.8923750694512533 0.8723404255319149\n",
      "Validation loss 0.7455319148936171 NOT improved\n",
      "0.05194805194805195 0.015360983102918587 0.894325151703326 0.723404255319149\n",
      "Validation loss 0.8137607073777287 NOT improved\n",
      "0.09876543209876543 0.017409114183307733 0.893006939678182 0.8936170212765957\n",
      "Validation loss 0.7422642500656685 NOT improved\n",
      "0.1038961038961039 0.015360983102918587 0.89614450218431 0.8085106382978723\n",
      "Validation loss 0.7551809892235425 NOT improved\n"
     ]
    }
   ],
   "source": [
    "# ========== Training loop ========== #\n",
    "\n",
    "N_aug = int(np.random.uniform(10, 22))\n",
    "# N_wind = int(np.random.uniform(10, 15))\n",
    "# N_hail = int(np.random.uniform(7, 13))\n",
    "N_storm = int(np.random.uniform(14, 32))\n",
    "N_calm = 100 - N_aug - N_storm\n",
    "\n",
    "L_storm = len(filename_neg_storm)\n",
    "L_calm = len(filename_neg_calm)\n",
    "# L_wind = len(filename_neg_wind)\n",
    "# L_hail = len(filename_neg_hail)\n",
    "L_aug = len(filename_aug)\n",
    "\n",
    "for i in range(epochs):\n",
    "    \n",
    "    #print('epoch = {}'.format(i))\n",
    "    start_time = time.time()\n",
    "    \n",
    "    # loop of batch\n",
    "    for j in range(L_train):\n",
    "        \n",
    "        ind_storm = du.shuffle_ind(L_storm)\n",
    "        ind_calm = du.shuffle_ind(L_calm)\n",
    "        # ind_wind = du.shuffle_ind(L_wind)\n",
    "        # ind_hail = du.shuffle_ind(L_hail)\n",
    "        ind_aug = du.shuffle_ind(L_aug)\n",
    "        \n",
    "        file_pick_storm = []\n",
    "        for ind_temp in ind_storm[:N_storm]:\n",
    "            file_pick_storm.append(filename_neg_storm[ind_temp])\n",
    "            \n",
    "        file_pick_calm = []\n",
    "        for ind_temp in ind_calm[:N_calm]:\n",
    "            file_pick_calm.append(filename_neg_calm[ind_temp])\n",
    "            \n",
    "#         file_pick_wind = []\n",
    "#         for ind_temp in ind_wind[:N_wind]:\n",
    "#             file_pick_wind.append(filename_neg_wind[ind_temp])\n",
    "            \n",
    "#         file_pick_hail = []\n",
    "#         for ind_temp in ind_hail[:N_hail]:\n",
    "#             file_pick_hail.append(filename_neg_hail[ind_temp])\n",
    "\n",
    "        file_pick_aug = []\n",
    "        for ind_temp in ind_aug[:N_aug]:\n",
    "            file_pick_aug.append(filename_aug[ind_temp])\n",
    "        \n",
    "        file_pick = file_pick_storm + file_pick_calm + file_pick_aug\n",
    "        \n",
    "        if len(file_pick) != 100:\n",
    "            sregwet\n",
    "        \n",
    "        for k in range(batch_size):\n",
    "            \n",
    "            data = np.load(file_pick[k])\n",
    "            #for c, v in enumerate(ind_pick_from_batch):\n",
    "            X_batch[k, ...] = data\n",
    "            \n",
    "            if 'pos' in file_pick[k]:\n",
    "                Y_batch[k, :] = np.random.uniform(0.95, 0.99)\n",
    "            elif 'neg' in file_pick[k]:\n",
    "                Y_batch[k, :] = np.random.uniform(0.01, 0.05)\n",
    "            else:\n",
    "                werhgaer\n",
    "        \n",
    "        # # add noise within sparse inputs\n",
    "        # for v in flag_sparse:\n",
    "        #     X_batch[..., v] += np.random.uniform(0, 0.01, size=(batch_size, 128, 128))\n",
    "\n",
    "        # shuffle indices\n",
    "        ind_ = du.shuffle_ind(batch_size)\n",
    "        X_batch = X_batch[ind_, ...]\n",
    "        Y_batch = Y_batch[ind_, :]\n",
    "        \n",
    "        if np.sum(np.isnan(X_batch)) > 0:\n",
    "            asfeargagqarew\n",
    "        \n",
    "        # train on batch\n",
    "        model.train_on_batch([X_batch,], [Y_batch,]);\n",
    "    \n",
    "    # epoch end operations\n",
    "    Y_pred = model.predict([TEST_input,])\n",
    "    record_temp = verif_metric(TEST_target, Y_pred, thres=0.5)\n",
    "    \n",
    "    # if i % 10 == 0:\n",
    "    #     model.save(model_path_backup)\n",
    "    \n",
    "    if (record - record_temp > min_del) and (np.max(Y_pred) > 0.6):\n",
    "        print('Validation loss improved from {} to {}'.format(record, record_temp))\n",
    "        record = record_temp\n",
    "        tol = 0\n",
    "        #print('tol: {}'.format(tol))\n",
    "        # save\n",
    "        print('save to: {}'.format(model_path))\n",
    "        model.save(model_path)\n",
    "    else:\n",
    "        print('Validation loss {} NOT improved'.format(record_temp))\n",
    "        tol += 1\n",
    "        #print('tol: {}'.format(tol))\n",
    "        if tol >= max_tol:\n",
    "            print('Early stopping')\n",
    "            sys.exit();\n",
    "        else:\n",
    "            #print('Pass to the next epoch')\n",
    "            continue;\n",
    "    print(\"--- %s seconds ---\" % (time.time() - start_time))"
   ]
  },
  {
   "cell_type": "code",
   "execution_count": null,
   "id": "7a5ae18b-f5b3-46de-9107-8ed0be93b4b4",
   "metadata": {},
   "outputs": [],
   "source": []
  },
  {
   "cell_type": "code",
   "execution_count": null,
   "id": "06d92f3d-a841-438c-b9aa-101a685701fe",
   "metadata": {},
   "outputs": [],
   "source": []
  },
  {
   "cell_type": "code",
   "execution_count": null,
   "id": "a45cb3aa-1530-4e77-ac06-e9d11d8fa777",
   "metadata": {},
   "outputs": [],
   "source": []
  },
  {
   "cell_type": "code",
   "execution_count": null,
   "id": "3b23baaa-074e-469c-b70c-0d62bb2017b1",
   "metadata": {},
   "outputs": [],
   "source": []
  },
  {
   "cell_type": "code",
   "execution_count": 50,
   "id": "a10ad74d-a79e-4e17-8114-21a96b97d675",
   "metadata": {},
   "outputs": [],
   "source": [
    "batch_dir = '/glade/scratch/ksha/DATA/NCAR_batch/'\n",
    "temp_dir = '/glade/work/ksha/NCAR/Keras_models/'\n",
    "\n",
    "key = 'TH_chad'\n",
    "model_name = '{}_pp20'.format(key)\n",
    "model_path = temp_dir+model_name\n",
    "\n",
    "W = k_utils.dummy_loader(model_path)\n",
    "model.set_weights(W)"
   ]
  },
  {
   "cell_type": "markdown",
   "id": "9a58e8ce-edd1-4847-ad19-5381d63790f7",
   "metadata": {},
   "source": [
    "### Classification results"
   ]
  },
  {
   "cell_type": "code",
   "execution_count": 9,
   "id": "2b99b905-5d90-4c77-90f2-12fd1e73dc19",
   "metadata": {},
   "outputs": [],
   "source": [
    "from sklearn.metrics import classification_report, auc, roc_curve"
   ]
  },
  {
   "cell_type": "code",
   "execution_count": 53,
   "id": "99e261c3-c989-4332-b3e2-874e9b65a6e3",
   "metadata": {},
   "outputs": [],
   "source": [
    "#filename_train_pos = sorted(glob(\"/glade/scratch/ksha/DATA/NCAR_batch/*TRAIN*.npy\"))\n",
    "#filename_train_neg = sorted(glob(\"/glade/scratch/ksha/DATA/NCAR_batch_neg/*TRAIN*.npy\"))\n",
    "\n",
    "filename_valid_pos = sorted(glob(\"/glade/scratch/ksha/DATA/NCAR_batch/*VALID*.npy\"))\n",
    "filename_valid_neg = sorted(glob(\"/glade/scratch/ksha/DATA/NCAR_batch_neg/*VALID*.npy\"))"
   ]
  },
  {
   "cell_type": "code",
   "execution_count": 54,
   "id": "9c1cadcb-7898-4e91-b679-278abbb6b873",
   "metadata": {},
   "outputs": [],
   "source": [
    "grid_shape = (128, 128)\n",
    "\n",
    "label_pos = np.ones(len(filename_valid_pos))\n",
    "label_neg = np.zeros(len(filename_valid_neg))\n",
    "VALID_label = np.hstack([label_pos, label_neg])\n",
    "\n",
    "L_valid = len(VALID_label)\n",
    "L_vars = 20\n",
    "L_sparse = len(flag_sparse)\n",
    "L_dense = L_vars - L_sparse\n",
    "\n",
    "VALID_sparse = np.empty((L_valid,)+grid_shape+(L_sparse,))\n",
    "VALID_dense = np.empty((L_valid,)+grid_shape+(L_dense,))\n",
    "\n",
    "for i, filename in enumerate(filename_valid_pos+filename_valid_neg):\n",
    "    data = np.load(filename)\n",
    "    count0 = 0\n",
    "    count1 = 0\n",
    "    for v in range(L_vars):\n",
    "        if v in flag_sparse:\n",
    "            VALID_sparse[i, ..., count0] = data[..., v]\n",
    "            count0 += 1\n",
    "        else:\n",
    "            VALID_dense[i, ..., count1] = data[..., v]\n",
    "            count1 += 1"
   ]
  },
  {
   "cell_type": "code",
   "execution_count": 60,
   "id": "bf0589e8-cef0-42d3-a7f0-b0439807ebae",
   "metadata": {},
   "outputs": [
    {
     "data": {
      "text/plain": [
       "array([1., 1., 1., ..., 0., 0., 0.])"
      ]
     },
     "execution_count": 60,
     "metadata": {},
     "output_type": "execute_result"
    }
   ],
   "source": [
    "VALID_label"
   ]
  },
  {
   "cell_type": "code",
   "execution_count": 55,
   "id": "9888419f-5dab-425f-a7a4-88d31b8d1ff6",
   "metadata": {},
   "outputs": [],
   "source": [
    "# filename_valid_pos = sorted(glob(\"/glade/scratch/ksha/DATA/NCAR_batch/*VALID*.npy\"))[::10]\n",
    "# label_pos = np.ones(len(filename_valid_pos))\n",
    "# label_neg = np.zeros(len(filename_valid_neg))\n",
    "# VALID_label_skew = np.hstack([label_pos, label_neg])\n",
    "\n",
    "# L_valid = len(VALID_label_skew)\n",
    "\n",
    "# VALID_skew = np.empty((L_valid,)+grid_shape+(5,))\n",
    "\n",
    "# for i, filename in enumerate(filename_valid_pos+filename_valid_neg):\n",
    "#     data = np.load(filename)\n",
    "#     VALID_skew[i, ...] = data[...]"
   ]
  },
  {
   "cell_type": "markdown",
   "id": "d4fc6866-d00f-4013-bd6b-663632c5002a",
   "metadata": {},
   "source": [
    "**Balanced verif**"
   ]
  },
  {
   "cell_type": "code",
   "execution_count": 56,
   "id": "8d4368dc-01e6-47d4-b8f9-7878e0549921",
   "metadata": {},
   "outputs": [
    {
     "name": "stderr",
     "output_type": "stream",
     "text": [
      "2022-08-11 17:58:34.004253: W tensorflow/core/framework/cpu_allocator_impl.cc:80] Allocation of 47110422528 exceeds 10% of free system memory.\n"
     ]
    }
   ],
   "source": [
    "Y_pred = model.predict([VALID_dense, VALID_sparse])\n",
    "Y_pred_label = Y_pred > 0.5"
   ]
  },
  {
   "cell_type": "code",
   "execution_count": 57,
   "id": "08258957-c3ef-4617-8326-e4f7d7b5db61",
   "metadata": {},
   "outputs": [
    {
     "name": "stdout",
     "output_type": "stream",
     "text": [
      "              precision    recall  f1-score   support\n",
      "\n",
      "         0.0       1.00      0.53      0.69     55296\n",
      "         1.0       0.00      0.00      0.00         0\n",
      "\n",
      "    accuracy                           0.53     55296\n",
      "   macro avg       0.50      0.27      0.35     55296\n",
      "weighted avg       1.00      0.53      0.69     55296\n",
      "\n"
     ]
    },
    {
     "name": "stderr",
     "output_type": "stream",
     "text": [
      "/glade/work/ksha/anaconda3/lib/python3.9/site-packages/sklearn/metrics/_classification.py:1327: UndefinedMetricWarning: Recall and F-score are ill-defined and being set to 0.0 in labels with no true samples. Use `zero_division` parameter to control this behavior.\n",
      "  _warn_prf(average, modifier, msg_start, len(result))\n",
      "/glade/work/ksha/anaconda3/lib/python3.9/site-packages/sklearn/metrics/_classification.py:1327: UndefinedMetricWarning: Recall and F-score are ill-defined and being set to 0.0 in labels with no true samples. Use `zero_division` parameter to control this behavior.\n",
      "  _warn_prf(average, modifier, msg_start, len(result))\n",
      "/glade/work/ksha/anaconda3/lib/python3.9/site-packages/sklearn/metrics/_classification.py:1327: UndefinedMetricWarning: Recall and F-score are ill-defined and being set to 0.0 in labels with no true samples. Use `zero_division` parameter to control this behavior.\n",
      "  _warn_prf(average, modifier, msg_start, len(result))\n"
     ]
    }
   ],
   "source": [
    "print(classification_report(Y_pred_label.ravel(), VALID_label.ravel()))"
   ]
  },
  {
   "cell_type": "code",
   "execution_count": null,
   "id": "c57f536a-8ebb-430a-8a7a-701e1a1cfe30",
   "metadata": {},
   "outputs": [],
   "source": []
  },
  {
   "cell_type": "code",
   "execution_count": 48,
   "id": "6a6a3bbd-b744-41de-9ae7-fe8acc561e36",
   "metadata": {},
   "outputs": [
    {
     "name": "stdout",
     "output_type": "stream",
     "text": [
      "              precision    recall  f1-score   support\n",
      "\n",
      "       False       0.88      0.78      0.83     33142\n",
      "        True       0.72      0.84      0.77     22154\n",
      "\n",
      "    accuracy                           0.80     55296\n",
      "   macro avg       0.80      0.81      0.80     55296\n",
      "weighted avg       0.81      0.80      0.80     55296\n",
      "\n"
     ]
    }
   ],
   "source": [
    "print(classification_report(Y_pred_label.ravel(), VALID_label.ravel()))"
   ]
  },
  {
   "cell_type": "code",
   "execution_count": 58,
   "id": "e5a6e2f8-1322-4f8e-8abe-43cb2bd376b3",
   "metadata": {},
   "outputs": [
    {
     "data": {
      "text/plain": [
       "0.9319409017491813"
      ]
     },
     "execution_count": 58,
     "metadata": {},
     "output_type": "execute_result"
    }
   ],
   "source": [
    "fpr, tpr, thresholds = roc_curve(VALID_label.ravel(), Y_pred.ravel())\n",
    "auc(fpr, tpr)"
   ]
  },
  {
   "cell_type": "code",
   "execution_count": 17,
   "id": "2f47f4fa-edba-423a-9514-75bdd2d7bb61",
   "metadata": {},
   "outputs": [
    {
     "data": {
      "text/plain": [
       "0.8871815021742365"
      ]
     },
     "execution_count": 17,
     "metadata": {},
     "output_type": "execute_result"
    }
   ],
   "source": [
    "fpr, tpr, thresholds = roc_curve(VALID_label.ravel(), Y_pred.ravel())\n",
    "auc(fpr, tpr)"
   ]
  },
  {
   "cell_type": "code",
   "execution_count": 18,
   "id": "cc8e1093-e978-48c9-95c6-08d88102d200",
   "metadata": {},
   "outputs": [
    {
     "data": {
      "text/plain": [
       "(17970,)"
      ]
     },
     "execution_count": 18,
     "metadata": {},
     "output_type": "execute_result"
    }
   ],
   "source": [
    "fpr.shape"
   ]
  },
  {
   "cell_type": "code",
   "execution_count": 61,
   "id": "488420f2-d399-467d-81f0-87d5dccd9977",
   "metadata": {},
   "outputs": [
    {
     "data": {
      "text/plain": [
       "[<matplotlib.lines.Line2D at 0x2ab52d0c6a60>]"
      ]
     },
     "execution_count": 61,
     "metadata": {},
     "output_type": "execute_result"
    },
    {
     "data": {
      "image/png": "[encoded data removed]",
      "text/plain": [
       "<Figure size 648x648 with 1 Axes>"
      ]
     },
     "metadata": {},
     "output_type": "display_data"
    }
   ],
   "source": [
    "fig = plt.figure(figsize=(9, 9))\n",
    "ax = fig.gca()\n",
    "ax = gu.ax_decorate_box(ax)\n",
    "ax.set_xlim([0, 1])\n",
    "ax.set_ylim([0, 1])\n",
    "ax.plot(fpr, tpr, lw=3)\n",
    "ax.plot(fpr, fpr, 'r--', lw=3)"
   ]
  },
  {
   "cell_type": "code",
   "execution_count": null,
   "id": "133c9a1b-3192-4578-aee5-f08a6eb7523e",
   "metadata": {},
   "outputs": [],
   "source": []
  },
  {
   "cell_type": "markdown",
   "id": "739f0611-6e2f-4dda-af69-a1e549607af4",
   "metadata": {},
   "source": [
    "**Natural verif**"
   ]
  },
  {
   "cell_type": "code",
   "execution_count": 25,
   "id": "db07630c-19ae-4dfa-b798-4888e2c04078",
   "metadata": {},
   "outputs": [
    {
     "name": "stdout",
     "output_type": "stream",
     "text": [
      "              precision    recall  f1-score   support\n",
      "\n",
      "       False       0.88      0.97      0.92     26640\n",
      "        True       0.67      0.33      0.44      5328\n",
      "\n",
      "    accuracy                           0.86     31968\n",
      "   macro avg       0.78      0.65      0.68     31968\n",
      "weighted avg       0.84      0.86      0.84     31968\n",
      "\n"
     ]
    }
   ],
   "source": [
    "Y_pred = model.predict([VALID_skew])\n",
    "Y_pred_label = Y_pred > 0.5\n",
    "print(classification_report(Y_pred_label.ravel(), VALID_label_skew.ravel()))"
   ]
  },
  {
   "cell_type": "code",
   "execution_count": 26,
   "id": "a769d453-96b5-4176-bb5e-3613220b8315",
   "metadata": {},
   "outputs": [
    {
     "data": {
      "text/plain": [
       "0.8685229089653266"
      ]
     },
     "execution_count": 26,
     "metadata": {},
     "output_type": "execute_result"
    }
   ],
   "source": [
    "fpr, tpr, thresholds = roc_curve(VALID_label_skew.ravel(), Y_pred.ravel())\n",
    "auc(fpr, tpr)"
   ]
  },
  {
   "cell_type": "code",
   "execution_count": 27,
   "id": "c67bd384-e1b5-4d56-b2e0-85dc9f612f56",
   "metadata": {},
   "outputs": [
    {
     "data": {
      "text/plain": [
       "[<matplotlib.lines.Line2D at 0x2adf3882e670>]"
      ]
     },
     "execution_count": 27,
     "metadata": {},
     "output_type": "execute_result"
    },
    {
     "data": {
      "image/png": "[encoded data removed]",
      "text/plain": [
       "<Figure size 648x648 with 1 Axes>"
      ]
     },
     "metadata": {},
     "output_type": "display_data"
    }
   ],
   "source": [
    "fig = plt.figure(figsize=(9, 9))\n",
    "ax = fig.gca()\n",
    "ax = gu.ax_decorate_box(ax)\n",
    "ax.set_xlim([0, 1])\n",
    "ax.set_ylim([0, 1])\n",
    "ax.plot(fpr, tpr, lw=3)\n",
    "ax.plot(fpr, fpr, 'r--', lw=3)"
   ]
  },
  {
   "cell_type": "code",
   "execution_count": null,
   "id": "199e7ad9-6499-4cbe-8fab-950948350c5e",
   "metadata": {},
   "outputs": [],
   "source": []
  },
  {
   "cell_type": "code",
   "execution_count": null,
   "id": "5352d3ec-1f56-4324-958c-fc477de4d7d7",
   "metadata": {},
   "outputs": [],
   "source": []
  },
  {
   "cell_type": "code",
   "execution_count": 40,
   "id": "9b0ae141-1281-49d9-b907-d53534521e9f",
   "metadata": {},
   "outputs": [
    {
     "data": {
      "text/plain": [
       "[<matplotlib.lines.Line2D at 0x2ae563144640>]"
      ]
     },
     "execution_count": 40,
     "metadata": {},
     "output_type": "execute_result"
    },
    {
     "data": {
      "image/png": "[encoded data removed]",
      "text/plain": [
       "<Figure size 432x288 with 1 Axes>"
      ]
     },
     "metadata": {
      "needs_background": "light"
     },
     "output_type": "display_data"
    }
   ],
   "source": [
    "plt.plot(Y_pred.ravel()[:10000])\n",
    "plt.plot(VALID_label_skew.ravel()[:10000])"
   ]
  },
  {
   "cell_type": "code",
   "execution_count": 42,
   "id": "63261176-3bb0-4bc2-afd4-e7c683cfb326",
   "metadata": {},
   "outputs": [
    {
     "data": {
      "text/plain": [
       "[<matplotlib.lines.Line2D at 0x2ae56305f7c0>]"
      ]
     },
     "execution_count": 42,
     "metadata": {},
     "output_type": "execute_result"
    },
    {
     "data": {
      "image/png": "[encoded data removed]",
      "text/plain": [
       "<Figure size 432x288 with 1 Axes>"
      ]
     },
     "metadata": {
      "needs_background": "light"
     },
     "output_type": "display_data"
    }
   ],
   "source": [
    "plt.plot(Y_pred.ravel()[:10000]>0.7)\n",
    "plt.plot(VALID_label_skew.ravel()[:10000])"
   ]
  },
  {
   "cell_type": "code",
   "execution_count": null,
   "id": "baaee327-4cd1-4656-b778-8dadbf4a7c2a",
   "metadata": {},
   "outputs": [],
   "source": []
  }
 ],
 "metadata": {
  "kernelspec": {
   "display_name": "Python 3 (ipykernel)",
   "language": "python",
   "name": "python3"
  },
  "language_info": {
   "codemirror_mode": {
    "name": "ipython",
    "version": 3
   },
   "file_extension": ".py",
   "mimetype": "text/x-python",
   "name": "python",
   "nbconvert_exporter": "python",
   "pygments_lexer": "ipython3",
   "version": "3.9.13"
  }
 },
 "nbformat": 4,
 "nbformat_minor": 5
}
