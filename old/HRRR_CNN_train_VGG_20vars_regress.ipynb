{
 "cells": [
  {
   "cell_type": "code",
   "execution_count": 1,
   "id": "ce76310e-2358-43eb-ba0c-188a45af0b5e",
   "metadata": {},
   "outputs": [],
   "source": [
    "# general tools\n",
    "import sys\n",
    "from glob import glob\n",
    "\n",
    "# data tools\n",
    "import time\n",
    "import h5py\n",
    "import random\n",
    "import numpy as np\n",
    "from random import shuffle\n",
    "\n",
    "import matplotlib.pyplot as plt\n",
    "%matplotlib inline"
   ]
  },
  {
   "cell_type": "code",
   "execution_count": 2,
   "id": "ee2f455b-7a16-4d6c-b673-ff37e482f46d",
   "metadata": {},
   "outputs": [
    {
     "name": "stderr",
     "output_type": "stream",
     "text": [
      "2022-08-27 08:54:21.424330: I tensorflow/stream_executor/platform/default/dso_loader.cc:49] Successfully opened dynamic library libcudart.so.10.1\n"
     ]
    }
   ],
   "source": [
    "# deep learning tools\n",
    "import tensorflow as tf\n",
    "from tensorflow import keras\n",
    "\n",
    "from keras_unet_collection import models as k_models\n",
    "from keras_unet_collection import utils as k_utils\n",
    "from keras_unet_collection import layer_utils as k_layers\n",
    "from keras_unet_collection.activations import GELU"
   ]
  },
  {
   "cell_type": "code",
   "execution_count": 3,
   "id": "329c3d14-edd9-49fa-a0b6-c112ea9c7553",
   "metadata": {},
   "outputs": [],
   "source": [
    "sys.path.insert(0, '/glade/u/home/ksha/NCAR/')\n",
    "sys.path.insert(0, '/glade/u/home/ksha/NCAR/libs/')\n",
    "\n",
    "from namelist import *\n",
    "import data_utils as du\n",
    "import graph_utils as gu\n",
    "\n",
    "from sklearn.metrics import classification_report, auc, roc_curve\n",
    "from sklearn.metrics import confusion_matrix\n",
    "\n",
    "import matplotlib.pyplot as plt\n",
    "%matplotlib inline\n",
    "\n",
    "def verif_metric(VALID_target, Y_pred, thres=0.5):\n",
    "\n",
    "    tn, fp, fn, tp = confusion_matrix(VALID_target.ravel(), Y_pred.ravel()>thres).ravel()\n",
    "\n",
    "    CSI = tp/(tp+fn+fp)\n",
    "    CSI_metric = 1 - CSI\n",
    "    \n",
    "    POFD = fp/(tn+fp)\n",
    "    \n",
    "    fpr, tpr, thresholds = roc_curve(VALID_target.ravel(), Y_pred.ravel())\n",
    "    AUC = auc(fpr, tpr)\n",
    "    AUC_metric = 1 - AUC\n",
    "    \n",
    "    freq = (tp+fp)/(tp+fn)\n",
    "    freq_metric = np.abs(freq-1.0)\n",
    "    \n",
    "    print('{} {} {} {}'.format(CSI, POFD, AUC, freq))\n",
    "    metric = 0.3*CSI_metric + 0.7*freq_metric\n",
    "\n",
    "\n",
    "    return metric"
   ]
  },
  {
   "cell_type": "code",
   "execution_count": 4,
   "id": "9e1ee330-cf69-4ead-aa86-42cb0aeec11b",
   "metadata": {},
   "outputs": [],
   "source": [
    "L_vars = 19"
   ]
  },
  {
   "cell_type": "code",
   "execution_count": 5,
   "id": "c181e0e9-cf6a-4fc9-a913-97562ce045c2",
   "metadata": {},
   "outputs": [],
   "source": [
    "filename_neg_storm = sorted(glob(\"/glade/scratch/ksha/DATA/NCAR_batch/*storm*.npy\"))\n",
    "filename_neg_calm = sorted(glob(\"/glade/scratch/ksha/DATA/NCAR_batch/*calm*.npy\"))\n",
    "filename_neg_wind = sorted(glob(\"/glade/scratch/ksha/DATA/NCAR_batch_neg/*wind*.npy\"))\n",
    "filename_neg_hail = sorted(glob(\"/glade/scratch/ksha/DATA/NCAR_batch_neg/*hail*.npy\"))\n",
    "filename_aug = sorted(glob(\"/glade/scratch/ksha/DATA/NCAR_batch_aug/*.npy\"))"
   ]
  },
  {
   "cell_type": "code",
   "execution_count": 9,
   "id": "8a1ca07d-9a52-4d14-94ca-060782457026",
   "metadata": {},
   "outputs": [],
   "source": [
    "with h5py.File(save_dir_scratch+'VALID_real_lead{}.hdf'.format(21), 'r') as h5io:\n",
    "    TEST_input = h5io['TEST_input'][:5000, ...]\n",
    "    TEST_target = h5io['TEST_target'][:5000, ...]\n",
    "    \n",
    "TEST_target[np.isnan(TEST_target)] = 0.0\n"
   ]
  },
  {
   "cell_type": "code",
   "execution_count": 25,
   "id": "ed91e145-4596-42cc-8d5b-961e11f03628",
   "metadata": {},
   "outputs": [],
   "source": [
    "TEST_target[TEST_target!=0] = 1.0"
   ]
  },
  {
   "cell_type": "code",
   "execution_count": 10,
   "id": "7b4b819c-3932-4123-95c3-a639b76942bf",
   "metadata": {},
   "outputs": [
    {
     "name": "stderr",
     "output_type": "stream",
     "text": [
      "2022-08-27 08:55:36.113081: I tensorflow/compiler/jit/xla_cpu_device.cc:41] Not creating XLA devices, tf_xla_enable_xla_devices not set\n",
      "2022-08-27 08:55:37.378083: I tensorflow/stream_executor/platform/default/dso_loader.cc:49] Successfully opened dynamic library libcuda.so.1\n",
      "2022-08-27 08:55:37.453658: I tensorflow/core/common_runtime/gpu/gpu_device.cc:1720] Found device 0 with properties: \n",
      "pciBusID: 0000:b2:00.0 name: Tesla V100-SXM2-32GB computeCapability: 7.0\n",
      "coreClock: 1.53GHz coreCount: 80 deviceMemorySize: 31.75GiB deviceMemoryBandwidth: 836.37GiB/s\n",
      "2022-08-27 08:55:37.453725: I tensorflow/stream_executor/platform/default/dso_loader.cc:49] Successfully opened dynamic library libcudart.so.10.1\n",
      "2022-08-27 08:55:37.678276: I tensorflow/stream_executor/platform/default/dso_loader.cc:49] Successfully opened dynamic library libcublas.so.10\n",
      "2022-08-27 08:55:37.678356: I tensorflow/stream_executor/platform/default/dso_loader.cc:49] Successfully opened dynamic library libcublasLt.so.10\n",
      "2022-08-27 08:55:37.773108: I tensorflow/stream_executor/platform/default/dso_loader.cc:49] Successfully opened dynamic library libcufft.so.10\n",
      "2022-08-27 08:55:37.881579: I tensorflow/stream_executor/platform/default/dso_loader.cc:49] Successfully opened dynamic library libcurand.so.10\n",
      "2022-08-27 08:55:37.997465: I tensorflow/stream_executor/platform/default/dso_loader.cc:49] Successfully opened dynamic library libcusolver.so.10\n",
      "2022-08-27 08:55:38.076188: I tensorflow/stream_executor/platform/default/dso_loader.cc:49] Successfully opened dynamic library libcusparse.so.10\n",
      "2022-08-27 08:55:38.255181: I tensorflow/stream_executor/platform/default/dso_loader.cc:49] Successfully opened dynamic library libcudnn.so.7\n",
      "2022-08-27 08:55:38.256497: I tensorflow/core/common_runtime/gpu/gpu_device.cc:1862] Adding visible gpu devices: 0\n",
      "2022-08-27 08:55:38.281331: I tensorflow/core/platform/cpu_feature_guard.cc:142] This TensorFlow binary is optimized with oneAPI Deep Neural Network Library (oneDNN) to use the following CPU instructions in performance-critical operations:  SSE4.1 SSE4.2 AVX AVX2 AVX512F FMA\n",
      "To enable them in other operations, rebuild TensorFlow with the appropriate compiler flags.\n",
      "2022-08-27 08:55:38.281686: I tensorflow/compiler/jit/xla_gpu_device.cc:99] Not creating XLA devices, tf_xla_enable_xla_devices not set\n",
      "2022-08-27 08:55:38.282407: I tensorflow/core/common_runtime/gpu/gpu_device.cc:1720] Found device 0 with properties: \n",
      "pciBusID: 0000:b2:00.0 name: Tesla V100-SXM2-32GB computeCapability: 7.0\n",
      "coreClock: 1.53GHz coreCount: 80 deviceMemorySize: 31.75GiB deviceMemoryBandwidth: 836.37GiB/s\n",
      "2022-08-27 08:55:38.282447: I tensorflow/stream_executor/platform/default/dso_loader.cc:49] Successfully opened dynamic library libcudart.so.10.1\n",
      "2022-08-27 08:55:38.282483: I tensorflow/stream_executor/platform/default/dso_loader.cc:49] Successfully opened dynamic library libcublas.so.10\n",
      "2022-08-27 08:55:38.282498: I tensorflow/stream_executor/platform/default/dso_loader.cc:49] Successfully opened dynamic library libcublasLt.so.10\n",
      "2022-08-27 08:55:38.282511: I tensorflow/stream_executor/platform/default/dso_loader.cc:49] Successfully opened dynamic library libcufft.so.10\n",
      "2022-08-27 08:55:38.282525: I tensorflow/stream_executor/platform/default/dso_loader.cc:49] Successfully opened dynamic library libcurand.so.10\n",
      "2022-08-27 08:55:38.282539: I tensorflow/stream_executor/platform/default/dso_loader.cc:49] Successfully opened dynamic library libcusolver.so.10\n",
      "2022-08-27 08:55:38.282552: I tensorflow/stream_executor/platform/default/dso_loader.cc:49] Successfully opened dynamic library libcusparse.so.10\n",
      "2022-08-27 08:55:38.282565: I tensorflow/stream_executor/platform/default/dso_loader.cc:49] Successfully opened dynamic library libcudnn.so.7\n",
      "2022-08-27 08:55:38.283577: I tensorflow/core/common_runtime/gpu/gpu_device.cc:1862] Adding visible gpu devices: 0\n",
      "2022-08-27 08:55:38.283637: I tensorflow/stream_executor/platform/default/dso_loader.cc:49] Successfully opened dynamic library libcudart.so.10.1\n",
      "2022-08-27 08:55:41.479345: I tensorflow/core/common_runtime/gpu/gpu_device.cc:1261] Device interconnect StreamExecutor with strength 1 edge matrix:\n",
      "2022-08-27 08:55:41.479504: I tensorflow/core/common_runtime/gpu/gpu_device.cc:1267]      0 \n",
      "2022-08-27 08:55:41.479779: I tensorflow/core/common_runtime/gpu/gpu_device.cc:1280] 0:   N \n",
      "2022-08-27 08:55:41.486528: I tensorflow/core/common_runtime/gpu/gpu_device.cc:1406] Created TensorFlow device (/job:localhost/replica:0/task:0/device:GPU:0 with 30132 MB memory) -> physical GPU (device: 0, name: Tesla V100-SXM2-32GB, pci bus id: 0000:b2:00.0, compute capability: 7.0)\n"
     ]
    }
   ],
   "source": [
    "IN = tf.keras.Input((128, 128, 19))\n",
    "\n",
    "X = IN\n",
    "\n",
    "X = k_layers.CONV_stack(X, 32, kernel_size=3, stack_num=2, dilation_rate=1, activation='GELU', batch_norm=True, name='conv_stack1')\n",
    "X = tf.keras.layers.Conv2D(32, kernel_size=2, strides=(2, 2), padding='valid', use_bias=True, name='stride_conv1')(X)\n",
    "\n",
    "X = k_layers.CONV_stack(X, 64, kernel_size=3, stack_num=2, dilation_rate=1, activation='GELU', batch_norm=True, name='conv_stack2')\n",
    "X = tf.keras.layers.Conv2D(64, kernel_size=2, strides=(2, 2), padding='valid', use_bias=True, name='stride_conv2')(X)\n",
    "\n",
    "X = k_layers.CONV_stack(X, 128, kernel_size=3, stack_num=2, dilation_rate=1, activation='GELU', batch_norm=True, name='conv_stack3')\n",
    "X = tf.keras.layers.Conv2D(128, kernel_size=2, strides=(2, 2), padding='valid', use_bias=True, name='stride_conv3')(X)\n",
    "\n",
    "X = k_layers.CONV_stack(X, 256, kernel_size=3, stack_num=2, dilation_rate=1, activation='GELU', batch_norm=True, name='conv_stack4')\n",
    "X = tf.keras.layers.Conv2D(256, kernel_size=2, strides=(2, 2), padding='valid', use_bias=True, name='stride_conv4')(X)\n",
    "\n",
    "X = k_layers.CONV_stack(X, 512, kernel_size=3, stack_num=2, dilation_rate=1, activation='GELU', batch_norm=True, name='conv_stack5')\n",
    "X = tf.keras.layers.Conv2D(512, kernel_size=2, strides=(2, 2), padding='valid', use_bias=True, name='stride_conv5')(X)\n",
    "\n",
    "D = tf.keras.layers.Flatten()(X)\n",
    "\n",
    "D = tf.keras.layers.Dense(512, use_bias=False, name='dense1')(D)\n",
    "D = tf.keras.layers.BatchNormalization(axis=-1, name='dense_bn1')(D)\n",
    "D = GELU()(D)\n",
    "\n",
    "D = tf.keras.layers.Dense(128, use_bias=False, name='dense2')(D)\n",
    "D = tf.keras.layers.BatchNormalization(axis=-1, name='dense_bn2')(D)\n",
    "D = GELU()(D)\n",
    "\n",
    "D = tf.keras.layers.Dense(1, activation='linear', name='head')(D)\n",
    "#D = tf.keras.layers.Softmax()(D)\n",
    "\n",
    "OUT = D"
   ]
  },
  {
   "cell_type": "code",
   "execution_count": 13,
   "id": "cb49538d-f688-48cb-b35d-17c4ead379c8",
   "metadata": {},
   "outputs": [],
   "source": [
    "model = keras.models.Model(inputs=[IN,], outputs=[OUT,])"
   ]
  },
  {
   "cell_type": "code",
   "execution_count": 14,
   "id": "ca8e6183-6964-467a-8ebe-01b822b8b8f0",
   "metadata": {},
   "outputs": [],
   "source": [
    "tol = 0\n",
    "min_del = 0\n",
    "max_tol = 500 # early stopping with patience\n",
    "\n",
    "epochs = 500\n",
    "L_train = 64\n",
    "batch_size = 100\n",
    "\n",
    "batch_size_half = 50\n",
    "\n",
    "valid_size = 1"
   ]
  },
  {
   "cell_type": "code",
   "execution_count": 15,
   "id": "67244080-0104-4922-9543-941d6318f26a",
   "metadata": {},
   "outputs": [],
   "source": [
    "batch_dir = '/glade/scratch/ksha/DATA/NCAR_batch/'\n",
    "temp_dir = '/glade/work/ksha/NCAR/Keras_models/'\n",
    "\n",
    "key = 'VGG_regress'\n",
    "\n",
    "model_name = '{}_pp20'.format(key)\n",
    "model_path = temp_dir+model_name\n",
    "\n",
    "W_old = k_utils.dummy_loader(temp_dir+'VGG_tornado_pp20')\n",
    "model.set_weights(W_old)\n",
    "\n",
    "model.compile(loss=keras.losses.mean_absolute_error, optimizer=keras.optimizers.Adam(lr=2e-5))"
   ]
  },
  {
   "cell_type": "code",
   "execution_count": 24,
   "id": "f19d371e-4186-49cc-8751-ae5cd93b1251",
   "metadata": {},
   "outputs": [
    {
     "data": {
      "text/plain": [
       "'/glade/scratch/ksha/DATA/NCAR_batch_aug/aug0_day100_pos_indx381_indy443_mag0_lead22.npy'"
      ]
     },
     "execution_count": 24,
     "metadata": {},
     "output_type": "execute_result"
    }
   ],
   "source": [
    "filename_aug[1]"
   ]
  },
  {
   "cell_type": "code",
   "execution_count": 26,
   "id": "b6bf49a3-1b86-484a-b8e2-94cadceb6ce8",
   "metadata": {},
   "outputs": [],
   "source": [
    "# X_batch_sparse = np.empty((batch_size, 128, 128, L_sparse))*np.nan\n",
    "# X_batch_dense = np.empty((batch_size, 128, 128, L_dense))*np.nan\n",
    "X_batch = np.empty((batch_size, 128, 128, L_vars))\n",
    "Y_batch = np.empty((batch_size, 1))\n",
    "X_batch[...] = np.nan\n",
    "Y_batch[...] = np.nan"
   ]
  },
  {
   "cell_type": "code",
   "execution_count": 27,
   "id": "c9c63cfd-6675-4ed1-a369-0e11a0d75f56",
   "metadata": {},
   "outputs": [
    {
     "name": "stdout",
     "output_type": "stream",
     "text": [
      "Initial record: 999\n"
     ]
    }
   ],
   "source": [
    "#Y_pred = model.predict([VALID_X])\n",
    "record = 999 #np.nanmean(np.abs(Y_pred-VALID_Y))\n",
    "print(\"Initial record: {}\".format(record))"
   ]
  },
  {
   "cell_type": "code",
   "execution_count": 28,
   "id": "842940ff-c806-4094-96e5-71b903fe9276",
   "metadata": {},
   "outputs": [
    {
     "data": {
      "text/plain": [
       "[PhysicalDevice(name='/physical_device:GPU:0', device_type='GPU')]"
      ]
     },
     "execution_count": 28,
     "metadata": {},
     "output_type": "execute_result"
    }
   ],
   "source": [
    "tf.config.list_physical_devices('GPU')"
   ]
  },
  {
   "cell_type": "code",
   "execution_count": 37,
   "id": "7bc8fcbf-6dfa-4d4f-bb1c-b8d00f4070d7",
   "metadata": {},
   "outputs": [],
   "source": [
    "#from sklearn.metrics import classification_report, auc, roc_curve"
   ]
  },
  {
   "cell_type": "code",
   "execution_count": null,
   "id": "ca6e5ad6-0941-4737-88f1-6df2077dba9d",
   "metadata": {},
   "outputs": [
    {
     "name": "stdout",
     "output_type": "stream",
     "text": [
      "0.0 0.0 0.9457245263696876 0.0\n",
      "Validation loss 1.0 NOT improved\n",
      "0.03571428571428571 0.015027048687637748 0.9724170172978027 8.666666666666666\n",
      "Validation loss 5.655952380952381 NOT improved\n",
      "0.022727272727272728 0.033460228411140054 0.9644025913310625 19.0\n",
      "Validation loss 12.893181818181818 NOT improved\n",
      "0.02631578947368421 0.043878982167902224 0.9666956076493244 25.0\n",
      "Validation loss 17.09210526315789 NOT improved\n",
      "0.02390438247011952 0.0484872770987778 0.9633340012021638 27.555555555555557\n",
      "Validation loss 18.881717574147853 NOT improved\n",
      "0.005780346820809248 0.03285914646363454 0.9539615752799483 18.333333333333332\n",
      "Validation loss 12.431599229287087 NOT improved\n",
      "0.0 0.012823081546784212 0.9234844943119838 7.111111111111111\n",
      "Validation loss 4.577777777777777 NOT improved\n",
      "0.02926829268292683 0.03927068723702665 0.96177564059752 22.444444444444443\n",
      "Validation loss 15.302330623306231 NOT improved\n",
      "0.02 0.03826888399118413 0.9580133128520225 21.666666666666668\n",
      "Validation loss 14.760666666666667 NOT improved\n",
      "0.010101010101010102 0.037868162692847124 0.95062223112714 21.22222222222222\n",
      "Validation loss 14.45252525252525 NOT improved\n",
      "0.023255813953488372 0.049889801642957324 0.9550746899975512 28.333333333333332\n",
      "Validation loss 19.426356589147286 NOT improved\n",
      "0.0 0.02544580244439992 0.8851933480264476 14.11111111111111\n",
      "Validation loss 9.477777777777778 NOT improved\n",
      "0.020338983050847456 0.05730314566219195 0.9550301654088471 32.44444444444444\n",
      "Validation loss 22.305009416195855 NOT improved\n",
      "0.020771513353115726 0.06571829292726908 0.9560987555377457 37.22222222222222\n",
      "Validation loss 25.64932410154962 NOT improved\n",
      "0.028037383177570093 0.06251252254057303 0.9614639684765912 35.666666666666664\n",
      "Validation loss 24.558255451713393 NOT improved\n",
      "0.023872679045092837 0.07373271889400922 0.9515572474899263 41.888888888888886\n",
      "Validation loss 28.915060418508688 NOT improved\n",
      "0.012254901960784314 0.07994389901823282 0.9287161334847169 44.888888888888886\n",
      "Validation loss 31.018545751633983 NOT improved\n"
     ]
    }
   ],
   "source": [
    "# ========== Training loop ========== #\n",
    "\n",
    "N_aug = int(np.random.uniform(10, 15))\n",
    "N_wind = int(np.random.uniform(10, 15))\n",
    "N_hail = int(np.random.uniform(7, 13))\n",
    "N_storm = int(np.random.uniform(25, 35))\n",
    "N_calm = 100 - N_aug - N_wind - N_hail - N_storm\n",
    "\n",
    "L_storm = len(filename_neg_storm)\n",
    "L_calm = len(filename_neg_calm)\n",
    "L_wind = len(filename_neg_wind)\n",
    "L_hail = len(filename_neg_hail)\n",
    "L_aug = len(filename_aug)\n",
    "\n",
    "for i in range(epochs):\n",
    "        \n",
    "    #print('epoch = {}'.format(i))\n",
    "    start_time = time.time()\n",
    "    \n",
    "    # loop of batch\n",
    "    for j in range(L_train):\n",
    "        \n",
    "        ind_storm = du.shuffle_ind(L_storm)\n",
    "        ind_calm = du.shuffle_ind(L_calm)\n",
    "        ind_wind = du.shuffle_ind(L_wind)\n",
    "        ind_hail = du.shuffle_ind(L_hail)\n",
    "        ind_aug = du.shuffle_ind(L_aug)\n",
    "        \n",
    "        file_pick_storm = []\n",
    "        for ind_temp in ind_storm[:N_storm]:\n",
    "            file_pick_storm.append(filename_neg_storm[ind_temp])\n",
    "            \n",
    "        file_pick_calm = []\n",
    "        for ind_temp in ind_calm[:N_calm]:\n",
    "            file_pick_calm.append(filename_neg_calm[ind_temp])\n",
    "            \n",
    "        file_pick_wind = []\n",
    "        for ind_temp in ind_wind[:N_wind]:\n",
    "            file_pick_wind.append(filename_neg_wind[ind_temp])\n",
    "            \n",
    "        file_pick_hail = []\n",
    "        for ind_temp in ind_hail[:N_hail]:\n",
    "            file_pick_hail.append(filename_neg_hail[ind_temp])\n",
    "\n",
    "        file_pick_aug = []\n",
    "        for ind_temp in ind_aug[:N_aug]:\n",
    "            file_pick_aug.append(filename_aug[ind_temp])\n",
    "        \n",
    "        file_pick = file_pick_storm + file_pick_calm + file_pick_wind + file_pick_hail + file_pick_aug\n",
    "        \n",
    "        if len(file_pick) != 100:\n",
    "            sregwet\n",
    "        \n",
    "        for k in range(batch_size):\n",
    "            \n",
    "            data = np.load(file_pick[k])\n",
    "            #for c, v in enumerate(ind_pick_from_batch):\n",
    "            X_batch[k, ...] = data\n",
    "            \n",
    "            if 'pos' in file_pick[k]:\n",
    "                Y_batch[k, :] = np.random.uniform(0.95, 0.99)\n",
    "            elif 'neg' in file_pick[k]:\n",
    "                Y_batch[k, :] = np.random.uniform(0.01, 0.05)\n",
    "            else:\n",
    "                werhgaer\n",
    "        \n",
    "        # # add noise within sparse inputs\n",
    "        # for v in flag_sparse:\n",
    "        #     X_batch[..., v] += np.random.uniform(0, 0.01, size=(batch_size, 128, 128))\n",
    "\n",
    "        # shuffle indices\n",
    "        ind_ = du.shuffle_ind(batch_size)\n",
    "        X_batch = X_batch[ind_, ...]\n",
    "        Y_batch = Y_batch[ind_, :]\n",
    "        \n",
    "        if np.sum(np.isnan(X_batch)) > 0:\n",
    "            asfeargagqarew\n",
    "        \n",
    "        # train on batch\n",
    "        model.train_on_batch([X_batch,], [Y_batch,]);\n",
    "    \n",
    "    # epoch end operations\n",
    "    Y_pred = model.predict([TEST_input,])\n",
    "    \n",
    "    if np.max(Y_pred) > 1.0:\n",
    "        Y_pred = Y_pred / np.max(Y_pred)\n",
    "        \n",
    "    record_temp = verif_metric(TEST_target, Y_pred, thres=0.5)\n",
    "    \n",
    "    # if i % 10 == 0:\n",
    "    #     model.save(model_path_backup)\n",
    "    \n",
    "    if (record - record_temp > min_del) and (np.max(Y_pred) > 0.6):\n",
    "        print('Validation loss improved from {} to {}'.format(record, record_temp))\n",
    "        record = record_temp\n",
    "        tol = 0\n",
    "        #print('tol: {}'.format(tol))\n",
    "        # save\n",
    "        print('save to: {}'.format(model_path))\n",
    "        model.save(model_path)\n",
    "    else:\n",
    "        print('Validation loss {} NOT improved'.format(record_temp))\n",
    "        tol += 1\n",
    "        #print('tol: {}'.format(tol))\n",
    "        if tol >= max_tol:\n",
    "            print('Early stopping')\n",
    "            sys.exit();\n",
    "        else:\n",
    "            #print('Pass to the next epoch')\n",
    "            continue;\n",
    "    print(\"--- %s seconds ---\" % (time.time() - start_time))"
   ]
  },
  {
   "cell_type": "code",
   "execution_count": null,
   "id": "982cd373-2ff7-4fa1-b64f-0f4103eb30a2",
   "metadata": {},
   "outputs": [],
   "source": []
  },
  {
   "cell_type": "code",
   "execution_count": 31,
   "id": "910249a6-ead0-426b-9508-ef1c670e402a",
   "metadata": {},
   "outputs": [],
   "source": [
    "batch_dir = '/glade/scratch/ksha/DATA/NCAR_batch/'\n",
    "temp_dir = '/glade/work/ksha/NCAR/Keras_models/'\n",
    "\n",
    "key = 'TH_chad'\n",
    "model_name = '{}_pp20'.format(key)\n",
    "model_path = temp_dir+model_name\n",
    "\n",
    "W = k_utils.dummy_loader(model_path)\n",
    "model.set_weights(W)\n",
    "\n",
    "model.compile(loss=keras.losses.mean_absolute_error, optimizer=keras.optimizers.Adam(lr=2.5e-6))\n",
    "\n",
    "model_name = '{}_pp20_tune'.format(key)\n",
    "model_path = temp_dir+model_name"
   ]
  },
  {
   "cell_type": "code",
   "execution_count": 32,
   "id": "d88473a6-83c9-403c-9ba1-83d76e5daf4e",
   "metadata": {},
   "outputs": [
    {
     "name": "stdout",
     "output_type": "stream",
     "text": [
      "0.10375657098555346\n"
     ]
    }
   ],
   "source": [
    "#Y_pred = model.predict([VALID_dense, VALID_sparse])\n",
    "\n",
    "fpr, tpr, thresholds = roc_curve(VALID_label.ravel(), Y_pred.ravel())\n",
    "record_temp = auc(fpr, tpr)\n",
    "record_temp = 1 - record_temp\n",
    "\n",
    "print(record_temp)"
   ]
  },
  {
   "cell_type": "code",
   "execution_count": 33,
   "id": "658ff191-1a50-4065-87ae-1a94b48219af",
   "metadata": {},
   "outputs": [
    {
     "data": {
      "text/plain": [
       "0.8962434290144465"
      ]
     },
     "execution_count": 33,
     "metadata": {},
     "output_type": "execute_result"
    }
   ],
   "source": [
    "auc(fpr, tpr)"
   ]
  },
  {
   "cell_type": "code",
   "execution_count": 34,
   "id": "04b5266e-348c-442b-a096-a74502d5fc26",
   "metadata": {},
   "outputs": [
    {
     "data": {
      "text/plain": [
       "array([1., 1., 1., ..., 0., 0., 0.])"
      ]
     },
     "execution_count": 34,
     "metadata": {},
     "output_type": "execute_result"
    }
   ],
   "source": [
    "VALID_label.ravel()"
   ]
  },
  {
   "cell_type": "code",
   "execution_count": 38,
   "id": "7afe5c91-3078-46c7-baa3-eaf3de275109",
   "metadata": {},
   "outputs": [
    {
     "data": {
      "text/plain": [
       "[<matplotlib.lines.Line2D at 0x2b2189395760>]"
      ]
     },
     "execution_count": 38,
     "metadata": {},
     "output_type": "execute_result"
    },
    {
     "data": {
      "image/png": "[encoded data removed]",
      "text/plain": [
       "<Figure size 432x288 with 1 Axes>"
      ]
     },
     "metadata": {
      "needs_background": "light"
     },
     "output_type": "display_data"
    }
   ],
   "source": [
    "plt.plot(Y_pred.ravel())\n",
    "plt.plot(TEST_target.ravel())"
   ]
  },
  {
   "cell_type": "code",
   "execution_count": null,
   "id": "712dd196-b125-4909-8c11-6b61c31324a6",
   "metadata": {},
   "outputs": [
    {
     "name": "stdout",
     "output_type": "stream",
     "text": [
      "Validation loss 0.1043951541739152 NOT improved\n",
      "Validation loss 0.12166224398894021 NOT improved\n",
      "Validation loss 0.1341117928968224 NOT improved\n",
      "Validation loss 0.1460073252569566 NOT improved\n",
      "Validation loss 0.1651520833858593 NOT improved\n",
      "Validation loss 0.185732504685307 NOT improved\n",
      "Validation loss 0.2073937769457681 NOT improved\n",
      "Validation loss 0.2145583704165932 NOT improved\n",
      "Validation loss 0.261279403978519 NOT improved\n",
      "Validation loss 0.22646394834816663 NOT improved\n",
      "Validation loss 0.25116883178276983 NOT improved\n",
      "Validation loss 0.2453876382480733 NOT improved\n",
      "Validation loss 0.2616122866399415 NOT improved\n",
      "Validation loss 0.2609196018119322 NOT improved\n",
      "Validation loss 0.2574970165309398 NOT improved\n",
      "Validation loss 0.2652126719696779 NOT improved\n",
      "Validation loss 0.2625383832749246 NOT improved\n",
      "Validation loss 0.25101795123919013 NOT improved\n",
      "Validation loss 0.26022849275983484 NOT improved\n",
      "Validation loss 0.2515193106085436 NOT improved\n",
      "Validation loss 0.2586230397347653 NOT improved\n",
      "Validation loss 0.25274276928959816 NOT improved\n"
     ]
    }
   ],
   "source": [
    "# ------------------- #\n",
    "# loop of epoch\n",
    "#filenames = glob(batch_dir+'TRAIN*.npy')\n",
    "\n",
    "for i in range(epochs):\n",
    "    #print('epoch = {}'.format(i))\n",
    "    start_time = time.time()\n",
    "    shuffle(filename_train_pos)\n",
    "    shuffle(filename_train_neg)\n",
    "    \n",
    "    # loop of batch\n",
    "    for j in range(L_train):\n",
    "        \n",
    "        shuffle(filename_train_pos)\n",
    "        shuffle(filename_train_neg)\n",
    "        \n",
    "        file_pick_pos = filename_train_pos[:batch_size_half]\n",
    "        file_pick_neg = filename_train_neg[:batch_size_half]\n",
    "        \n",
    "        file_pick = file_pick_pos+file_pick_neg\n",
    "        \n",
    "        # for k in range(batch_size):\n",
    "        #     data = np.load(file_pick[k])\n",
    "        #     X_batch[k, ...] = data[...]\n",
    "        \n",
    "        for k in range(batch_size):\n",
    "            data = np.load(file_pick[k])\n",
    "            count0 = 0\n",
    "            count1 = 0\n",
    "            X_batch[k, ...] = data\n",
    "            for v in range(L_vars):\n",
    "                if v in flag_sparse:\n",
    "                    X_batch_sparse[k, ..., count0] = data[..., v]\n",
    "                    count0 += 1\n",
    "                else:\n",
    "                    X_batch_dense[k, ..., count1] = data[..., v]\n",
    "                    count1 += 1\n",
    "        \n",
    "        #X_batch = X_batch_dense\n",
    "        \n",
    "        Y_batch = np.ones((batch_size, 1))*0.9\n",
    "        Y_batch[batch_size_half:, :] = 0.1\n",
    "        \n",
    "        ind_ = du.shuffle_ind(batch_size)\n",
    "        X_batch = X_batch[ind_, ...]\n",
    "        Y_batch = Y_batch[ind_, :]\n",
    "        \n",
    "        if np.sum(np.isnan(X_batch)) > 0:\n",
    "            asfeargagqarew\n",
    "        \n",
    "        # train on batch\n",
    "        model.train_on_batch([X_batch,], [Y_batch,]);\n",
    "    \n",
    "    # epoch end operations\n",
    "    Y_pred = model.predict([VALID_input])\n",
    "    \n",
    "    fpr, tpr, thresholds = roc_curve(VALID_label.ravel(), Y_pred.ravel())\n",
    "    record_temp = auc(fpr, tpr)\n",
    "    record_temp = 1 - record_temp\n",
    "    \n",
    "    if record - record_temp > min_del:\n",
    "        print('Validation loss improved from {} to {}'.format(record, record_temp))\n",
    "        record = record_temp\n",
    "        tol = 0\n",
    "        #print('tol: {}'.format(tol))\n",
    "        # save\n",
    "        print('save to: {}'.format(model_path))\n",
    "        model.save(model_path)\n",
    "    else:\n",
    "        print('Validation loss {} NOT improved'.format(record_temp))\n",
    "        tol += 1\n",
    "        #print('tol: {}'.format(tol))\n",
    "        if tol >= max_tol:\n",
    "            print('Early stopping')\n",
    "            sys.exit();\n",
    "        else:\n",
    "            #print('Pass to the next epoch')\n",
    "            continue;\n",
    "    print(\"--- %s seconds ---\" % (time.time() - start_time))"
   ]
  },
  {
   "cell_type": "code",
   "execution_count": null,
   "id": "7a5ae18b-f5b3-46de-9107-8ed0be93b4b4",
   "metadata": {},
   "outputs": [],
   "source": []
  },
  {
   "cell_type": "code",
   "execution_count": null,
   "id": "06d92f3d-a841-438c-b9aa-101a685701fe",
   "metadata": {},
   "outputs": [],
   "source": []
  },
  {
   "cell_type": "code",
   "execution_count": null,
   "id": "a45cb3aa-1530-4e77-ac06-e9d11d8fa777",
   "metadata": {},
   "outputs": [],
   "source": []
  },
  {
   "cell_type": "code",
   "execution_count": null,
   "id": "3b23baaa-074e-469c-b70c-0d62bb2017b1",
   "metadata": {},
   "outputs": [],
   "source": []
  },
  {
   "cell_type": "code",
   "execution_count": 50,
   "id": "a10ad74d-a79e-4e17-8114-21a96b97d675",
   "metadata": {},
   "outputs": [],
   "source": [
    "batch_dir = '/glade/scratch/ksha/DATA/NCAR_batch/'\n",
    "temp_dir = '/glade/work/ksha/NCAR/Keras_models/'\n",
    "\n",
    "key = 'TH_chad'\n",
    "model_name = '{}_pp20'.format(key)\n",
    "model_path = temp_dir+model_name\n",
    "\n",
    "W = k_utils.dummy_loader(model_path)\n",
    "model.set_weights(W)"
   ]
  },
  {
   "cell_type": "markdown",
   "id": "9a58e8ce-edd1-4847-ad19-5381d63790f7",
   "metadata": {},
   "source": [
    "### Classification results"
   ]
  },
  {
   "cell_type": "code",
   "execution_count": 9,
   "id": "2b99b905-5d90-4c77-90f2-12fd1e73dc19",
   "metadata": {},
   "outputs": [],
   "source": [
    "from sklearn.metrics import classification_report, auc, roc_curve"
   ]
  },
  {
   "cell_type": "code",
   "execution_count": 53,
   "id": "99e261c3-c989-4332-b3e2-874e9b65a6e3",
   "metadata": {},
   "outputs": [],
   "source": [
    "#filename_train_pos = sorted(glob(\"/glade/scratch/ksha/DATA/NCAR_batch/*TRAIN*.npy\"))\n",
    "#filename_train_neg = sorted(glob(\"/glade/scratch/ksha/DATA/NCAR_batch_neg/*TRAIN*.npy\"))\n",
    "\n",
    "filename_valid_pos = sorted(glob(\"/glade/scratch/ksha/DATA/NCAR_batch/*VALID*.npy\"))\n",
    "filename_valid_neg = sorted(glob(\"/glade/scratch/ksha/DATA/NCAR_batch_neg/*VALID*.npy\"))"
   ]
  },
  {
   "cell_type": "code",
   "execution_count": 54,
   "id": "9c1cadcb-7898-4e91-b679-278abbb6b873",
   "metadata": {},
   "outputs": [],
   "source": [
    "grid_shape = (128, 128)\n",
    "\n",
    "label_pos = np.ones(len(filename_valid_pos))\n",
    "label_neg = np.zeros(len(filename_valid_neg))\n",
    "VALID_label = np.hstack([label_pos, label_neg])\n",
    "\n",
    "L_valid = len(VALID_label)\n",
    "L_vars = 20\n",
    "L_sparse = len(flag_sparse)\n",
    "L_dense = L_vars - L_sparse\n",
    "\n",
    "VALID_sparse = np.empty((L_valid,)+grid_shape+(L_sparse,))\n",
    "VALID_dense = np.empty((L_valid,)+grid_shape+(L_dense,))\n",
    "\n",
    "for i, filename in enumerate(filename_valid_pos+filename_valid_neg):\n",
    "    data = np.load(filename)\n",
    "    count0 = 0\n",
    "    count1 = 0\n",
    "    for v in range(L_vars):\n",
    "        if v in flag_sparse:\n",
    "            VALID_sparse[i, ..., count0] = data[..., v]\n",
    "            count0 += 1\n",
    "        else:\n",
    "            VALID_dense[i, ..., count1] = data[..., v]\n",
    "            count1 += 1"
   ]
  },
  {
   "cell_type": "code",
   "execution_count": 60,
   "id": "bf0589e8-cef0-42d3-a7f0-b0439807ebae",
   "metadata": {},
   "outputs": [
    {
     "data": {
      "text/plain": [
       "array([1., 1., 1., ..., 0., 0., 0.])"
      ]
     },
     "execution_count": 60,
     "metadata": {},
     "output_type": "execute_result"
    }
   ],
   "source": [
    "VALID_label"
   ]
  },
  {
   "cell_type": "code",
   "execution_count": 55,
   "id": "9888419f-5dab-425f-a7a4-88d31b8d1ff6",
   "metadata": {},
   "outputs": [],
   "source": [
    "# filename_valid_pos = sorted(glob(\"/glade/scratch/ksha/DATA/NCAR_batch/*VALID*.npy\"))[::10]\n",
    "# label_pos = np.ones(len(filename_valid_pos))\n",
    "# label_neg = np.zeros(len(filename_valid_neg))\n",
    "# VALID_label_skew = np.hstack([label_pos, label_neg])\n",
    "\n",
    "# L_valid = len(VALID_label_skew)\n",
    "\n",
    "# VALID_skew = np.empty((L_valid,)+grid_shape+(5,))\n",
    "\n",
    "# for i, filename in enumerate(filename_valid_pos+filename_valid_neg):\n",
    "#     data = np.load(filename)\n",
    "#     VALID_skew[i, ...] = data[...]"
   ]
  },
  {
   "cell_type": "markdown",
   "id": "d4fc6866-d00f-4013-bd6b-663632c5002a",
   "metadata": {},
   "source": [
    "**Balanced verif**"
   ]
  },
  {
   "cell_type": "code",
   "execution_count": 56,
   "id": "8d4368dc-01e6-47d4-b8f9-7878e0549921",
   "metadata": {},
   "outputs": [
    {
     "name": "stderr",
     "output_type": "stream",
     "text": [
      "2022-08-11 17:58:34.004253: W tensorflow/core/framework/cpu_allocator_impl.cc:80] Allocation of 47110422528 exceeds 10% of free system memory.\n"
     ]
    }
   ],
   "source": [
    "Y_pred = model.predict([VALID_dense, VALID_sparse])\n",
    "Y_pred_label = Y_pred > 0.5"
   ]
  },
  {
   "cell_type": "code",
   "execution_count": 57,
   "id": "08258957-c3ef-4617-8326-e4f7d7b5db61",
   "metadata": {},
   "outputs": [
    {
     "name": "stdout",
     "output_type": "stream",
     "text": [
      "              precision    recall  f1-score   support\n",
      "\n",
      "         0.0       1.00      0.53      0.69     55296\n",
      "         1.0       0.00      0.00      0.00         0\n",
      "\n",
      "    accuracy                           0.53     55296\n",
      "   macro avg       0.50      0.27      0.35     55296\n",
      "weighted avg       1.00      0.53      0.69     55296\n",
      "\n"
     ]
    },
    {
     "name": "stderr",
     "output_type": "stream",
     "text": [
      "/glade/work/ksha/anaconda3/lib/python3.9/site-packages/sklearn/metrics/_classification.py:1327: UndefinedMetricWarning: Recall and F-score are ill-defined and being set to 0.0 in labels with no true samples. Use `zero_division` parameter to control this behavior.\n",
      "  _warn_prf(average, modifier, msg_start, len(result))\n",
      "/glade/work/ksha/anaconda3/lib/python3.9/site-packages/sklearn/metrics/_classification.py:1327: UndefinedMetricWarning: Recall and F-score are ill-defined and being set to 0.0 in labels with no true samples. Use `zero_division` parameter to control this behavior.\n",
      "  _warn_prf(average, modifier, msg_start, len(result))\n",
      "/glade/work/ksha/anaconda3/lib/python3.9/site-packages/sklearn/metrics/_classification.py:1327: UndefinedMetricWarning: Recall and F-score are ill-defined and being set to 0.0 in labels with no true samples. Use `zero_division` parameter to control this behavior.\n",
      "  _warn_prf(average, modifier, msg_start, len(result))\n"
     ]
    }
   ],
   "source": [
    "print(classification_report(Y_pred_label.ravel(), VALID_label.ravel()))"
   ]
  },
  {
   "cell_type": "code",
   "execution_count": null,
   "id": "c57f536a-8ebb-430a-8a7a-701e1a1cfe30",
   "metadata": {},
   "outputs": [],
   "source": []
  },
  {
   "cell_type": "code",
   "execution_count": 48,
   "id": "6a6a3bbd-b744-41de-9ae7-fe8acc561e36",
   "metadata": {},
   "outputs": [
    {
     "name": "stdout",
     "output_type": "stream",
     "text": [
      "              precision    recall  f1-score   support\n",
      "\n",
      "       False       0.88      0.78      0.83     33142\n",
      "        True       0.72      0.84      0.77     22154\n",
      "\n",
      "    accuracy                           0.80     55296\n",
      "   macro avg       0.80      0.81      0.80     55296\n",
      "weighted avg       0.81      0.80      0.80     55296\n",
      "\n"
     ]
    }
   ],
   "source": [
    "print(classification_report(Y_pred_label.ravel(), VALID_label.ravel()))"
   ]
  },
  {
   "cell_type": "code",
   "execution_count": 58,
   "id": "e5a6e2f8-1322-4f8e-8abe-43cb2bd376b3",
   "metadata": {},
   "outputs": [
    {
     "data": {
      "text/plain": [
       "0.9319409017491813"
      ]
     },
     "execution_count": 58,
     "metadata": {},
     "output_type": "execute_result"
    }
   ],
   "source": [
    "fpr, tpr, thresholds = roc_curve(VALID_label.ravel(), Y_pred.ravel())\n",
    "auc(fpr, tpr)"
   ]
  },
  {
   "cell_type": "code",
   "execution_count": 17,
   "id": "2f47f4fa-edba-423a-9514-75bdd2d7bb61",
   "metadata": {},
   "outputs": [
    {
     "data": {
      "text/plain": [
       "0.8871815021742365"
      ]
     },
     "execution_count": 17,
     "metadata": {},
     "output_type": "execute_result"
    }
   ],
   "source": [
    "fpr, tpr, thresholds = roc_curve(VALID_label.ravel(), Y_pred.ravel())\n",
    "auc(fpr, tpr)"
   ]
  },
  {
   "cell_type": "code",
   "execution_count": 18,
   "id": "cc8e1093-e978-48c9-95c6-08d88102d200",
   "metadata": {},
   "outputs": [
    {
     "data": {
      "text/plain": [
       "(17970,)"
      ]
     },
     "execution_count": 18,
     "metadata": {},
     "output_type": "execute_result"
    }
   ],
   "source": [
    "fpr.shape"
   ]
  },
  {
   "cell_type": "code",
   "execution_count": 61,
   "id": "488420f2-d399-467d-81f0-87d5dccd9977",
   "metadata": {},
   "outputs": [
    {
     "data": {
      "text/plain": [
       "[<matplotlib.lines.Line2D at 0x2ab52d0c6a60>]"
      ]
     },
     "execution_count": 61,
     "metadata": {},
     "output_type": "execute_result"
    },
    {
     "data": {
      "image/png": "[encoded data removed]",
      "text/plain": [
       "<Figure size 648x648 with 1 Axes>"
      ]
     },
     "metadata": {},
     "output_type": "display_data"
    }
   ],
   "source": [
    "fig = plt.figure(figsize=(9, 9))\n",
    "ax = fig.gca()\n",
    "ax = gu.ax_decorate_box(ax)\n",
    "ax.set_xlim([0, 1])\n",
    "ax.set_ylim([0, 1])\n",
    "ax.plot(fpr, tpr, lw=3)\n",
    "ax.plot(fpr, fpr, 'r--', lw=3)"
   ]
  },
  {
   "cell_type": "code",
   "execution_count": null,
   "id": "133c9a1b-3192-4578-aee5-f08a6eb7523e",
   "metadata": {},
   "outputs": [],
   "source": []
  },
  {
   "cell_type": "markdown",
   "id": "739f0611-6e2f-4dda-af69-a1e549607af4",
   "metadata": {},
   "source": [
    "**Natural verif**"
   ]
  },
  {
   "cell_type": "code",
   "execution_count": 25,
   "id": "db07630c-19ae-4dfa-b798-4888e2c04078",
   "metadata": {},
   "outputs": [
    {
     "name": "stdout",
     "output_type": "stream",
     "text": [
      "              precision    recall  f1-score   support\n",
      "\n",
      "       False       0.88      0.97      0.92     26640\n",
      "        True       0.67      0.33      0.44      5328\n",
      "\n",
      "    accuracy                           0.86     31968\n",
      "   macro avg       0.78      0.65      0.68     31968\n",
      "weighted avg       0.84      0.86      0.84     31968\n",
      "\n"
     ]
    }
   ],
   "source": [
    "Y_pred = model.predict([VALID_skew])\n",
    "Y_pred_label = Y_pred > 0.5\n",
    "print(classification_report(Y_pred_label.ravel(), VALID_label_skew.ravel()))"
   ]
  },
  {
   "cell_type": "code",
   "execution_count": 26,
   "id": "a769d453-96b5-4176-bb5e-3613220b8315",
   "metadata": {},
   "outputs": [
    {
     "data": {
      "text/plain": [
       "0.8685229089653266"
      ]
     },
     "execution_count": 26,
     "metadata": {},
     "output_type": "execute_result"
    }
   ],
   "source": [
    "fpr, tpr, thresholds = roc_curve(VALID_label_skew.ravel(), Y_pred.ravel())\n",
    "auc(fpr, tpr)"
   ]
  },
  {
   "cell_type": "code",
   "execution_count": 27,
   "id": "c67bd384-e1b5-4d56-b2e0-85dc9f612f56",
   "metadata": {},
   "outputs": [
    {
     "data": {
      "text/plain": [
       "[<matplotlib.lines.Line2D at 0x2adf3882e670>]"
      ]
     },
     "execution_count": 27,
     "metadata": {},
     "output_type": "execute_result"
    },
    {
     "data": {
      "image/png": "[encoded data removed]",
      "text/plain": [
       "<Figure size 648x648 with 1 Axes>"
      ]
     },
     "metadata": {},
     "output_type": "display_data"
    }
   ],
   "source": [
    "fig = plt.figure(figsize=(9, 9))\n",
    "ax = fig.gca()\n",
    "ax = gu.ax_decorate_box(ax)\n",
    "ax.set_xlim([0, 1])\n",
    "ax.set_ylim([0, 1])\n",
    "ax.plot(fpr, tpr, lw=3)\n",
    "ax.plot(fpr, fpr, 'r--', lw=3)"
   ]
  },
  {
   "cell_type": "code",
   "execution_count": null,
   "id": "199e7ad9-6499-4cbe-8fab-950948350c5e",
   "metadata": {},
   "outputs": [],
   "source": []
  },
  {
   "cell_type": "code",
   "execution_count": null,
   "id": "5352d3ec-1f56-4324-958c-fc477de4d7d7",
   "metadata": {},
   "outputs": [],
   "source": []
  },
  {
   "cell_type": "code",
   "execution_count": 40,
   "id": "9b0ae141-1281-49d9-b907-d53534521e9f",
   "metadata": {},
   "outputs": [
    {
     "data": {
      "text/plain": [
       "[<matplotlib.lines.Line2D at 0x2ae563144640>]"
      ]
     },
     "execution_count": 40,
     "metadata": {},
     "output_type": "execute_result"
    },
    {
     "data": {
      "image/png": "[encoded data removed]",
      "text/plain": [
       "<Figure size 432x288 with 1 Axes>"
      ]
     },
     "metadata": {
      "needs_background": "light"
     },
     "output_type": "display_data"
    }
   ],
   "source": [
    "plt.plot(Y_pred.ravel()[:10000])\n",
    "plt.plot(VALID_label_skew.ravel()[:10000])"
   ]
  },
  {
   "cell_type": "code",
   "execution_count": 42,
   "id": "63261176-3bb0-4bc2-afd4-e7c683cfb326",
   "metadata": {},
   "outputs": [
    {
     "data": {
      "text/plain": [
       "[<matplotlib.lines.Line2D at 0x2ae56305f7c0>]"
      ]
     },
     "execution_count": 42,
     "metadata": {},
     "output_type": "execute_result"
    },
    {
     "data": {
      "image/png": "[encoded data removed]",
      "text/plain": [
       "<Figure size 432x288 with 1 Axes>"
      ]
     },
     "metadata": {
      "needs_background": "light"
     },
     "output_type": "display_data"
    }
   ],
   "source": [
    "plt.plot(Y_pred.ravel()[:10000]>0.7)\n",
    "plt.plot(VALID_label_skew.ravel()[:10000])"
   ]
  },
  {
   "cell_type": "code",
   "execution_count": null,
   "id": "baaee327-4cd1-4656-b778-8dadbf4a7c2a",
   "metadata": {},
   "outputs": [],
   "source": []
  }
 ],
 "metadata": {
  "kernelspec": {
   "display_name": "Python 3 (ipykernel)",
   "language": "python",
   "name": "python3"
  },
  "language_info": {
   "codemirror_mode": {
    "name": "ipython",
    "version": 3
   },
   "file_extension": ".py",
   "mimetype": "text/x-python",
   "name": "python",
   "nbconvert_exporter": "python",
   "pygments_lexer": "ipython3",
   "version": "3.9.13"
  }
 },
 "nbformat": 4,
 "nbformat_minor": 5
}
