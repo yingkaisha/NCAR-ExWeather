{
 "cells": [
  {
   "cell_type": "code",
   "execution_count": 1,
   "id": "ce76310e-2358-43eb-ba0c-188a45af0b5e",
   "metadata": {},
   "outputs": [],
   "source": [
    "# general tools\n",
    "import sys\n",
    "from glob import glob\n",
    "\n",
    "# data tools\n",
    "import time\n",
    "import h5py\n",
    "import random\n",
    "import numpy as np\n",
    "from random import shuffle\n",
    "\n",
    "import matplotlib.pyplot as plt\n",
    "%matplotlib inline"
   ]
  },
  {
   "cell_type": "code",
   "execution_count": 2,
   "id": "ee2f455b-7a16-4d6c-b673-ff37e482f46d",
   "metadata": {},
   "outputs": [
    {
     "name": "stderr",
     "output_type": "stream",
     "text": [
      "2022-09-07 11:27:44.591565: I tensorflow/stream_executor/platform/default/dso_loader.cc:49] Successfully opened dynamic library libcudart.so.10.1\n"
     ]
    }
   ],
   "source": [
    "# deep learning tools\n",
    "import tensorflow as tf\n",
    "from tensorflow import keras\n",
    "from tensorflow.keras import layers\n",
    "tf.config.run_functions_eagerly(True)\n",
    "\n",
    "# from keras_unet_collection import models as k_models\n",
    "from keras_unet_collection import utils as k_utils\n",
    "# from keras_unet_collection import layer_utils as k_layers\n",
    "# from keras_unet_collection.activations import GELU"
   ]
  },
  {
   "cell_type": "code",
   "execution_count": 3,
   "id": "329c3d14-edd9-49fa-a0b6-c112ea9c7553",
   "metadata": {},
   "outputs": [],
   "source": [
    "sys.path.insert(0, '/glade/u/home/ksha/NCAR/')\n",
    "sys.path.insert(0, '/glade/u/home/ksha/NCAR/libs/')\n",
    "\n",
    "from namelist import *\n",
    "import data_utils as du\n",
    "import graph_utils as gu\n",
    "import convnext_keras as ck\n",
    "\n",
    "from sklearn.metrics import classification_report, auc, roc_curve\n",
    "from sklearn.metrics import confusion_matrix\n",
    "\n",
    "import matplotlib.pyplot as plt\n",
    "%matplotlib inline\n",
    "\n"
   ]
  },
  {
   "cell_type": "code",
   "execution_count": 4,
   "id": "a1c2e1ce-3a18-4453-a423-4933848bf089",
   "metadata": {},
   "outputs": [],
   "source": [
    "from importlib import reload"
   ]
  },
  {
   "cell_type": "code",
   "execution_count": 5,
   "id": "a3df16d3-eb0e-4029-a1f8-4e22ffafa066",
   "metadata": {},
   "outputs": [
    {
     "data": {
      "text/plain": [
       "<module 'convnext_keras' from '/glade/u/home/ksha/NCAR/libs/convnext_keras.py'>"
      ]
     },
     "execution_count": 5,
     "metadata": {},
     "output_type": "execute_result"
    }
   ],
   "source": [
    "reload(ck)"
   ]
  },
  {
   "cell_type": "code",
   "execution_count": null,
   "id": "9e1ee330-cf69-4ead-aa86-42cb0aeec11b",
   "metadata": {},
   "outputs": [],
   "source": []
  },
  {
   "cell_type": "code",
   "execution_count": 6,
   "id": "c181e0e9-cf6a-4fc9-a913-97562ce045c2",
   "metadata": {},
   "outputs": [],
   "source": [
    "filename_neg_storm = sorted(glob(\"/glade/scratch/ksha/DATA/NCAR_batch/*neg*.npy\"))\n",
    "filename_pos_storm = sorted(glob(\"/glade/scratch/ksha/DATA/NCAR_batch/*pos*.npy\"))"
   ]
  },
  {
   "cell_type": "code",
   "execution_count": 7,
   "id": "622a7431-745d-4507-af69-064fdfb93cdd",
   "metadata": {},
   "outputs": [],
   "source": [
    "ind_pick_from_batch = [1, 2, 5, 9, 10, 11, 12, 13, 17, 18]\n",
    "L_vars = len(ind_pick_from_batch)"
   ]
  },
  {
   "cell_type": "code",
   "execution_count": 8,
   "id": "2e89d8a9-c6b8-4949-b017-1f286dc448de",
   "metadata": {},
   "outputs": [],
   "source": [
    "with h5py.File(save_dir_scratch+'VALID_real_lead{}.hdf'.format(21), 'r') as h5io:\n",
    "    TEST_input = h5io['TEST_input'][...]\n",
    "    TEST_target = h5io['TEST_target'][...]\n",
    "\n",
    "TEST_target[np.isnan(TEST_target)] = 0.0\n",
    "TEST_target[TEST_target!=0] = 1.0"
   ]
  },
  {
   "cell_type": "code",
   "execution_count": 9,
   "id": "68f47fc2-fe8c-4678-aaf5-02a4b897074a",
   "metadata": {},
   "outputs": [],
   "source": [
    "TEST_input = TEST_input[4000:8000, ...]\n",
    "TEST_target = TEST_target[4000:8000, ...]\n",
    "TEST_input = TEST_input[..., ind_pick_from_batch]"
   ]
  },
  {
   "cell_type": "code",
   "execution_count": 12,
   "id": "1c517d27-725b-47b2-881e-e88ef2474215",
   "metadata": {},
   "outputs": [],
   "source": []
  },
  {
   "cell_type": "code",
   "execution_count": null,
   "id": "31dcde60-5ae9-441e-9b95-9d6c9fa3a9ff",
   "metadata": {},
   "outputs": [],
   "source": []
  },
  {
   "cell_type": "code",
   "execution_count": 11,
   "id": "c0e13585-4095-481a-999d-8bbcc89ecc1b",
   "metadata": {},
   "outputs": [
    {
     "data": {
      "text/plain": [
       "[<matplotlib.lines.Line2D at 0x2ad6eb320cd0>]"
      ]
     },
     "execution_count": 11,
     "metadata": {},
     "output_type": "execute_result"
    },
    {
     "data": {
      "image/png": "[encoded data removed]",
      "text/plain": [
       "<Figure size 640x480 with 1 Axes>"
      ]
     },
     "metadata": {},
     "output_type": "display_data"
    }
   ],
   "source": [
    "plt.plot(TEST_target)"
   ]
  },
  {
   "cell_type": "markdown",
   "id": "26d6c483-697c-43b9-8469-8028e4b819bc",
   "metadata": {},
   "source": [
    "**ConvNext**"
   ]
  },
  {
   "cell_type": "code",
   "execution_count": 13,
   "id": "6151e0af-3479-4b81-a0b9-0c892ed01c1e",
   "metadata": {},
   "outputs": [],
   "source": [
    "MODEL_CONFIGS = {\n",
    "    \"tiny\": {\n",
    "        \"depths\": [3, 3, 9, 3],\n",
    "        \"projection_dims\": [96, 192, 384, 768],\n",
    "    },\n",
    "    \"small\": {\n",
    "        \"depths\": [3, 3, 27, 3],\n",
    "        \"projection_dims\": [96, 192, 384, 768],\n",
    "    },\n",
    "    \"base\": {\n",
    "        \"depths\": [3, 3, 27, 3],\n",
    "        \"projection_dims\": [128, 256, 512, 1024],\n",
    "    },\n",
    "    \"large\": {\n",
    "        \"depths\": [3, 3, 27, 3],\n",
    "        \"projection_dims\": [192, 384, 768, 1536],\n",
    "    },\n",
    "    \"xlarge\": {\n",
    "        \"depths\": [3, 3, 27, 3],\n",
    "        \"projection_dims\": [256, 512, 1024, 2048],\n",
    "    },\n",
    "}"
   ]
  },
  {
   "cell_type": "code",
   "execution_count": 14,
   "id": "93c0bb9e-1949-4aa8-93ec-3b6ded353ea7",
   "metadata": {},
   "outputs": [
    {
     "name": "stderr",
     "output_type": "stream",
     "text": [
      "2022-09-07 11:36:00.992410: I tensorflow/compiler/jit/xla_cpu_device.cc:41] Not creating XLA devices, tf_xla_enable_xla_devices not set\n",
      "2022-09-07 11:36:01.835350: I tensorflow/stream_executor/platform/default/dso_loader.cc:49] Successfully opened dynamic library libcuda.so.1\n",
      "2022-09-07 11:36:01.987817: I tensorflow/core/common_runtime/gpu/gpu_device.cc:1720] Found device 0 with properties: \n",
      "pciBusID: 0000:89:00.0 name: Tesla V100-SXM2-32GB computeCapability: 7.0\n",
      "coreClock: 1.53GHz coreCount: 80 deviceMemorySize: 31.75GiB deviceMemoryBandwidth: 836.37GiB/s\n",
      "2022-09-07 11:36:01.987955: I tensorflow/stream_executor/platform/default/dso_loader.cc:49] Successfully opened dynamic library libcudart.so.10.1\n",
      "2022-09-07 11:36:02.173422: I tensorflow/stream_executor/platform/default/dso_loader.cc:49] Successfully opened dynamic library libcublas.so.10\n",
      "2022-09-07 11:36:02.173745: I tensorflow/stream_executor/platform/default/dso_loader.cc:49] Successfully opened dynamic library libcublasLt.so.10\n",
      "2022-09-07 11:36:02.258472: I tensorflow/stream_executor/platform/default/dso_loader.cc:49] Successfully opened dynamic library libcufft.so.10\n",
      "2022-09-07 11:36:02.364181: I tensorflow/stream_executor/platform/default/dso_loader.cc:49] Successfully opened dynamic library libcurand.so.10\n",
      "2022-09-07 11:36:02.470753: I tensorflow/stream_executor/platform/default/dso_loader.cc:49] Successfully opened dynamic library libcusolver.so.10\n",
      "2022-09-07 11:36:02.548810: I tensorflow/stream_executor/platform/default/dso_loader.cc:49] Successfully opened dynamic library libcusparse.so.10\n",
      "2022-09-07 11:36:02.676649: I tensorflow/stream_executor/platform/default/dso_loader.cc:49] Successfully opened dynamic library libcudnn.so.7\n",
      "2022-09-07 11:36:02.677493: I tensorflow/core/common_runtime/gpu/gpu_device.cc:1862] Adding visible gpu devices: 0\n",
      "2022-09-07 11:36:02.810429: I tensorflow/core/platform/cpu_feature_guard.cc:142] This TensorFlow binary is optimized with oneAPI Deep Neural Network Library (oneDNN) to use the following CPU instructions in performance-critical operations:  SSE4.1 SSE4.2 AVX AVX2 AVX512F FMA\n",
      "To enable them in other operations, rebuild TensorFlow with the appropriate compiler flags.\n",
      "2022-09-07 11:36:02.810656: I tensorflow/compiler/jit/xla_gpu_device.cc:99] Not creating XLA devices, tf_xla_enable_xla_devices not set\n",
      "2022-09-07 11:36:02.811135: I tensorflow/core/common_runtime/gpu/gpu_device.cc:1720] Found device 0 with properties: \n",
      "pciBusID: 0000:89:00.0 name: Tesla V100-SXM2-32GB computeCapability: 7.0\n",
      "coreClock: 1.53GHz coreCount: 80 deviceMemorySize: 31.75GiB deviceMemoryBandwidth: 836.37GiB/s\n",
      "2022-09-07 11:36:02.811165: I tensorflow/stream_executor/platform/default/dso_loader.cc:49] Successfully opened dynamic library libcudart.so.10.1\n",
      "2022-09-07 11:36:02.811188: I tensorflow/stream_executor/platform/default/dso_loader.cc:49] Successfully opened dynamic library libcublas.so.10\n",
      "2022-09-07 11:36:02.811200: I tensorflow/stream_executor/platform/default/dso_loader.cc:49] Successfully opened dynamic library libcublasLt.so.10\n",
      "2022-09-07 11:36:02.811211: I tensorflow/stream_executor/platform/default/dso_loader.cc:49] Successfully opened dynamic library libcufft.so.10\n",
      "2022-09-07 11:36:02.811223: I tensorflow/stream_executor/platform/default/dso_loader.cc:49] Successfully opened dynamic library libcurand.so.10\n",
      "2022-09-07 11:36:02.811234: I tensorflow/stream_executor/platform/default/dso_loader.cc:49] Successfully opened dynamic library libcusolver.so.10\n",
      "2022-09-07 11:36:02.811245: I tensorflow/stream_executor/platform/default/dso_loader.cc:49] Successfully opened dynamic library libcusparse.so.10\n",
      "2022-09-07 11:36:02.811256: I tensorflow/stream_executor/platform/default/dso_loader.cc:49] Successfully opened dynamic library libcudnn.so.7\n",
      "2022-09-07 11:36:02.811778: I tensorflow/core/common_runtime/gpu/gpu_device.cc:1862] Adding visible gpu devices: 0\n",
      "2022-09-07 11:36:02.811831: I tensorflow/stream_executor/platform/default/dso_loader.cc:49] Successfully opened dynamic library libcudart.so.10.1\n",
      "2022-09-07 11:36:05.645057: I tensorflow/core/common_runtime/gpu/gpu_device.cc:1261] Device interconnect StreamExecutor with strength 1 edge matrix:\n",
      "2022-09-07 11:36:05.645095: I tensorflow/core/common_runtime/gpu/gpu_device.cc:1267]      0 \n",
      "2022-09-07 11:36:05.645138: I tensorflow/core/common_runtime/gpu/gpu_device.cc:1280] 0:   N \n",
      "2022-09-07 11:36:05.646435: I tensorflow/core/common_runtime/gpu/gpu_device.cc:1406] Created TensorFlow device (/job:localhost/replica:0/task:0/device:GPU:0 with 30132 MB memory) -> physical GPU (device: 0, name: Tesla V100-SXM2-32GB, pci bus id: 0000:89:00.0, compute capability: 7.0)\n"
     ]
    }
   ],
   "source": [
    "model = ck.ConvNeXt(\n",
    "        depths=MODEL_CONFIGS[\"small\"][\"depths\"],\n",
    "        projection_dims=MODEL_CONFIGS[\"small\"][\"projection_dims\"],\n",
    "        drop_path_rate=0.0,\n",
    "        layer_scale_init_value=1e-6,\n",
    "        model_name='test',\n",
    "        input_shape=(128, 128, 10),\n",
    "        pooling='max',\n",
    "        classes=1,\n",
    "    )#0.5 #0.1 #1e-6"
   ]
  },
  {
   "cell_type": "code",
   "execution_count": 15,
   "id": "23506a64-a232-46d0-92fa-5e28a3b21053",
   "metadata": {},
   "outputs": [],
   "source": [
    "def verif_metric(VALID_target, Y_pred, thres=0.5):\n",
    "\n",
    "    tn, fp, fn, tp = confusion_matrix(VALID_target.ravel(), Y_pred.ravel()>thres).ravel()\n",
    "\n",
    "    CSI = tp/(tp+fn+fp)\n",
    "    CSI_metric = 1 - CSI\n",
    "\n",
    "    fpr, tpr, thresholds = roc_curve(VALID_target.ravel(), Y_pred.ravel())\n",
    "    AUC = auc(fpr, tpr)\n",
    "    AUC_metric = 1 - AUC\n",
    "    \n",
    "    freq = (tp+fp)/(tp+fn)\n",
    "    freq_metric = np.abs(freq-1.0)\n",
    "    \n",
    "    print('{} {} {}'.format(CSI, AUC, freq))\n",
    "    metric = CSI_metric\n",
    "\n",
    "\n",
    "    return metric"
   ]
  },
  {
   "cell_type": "code",
   "execution_count": 16,
   "id": "ca8e6183-6964-467a-8ebe-01b822b8b8f0",
   "metadata": {},
   "outputs": [],
   "source": [
    "tol = 0\n",
    "min_del = 0\n",
    "max_tol = 500 # early stopping with patience\n",
    "\n",
    "epochs = 500\n",
    "L_train = 64\n",
    "batch_size = 100\n",
    "\n",
    "batch_size_half = 50\n",
    "\n",
    "valid_size = 1"
   ]
  },
  {
   "cell_type": "code",
   "execution_count": 63,
   "id": "67244080-0104-4922-9543-941d6318f26a",
   "metadata": {},
   "outputs": [],
   "source": [
    "batch_dir = '/glade/scratch/ksha/DATA/NCAR_batch/'\n",
    "temp_dir = '/glade/work/ksha/NCAR/Keras_models/'\n",
    "\n",
    "key = 'CONVNEXT_L'\n",
    "\n",
    "model_name = '{}_pp10_tune4'.format(key)\n",
    "model_path = temp_dir+model_name\n",
    "\n",
    "W_old = k_utils.dummy_loader(temp_dir+'CONVNEXT_L_pp10_tune3')\n",
    "# W_new = model.get_weights()\n",
    "\n",
    "# for l in range(len(W_new)):\n",
    "#     if W_old[l].shape == W_new[l].shape:\n",
    "#         W_new[l] = W_old[l]\n",
    "        \n",
    "model.set_weights(W_old)\n",
    "\n",
    "model.compile(loss=keras.losses.mean_absolute_error, optimizer=keras.optimizers.SGD(lr=1e-6))"
   ]
  },
  {
   "cell_type": "code",
   "execution_count": 64,
   "id": "b6bf49a3-1b86-484a-b8e2-94cadceb6ce8",
   "metadata": {},
   "outputs": [],
   "source": [
    "# X_batch_sparse = np.empty((batch_size, 128, 128, L_sparse))*np.nan\n",
    "# X_batch_dense = np.empty((batch_size, 128, 128, L_dense))*np.nan\n",
    "X_batch = np.empty((batch_size, 128, 128, L_vars))\n",
    "Y_batch = np.empty((batch_size, 1))\n",
    "X_batch[...] = np.nan\n",
    "Y_batch[...] = np.nan"
   ]
  },
  {
   "cell_type": "code",
   "execution_count": 65,
   "id": "26a2f07f-5f69-4ae0-acfb-92ebe843248a",
   "metadata": {},
   "outputs": [
    {
     "name": "stderr",
     "output_type": "stream",
     "text": [
      "/glade/work/ksha/anaconda3/lib/python3.9/site-packages/tensorflow/python/data/ops/dataset_ops.py:3503: UserWarning: Even though the tf.config.experimental_run_functions_eagerly option is set, this option does not apply to tf.data functions. tf.data functions are still traced and executed as graphs.\n",
      "  warnings.warn(\n"
     ]
    }
   ],
   "source": [
    "Y_pred = model.predict([TEST_input,])"
   ]
  },
  {
   "cell_type": "code",
   "execution_count": 66,
   "id": "0cc658f4-1b4c-4286-862a-406bc3a9a44d",
   "metadata": {},
   "outputs": [
    {
     "name": "stdout",
     "output_type": "stream",
     "text": [
      "0.07627118644067797 0.8700899738715003 4.521739130434782\n",
      "Initial record: 0.923728813559322\n"
     ]
    }
   ],
   "source": [
    "Y_pred[Y_pred<0] = 0\n",
    "Y_pred[Y_pred>1] = 1\n",
    "record = verif_metric(TEST_target, Y_pred, thres=0.5)\n",
    "print(\"Initial record: {}\".format(record))"
   ]
  },
  {
   "cell_type": "code",
   "execution_count": 67,
   "id": "441243c7-e0cc-47fe-a521-b4e0878c22d9",
   "metadata": {},
   "outputs": [
    {
     "data": {
      "text/plain": [
       "[<matplotlib.lines.Line2D at 0x2ad762bb1130>]"
      ]
     },
     "execution_count": 67,
     "metadata": {},
     "output_type": "execute_result"
    },
    {
     "data": {
      "image/png": "[encoded data removed]",
      "text/plain": [
       "<Figure size 640x480 with 1 Axes>"
      ]
     },
     "metadata": {},
     "output_type": "display_data"
    }
   ],
   "source": [
    "plt.plot(TEST_target)\n",
    "plt.plot(Y_pred)"
   ]
  },
  {
   "cell_type": "code",
   "execution_count": 51,
   "id": "842940ff-c806-4094-96e5-71b903fe9276",
   "metadata": {},
   "outputs": [
    {
     "data": {
      "text/plain": [
       "[PhysicalDevice(name='/physical_device:GPU:0', device_type='GPU')]"
      ]
     },
     "execution_count": 51,
     "metadata": {},
     "output_type": "execute_result"
    }
   ],
   "source": [
    "tf.config.list_physical_devices('GPU')"
   ]
  },
  {
   "cell_type": "code",
   "execution_count": 62,
   "id": "ca6e5ad6-0941-4737-88f1-6df2077dba9d",
   "metadata": {},
   "outputs": [
    {
     "name": "stderr",
     "output_type": "stream",
     "text": [
      "/glade/work/ksha/anaconda3/lib/python3.9/site-packages/tensorflow/python/data/ops/dataset_ops.py:3503: UserWarning: Even though the tf.config.experimental_run_functions_eagerly option is set, this option does not apply to tf.data functions. tf.data functions are still traced and executed as graphs.\n",
      "  warnings.warn(\n"
     ]
    },
    {
     "name": "stdout",
     "output_type": "stream",
     "text": [
      "0.07563025210084033 0.8709208382984771 4.565217391304348\n",
      "Validation loss improved from 0.925 to 0.9243697478991597\n",
      "save to: /glade/work/ksha/NCAR/Keras_models/CONVNEXT_L_pp10_tune3\n",
      "INFO:tensorflow:Assets written to: /glade/work/ksha/NCAR/Keras_models/CONVNEXT_L_pp10_tune3/assets\n",
      "--- 259.5207893848419 seconds ---\n"
     ]
    },
    {
     "name": "stderr",
     "output_type": "stream",
     "text": [
      "/glade/work/ksha/anaconda3/lib/python3.9/site-packages/tensorflow/python/data/ops/dataset_ops.py:3503: UserWarning: Even though the tf.config.experimental_run_functions_eagerly option is set, this option does not apply to tf.data functions. tf.data functions are still traced and executed as graphs.\n",
      "  warnings.warn(\n"
     ]
    },
    {
     "name": "stdout",
     "output_type": "stream",
     "text": [
      "0.07627118644067797 0.8700899738715003 4.521739130434782\n",
      "Validation loss improved from 0.9243697478991597 to 0.923728813559322\n",
      "save to: /glade/work/ksha/NCAR/Keras_models/CONVNEXT_L_pp10_tune3\n",
      "INFO:tensorflow:Assets written to: /glade/work/ksha/NCAR/Keras_models/CONVNEXT_L_pp10_tune3/assets\n",
      "--- 257.7446734905243 seconds ---\n"
     ]
    },
    {
     "name": "stderr",
     "output_type": "stream",
     "text": [
      "/glade/work/ksha/anaconda3/lib/python3.9/site-packages/tensorflow/python/data/ops/dataset_ops.py:3503: UserWarning: Even though the tf.config.experimental_run_functions_eagerly option is set, this option does not apply to tf.data functions. tf.data functions are still traced and executed as graphs.\n",
      "  warnings.warn(\n"
     ]
    },
    {
     "name": "stdout",
     "output_type": "stream",
     "text": [
      "0.05982905982905983 0.8689857987777547 4.391304347826087\n",
      "Validation loss 0.9401709401709402 NOT improved\n"
     ]
    },
    {
     "name": "stderr",
     "output_type": "stream",
     "text": [
      "/glade/work/ksha/anaconda3/lib/python3.9/site-packages/tensorflow/python/data/ops/dataset_ops.py:3503: UserWarning: Even though the tf.config.experimental_run_functions_eagerly option is set, this option does not apply to tf.data functions. tf.data functions are still traced and executed as graphs.\n",
      "  warnings.warn(\n"
     ]
    },
    {
     "name": "stdout",
     "output_type": "stream",
     "text": [
      "0.05128205128205128 0.8671928808037519 4.3478260869565215\n",
      "Validation loss 0.9487179487179487 NOT improved\n"
     ]
    },
    {
     "name": "stderr",
     "output_type": "stream",
     "text": [
      "/glade/work/ksha/anaconda3/lib/python3.9/site-packages/tensorflow/python/data/ops/dataset_ops.py:3503: UserWarning: Even though the tf.config.experimental_run_functions_eagerly option is set, this option does not apply to tf.data functions. tf.data functions are still traced and executed as graphs.\n",
      "  warnings.warn(\n"
     ]
    },
    {
     "name": "stdout",
     "output_type": "stream",
     "text": [
      "0.05263157894736842 0.8641208689092719 4.217391304347826\n",
      "Validation loss 0.9473684210526316 NOT improved\n"
     ]
    },
    {
     "name": "stderr",
     "output_type": "stream",
     "text": [
      "/glade/work/ksha/anaconda3/lib/python3.9/site-packages/tensorflow/python/data/ops/dataset_ops.py:3503: UserWarning: Even though the tf.config.experimental_run_functions_eagerly option is set, this option does not apply to tf.data functions. tf.data functions are still traced and executed as graphs.\n",
      "  warnings.warn(\n"
     ]
    },
    {
     "name": "stdout",
     "output_type": "stream",
     "text": [
      "0.05309734513274336 0.863552382722393 4.173913043478261\n",
      "Validation loss 0.9469026548672567 NOT improved\n"
     ]
    },
    {
     "name": "stderr",
     "output_type": "stream",
     "text": [
      "/glade/work/ksha/anaconda3/lib/python3.9/site-packages/tensorflow/python/data/ops/dataset_ops.py:3503: UserWarning: Even though the tf.config.experimental_run_functions_eagerly option is set, this option does not apply to tf.data functions. tf.data functions are still traced and executed as graphs.\n",
      "  warnings.warn(\n"
     ]
    },
    {
     "name": "stdout",
     "output_type": "stream",
     "text": [
      "0.05309734513274336 0.8630494910955385 4.173913043478261\n",
      "Validation loss 0.9469026548672567 NOT improved\n"
     ]
    },
    {
     "name": "stderr",
     "output_type": "stream",
     "text": [
      "/glade/work/ksha/anaconda3/lib/python3.9/site-packages/tensorflow/python/data/ops/dataset_ops.py:3503: UserWarning: Even though the tf.config.experimental_run_functions_eagerly option is set, this option does not apply to tf.data functions. tf.data functions are still traced and executed as graphs.\n",
      "  warnings.warn(\n"
     ]
    },
    {
     "name": "stdout",
     "output_type": "stream",
     "text": [
      "0.05405405405405406 0.8621311672551957 4.086956521739131\n",
      "Validation loss 0.9459459459459459 NOT improved\n"
     ]
    },
    {
     "name": "stderr",
     "output_type": "stream",
     "text": [
      "/glade/work/ksha/anaconda3/lib/python3.9/site-packages/tensorflow/python/data/ops/dataset_ops.py:3503: UserWarning: Even though the tf.config.experimental_run_functions_eagerly option is set, this option does not apply to tf.data functions. tf.data functions are still traced and executed as graphs.\n",
      "  warnings.warn(\n"
     ]
    },
    {
     "name": "stdout",
     "output_type": "stream",
     "text": [
      "0.05405405405405406 0.861551748641646 4.086956521739131\n",
      "Validation loss 0.9459459459459459 NOT improved\n"
     ]
    },
    {
     "name": "stderr",
     "output_type": "stream",
     "text": [
      "/glade/work/ksha/anaconda3/lib/python3.9/site-packages/tensorflow/python/data/ops/dataset_ops.py:3503: UserWarning: Even though the tf.config.experimental_run_functions_eagerly option is set, this option does not apply to tf.data functions. tf.data functions are still traced and executed as graphs.\n",
      "  warnings.warn(\n"
     ]
    },
    {
     "name": "stdout",
     "output_type": "stream",
     "text": [
      "0.05454545454545454 0.8610707218681332 4.043478260869565\n",
      "Validation loss 0.9454545454545454 NOT improved\n"
     ]
    },
    {
     "name": "stderr",
     "output_type": "stream",
     "text": [
      "/glade/work/ksha/anaconda3/lib/python3.9/site-packages/tensorflow/python/data/ops/dataset_ops.py:3503: UserWarning: Even though the tf.config.experimental_run_functions_eagerly option is set, this option does not apply to tf.data functions. tf.data functions are still traced and executed as graphs.\n",
      "  warnings.warn(\n"
     ]
    },
    {
     "name": "stdout",
     "output_type": "stream",
     "text": [
      "0.05504587155963303 0.8609067354680717 4.0\n",
      "Validation loss 0.944954128440367 NOT improved\n"
     ]
    },
    {
     "name": "stderr",
     "output_type": "stream",
     "text": [
      "/glade/work/ksha/anaconda3/lib/python3.9/site-packages/tensorflow/python/data/ops/dataset_ops.py:3503: UserWarning: Even though the tf.config.experimental_run_functions_eagerly option is set, this option does not apply to tf.data functions. tf.data functions are still traced and executed as graphs.\n",
      "  warnings.warn(\n"
     ]
    },
    {
     "name": "stdout",
     "output_type": "stream",
     "text": [
      "0.05504587155963303 0.8606880869346568 4.0\n",
      "Validation loss 0.944954128440367 NOT improved\n"
     ]
    },
    {
     "name": "stderr",
     "output_type": "stream",
     "text": [
      "/glade/work/ksha/anaconda3/lib/python3.9/site-packages/tensorflow/python/data/ops/dataset_ops.py:3503: UserWarning: Even though the tf.config.experimental_run_functions_eagerly option is set, this option does not apply to tf.data functions. tf.data functions are still traced and executed as graphs.\n",
      "  warnings.warn(\n"
     ]
    },
    {
     "name": "stdout",
     "output_type": "stream",
     "text": [
      "0.05660377358490566 0.8594745875742038 3.869565217391304\n",
      "Validation loss 0.9433962264150944 NOT improved\n"
     ]
    },
    {
     "name": "stderr",
     "output_type": "stream",
     "text": [
      "/glade/work/ksha/anaconda3/lib/python3.9/site-packages/tensorflow/python/data/ops/dataset_ops.py:3503: UserWarning: Even though the tf.config.experimental_run_functions_eagerly option is set, this option does not apply to tf.data functions. tf.data functions are still traced and executed as graphs.\n",
      "  warnings.warn(\n"
     ]
    },
    {
     "name": "stdout",
     "output_type": "stream",
     "text": [
      "0.057692307692307696 0.8594964524275452 3.782608695652174\n",
      "Validation loss 0.9423076923076923 NOT improved\n"
     ]
    },
    {
     "name": "stderr",
     "output_type": "stream",
     "text": [
      "/glade/work/ksha/anaconda3/lib/python3.9/site-packages/tensorflow/python/data/ops/dataset_ops.py:3503: UserWarning: Even though the tf.config.experimental_run_functions_eagerly option is set, this option does not apply to tf.data functions. tf.data functions are still traced and executed as graphs.\n",
      "  warnings.warn(\n"
     ]
    },
    {
     "name": "stdout",
     "output_type": "stream",
     "text": [
      "0.057692307692307696 0.8595948442675821 3.782608695652174\n",
      "Validation loss 0.9423076923076923 NOT improved\n"
     ]
    },
    {
     "name": "stderr",
     "output_type": "stream",
     "text": [
      "/glade/work/ksha/anaconda3/lib/python3.9/site-packages/tensorflow/python/data/ops/dataset_ops.py:3503: UserWarning: Even though the tf.config.experimental_run_functions_eagerly option is set, this option does not apply to tf.data functions. tf.data functions are still traced and executed as graphs.\n",
      "  warnings.warn(\n"
     ]
    },
    {
     "name": "stdout",
     "output_type": "stream",
     "text": [
      "0.057692307692307696 0.8596713712542773 3.782608695652174\n",
      "Validation loss 0.9423076923076923 NOT improved\n"
     ]
    },
    {
     "name": "stderr",
     "output_type": "stream",
     "text": [
      "/glade/work/ksha/anaconda3/lib/python3.9/site-packages/tensorflow/python/data/ops/dataset_ops.py:3503: UserWarning: Even though the tf.config.experimental_run_functions_eagerly option is set, this option does not apply to tf.data functions. tf.data functions are still traced and executed as graphs.\n",
      "  warnings.warn(\n"
     ]
    },
    {
     "name": "stdout",
     "output_type": "stream",
     "text": [
      "0.057692307692307696 0.8600977358944366 3.782608695652174\n",
      "Validation loss 0.9423076923076923 NOT improved\n"
     ]
    },
    {
     "name": "stderr",
     "output_type": "stream",
     "text": [
      "/glade/work/ksha/anaconda3/lib/python3.9/site-packages/tensorflow/python/data/ops/dataset_ops.py:3503: UserWarning: Even though the tf.config.experimental_run_functions_eagerly option is set, this option does not apply to tf.data functions. tf.data functions are still traced and executed as graphs.\n",
      "  warnings.warn(\n"
     ]
    },
    {
     "name": "stdout",
     "output_type": "stream",
     "text": [
      "0.057692307692307696 0.8606443572279739 3.782608695652174\n",
      "Validation loss 0.9423076923076923 NOT improved\n"
     ]
    },
    {
     "name": "stderr",
     "output_type": "stream",
     "text": [
      "/glade/work/ksha/anaconda3/lib/python3.9/site-packages/tensorflow/python/data/ops/dataset_ops.py:3503: UserWarning: Even though the tf.config.experimental_run_functions_eagerly option is set, this option does not apply to tf.data functions. tf.data functions are still traced and executed as graphs.\n",
      "  warnings.warn(\n"
     ]
    },
    {
     "name": "stdout",
     "output_type": "stream",
     "text": [
      "0.04807692307692308 0.8592668714674597 3.739130434782609\n",
      "Validation loss 0.9519230769230769 NOT improved\n"
     ]
    },
    {
     "name": "stderr",
     "output_type": "stream",
     "text": [
      "/glade/work/ksha/anaconda3/lib/python3.9/site-packages/tensorflow/python/data/ops/dataset_ops.py:3503: UserWarning: Even though the tf.config.experimental_run_functions_eagerly option is set, this option does not apply to tf.data functions. tf.data functions are still traced and executed as graphs.\n",
      "  warnings.warn(\n"
     ]
    },
    {
     "name": "stdout",
     "output_type": "stream",
     "text": [
      "0.04950495049504951 0.8579768451203114 3.608695652173913\n",
      "Validation loss 0.9504950495049505 NOT improved\n"
     ]
    },
    {
     "name": "stderr",
     "output_type": "stream",
     "text": [
      "/glade/work/ksha/anaconda3/lib/python3.9/site-packages/tensorflow/python/data/ops/dataset_ops.py:3503: UserWarning: Even though the tf.config.experimental_run_functions_eagerly option is set, this option does not apply to tf.data functions. tf.data functions are still traced and executed as graphs.\n",
      "  warnings.warn(\n"
     ]
    },
    {
     "name": "stdout",
     "output_type": "stream",
     "text": [
      "0.04950495049504951 0.8577909938669087 3.608695652173913\n",
      "Validation loss 0.9504950495049505 NOT improved\n"
     ]
    },
    {
     "name": "stderr",
     "output_type": "stream",
     "text": [
      "/glade/work/ksha/anaconda3/lib/python3.9/site-packages/tensorflow/python/data/ops/dataset_ops.py:3503: UserWarning: Even though the tf.config.experimental_run_functions_eagerly option is set, this option does not apply to tf.data functions. tf.data functions are still traced and executed as graphs.\n",
      "  warnings.warn(\n"
     ]
    },
    {
     "name": "stdout",
     "output_type": "stream",
     "text": [
      "0.04950495049504951 0.8581080342403603 3.608695652173913\n",
      "Validation loss 0.9504950495049505 NOT improved\n"
     ]
    },
    {
     "name": "stderr",
     "output_type": "stream",
     "text": [
      "/glade/work/ksha/anaconda3/lib/python3.9/site-packages/tensorflow/python/data/ops/dataset_ops.py:3503: UserWarning: Even though the tf.config.experimental_run_functions_eagerly option is set, this option does not apply to tf.data functions. tf.data functions are still traced and executed as graphs.\n",
      "  warnings.warn(\n"
     ]
    },
    {
     "name": "stdout",
     "output_type": "stream",
     "text": [
      "0.04950495049504951 0.8587421149872637 3.608695652173913\n",
      "Validation loss 0.9504950495049505 NOT improved\n"
     ]
    },
    {
     "name": "stderr",
     "output_type": "stream",
     "text": [
      "\n",
      "KeyboardInterrupt\n",
      "\n"
     ]
    }
   ],
   "source": [
    "# ========== Training loop ========== #\n",
    "\n",
    "N_aug = int(np.random.uniform(2, 30))\n",
    "N_storm = 100 - N_aug\n",
    "\n",
    "\n",
    "L_storm = len(filename_neg_storm)\n",
    "L_aug = len(filename_pos_storm)\n",
    "\n",
    "for i in range(epochs):\n",
    "    \n",
    "    start_time = time.time()\n",
    "    \n",
    "    # loop of batch\n",
    "    for j in range(L_train):\n",
    "        \n",
    "        ind_storm = du.shuffle_ind(L_storm)\n",
    "        ind_aug = du.shuffle_ind(L_aug)\n",
    "        \n",
    "        file_pick_storm = []\n",
    "        for ind_temp in ind_storm[:N_storm]:\n",
    "            file_pick_storm.append(filename_neg_storm[ind_temp])\n",
    "            \n",
    "        file_pick_aug = []\n",
    "        for ind_temp in ind_aug[:N_aug]:\n",
    "            file_pick_aug.append(filename_pos_storm[ind_temp])\n",
    "        \n",
    "        file_pick = file_pick_storm + file_pick_aug\n",
    "        \n",
    "        if len(file_pick) != 100:\n",
    "            sregwet\n",
    "        \n",
    "        for k in range(batch_size):\n",
    "            \n",
    "            data = np.load(file_pick[k])\n",
    "            for c, v in enumerate(ind_pick_from_batch):\n",
    "                X_batch[k, ..., c] = data[..., v]\n",
    "            \n",
    "            if 'pos' in file_pick[k]:\n",
    "                Y_batch[k, :] = np.random.uniform(0.7, 0.90)\n",
    "            elif 'neg' in file_pick[k]:\n",
    "                Y_batch[k, :] = np.random.uniform(0.00, 0.05)\n",
    "            else:\n",
    "                werhgaer\n",
    "                \n",
    "        #Y_batch_cate = tf.keras.utils.to_categorical(Y_batch)\n",
    "        \n",
    "        # # add noise within sparse inputs\n",
    "        # for v in flag_sparse:\n",
    "        #     X_batch[..., v] += np.random.uniform(0, 0.01, size=(batch_size, 128, 128))\n",
    "\n",
    "        # shuffle indices\n",
    "        ind_ = du.shuffle_ind(batch_size)\n",
    "        X_batch = X_batch[ind_, ...]\n",
    "        Y_batch = Y_batch[ind_, :]\n",
    "        \n",
    "        if np.sum(np.isnan(X_batch)) > 0:\n",
    "            asfeargagqarew\n",
    "        \n",
    "        # train on batch\n",
    "        model.train_on_batch([X_batch,], [Y_batch,]);\n",
    "    \n",
    "    # epoch end operations\n",
    "    Y_pred = model.predict([TEST_input,])\n",
    "    Y_pred[Y_pred<0] = 0\n",
    "    Y_pred[Y_pred>1] = 1\n",
    "    #Y_pred = Y_pred[:, -1]\n",
    "    record_temp = verif_metric(TEST_target, Y_pred, thres=0.5)\n",
    "    \n",
    "    # if i % 10 == 0:\n",
    "    #     model.save(model_path_backup)\n",
    "    \n",
    "    if (record - record_temp > min_del) and (np.max(Y_pred) > 0.6):\n",
    "        print('Validation loss improved from {} to {}'.format(record, record_temp))\n",
    "        record = record_temp\n",
    "        tol = 0\n",
    "        #print('tol: {}'.format(tol))\n",
    "        # save\n",
    "        print('save to: {}'.format(model_path))\n",
    "        model.save(model_path)\n",
    "    else:\n",
    "        print('Validation loss {} NOT improved'.format(record_temp))\n",
    "        tol += 1\n",
    "        #print('tol: {}'.format(tol))\n",
    "        if tol >= max_tol:\n",
    "            print('Early stopping')\n",
    "            sys.exit();\n",
    "        else:\n",
    "            #print('Pass to the next epoch')\n",
    "            continue;\n",
    "    print(\"--- %s seconds ---\" % (time.time() - start_time))"
   ]
  },
  {
   "cell_type": "code",
   "execution_count": null,
   "id": "982cd373-2ff7-4fa1-b64f-0f4103eb30a2",
   "metadata": {},
   "outputs": [],
   "source": []
  },
  {
   "cell_type": "code",
   "execution_count": null,
   "id": "baaee327-4cd1-4656-b778-8dadbf4a7c2a",
   "metadata": {},
   "outputs": [],
   "source": []
  }
 ],
 "metadata": {
  "kernelspec": {
   "display_name": "Python 3 (ipykernel)",
   "language": "python",
   "name": "python3"
  },
  "language_info": {
   "codemirror_mode": {
    "name": "ipython",
    "version": 3
   },
   "file_extension": ".py",
   "mimetype": "text/x-python",
   "name": "python",
   "nbconvert_exporter": "python",
   "pygments_lexer": "ipython3",
   "version": "3.9.13"
  }
 },
 "nbformat": 4,
 "nbformat_minor": 5
}
