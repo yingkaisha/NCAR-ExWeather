{
 "cells": [
  {
   "cell_type": "code",
   "execution_count": 1,
   "id": "ce76310e-2358-43eb-ba0c-188a45af0b5e",
   "metadata": {},
   "outputs": [],
   "source": [
    "# general tools\n",
    "import sys\n",
    "from glob import glob\n",
    "\n",
    "# data tools\n",
    "import time\n",
    "import h5py\n",
    "import random\n",
    "import numpy as np\n",
    "from random import shuffle\n",
    "\n",
    "import matplotlib.pyplot as plt\n",
    "%matplotlib inline"
   ]
  },
  {
   "cell_type": "code",
   "execution_count": 2,
   "id": "ee2f455b-7a16-4d6c-b673-ff37e482f46d",
   "metadata": {},
   "outputs": [
    {
     "name": "stderr",
     "output_type": "stream",
     "text": [
      "2022-10-05 11:03:49.343229: I tensorflow/stream_executor/platform/default/dso_loader.cc:49] Successfully opened dynamic library libcudart.so.10.1\n"
     ]
    }
   ],
   "source": [
    "# deep learning tools\n",
    "import tensorflow as tf\n",
    "from tensorflow import keras\n",
    "from tensorflow.keras import layers\n",
    "tf.config.run_functions_eagerly(True)\n",
    "\n",
    "# from keras_unet_collection import models as k_models\n",
    "from keras_unet_collection import utils as k_utils\n",
    "# from keras_unet_collection import layer_utils as k_layers\n",
    "# from keras_unet_collection.activations import GELU"
   ]
  },
  {
   "cell_type": "code",
   "execution_count": 3,
   "id": "329c3d14-edd9-49fa-a0b6-c112ea9c7553",
   "metadata": {},
   "outputs": [],
   "source": [
    "sys.path.insert(0, '/glade/u/home/ksha/NCAR/')\n",
    "sys.path.insert(0, '/glade/u/home/ksha/NCAR/libs/')\n",
    "\n",
    "from namelist import *\n",
    "import data_utils as du\n",
    "import graph_utils as gu\n",
    "import convnext_keras as ck\n",
    "\n",
    "from sklearn.metrics import classification_report, auc, roc_curve\n",
    "from sklearn.metrics import confusion_matrix\n",
    "\n",
    "import matplotlib.pyplot as plt\n",
    "%matplotlib inline"
   ]
  },
  {
   "cell_type": "code",
   "execution_count": 4,
   "id": "a1c2e1ce-3a18-4453-a423-4933848bf089",
   "metadata": {},
   "outputs": [
    {
     "data": {
      "text/plain": [
       "<module 'convnext_keras' from '/glade/u/home/ksha/NCAR/libs/convnext_keras.py'>"
      ]
     },
     "execution_count": 4,
     "metadata": {},
     "output_type": "execute_result"
    }
   ],
   "source": [
    "from importlib import reload\n",
    "reload(ck)"
   ]
  },
  {
   "cell_type": "code",
   "execution_count": 5,
   "id": "a3df16d3-eb0e-4029-a1f8-4e22ffafa066",
   "metadata": {},
   "outputs": [
    {
     "data": {
      "text/plain": [
       "[]"
      ]
     },
     "execution_count": 5,
     "metadata": {},
     "output_type": "execute_result"
    }
   ],
   "source": [
    "glob(\"/glade/scratch/ksha/DATA/NCAR_batch/TRAIN*neg_neg_neg*lead1.npy\")"
   ]
  },
  {
   "cell_type": "code",
   "execution_count": 6,
   "id": "9e1ee330-cf69-4ead-aa86-42cb0aeec11b",
   "metadata": {},
   "outputs": [],
   "source": [
    "ind_pick_from_batch = [0, 3, 4, 8, 9, 10, 13, 14, 17, 18, 21, 22]\n",
    "L_vars = len(ind_pick_from_batch)"
   ]
  },
  {
   "cell_type": "code",
   "execution_count": 7,
   "id": "c181e0e9-cf6a-4fc9-a913-97562ce045c2",
   "metadata": {},
   "outputs": [],
   "source": [
    "filename_neg_train = sorted(glob(\"/glade/scratch/ksha/DATA/NCAR_batch/TRAIN*neg_neg_neg*lead2.npy\")+\\\n",
    "                            glob(\"/glade/scratch/ksha/DATA/NCAR_batch/TRAIN*neg_neg_neg*lead3.npy\")+\\\n",
    "                            glob(\"/glade/scratch/ksha/DATA/NCAR_batch/TRAIN*neg_neg_neg*lead4.npy\"))\n",
    "\n",
    "filename_pos_train = sorted(glob(\"/glade/scratch/ksha/DATA/NCAR_batch/TRAIN*pos*lead2.npy\")+\\\n",
    "                            glob(\"/glade/scratch/ksha/DATA/NCAR_batch/TRAIN*pos*lead3.npy\")+\\\n",
    "                            glob(\"/glade/scratch/ksha/DATA/NCAR_batch/TRAIN*pos*lead4.npy\"))\n",
    "\n",
    "filename_neg_valid = sorted(glob(\"/glade/scratch/ksha/DATA/NCAR_batch/VALID*neg_neg_neg*lead2.npy\"))\n",
    "filename_pos_valid = sorted(glob(\"/glade/scratch/ksha/DATA/NCAR_batch/VALID*pos*lead2.npy\"))"
   ]
  },
  {
   "cell_type": "code",
   "execution_count": null,
   "id": "7a1d9b13-17a8-4c2e-b316-a7731afdce58",
   "metadata": {},
   "outputs": [],
   "source": []
  },
  {
   "cell_type": "code",
   "execution_count": 8,
   "id": "d9e2caa8-e4ec-468b-a926-0c9cd51077ff",
   "metadata": {},
   "outputs": [],
   "source": [
    "filename_valid = filename_neg_valid[::50] + filename_pos_valid"
   ]
  },
  {
   "cell_type": "code",
   "execution_count": 9,
   "id": "70fd1836-9fec-4edc-9278-c30bc8553104",
   "metadata": {},
   "outputs": [
    {
     "data": {
      "text/plain": [
       "7058"
      ]
     },
     "execution_count": 9,
     "metadata": {},
     "output_type": "execute_result"
    }
   ],
   "source": [
    "len(filename_valid)"
   ]
  },
  {
   "cell_type": "code",
   "execution_count": 10,
   "id": "8c7745a8-c368-4d01-9211-d3a7973d243a",
   "metadata": {},
   "outputs": [],
   "source": [
    "with h5py.File(save_dir+'HRRR_domain.hdf', 'r') as h5io:\n",
    "    lon_3km = h5io['lon_3km'][...]\n",
    "    lat_3km = h5io['lat_3km'][...]\n",
    "    lon_72km = h5io['lon_72km'][...]\n",
    "    lat_72km = h5io['lat_72km'][...]\n",
    "    land_mask_72km = h5io['land_mask_72km'][...]\n",
    "    land_mask_3km = h5io['land_mask_3km'][...]"
   ]
  },
  {
   "cell_type": "code",
   "execution_count": 11,
   "id": "3063ca0a-a4d9-4e3a-a477-01b92709754f",
   "metadata": {},
   "outputs": [],
   "source": [
    "L_valid = len(filename_valid)\n",
    "L_var = L_vars\n",
    "\n",
    "TEST_input = np.empty((L_valid, 32, 32, L_var))\n",
    "TEST_target = np.ones(L_valid)\n",
    "\n",
    "for i, name in enumerate(filename_valid):\n",
    "    data = np.load(name)\n",
    "    for k, c in enumerate(ind_pick_from_batch):\n",
    "        \n",
    "        TEST_input[i, ..., k] = data[:, 16:-16, 16:-16, c]\n",
    "\n",
    "        if 'pos' in name:\n",
    "            TEST_target[i] = 1.0\n",
    "        else:\n",
    "            TEST_target[i] = 0.0"
   ]
  },
  {
   "cell_type": "code",
   "execution_count": 12,
   "id": "c60dc4bf-0fa9-441d-9ed5-bd75e96ce51f",
   "metadata": {},
   "outputs": [
    {
     "data": {
      "text/plain": [
       "(7058, 32, 32, 12)"
      ]
     },
     "execution_count": 12,
     "metadata": {},
     "output_type": "execute_result"
    }
   ],
   "source": [
    "TEST_input.shape"
   ]
  },
  {
   "cell_type": "code",
   "execution_count": 13,
   "id": "93bc6a7d-c18f-4c0a-a61e-dbe26aac3ebb",
   "metadata": {},
   "outputs": [
    {
     "data": {
      "text/plain": [
       "0.06432417115330122"
      ]
     },
     "execution_count": 13,
     "metadata": {},
     "output_type": "execute_result"
    }
   ],
   "source": [
    "np.sum(TEST_target) / len(TEST_target)"
   ]
  },
  {
   "cell_type": "code",
   "execution_count": 14,
   "id": "992823d2-8297-4a07-9239-a38dd5951136",
   "metadata": {},
   "outputs": [
    {
     "data": {
      "text/plain": [
       "[<matplotlib.lines.Line2D at 0x2b674878bb50>]"
      ]
     },
     "execution_count": 14,
     "metadata": {},
     "output_type": "execute_result"
    },
    {
     "data": {
      "image/png": "[encoded data removed]",
      "text/plain": [
       "<Figure size 640x480 with 1 Axes>"
      ]
     },
     "metadata": {},
     "output_type": "display_data"
    }
   ],
   "source": [
    "plt.plot(TEST_target)"
   ]
  },
  {
   "cell_type": "markdown",
   "id": "26d6c483-697c-43b9-8469-8028e4b819bc",
   "metadata": {},
   "source": [
    "**ConvNext**"
   ]
  },
  {
   "cell_type": "code",
   "execution_count": 15,
   "id": "6151e0af-3479-4b81-a0b9-0c892ed01c1e",
   "metadata": {},
   "outputs": [],
   "source": [
    "import numpy as np\n",
    "import tensorflow as tf\n",
    "from tensorflow.keras import backend\n",
    "from tensorflow.keras import layers\n",
    "from tensorflow.keras import utils\n",
    "from tensorflow.keras import Model\n",
    "\n",
    "  \n",
    "class LayerScale(layers.Layer):\n",
    "    \"\"\"Layer scale module.\n",
    "    References:\n",
    "      - https://arxiv.org/abs/2103.17239\n",
    "    Args:\n",
    "      init_values (float): Initial value for layer scale. Should be within\n",
    "        [0, 1].\n",
    "      projection_dim (int): Projection dimensionality.\n",
    "    Returns:\n",
    "      Tensor multiplied to the scale.\n",
    "    \"\"\"\n",
    "\n",
    "    def __init__(self, init_values, projection_dim, **kwargs):\n",
    "        super().__init__(**kwargs)\n",
    "        self.init_values = init_values\n",
    "        self.projection_dim = projection_dim\n",
    "\n",
    "    def build(self, input_shape):\n",
    "        self.gamma = tf.Variable(\n",
    "            self.init_values * tf.ones((self.projection_dim,))\n",
    "        )\n",
    "\n",
    "    def call(self, x):\n",
    "        return x * self.gamma\n",
    "\n",
    "    def get_config(self):\n",
    "        config = super().get_config()\n",
    "        config.update(\n",
    "            {\n",
    "                \"init_values\": self.init_values,\n",
    "                \"projection_dim\": self.projection_dim,\n",
    "            }\n",
    "        )\n",
    "        return config\n",
    "    \n",
    "\n",
    "\n",
    "def Head(num_classes=1000, name=None):\n",
    "    \"\"\"Implementation of classification head of RegNet.\n",
    "    Args:\n",
    "      num_classes: number of classes for Dense layer\n",
    "      name: name prefix\n",
    "    Returns:\n",
    "      Classification head function.\n",
    "    \"\"\"\n",
    "    if name is None:\n",
    "        name = str(backend.get_uid(\"head\"))\n",
    "\n",
    "    def apply(x):\n",
    "        x = layers.GlobalAveragePooling2D(name=name + \"_head_gap\")(x)\n",
    "        x = layers.LayerNormalization(\n",
    "            epsilon=1e-6, name=name + \"_head_layernorm\"\n",
    "        )(x)\n",
    "        x = layers.Dense(num_classes, name=name + \"_head_dense\")(x)\n",
    "        return x\n",
    "\n",
    "    return apply\n"
   ]
  },
  {
   "cell_type": "code",
   "execution_count": 16,
   "id": "5910626c-9f88-4112-8beb-28045df1d016",
   "metadata": {},
   "outputs": [
    {
     "name": "stderr",
     "output_type": "stream",
     "text": [
      "2022-10-05 11:08:16.696744: I tensorflow/compiler/jit/xla_cpu_device.cc:41] Not creating XLA devices, tf_xla_enable_xla_devices not set\n",
      "2022-10-05 11:08:16.698230: I tensorflow/stream_executor/platform/default/dso_loader.cc:49] Successfully opened dynamic library libcuda.so.1\n",
      "2022-10-05 11:08:16.736138: I tensorflow/core/common_runtime/gpu/gpu_device.cc:1720] Found device 0 with properties: \n",
      "pciBusID: 0000:89:00.0 name: Tesla V100-SXM2-32GB computeCapability: 7.0\n",
      "coreClock: 1.53GHz coreCount: 80 deviceMemorySize: 31.75GiB deviceMemoryBandwidth: 836.37GiB/s\n",
      "2022-10-05 11:08:16.736178: I tensorflow/stream_executor/platform/default/dso_loader.cc:49] Successfully opened dynamic library libcudart.so.10.1\n",
      "2022-10-05 11:08:16.803819: I tensorflow/stream_executor/platform/default/dso_loader.cc:49] Successfully opened dynamic library libcublas.so.10\n",
      "2022-10-05 11:08:16.803864: I tensorflow/stream_executor/platform/default/dso_loader.cc:49] Successfully opened dynamic library libcublasLt.so.10\n",
      "2022-10-05 11:08:16.865781: I tensorflow/stream_executor/platform/default/dso_loader.cc:49] Successfully opened dynamic library libcufft.so.10\n",
      "2022-10-05 11:08:16.900301: I tensorflow/stream_executor/platform/default/dso_loader.cc:49] Successfully opened dynamic library libcurand.so.10\n",
      "2022-10-05 11:08:16.937737: I tensorflow/stream_executor/platform/default/dso_loader.cc:49] Successfully opened dynamic library libcusolver.so.10\n",
      "2022-10-05 11:08:17.007513: I tensorflow/stream_executor/platform/default/dso_loader.cc:49] Successfully opened dynamic library libcusparse.so.10\n",
      "2022-10-05 11:08:17.051910: I tensorflow/stream_executor/platform/default/dso_loader.cc:49] Successfully opened dynamic library libcudnn.so.7\n",
      "2022-10-05 11:08:17.052540: I tensorflow/core/common_runtime/gpu/gpu_device.cc:1862] Adding visible gpu devices: 0\n",
      "2022-10-05 11:08:17.053001: I tensorflow/core/platform/cpu_feature_guard.cc:142] This TensorFlow binary is optimized with oneAPI Deep Neural Network Library (oneDNN) to use the following CPU instructions in performance-critical operations:  SSE4.1 SSE4.2 AVX AVX2 AVX512F FMA\n",
      "To enable them in other operations, rebuild TensorFlow with the appropriate compiler flags.\n",
      "2022-10-05 11:08:17.053194: I tensorflow/compiler/jit/xla_gpu_device.cc:99] Not creating XLA devices, tf_xla_enable_xla_devices not set\n",
      "2022-10-05 11:08:17.053609: I tensorflow/core/common_runtime/gpu/gpu_device.cc:1720] Found device 0 with properties: \n",
      "pciBusID: 0000:89:00.0 name: Tesla V100-SXM2-32GB computeCapability: 7.0\n",
      "coreClock: 1.53GHz coreCount: 80 deviceMemorySize: 31.75GiB deviceMemoryBandwidth: 836.37GiB/s\n",
      "2022-10-05 11:08:17.053638: I tensorflow/stream_executor/platform/default/dso_loader.cc:49] Successfully opened dynamic library libcudart.so.10.1\n",
      "2022-10-05 11:08:17.053656: I tensorflow/stream_executor/platform/default/dso_loader.cc:49] Successfully opened dynamic library libcublas.so.10\n",
      "2022-10-05 11:08:17.053667: I tensorflow/stream_executor/platform/default/dso_loader.cc:49] Successfully opened dynamic library libcublasLt.so.10\n",
      "2022-10-05 11:08:17.053678: I tensorflow/stream_executor/platform/default/dso_loader.cc:49] Successfully opened dynamic library libcufft.so.10\n",
      "2022-10-05 11:08:17.053689: I tensorflow/stream_executor/platform/default/dso_loader.cc:49] Successfully opened dynamic library libcurand.so.10\n",
      "2022-10-05 11:08:17.053699: I tensorflow/stream_executor/platform/default/dso_loader.cc:49] Successfully opened dynamic library libcusolver.so.10\n",
      "2022-10-05 11:08:17.053709: I tensorflow/stream_executor/platform/default/dso_loader.cc:49] Successfully opened dynamic library libcusparse.so.10\n",
      "2022-10-05 11:08:17.053720: I tensorflow/stream_executor/platform/default/dso_loader.cc:49] Successfully opened dynamic library libcudnn.so.7\n",
      "2022-10-05 11:08:17.054228: I tensorflow/core/common_runtime/gpu/gpu_device.cc:1862] Adding visible gpu devices: 0\n",
      "2022-10-05 11:08:17.054255: I tensorflow/stream_executor/platform/default/dso_loader.cc:49] Successfully opened dynamic library libcudart.so.10.1\n",
      "2022-10-05 11:08:17.581749: I tensorflow/core/common_runtime/gpu/gpu_device.cc:1261] Device interconnect StreamExecutor with strength 1 edge matrix:\n",
      "2022-10-05 11:08:17.581794: I tensorflow/core/common_runtime/gpu/gpu_device.cc:1267]      0 \n",
      "2022-10-05 11:08:17.581803: I tensorflow/core/common_runtime/gpu/gpu_device.cc:1280] 0:   N \n",
      "2022-10-05 11:08:17.582811: I tensorflow/core/common_runtime/gpu/gpu_device.cc:1406] Created TensorFlow device (/job:localhost/replica:0/task:0/device:GPU:0 with 30132 MB memory) -> physical GPU (device: 0, name: Tesla V100-SXM2-32GB, pci bus id: 0000:89:00.0, compute capability: 7.0)\n"
     ]
    }
   ],
   "source": [
    "depths=[3, 3, 27, 3]\n",
    "projection_dims=[96, 192, 384, 768]\n",
    "drop_path_rate=0.0\n",
    "layer_scale_init_value=1e-6\n",
    "model_name='test'\n",
    "input_shape=(32, 32, 12)\n",
    "classes=1\n",
    "\n",
    "IN = layers.Input(shape=input_shape)\n",
    "X = IN\n",
    "\n",
    "num_convnext_blocks = 4\n",
    "\n",
    "# ----- convnext block 0 ----- #\n",
    "\n",
    "X = layers.Conv2D(projection_dims[0], kernel_size=2, strides=2, name=\"{}_down0\".format(model_name))(X)\n",
    "X = layers.LayerNormalization(epsilon=1e-6, name=\"{}_down0_norm\".format(model_name))(X)\n",
    "\n",
    "for j in range(depths[0]):\n",
    "    \n",
    "    X_convnext = X\n",
    "    X_convnext = layers.Conv2D(filters=projection_dims[0], kernel_size=7, padding=\"same\",\n",
    "                               groups=projection_dims[0], name=\"{}_down0_dconv{}\".format(model_name, j))(X_convnext)\n",
    "    X_convnext = layers.LayerNormalization(epsilon=1e-6, name=\"{}_down0_dconv{}_norm\".format(model_name, j))(X_convnext)\n",
    "    X_convnext = layers.Dense(4 * projection_dims[0], name=\"{}_down0_dense{}_p1\".format(model_name, j))(X_convnext)\n",
    "    X_convnext = layers.Activation(\"gelu\", name=\"{}_down0_gelu{}\".format(model_name, j))(X_convnext)\n",
    "    X_convnext = layers.Dense(projection_dims[0], name=\"{}_down0_dense{}_p2\".format(model_name, j))(X_convnext)\n",
    "\n",
    "    X_convnext = LayerScale(layer_scale_init_value, projection_dims[0], name=\"{}_down0_layerscale{}\".format(model_name, j))(X_convnext)\n",
    "\n",
    "    X = X + X_convnext\n",
    "\n",
    "\n",
    "# ----- convnext block 1 ----- #\n",
    "\n",
    "X = layers.LayerNormalization(epsilon=1e-6, name=\"{}_down1_norm\".format(model_name))(X)\n",
    "X = layers.Conv2D(projection_dims[1], kernel_size=2, strides=2, name=\"{}_down1\".format(model_name))(X)\n",
    "\n",
    "for j in range(depths[1]):\n",
    "    \n",
    "    X_convnext = X\n",
    "    X_convnext = layers.Conv2D(filters=projection_dims[1], kernel_size=7, padding=\"same\",\n",
    "                               groups=projection_dims[1], name=\"{}_down1_dconv{}\".format(model_name, j))(X_convnext)\n",
    "    X_convnext = layers.LayerNormalization(epsilon=1e-6, name=\"{}_down1_dconv{}_norm\".format(model_name, j))(X_convnext)\n",
    "    X_convnext = layers.Dense(4 * projection_dims[1], name=\"{}_down1_dense{}_p1\".format(model_name, j))(X_convnext)\n",
    "    X_convnext = layers.Activation(\"gelu\", name=\"{}_down1_gelu{}\".format(model_name, j))(X_convnext)\n",
    "    X_convnext = layers.Dense(projection_dims[1], name=\"{}_down1_dense{}_p2\".format(model_name, j))(X_convnext)\n",
    "\n",
    "    X_convnext = LayerScale(layer_scale_init_value, projection_dims[1], name=\"{}_down1_layerscale{}\".format(model_name, j))(X_convnext)\n",
    "\n",
    "    X = X + X_convnext\n",
    "\n",
    "# ----- convnext block 2 ----- #\n",
    "\n",
    "X = layers.LayerNormalization(epsilon=1e-6, name=\"{}_down2_norm\".format(model_name))(X)\n",
    "X = layers.Conv2D(projection_dims[2], kernel_size=2, strides=2, name=\"{}_down2\".format(model_name))(X)\n",
    "\n",
    "for j in range(depths[2]):\n",
    "    \n",
    "    X_convnext = X\n",
    "    X_convnext = layers.Conv2D(filters=projection_dims[2], kernel_size=7, padding=\"same\",\n",
    "                               groups=projection_dims[2], name=\"{}_down2_dconv{}\".format(model_name, j))(X_convnext)\n",
    "    X_convnext = layers.LayerNormalization(epsilon=1e-6, name=\"{}_down2_dconv{}_norm\".format(model_name, j))(X_convnext)\n",
    "    X_convnext = layers.Dense(4 * projection_dims[2], name=\"{}_down2_dense{}_p1\".format(model_name, j))(X_convnext)\n",
    "    X_convnext = layers.Activation(\"gelu\", name=\"{}_down2_gelu{}\".format(model_name, j))(X_convnext)\n",
    "    X_convnext = layers.Dense(projection_dims[2], name=\"{}_down2_dense{}_p2\".format(model_name, j))(X_convnext)\n",
    "\n",
    "    X_convnext = LayerScale(layer_scale_init_value, projection_dims[2], name=\"{}_down2_layerscale{}\".format(model_name, j))(X_convnext)\n",
    "\n",
    "    X = X + X_convnext\n",
    "\n",
    "# ----- convnext block 3 ----- #\n",
    "\n",
    "X = layers.LayerNormalization(epsilon=1e-6, name=\"{}_down3_norm\".format(model_name))(X)\n",
    "X = layers.Conv2D(projection_dims[3], kernel_size=2, padding='same', name=\"{}_down3\".format(model_name))(X)\n",
    "\n",
    "for j in range(depths[3]):\n",
    "    \n",
    "    X_convnext = X\n",
    "    X_convnext = layers.Conv2D(filters=projection_dims[3], kernel_size=7, padding=\"same\",\n",
    "                               groups=projection_dims[3], name=\"{}_down3_dconv{}\".format(model_name, j))(X_convnext)\n",
    "    X_convnext = layers.LayerNormalization(epsilon=1e-6, name=\"{}_down3_dconv{}_norm\".format(model_name, j))(X_convnext)\n",
    "    X_convnext = layers.Dense(4 * projection_dims[3], name=\"{}_down3_dense{}_p1\".format(model_name, j))(X_convnext)\n",
    "    X_convnext = layers.Activation(\"gelu\", name=\"{}_down3_gelu{}\".format(model_name, j))(X_convnext)\n",
    "    X_convnext = layers.Dense(projection_dims[3], name=\"{}_down3_dense{}_p2\".format(model_name, j))(X_convnext)\n",
    "\n",
    "    X_convnext = LayerScale(layer_scale_init_value, projection_dims[3], name=\"{}_down3_layerscale{}\".format(model_name, j))(X_convnext)\n",
    "\n",
    "    X = X + X_convnext\n",
    "\n",
    "OUT = X\n",
    "\n",
    "OUT = layers.GlobalMaxPooling2D(name=\"{}_head_pool\".format(model_name))(OUT)\n",
    "OUT = layers.LayerNormalization(epsilon=1e-6, name=\"{}_head_norm\".format(model_name))(OUT)\n",
    "\n",
    "OUT = layers.Dense(128, name=\"{}_dense1\".format(model_name))(OUT)\n",
    "OUT = layers.LayerNormalization(epsilon=1e-6, name=\"{}_dense1_norm\".format(model_name))(OUT)\n",
    "OUT = layers.Activation(\"gelu\", name=\"{}_dense1_gelu{}\".format(model_name, j))(OUT)\n",
    "\n",
    "OUT = layers.Dense(1, name=\"{}_head_out\".format(model_name))(OUT)\n",
    "\n",
    "model = Model(inputs=IN, outputs=OUT, name=model_name)"
   ]
  },
  {
   "cell_type": "code",
   "execution_count": 17,
   "id": "6d21a400-630c-4e40-b990-4e14e5d139c9",
   "metadata": {},
   "outputs": [],
   "source": [
    "from sklearn.metrics import brier_score_loss\n",
    "from sklearn.metrics import log_loss\n",
    "\n",
    "\n",
    "def verif_metric(VALID_target, Y_pred):\n",
    "\n",
    "\n",
    "    # fpr, tpr, thresholds = roc_curve(VALID_target.ravel(), Y_pred.ravel())\n",
    "    # AUC = auc(fpr, tpr)\n",
    "    # AUC_metric = 1 - AUC\n",
    "    \n",
    "    BS = np.mean((VALID_target.ravel() - Y_pred.ravel())**2)\n",
    "    #ll = log_loss(VALID_target.ravel(), Y_pred.ravel())\n",
    "    \n",
    "    print('{}'.format(BS))\n",
    "    metric = BS\n",
    "\n",
    "    return metric"
   ]
  },
  {
   "cell_type": "code",
   "execution_count": 18,
   "id": "ca8e6183-6964-467a-8ebe-01b822b8b8f0",
   "metadata": {},
   "outputs": [],
   "source": [
    "tol = 0\n",
    "min_del = 0\n",
    "max_tol = 500 # early stopping with patience\n",
    "\n",
    "epochs = 500\n",
    "L_train = 64\n",
    "batch_size = 100\n",
    "\n",
    "batch_size_half = 50\n",
    "\n",
    "valid_size = 1"
   ]
  },
  {
   "cell_type": "code",
   "execution_count": 19,
   "id": "67244080-0104-4922-9543-941d6318f26a",
   "metadata": {},
   "outputs": [],
   "source": [
    "batch_dir = '/glade/scratch/ksha/DATA/NCAR_batch/'\n",
    "temp_dir = '/glade/work/ksha/NCAR/Keras_models/'\n",
    "\n",
    "key = 'NL_12_Lead2'\n",
    "\n",
    "model_name = '{}_pp12'.format(key)\n",
    "model_path = temp_dir+model_name\n",
    "\n",
    "# W_old = k_utils.dummy_loader(temp_dir+'FC_12_Lead2_pp23')\n",
    "# model.set_weights(W_old)\n"
   ]
  },
  {
   "cell_type": "code",
   "execution_count": 20,
   "id": "c5f32705-6a1b-4c2b-9dd3-f89d29a5ff72",
   "metadata": {},
   "outputs": [],
   "source": [
    "model.compile(loss=keras.losses.mean_absolute_error, optimizer=keras.optimizers.Adam(lr=1e-5))\n",
    "#keras.losses.BinaryCrossentropy(from_logits=True)"
   ]
  },
  {
   "cell_type": "code",
   "execution_count": 21,
   "id": "b6bf49a3-1b86-484a-b8e2-94cadceb6ce8",
   "metadata": {},
   "outputs": [],
   "source": [
    "X_batch = np.empty((batch_size, 32, 32, L_vars))\n",
    "Y_batch = np.empty((batch_size, 1))\n",
    "X_batch[...] = np.nan\n",
    "Y_batch[...] = np.nan"
   ]
  },
  {
   "cell_type": "code",
   "execution_count": 22,
   "id": "0cc658f4-1b4c-4286-862a-406bc3a9a44d",
   "metadata": {},
   "outputs": [
    {
     "name": "stderr",
     "output_type": "stream",
     "text": [
      "/glade/work/ksha/anaconda3/lib/python3.9/site-packages/tensorflow/python/data/ops/dataset_ops.py:3503: UserWarning: Even though the tf.config.experimental_run_functions_eagerly option is set, this option does not apply to tf.data functions. tf.data functions are still traced and executed as graphs.\n",
      "  warnings.warn(\n",
      "2022-10-05 11:08:19.592361: I tensorflow/compiler/mlir/mlir_graph_optimization_pass.cc:116] None of the MLIR optimization passes are enabled (registered 2)\n",
      "2022-10-05 11:08:19.592777: I tensorflow/core/platform/profile_utils/cpu_utils.cc:112] CPU Frequency: 2600000000 Hz\n",
      "2022-10-05 11:08:19.608401: I tensorflow/stream_executor/platform/default/dso_loader.cc:49] Successfully opened dynamic library libcudnn.so.7\n",
      "2022-10-05 11:08:20.709106: I tensorflow/stream_executor/platform/default/dso_loader.cc:49] Successfully opened dynamic library libcublas.so.10\n"
     ]
    }
   ],
   "source": [
    "Y_pred = model.predict([TEST_input,])"
   ]
  },
  {
   "cell_type": "code",
   "execution_count": 23,
   "id": "1421171d-b9ec-450f-ac51-a728bc340dc5",
   "metadata": {},
   "outputs": [],
   "source": [
    "# save_dict = {}\n",
    "# save_dict['y_true'] = TEST_target\n",
    "# save_dict['y_pred'] = Y_pred\n",
    "\n",
    "# np.save(\"ALL_pred_lead2.npy\", save_dict)"
   ]
  },
  {
   "cell_type": "code",
   "execution_count": 24,
   "id": "f4fef90f-d890-49de-9685-97135dd6572b",
   "metadata": {},
   "outputs": [
    {
     "name": "stdout",
     "output_type": "stream",
     "text": [
      "1.7911954149287426\n",
      "Initial record: 1.7911954149287426\n"
     ]
    }
   ],
   "source": [
    "# Y_pred[Y_pred<0] = 0\n",
    "# Y_pred[Y_pred>1] = 1\n",
    "record = verif_metric(TEST_target, Y_pred)\n",
    "print(\"Initial record: {}\".format(record))"
   ]
  },
  {
   "cell_type": "code",
   "execution_count": 25,
   "id": "6fd0b65c-10a9-4fdb-9b78-1320f78cf1dc",
   "metadata": {},
   "outputs": [],
   "source": [
    "# 0.034775568168985756\n",
    "# Initial record: 0.034775568168985756"
   ]
  },
  {
   "cell_type": "code",
   "execution_count": 32,
   "id": "441243c7-e0cc-47fe-a521-b4e0878c22d9",
   "metadata": {},
   "outputs": [
    {
     "data": {
      "text/plain": [
       "[<matplotlib.lines.Line2D at 0x2b6748943970>]"
      ]
     },
     "execution_count": 32,
     "metadata": {},
     "output_type": "execute_result"
    },
    {
     "data": {
      "image/png": "[encoded data removed]",
      "text/plain": [
       "<Figure size 1500x400 with 1 Axes>"
      ]
     },
     "metadata": {},
     "output_type": "display_data"
    }
   ],
   "source": [
    "plt.figure(figsize=(15, 4))\n",
    "plt.plot(TEST_target, 'b-', lw=3.0)\n",
    "plt.plot(Y_pred, 'r-')\n",
    "#plt.plot(Y_pred>0.5)"
   ]
  },
  {
   "cell_type": "code",
   "execution_count": 31,
   "id": "2374bcf1-481c-4737-bcd8-eaa68245f1b9",
   "metadata": {},
   "outputs": [
    {
     "data": {
      "text/plain": [
       "[<matplotlib.lines.Line2D at 0x2b67338a43a0>]"
      ]
     },
     "execution_count": 31,
     "metadata": {},
     "output_type": "execute_result"
    },
    {
     "data": {
      "image/png": "[encoded data removed]",
      "text/plain": [
       "<Figure size 1500x400 with 1 Axes>"
      ]
     },
     "metadata": {},
     "output_type": "display_data"
    }
   ],
   "source": [
    "plt.figure(figsize=(15, 4))\n",
    "plt.plot(TEST_target[6500:], 'b-', lw=3.0)\n",
    "plt.plot(Y_pred[6500:], 'r-')\n",
    "#plt.plot(Y_pred>0.5)"
   ]
  },
  {
   "cell_type": "code",
   "execution_count": null,
   "id": "a8e5a18d-f320-4016-9453-8c2ce2a9cc0c",
   "metadata": {},
   "outputs": [],
   "source": []
  },
  {
   "cell_type": "code",
   "execution_count": 28,
   "id": "e3648415-0885-4838-ad2a-252d436f6177",
   "metadata": {},
   "outputs": [],
   "source": [
    "# plt.pcolormesh(TEST_input[3154, ..., 2], cmap=plt.cm.nipy_spectral_r)\n",
    "# plt.colorbar()"
   ]
  },
  {
   "cell_type": "code",
   "execution_count": 29,
   "id": "842940ff-c806-4094-96e5-71b903fe9276",
   "metadata": {},
   "outputs": [
    {
     "data": {
      "text/plain": [
       "[PhysicalDevice(name='/physical_device:GPU:0', device_type='GPU')]"
      ]
     },
     "execution_count": 29,
     "metadata": {},
     "output_type": "execute_result"
    }
   ],
   "source": [
    "tf.config.list_physical_devices('GPU')"
   ]
  },
  {
   "cell_type": "code",
   "execution_count": 30,
   "id": "ca6e5ad6-0941-4737-88f1-6df2077dba9d",
   "metadata": {},
   "outputs": [
    {
     "name": "stdout",
     "output_type": "stream",
     "text": [
      "0.08428961655848526\n",
      "Validation loss improved from 1.7911954149287426 to 0.08428961655848526\n",
      "save to: /glade/work/ksha/NCAR/Keras_models/NL_12_Lead2_pp12\n"
     ]
    },
    {
     "name": "stderr",
     "output_type": "stream",
     "text": [
      "2022-10-05 11:12:08.617899: W tensorflow/python/util/util.cc:348] Sets are not currently considered sequences, but this may change in the future, so consider avoiding using them.\n"
     ]
    },
    {
     "name": "stdout",
     "output_type": "stream",
     "text": [
      "INFO:tensorflow:Assets written to: /glade/work/ksha/NCAR/Keras_models/NL_12_Lead2_pp12/assets\n",
      "--- 220.27733850479126 seconds ---\n"
     ]
    },
    {
     "name": "stderr",
     "output_type": "stream",
     "text": [
      "/glade/work/ksha/anaconda3/lib/python3.9/site-packages/tensorflow/python/data/ops/dataset_ops.py:3503: UserWarning: Even though the tf.config.experimental_run_functions_eagerly option is set, this option does not apply to tf.data functions. tf.data functions are still traced and executed as graphs.\n",
      "  warnings.warn(\n"
     ]
    },
    {
     "name": "stdout",
     "output_type": "stream",
     "text": [
      "0.06776523666201358\n",
      "Validation loss improved from 0.08428961655848526 to 0.06776523666201358\n",
      "save to: /glade/work/ksha/NCAR/Keras_models/NL_12_Lead2_pp12\n",
      "INFO:tensorflow:Assets written to: /glade/work/ksha/NCAR/Keras_models/NL_12_Lead2_pp12/assets\n",
      "--- 217.6141059398651 seconds ---\n"
     ]
    },
    {
     "name": "stderr",
     "output_type": "stream",
     "text": [
      "/glade/work/ksha/anaconda3/lib/python3.9/site-packages/tensorflow/python/data/ops/dataset_ops.py:3503: UserWarning: Even though the tf.config.experimental_run_functions_eagerly option is set, this option does not apply to tf.data functions. tf.data functions are still traced and executed as graphs.\n",
      "  warnings.warn(\n"
     ]
    },
    {
     "name": "stdout",
     "output_type": "stream",
     "text": [
      "0.05505550028267239\n",
      "Validation loss improved from 0.06776523666201358 to 0.05505550028267239\n",
      "save to: /glade/work/ksha/NCAR/Keras_models/NL_12_Lead2_pp12\n",
      "INFO:tensorflow:Assets written to: /glade/work/ksha/NCAR/Keras_models/NL_12_Lead2_pp12/assets\n",
      "--- 209.45212697982788 seconds ---\n"
     ]
    },
    {
     "name": "stderr",
     "output_type": "stream",
     "text": [
      "/glade/work/ksha/anaconda3/lib/python3.9/site-packages/tensorflow/python/data/ops/dataset_ops.py:3503: UserWarning: Even though the tf.config.experimental_run_functions_eagerly option is set, this option does not apply to tf.data functions. tf.data functions are still traced and executed as graphs.\n",
      "  warnings.warn(\n"
     ]
    },
    {
     "name": "stdout",
     "output_type": "stream",
     "text": [
      "0.05187132270402401\n",
      "Validation loss improved from 0.05505550028267239 to 0.05187132270402401\n",
      "save to: /glade/work/ksha/NCAR/Keras_models/NL_12_Lead2_pp12\n",
      "INFO:tensorflow:Assets written to: /glade/work/ksha/NCAR/Keras_models/NL_12_Lead2_pp12/assets\n",
      "--- 206.7120680809021 seconds ---\n"
     ]
    },
    {
     "name": "stderr",
     "output_type": "stream",
     "text": [
      "/glade/work/ksha/anaconda3/lib/python3.9/site-packages/tensorflow/python/data/ops/dataset_ops.py:3503: UserWarning: Even though the tf.config.experimental_run_functions_eagerly option is set, this option does not apply to tf.data functions. tf.data functions are still traced and executed as graphs.\n",
      "  warnings.warn(\n"
     ]
    },
    {
     "name": "stdout",
     "output_type": "stream",
     "text": [
      "0.05290062043718997\n",
      "Validation loss 0.05290062043718997 NOT improved\n",
      "0.052680253184332226\n",
      "Validation loss 0.052680253184332226 NOT improved\n",
      "0.047891376472850196\n",
      "Validation loss improved from 0.05187132270402401 to 0.047891376472850196\n",
      "save to: /glade/work/ksha/NCAR/Keras_models/NL_12_Lead2_pp12\n",
      "INFO:tensorflow:Assets written to: /glade/work/ksha/NCAR/Keras_models/NL_12_Lead2_pp12/assets\n",
      "--- 206.00578260421753 seconds ---\n"
     ]
    },
    {
     "name": "stderr",
     "output_type": "stream",
     "text": [
      "/glade/work/ksha/anaconda3/lib/python3.9/site-packages/tensorflow/python/data/ops/dataset_ops.py:3503: UserWarning: Even though the tf.config.experimental_run_functions_eagerly option is set, this option does not apply to tf.data functions. tf.data functions are still traced and executed as graphs.\n",
      "  warnings.warn(\n"
     ]
    },
    {
     "name": "stdout",
     "output_type": "stream",
     "text": [
      "0.04700821796389107\n",
      "Validation loss improved from 0.047891376472850196 to 0.04700821796389107\n",
      "save to: /glade/work/ksha/NCAR/Keras_models/NL_12_Lead2_pp12\n",
      "INFO:tensorflow:Assets written to: /glade/work/ksha/NCAR/Keras_models/NL_12_Lead2_pp12/assets\n",
      "--- 208.93983840942383 seconds ---\n"
     ]
    },
    {
     "name": "stderr",
     "output_type": "stream",
     "text": [
      "/glade/work/ksha/anaconda3/lib/python3.9/site-packages/tensorflow/python/data/ops/dataset_ops.py:3503: UserWarning: Even though the tf.config.experimental_run_functions_eagerly option is set, this option does not apply to tf.data functions. tf.data functions are still traced and executed as graphs.\n",
      "  warnings.warn(\n"
     ]
    },
    {
     "name": "stdout",
     "output_type": "stream",
     "text": [
      "0.04672560102830862\n",
      "Validation loss improved from 0.04700821796389107 to 0.04672560102830862\n",
      "save to: /glade/work/ksha/NCAR/Keras_models/NL_12_Lead2_pp12\n",
      "INFO:tensorflow:Assets written to: /glade/work/ksha/NCAR/Keras_models/NL_12_Lead2_pp12/assets\n",
      "--- 209.04644179344177 seconds ---\n"
     ]
    },
    {
     "name": "stderr",
     "output_type": "stream",
     "text": [
      "/glade/work/ksha/anaconda3/lib/python3.9/site-packages/tensorflow/python/data/ops/dataset_ops.py:3503: UserWarning: Even though the tf.config.experimental_run_functions_eagerly option is set, this option does not apply to tf.data functions. tf.data functions are still traced and executed as graphs.\n",
      "  warnings.warn(\n"
     ]
    },
    {
     "name": "stdout",
     "output_type": "stream",
     "text": [
      "0.04754019390257307\n",
      "Validation loss 0.04754019390257307 NOT improved\n",
      "0.04494944674560717\n",
      "Validation loss improved from 0.04672560102830862 to 0.04494944674560717\n",
      "save to: /glade/work/ksha/NCAR/Keras_models/NL_12_Lead2_pp12\n",
      "INFO:tensorflow:Assets written to: /glade/work/ksha/NCAR/Keras_models/NL_12_Lead2_pp12/assets\n",
      "--- 214.29790496826172 seconds ---\n"
     ]
    },
    {
     "name": "stderr",
     "output_type": "stream",
     "text": [
      "\n",
      "KeyboardInterrupt\n",
      "\n"
     ]
    }
   ],
   "source": [
    "# ========== Training loop ========== #\n",
    "L_storm = len(filename_neg_train)\n",
    "L_aug = len(filename_pos_train)\n",
    "\n",
    "for i in range(epochs):\n",
    "    \n",
    "    shuffle(filename_neg_train)\n",
    "    shuffle(filename_pos_train)\n",
    "    \n",
    "    #print('epoch = {}'.format(i))\n",
    "    start_time = time.time()\n",
    "    \n",
    "    # loop of batch\n",
    "    for j in range(L_train):\n",
    "        \n",
    "        #N_aug = int(np.random.uniform(2, 7))\n",
    "        #N_aug = int(np.random.uniform(8, 14))\n",
    "        N_aug = int(np.random.uniform(10, 25))\n",
    "        #N_aug = int(np.random.uniform(20, 45))\n",
    "        \n",
    "        N_storm = 100 - N_aug\n",
    "        \n",
    "        ind_storm = du.shuffle_ind(L_storm)\n",
    "        ind_aug = du.shuffle_ind(L_aug)\n",
    "        \n",
    "        file_pick_storm = []\n",
    "        for ind_temp in ind_storm[:N_storm]:\n",
    "            file_pick_storm.append(filename_neg_train[ind_temp])\n",
    "\n",
    "        file_pick_aug = []\n",
    "        for ind_temp in ind_aug[:N_aug]:\n",
    "            file_pick_aug.append(filename_pos_train[ind_temp])\n",
    "        \n",
    "        file_pick = file_pick_storm + file_pick_aug\n",
    "        \n",
    "        if len(file_pick) != 100:\n",
    "            sregwet\n",
    "        \n",
    "        for k in range(batch_size):\n",
    "\n",
    "            data = np.load(file_pick[k])\n",
    "            \n",
    "            for l, c in enumerate(ind_pick_from_batch):\n",
    "            \n",
    "                X_batch[k, ..., l] = data[:, 16:-16, 16:-16, c]\n",
    "            \n",
    "            if 'pos' in file_pick[k]:\n",
    "                Y_batch[k, :] = 1.0 #np.random.uniform(0.9, 0.99)\n",
    "            elif 'neg_neg_neg' in file_pick[k]:\n",
    "                Y_batch[k, :] = 0.0 #np.random.uniform(0.01, 0.05)\n",
    "            else:\n",
    "                werhgaer\n",
    "                \n",
    "        #Y_batch_cate = tf.keras.utils.to_categorical(Y_batch)\n",
    "        \n",
    "        # # add noise within sparse inputs\n",
    "        # for v in flag_sparse:\n",
    "        #     X_batch[..., v] += np.random.uniform(0, 0.01, size=(batch_size, 128, 128))\n",
    "\n",
    "        # shuffle indices\n",
    "        ind_ = du.shuffle_ind(batch_size)\n",
    "        X_batch = X_batch[ind_, ...]\n",
    "        Y_batch = Y_batch[ind_, :]\n",
    "        \n",
    "        if np.sum(np.isnan(X_batch)) > 0:\n",
    "            asfeargagqarew\n",
    "        \n",
    "        # train on batch\n",
    "        model.train_on_batch([X_batch,], [Y_batch,]);\n",
    "    \n",
    "    # epoch end operations\n",
    "    Y_pred = model.predict([TEST_input,])\n",
    "    # Y_pred[Y_pred<0] = 0\n",
    "    # Y_pred[Y_pred>1] = 1\n",
    "    record_temp = verif_metric(TEST_target, Y_pred)\n",
    "    \n",
    "    # if i % 10 == 0:\n",
    "    #     model.save(model_path_backup)\n",
    "    \n",
    "    if (record - record_temp > min_del) and (np.max(Y_pred) > 0.6):\n",
    "        print('Validation loss improved from {} to {}'.format(record, record_temp))\n",
    "        record = record_temp\n",
    "        tol = 0\n",
    "        #print('tol: {}'.format(tol))\n",
    "        # save\n",
    "        print('save to: {}'.format(model_path))\n",
    "        model.save(model_path)\n",
    "    else:\n",
    "        print('Validation loss {} NOT improved'.format(record_temp))\n",
    "        tol += 1\n",
    "        #print('tol: {}'.format(tol))\n",
    "        if tol >= max_tol:\n",
    "            print('Early stopping')\n",
    "            sys.exit();\n",
    "        else:\n",
    "            #print('Pass to the next epoch')\n",
    "            continue;\n",
    "    print(\"--- %s seconds ---\" % (time.time() - start_time))"
   ]
  },
  {
   "cell_type": "code",
   "execution_count": null,
   "id": "79545757-3242-449d-bd8f-46612af69f7f",
   "metadata": {},
   "outputs": [],
   "source": []
  },
  {
   "cell_type": "code",
   "execution_count": null,
   "id": "25f1c6f0-1c2b-421f-8c3c-d6f54f920135",
   "metadata": {},
   "outputs": [],
   "source": []
  },
  {
   "cell_type": "code",
   "execution_count": 38,
   "id": "baaee327-4cd1-4656-b778-8dadbf4a7c2a",
   "metadata": {},
   "outputs": [
    {
     "data": {
      "text/plain": [
       "123844"
      ]
     },
     "execution_count": 38,
     "metadata": {},
     "output_type": "execute_result"
    }
   ],
   "source": [
    "j"
   ]
  },
  {
   "cell_type": "code",
   "execution_count": null,
   "id": "5e36941d-bcdc-4d6f-a44a-4a30e273ebb7",
   "metadata": {},
   "outputs": [],
   "source": [
    "https://mesonet.agron.iastate.edu/pickup/wwa/"
   ]
  },
  {
   "cell_type": "code",
   "execution_count": null,
   "id": "06d3a65c-c303-47c3-a629-94351ebd3ade",
   "metadata": {},
   "outputs": [],
   "source": []
  },
  {
   "cell_type": "code",
   "execution_count": 29,
   "id": "e4d9a07b-cea7-45dd-81e5-f08f8a50e689",
   "metadata": {},
   "outputs": [
    {
     "data": {
      "text/plain": [
       "1"
      ]
     },
     "execution_count": 29,
     "metadata": {},
     "output_type": "execute_result"
    }
   ],
   "source": [
    "10 % 3"
   ]
  },
  {
   "cell_type": "code",
   "execution_count": null,
   "id": "e83e1ee3-6c58-4da1-8f55-d942b9be9159",
   "metadata": {},
   "outputs": [],
   "source": []
  },
  {
   "cell_type": "code",
   "execution_count": null,
   "id": "c7191747-33d0-453b-8f49-60abd69cb37b",
   "metadata": {},
   "outputs": [],
   "source": []
  },
  {
   "cell_type": "code",
   "execution_count": null,
   "id": "9e03b9ee-0806-40b4-86a5-2375b696fc82",
   "metadata": {},
   "outputs": [],
   "source": []
  }
 ],
 "metadata": {
  "kernelspec": {
   "display_name": "Python 3 (ipykernel)",
   "language": "python",
   "name": "python3"
  },
  "language_info": {
   "codemirror_mode": {
    "name": "ipython",
    "version": 3
   },
   "file_extension": ".py",
   "mimetype": "text/x-python",
   "name": "python",
   "nbconvert_exporter": "python",
   "pygments_lexer": "ipython3",
   "version": "3.9.13"
  }
 },
 "nbformat": 4,
 "nbformat_minor": 5
}
