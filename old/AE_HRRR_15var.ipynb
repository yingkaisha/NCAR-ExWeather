{
 "cells": [
  {
   "cell_type": "code",
   "execution_count": 1,
   "id": "e658a513-e3a9-41b2-b3ab-2c6fd37cedad",
   "metadata": {},
   "outputs": [
    {
     "name": "stderr",
     "output_type": "stream",
     "text": [
      "2022-10-03 09:42:27.196333: I tensorflow/stream_executor/platform/default/dso_loader.cc:49] Successfully opened dynamic library libcudart.so.10.1\n"
     ]
    }
   ],
   "source": [
    "# general tools\n",
    "import sys\n",
    "from glob import glob\n",
    "\n",
    "# data tools\n",
    "import time\n",
    "import h5py\n",
    "import random\n",
    "import numpy as np\n",
    "from random import shuffle\n",
    "\n",
    "# deep learning tools\n",
    "import tensorflow as tf\n",
    "from tensorflow import keras\n",
    "from tensorflow.keras import utils\n",
    "from tensorflow.keras import Model\n",
    "from tensorflow.keras import layers\n",
    "from tensorflow.keras import backend\n",
    "\n",
    "tf.config.run_functions_eagerly(True)"
   ]
  },
  {
   "cell_type": "code",
   "execution_count": 2,
   "id": "13cc20b3-4ffd-45cd-9873-f1dd161de6ca",
   "metadata": {},
   "outputs": [],
   "source": [
    "from sklearn.metrics import classification_report, auc, roc_curve, confusion_matrix, brier_score_loss, log_loss\n",
    "\n",
    "import matplotlib.pyplot as plt\n",
    "%matplotlib inline"
   ]
  },
  {
   "cell_type": "code",
   "execution_count": 3,
   "id": "c8b7b0be-d533-4ef9-92be-e7f1761f9af0",
   "metadata": {},
   "outputs": [],
   "source": [
    "from keras_unet_collection import utils as k_utils\n",
    "\n",
    "sys.path.insert(0, '/glade/u/home/ksha/NCAR/')\n",
    "sys.path.insert(0, '/glade/u/home/ksha/NCAR/libs/')\n",
    "\n",
    "from namelist import *\n",
    "import data_utils as du\n",
    "import graph_utils as gu"
   ]
  },
  {
   "cell_type": "code",
   "execution_count": 4,
   "id": "9a3287fb-d8c8-4507-ac53-ded18cafdf67",
   "metadata": {},
   "outputs": [],
   "source": [
    "ind_pick_from_batch = [0, 1, 3, 4, 8, 9, 10, 13, 14, 15, 16, 17, 18, 21, 22]\n",
    "L_vars = len(ind_pick_from_batch)"
   ]
  },
  {
   "cell_type": "code",
   "execution_count": 5,
   "id": "f18e3ddc-41ba-47f8-93ab-a683809d26de",
   "metadata": {},
   "outputs": [],
   "source": [
    "filename_neg_train = sorted(glob(\"/glade/scratch/ksha/DATA/NCAR_batch/TRAIN*neg_neg_neg*lead2.npy\"))\n",
    "filename_pos_train = sorted(glob(\"/glade/scratch/ksha/DATA/NCAR_batch/TRAIN*pos*lead2.npy\"))\n",
    "filename_neg_valid = sorted(glob(\"/glade/scratch/ksha/DATA/NCAR_batch/VALID*neg_neg_neg*lead2.npy\"))\n",
    "filename_pos_valid = sorted(glob(\"/glade/scratch/ksha/DATA/NCAR_batch/VALID*pos*lead2.npy\"))"
   ]
  },
  {
   "cell_type": "code",
   "execution_count": 6,
   "id": "4a01bdb2-dbac-4e1a-8d4e-1b5213a832e7",
   "metadata": {},
   "outputs": [],
   "source": [
    "filename_train = filename_neg_train+filename_pos_train"
   ]
  },
  {
   "cell_type": "code",
   "execution_count": 7,
   "id": "d9b3ce45-e5a3-4e3d-9064-64c866019c0f",
   "metadata": {},
   "outputs": [],
   "source": [
    "filename_valid = filename_neg_valid[4::50] + filename_pos_valid[4::50]"
   ]
  },
  {
   "cell_type": "code",
   "execution_count": 8,
   "id": "eba8c549-5a55-419d-a3cb-9d0ef046ab33",
   "metadata": {},
   "outputs": [],
   "source": [
    "L_valid = len(filename_valid)\n",
    "L_var = L_vars\n",
    "\n",
    "TEST_input = np.empty((L_valid, 64, 64, L_var))\n",
    "TEST_target = np.ones(L_valid)\n",
    "\n",
    "for i, name in enumerate(filename_valid):\n",
    "    data = np.load(name)\n",
    "    for k, c in enumerate(ind_pick_from_batch):\n",
    "        \n",
    "        TEST_input[i, ..., k] = data[..., c]\n",
    "\n",
    "        if 'pos' in name:\n",
    "            TEST_target[i] = 1.0\n",
    "        else:\n",
    "            TEST_target[i] = 0.0"
   ]
  },
  {
   "cell_type": "code",
   "execution_count": 9,
   "id": "e519a6c9-4623-4dc7-9626-4291ea29512d",
   "metadata": {},
   "outputs": [
    {
     "name": "stderr",
     "output_type": "stream",
     "text": [
      "2022-10-03 09:46:01.542188: I tensorflow/compiler/jit/xla_cpu_device.cc:41] Not creating XLA devices, tf_xla_enable_xla_devices not set\n",
      "2022-10-03 09:46:01.544150: I tensorflow/stream_executor/platform/default/dso_loader.cc:49] Successfully opened dynamic library libcuda.so.1\n",
      "2022-10-03 09:46:01.616686: I tensorflow/core/common_runtime/gpu/gpu_device.cc:1720] Found device 0 with properties: \n",
      "pciBusID: 0000:61:00.0 name: Tesla V100-SXM2-32GB computeCapability: 7.0\n",
      "coreClock: 1.53GHz coreCount: 80 deviceMemorySize: 31.75GiB deviceMemoryBandwidth: 836.37GiB/s\n",
      "2022-10-03 09:46:01.616771: I tensorflow/stream_executor/platform/default/dso_loader.cc:49] Successfully opened dynamic library libcudart.so.10.1\n",
      "2022-10-03 09:46:01.770671: I tensorflow/stream_executor/platform/default/dso_loader.cc:49] Successfully opened dynamic library libcublas.so.10\n",
      "2022-10-03 09:46:01.770746: I tensorflow/stream_executor/platform/default/dso_loader.cc:49] Successfully opened dynamic library libcublasLt.so.10\n",
      "2022-10-03 09:46:01.844280: I tensorflow/stream_executor/platform/default/dso_loader.cc:49] Successfully opened dynamic library libcufft.so.10\n",
      "2022-10-03 09:46:01.946788: I tensorflow/stream_executor/platform/default/dso_loader.cc:49] Successfully opened dynamic library libcurand.so.10\n",
      "2022-10-03 09:46:02.066711: I tensorflow/stream_executor/platform/default/dso_loader.cc:49] Successfully opened dynamic library libcusolver.so.10\n",
      "2022-10-03 09:46:02.156015: I tensorflow/stream_executor/platform/default/dso_loader.cc:49] Successfully opened dynamic library libcusparse.so.10\n",
      "2022-10-03 09:46:02.284964: I tensorflow/stream_executor/platform/default/dso_loader.cc:49] Successfully opened dynamic library libcudnn.so.7\n",
      "2022-10-03 09:46:02.285806: I tensorflow/core/common_runtime/gpu/gpu_device.cc:1862] Adding visible gpu devices: 0\n",
      "2022-10-03 09:46:02.302031: I tensorflow/core/platform/cpu_feature_guard.cc:142] This TensorFlow binary is optimized with oneAPI Deep Neural Network Library (oneDNN) to use the following CPU instructions in performance-critical operations:  SSE4.1 SSE4.2 AVX AVX2 AVX512F FMA\n",
      "To enable them in other operations, rebuild TensorFlow with the appropriate compiler flags.\n",
      "2022-10-03 09:46:02.302320: I tensorflow/compiler/jit/xla_gpu_device.cc:99] Not creating XLA devices, tf_xla_enable_xla_devices not set\n",
      "2022-10-03 09:46:02.302814: I tensorflow/core/common_runtime/gpu/gpu_device.cc:1720] Found device 0 with properties: \n",
      "pciBusID: 0000:61:00.0 name: Tesla V100-SXM2-32GB computeCapability: 7.0\n",
      "coreClock: 1.53GHz coreCount: 80 deviceMemorySize: 31.75GiB deviceMemoryBandwidth: 836.37GiB/s\n",
      "2022-10-03 09:46:02.302855: I tensorflow/stream_executor/platform/default/dso_loader.cc:49] Successfully opened dynamic library libcudart.so.10.1\n",
      "2022-10-03 09:46:02.302892: I tensorflow/stream_executor/platform/default/dso_loader.cc:49] Successfully opened dynamic library libcublas.so.10\n",
      "2022-10-03 09:46:02.302903: I tensorflow/stream_executor/platform/default/dso_loader.cc:49] Successfully opened dynamic library libcublasLt.so.10\n",
      "2022-10-03 09:46:02.302914: I tensorflow/stream_executor/platform/default/dso_loader.cc:49] Successfully opened dynamic library libcufft.so.10\n",
      "2022-10-03 09:46:02.302925: I tensorflow/stream_executor/platform/default/dso_loader.cc:49] Successfully opened dynamic library libcurand.so.10\n",
      "2022-10-03 09:46:02.302936: I tensorflow/stream_executor/platform/default/dso_loader.cc:49] Successfully opened dynamic library libcusolver.so.10\n",
      "2022-10-03 09:46:02.302946: I tensorflow/stream_executor/platform/default/dso_loader.cc:49] Successfully opened dynamic library libcusparse.so.10\n",
      "2022-10-03 09:46:02.302957: I tensorflow/stream_executor/platform/default/dso_loader.cc:49] Successfully opened dynamic library libcudnn.so.7\n",
      "2022-10-03 09:46:02.303486: I tensorflow/core/common_runtime/gpu/gpu_device.cc:1862] Adding visible gpu devices: 0\n",
      "2022-10-03 09:46:02.303543: I tensorflow/stream_executor/platform/default/dso_loader.cc:49] Successfully opened dynamic library libcudart.so.10.1\n",
      "2022-10-03 09:46:05.064965: I tensorflow/core/common_runtime/gpu/gpu_device.cc:1261] Device interconnect StreamExecutor with strength 1 edge matrix:\n",
      "2022-10-03 09:46:05.065007: I tensorflow/core/common_runtime/gpu/gpu_device.cc:1267]      0 \n",
      "2022-10-03 09:46:05.065028: I tensorflow/core/common_runtime/gpu/gpu_device.cc:1280] 0:   N \n",
      "2022-10-03 09:46:05.088473: I tensorflow/core/common_runtime/gpu/gpu_device.cc:1406] Created TensorFlow device (/job:localhost/replica:0/task:0/device:GPU:0 with 30132 MB memory) -> physical GPU (device: 0, name: Tesla V100-SXM2-32GB, pci bus id: 0000:61:00.0, compute capability: 7.0)\n"
     ]
    }
   ],
   "source": [
    "input_shape = (64, 64, 15)\n",
    "\n",
    "IN = layers.Input(shape=input_shape)\n",
    "\n",
    "X = IN\n",
    "model_name = 'encoder'\n",
    "X = layers.Conv2D(64, kernel_size=2, strides=2, name=\"{}_down0\".format(model_name))(X)\n",
    "X = layers.LayerNormalization(epsilon=1e-6, name=\"{}_down0_norm1\".format(model_name))(X)\n",
    "X = layers.Activation(\"gelu\", name=\"{}_down0_gelu1\".format(model_name))(X)\n",
    "\n",
    "X = layers.Conv2D(64, kernel_size=3, padding=\"same\", name=\"{}_down0_conv\".format(model_name))(X)\n",
    "X = layers.LayerNormalization(epsilon=1e-6, name=\"{}_down0_norm2\".format(model_name))(X)\n",
    "X = layers.Activation(\"gelu\", name=\"{}_down0_gelu2\".format(model_name))(X)\n",
    "\n",
    "\n",
    "X = layers.Conv2D(128, kernel_size=2, strides=2, name=\"{}_down1\".format(model_name))(X)\n",
    "X = layers.LayerNormalization(epsilon=1e-6, name=\"{}_down1_norm1\".format(model_name))(X)\n",
    "X = layers.Activation(\"gelu\", name=\"{}_down1_gelu1\".format(model_name))(X)\n",
    "\n",
    "X = layers.Conv2D(128, kernel_size=3, padding=\"same\", name=\"{}_down1_conv\".format(model_name))(X)\n",
    "X = layers.LayerNormalization(epsilon=1e-6, name=\"{}_down1_norm2\".format(model_name))(X)\n",
    "X = layers.Activation(\"gelu\", name=\"{}_down1_gelu2\".format(model_name))(X)\n",
    "\n",
    "\n",
    "X = layers.Conv2D(256, kernel_size=2, strides=2, name=\"{}_down2\".format(model_name))(X)\n",
    "X = layers.LayerNormalization(epsilon=1e-6, name=\"{}_down2_norm1\".format(model_name))(X)\n",
    "X = layers.Activation(\"gelu\", name=\"{}_down2_gelu1\".format(model_name))(X)\n",
    "\n",
    "X = layers.Conv2D(256, kernel_size=3, padding=\"same\", name=\"{}_down2_conv\".format(model_name))(X)\n",
    "X = layers.LayerNormalization(epsilon=1e-6, name=\"{}_down2_norm2\".format(model_name))(X)\n",
    "X = layers.Activation(\"gelu\", name=\"{}_down2_gelu2\".format(model_name))(X)\n",
    "\n",
    "\n",
    "X = layers.Conv2D(512, kernel_size=2, strides=2, name=\"{}_down3\".format(model_name))(X)\n",
    "X = layers.LayerNormalization(epsilon=1e-6, name=\"{}_down3_norm1\".format(model_name))(X)\n",
    "X = layers.Activation(\"gelu\", name=\"{}_down3_gelu1\".format(model_name))(X)\n",
    "\n",
    "X = layers.Conv2D(512, kernel_size=3, padding=\"same\", name=\"{}_down3_conv\".format(model_name))(X)\n",
    "X = layers.LayerNormalization(epsilon=1e-6, name=\"{}_down3_norm2\".format(model_name))(X)\n",
    "X = layers.Activation(\"gelu\", name=\"{}_down3_gelu2\".format(model_name))(X)\n",
    "\n",
    "L = layers.Flatten()(X)\n",
    "\n",
    "L = layers.Dense(512)(L)\n",
    "L = layers.LayerNormalization(epsilon=1e-6, name=\"{}_dense_norm1\".format(model_name))(L)\n",
    "L = layers.Activation(\"gelu\", name=\"{}_dense_gelu1\".format(model_name))(L)\n",
    "\n",
    "L = layers.Reshape((4, 4, 32))(L)\n",
    "\n",
    "model_name = 'decoder'\n",
    "L = layers.Conv2DTranspose(256, kernel_size=2, strides=(2, 2), padding='same', name='{}_up1_trans'.format(model_name))(L)\n",
    "L = layers.LayerNormalization(epsilon=1e-6, name=\"{}_up1_norm1\".format(model_name))(L)\n",
    "L = layers.Activation(\"gelu\", name=\"{}_up1_gelu1\".format(model_name))(L)\n",
    "\n",
    "L = layers.Conv2D(256, kernel_size=3, padding=\"same\", name=\"{}_up1_conv\".format(model_name))(L)\n",
    "L = layers.LayerNormalization(epsilon=1e-6, name=\"{}_up1_norm2\".format(model_name))(L)\n",
    "L = layers.Activation(\"gelu\", name=\"{}_up1_gelu2\".format(model_name))(L)\n",
    "\n",
    "L = layers.Conv2DTranspose(128, kernel_size=2, strides=(2, 2), padding='same', name='{}_up2_trans'.format(model_name))(L)\n",
    "L = layers.LayerNormalization(epsilon=1e-6, name=\"{}_up2_norm1\".format(model_name))(L)\n",
    "L = layers.Activation(\"gelu\", name=\"{}_up2_gelu1\".format(model_name))(L)\n",
    "\n",
    "L = layers.Conv2D(128, kernel_size=3, padding=\"same\", name=\"{}_up2_conv\".format(model_name))(L)\n",
    "L = layers.LayerNormalization(epsilon=1e-6, name=\"{}_up2_norm2\".format(model_name))(L)\n",
    "L = layers.Activation(\"gelu\", name=\"{}_up2_gelu2\".format(model_name))(L)\n",
    "\n",
    "L = layers.Conv2DTranspose(64, kernel_size=2, strides=(2, 2), padding='same', name='{}_up3_trans'.format(model_name))(L)\n",
    "L = layers.LayerNormalization(epsilon=1e-6, name=\"{}_up3_norm1\".format(model_name))(L)\n",
    "L = layers.Activation(\"gelu\", name=\"{}_up3_gelu1\".format(model_name))(L)\n",
    "\n",
    "L = layers.Conv2D(64, kernel_size=3, padding=\"same\", name=\"{}_up3_conv\".format(model_name))(L)\n",
    "L = layers.LayerNormalization(epsilon=1e-6, name=\"{}_up3_norm2\".format(model_name))(L)\n",
    "L = layers.Activation(\"gelu\", name=\"{}_up3_gelu2\".format(model_name))(L)\n",
    "\n",
    "L = layers.Conv2DTranspose(32, kernel_size=2, strides=(2, 2), padding='same', name='{}_up4_trans'.format(model_name))(L)\n",
    "L = layers.LayerNormalization(epsilon=1e-6, name=\"{}_up4_norm1\".format(model_name))(L)\n",
    "L = layers.Activation(\"gelu\", name=\"{}_up4_gelu1\".format(model_name))(L)\n",
    "\n",
    "L = layers.Conv2D(32, kernel_size=3, padding=\"same\", name=\"{}_up4_conv\".format(model_name))(L)\n",
    "L = layers.LayerNormalization(epsilon=1e-6, name=\"{}_up4_norm2\".format(model_name))(L)\n",
    "L = layers.Activation(\"gelu\", name=\"{}_up4_gelu2\".format(model_name))(L)\n",
    "\n",
    "L = layers.Conv2D(15, kernel_size=1, padding=\"same\", name=\"{}_up4_out\".format(model_name))(L)\n"
   ]
  },
  {
   "cell_type": "code",
   "execution_count": 10,
   "id": "0095bfa0-6e02-445a-9264-0b0a38778c75",
   "metadata": {},
   "outputs": [
    {
     "data": {
      "text/plain": [
       "<KerasTensor: shape=(None, 64, 64, 15) dtype=float32 (created by layer 'decoder_up4_out')>"
      ]
     },
     "execution_count": 10,
     "metadata": {},
     "output_type": "execute_result"
    }
   ],
   "source": [
    "L"
   ]
  },
  {
   "cell_type": "code",
   "execution_count": 11,
   "id": "d31a8c9f-3306-4d90-aeda-30a13d4b9812",
   "metadata": {},
   "outputs": [],
   "source": [
    "model = Model(inputs=IN, outputs=L, name='AE')"
   ]
  },
  {
   "cell_type": "code",
   "execution_count": 12,
   "id": "ce108325-a2f9-4fbc-9d20-7ac1c03e4796",
   "metadata": {},
   "outputs": [],
   "source": [
    "batch_dir = '/glade/scratch/ksha/DATA/NCAR_batch/'\n",
    "temp_dir = '/glade/work/ksha/NCAR/Keras_models/'\n",
    "\n",
    "key = 'AE_Lead2'\n",
    "\n",
    "model_name = '{}_pp15_tune'.format(key)\n",
    "model_path = temp_dir+model_name\n",
    "\n",
    "W_old = k_utils.dummy_loader(temp_dir+'AE_Lead2_pp15')\n",
    "model.set_weights(W_old)"
   ]
  },
  {
   "cell_type": "code",
   "execution_count": 13,
   "id": "f8d7ca48-c59f-4d28-b4d2-356e4292a3bb",
   "metadata": {},
   "outputs": [],
   "source": [
    "model.compile(loss=keras.losses.mean_absolute_error, optimizer=keras.optimizers.Adam(lr=1e-4))"
   ]
  },
  {
   "cell_type": "code",
   "execution_count": 14,
   "id": "bb09c9ac-bcc2-4de9-9244-c9a1e3e8bb0b",
   "metadata": {},
   "outputs": [],
   "source": [
    "tol = 0\n",
    "min_del = 0\n",
    "max_tol = 500 # early stopping with patience\n",
    "\n",
    "epochs = 500\n",
    "L_train = 64\n",
    "batch_size = 100\n",
    "\n",
    "batch_size_half = 50\n",
    "\n",
    "valid_size = 1"
   ]
  },
  {
   "cell_type": "code",
   "execution_count": 15,
   "id": "68019ff7-aa54-40b9-9496-dd66edde1d91",
   "metadata": {},
   "outputs": [],
   "source": [
    "X_batch = np.empty((batch_size, 64, 64, L_vars))\n",
    "Y_batch = np.empty((batch_size, 1))\n",
    "\n",
    "X_batch[...] = np.nan\n",
    "Y_batch[...] = np.nan"
   ]
  },
  {
   "cell_type": "code",
   "execution_count": 16,
   "id": "811092f7-3c25-43a5-bccd-273ef939fdfe",
   "metadata": {},
   "outputs": [
    {
     "name": "stderr",
     "output_type": "stream",
     "text": [
      "/glade/work/ksha/anaconda3/lib/python3.9/site-packages/tensorflow/python/data/ops/dataset_ops.py:3503: UserWarning: Even though the tf.config.experimental_run_functions_eagerly option is set, this option does not apply to tf.data functions. tf.data functions are still traced and executed as graphs.\n",
      "  warnings.warn(\n",
      "2022-10-03 09:46:10.634947: I tensorflow/compiler/mlir/mlir_graph_optimization_pass.cc:116] None of the MLIR optimization passes are enabled (registered 2)\n",
      "2022-10-03 09:46:10.635666: I tensorflow/core/platform/profile_utils/cpu_utils.cc:112] CPU Frequency: 2600000000 Hz\n",
      "2022-10-03 09:46:10.953200: I tensorflow/stream_executor/platform/default/dso_loader.cc:49] Successfully opened dynamic library libcudnn.so.7\n",
      "2022-10-03 09:46:14.693576: I tensorflow/stream_executor/platform/default/dso_loader.cc:49] Successfully opened dynamic library libcublas.so.10\n"
     ]
    }
   ],
   "source": [
    "Y_pred = model.predict([TEST_input])"
   ]
  },
  {
   "cell_type": "code",
   "execution_count": 17,
   "id": "640f76a2-6a0f-4f27-bea5-2e757f687b10",
   "metadata": {},
   "outputs": [],
   "source": [
    "def verif_metric(VALID_target, Y_pred):\n",
    "    return np.mean(np.abs(VALID_target-Y_pred))"
   ]
  },
  {
   "cell_type": "code",
   "execution_count": 18,
   "id": "04194c10-53d0-40f3-b192-d1d842dbaf1f",
   "metadata": {},
   "outputs": [
    {
     "name": "stdout",
     "output_type": "stream",
     "text": [
      "Initial record: 0.12071660907851908\n"
     ]
    }
   ],
   "source": [
    "record = verif_metric(TEST_input, Y_pred)\n",
    "print(\"Initial record: {}\".format(record))"
   ]
  },
  {
   "cell_type": "code",
   "execution_count": 36,
   "id": "ae2820d4-4642-4505-b458-e920b2b31b22",
   "metadata": {},
   "outputs": [
    {
     "data": {
      "text/plain": [
       "<matplotlib.collections.QuadMesh at 0x2b7b7ebe32e0>"
      ]
     },
     "execution_count": 36,
     "metadata": {},
     "output_type": "execute_result"
    },
    {
     "data": {
      "image/png": "[encoded data removed]",
      "text/plain": [
       "<Figure size 640x480 with 1 Axes>"
      ]
     },
     "metadata": {},
     "output_type": "display_data"
    }
   ],
   "source": [
    "plt.pcolormesh(Y_pred[0, ..., 14])"
   ]
  },
  {
   "cell_type": "markdown",
   "id": "5dcd5847-079e-422a-8f60-5af242b03c3d",
   "metadata": {},
   "source": [
    "tf.config.list_physical_devices('GPU')"
   ]
  },
  {
   "cell_type": "code",
   "execution_count": null,
   "id": "733f44a5-70e4-4efa-8eb9-4b2402a833ed",
   "metadata": {},
   "outputs": [
    {
     "name": "stderr",
     "output_type": "stream",
     "text": [
      "/glade/work/ksha/anaconda3/lib/python3.9/site-packages/tensorflow/python/data/ops/dataset_ops.py:3503: UserWarning: Even though the tf.config.experimental_run_functions_eagerly option is set, this option does not apply to tf.data functions. tf.data functions are still traced and executed as graphs.\n",
      "  warnings.warn(\n"
     ]
    },
    {
     "name": "stdout",
     "output_type": "stream",
     "text": [
      "Validation loss improved from 0.4425114963317273 to 0.43008654726177886\n",
      "save to: /glade/work/ksha/NCAR/Keras_models/AE_Lead2_pp15\n",
      "INFO:tensorflow:Assets written to: /glade/work/ksha/NCAR/Keras_models/AE_Lead2_pp15/assets\n",
      "--- 182.8050684928894 seconds ---\n"
     ]
    },
    {
     "name": "stderr",
     "output_type": "stream",
     "text": [
      "/glade/work/ksha/anaconda3/lib/python3.9/site-packages/tensorflow/python/data/ops/dataset_ops.py:3503: UserWarning: Even though the tf.config.experimental_run_functions_eagerly option is set, this option does not apply to tf.data functions. tf.data functions are still traced and executed as graphs.\n",
      "  warnings.warn(\n"
     ]
    },
    {
     "name": "stdout",
     "output_type": "stream",
     "text": [
      "Validation loss improved from 0.43008654726177886 to 0.41797117355031826\n",
      "save to: /glade/work/ksha/NCAR/Keras_models/AE_Lead2_pp15\n",
      "INFO:tensorflow:Assets written to: /glade/work/ksha/NCAR/Keras_models/AE_Lead2_pp15/assets\n",
      "--- 185.20995020866394 seconds ---\n"
     ]
    },
    {
     "name": "stderr",
     "output_type": "stream",
     "text": [
      "/glade/work/ksha/anaconda3/lib/python3.9/site-packages/tensorflow/python/data/ops/dataset_ops.py:3503: UserWarning: Even though the tf.config.experimental_run_functions_eagerly option is set, this option does not apply to tf.data functions. tf.data functions are still traced and executed as graphs.\n",
      "  warnings.warn(\n"
     ]
    },
    {
     "name": "stdout",
     "output_type": "stream",
     "text": [
      "Validation loss improved from 0.41797117355031826 to 0.4023372836897901\n",
      "save to: /glade/work/ksha/NCAR/Keras_models/AE_Lead2_pp15\n",
      "INFO:tensorflow:Assets written to: /glade/work/ksha/NCAR/Keras_models/AE_Lead2_pp15/assets\n",
      "--- 190.4381546974182 seconds ---\n"
     ]
    },
    {
     "name": "stderr",
     "output_type": "stream",
     "text": [
      "/glade/work/ksha/anaconda3/lib/python3.9/site-packages/tensorflow/python/data/ops/dataset_ops.py:3503: UserWarning: Even though the tf.config.experimental_run_functions_eagerly option is set, this option does not apply to tf.data functions. tf.data functions are still traced and executed as graphs.\n",
      "  warnings.warn(\n"
     ]
    },
    {
     "name": "stdout",
     "output_type": "stream",
     "text": [
      "Validation loss improved from 0.4023372836897901 to 0.38641873616589684\n",
      "save to: /glade/work/ksha/NCAR/Keras_models/AE_Lead2_pp15\n",
      "INFO:tensorflow:Assets written to: /glade/work/ksha/NCAR/Keras_models/AE_Lead2_pp15/assets\n",
      "--- 183.331374168396 seconds ---\n"
     ]
    },
    {
     "name": "stderr",
     "output_type": "stream",
     "text": [
      "/glade/work/ksha/anaconda3/lib/python3.9/site-packages/tensorflow/python/data/ops/dataset_ops.py:3503: UserWarning: Even though the tf.config.experimental_run_functions_eagerly option is set, this option does not apply to tf.data functions. tf.data functions are still traced and executed as graphs.\n",
      "  warnings.warn(\n"
     ]
    },
    {
     "name": "stdout",
     "output_type": "stream",
     "text": [
      "Validation loss improved from 0.38641873616589684 to 0.3739658565332311\n",
      "save to: /glade/work/ksha/NCAR/Keras_models/AE_Lead2_pp15\n",
      "INFO:tensorflow:Assets written to: /glade/work/ksha/NCAR/Keras_models/AE_Lead2_pp15/assets\n",
      "--- 176.99525427818298 seconds ---\n"
     ]
    },
    {
     "name": "stderr",
     "output_type": "stream",
     "text": [
      "/glade/work/ksha/anaconda3/lib/python3.9/site-packages/tensorflow/python/data/ops/dataset_ops.py:3503: UserWarning: Even though the tf.config.experimental_run_functions_eagerly option is set, this option does not apply to tf.data functions. tf.data functions are still traced and executed as graphs.\n",
      "  warnings.warn(\n"
     ]
    },
    {
     "name": "stdout",
     "output_type": "stream",
     "text": [
      "Validation loss improved from 0.3739658565332311 to 0.3645483934064358\n",
      "save to: /glade/work/ksha/NCAR/Keras_models/AE_Lead2_pp15\n",
      "INFO:tensorflow:Assets written to: /glade/work/ksha/NCAR/Keras_models/AE_Lead2_pp15/assets\n",
      "--- 198.32334065437317 seconds ---\n"
     ]
    },
    {
     "name": "stderr",
     "output_type": "stream",
     "text": [
      "/glade/work/ksha/anaconda3/lib/python3.9/site-packages/tensorflow/python/data/ops/dataset_ops.py:3503: UserWarning: Even though the tf.config.experimental_run_functions_eagerly option is set, this option does not apply to tf.data functions. tf.data functions are still traced and executed as graphs.\n",
      "  warnings.warn(\n"
     ]
    },
    {
     "name": "stdout",
     "output_type": "stream",
     "text": [
      "Validation loss improved from 0.3645483934064358 to 0.3546238944603552\n",
      "save to: /glade/work/ksha/NCAR/Keras_models/AE_Lead2_pp15\n",
      "INFO:tensorflow:Assets written to: /glade/work/ksha/NCAR/Keras_models/AE_Lead2_pp15/assets\n",
      "--- 186.62869453430176 seconds ---\n"
     ]
    },
    {
     "name": "stderr",
     "output_type": "stream",
     "text": [
      "/glade/work/ksha/anaconda3/lib/python3.9/site-packages/tensorflow/python/data/ops/dataset_ops.py:3503: UserWarning: Even though the tf.config.experimental_run_functions_eagerly option is set, this option does not apply to tf.data functions. tf.data functions are still traced and executed as graphs.\n",
      "  warnings.warn(\n"
     ]
    },
    {
     "name": "stdout",
     "output_type": "stream",
     "text": [
      "Validation loss improved from 0.3546238944603552 to 0.3479135507578465\n",
      "save to: /glade/work/ksha/NCAR/Keras_models/AE_Lead2_pp15\n",
      "INFO:tensorflow:Assets written to: /glade/work/ksha/NCAR/Keras_models/AE_Lead2_pp15/assets\n",
      "--- 194.1501224040985 seconds ---\n"
     ]
    },
    {
     "name": "stderr",
     "output_type": "stream",
     "text": [
      "/glade/work/ksha/anaconda3/lib/python3.9/site-packages/tensorflow/python/data/ops/dataset_ops.py:3503: UserWarning: Even though the tf.config.experimental_run_functions_eagerly option is set, this option does not apply to tf.data functions. tf.data functions are still traced and executed as graphs.\n",
      "  warnings.warn(\n"
     ]
    },
    {
     "name": "stdout",
     "output_type": "stream",
     "text": [
      "Validation loss improved from 0.3479135507578465 to 0.340499703735933\n",
      "save to: /glade/work/ksha/NCAR/Keras_models/AE_Lead2_pp15\n",
      "INFO:tensorflow:Assets written to: /glade/work/ksha/NCAR/Keras_models/AE_Lead2_pp15/assets\n",
      "--- 183.7177095413208 seconds ---\n"
     ]
    },
    {
     "name": "stderr",
     "output_type": "stream",
     "text": [
      "/glade/work/ksha/anaconda3/lib/python3.9/site-packages/tensorflow/python/data/ops/dataset_ops.py:3503: UserWarning: Even though the tf.config.experimental_run_functions_eagerly option is set, this option does not apply to tf.data functions. tf.data functions are still traced and executed as graphs.\n",
      "  warnings.warn(\n"
     ]
    },
    {
     "name": "stdout",
     "output_type": "stream",
     "text": [
      "Validation loss improved from 0.340499703735933 to 0.3342185508834527\n",
      "save to: /glade/work/ksha/NCAR/Keras_models/AE_Lead2_pp15\n",
      "INFO:tensorflow:Assets written to: /glade/work/ksha/NCAR/Keras_models/AE_Lead2_pp15/assets\n",
      "--- 195.60409498214722 seconds ---\n"
     ]
    },
    {
     "name": "stderr",
     "output_type": "stream",
     "text": [
      "/glade/work/ksha/anaconda3/lib/python3.9/site-packages/tensorflow/python/data/ops/dataset_ops.py:3503: UserWarning: Even though the tf.config.experimental_run_functions_eagerly option is set, this option does not apply to tf.data functions. tf.data functions are still traced and executed as graphs.\n",
      "  warnings.warn(\n"
     ]
    },
    {
     "name": "stdout",
     "output_type": "stream",
     "text": [
      "Validation loss improved from 0.3342185508834527 to 0.32806694651091706\n",
      "save to: /glade/work/ksha/NCAR/Keras_models/AE_Lead2_pp15\n",
      "INFO:tensorflow:Assets written to: /glade/work/ksha/NCAR/Keras_models/AE_Lead2_pp15/assets\n",
      "--- 181.96609950065613 seconds ---\n"
     ]
    },
    {
     "name": "stderr",
     "output_type": "stream",
     "text": [
      "/glade/work/ksha/anaconda3/lib/python3.9/site-packages/tensorflow/python/data/ops/dataset_ops.py:3503: UserWarning: Even though the tf.config.experimental_run_functions_eagerly option is set, this option does not apply to tf.data functions. tf.data functions are still traced and executed as graphs.\n",
      "  warnings.warn(\n"
     ]
    },
    {
     "name": "stdout",
     "output_type": "stream",
     "text": [
      "Validation loss improved from 0.32806694651091706 to 0.3223232524659642\n",
      "save to: /glade/work/ksha/NCAR/Keras_models/AE_Lead2_pp15\n",
      "INFO:tensorflow:Assets written to: /glade/work/ksha/NCAR/Keras_models/AE_Lead2_pp15/assets\n",
      "--- 188.6627414226532 seconds ---\n"
     ]
    },
    {
     "name": "stderr",
     "output_type": "stream",
     "text": [
      "/glade/work/ksha/anaconda3/lib/python3.9/site-packages/tensorflow/python/data/ops/dataset_ops.py:3503: UserWarning: Even though the tf.config.experimental_run_functions_eagerly option is set, this option does not apply to tf.data functions. tf.data functions are still traced and executed as graphs.\n",
      "  warnings.warn(\n"
     ]
    },
    {
     "name": "stdout",
     "output_type": "stream",
     "text": [
      "Validation loss improved from 0.3223232524659642 to 0.3181987607904766\n",
      "save to: /glade/work/ksha/NCAR/Keras_models/AE_Lead2_pp15\n",
      "INFO:tensorflow:Assets written to: /glade/work/ksha/NCAR/Keras_models/AE_Lead2_pp15/assets\n",
      "--- 178.55444884300232 seconds ---\n"
     ]
    },
    {
     "name": "stderr",
     "output_type": "stream",
     "text": [
      "/glade/work/ksha/anaconda3/lib/python3.9/site-packages/tensorflow/python/data/ops/dataset_ops.py:3503: UserWarning: Even though the tf.config.experimental_run_functions_eagerly option is set, this option does not apply to tf.data functions. tf.data functions are still traced and executed as graphs.\n",
      "  warnings.warn(\n"
     ]
    },
    {
     "name": "stdout",
     "output_type": "stream",
     "text": [
      "Validation loss improved from 0.3181987607904766 to 0.31437821626731355\n",
      "save to: /glade/work/ksha/NCAR/Keras_models/AE_Lead2_pp15\n",
      "INFO:tensorflow:Assets written to: /glade/work/ksha/NCAR/Keras_models/AE_Lead2_pp15/assets\n",
      "--- 190.49674487113953 seconds ---\n"
     ]
    },
    {
     "name": "stderr",
     "output_type": "stream",
     "text": [
      "/glade/work/ksha/anaconda3/lib/python3.9/site-packages/tensorflow/python/data/ops/dataset_ops.py:3503: UserWarning: Even though the tf.config.experimental_run_functions_eagerly option is set, this option does not apply to tf.data functions. tf.data functions are still traced and executed as graphs.\n",
      "  warnings.warn(\n"
     ]
    },
    {
     "name": "stdout",
     "output_type": "stream",
     "text": [
      "Validation loss improved from 0.31437821626731355 to 0.31150417516899637\n",
      "save to: /glade/work/ksha/NCAR/Keras_models/AE_Lead2_pp15\n",
      "INFO:tensorflow:Assets written to: /glade/work/ksha/NCAR/Keras_models/AE_Lead2_pp15/assets\n",
      "--- 180.9112594127655 seconds ---\n"
     ]
    },
    {
     "name": "stderr",
     "output_type": "stream",
     "text": [
      "/glade/work/ksha/anaconda3/lib/python3.9/site-packages/tensorflow/python/data/ops/dataset_ops.py:3503: UserWarning: Even though the tf.config.experimental_run_functions_eagerly option is set, this option does not apply to tf.data functions. tf.data functions are still traced and executed as graphs.\n",
      "  warnings.warn(\n"
     ]
    },
    {
     "name": "stdout",
     "output_type": "stream",
     "text": [
      "Validation loss improved from 0.31150417516899637 to 0.30805155641356013\n",
      "save to: /glade/work/ksha/NCAR/Keras_models/AE_Lead2_pp15\n",
      "INFO:tensorflow:Assets written to: /glade/work/ksha/NCAR/Keras_models/AE_Lead2_pp15/assets\n",
      "--- 186.4853174686432 seconds ---\n"
     ]
    },
    {
     "name": "stderr",
     "output_type": "stream",
     "text": [
      "/glade/work/ksha/anaconda3/lib/python3.9/site-packages/tensorflow/python/data/ops/dataset_ops.py:3503: UserWarning: Even though the tf.config.experimental_run_functions_eagerly option is set, this option does not apply to tf.data functions. tf.data functions are still traced and executed as graphs.\n",
      "  warnings.warn(\n"
     ]
    },
    {
     "name": "stdout",
     "output_type": "stream",
     "text": [
      "Validation loss improved from 0.30805155641356013 to 0.30643810610980887\n",
      "save to: /glade/work/ksha/NCAR/Keras_models/AE_Lead2_pp15\n",
      "INFO:tensorflow:Assets written to: /glade/work/ksha/NCAR/Keras_models/AE_Lead2_pp15/assets\n",
      "--- 184.7639398574829 seconds ---\n"
     ]
    },
    {
     "name": "stderr",
     "output_type": "stream",
     "text": [
      "/glade/work/ksha/anaconda3/lib/python3.9/site-packages/tensorflow/python/data/ops/dataset_ops.py:3503: UserWarning: Even though the tf.config.experimental_run_functions_eagerly option is set, this option does not apply to tf.data functions. tf.data functions are still traced and executed as graphs.\n",
      "  warnings.warn(\n"
     ]
    },
    {
     "name": "stdout",
     "output_type": "stream",
     "text": [
      "Validation loss improved from 0.30643810610980887 to 0.304245567438556\n",
      "save to: /glade/work/ksha/NCAR/Keras_models/AE_Lead2_pp15\n",
      "INFO:tensorflow:Assets written to: /glade/work/ksha/NCAR/Keras_models/AE_Lead2_pp15/assets\n",
      "--- 183.50398540496826 seconds ---\n"
     ]
    },
    {
     "name": "stderr",
     "output_type": "stream",
     "text": [
      "/glade/work/ksha/anaconda3/lib/python3.9/site-packages/tensorflow/python/data/ops/dataset_ops.py:3503: UserWarning: Even though the tf.config.experimental_run_functions_eagerly option is set, this option does not apply to tf.data functions. tf.data functions are still traced and executed as graphs.\n",
      "  warnings.warn(\n"
     ]
    },
    {
     "name": "stdout",
     "output_type": "stream",
     "text": [
      "Validation loss improved from 0.304245567438556 to 0.30195931328541814\n",
      "save to: /glade/work/ksha/NCAR/Keras_models/AE_Lead2_pp15\n",
      "INFO:tensorflow:Assets written to: /glade/work/ksha/NCAR/Keras_models/AE_Lead2_pp15/assets\n",
      "--- 185.89882135391235 seconds ---\n"
     ]
    },
    {
     "name": "stderr",
     "output_type": "stream",
     "text": [
      "/glade/work/ksha/anaconda3/lib/python3.9/site-packages/tensorflow/python/data/ops/dataset_ops.py:3503: UserWarning: Even though the tf.config.experimental_run_functions_eagerly option is set, this option does not apply to tf.data functions. tf.data functions are still traced and executed as graphs.\n",
      "  warnings.warn(\n"
     ]
    },
    {
     "name": "stdout",
     "output_type": "stream",
     "text": [
      "Validation loss improved from 0.30195931328541814 to 0.2989776070221179\n",
      "save to: /glade/work/ksha/NCAR/Keras_models/AE_Lead2_pp15\n",
      "INFO:tensorflow:Assets written to: /glade/work/ksha/NCAR/Keras_models/AE_Lead2_pp15/assets\n",
      "--- 191.76101422309875 seconds ---\n"
     ]
    },
    {
     "name": "stderr",
     "output_type": "stream",
     "text": [
      "/glade/work/ksha/anaconda3/lib/python3.9/site-packages/tensorflow/python/data/ops/dataset_ops.py:3503: UserWarning: Even though the tf.config.experimental_run_functions_eagerly option is set, this option does not apply to tf.data functions. tf.data functions are still traced and executed as graphs.\n",
      "  warnings.warn(\n"
     ]
    },
    {
     "name": "stdout",
     "output_type": "stream",
     "text": [
      "Validation loss improved from 0.2989776070221179 to 0.29366998289309254\n",
      "save to: /glade/work/ksha/NCAR/Keras_models/AE_Lead2_pp15\n",
      "INFO:tensorflow:Assets written to: /glade/work/ksha/NCAR/Keras_models/AE_Lead2_pp15/assets\n",
      "--- 181.516934633255 seconds ---\n"
     ]
    },
    {
     "name": "stderr",
     "output_type": "stream",
     "text": [
      "/glade/work/ksha/anaconda3/lib/python3.9/site-packages/tensorflow/python/data/ops/dataset_ops.py:3503: UserWarning: Even though the tf.config.experimental_run_functions_eagerly option is set, this option does not apply to tf.data functions. tf.data functions are still traced and executed as graphs.\n",
      "  warnings.warn(\n"
     ]
    },
    {
     "name": "stdout",
     "output_type": "stream",
     "text": [
      "Validation loss improved from 0.29366998289309254 to 0.28874914732020734\n",
      "save to: /glade/work/ksha/NCAR/Keras_models/AE_Lead2_pp15\n",
      "INFO:tensorflow:Assets written to: /glade/work/ksha/NCAR/Keras_models/AE_Lead2_pp15/assets\n",
      "--- 190.1495201587677 seconds ---\n"
     ]
    },
    {
     "name": "stderr",
     "output_type": "stream",
     "text": [
      "/glade/work/ksha/anaconda3/lib/python3.9/site-packages/tensorflow/python/data/ops/dataset_ops.py:3503: UserWarning: Even though the tf.config.experimental_run_functions_eagerly option is set, this option does not apply to tf.data functions. tf.data functions are still traced and executed as graphs.\n",
      "  warnings.warn(\n"
     ]
    },
    {
     "name": "stdout",
     "output_type": "stream",
     "text": [
      "Validation loss improved from 0.28874914732020734 to 0.2859744064219275\n",
      "save to: /glade/work/ksha/NCAR/Keras_models/AE_Lead2_pp15\n",
      "INFO:tensorflow:Assets written to: /glade/work/ksha/NCAR/Keras_models/AE_Lead2_pp15/assets\n",
      "--- 179.14935660362244 seconds ---\n"
     ]
    },
    {
     "name": "stderr",
     "output_type": "stream",
     "text": [
      "/glade/work/ksha/anaconda3/lib/python3.9/site-packages/tensorflow/python/data/ops/dataset_ops.py:3503: UserWarning: Even though the tf.config.experimental_run_functions_eagerly option is set, this option does not apply to tf.data functions. tf.data functions are still traced and executed as graphs.\n",
      "  warnings.warn(\n"
     ]
    },
    {
     "name": "stdout",
     "output_type": "stream",
     "text": [
      "Validation loss improved from 0.2859744064219275 to 0.2818781660705419\n",
      "save to: /glade/work/ksha/NCAR/Keras_models/AE_Lead2_pp15\n",
      "INFO:tensorflow:Assets written to: /glade/work/ksha/NCAR/Keras_models/AE_Lead2_pp15/assets\n",
      "--- 181.82268023490906 seconds ---\n"
     ]
    },
    {
     "name": "stderr",
     "output_type": "stream",
     "text": [
      "/glade/work/ksha/anaconda3/lib/python3.9/site-packages/tensorflow/python/data/ops/dataset_ops.py:3503: UserWarning: Even though the tf.config.experimental_run_functions_eagerly option is set, this option does not apply to tf.data functions. tf.data functions are still traced and executed as graphs.\n",
      "  warnings.warn(\n"
     ]
    },
    {
     "name": "stdout",
     "output_type": "stream",
     "text": [
      "Validation loss improved from 0.2818781660705419 to 0.278876655457689\n",
      "save to: /glade/work/ksha/NCAR/Keras_models/AE_Lead2_pp15\n",
      "INFO:tensorflow:Assets written to: /glade/work/ksha/NCAR/Keras_models/AE_Lead2_pp15/assets\n",
      "--- 184.1720633506775 seconds ---\n"
     ]
    },
    {
     "name": "stderr",
     "output_type": "stream",
     "text": [
      "/glade/work/ksha/anaconda3/lib/python3.9/site-packages/tensorflow/python/data/ops/dataset_ops.py:3503: UserWarning: Even though the tf.config.experimental_run_functions_eagerly option is set, this option does not apply to tf.data functions. tf.data functions are still traced and executed as graphs.\n",
      "  warnings.warn(\n"
     ]
    },
    {
     "name": "stdout",
     "output_type": "stream",
     "text": [
      "Validation loss improved from 0.278876655457689 to 0.2766101161399085\n",
      "save to: /glade/work/ksha/NCAR/Keras_models/AE_Lead2_pp15\n",
      "INFO:tensorflow:Assets written to: /glade/work/ksha/NCAR/Keras_models/AE_Lead2_pp15/assets\n",
      "--- 175.04725694656372 seconds ---\n"
     ]
    },
    {
     "name": "stderr",
     "output_type": "stream",
     "text": [
      "/glade/work/ksha/anaconda3/lib/python3.9/site-packages/tensorflow/python/data/ops/dataset_ops.py:3503: UserWarning: Even though the tf.config.experimental_run_functions_eagerly option is set, this option does not apply to tf.data functions. tf.data functions are still traced and executed as graphs.\n",
      "  warnings.warn(\n"
     ]
    },
    {
     "name": "stdout",
     "output_type": "stream",
     "text": [
      "Validation loss improved from 0.2766101161399085 to 0.27293295845214594\n",
      "save to: /glade/work/ksha/NCAR/Keras_models/AE_Lead2_pp15\n",
      "INFO:tensorflow:Assets written to: /glade/work/ksha/NCAR/Keras_models/AE_Lead2_pp15/assets\n",
      "--- 177.82107591629028 seconds ---\n"
     ]
    },
    {
     "name": "stderr",
     "output_type": "stream",
     "text": [
      "/glade/work/ksha/anaconda3/lib/python3.9/site-packages/tensorflow/python/data/ops/dataset_ops.py:3503: UserWarning: Even though the tf.config.experimental_run_functions_eagerly option is set, this option does not apply to tf.data functions. tf.data functions are still traced and executed as graphs.\n",
      "  warnings.warn(\n"
     ]
    },
    {
     "name": "stdout",
     "output_type": "stream",
     "text": [
      "Validation loss improved from 0.27293295845214594 to 0.26956594481004154\n",
      "save to: /glade/work/ksha/NCAR/Keras_models/AE_Lead2_pp15\n",
      "INFO:tensorflow:Assets written to: /glade/work/ksha/NCAR/Keras_models/AE_Lead2_pp15/assets\n",
      "--- 180.5506865978241 seconds ---\n"
     ]
    },
    {
     "name": "stderr",
     "output_type": "stream",
     "text": [
      "/glade/work/ksha/anaconda3/lib/python3.9/site-packages/tensorflow/python/data/ops/dataset_ops.py:3503: UserWarning: Even though the tf.config.experimental_run_functions_eagerly option is set, this option does not apply to tf.data functions. tf.data functions are still traced and executed as graphs.\n",
      "  warnings.warn(\n"
     ]
    },
    {
     "name": "stdout",
     "output_type": "stream",
     "text": [
      "Validation loss improved from 0.26956594481004154 to 0.2685218383795448\n",
      "save to: /glade/work/ksha/NCAR/Keras_models/AE_Lead2_pp15\n",
      "INFO:tensorflow:Assets written to: /glade/work/ksha/NCAR/Keras_models/AE_Lead2_pp15/assets\n",
      "--- 172.8508746623993 seconds ---\n"
     ]
    },
    {
     "name": "stderr",
     "output_type": "stream",
     "text": [
      "/glade/work/ksha/anaconda3/lib/python3.9/site-packages/tensorflow/python/data/ops/dataset_ops.py:3503: UserWarning: Even though the tf.config.experimental_run_functions_eagerly option is set, this option does not apply to tf.data functions. tf.data functions are still traced and executed as graphs.\n",
      "  warnings.warn(\n"
     ]
    },
    {
     "name": "stdout",
     "output_type": "stream",
     "text": [
      "Validation loss improved from 0.2685218383795448 to 0.2628011904813564\n",
      "save to: /glade/work/ksha/NCAR/Keras_models/AE_Lead2_pp15\n",
      "INFO:tensorflow:Assets written to: /glade/work/ksha/NCAR/Keras_models/AE_Lead2_pp15/assets\n",
      "--- 184.73026704788208 seconds ---\n"
     ]
    },
    {
     "name": "stderr",
     "output_type": "stream",
     "text": [
      "/glade/work/ksha/anaconda3/lib/python3.9/site-packages/tensorflow/python/data/ops/dataset_ops.py:3503: UserWarning: Even though the tf.config.experimental_run_functions_eagerly option is set, this option does not apply to tf.data functions. tf.data functions are still traced and executed as graphs.\n",
      "  warnings.warn(\n"
     ]
    },
    {
     "name": "stdout",
     "output_type": "stream",
     "text": [
      "Validation loss improved from 0.2628011904813564 to 0.2601177275883999\n",
      "save to: /glade/work/ksha/NCAR/Keras_models/AE_Lead2_pp15\n",
      "INFO:tensorflow:Assets written to: /glade/work/ksha/NCAR/Keras_models/AE_Lead2_pp15/assets\n",
      "--- 173.48631381988525 seconds ---\n"
     ]
    },
    {
     "name": "stderr",
     "output_type": "stream",
     "text": [
      "/glade/work/ksha/anaconda3/lib/python3.9/site-packages/tensorflow/python/data/ops/dataset_ops.py:3503: UserWarning: Even though the tf.config.experimental_run_functions_eagerly option is set, this option does not apply to tf.data functions. tf.data functions are still traced and executed as graphs.\n",
      "  warnings.warn(\n"
     ]
    },
    {
     "name": "stdout",
     "output_type": "stream",
     "text": [
      "Validation loss improved from 0.2601177275883999 to 0.25349910684209304\n",
      "save to: /glade/work/ksha/NCAR/Keras_models/AE_Lead2_pp15\n",
      "INFO:tensorflow:Assets written to: /glade/work/ksha/NCAR/Keras_models/AE_Lead2_pp15/assets\n",
      "--- 193.18052124977112 seconds ---\n"
     ]
    },
    {
     "name": "stderr",
     "output_type": "stream",
     "text": [
      "/glade/work/ksha/anaconda3/lib/python3.9/site-packages/tensorflow/python/data/ops/dataset_ops.py:3503: UserWarning: Even though the tf.config.experimental_run_functions_eagerly option is set, this option does not apply to tf.data functions. tf.data functions are still traced and executed as graphs.\n",
      "  warnings.warn(\n"
     ]
    },
    {
     "name": "stdout",
     "output_type": "stream",
     "text": [
      "Validation loss improved from 0.25349910684209304 to 0.2488200916383923\n",
      "save to: /glade/work/ksha/NCAR/Keras_models/AE_Lead2_pp15\n",
      "INFO:tensorflow:Assets written to: /glade/work/ksha/NCAR/Keras_models/AE_Lead2_pp15/assets\n",
      "--- 173.0066044330597 seconds ---\n"
     ]
    },
    {
     "name": "stderr",
     "output_type": "stream",
     "text": [
      "/glade/work/ksha/anaconda3/lib/python3.9/site-packages/tensorflow/python/data/ops/dataset_ops.py:3503: UserWarning: Even though the tf.config.experimental_run_functions_eagerly option is set, this option does not apply to tf.data functions. tf.data functions are still traced and executed as graphs.\n",
      "  warnings.warn(\n"
     ]
    },
    {
     "name": "stdout",
     "output_type": "stream",
     "text": [
      "Validation loss improved from 0.2488200916383923 to 0.2476407282235849\n",
      "save to: /glade/work/ksha/NCAR/Keras_models/AE_Lead2_pp15\n",
      "INFO:tensorflow:Assets written to: /glade/work/ksha/NCAR/Keras_models/AE_Lead2_pp15/assets\n",
      "--- 177.28523421287537 seconds ---\n"
     ]
    },
    {
     "name": "stderr",
     "output_type": "stream",
     "text": [
      "/glade/work/ksha/anaconda3/lib/python3.9/site-packages/tensorflow/python/data/ops/dataset_ops.py:3503: UserWarning: Even though the tf.config.experimental_run_functions_eagerly option is set, this option does not apply to tf.data functions. tf.data functions are still traced and executed as graphs.\n",
      "  warnings.warn(\n"
     ]
    },
    {
     "name": "stdout",
     "output_type": "stream",
     "text": [
      "Validation loss improved from 0.2476407282235849 to 0.24378092745694824\n",
      "save to: /glade/work/ksha/NCAR/Keras_models/AE_Lead2_pp15\n",
      "INFO:tensorflow:Assets written to: /glade/work/ksha/NCAR/Keras_models/AE_Lead2_pp15/assets\n",
      "--- 179.6928424835205 seconds ---\n"
     ]
    },
    {
     "name": "stderr",
     "output_type": "stream",
     "text": [
      "/glade/work/ksha/anaconda3/lib/python3.9/site-packages/tensorflow/python/data/ops/dataset_ops.py:3503: UserWarning: Even though the tf.config.experimental_run_functions_eagerly option is set, this option does not apply to tf.data functions. tf.data functions are still traced and executed as graphs.\n",
      "  warnings.warn(\n"
     ]
    },
    {
     "name": "stdout",
     "output_type": "stream",
     "text": [
      "Validation loss improved from 0.24378092745694824 to 0.24021533700188114\n",
      "save to: /glade/work/ksha/NCAR/Keras_models/AE_Lead2_pp15\n",
      "INFO:tensorflow:Assets written to: /glade/work/ksha/NCAR/Keras_models/AE_Lead2_pp15/assets\n",
      "--- 180.05253720283508 seconds ---\n"
     ]
    },
    {
     "name": "stderr",
     "output_type": "stream",
     "text": [
      "/glade/work/ksha/anaconda3/lib/python3.9/site-packages/tensorflow/python/data/ops/dataset_ops.py:3503: UserWarning: Even though the tf.config.experimental_run_functions_eagerly option is set, this option does not apply to tf.data functions. tf.data functions are still traced and executed as graphs.\n",
      "  warnings.warn(\n"
     ]
    },
    {
     "name": "stdout",
     "output_type": "stream",
     "text": [
      "Validation loss improved from 0.24021533700188114 to 0.2385110165847242\n",
      "save to: /glade/work/ksha/NCAR/Keras_models/AE_Lead2_pp15\n",
      "INFO:tensorflow:Assets written to: /glade/work/ksha/NCAR/Keras_models/AE_Lead2_pp15/assets\n",
      "--- 173.1526210308075 seconds ---\n"
     ]
    },
    {
     "name": "stderr",
     "output_type": "stream",
     "text": [
      "/glade/work/ksha/anaconda3/lib/python3.9/site-packages/tensorflow/python/data/ops/dataset_ops.py:3503: UserWarning: Even though the tf.config.experimental_run_functions_eagerly option is set, this option does not apply to tf.data functions. tf.data functions are still traced and executed as graphs.\n",
      "  warnings.warn(\n"
     ]
    },
    {
     "name": "stdout",
     "output_type": "stream",
     "text": [
      "Validation loss improved from 0.2385110165847242 to 0.23483318394839484\n",
      "save to: /glade/work/ksha/NCAR/Keras_models/AE_Lead2_pp15\n",
      "INFO:tensorflow:Assets written to: /glade/work/ksha/NCAR/Keras_models/AE_Lead2_pp15/assets\n",
      "--- 184.4293339252472 seconds ---\n"
     ]
    },
    {
     "name": "stderr",
     "output_type": "stream",
     "text": [
      "/glade/work/ksha/anaconda3/lib/python3.9/site-packages/tensorflow/python/data/ops/dataset_ops.py:3503: UserWarning: Even though the tf.config.experimental_run_functions_eagerly option is set, this option does not apply to tf.data functions. tf.data functions are still traced and executed as graphs.\n",
      "  warnings.warn(\n"
     ]
    },
    {
     "name": "stdout",
     "output_type": "stream",
     "text": [
      "Validation loss improved from 0.23483318394839484 to 0.2307504791981377\n",
      "save to: /glade/work/ksha/NCAR/Keras_models/AE_Lead2_pp15\n",
      "INFO:tensorflow:Assets written to: /glade/work/ksha/NCAR/Keras_models/AE_Lead2_pp15/assets\n",
      "--- 200.36658811569214 seconds ---\n"
     ]
    },
    {
     "name": "stderr",
     "output_type": "stream",
     "text": [
      "/glade/work/ksha/anaconda3/lib/python3.9/site-packages/tensorflow/python/data/ops/dataset_ops.py:3503: UserWarning: Even though the tf.config.experimental_run_functions_eagerly option is set, this option does not apply to tf.data functions. tf.data functions are still traced and executed as graphs.\n",
      "  warnings.warn(\n"
     ]
    },
    {
     "name": "stdout",
     "output_type": "stream",
     "text": [
      "Validation loss improved from 0.2307504791981377 to 0.2270592565709925\n",
      "save to: /glade/work/ksha/NCAR/Keras_models/AE_Lead2_pp15\n",
      "INFO:tensorflow:Assets written to: /glade/work/ksha/NCAR/Keras_models/AE_Lead2_pp15/assets\n",
      "--- 178.8514199256897 seconds ---\n"
     ]
    },
    {
     "name": "stderr",
     "output_type": "stream",
     "text": [
      "/glade/work/ksha/anaconda3/lib/python3.9/site-packages/tensorflow/python/data/ops/dataset_ops.py:3503: UserWarning: Even though the tf.config.experimental_run_functions_eagerly option is set, this option does not apply to tf.data functions. tf.data functions are still traced and executed as graphs.\n",
      "  warnings.warn(\n"
     ]
    },
    {
     "name": "stdout",
     "output_type": "stream",
     "text": [
      "Validation loss improved from 0.2270592565709925 to 0.22368218577572885\n",
      "save to: /glade/work/ksha/NCAR/Keras_models/AE_Lead2_pp15\n",
      "INFO:tensorflow:Assets written to: /glade/work/ksha/NCAR/Keras_models/AE_Lead2_pp15/assets\n",
      "--- 172.33446383476257 seconds ---\n"
     ]
    },
    {
     "name": "stderr",
     "output_type": "stream",
     "text": [
      "/glade/work/ksha/anaconda3/lib/python3.9/site-packages/tensorflow/python/data/ops/dataset_ops.py:3503: UserWarning: Even though the tf.config.experimental_run_functions_eagerly option is set, this option does not apply to tf.data functions. tf.data functions are still traced and executed as graphs.\n",
      "  warnings.warn(\n"
     ]
    },
    {
     "name": "stdout",
     "output_type": "stream",
     "text": [
      "Validation loss improved from 0.22368218577572885 to 0.21651969812068672\n",
      "save to: /glade/work/ksha/NCAR/Keras_models/AE_Lead2_pp15\n",
      "INFO:tensorflow:Assets written to: /glade/work/ksha/NCAR/Keras_models/AE_Lead2_pp15/assets\n",
      "--- 171.17415690422058 seconds ---\n"
     ]
    },
    {
     "name": "stderr",
     "output_type": "stream",
     "text": [
      "/glade/work/ksha/anaconda3/lib/python3.9/site-packages/tensorflow/python/data/ops/dataset_ops.py:3503: UserWarning: Even though the tf.config.experimental_run_functions_eagerly option is set, this option does not apply to tf.data functions. tf.data functions are still traced and executed as graphs.\n",
      "  warnings.warn(\n"
     ]
    },
    {
     "name": "stdout",
     "output_type": "stream",
     "text": [
      "Validation loss improved from 0.21651969812068672 to 0.21236603648092314\n",
      "save to: /glade/work/ksha/NCAR/Keras_models/AE_Lead2_pp15\n",
      "INFO:tensorflow:Assets written to: /glade/work/ksha/NCAR/Keras_models/AE_Lead2_pp15/assets\n",
      "--- 170.57369089126587 seconds ---\n"
     ]
    },
    {
     "name": "stderr",
     "output_type": "stream",
     "text": [
      "/glade/work/ksha/anaconda3/lib/python3.9/site-packages/tensorflow/python/data/ops/dataset_ops.py:3503: UserWarning: Even though the tf.config.experimental_run_functions_eagerly option is set, this option does not apply to tf.data functions. tf.data functions are still traced and executed as graphs.\n",
      "  warnings.warn(\n"
     ]
    },
    {
     "name": "stdout",
     "output_type": "stream",
     "text": [
      "Validation loss improved from 0.21236603648092314 to 0.20798423102326863\n",
      "save to: /glade/work/ksha/NCAR/Keras_models/AE_Lead2_pp15\n",
      "INFO:tensorflow:Assets written to: /glade/work/ksha/NCAR/Keras_models/AE_Lead2_pp15/assets\n",
      "--- 176.94442296028137 seconds ---\n"
     ]
    },
    {
     "name": "stderr",
     "output_type": "stream",
     "text": [
      "/glade/work/ksha/anaconda3/lib/python3.9/site-packages/tensorflow/python/data/ops/dataset_ops.py:3503: UserWarning: Even though the tf.config.experimental_run_functions_eagerly option is set, this option does not apply to tf.data functions. tf.data functions are still traced and executed as graphs.\n",
      "  warnings.warn(\n"
     ]
    },
    {
     "name": "stdout",
     "output_type": "stream",
     "text": [
      "Validation loss improved from 0.20798423102326863 to 0.2064714219141254\n",
      "save to: /glade/work/ksha/NCAR/Keras_models/AE_Lead2_pp15\n",
      "INFO:tensorflow:Assets written to: /glade/work/ksha/NCAR/Keras_models/AE_Lead2_pp15/assets\n",
      "--- 174.43678212165833 seconds ---\n"
     ]
    },
    {
     "name": "stderr",
     "output_type": "stream",
     "text": [
      "/glade/work/ksha/anaconda3/lib/python3.9/site-packages/tensorflow/python/data/ops/dataset_ops.py:3503: UserWarning: Even though the tf.config.experimental_run_functions_eagerly option is set, this option does not apply to tf.data functions. tf.data functions are still traced and executed as graphs.\n",
      "  warnings.warn(\n"
     ]
    },
    {
     "name": "stdout",
     "output_type": "stream",
     "text": [
      "Validation loss improved from 0.2064714219141254 to 0.20351981151277265\n",
      "save to: /glade/work/ksha/NCAR/Keras_models/AE_Lead2_pp15\n",
      "INFO:tensorflow:Assets written to: /glade/work/ksha/NCAR/Keras_models/AE_Lead2_pp15/assets\n",
      "--- 171.55388021469116 seconds ---\n"
     ]
    },
    {
     "name": "stderr",
     "output_type": "stream",
     "text": [
      "/glade/work/ksha/anaconda3/lib/python3.9/site-packages/tensorflow/python/data/ops/dataset_ops.py:3503: UserWarning: Even though the tf.config.experimental_run_functions_eagerly option is set, this option does not apply to tf.data functions. tf.data functions are still traced and executed as graphs.\n",
      "  warnings.warn(\n"
     ]
    },
    {
     "name": "stdout",
     "output_type": "stream",
     "text": [
      "Validation loss 0.20399281893776994 NOT improved\n",
      "Validation loss improved from 0.20351981151277265 to 0.19937166810064516\n",
      "save to: /glade/work/ksha/NCAR/Keras_models/AE_Lead2_pp15\n",
      "INFO:tensorflow:Assets written to: /glade/work/ksha/NCAR/Keras_models/AE_Lead2_pp15/assets\n",
      "--- 179.5963532924652 seconds ---\n"
     ]
    },
    {
     "name": "stderr",
     "output_type": "stream",
     "text": [
      "/glade/work/ksha/anaconda3/lib/python3.9/site-packages/tensorflow/python/data/ops/dataset_ops.py:3503: UserWarning: Even though the tf.config.experimental_run_functions_eagerly option is set, this option does not apply to tf.data functions. tf.data functions are still traced and executed as graphs.\n",
      "  warnings.warn(\n"
     ]
    },
    {
     "name": "stdout",
     "output_type": "stream",
     "text": [
      "Validation loss improved from 0.19937166810064516 to 0.19745251788438323\n",
      "save to: /glade/work/ksha/NCAR/Keras_models/AE_Lead2_pp15\n",
      "INFO:tensorflow:Assets written to: /glade/work/ksha/NCAR/Keras_models/AE_Lead2_pp15/assets\n",
      "--- 168.51404118537903 seconds ---\n"
     ]
    },
    {
     "name": "stderr",
     "output_type": "stream",
     "text": [
      "/glade/work/ksha/anaconda3/lib/python3.9/site-packages/tensorflow/python/data/ops/dataset_ops.py:3503: UserWarning: Even though the tf.config.experimental_run_functions_eagerly option is set, this option does not apply to tf.data functions. tf.data functions are still traced and executed as graphs.\n",
      "  warnings.warn(\n"
     ]
    },
    {
     "name": "stdout",
     "output_type": "stream",
     "text": [
      "Validation loss improved from 0.19745251788438323 to 0.19528832041974034\n",
      "save to: /glade/work/ksha/NCAR/Keras_models/AE_Lead2_pp15\n",
      "INFO:tensorflow:Assets written to: /glade/work/ksha/NCAR/Keras_models/AE_Lead2_pp15/assets\n",
      "--- 177.29377913475037 seconds ---\n"
     ]
    },
    {
     "name": "stderr",
     "output_type": "stream",
     "text": [
      "/glade/work/ksha/anaconda3/lib/python3.9/site-packages/tensorflow/python/data/ops/dataset_ops.py:3503: UserWarning: Even though the tf.config.experimental_run_functions_eagerly option is set, this option does not apply to tf.data functions. tf.data functions are still traced and executed as graphs.\n",
      "  warnings.warn(\n"
     ]
    },
    {
     "name": "stdout",
     "output_type": "stream",
     "text": [
      "Validation loss 0.19750117239086906 NOT improved\n",
      "Validation loss improved from 0.19528832041974034 to 0.19430301613763215\n",
      "save to: /glade/work/ksha/NCAR/Keras_models/AE_Lead2_pp15\n",
      "INFO:tensorflow:Assets written to: /glade/work/ksha/NCAR/Keras_models/AE_Lead2_pp15/assets\n",
      "--- 182.59116101264954 seconds ---\n"
     ]
    },
    {
     "name": "stderr",
     "output_type": "stream",
     "text": [
      "/glade/work/ksha/anaconda3/lib/python3.9/site-packages/tensorflow/python/data/ops/dataset_ops.py:3503: UserWarning: Even though the tf.config.experimental_run_functions_eagerly option is set, this option does not apply to tf.data functions. tf.data functions are still traced and executed as graphs.\n",
      "  warnings.warn(\n"
     ]
    },
    {
     "name": "stdout",
     "output_type": "stream",
     "text": [
      "Validation loss improved from 0.19430301613763215 to 0.1913697643603055\n",
      "save to: /glade/work/ksha/NCAR/Keras_models/AE_Lead2_pp15\n",
      "INFO:tensorflow:Assets written to: /glade/work/ksha/NCAR/Keras_models/AE_Lead2_pp15/assets\n",
      "--- 174.03635692596436 seconds ---\n"
     ]
    },
    {
     "name": "stderr",
     "output_type": "stream",
     "text": [
      "/glade/work/ksha/anaconda3/lib/python3.9/site-packages/tensorflow/python/data/ops/dataset_ops.py:3503: UserWarning: Even though the tf.config.experimental_run_functions_eagerly option is set, this option does not apply to tf.data functions. tf.data functions are still traced and executed as graphs.\n",
      "  warnings.warn(\n"
     ]
    },
    {
     "name": "stdout",
     "output_type": "stream",
     "text": [
      "Validation loss improved from 0.1913697643603055 to 0.19047866364918553\n",
      "save to: /glade/work/ksha/NCAR/Keras_models/AE_Lead2_pp15\n",
      "INFO:tensorflow:Assets written to: /glade/work/ksha/NCAR/Keras_models/AE_Lead2_pp15/assets\n",
      "--- 173.647536277771 seconds ---\n"
     ]
    },
    {
     "name": "stderr",
     "output_type": "stream",
     "text": [
      "/glade/work/ksha/anaconda3/lib/python3.9/site-packages/tensorflow/python/data/ops/dataset_ops.py:3503: UserWarning: Even though the tf.config.experimental_run_functions_eagerly option is set, this option does not apply to tf.data functions. tf.data functions are still traced and executed as graphs.\n",
      "  warnings.warn(\n"
     ]
    },
    {
     "name": "stdout",
     "output_type": "stream",
     "text": [
      "Validation loss improved from 0.19047866364918553 to 0.1890787786556548\n",
      "save to: /glade/work/ksha/NCAR/Keras_models/AE_Lead2_pp15\n",
      "INFO:tensorflow:Assets written to: /glade/work/ksha/NCAR/Keras_models/AE_Lead2_pp15/assets\n",
      "--- 177.64358472824097 seconds ---\n"
     ]
    },
    {
     "name": "stderr",
     "output_type": "stream",
     "text": [
      "/glade/work/ksha/anaconda3/lib/python3.9/site-packages/tensorflow/python/data/ops/dataset_ops.py:3503: UserWarning: Even though the tf.config.experimental_run_functions_eagerly option is set, this option does not apply to tf.data functions. tf.data functions are still traced and executed as graphs.\n",
      "  warnings.warn(\n"
     ]
    },
    {
     "name": "stdout",
     "output_type": "stream",
     "text": [
      "Validation loss 0.1892297889957767 NOT improved\n",
      "Validation loss improved from 0.1890787786556548 to 0.18638265773125748\n",
      "save to: /glade/work/ksha/NCAR/Keras_models/AE_Lead2_pp15\n",
      "INFO:tensorflow:Assets written to: /glade/work/ksha/NCAR/Keras_models/AE_Lead2_pp15/assets\n",
      "--- 175.61507725715637 seconds ---\n"
     ]
    },
    {
     "name": "stderr",
     "output_type": "stream",
     "text": [
      "/glade/work/ksha/anaconda3/lib/python3.9/site-packages/tensorflow/python/data/ops/dataset_ops.py:3503: UserWarning: Even though the tf.config.experimental_run_functions_eagerly option is set, this option does not apply to tf.data functions. tf.data functions are still traced and executed as graphs.\n",
      "  warnings.warn(\n"
     ]
    },
    {
     "name": "stdout",
     "output_type": "stream",
     "text": [
      "Validation loss improved from 0.18638265773125748 to 0.1852784149659309\n",
      "save to: /glade/work/ksha/NCAR/Keras_models/AE_Lead2_pp15\n",
      "INFO:tensorflow:Assets written to: /glade/work/ksha/NCAR/Keras_models/AE_Lead2_pp15/assets\n",
      "--- 173.27009272575378 seconds ---\n"
     ]
    },
    {
     "name": "stderr",
     "output_type": "stream",
     "text": [
      "/glade/work/ksha/anaconda3/lib/python3.9/site-packages/tensorflow/python/data/ops/dataset_ops.py:3503: UserWarning: Even though the tf.config.experimental_run_functions_eagerly option is set, this option does not apply to tf.data functions. tf.data functions are still traced and executed as graphs.\n",
      "  warnings.warn(\n"
     ]
    },
    {
     "name": "stdout",
     "output_type": "stream",
     "text": [
      "Validation loss improved from 0.1852784149659309 to 0.184475623520186\n",
      "save to: /glade/work/ksha/NCAR/Keras_models/AE_Lead2_pp15\n",
      "INFO:tensorflow:Assets written to: /glade/work/ksha/NCAR/Keras_models/AE_Lead2_pp15/assets\n",
      "--- 173.53834176063538 seconds ---\n"
     ]
    },
    {
     "name": "stderr",
     "output_type": "stream",
     "text": [
      "/glade/work/ksha/anaconda3/lib/python3.9/site-packages/tensorflow/python/data/ops/dataset_ops.py:3503: UserWarning: Even though the tf.config.experimental_run_functions_eagerly option is set, this option does not apply to tf.data functions. tf.data functions are still traced and executed as graphs.\n",
      "  warnings.warn(\n"
     ]
    },
    {
     "name": "stdout",
     "output_type": "stream",
     "text": [
      "Validation loss improved from 0.184475623520186 to 0.18418297555998694\n",
      "save to: /glade/work/ksha/NCAR/Keras_models/AE_Lead2_pp15\n",
      "INFO:tensorflow:Assets written to: /glade/work/ksha/NCAR/Keras_models/AE_Lead2_pp15/assets\n",
      "--- 173.36546921730042 seconds ---\n"
     ]
    },
    {
     "name": "stderr",
     "output_type": "stream",
     "text": [
      "/glade/work/ksha/anaconda3/lib/python3.9/site-packages/tensorflow/python/data/ops/dataset_ops.py:3503: UserWarning: Even though the tf.config.experimental_run_functions_eagerly option is set, this option does not apply to tf.data functions. tf.data functions are still traced and executed as graphs.\n",
      "  warnings.warn(\n"
     ]
    },
    {
     "name": "stdout",
     "output_type": "stream",
     "text": [
      "Validation loss improved from 0.18418297555998694 to 0.18027679181030343\n",
      "save to: /glade/work/ksha/NCAR/Keras_models/AE_Lead2_pp15\n",
      "INFO:tensorflow:Assets written to: /glade/work/ksha/NCAR/Keras_models/AE_Lead2_pp15/assets\n",
      "--- 174.4286332130432 seconds ---\n"
     ]
    },
    {
     "name": "stderr",
     "output_type": "stream",
     "text": [
      "/glade/work/ksha/anaconda3/lib/python3.9/site-packages/tensorflow/python/data/ops/dataset_ops.py:3503: UserWarning: Even though the tf.config.experimental_run_functions_eagerly option is set, this option does not apply to tf.data functions. tf.data functions are still traced and executed as graphs.\n",
      "  warnings.warn(\n"
     ]
    },
    {
     "name": "stdout",
     "output_type": "stream",
     "text": [
      "Validation loss 0.18064849778011755 NOT improved\n",
      "Validation loss 0.1820832255294845 NOT improved\n",
      "Validation loss improved from 0.18027679181030343 to 0.1754707590063097\n",
      "save to: /glade/work/ksha/NCAR/Keras_models/AE_Lead2_pp15\n",
      "INFO:tensorflow:Assets written to: /glade/work/ksha/NCAR/Keras_models/AE_Lead2_pp15/assets\n",
      "--- 182.75561213493347 seconds ---\n"
     ]
    },
    {
     "name": "stderr",
     "output_type": "stream",
     "text": [
      "/glade/work/ksha/anaconda3/lib/python3.9/site-packages/tensorflow/python/data/ops/dataset_ops.py:3503: UserWarning: Even though the tf.config.experimental_run_functions_eagerly option is set, this option does not apply to tf.data functions. tf.data functions are still traced and executed as graphs.\n",
      "  warnings.warn(\n"
     ]
    },
    {
     "name": "stdout",
     "output_type": "stream",
     "text": [
      "Validation loss improved from 0.1754707590063097 to 0.17510568746311705\n",
      "save to: /glade/work/ksha/NCAR/Keras_models/AE_Lead2_pp15\n",
      "INFO:tensorflow:Assets written to: /glade/work/ksha/NCAR/Keras_models/AE_Lead2_pp15/assets\n",
      "--- 172.22736239433289 seconds ---\n"
     ]
    },
    {
     "name": "stderr",
     "output_type": "stream",
     "text": [
      "/glade/work/ksha/anaconda3/lib/python3.9/site-packages/tensorflow/python/data/ops/dataset_ops.py:3503: UserWarning: Even though the tf.config.experimental_run_functions_eagerly option is set, this option does not apply to tf.data functions. tf.data functions are still traced and executed as graphs.\n",
      "  warnings.warn(\n"
     ]
    },
    {
     "name": "stdout",
     "output_type": "stream",
     "text": [
      "Validation loss improved from 0.17510568746311705 to 0.17427687149544316\n",
      "save to: /glade/work/ksha/NCAR/Keras_models/AE_Lead2_pp15\n",
      "INFO:tensorflow:Assets written to: /glade/work/ksha/NCAR/Keras_models/AE_Lead2_pp15/assets\n",
      "--- 177.04571723937988 seconds ---\n"
     ]
    },
    {
     "name": "stderr",
     "output_type": "stream",
     "text": [
      "/glade/work/ksha/anaconda3/lib/python3.9/site-packages/tensorflow/python/data/ops/dataset_ops.py:3503: UserWarning: Even though the tf.config.experimental_run_functions_eagerly option is set, this option does not apply to tf.data functions. tf.data functions are still traced and executed as graphs.\n",
      "  warnings.warn(\n"
     ]
    },
    {
     "name": "stdout",
     "output_type": "stream",
     "text": [
      "Validation loss improved from 0.17427687149544316 to 0.1717513986179699\n",
      "save to: /glade/work/ksha/NCAR/Keras_models/AE_Lead2_pp15\n",
      "INFO:tensorflow:Assets written to: /glade/work/ksha/NCAR/Keras_models/AE_Lead2_pp15/assets\n",
      "--- 171.8465027809143 seconds ---\n"
     ]
    },
    {
     "name": "stderr",
     "output_type": "stream",
     "text": [
      "/glade/work/ksha/anaconda3/lib/python3.9/site-packages/tensorflow/python/data/ops/dataset_ops.py:3503: UserWarning: Even though the tf.config.experimental_run_functions_eagerly option is set, this option does not apply to tf.data functions. tf.data functions are still traced and executed as graphs.\n",
      "  warnings.warn(\n"
     ]
    },
    {
     "name": "stdout",
     "output_type": "stream",
     "text": [
      "Validation loss improved from 0.1717513986179699 to 0.16990717472082364\n",
      "save to: /glade/work/ksha/NCAR/Keras_models/AE_Lead2_pp15\n",
      "INFO:tensorflow:Assets written to: /glade/work/ksha/NCAR/Keras_models/AE_Lead2_pp15/assets\n",
      "--- 181.50635981559753 seconds ---\n"
     ]
    },
    {
     "name": "stderr",
     "output_type": "stream",
     "text": [
      "/glade/work/ksha/anaconda3/lib/python3.9/site-packages/tensorflow/python/data/ops/dataset_ops.py:3503: UserWarning: Even though the tf.config.experimental_run_functions_eagerly option is set, this option does not apply to tf.data functions. tf.data functions are still traced and executed as graphs.\n",
      "  warnings.warn(\n"
     ]
    },
    {
     "name": "stdout",
     "output_type": "stream",
     "text": [
      "Validation loss improved from 0.16990717472082364 to 0.16882610993050692\n",
      "save to: /glade/work/ksha/NCAR/Keras_models/AE_Lead2_pp15\n",
      "INFO:tensorflow:Assets written to: /glade/work/ksha/NCAR/Keras_models/AE_Lead2_pp15/assets\n",
      "--- 173.80001378059387 seconds ---\n"
     ]
    },
    {
     "name": "stderr",
     "output_type": "stream",
     "text": [
      "/glade/work/ksha/anaconda3/lib/python3.9/site-packages/tensorflow/python/data/ops/dataset_ops.py:3503: UserWarning: Even though the tf.config.experimental_run_functions_eagerly option is set, this option does not apply to tf.data functions. tf.data functions are still traced and executed as graphs.\n",
      "  warnings.warn(\n"
     ]
    },
    {
     "name": "stdout",
     "output_type": "stream",
     "text": [
      "Validation loss improved from 0.16882610993050692 to 0.16714615632253452\n",
      "save to: /glade/work/ksha/NCAR/Keras_models/AE_Lead2_pp15\n",
      "INFO:tensorflow:Assets written to: /glade/work/ksha/NCAR/Keras_models/AE_Lead2_pp15/assets\n",
      "--- 170.95500874519348 seconds ---\n"
     ]
    },
    {
     "name": "stderr",
     "output_type": "stream",
     "text": [
      "/glade/work/ksha/anaconda3/lib/python3.9/site-packages/tensorflow/python/data/ops/dataset_ops.py:3503: UserWarning: Even though the tf.config.experimental_run_functions_eagerly option is set, this option does not apply to tf.data functions. tf.data functions are still traced and executed as graphs.\n",
      "  warnings.warn(\n"
     ]
    },
    {
     "name": "stdout",
     "output_type": "stream",
     "text": [
      "Validation loss 0.16783937901163046 NOT improved\n",
      "Validation loss 0.1685208316401556 NOT improved\n",
      "Validation loss 0.17147822830429063 NOT improved\n",
      "Validation loss 0.1674906893794308 NOT improved\n",
      "Validation loss improved from 0.16714615632253452 to 0.16346096568687515\n",
      "save to: /glade/work/ksha/NCAR/Keras_models/AE_Lead2_pp15\n",
      "INFO:tensorflow:Assets written to: /glade/work/ksha/NCAR/Keras_models/AE_Lead2_pp15/assets\n",
      "--- 176.59396505355835 seconds ---\n"
     ]
    },
    {
     "name": "stderr",
     "output_type": "stream",
     "text": [
      "/glade/work/ksha/anaconda3/lib/python3.9/site-packages/tensorflow/python/data/ops/dataset_ops.py:3503: UserWarning: Even though the tf.config.experimental_run_functions_eagerly option is set, this option does not apply to tf.data functions. tf.data functions are still traced and executed as graphs.\n",
      "  warnings.warn(\n"
     ]
    },
    {
     "name": "stdout",
     "output_type": "stream",
     "text": [
      "Validation loss improved from 0.16346096568687515 to 0.16287021195230142\n",
      "save to: /glade/work/ksha/NCAR/Keras_models/AE_Lead2_pp15\n",
      "INFO:tensorflow:Assets written to: /glade/work/ksha/NCAR/Keras_models/AE_Lead2_pp15/assets\n",
      "--- 175.24695086479187 seconds ---\n"
     ]
    },
    {
     "name": "stderr",
     "output_type": "stream",
     "text": [
      "/glade/work/ksha/anaconda3/lib/python3.9/site-packages/tensorflow/python/data/ops/dataset_ops.py:3503: UserWarning: Even though the tf.config.experimental_run_functions_eagerly option is set, this option does not apply to tf.data functions. tf.data functions are still traced and executed as graphs.\n",
      "  warnings.warn(\n"
     ]
    },
    {
     "name": "stdout",
     "output_type": "stream",
     "text": [
      "Validation loss 0.16366910576078333 NOT improved\n",
      "Validation loss improved from 0.16287021195230142 to 0.1613334350156117\n",
      "save to: /glade/work/ksha/NCAR/Keras_models/AE_Lead2_pp15\n",
      "INFO:tensorflow:Assets written to: /glade/work/ksha/NCAR/Keras_models/AE_Lead2_pp15/assets\n",
      "--- 182.2810139656067 seconds ---\n"
     ]
    },
    {
     "name": "stderr",
     "output_type": "stream",
     "text": [
      "/glade/work/ksha/anaconda3/lib/python3.9/site-packages/tensorflow/python/data/ops/dataset_ops.py:3503: UserWarning: Even though the tf.config.experimental_run_functions_eagerly option is set, this option does not apply to tf.data functions. tf.data functions are still traced and executed as graphs.\n",
      "  warnings.warn(\n"
     ]
    },
    {
     "name": "stdout",
     "output_type": "stream",
     "text": [
      "Validation loss 0.16385943001638326 NOT improved\n",
      "Validation loss 0.16181353903446394 NOT improved\n",
      "Validation loss 0.16231512774511025 NOT improved\n",
      "Validation loss improved from 0.1613334350156117 to 0.15970853867172435\n",
      "save to: /glade/work/ksha/NCAR/Keras_models/AE_Lead2_pp15\n",
      "INFO:tensorflow:Assets written to: /glade/work/ksha/NCAR/Keras_models/AE_Lead2_pp15/assets\n",
      "--- 182.93148255348206 seconds ---\n"
     ]
    },
    {
     "name": "stderr",
     "output_type": "stream",
     "text": [
      "/glade/work/ksha/anaconda3/lib/python3.9/site-packages/tensorflow/python/data/ops/dataset_ops.py:3503: UserWarning: Even though the tf.config.experimental_run_functions_eagerly option is set, this option does not apply to tf.data functions. tf.data functions are still traced and executed as graphs.\n",
      "  warnings.warn(\n"
     ]
    },
    {
     "name": "stdout",
     "output_type": "stream",
     "text": [
      "Validation loss 0.16251422148220607 NOT improved\n",
      "Validation loss 0.1618156479467352 NOT improved\n",
      "Validation loss improved from 0.15970853867172435 to 0.1581348926955972\n",
      "save to: /glade/work/ksha/NCAR/Keras_models/AE_Lead2_pp15\n",
      "INFO:tensorflow:Assets written to: /glade/work/ksha/NCAR/Keras_models/AE_Lead2_pp15/assets\n",
      "--- 176.7892062664032 seconds ---\n"
     ]
    },
    {
     "name": "stderr",
     "output_type": "stream",
     "text": [
      "/glade/work/ksha/anaconda3/lib/python3.9/site-packages/tensorflow/python/data/ops/dataset_ops.py:3503: UserWarning: Even though the tf.config.experimental_run_functions_eagerly option is set, this option does not apply to tf.data functions. tf.data functions are still traced and executed as graphs.\n",
      "  warnings.warn(\n"
     ]
    },
    {
     "name": "stdout",
     "output_type": "stream",
     "text": [
      "Validation loss improved from 0.1581348926955972 to 0.15726489511888547\n",
      "save to: /glade/work/ksha/NCAR/Keras_models/AE_Lead2_pp15\n",
      "INFO:tensorflow:Assets written to: /glade/work/ksha/NCAR/Keras_models/AE_Lead2_pp15/assets\n",
      "--- 173.08207941055298 seconds ---\n"
     ]
    },
    {
     "name": "stderr",
     "output_type": "stream",
     "text": [
      "/glade/work/ksha/anaconda3/lib/python3.9/site-packages/tensorflow/python/data/ops/dataset_ops.py:3503: UserWarning: Even though the tf.config.experimental_run_functions_eagerly option is set, this option does not apply to tf.data functions. tf.data functions are still traced and executed as graphs.\n",
      "  warnings.warn(\n"
     ]
    },
    {
     "name": "stdout",
     "output_type": "stream",
     "text": [
      "Validation loss improved from 0.15726489511888547 to 0.1566051525021567\n",
      "save to: /glade/work/ksha/NCAR/Keras_models/AE_Lead2_pp15\n",
      "INFO:tensorflow:Assets written to: /glade/work/ksha/NCAR/Keras_models/AE_Lead2_pp15/assets\n",
      "--- 168.53607153892517 seconds ---\n"
     ]
    },
    {
     "name": "stderr",
     "output_type": "stream",
     "text": [
      "/glade/work/ksha/anaconda3/lib/python3.9/site-packages/tensorflow/python/data/ops/dataset_ops.py:3503: UserWarning: Even though the tf.config.experimental_run_functions_eagerly option is set, this option does not apply to tf.data functions. tf.data functions are still traced and executed as graphs.\n",
      "  warnings.warn(\n"
     ]
    },
    {
     "name": "stdout",
     "output_type": "stream",
     "text": [
      "Validation loss improved from 0.1566051525021567 to 0.156273814693566\n",
      "save to: /glade/work/ksha/NCAR/Keras_models/AE_Lead2_pp15\n",
      "INFO:tensorflow:Assets written to: /glade/work/ksha/NCAR/Keras_models/AE_Lead2_pp15/assets\n",
      "--- 172.70222783088684 seconds ---\n"
     ]
    },
    {
     "name": "stderr",
     "output_type": "stream",
     "text": [
      "/glade/work/ksha/anaconda3/lib/python3.9/site-packages/tensorflow/python/data/ops/dataset_ops.py:3503: UserWarning: Even though the tf.config.experimental_run_functions_eagerly option is set, this option does not apply to tf.data functions. tf.data functions are still traced and executed as graphs.\n",
      "  warnings.warn(\n"
     ]
    },
    {
     "name": "stdout",
     "output_type": "stream",
     "text": [
      "Validation loss 0.15760710137250633 NOT improved\n",
      "Validation loss improved from 0.156273814693566 to 0.15356425691709844\n",
      "save to: /glade/work/ksha/NCAR/Keras_models/AE_Lead2_pp15\n",
      "INFO:tensorflow:Assets written to: /glade/work/ksha/NCAR/Keras_models/AE_Lead2_pp15/assets\n",
      "--- 181.7536678314209 seconds ---\n"
     ]
    },
    {
     "name": "stderr",
     "output_type": "stream",
     "text": [
      "/glade/work/ksha/anaconda3/lib/python3.9/site-packages/tensorflow/python/data/ops/dataset_ops.py:3503: UserWarning: Even though the tf.config.experimental_run_functions_eagerly option is set, this option does not apply to tf.data functions. tf.data functions are still traced and executed as graphs.\n",
      "  warnings.warn(\n"
     ]
    },
    {
     "name": "stdout",
     "output_type": "stream",
     "text": [
      "Validation loss improved from 0.15356425691709844 to 0.15242813258186783\n",
      "save to: /glade/work/ksha/NCAR/Keras_models/AE_Lead2_pp15\n",
      "INFO:tensorflow:Assets written to: /glade/work/ksha/NCAR/Keras_models/AE_Lead2_pp15/assets\n",
      "--- 165.35267639160156 seconds ---\n"
     ]
    },
    {
     "name": "stderr",
     "output_type": "stream",
     "text": [
      "/glade/work/ksha/anaconda3/lib/python3.9/site-packages/tensorflow/python/data/ops/dataset_ops.py:3503: UserWarning: Even though the tf.config.experimental_run_functions_eagerly option is set, this option does not apply to tf.data functions. tf.data functions are still traced and executed as graphs.\n",
      "  warnings.warn(\n"
     ]
    },
    {
     "name": "stdout",
     "output_type": "stream",
     "text": [
      "Validation loss improved from 0.15242813258186783 to 0.14942654111061607\n",
      "save to: /glade/work/ksha/NCAR/Keras_models/AE_Lead2_pp15\n",
      "INFO:tensorflow:Assets written to: /glade/work/ksha/NCAR/Keras_models/AE_Lead2_pp15/assets\n",
      "--- 169.9937388896942 seconds ---\n"
     ]
    },
    {
     "name": "stderr",
     "output_type": "stream",
     "text": [
      "/glade/work/ksha/anaconda3/lib/python3.9/site-packages/tensorflow/python/data/ops/dataset_ops.py:3503: UserWarning: Even though the tf.config.experimental_run_functions_eagerly option is set, this option does not apply to tf.data functions. tf.data functions are still traced and executed as graphs.\n",
      "  warnings.warn(\n"
     ]
    },
    {
     "name": "stdout",
     "output_type": "stream",
     "text": [
      "Validation loss improved from 0.14942654111061607 to 0.1477607039940627\n",
      "save to: /glade/work/ksha/NCAR/Keras_models/AE_Lead2_pp15\n",
      "INFO:tensorflow:Assets written to: /glade/work/ksha/NCAR/Keras_models/AE_Lead2_pp15/assets\n",
      "--- 173.75481152534485 seconds ---\n"
     ]
    },
    {
     "name": "stderr",
     "output_type": "stream",
     "text": [
      "/glade/work/ksha/anaconda3/lib/python3.9/site-packages/tensorflow/python/data/ops/dataset_ops.py:3503: UserWarning: Even though the tf.config.experimental_run_functions_eagerly option is set, this option does not apply to tf.data functions. tf.data functions are still traced and executed as graphs.\n",
      "  warnings.warn(\n"
     ]
    },
    {
     "name": "stdout",
     "output_type": "stream",
     "text": [
      "Validation loss improved from 0.1477607039940627 to 0.14698448125182953\n",
      "save to: /glade/work/ksha/NCAR/Keras_models/AE_Lead2_pp15\n",
      "INFO:tensorflow:Assets written to: /glade/work/ksha/NCAR/Keras_models/AE_Lead2_pp15/assets\n",
      "--- 182.9956591129303 seconds ---\n"
     ]
    },
    {
     "name": "stderr",
     "output_type": "stream",
     "text": [
      "/glade/work/ksha/anaconda3/lib/python3.9/site-packages/tensorflow/python/data/ops/dataset_ops.py:3503: UserWarning: Even though the tf.config.experimental_run_functions_eagerly option is set, this option does not apply to tf.data functions. tf.data functions are still traced and executed as graphs.\n",
      "  warnings.warn(\n"
     ]
    },
    {
     "name": "stdout",
     "output_type": "stream",
     "text": [
      "Validation loss 0.14727823586251454 NOT improved\n",
      "Validation loss 0.14706595872084713 NOT improved\n",
      "Validation loss improved from 0.14698448125182953 to 0.14587301432480235\n",
      "save to: /glade/work/ksha/NCAR/Keras_models/AE_Lead2_pp15\n",
      "INFO:tensorflow:Assets written to: /glade/work/ksha/NCAR/Keras_models/AE_Lead2_pp15/assets\n",
      "--- 178.7993893623352 seconds ---\n"
     ]
    },
    {
     "name": "stderr",
     "output_type": "stream",
     "text": [
      "/glade/work/ksha/anaconda3/lib/python3.9/site-packages/tensorflow/python/data/ops/dataset_ops.py:3503: UserWarning: Even though the tf.config.experimental_run_functions_eagerly option is set, this option does not apply to tf.data functions. tf.data functions are still traced and executed as graphs.\n",
      "  warnings.warn(\n"
     ]
    },
    {
     "name": "stdout",
     "output_type": "stream",
     "text": [
      "Validation loss 0.1501298451445444 NOT improved\n",
      "Validation loss improved from 0.14587301432480235 to 0.1450819446893198\n",
      "save to: /glade/work/ksha/NCAR/Keras_models/AE_Lead2_pp15\n",
      "INFO:tensorflow:Assets written to: /glade/work/ksha/NCAR/Keras_models/AE_Lead2_pp15/assets\n",
      "--- 169.06661987304688 seconds ---\n"
     ]
    },
    {
     "name": "stderr",
     "output_type": "stream",
     "text": [
      "/glade/work/ksha/anaconda3/lib/python3.9/site-packages/tensorflow/python/data/ops/dataset_ops.py:3503: UserWarning: Even though the tf.config.experimental_run_functions_eagerly option is set, this option does not apply to tf.data functions. tf.data functions are still traced and executed as graphs.\n",
      "  warnings.warn(\n"
     ]
    },
    {
     "name": "stdout",
     "output_type": "stream",
     "text": [
      "Validation loss improved from 0.1450819446893198 to 0.14396957135570754\n",
      "save to: /glade/work/ksha/NCAR/Keras_models/AE_Lead2_pp15\n",
      "INFO:tensorflow:Assets written to: /glade/work/ksha/NCAR/Keras_models/AE_Lead2_pp15/assets\n",
      "--- 174.0053951740265 seconds ---\n"
     ]
    },
    {
     "name": "stderr",
     "output_type": "stream",
     "text": [
      "/glade/work/ksha/anaconda3/lib/python3.9/site-packages/tensorflow/python/data/ops/dataset_ops.py:3503: UserWarning: Even though the tf.config.experimental_run_functions_eagerly option is set, this option does not apply to tf.data functions. tf.data functions are still traced and executed as graphs.\n",
      "  warnings.warn(\n"
     ]
    },
    {
     "name": "stdout",
     "output_type": "stream",
     "text": [
      "Validation loss improved from 0.14396957135570754 to 0.1429617463383147\n",
      "save to: /glade/work/ksha/NCAR/Keras_models/AE_Lead2_pp15\n",
      "INFO:tensorflow:Assets written to: /glade/work/ksha/NCAR/Keras_models/AE_Lead2_pp15/assets\n",
      "--- 174.58443474769592 seconds ---\n"
     ]
    },
    {
     "name": "stderr",
     "output_type": "stream",
     "text": [
      "/glade/work/ksha/anaconda3/lib/python3.9/site-packages/tensorflow/python/data/ops/dataset_ops.py:3503: UserWarning: Even though the tf.config.experimental_run_functions_eagerly option is set, this option does not apply to tf.data functions. tf.data functions are still traced and executed as graphs.\n",
      "  warnings.warn(\n"
     ]
    },
    {
     "name": "stdout",
     "output_type": "stream",
     "text": [
      "Validation loss 0.14799070281522428 NOT improved\n",
      "Validation loss 0.14475601269849606 NOT improved\n",
      "Validation loss 0.1436337485979644 NOT improved\n",
      "Validation loss 0.14319630098974118 NOT improved\n",
      "Validation loss 0.14339591213505876 NOT improved\n",
      "Validation loss improved from 0.1429617463383147 to 0.14243568201006876\n",
      "save to: /glade/work/ksha/NCAR/Keras_models/AE_Lead2_pp15\n",
      "INFO:tensorflow:Assets written to: /glade/work/ksha/NCAR/Keras_models/AE_Lead2_pp15/assets\n",
      "--- 174.96626138687134 seconds ---\n"
     ]
    },
    {
     "name": "stderr",
     "output_type": "stream",
     "text": [
      "/glade/work/ksha/anaconda3/lib/python3.9/site-packages/tensorflow/python/data/ops/dataset_ops.py:3503: UserWarning: Even though the tf.config.experimental_run_functions_eagerly option is set, this option does not apply to tf.data functions. tf.data functions are still traced and executed as graphs.\n",
      "  warnings.warn(\n"
     ]
    },
    {
     "name": "stdout",
     "output_type": "stream",
     "text": [
      "Validation loss improved from 0.14243568201006876 to 0.14195148804930965\n",
      "save to: /glade/work/ksha/NCAR/Keras_models/AE_Lead2_pp15\n",
      "INFO:tensorflow:Assets written to: /glade/work/ksha/NCAR/Keras_models/AE_Lead2_pp15/assets\n",
      "--- 173.19943118095398 seconds ---\n"
     ]
    },
    {
     "name": "stderr",
     "output_type": "stream",
     "text": [
      "/glade/work/ksha/anaconda3/lib/python3.9/site-packages/tensorflow/python/data/ops/dataset_ops.py:3503: UserWarning: Even though the tf.config.experimental_run_functions_eagerly option is set, this option does not apply to tf.data functions. tf.data functions are still traced and executed as graphs.\n",
      "  warnings.warn(\n"
     ]
    },
    {
     "name": "stdout",
     "output_type": "stream",
     "text": [
      "Validation loss improved from 0.14195148804930965 to 0.14166160910658357\n",
      "save to: /glade/work/ksha/NCAR/Keras_models/AE_Lead2_pp15\n",
      "INFO:tensorflow:Assets written to: /glade/work/ksha/NCAR/Keras_models/AE_Lead2_pp15/assets\n",
      "--- 171.58807706832886 seconds ---\n"
     ]
    },
    {
     "name": "stderr",
     "output_type": "stream",
     "text": [
      "/glade/work/ksha/anaconda3/lib/python3.9/site-packages/tensorflow/python/data/ops/dataset_ops.py:3503: UserWarning: Even though the tf.config.experimental_run_functions_eagerly option is set, this option does not apply to tf.data functions. tf.data functions are still traced and executed as graphs.\n",
      "  warnings.warn(\n"
     ]
    },
    {
     "name": "stdout",
     "output_type": "stream",
     "text": [
      "Validation loss improved from 0.14166160910658357 to 0.14053748142903374\n",
      "save to: /glade/work/ksha/NCAR/Keras_models/AE_Lead2_pp15\n",
      "INFO:tensorflow:Assets written to: /glade/work/ksha/NCAR/Keras_models/AE_Lead2_pp15/assets\n",
      "--- 175.74956846237183 seconds ---\n"
     ]
    },
    {
     "name": "stderr",
     "output_type": "stream",
     "text": [
      "/glade/work/ksha/anaconda3/lib/python3.9/site-packages/tensorflow/python/data/ops/dataset_ops.py:3503: UserWarning: Even though the tf.config.experimental_run_functions_eagerly option is set, this option does not apply to tf.data functions. tf.data functions are still traced and executed as graphs.\n",
      "  warnings.warn(\n"
     ]
    },
    {
     "name": "stdout",
     "output_type": "stream",
     "text": [
      "Validation loss 0.14161932920533496 NOT improved\n",
      "Validation loss 0.1419966056082728 NOT improved\n",
      "Validation loss 0.14465509932069057 NOT improved\n",
      "Validation loss improved from 0.14053748142903374 to 0.14013670533804015\n",
      "save to: /glade/work/ksha/NCAR/Keras_models/AE_Lead2_pp15\n",
      "INFO:tensorflow:Assets written to: /glade/work/ksha/NCAR/Keras_models/AE_Lead2_pp15/assets\n",
      "--- 174.82191133499146 seconds ---\n"
     ]
    },
    {
     "name": "stderr",
     "output_type": "stream",
     "text": [
      "/glade/work/ksha/anaconda3/lib/python3.9/site-packages/tensorflow/python/data/ops/dataset_ops.py:3503: UserWarning: Even though the tf.config.experimental_run_functions_eagerly option is set, this option does not apply to tf.data functions. tf.data functions are still traced and executed as graphs.\n",
      "  warnings.warn(\n"
     ]
    },
    {
     "name": "stdout",
     "output_type": "stream",
     "text": [
      "Validation loss 0.140594438441939 NOT improved\n",
      "Validation loss 0.14104574468364914 NOT improved\n",
      "Validation loss improved from 0.14013670533804015 to 0.1396339405297063\n",
      "save to: /glade/work/ksha/NCAR/Keras_models/AE_Lead2_pp15\n",
      "INFO:tensorflow:Assets written to: /glade/work/ksha/NCAR/Keras_models/AE_Lead2_pp15/assets\n",
      "--- 174.90309286117554 seconds ---\n"
     ]
    },
    {
     "name": "stderr",
     "output_type": "stream",
     "text": [
      "/glade/work/ksha/anaconda3/lib/python3.9/site-packages/tensorflow/python/data/ops/dataset_ops.py:3503: UserWarning: Even though the tf.config.experimental_run_functions_eagerly option is set, this option does not apply to tf.data functions. tf.data functions are still traced and executed as graphs.\n",
      "  warnings.warn(\n"
     ]
    },
    {
     "name": "stdout",
     "output_type": "stream",
     "text": [
      "Validation loss improved from 0.1396339405297063 to 0.13901870711465225\n",
      "save to: /glade/work/ksha/NCAR/Keras_models/AE_Lead2_pp15\n",
      "INFO:tensorflow:Assets written to: /glade/work/ksha/NCAR/Keras_models/AE_Lead2_pp15/assets\n",
      "--- 169.8879611492157 seconds ---\n"
     ]
    },
    {
     "name": "stderr",
     "output_type": "stream",
     "text": [
      "/glade/work/ksha/anaconda3/lib/python3.9/site-packages/tensorflow/python/data/ops/dataset_ops.py:3503: UserWarning: Even though the tf.config.experimental_run_functions_eagerly option is set, this option does not apply to tf.data functions. tf.data functions are still traced and executed as graphs.\n",
      "  warnings.warn(\n"
     ]
    },
    {
     "name": "stdout",
     "output_type": "stream",
     "text": [
      "Validation loss improved from 0.13901870711465225 to 0.13862260583925307\n",
      "save to: /glade/work/ksha/NCAR/Keras_models/AE_Lead2_pp15\n",
      "INFO:tensorflow:Assets written to: /glade/work/ksha/NCAR/Keras_models/AE_Lead2_pp15/assets\n",
      "--- 170.1526710987091 seconds ---\n"
     ]
    },
    {
     "name": "stderr",
     "output_type": "stream",
     "text": [
      "/glade/work/ksha/anaconda3/lib/python3.9/site-packages/tensorflow/python/data/ops/dataset_ops.py:3503: UserWarning: Even though the tf.config.experimental_run_functions_eagerly option is set, this option does not apply to tf.data functions. tf.data functions are still traced and executed as graphs.\n",
      "  warnings.warn(\n"
     ]
    },
    {
     "name": "stdout",
     "output_type": "stream",
     "text": [
      "Validation loss 0.13862383608674583 NOT improved\n",
      "Validation loss 0.1439010855980571 NOT improved\n",
      "Validation loss 0.1387476262943189 NOT improved\n",
      "Validation loss 0.13951955722238843 NOT improved\n",
      "Validation loss 0.13890596740620414 NOT improved\n",
      "Validation loss improved from 0.13862260583925307 to 0.13772139834159847\n",
      "save to: /glade/work/ksha/NCAR/Keras_models/AE_Lead2_pp15\n",
      "INFO:tensorflow:Assets written to: /glade/work/ksha/NCAR/Keras_models/AE_Lead2_pp15/assets\n",
      "--- 173.78403973579407 seconds ---\n"
     ]
    },
    {
     "name": "stderr",
     "output_type": "stream",
     "text": [
      "/glade/work/ksha/anaconda3/lib/python3.9/site-packages/tensorflow/python/data/ops/dataset_ops.py:3503: UserWarning: Even though the tf.config.experimental_run_functions_eagerly option is set, this option does not apply to tf.data functions. tf.data functions are still traced and executed as graphs.\n",
      "  warnings.warn(\n"
     ]
    },
    {
     "name": "stdout",
     "output_type": "stream",
     "text": [
      "Validation loss 0.1377231856866067 NOT improved\n",
      "Validation loss 0.14100599080566129 NOT improved\n",
      "Validation loss 0.13931801231845364 NOT improved\n",
      "Validation loss 0.1378252988534544 NOT improved\n",
      "Validation loss 0.1384535776879901 NOT improved\n",
      "Validation loss 0.13906179453290526 NOT improved\n",
      "Validation loss improved from 0.13772139834159847 to 0.13635051722620004\n",
      "save to: /glade/work/ksha/NCAR/Keras_models/AE_Lead2_pp15\n",
      "INFO:tensorflow:Assets written to: /glade/work/ksha/NCAR/Keras_models/AE_Lead2_pp15/assets\n",
      "--- 174.56581354141235 seconds ---\n"
     ]
    },
    {
     "name": "stderr",
     "output_type": "stream",
     "text": [
      "/glade/work/ksha/anaconda3/lib/python3.9/site-packages/tensorflow/python/data/ops/dataset_ops.py:3503: UserWarning: Even though the tf.config.experimental_run_functions_eagerly option is set, this option does not apply to tf.data functions. tf.data functions are still traced and executed as graphs.\n",
      "  warnings.warn(\n"
     ]
    },
    {
     "name": "stdout",
     "output_type": "stream",
     "text": [
      "Validation loss 0.13881173297285124 NOT improved\n",
      "Validation loss 0.13781103059748137 NOT improved\n",
      "Validation loss improved from 0.13635051722620004 to 0.13619052817424337\n",
      "save to: /glade/work/ksha/NCAR/Keras_models/AE_Lead2_pp15\n",
      "INFO:tensorflow:Assets written to: /glade/work/ksha/NCAR/Keras_models/AE_Lead2_pp15/assets\n",
      "--- 172.29002737998962 seconds ---\n"
     ]
    },
    {
     "name": "stderr",
     "output_type": "stream",
     "text": [
      "/glade/work/ksha/anaconda3/lib/python3.9/site-packages/tensorflow/python/data/ops/dataset_ops.py:3503: UserWarning: Even though the tf.config.experimental_run_functions_eagerly option is set, this option does not apply to tf.data functions. tf.data functions are still traced and executed as graphs.\n",
      "  warnings.warn(\n"
     ]
    },
    {
     "name": "stdout",
     "output_type": "stream",
     "text": [
      "Validation loss 0.13770109056125487 NOT improved\n",
      "Validation loss 0.13752344012402454 NOT improved\n",
      "Validation loss 0.13782408774149252 NOT improved\n"
     ]
    }
   ],
   "source": [
    "# ========== Training loop ========== #\n",
    "L_storm = len(filename_neg_train)\n",
    "L_aug = len(filename_pos_train)\n",
    "\n",
    "for i in range(epochs):\n",
    "    \n",
    "    shuffle(filename_neg_train)\n",
    "    shuffle(filename_pos_train)\n",
    "    \n",
    "    #print('epoch = {}'.format(i))\n",
    "    start_time = time.time()\n",
    "    \n",
    "    # loop of batch\n",
    "    for j in range(L_train):\n",
    "        \n",
    "        #N_aug = int(np.random.uniform(2, 14))\n",
    "        N_aug = int(np.random.uniform(8, 14))\n",
    "        #N_aug = int(np.random.uniform(10, 25))\n",
    "        #N_aug = int(np.random.uniform(20, 45))\n",
    "        #N_aug = int(np.random.uniform(35, 50))\n",
    "        \n",
    "        N_storm = 100 - N_aug\n",
    "        \n",
    "        ind_storm = du.shuffle_ind(L_storm)\n",
    "        ind_aug = du.shuffle_ind(L_aug)\n",
    "        \n",
    "        file_pick_storm = []\n",
    "        for ind_temp in ind_storm[:N_storm]:\n",
    "            file_pick_storm.append(filename_neg_train[ind_temp])\n",
    "\n",
    "        file_pick_aug = []\n",
    "        for ind_temp in ind_aug[:N_aug]:\n",
    "            file_pick_aug.append(filename_pos_train[ind_temp])\n",
    "        \n",
    "        file_pick = file_pick_storm + file_pick_aug\n",
    "        \n",
    "        if len(file_pick) != 100:\n",
    "            sregwet\n",
    "        \n",
    "        for k in range(batch_size):\n",
    "\n",
    "            data = np.load(file_pick[k])\n",
    "            \n",
    "            for l, c in enumerate(ind_pick_from_batch):\n",
    "            \n",
    "                X_batch[k, ..., l] = data[..., c]\n",
    "            \n",
    "            if 'pos' in file_pick[k]:\n",
    "                Y_batch[k, :] = 1.0 #np.random.uniform(0.9, 0.99)\n",
    "            elif 'neg_neg_neg' in file_pick[k]:\n",
    "                Y_batch[k, :] = 0.0 #np.random.uniform(0.01, 0.05)\n",
    "            else:\n",
    "                werhgaer\n",
    "                \n",
    "        #Y_batch_cate = tf.keras.utils.to_categorical(Y_batch)\n",
    "        \n",
    "        # # add noise within sparse inputs\n",
    "        # for v in flag_sparse:\n",
    "        #     X_batch[..., v] += np.random.uniform(0, 0.01, size=(batch_size, 128, 128))\n",
    "\n",
    "        # shuffle indices\n",
    "        ind_ = du.shuffle_ind(batch_size)\n",
    "        X_batch = X_batch[ind_, ...]\n",
    "        Y_batch = Y_batch[ind_, :]\n",
    "        \n",
    "        if np.sum(np.isnan(X_batch)) > 0:\n",
    "            asfeargagqarew\n",
    "        \n",
    "        # train on batch\n",
    "        model.train_on_batch([X_batch,], [X_batch]);\n",
    "    \n",
    "    # epoch end operations\n",
    "    Y_pred = model.predict([TEST_input,])\n",
    "    #Y_pred = Y_pred_list[0]\n",
    "    # Y_pred[Y_pred<0] = 0\n",
    "    # Y_pred[Y_pred>1] = 1\n",
    "    record_temp = verif_metric(TEST_input, Y_pred)\n",
    "    \n",
    "    # if i % 10 == 0:\n",
    "    #     model.save(model_path_backup)\n",
    "    \n",
    "    if (record - record_temp > min_del) and (np.max(Y_pred) > 0.6):\n",
    "        print('Validation loss improved from {} to {}'.format(record, record_temp))\n",
    "        record = record_temp\n",
    "        tol = 0\n",
    "        #print('tol: {}'.format(tol))\n",
    "        # save\n",
    "        print('save to: {}'.format(model_path))\n",
    "        model.save(model_path)\n",
    "    else:\n",
    "        print('Validation loss {} NOT improved'.format(record_temp))\n",
    "        tol += 1\n",
    "        #print('tol: {}'.format(tol))\n",
    "        if tol >= max_tol:\n",
    "            print('Early stopping')\n",
    "            sys.exit();\n",
    "        else:\n",
    "            #print('Pass to the next epoch')\n",
    "            continue;\n",
    "    print(\"--- %s seconds ---\" % (time.time() - start_time))"
   ]
  },
  {
   "cell_type": "code",
   "execution_count": null,
   "id": "43942ff4-59f8-4379-a26b-751bd0c231d3",
   "metadata": {},
   "outputs": [],
   "source": []
  },
  {
   "cell_type": "code",
   "execution_count": null,
   "id": "171ddabc-d8ef-4e66-8262-27e843041c0b",
   "metadata": {},
   "outputs": [],
   "source": []
  },
  {
   "cell_type": "code",
   "execution_count": null,
   "id": "a0fe4963-0c67-4340-ac4f-633e965745a0",
   "metadata": {},
   "outputs": [],
   "source": []
  }
 ],
 "metadata": {
  "kernelspec": {
   "display_name": "Python 3 (ipykernel)",
   "language": "python",
   "name": "python3"
  },
  "language_info": {
   "codemirror_mode": {
    "name": "ipython",
    "version": 3
   },
   "file_extension": ".py",
   "mimetype": "text/x-python",
   "name": "python",
   "nbconvert_exporter": "python",
   "pygments_lexer": "ipython3",
   "version": "3.9.13"
  }
 },
 "nbformat": 4,
 "nbformat_minor": 5
}
