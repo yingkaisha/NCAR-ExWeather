{
 "cells": [
  {
   "cell_type": "code",
   "execution_count": 1,
   "id": "d48d2939-49c5-44e3-9f1d-7916e1c89bc8",
   "metadata": {},
   "outputs": [],
   "source": [
    "import sys\n",
    "from glob import glob\n",
    "\n",
    "import time\n",
    "import h5py\n",
    "import zarr\n",
    "import numpy as np\n",
    "import pandas as pd\n",
    "from scipy.spatial import cKDTree\n",
    "\n",
    "sys.path.insert(0, '/glade/u/home/ksha/NCAR/')\n",
    "sys.path.insert(0, '/glade/u/home/ksha/NCAR/libs/')\n",
    "\n",
    "from namelist import *\n",
    "import data_utils as du\n",
    "\n",
    "from datetime import datetime, timedelta"
   ]
  },
  {
   "cell_type": "code",
   "execution_count": null,
   "id": "f0b59ffe-ec09-432d-af8f-13b8dea7840b",
   "metadata": {},
   "outputs": [],
   "source": []
  },
  {
   "cell_type": "code",
   "execution_count": 4,
   "id": "9d76d2d5-5300-4048-8788-d50d2eb1e56c",
   "metadata": {},
   "outputs": [],
   "source": [
    "record_merge = np.empty((872, 44, 75, 3, 24))\n",
    "\n",
    "for i, lead_temp in enumerate(range(24)):\n",
    "    \n",
    "    with h5py.File(save_dir_scratch+'SPC_to_lead{}_72km_all.hdf'.format(lead_temp), 'r') as h5io:\n",
    "        record_temp = h5io['record_v3'][...]\n",
    "        \n",
    "    record_merge[..., i] = record_temp\n",
    "        \n",
    "    "
   ]
  },
  {
   "cell_type": "code",
   "execution_count": 32,
   "id": "aaeb7e23-2a80-4db3-87e5-adf87e72ad17",
   "metadata": {},
   "outputs": [
    {
     "name": "stdout",
     "output_type": "stream",
     "text": [
      "Save to /glade/scratch/ksha/DRIVE/SPC_72km_all.hdf\n"
     ]
    }
   ],
   "source": [
    "tuple_save = (record_merge,)\n",
    "label_save = ['record_v3',]\n",
    "du.save_hdf5(tuple_save, label_save, save_dir_scratch, 'SPC_72km_all.hdf')"
   ]
  },
  {
   "cell_type": "code",
   "execution_count": 20,
   "id": "702b65a6-84d9-4dec-adcb-3376588e3dbc",
   "metadata": {},
   "outputs": [],
   "source": [
    "day = 10\n",
    "lead = 21"
   ]
  },
  {
   "cell_type": "code",
   "execution_count": 21,
   "id": "752bc0e3-c887-4ef9-9cae-82eafc9f1f02",
   "metadata": {},
   "outputs": [],
   "source": [
    "test = np.concatenate((record_merge[day-3, ..., lead:], record_merge[day-2, ..., :], record_merge[day-1, ..., :lead]), axis=-1)"
   ]
  },
  {
   "cell_type": "code",
   "execution_count": 31,
   "id": "2c7bb34d-9b51-4eb6-8a5f-c80d80868eac",
   "metadata": {},
   "outputs": [
    {
     "data": {
      "text/plain": [
       "array([ 0,  1,  2, 13])"
      ]
     },
     "execution_count": 31,
     "metadata": {},
     "output_type": "execute_result"
    }
   ],
   "source": [
    "np.concatenate((np.array([0, 1]), np.array([2, 13])), axis=0)"
   ]
  },
  {
   "cell_type": "code",
   "execution_count": null,
   "id": "ae6aa94c-a923-4204-a43b-d0e54c369624",
   "metadata": {},
   "outputs": [],
   "source": []
  },
  {
   "cell_type": "code",
   "execution_count": null,
   "id": "9dcff68a-f12f-428f-ae22-815e179d9583",
   "metadata": {},
   "outputs": [],
   "source": []
  },
  {
   "cell_type": "code",
   "execution_count": null,
   "id": "934c63dc-e815-41ef-891a-54f1026a422b",
   "metadata": {},
   "outputs": [],
   "source": []
  }
 ],
 "metadata": {
  "kernelspec": {
   "display_name": "Python 3 (ipykernel)",
   "language": "python",
   "name": "python3"
  },
  "language_info": {
   "codemirror_mode": {
    "name": "ipython",
    "version": 3
   },
   "file_extension": ".py",
   "mimetype": "text/x-python",
   "name": "python",
   "nbconvert_exporter": "python",
   "pygments_lexer": "ipython3",
   "version": "3.9.13"
  }
 },
 "nbformat": 4,
 "nbformat_minor": 5
}
