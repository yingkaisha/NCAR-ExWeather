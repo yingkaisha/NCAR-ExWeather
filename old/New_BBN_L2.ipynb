{
 "cells": [
  {
   "cell_type": "code",
   "execution_count": 1,
   "id": "ce76310e-2358-43eb-ba0c-188a45af0b5e",
   "metadata": {},
   "outputs": [
    {
     "name": "stderr",
     "output_type": "stream",
     "text": [
      "2022-09-29 16:25:18.855752: I tensorflow/stream_executor/platform/default/dso_loader.cc:49] Successfully opened dynamic library libcudart.so.10.1\n"
     ]
    }
   ],
   "source": [
    "# general tools\n",
    "import sys\n",
    "from glob import glob\n",
    "\n",
    "# data tools\n",
    "import time\n",
    "import h5py\n",
    "import random\n",
    "import numpy as np\n",
    "from random import shuffle\n",
    "\n",
    "# deep learning tools\n",
    "import tensorflow as tf\n",
    "from tensorflow import keras\n",
    "from tensorflow.keras import utils\n",
    "from tensorflow.keras import Model\n",
    "from tensorflow.keras import layers\n",
    "from tensorflow.keras import backend\n",
    "\n",
    "tf.config.run_functions_eagerly(True)"
   ]
  },
  {
   "cell_type": "code",
   "execution_count": 2,
   "id": "cb83e9be-2517-4a37-b403-fc0aea2cf2d6",
   "metadata": {},
   "outputs": [],
   "source": [
    "from sklearn.metrics import classification_report, auc, roc_curve, confusion_matrix, brier_score_loss, log_loss\n",
    "\n",
    "import matplotlib.pyplot as plt\n",
    "%matplotlib inline"
   ]
  },
  {
   "cell_type": "code",
   "execution_count": 3,
   "id": "ee2f455b-7a16-4d6c-b673-ff37e482f46d",
   "metadata": {},
   "outputs": [],
   "source": [
    "from keras_unet_collection import utils as k_utils\n",
    "\n",
    "sys.path.insert(0, '/glade/u/home/ksha/NCAR/')\n",
    "sys.path.insert(0, '/glade/u/home/ksha/NCAR/libs/')\n",
    "\n",
    "from namelist import *\n",
    "import data_utils as du\n",
    "import graph_utils as gu"
   ]
  },
  {
   "cell_type": "code",
   "execution_count": 46,
   "id": "0c90d9cc-6acb-4bb5-bdfa-5efdd88bb607",
   "metadata": {},
   "outputs": [],
   "source": [
    "def verif_metric(VALID_target, Y_pred):\n",
    "\n",
    "\n",
    "    # fpr, tpr, thresholds = roc_curve(VALID_target.ravel(), Y_pred.ravel())\n",
    "    # AUC = auc(fpr, tpr)\n",
    "    # AUC_metric = 1 - AUC\n",
    "    \n",
    "    BS = np.mean((VALID_target.ravel() - Y_pred.ravel())**2)\n",
    "    #ll = log_loss(VALID_target.ravel(), Y_pred.ravel())\n",
    "    \n",
    "    print('{}'.format(BS))\n",
    "    metric = BS\n",
    "\n",
    "    return metric"
   ]
  },
  {
   "cell_type": "code",
   "execution_count": 4,
   "id": "a3df16d3-eb0e-4029-a1f8-4e22ffafa066",
   "metadata": {},
   "outputs": [],
   "source": [
    "class LayerScale(layers.Layer):\n",
    "    \"\"\"Layer scale module.\n",
    "    References:\n",
    "      - https://arxiv.org/abs/2103.17239\n",
    "    Args:\n",
    "      init_values (float): Initial value for layer scale. Should be within\n",
    "        [0, 1].\n",
    "      projection_dim (int): Projection dimensionality.\n",
    "    Returns:\n",
    "      Tensor multiplied to the scale.\n",
    "    \"\"\"\n",
    "\n",
    "    def __init__(self, init_values, projection_dim, **kwargs):\n",
    "        super().__init__(**kwargs)\n",
    "        self.init_values = init_values\n",
    "        self.projection_dim = projection_dim\n",
    "\n",
    "    def build(self, input_shape):\n",
    "        self.gamma = tf.Variable(\n",
    "            self.init_values * tf.ones((self.projection_dim,))\n",
    "        )\n",
    "\n",
    "    def call(self, x):\n",
    "        return x * self.gamma\n",
    "\n",
    "    def get_config(self):\n",
    "        config = super().get_config()\n",
    "        config.update(\n",
    "            {\n",
    "                \"init_values\": self.init_values,\n",
    "                \"projection_dim\": self.projection_dim,\n",
    "            }\n",
    "        )\n",
    "        return config"
   ]
  },
  {
   "cell_type": "code",
   "execution_count": null,
   "id": "6d47a46b-70e1-453b-8eef-43a5996aa7f1",
   "metadata": {},
   "outputs": [],
   "source": []
  },
  {
   "cell_type": "code",
   "execution_count": 5,
   "id": "cd0d9a4c-75fd-41bd-866c-b429aadbf0c9",
   "metadata": {},
   "outputs": [],
   "source": [
    "# with h5py.File(save_dir+'HRRR_domain.hdf', 'r') as h5io:\n",
    "#     lon_3km = h5io['lon_3km'][...]\n",
    "#     lat_3km = h5io['lat_3km'][...]\n",
    "#     lon_72km = h5io['lon_72km'][...]\n",
    "#     lat_72km = h5io['lat_72km'][...]\n",
    "#     land_mask_72km = h5io['land_mask_72km'][...]\n",
    "#     land_mask_3km = h5io['land_mask_3km'][...]"
   ]
  },
  {
   "cell_type": "code",
   "execution_count": 6,
   "id": "9e1ee330-cf69-4ead-aa86-42cb0aeec11b",
   "metadata": {},
   "outputs": [],
   "source": [
    "ind_pick_from_batch = [0, 1, 3, 4, 8, 9, 10, 13, 14, 15, 16, 17, 18, 21, 22]\n",
    "L_vars = len(ind_pick_from_batch)"
   ]
  },
  {
   "cell_type": "code",
   "execution_count": 7,
   "id": "c181e0e9-cf6a-4fc9-a913-97562ce045c2",
   "metadata": {},
   "outputs": [],
   "source": [
    "filename_neg_train = sorted(glob(\"/glade/scratch/ksha/DATA/NCAR_batch/TRAIN*neg_neg_neg*lead2.npy\"))\n",
    "filename_pos_train = sorted(glob(\"/glade/scratch/ksha/DATA/NCAR_batch/TRAIN*pos*lead2.npy\"))\n",
    "filename_neg_valid = sorted(glob(\"/glade/scratch/ksha/DATA/NCAR_batch/VALID*neg_neg_neg*lead2.npy\"))\n",
    "filename_pos_valid = sorted(glob(\"/glade/scratch/ksha/DATA/NCAR_batch/VALID*pos*lead2.npy\"))"
   ]
  },
  {
   "cell_type": "code",
   "execution_count": 51,
   "id": "212d4418-e256-4823-baea-7dc2918d76e1",
   "metadata": {},
   "outputs": [],
   "source": [
    "filename_train = filename_neg_train+filename_pos_train"
   ]
  },
  {
   "cell_type": "code",
   "execution_count": 8,
   "id": "7a1d9b13-17a8-4c2e-b316-a7731afdce58",
   "metadata": {},
   "outputs": [],
   "source": [
    "filename_valid = filename_neg_valid[::40] + filename_pos_valid[::40]"
   ]
  },
  {
   "cell_type": "code",
   "execution_count": 9,
   "id": "3063ca0a-a4d9-4e3a-a477-01b92709754f",
   "metadata": {},
   "outputs": [],
   "source": [
    "L_valid = len(filename_valid)\n",
    "L_var = L_vars\n",
    "\n",
    "TEST_input = np.empty((L_valid, 64, 64, L_var))\n",
    "TEST_target = np.ones(L_valid)\n",
    "\n",
    "for i, name in enumerate(filename_valid):\n",
    "    data = np.load(name)\n",
    "    for k, c in enumerate(ind_pick_from_batch):\n",
    "        \n",
    "        TEST_input[i, ..., k] = data[..., c]\n",
    "\n",
    "        if 'pos' in name:\n",
    "            TEST_target[i] = 1.0\n",
    "        else:\n",
    "            TEST_target[i] = 0.0"
   ]
  },
  {
   "cell_type": "code",
   "execution_count": 10,
   "id": "c60dc4bf-0fa9-441d-9ed5-bd75e96ce51f",
   "metadata": {},
   "outputs": [
    {
     "data": {
      "text/plain": [
       "(8267, 64, 64, 15)"
      ]
     },
     "execution_count": 10,
     "metadata": {},
     "output_type": "execute_result"
    }
   ],
   "source": [
    "TEST_input.shape"
   ]
  },
  {
   "cell_type": "code",
   "execution_count": 11,
   "id": "93bc6a7d-c18f-4c0a-a61e-dbe26aac3ebb",
   "metadata": {},
   "outputs": [
    {
     "data": {
      "text/plain": [
       "0.0014515543728075482"
      ]
     },
     "execution_count": 11,
     "metadata": {},
     "output_type": "execute_result"
    }
   ],
   "source": [
    "np.sum(TEST_target) / len(TEST_target)"
   ]
  },
  {
   "cell_type": "markdown",
   "id": "26d6c483-697c-43b9-8469-8028e4b819bc",
   "metadata": {},
   "source": [
    "**BBN-ConvNext**"
   ]
  },
  {
   "cell_type": "code",
   "execution_count": 57,
   "id": "7e2e206d-f277-48b7-afe7-aa0c703fa9a5",
   "metadata": {},
   "outputs": [],
   "source": [
    "depths=[3, 3, 27, 3]\n",
    "projection_dims=[96, 192, 384, 768]\n",
    "layer_scale_init_value=1e-6\n",
    "input_shape=(64, 64, 15)\n",
    "#model_name='BBN'"
   ]
  },
  {
   "cell_type": "code",
   "execution_count": 58,
   "id": "0e02c56c-3aec-4cdb-a303-93cdf0910c42",
   "metadata": {},
   "outputs": [],
   "source": [
    "def BBN_share(IN, depths, projection_dims, layer_scale_init_value, model_name):\n",
    "    \n",
    "    X = IN\n",
    "    \n",
    "    X = layers.Conv2D(projection_dims[0], kernel_size=4, strides=4, name=\"{}_down0\".format(model_name))(X)\n",
    "    X = layers.LayerNormalization(epsilon=1e-6, name=\"{}_down0_norm\".format(model_name))(X)\n",
    "\n",
    "    for j in range(depths[0]):\n",
    "\n",
    "        X_convnext = X\n",
    "        X_convnext = layers.Conv2D(filters=projection_dims[0], kernel_size=7, padding=\"same\",\n",
    "                                   groups=projection_dims[0], name=\"{}_down0_dconv{}\".format(model_name, j))(X_convnext)\n",
    "        X_convnext = layers.LayerNormalization(epsilon=1e-6, name=\"{}_down0_dconv{}_norm\".format(model_name, j))(X_convnext)\n",
    "        X_convnext = layers.Dense(4 * projection_dims[0], name=\"{}_down0_dense{}_p1\".format(model_name, j))(X_convnext)\n",
    "        X_convnext = layers.Activation(\"gelu\", name=\"{}_down0_gelu{}\".format(model_name, j))(X_convnext)\n",
    "        X_convnext = layers.Dense(projection_dims[0], name=\"{}_down0_dense{}_p2\".format(model_name, j))(X_convnext)\n",
    "\n",
    "        X_convnext = LayerScale(layer_scale_init_value, projection_dims[0], name=\"{}_down0_layerscale{}\".format(model_name, j))(X_convnext)\n",
    "\n",
    "        X = X + X_convnext\n",
    "\n",
    "\n",
    "    # ----- convnext block 1 ----- #\n",
    "\n",
    "    X = layers.LayerNormalization(epsilon=1e-6, name=\"{}_down1_norm\".format(model_name))(X)\n",
    "    X = layers.Conv2D(projection_dims[1], kernel_size=2, strides=2, name=\"{}_down1\".format(model_name))(X)\n",
    "\n",
    "    for j in range(depths[1]):\n",
    "\n",
    "        X_convnext = X\n",
    "        X_convnext = layers.Conv2D(filters=projection_dims[1], kernel_size=7, padding=\"same\",\n",
    "                                   groups=projection_dims[1], name=\"{}_down1_dconv{}\".format(model_name, j))(X_convnext)\n",
    "        X_convnext = layers.LayerNormalization(epsilon=1e-6, name=\"{}_down1_dconv{}_norm\".format(model_name, j))(X_convnext)\n",
    "        X_convnext = layers.Dense(4 * projection_dims[1], name=\"{}_down1_dense{}_p1\".format(model_name, j))(X_convnext)\n",
    "        X_convnext = layers.Activation(\"gelu\", name=\"{}_down1_gelu{}\".format(model_name, j))(X_convnext)\n",
    "        X_convnext = layers.Dense(projection_dims[1], name=\"{}_down1_dense{}_p2\".format(model_name, j))(X_convnext)\n",
    "\n",
    "        X_convnext = LayerScale(layer_scale_init_value, projection_dims[1], name=\"{}_down1_layerscale{}\".format(model_name, j))(X_convnext)\n",
    "\n",
    "        X = X + X_convnext\n",
    "\n",
    "    # ----- convnext block 2 ----- #\n",
    "\n",
    "    X = layers.LayerNormalization(epsilon=1e-6, name=\"{}_down2_norm\".format(model_name))(X)\n",
    "    X = layers.Conv2D(projection_dims[2], kernel_size=2, strides=2, name=\"{}_down2\".format(model_name))(X)\n",
    "\n",
    "    for j in range(depths[2]):\n",
    "\n",
    "        X_convnext = X\n",
    "        X_convnext = layers.Conv2D(filters=projection_dims[2], kernel_size=7, padding=\"same\",\n",
    "                                   groups=projection_dims[2], name=\"{}_down2_dconv{}\".format(model_name, j))(X_convnext)\n",
    "        X_convnext = layers.LayerNormalization(epsilon=1e-6, name=\"{}_down2_dconv{}_norm\".format(model_name, j))(X_convnext)\n",
    "        X_convnext = layers.Dense(4 * projection_dims[2], name=\"{}_down2_dense{}_p1\".format(model_name, j))(X_convnext)\n",
    "        X_convnext = layers.Activation(\"gelu\", name=\"{}_down2_gelu{}\".format(model_name, j))(X_convnext)\n",
    "        X_convnext = layers.Dense(projection_dims[2], name=\"{}_down2_dense{}_p2\".format(model_name, j))(X_convnext)\n",
    "\n",
    "        X_convnext = LayerScale(layer_scale_init_value, projection_dims[2], name=\"{}_down2_layerscale{}\".format(model_name, j))(X_convnext)\n",
    "\n",
    "        X = X + X_convnext\n",
    "        \n",
    "    return X"
   ]
  },
  {
   "cell_type": "code",
   "execution_count": 59,
   "id": "29465e6e-b165-4c12-984b-0f73db0e1aaa",
   "metadata": {},
   "outputs": [],
   "source": [
    "IN = layers.Input(shape=input_shape)\n",
    "OUT = BBN_share(IN, depths, projection_dims, layer_scale_init_value, model_name='BBN_share')\n",
    "model_share = Model(inputs=IN, outputs=OUT, name='BBN_share_model')"
   ]
  },
  {
   "cell_type": "code",
   "execution_count": 60,
   "id": "22d09cbe-8c1f-43ed-9ccd-a9e5d7f7cbf0",
   "metadata": {},
   "outputs": [],
   "source": [
    "#model_share.summary()"
   ]
  },
  {
   "cell_type": "code",
   "execution_count": 61,
   "id": "960461a2-fe16-48a9-b4f6-e4dd9e1b6a86",
   "metadata": {},
   "outputs": [],
   "source": [
    "## feature learning branch\n",
    "model_name = 'BBN_C'\n",
    "\n",
    "IN_C = layers.Input(shape=input_shape)\n",
    "\n",
    "X_C = model_share(IN_C)\n",
    "\n",
    "X_C = layers.LayerNormalization(epsilon=1e-6, name=\"{}_down3_norm\".format(model_name))(X_C)\n",
    "X_C = layers.Conv2D(projection_dims[3], kernel_size=2, padding='same', name=\"{}_down3\".format(model_name))(X_C)\n",
    "\n",
    "for j in range(depths[3]):\n",
    "    \n",
    "    X_C_convnext = X_C\n",
    "    X_C_convnext = layers.Conv2D(filters=projection_dims[3], kernel_size=7, padding=\"same\",\n",
    "                                 groups=projection_dims[3], name=\"{}_down3_dconv{}\".format(model_name, j))(X_C_convnext)\n",
    "    X_C_convnext = layers.LayerNormalization(epsilon=1e-6, name=\"{}_down3_dconv{}_norm\".format(model_name, j))(X_C_convnext)\n",
    "    X_C_convnext = layers.Dense(4 * projection_dims[3], name=\"{}_down3_dense{}_p1\".format(model_name, j))(X_C_convnext)\n",
    "    X_C_convnext = layers.Activation(\"gelu\", name=\"{}_down3_gelu{}\".format(model_name, j))(X_C_convnext)\n",
    "    X_C_convnext = layers.Dense(projection_dims[3], name=\"{}_down3_dense{}_p2\".format(model_name, j))(X_C_convnext)\n",
    "\n",
    "    X_C_convnext = LayerScale(layer_scale_init_value, projection_dims[3], name=\"{}_down3_layerscale{}\".format(model_name, j))(X_C_convnext)\n",
    "    \n",
    "    X_C = X_C + X_C_convnext\n",
    "\n",
    "OUT_C = X_C\n",
    "\n",
    "OUT_C = layers.GlobalMaxPooling2D(name=\"{}_head_pool\".format(model_name))(OUT_C)\n",
    "OUT_C = layers.LayerNormalization(epsilon=1e-6, name=\"{}_head_norm\".format(model_name))(OUT_C)\n",
    "\n",
    "model_c = Model(inputs=IN_C, outputs=OUT_C, name='BBN_C_model')"
   ]
  },
  {
   "cell_type": "code",
   "execution_count": 62,
   "id": "651549ad-70af-4b90-8421-710b82b7687e",
   "metadata": {},
   "outputs": [],
   "source": [
    "## feature learning branch\n",
    "model_name = 'BBN_R'\n",
    "\n",
    "IN_R = layers.Input(shape=input_shape)\n",
    "\n",
    "X_R = model_share(IN_R)\n",
    "\n",
    "X_R = layers.LayerNormalization(epsilon=1e-6, name=\"{}_down3_norm\".format(model_name))(X_R)\n",
    "X_R = layers.Conv2D(projection_dims[3], kernel_size=2, padding='same', name=\"{}_down3\".format(model_name))(X_R)\n",
    "\n",
    "for j in range(depths[3]):\n",
    "    \n",
    "    X_R_convnext = X_R\n",
    "    X_R_convnext = layers.Conv2D(filters=projection_dims[3], kernel_size=7, padding=\"same\",\n",
    "                                 groups=projection_dims[3], name=\"{}_down3_dconv{}\".format(model_name, j))(X_R_convnext)\n",
    "    X_R_convnext = layers.LayerNormalization(epsilon=1e-6, name=\"{}_down3_dconv{}_norm\".format(model_name, j))(X_R_convnext)\n",
    "    X_R_convnext = layers.Dense(4 * projection_dims[3], name=\"{}_down3_dense{}_p1\".format(model_name, j))(X_R_convnext)\n",
    "    X_R_convnext = layers.Activation(\"gelu\", name=\"{}_down3_gelu{}\".format(model_name, j))(X_R_convnext)\n",
    "    X_R_convnext = layers.Dense(projection_dims[3], name=\"{}_down3_dense{}_p2\".format(model_name, j))(X_R_convnext)\n",
    "    X_R_convnext = LayerScale(layer_scale_init_value, projection_dims[3], name=\"{}_down3_layerscale{}\".format(model_name, j))(X_R_convnext)\n",
    "    X_R = X_R + X_R_convnext\n",
    "\n",
    "OUT_R = X_R\n",
    "\n",
    "OUT_R = layers.GlobalMaxPooling2D(name=\"{}_head_pool\".format(model_name))(OUT_R)\n",
    "OUT_R = layers.LayerNormalization(epsilon=1e-6, name=\"{}_head_norm\".format(model_name))(OUT_R)\n",
    "\n",
    "model_r = Model(inputs=IN_R, outputs=OUT_R, name='BBN_R_model')"
   ]
  },
  {
   "cell_type": "code",
   "execution_count": 63,
   "id": "e7da92ac-853f-4088-b76d-f910c808360a",
   "metadata": {},
   "outputs": [],
   "source": [
    "model_name = 'BBN_cum'\n",
    "\n",
    "F = layers.Input(shape=(projection_dims[-1],))\n",
    "\n",
    "OUT_H = F\n",
    "\n",
    "OUT_H = layers.Dense(128, name=\"{}_dense1\".format(model_name))(OUT_H)\n",
    "OUT_H = layers.LayerNormalization(epsilon=1e-6, name=\"{}_dense1_norm\".format(model_name))(OUT_H)\n",
    "OUT_H = layers.Activation(\"gelu\", name=\"{}_dense1_gelu{}\".format(model_name, j))(OUT_H)\n",
    "\n",
    "OUT_H = layers.Dense(1, activation='sigmoid', name=\"{}_head_out\".format(model_name))(OUT_H)\n",
    "\n",
    "model_head = Model(inputs=F, outputs=OUT_H, name='BBN_cum_model')"
   ]
  },
  {
   "cell_type": "code",
   "execution_count": 64,
   "id": "ac78cf6f-5c40-499e-b1fe-cc140a40a762",
   "metadata": {},
   "outputs": [],
   "source": [
    "# cumulative learning head\n",
    "a = layers.Input(1,)\n",
    "y_true = layers.Input(1,)\n",
    "\n",
    "IN_C = layers.Input(shape=input_shape)\n",
    "F_C = model_c(IN_C)\n",
    "\n",
    "IN_R = layers.Input(shape=input_shape)\n",
    "F_R = model_r(IN_R)\n",
    "\n",
    "F_merge = a*F_C + (1-a)*F_R\n",
    "\n",
    "OUT_H1 = F_merge\n",
    "\n",
    "OUT_H1 = layers.Dense(128, name=\"{}_dense11\".format(model_name))(OUT_H1)\n",
    "OUT_H1 = layers.LayerNormalization(epsilon=1e-6, name=\"{}_dense11_norm\".format(model_name))(OUT_H1)\n",
    "OUT_H1 = layers.Activation(\"gelu\", name=\"{}_dense11_gelu{}\".format(model_name, j))(OUT_H1)\n",
    "\n",
    "prob_c = layers.Dense(1, activation='sigmoid', name=\"{}_head1_out\".format(model_name))(OUT_H1)\n",
    "\n",
    "\n",
    "OUT_H2 = F_merge\n",
    "\n",
    "OUT_H2 = layers.Dense(128, name=\"{}_dense12\".format(model_name))(OUT_H2)\n",
    "OUT_H2 = layers.LayerNormalization(epsilon=1e-6, name=\"{}_dense12_norm\".format(model_name))(OUT_H2)\n",
    "OUT_H2 = layers.Activation(\"gelu\", name=\"{}_dense12_gelu{}\".format(model_name, j))(OUT_H2)\n",
    "\n",
    "prob_r = layers.Dense(1, activation='sigmoid', name=\"{}_head2_out\".format(model_name))(OUT_H2)\n",
    "\n",
    "prob_c = a*prob_c\n",
    "prob_r = (1-a)*prob_r\n",
    "\n",
    "model = Model(inputs=[IN_C, IN_R, y_true, a], outputs=[prob_c, prob_r], name='BBN_final')"
   ]
  },
  {
   "cell_type": "code",
   "execution_count": 65,
   "id": "7584967c-5381-4bb1-b23a-0be39874f18f",
   "metadata": {},
   "outputs": [],
   "source": [
    "def BBN_loss(y_true, prob_c, prob_r, a):\n",
    "    return a*keras.losses.categorical_crossentropy(y_true, prob_c) + (1-a)*keras.losses.categorical_crossentropy(y_true, prob_r)"
   ]
  },
  {
   "cell_type": "code",
   "execution_count": 66,
   "id": "c8e50ddd-fa16-4454-89b9-d33750371ab4",
   "metadata": {},
   "outputs": [],
   "source": [
    "model.add_loss(BBN_loss(y_true, prob_c, prob_r, a))"
   ]
  },
  {
   "cell_type": "code",
   "execution_count": 67,
   "id": "da3a7238-6af4-4e06-959b-a58cc80a295e",
   "metadata": {},
   "outputs": [],
   "source": [
    "model.compile(loss=None, optimizer=keras.optimizers.Adam(lr=1e-5))"
   ]
  },
  {
   "cell_type": "code",
   "execution_count": null,
   "id": "4dd0ecb5-10a0-4429-955a-8ea5e96cbc5e",
   "metadata": {},
   "outputs": [],
   "source": []
  },
  {
   "cell_type": "code",
   "execution_count": 68,
   "id": "67244080-0104-4922-9543-941d6318f26a",
   "metadata": {},
   "outputs": [],
   "source": [
    "batch_dir = '/glade/scratch/ksha/DATA/NCAR_batch/'\n",
    "temp_dir = '/glade/work/ksha/NCAR/Keras_models/'\n",
    "\n",
    "key = 'BBN_Lead2'\n",
    "\n",
    "model_name = '{}_pp15'.format(key)\n",
    "model_path = temp_dir+model_name\n",
    "\n",
    "# model_name_backup = '{}_pp23_backup'.format(key)\n",
    "# model_path_backup = temp_dir+model_name_backup\n",
    "# W_old = k_utils.dummy_loader(temp_dir+'FC_15_Lead2_pp23_tune6')\n",
    "# model.set_weights(W_old)\n"
   ]
  },
  {
   "cell_type": "code",
   "execution_count": 69,
   "id": "52878a72-7904-4dbc-a875-9c44888b579c",
   "metadata": {},
   "outputs": [],
   "source": [
    "#model.save(model_path)"
   ]
  },
  {
   "cell_type": "code",
   "execution_count": 70,
   "id": "af562001-6527-493e-a540-edb0639d24df",
   "metadata": {},
   "outputs": [],
   "source": [
    "tol = 0\n",
    "min_del = 0\n",
    "max_tol = 500 # early stopping with patience\n",
    "\n",
    "epochs = 500\n",
    "L_train = 64\n",
    "batch_size = 100\n",
    "\n",
    "batch_size_half = 50\n",
    "\n",
    "valid_size = 1"
   ]
  },
  {
   "cell_type": "code",
   "execution_count": 71,
   "id": "b6bf49a3-1b86-484a-b8e2-94cadceb6ce8",
   "metadata": {},
   "outputs": [],
   "source": [
    "X_batch_c = np.empty((batch_size, 64, 64, L_vars))\n",
    "Y_batch_c = np.empty((batch_size, 1))\n",
    "X_batch_r = np.empty((batch_size, 64, 64, L_vars))\n",
    "Y_batch_r = np.empty((batch_size, 1))\n",
    "\n",
    "X_batch_c[...] = np.nan\n",
    "Y_batch_c[...] = np.nan\n",
    "X_batch_r[...] = np.nan\n",
    "Y_batch_r[...] = np.nan"
   ]
  },
  {
   "cell_type": "code",
   "execution_count": 72,
   "id": "0cc658f4-1b4c-4286-862a-406bc3a9a44d",
   "metadata": {},
   "outputs": [],
   "source": [
    "Y_pred_list = model.predict([TEST_input, TEST_input, TEST_target, 0.2*np.ones(L_valid,)])\n",
    "Y_pred = Y_pred_list[1]"
   ]
  },
  {
   "cell_type": "code",
   "execution_count": 73,
   "id": "1421171d-b9ec-450f-ac51-a728bc340dc5",
   "metadata": {},
   "outputs": [],
   "source": [
    "# save_dict = {}\n",
    "# save_dict['y_true'] = TEST_target\n",
    "# save_dict['y_pred'] = Y_pred\n",
    "\n",
    "# np.save(\"ALL_pred_lead2.npy\", save_dict)"
   ]
  },
  {
   "cell_type": "code",
   "execution_count": 74,
   "id": "f4fef90f-d890-49de-9685-97135dd6572b",
   "metadata": {},
   "outputs": [
    {
     "name": "stdout",
     "output_type": "stream",
     "text": [
      "0.3301478756332828\n",
      "Initial record: 0.3301478756332828\n"
     ]
    }
   ],
   "source": [
    "# Y_pred[Y_pred<0] = 0\n",
    "# Y_pred[Y_pred>1] = 1\n",
    "record = verif_metric(TEST_target, Y_pred)\n",
    "print(\"Initial record: {}\".format(record))"
   ]
  },
  {
   "cell_type": "code",
   "execution_count": 75,
   "id": "6fd0b65c-10a9-4fdb-9b78-1320f78cf1dc",
   "metadata": {},
   "outputs": [],
   "source": [
    "# 0.034775568168985756\n",
    "# Initial record: 0.034775568168985756"
   ]
  },
  {
   "cell_type": "code",
   "execution_count": 82,
   "id": "441243c7-e0cc-47fe-a521-b4e0878c22d9",
   "metadata": {},
   "outputs": [
    {
     "data": {
      "text/plain": [
       "[<matplotlib.lines.Line2D at 0x2b087a656f70>]"
      ]
     },
     "execution_count": 82,
     "metadata": {},
     "output_type": "execute_result"
    },
    {
     "data": {
      "image/png": "[encoded data removed]",
      "text/plain": [
       "<Figure size 1500x400 with 1 Axes>"
      ]
     },
     "metadata": {},
     "output_type": "display_data"
    }
   ],
   "source": [
    "plt.figure(figsize=(15, 4))\n",
    "#plt.plot(TEST_target, 'b-', lw=3.0)\n",
    "plt.plot(Y_pred[:], 'r-')\n",
    "#plt.plot(Y_pred>0.5)"
   ]
  },
  {
   "cell_type": "code",
   "execution_count": 77,
   "id": "842940ff-c806-4094-96e5-71b903fe9276",
   "metadata": {},
   "outputs": [
    {
     "data": {
      "text/plain": [
       "[PhysicalDevice(name='/physical_device:GPU:0', device_type='GPU')]"
      ]
     },
     "execution_count": 77,
     "metadata": {},
     "output_type": "execute_result"
    }
   ],
   "source": [
    "tf.config.list_physical_devices('GPU')"
   ]
  },
  {
   "cell_type": "code",
   "execution_count": null,
   "id": "ca6e5ad6-0941-4737-88f1-6df2077dba9d",
   "metadata": {},
   "outputs": [
    {
     "name": "stdout",
     "output_type": "stream",
     "text": [
      "0.430021378989812\n",
      "Validation loss 0.430021378989812 NOT improved\n",
      "0.430021378989812\n",
      "Validation loss 0.430021378989812 NOT improved\n",
      "0.430021378989812\n",
      "Validation loss 0.430021378989812 NOT improved\n"
     ]
    }
   ],
   "source": [
    "# ========== Training loop ========== #\n",
    "for i in range(epochs):\n",
    "    \n",
    "    shuffle(filename_train)\n",
    "    shuffle(filename_neg_train)\n",
    "    shuffle(filename_pos_train)\n",
    "    \n",
    "    L_full = len(filename_train)\n",
    "    L_neg = len(filename_neg_train)\n",
    "    L_pos = len(filename_pos_train)\n",
    "    \n",
    "    start_time = time.time()\n",
    "    \n",
    "    a = 0.2*np.ones(batch_size,)\n",
    "    \n",
    "    # loop of batch\n",
    "    for j in range(L_train):\n",
    "        \n",
    "        ind_full = du.shuffle_ind(L_full)\n",
    "        ind_pos = du.shuffle_ind(L_pos)\n",
    "        ind_neg = du.shuffle_ind(L_neg)\n",
    "        \n",
    "        file_pick_pos = []\n",
    "        for ind_temp in ind_pos[:batch_size_half]:\n",
    "            file_pick_pos.append(filename_pos_train[ind_temp])\n",
    "\n",
    "        file_pick_neg = []\n",
    "        for ind_temp in ind_neg[:batch_size_half]:\n",
    "            file_pick_neg.append(filename_neg_train[ind_temp])\n",
    "            \n",
    "        file_pick_full = []\n",
    "        for ind_temp in ind_full[:batch_size]:\n",
    "            file_pick_full.append(filename_train[ind_temp])\n",
    "        \n",
    "        file_pick = file_pick_pos + file_pick_neg\n",
    "        \n",
    "        for k in range(batch_size):\n",
    "            # natural samples\n",
    "            data = np.load(file_pick_full[k])\n",
    "            for l, c in enumerate(ind_pick_from_batch):\n",
    "                X_batch_c[k, ..., l] = data[..., c]\n",
    "            \n",
    "            if 'pos' in file_pick_full[k]:\n",
    "                Y_batch_c[k, :] = 1.0\n",
    "            elif 'neg_neg_neg' in file_pick_full[k]:\n",
    "                Y_batch_c[k, :] = 0.0\n",
    "            else:\n",
    "                werhgaer\n",
    "                \n",
    "            # re-balanced samples\n",
    "            data = np.load(file_pick[k])\n",
    "            for l, c in enumerate(ind_pick_from_batch):\n",
    "                X_batch_r[k, ..., l] = data[..., c]\n",
    "            \n",
    "            if 'pos' in file_pick[k]:\n",
    "                Y_batch_r[k, :] = 1.0\n",
    "            elif 'neg_neg_neg' in file_pick[k]:\n",
    "                Y_batch_r[k, :] = 0.0\n",
    "            else:\n",
    "                werhgaer\n",
    "                \n",
    "        ind_ = du.shuffle_ind(batch_size)\n",
    "        X_batch_c = X_batch_c[ind_, ...]\n",
    "        Y_batch_c = Y_batch_c[ind_, :]\n",
    "        \n",
    "        X_batch_r = X_batch_r[ind_, ...]\n",
    "        Y_batch_r = Y_batch_r[ind_, :]\n",
    "        \n",
    "        if np.sum(np.isnan(X_batch_c))+np.sum(np.isnan(X_batch_r)) > 0:\n",
    "            asfeargagqarew\n",
    "        \n",
    "        # train on batch\n",
    "        model.train_on_batch([X_batch_c, X_batch_r, Y_batch_r, a], [Y_batch_r, Y_batch_r]);\n",
    "    \n",
    "    # epoch end operations\n",
    "    Y_pred_list = model.predict([TEST_input, TEST_input, TEST_target, 0.0*np.ones(L_valid,)])\n",
    "    Y_pred = Y_pred_list[1]\n",
    "    # Y_pred[Y_pred<0] = 0\n",
    "    # Y_pred[Y_pred>1] = 1\n",
    "    record_temp = verif_metric(TEST_target, Y_pred)\n",
    "    \n",
    "    if (record - record_temp > min_del) and (np.max(Y_pred) > 0.6):\n",
    "        print('Validation loss improved from {} to {}'.format(record, record_temp))\n",
    "        record = record_temp\n",
    "        tol = 0\n",
    "        print('save to: {}'.format(model_path))\n",
    "        model.save(model_path)\n",
    "    else:\n",
    "        print('Validation loss {} NOT improved'.format(record_temp))\n",
    "        tol += 1\n",
    "        if tol >= max_tol:\n",
    "            print('Early stopping')\n",
    "            sys.exit();\n",
    "        else:\n",
    "            continue;\n",
    "    print(\"--- %s seconds ---\" % (time.time() - start_time))"
   ]
  },
  {
   "cell_type": "code",
   "execution_count": null,
   "id": "79545757-3242-449d-bd8f-46612af69f7f",
   "metadata": {},
   "outputs": [],
   "source": []
  },
  {
   "cell_type": "code",
   "execution_count": null,
   "id": "25f1c6f0-1c2b-421f-8c3c-d6f54f920135",
   "metadata": {},
   "outputs": [],
   "source": []
  },
  {
   "cell_type": "code",
   "execution_count": 38,
   "id": "baaee327-4cd1-4656-b778-8dadbf4a7c2a",
   "metadata": {},
   "outputs": [
    {
     "data": {
      "text/plain": [
       "123844"
      ]
     },
     "execution_count": 38,
     "metadata": {},
     "output_type": "execute_result"
    }
   ],
   "source": [
    "j"
   ]
  },
  {
   "cell_type": "code",
   "execution_count": null,
   "id": "5e36941d-bcdc-4d6f-a44a-4a30e273ebb7",
   "metadata": {},
   "outputs": [],
   "source": [
    "https://mesonet.agron.iastate.edu/pickup/wwa/"
   ]
  },
  {
   "cell_type": "code",
   "execution_count": null,
   "id": "06d3a65c-c303-47c3-a629-94351ebd3ade",
   "metadata": {},
   "outputs": [],
   "source": []
  },
  {
   "cell_type": "code",
   "execution_count": 29,
   "id": "e4d9a07b-cea7-45dd-81e5-f08f8a50e689",
   "metadata": {},
   "outputs": [
    {
     "data": {
      "text/plain": [
       "1"
      ]
     },
     "execution_count": 29,
     "metadata": {},
     "output_type": "execute_result"
    }
   ],
   "source": [
    "10 % 3"
   ]
  },
  {
   "cell_type": "code",
   "execution_count": null,
   "id": "e83e1ee3-6c58-4da1-8f55-d942b9be9159",
   "metadata": {},
   "outputs": [],
   "source": []
  },
  {
   "cell_type": "code",
   "execution_count": null,
   "id": "c7191747-33d0-453b-8f49-60abd69cb37b",
   "metadata": {},
   "outputs": [],
   "source": []
  },
  {
   "cell_type": "code",
   "execution_count": null,
   "id": "9e03b9ee-0806-40b4-86a5-2375b696fc82",
   "metadata": {},
   "outputs": [],
   "source": []
  }
 ],
 "metadata": {
  "kernelspec": {
   "display_name": "Python 3 (ipykernel)",
   "language": "python",
   "name": "python3"
  },
  "language_info": {
   "codemirror_mode": {
    "name": "ipython",
    "version": 3
   },
   "file_extension": ".py",
   "mimetype": "text/x-python",
   "name": "python",
   "nbconvert_exporter": "python",
   "pygments_lexer": "ipython3",
   "version": "3.9.13"
  }
 },
 "nbformat": 4,
 "nbformat_minor": 5
}
