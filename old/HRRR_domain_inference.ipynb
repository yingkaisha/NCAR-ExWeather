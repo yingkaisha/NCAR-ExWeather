{
 "cells": [
  {
   "cell_type": "code",
   "execution_count": 1,
   "id": "506627ea-33c6-4ffc-9727-3c51d85064a8",
   "metadata": {},
   "outputs": [],
   "source": [
    "# general tools\n",
    "import sys\n",
    "import time\n",
    "from glob import glob\n",
    "\n",
    "# data tools\n",
    "import zarr\n",
    "import h5py\n",
    "import random\n",
    "from datetime import datetime, timedelta\n",
    "import numpy as np\n",
    "from random import shuffle\n",
    "from scipy.spatial import cKDTree\n",
    "\n",
    "import matplotlib.pyplot as plt\n",
    "%matplotlib inline"
   ]
  },
  {
   "cell_type": "code",
   "execution_count": 2,
   "id": "fa75779e-5253-4675-a09f-41e3a23acab6",
   "metadata": {},
   "outputs": [],
   "source": [
    "import dask.array as da"
   ]
  },
  {
   "cell_type": "code",
   "execution_count": 3,
   "id": "33042087-d5cd-4625-a5f6-480eff3dd0b2",
   "metadata": {},
   "outputs": [
    {
     "name": "stderr",
     "output_type": "stream",
     "text": [
      "2022-09-22 11:54:37.431193: I tensorflow/stream_executor/platform/default/dso_loader.cc:49] Successfully opened dynamic library libcudart.so.10.1\n"
     ]
    }
   ],
   "source": [
    "# deep learning tools\n",
    "import tensorflow as tf\n",
    "from tensorflow import keras\n",
    "from tensorflow.keras import layers\n",
    "tf.config.run_functions_eagerly(True)\n",
    "\n",
    "# from keras_unet_collection import models as k_models\n",
    "from keras_unet_collection import utils as k_utils\n",
    "# from keras_unet_collection import layer_utils as k_layers\n",
    "# from keras_unet_collection.activations import GELU"
   ]
  },
  {
   "cell_type": "code",
   "execution_count": 4,
   "id": "d2e1d935-3cb8-45ba-884c-7ce24da82727",
   "metadata": {},
   "outputs": [],
   "source": [
    "sys.path.insert(0, '/glade/u/home/ksha/NCAR/')\n",
    "sys.path.insert(0, '/glade/u/home/ksha/NCAR/libs/')\n",
    "\n",
    "from namelist import *\n",
    "import data_utils as du\n",
    "import graph_utils as gu\n",
    "import convnext_keras as ck"
   ]
  },
  {
   "cell_type": "code",
   "execution_count": 5,
   "id": "1b8ba2b9-6ae2-4d41-b1d2-d61017f15f55",
   "metadata": {},
   "outputs": [],
   "source": [
    "from keras_unet_collection import utils as k_utils"
   ]
  },
  {
   "cell_type": "code",
   "execution_count": 6,
   "id": "907b9794-0a35-44ec-823c-bd3d0eb71065",
   "metadata": {},
   "outputs": [],
   "source": [
    "lead = 2"
   ]
  },
  {
   "cell_type": "markdown",
   "id": "cce65281-9440-475a-87b6-3c224e983ffb",
   "metadata": {},
   "source": [
    "### Import data"
   ]
  },
  {
   "cell_type": "code",
   "execution_count": 7,
   "id": "e6494072-4132-4394-8a09-bc4f512d6342",
   "metadata": {},
   "outputs": [],
   "source": [
    "names = [\n",
    "    'Maximum/Composite radar reflectivity:dB (instant):lambert:atmosphere:level 0',\n",
    "    'MSLP (MAPS System Reduction):Pa (instant):lambert:meanSea:level 0',\n",
    "    'AGL reflectivity (max):lambert:heightAboveGround:level 1000 m',\n",
    "    'Updraft helicity (max):lambert:heightAboveGroundLayer:levels 5000-2000 m',\n",
    "    'Updraft helicity (max):lambert:heightAboveGroundLayer:levels 2000-0 m',\n",
    "    'Updraft helicity (max):lambert:heightAboveGroundLayer:levels 3000-0 m',\n",
    "    'Vorticity (relative):s**-1 (max):lambert:heightAboveGroundLayer:levels 2000-0 m',\n",
    "    'Vorticity (relative):s**-1 (max):lambert:heightAboveGroundLayer:levels 1000-0 m',\n",
    "    'Column integrated graupel mass (max):lambert:atmosphereSingleLayer:level 0 considered as a single layer',\n",
    "    '2 metre temperature:K (instant):lambert:heightAboveGround:level 2 m',\n",
    "    '2 metre dewpoint temperature:K (instant):lambert:heightAboveGround:level 2 m',\n",
    "    '10 metre U wind component:m s**-1 (instant):lambert:heightAboveGround:level 10 m',\n",
    "    '10 metre V wind component:m s**-1 (instant):lambert:heightAboveGround:level 10 m',\n",
    "    '10 metre wind speed:m s**-1 (max):lambert:heightAboveGround:level 10 m',\n",
    "    'Total Precipitation:kg m**-2 (accum):lambert:surface:level 0',\n",
    "    'Convective available potential energy:J kg**-1 (instant):lambert:surface:level 0',\n",
    "    'Convective inhibition:J kg**-1 (instant):lambert:surface:level 0',\n",
    "    'Storm relative helicity:J kg**-1 (instant):lambert:heightAboveGroundLayer:levels 3000-0 m',\n",
    "    'Storm relative helicity:J kg**-1 (instant):lambert:heightAboveGroundLayer:levels 1000-0 m',\n",
    "    'Vertical u-component shear:s**-1 (instant):lambert:heightAboveGroundLayer:levels 0-1000 m',\n",
    "    'Vertical v-component shear:s**-1 (instant):lambert:heightAboveGroundLayer:levels 0-1000 m',\n",
    "    'Vertical u-component shear:s**-1 (instant):lambert:heightAboveGroundLayer:levels 0-6000 m',\n",
    "    'Vertical v-component shear:s**-1 (instant):lambert:heightAboveGroundLayer:levels 0-6000 m'\n",
    "]"
   ]
  },
  {
   "cell_type": "code",
   "execution_count": 8,
   "id": "7b9e56d4-d360-4e45-8468-617a33bd7900",
   "metadata": {},
   "outputs": [],
   "source": [
    "means = [\n",
    "    -6.335041783675384,\n",
    "    101598.30648208999,\n",
    "    2.4340308170812857,\n",
    "    0.0238316214287872,\n",
    "    0.0115228964831135,\n",
    "    0.015723252607236175,\n",
    "    0.00010298927478466365,\n",
    "    0.00013315081911787703,\n",
    "    0.02022990418418194,\n",
    "    285.1588453352469,\n",
    "    280.69456763975046,\n",
    "    0.18025322895802864,\n",
    "    -0.35625256772098957,\n",
    "    4.466962100212334,\n",
    "    0.10710428466431396,\n",
    "    311.51020050786116,\n",
    "    -22.95554152474839,\n",
    "    95.80303950026172,\n",
    "    41.22773039479408,\n",
    "    2.696538199313979,\n",
    "    0.257023643073863,\n",
    "    11.80181492281666,\n",
    "    0.15778718430103703,\n",
    "];\n",
    "\n",
    "stds = [\n",
    "    8.872575669978966,\n",
    "    672.3339463894478,\n",
    "    7.555104640235371,\n",
    "    0.5696550725786566,\n",
    "    0.2283199203388272,\n",
    "    0.37333362094670486,\n",
    "    0.00022281640603195643,\n",
    "    0.0002413561909874066,\n",
    "    0.3589573748563584,\n",
    "    11.553795616392204,\n",
    "    12.101590155483459,\n",
    "    3.1758721705443826,\n",
    "    3.6588052023281175,\n",
    "    2.6995797278745948,\n",
    "    0.9896017905552607,\n",
    "    748.8376068157106,\n",
    "    78.895180023938,\n",
    "    104.17948262883918*2,\n",
    "    77.25788246299936*2,\n",
    "    5.35086729614372,\n",
    "    5.438075471238217,\n",
    "    11.440203318938076,\n",
    "    11.327741531273508\n",
    "];\n",
    "\n",
    "\n",
    "\n",
    "log_norm = [True, False, True, True, True, True, True, True, True, False, False, \n",
    "            False, False, True, True, True, True, False, False, False, False, False, False]"
   ]
  },
  {
   "cell_type": "code",
   "execution_count": 9,
   "id": "ee4606d5-ddb8-41ab-8d65-ff420a7b8d7e",
   "metadata": {},
   "outputs": [],
   "source": [
    "with h5py.File(save_dir+'HRRR_domain.hdf', 'r') as h5io:\n",
    "    lon_3km = h5io['lon_3km'][...]\n",
    "    lat_3km = h5io['lat_3km'][...]\n",
    "    lon_72km = h5io['lon_72km'][...]\n",
    "    lat_72km = h5io['lat_72km'][...]"
   ]
  },
  {
   "cell_type": "code",
   "execution_count": 10,
   "id": "139485f4-f364-47d6-98bd-706423aa74fb",
   "metadata": {},
   "outputs": [],
   "source": [
    "base_v3_s = datetime(2018, 7, 15)\n",
    "base_v3_e = datetime(2020, 12, 2)\n",
    "\n",
    "base_v4_s = datetime(2020, 12, 3)\n",
    "base_v4_e = datetime(2022, 7, 15)\n",
    "\n",
    "base_ref = datetime(2010, 1, 1)\n",
    "\n",
    "date_list_v3 = [base_v3_s + timedelta(days=day) for day in range(365+365+142)]\n",
    "date_list_v4 = [base_v4_s + timedelta(days=day) for day in range(365+180)]"
   ]
  },
  {
   "cell_type": "code",
   "execution_count": 11,
   "id": "259a11de-5633-457e-be16-e4ec5a7dea36",
   "metadata": {},
   "outputs": [],
   "source": [
    "day_start = 675\n",
    "day_end = 872\n",
    "N_days = day_end - day_start"
   ]
  },
  {
   "cell_type": "code",
   "execution_count": 12,
   "id": "2a572077-8c89-4a5e-b329-d1d8e51d4fd0",
   "metadata": {},
   "outputs": [],
   "source": [
    "HRRRv3_lead = da.from_zarr(save_dir_scratch+'HRRR_{:02}_v3.zarr'.format(lead))\n",
    "\n",
    "#HRRRv3_lead = np.zeros((872, 1059, 1799, 23))"
   ]
  },
  {
   "cell_type": "markdown",
   "id": "ffc5538a-9b63-48b8-a8a2-7d7c9bf71c37",
   "metadata": {},
   "source": [
    "### Import pre-trained model"
   ]
  },
  {
   "cell_type": "code",
   "execution_count": null,
   "id": "7afc0c58-c803-473a-9dad-bdaf9de7fd60",
   "metadata": {},
   "outputs": [],
   "source": []
  },
  {
   "cell_type": "code",
   "execution_count": 13,
   "id": "dc5578c2-2386-44c2-a0c8-f78a48761a52",
   "metadata": {},
   "outputs": [],
   "source": [
    "import numpy as np\n",
    "import tensorflow as tf\n",
    "from tensorflow.keras import backend\n",
    "from tensorflow.keras import layers\n",
    "from tensorflow.keras import utils\n",
    "from tensorflow.keras import Model\n",
    "\n",
    "  \n",
    "class LayerScale(layers.Layer):\n",
    "    \"\"\"Layer scale module.\n",
    "    References:\n",
    "      - https://arxiv.org/abs/2103.17239\n",
    "    Args:\n",
    "      init_values (float): Initial value for layer scale. Should be within\n",
    "        [0, 1].\n",
    "      projection_dim (int): Projection dimensionality.\n",
    "    Returns:\n",
    "      Tensor multiplied to the scale.\n",
    "    \"\"\"\n",
    "\n",
    "    def __init__(self, init_values, projection_dim, **kwargs):\n",
    "        super().__init__(**kwargs)\n",
    "        self.init_values = init_values\n",
    "        self.projection_dim = projection_dim\n",
    "\n",
    "    def build(self, input_shape):\n",
    "        self.gamma = tf.Variable(\n",
    "            self.init_values * tf.ones((self.projection_dim,))\n",
    "        )\n",
    "\n",
    "    def call(self, x):\n",
    "        return x * self.gamma\n",
    "\n",
    "    def get_config(self):\n",
    "        config = super().get_config()\n",
    "        config.update(\n",
    "            {\n",
    "                \"init_values\": self.init_values,\n",
    "                \"projection_dim\": self.projection_dim,\n",
    "            }\n",
    "        )\n",
    "        return config\n",
    "    \n",
    "\n",
    "\n",
    "def Head(num_classes=1000, name=None):\n",
    "    \"\"\"Implementation of classification head of RegNet.\n",
    "    Args:\n",
    "      num_classes: number of classes for Dense layer\n",
    "      name: name prefix\n",
    "    Returns:\n",
    "      Classification head function.\n",
    "    \"\"\"\n",
    "    if name is None:\n",
    "        name = str(backend.get_uid(\"head\"))\n",
    "\n",
    "    def apply(x):\n",
    "        x = layers.GlobalAveragePooling2D(name=name + \"_head_gap\")(x)\n",
    "        x = layers.LayerNormalization(\n",
    "            epsilon=1e-6, name=name + \"_head_layernorm\"\n",
    "        )(x)\n",
    "        x = layers.Dense(num_classes, name=name + \"_head_dense\")(x)\n",
    "        return x\n",
    "\n",
    "    return apply\n"
   ]
  },
  {
   "cell_type": "code",
   "execution_count": 14,
   "id": "b422f592-b639-45a9-8997-4e45dcf6e202",
   "metadata": {},
   "outputs": [
    {
     "name": "stderr",
     "output_type": "stream",
     "text": [
      "2022-09-22 11:56:10.665906: I tensorflow/compiler/jit/xla_cpu_device.cc:41] Not creating XLA devices, tf_xla_enable_xla_devices not set\n",
      "2022-09-22 11:56:10.667368: I tensorflow/stream_executor/platform/default/dso_loader.cc:49] Successfully opened dynamic library libcuda.so.1\n",
      "2022-09-22 11:56:10.710360: I tensorflow/core/common_runtime/gpu/gpu_device.cc:1720] Found device 0 with properties: \n",
      "pciBusID: 0000:62:00.0 name: Tesla V100-SXM2-32GB computeCapability: 7.0\n",
      "coreClock: 1.53GHz coreCount: 80 deviceMemorySize: 31.75GiB deviceMemoryBandwidth: 836.37GiB/s\n",
      "2022-09-22 11:56:10.710422: I tensorflow/stream_executor/platform/default/dso_loader.cc:49] Successfully opened dynamic library libcudart.so.10.1\n",
      "2022-09-22 11:56:10.966916: I tensorflow/stream_executor/platform/default/dso_loader.cc:49] Successfully opened dynamic library libcublas.so.10\n",
      "2022-09-22 11:56:10.967027: I tensorflow/stream_executor/platform/default/dso_loader.cc:49] Successfully opened dynamic library libcublasLt.so.10\n",
      "2022-09-22 11:56:11.039355: I tensorflow/stream_executor/platform/default/dso_loader.cc:49] Successfully opened dynamic library libcufft.so.10\n",
      "2022-09-22 11:56:11.147998: I tensorflow/stream_executor/platform/default/dso_loader.cc:49] Successfully opened dynamic library libcurand.so.10\n",
      "2022-09-22 11:56:11.276032: I tensorflow/stream_executor/platform/default/dso_loader.cc:49] Successfully opened dynamic library libcusolver.so.10\n",
      "2022-09-22 11:56:11.368762: I tensorflow/stream_executor/platform/default/dso_loader.cc:49] Successfully opened dynamic library libcusparse.so.10\n",
      "2022-09-22 11:56:11.575375: I tensorflow/stream_executor/platform/default/dso_loader.cc:49] Successfully opened dynamic library libcudnn.so.7\n",
      "2022-09-22 11:56:11.576254: I tensorflow/core/common_runtime/gpu/gpu_device.cc:1862] Adding visible gpu devices: 0\n",
      "2022-09-22 11:56:11.576651: I tensorflow/core/platform/cpu_feature_guard.cc:142] This TensorFlow binary is optimized with oneAPI Deep Neural Network Library (oneDNN) to use the following CPU instructions in performance-critical operations:  SSE4.1 SSE4.2 AVX AVX2 AVX512F FMA\n",
      "To enable them in other operations, rebuild TensorFlow with the appropriate compiler flags.\n",
      "2022-09-22 11:56:11.576908: I tensorflow/compiler/jit/xla_gpu_device.cc:99] Not creating XLA devices, tf_xla_enable_xla_devices not set\n",
      "2022-09-22 11:56:11.577359: I tensorflow/core/common_runtime/gpu/gpu_device.cc:1720] Found device 0 with properties: \n",
      "pciBusID: 0000:62:00.0 name: Tesla V100-SXM2-32GB computeCapability: 7.0\n",
      "coreClock: 1.53GHz coreCount: 80 deviceMemorySize: 31.75GiB deviceMemoryBandwidth: 836.37GiB/s\n",
      "2022-09-22 11:56:11.577405: I tensorflow/stream_executor/platform/default/dso_loader.cc:49] Successfully opened dynamic library libcudart.so.10.1\n",
      "2022-09-22 11:56:11.577431: I tensorflow/stream_executor/platform/default/dso_loader.cc:49] Successfully opened dynamic library libcublas.so.10\n",
      "2022-09-22 11:56:11.577445: I tensorflow/stream_executor/platform/default/dso_loader.cc:49] Successfully opened dynamic library libcublasLt.so.10\n",
      "2022-09-22 11:56:11.577458: I tensorflow/stream_executor/platform/default/dso_loader.cc:49] Successfully opened dynamic library libcufft.so.10\n",
      "2022-09-22 11:56:11.577471: I tensorflow/stream_executor/platform/default/dso_loader.cc:49] Successfully opened dynamic library libcurand.so.10\n",
      "2022-09-22 11:56:11.577484: I tensorflow/stream_executor/platform/default/dso_loader.cc:49] Successfully opened dynamic library libcusolver.so.10\n",
      "2022-09-22 11:56:11.577497: I tensorflow/stream_executor/platform/default/dso_loader.cc:49] Successfully opened dynamic library libcusparse.so.10\n",
      "2022-09-22 11:56:11.577510: I tensorflow/stream_executor/platform/default/dso_loader.cc:49] Successfully opened dynamic library libcudnn.so.7\n",
      "2022-09-22 11:56:11.578110: I tensorflow/core/common_runtime/gpu/gpu_device.cc:1862] Adding visible gpu devices: 0\n",
      "2022-09-22 11:56:11.578168: I tensorflow/stream_executor/platform/default/dso_loader.cc:49] Successfully opened dynamic library libcudart.so.10.1\n",
      "2022-09-22 11:56:14.515954: I tensorflow/core/common_runtime/gpu/gpu_device.cc:1261] Device interconnect StreamExecutor with strength 1 edge matrix:\n",
      "2022-09-22 11:56:14.515992: I tensorflow/core/common_runtime/gpu/gpu_device.cc:1267]      0 \n",
      "2022-09-22 11:56:14.516009: I tensorflow/core/common_runtime/gpu/gpu_device.cc:1280] 0:   N \n",
      "2022-09-22 11:56:14.517208: I tensorflow/core/common_runtime/gpu/gpu_device.cc:1406] Created TensorFlow device (/job:localhost/replica:0/task:0/device:GPU:0 with 30132 MB memory) -> physical GPU (device: 0, name: Tesla V100-SXM2-32GB, pci bus id: 0000:62:00.0, compute capability: 7.0)\n"
     ]
    }
   ],
   "source": [
    "depths=[3, 3, 27, 3]\n",
    "projection_dims=[96, 192, 384, 768]\n",
    "drop_path_rate=0.0\n",
    "layer_scale_init_value=1e-6\n",
    "model_name='test'\n",
    "input_shape=(64, 64, 23)\n",
    "classes=1\n",
    "\n",
    "IN = layers.Input(shape=input_shape)\n",
    "X = IN\n",
    "\n",
    "num_convnext_blocks = 4\n",
    "\n",
    "# ----- convnext block 0 ----- #\n",
    "\n",
    "X = layers.Conv2D(projection_dims[0], kernel_size=4, strides=4, name=\"{}_down0\".format(model_name))(X)\n",
    "X = layers.LayerNormalization(epsilon=1e-6, name=\"{}_down0_norm\".format(model_name))(X)\n",
    "\n",
    "for j in range(depths[0]):\n",
    "    \n",
    "    X_convnext = X\n",
    "    X_convnext = layers.Conv2D(filters=projection_dims[0], kernel_size=7, padding=\"same\",\n",
    "                               groups=projection_dims[0], name=\"{}_down0_dconv{}\".format(model_name, j))(X_convnext)\n",
    "    X_convnext = layers.LayerNormalization(epsilon=1e-6, name=\"{}_down0_dconv{}_norm\".format(model_name, j))(X_convnext)\n",
    "    X_convnext = layers.Dense(4 * projection_dims[0], name=\"{}_down0_dense{}_p1\".format(model_name, j))(X_convnext)\n",
    "    X_convnext = layers.Activation(\"gelu\", name=\"{}_down0_gelu{}\".format(model_name, j))(X_convnext)\n",
    "    X_convnext = layers.Dense(projection_dims[0], name=\"{}_down0_dense{}_p2\".format(model_name, j))(X_convnext)\n",
    "\n",
    "    X_convnext = LayerScale(layer_scale_init_value, projection_dims[0], name=\"{}_down0_layerscale{}\".format(model_name, j))(X_convnext)\n",
    "\n",
    "    X = X + X_convnext\n",
    "\n",
    "\n",
    "# ----- convnext block 1 ----- #\n",
    "\n",
    "X = layers.LayerNormalization(epsilon=1e-6, name=\"{}_down1_norm\".format(model_name))(X)\n",
    "X = layers.Conv2D(projection_dims[1], kernel_size=2, strides=2, name=\"{}_down1\".format(model_name))(X)\n",
    "\n",
    "for j in range(depths[1]):\n",
    "    \n",
    "    X_convnext = X\n",
    "    X_convnext = layers.Conv2D(filters=projection_dims[1], kernel_size=7, padding=\"same\",\n",
    "                               groups=projection_dims[1], name=\"{}_down1_dconv{}\".format(model_name, j))(X_convnext)\n",
    "    X_convnext = layers.LayerNormalization(epsilon=1e-6, name=\"{}_down1_dconv{}_norm\".format(model_name, j))(X_convnext)\n",
    "    X_convnext = layers.Dense(4 * projection_dims[1], name=\"{}_down1_dense{}_p1\".format(model_name, j))(X_convnext)\n",
    "    X_convnext = layers.Activation(\"gelu\", name=\"{}_down1_gelu{}\".format(model_name, j))(X_convnext)\n",
    "    X_convnext = layers.Dense(projection_dims[1], name=\"{}_down1_dense{}_p2\".format(model_name, j))(X_convnext)\n",
    "\n",
    "    X_convnext = LayerScale(layer_scale_init_value, projection_dims[1], name=\"{}_down1_layerscale{}\".format(model_name, j))(X_convnext)\n",
    "\n",
    "    X = X + X_convnext\n",
    "\n",
    "# ----- convnext block 2 ----- #\n",
    "\n",
    "X = layers.LayerNormalization(epsilon=1e-6, name=\"{}_down2_norm\".format(model_name))(X)\n",
    "X = layers.Conv2D(projection_dims[2], kernel_size=2, strides=2, name=\"{}_down2\".format(model_name))(X)\n",
    "\n",
    "for j in range(depths[2]):\n",
    "    \n",
    "    X_convnext = X\n",
    "    X_convnext = layers.Conv2D(filters=projection_dims[2], kernel_size=7, padding=\"same\",\n",
    "                               groups=projection_dims[2], name=\"{}_down2_dconv{}\".format(model_name, j))(X_convnext)\n",
    "    X_convnext = layers.LayerNormalization(epsilon=1e-6, name=\"{}_down2_dconv{}_norm\".format(model_name, j))(X_convnext)\n",
    "    X_convnext = layers.Dense(4 * projection_dims[2], name=\"{}_down2_dense{}_p1\".format(model_name, j))(X_convnext)\n",
    "    X_convnext = layers.Activation(\"gelu\", name=\"{}_down2_gelu{}\".format(model_name, j))(X_convnext)\n",
    "    X_convnext = layers.Dense(projection_dims[2], name=\"{}_down2_dense{}_p2\".format(model_name, j))(X_convnext)\n",
    "\n",
    "    X_convnext = LayerScale(layer_scale_init_value, projection_dims[2], name=\"{}_down2_layerscale{}\".format(model_name, j))(X_convnext)\n",
    "\n",
    "    X = X + X_convnext\n",
    "\n",
    "# ----- convnext block 3 ----- #\n",
    "\n",
    "X = layers.LayerNormalization(epsilon=1e-6, name=\"{}_down3_norm\".format(model_name))(X)\n",
    "X = layers.Conv2D(projection_dims[3], kernel_size=2, padding='same', name=\"{}_down3\".format(model_name))(X)\n",
    "\n",
    "for j in range(depths[3]):\n",
    "    \n",
    "    X_convnext = X\n",
    "    X_convnext = layers.Conv2D(filters=projection_dims[3], kernel_size=7, padding=\"same\",\n",
    "                               groups=projection_dims[3], name=\"{}_down3_dconv{}\".format(model_name, j))(X_convnext)\n",
    "    X_convnext = layers.LayerNormalization(epsilon=1e-6, name=\"{}_down3_dconv{}_norm\".format(model_name, j))(X_convnext)\n",
    "    X_convnext = layers.Dense(4 * projection_dims[3], name=\"{}_down3_dense{}_p1\".format(model_name, j))(X_convnext)\n",
    "    X_convnext = layers.Activation(\"gelu\", name=\"{}_down3_gelu{}\".format(model_name, j))(X_convnext)\n",
    "    X_convnext = layers.Dense(projection_dims[3], name=\"{}_down3_dense{}_p2\".format(model_name, j))(X_convnext)\n",
    "\n",
    "    X_convnext = LayerScale(layer_scale_init_value, projection_dims[3], name=\"{}_down3_layerscale{}\".format(model_name, j))(X_convnext)\n",
    "\n",
    "    X = X + X_convnext\n",
    "\n",
    "OUT = X\n",
    "\n",
    "OUT = layers.GlobalMaxPooling2D(name=\"{}_head_pool\".format(model_name))(OUT)\n",
    "OUT = layers.LayerNormalization(epsilon=1e-6, name=\"{}_head_norm\".format(model_name))(OUT)\n",
    "OUT = layers.Dense(1, name=\"{}_head_out\".format(model_name))(OUT)\n",
    "\n",
    "model = Model(inputs=IN, outputs=OUT, name=model_name)"
   ]
  },
  {
   "cell_type": "code",
   "execution_count": null,
   "id": "e2df212a-8e8d-40f6-94e4-ac8c7485d884",
   "metadata": {},
   "outputs": [],
   "source": []
  },
  {
   "cell_type": "code",
   "execution_count": 16,
   "id": "a27ae6aa-c420-4b63-a6ef-37bd8843ec70",
   "metadata": {},
   "outputs": [],
   "source": [
    "batch_dir = '/glade/scratch/ksha/DATA/NCAR_batch/'\n",
    "temp_dir = '/glade/work/ksha/NCAR/Keras_models/'\n",
    "\n",
    "\n",
    "W_old = k_utils.dummy_loader(temp_dir+'FINAL_HALF_pp23_tune6')\n",
    "model.set_weights(W_old)\n",
    "\n",
    "model.compile(loss=keras.losses.mean_absolute_error, optimizer=keras.optimizers.SGD(lr=0))"
   ]
  },
  {
   "cell_type": "code",
   "execution_count": null,
   "id": "51d813f1-26ce-4280-9f34-2fc6ad76deed",
   "metadata": {},
   "outputs": [],
   "source": []
  },
  {
   "cell_type": "code",
   "execution_count": null,
   "id": "e83d7dd7-86ac-40ab-baf2-1aa10d0b395e",
   "metadata": {},
   "outputs": [],
   "source": []
  },
  {
   "cell_type": "code",
   "execution_count": null,
   "id": "dc3ba878-49bf-47ac-89cf-d6fdc46c1c2f",
   "metadata": {},
   "outputs": [],
   "source": []
  },
  {
   "cell_type": "code",
   "execution_count": null,
   "id": "48dec80e-09b1-4190-8184-953834b1f230",
   "metadata": {},
   "outputs": [],
   "source": []
  },
  {
   "cell_type": "code",
   "execution_count": null,
   "id": "48d2b06f-f36d-432c-a6fa-2d755f52b490",
   "metadata": {},
   "outputs": [],
   "source": []
  },
  {
   "cell_type": "code",
   "execution_count": null,
   "id": "36efe675-e6f8-49d8-af25-63e20074ed48",
   "metadata": {},
   "outputs": [],
   "source": []
  },
  {
   "cell_type": "code",
   "execution_count": 22,
   "id": "7a102afd-3136-400c-8b50-44d0bfa866e2",
   "metadata": {},
   "outputs": [],
   "source": [
    "# ind_pick = [0, 1, 3, 4, 5, 9, 10, 11, 12, 13, 14, 15, 16, 17, 18, 19, 20, 21, 22]\n",
    "# feature_pick = [0, 13, 1, 5, 17, 18, 12, 11]\n",
    "\n",
    "# ind_pick_final = []\n",
    "\n",
    "# for i in feature_pick:\n",
    "#     ind_pick_final.append(ind_pick[i])\n",
    "    \n",
    "ind_pick = [0, 1, 2, 3, 4, 5, 6, 7, 8, 9, 10, 11, 12, 13, 14, 15, 16, 17, 18, 19, 20, 21, 22]\n",
    "\n",
    "N_vars = len(ind_pick)\n",
    "\n",
    "grid_shape = HRRRv3_lead.shape\n",
    "single_day = np.empty((1,)+grid_shape[1:3]+(N_vars,))\n",
    "single_day[...] = np.nan\n",
    "\n",
    "shape_72km = lon_72km.shape\n",
    "\n",
    "input_size = 64\n",
    "half_margin = 32\n",
    "final_out = np.empty((N_days,)+shape_72km)\n",
    "final_out[...] = np.nan\n",
    "\n",
    "grid_shape_hrrr = lon_3km.shape"
   ]
  },
  {
   "cell_type": "code",
   "execution_count": 23,
   "id": "11d5a858-e0a2-4044-895e-ce9be75791b2",
   "metadata": {},
   "outputs": [],
   "source": [
    "L_vars = len(ind_pick)\n",
    "out_slice = np.empty((1, input_size, input_size, L_vars))"
   ]
  },
  {
   "cell_type": "code",
   "execution_count": 21,
   "id": "8d91caf8-4d59-486e-98ca-4ab310ffff55",
   "metadata": {},
   "outputs": [],
   "source": [
    "indx_array = np.empty(shape_72km)\n",
    "indy_array = np.empty(shape_72km)\n",
    "\n",
    "gridTree = cKDTree(list(zip(lon_3km.ravel(), lat_3km.ravel()))) #KDTree_wraper(xgrid, ygrid)\n",
    "\n",
    "for xi in range(shape_72km[0]):\n",
    "    for yi in range(shape_72km[1]):\n",
    "        \n",
    "        temp_lon = lon_72km[xi, yi]\n",
    "        temp_lat = lat_72km[xi, yi]\n",
    "        \n",
    "        dist, indexes = gridTree.query(list(zip(np.array(temp_lon)[None], np.array(temp_lat)[None])))\n",
    "        indx_3km, indy_3km = np.unravel_index(indexes, grid_shape_hrrr)\n",
    "        \n",
    "        indx_array[xi, yi] = indx_3km[0]\n",
    "        indy_array[xi, yi] = indy_3km[0]"
   ]
  },
  {
   "cell_type": "code",
   "execution_count": 28,
   "id": "e380c5d2-58cd-47d3-9f62-60fbebf95625",
   "metadata": {},
   "outputs": [],
   "source": [
    "import warnings\n",
    "warnings.filterwarnings(\"ignore\")"
   ]
  },
  {
   "cell_type": "code",
   "execution_count": 29,
   "id": "421b511a-e726-46fb-be55-9a3b1d19a008",
   "metadata": {},
   "outputs": [
    {
     "name": "stdout",
     "output_type": "stream",
     "text": [
      "Process day: 675\n"
     ]
    },
    {
     "name": "stderr",
     "output_type": "stream",
     "text": [
      "\n",
      "KeyboardInterrupt\n",
      "\n"
     ]
    }
   ],
   "source": [
    "for iday, day in enumerate(range(day_start, day_start+5, 1)):\n",
    "    print('Process day: {}'.format(day))\n",
    "    start_time = time.time()\n",
    "\n",
    "    for xi in range(shape_72km[0]):\n",
    "        for yi in range(shape_72km[1]):\n",
    "            \n",
    "            indx_3km = int(indx_array[xi, yi])\n",
    "            indy_3km = int(indy_array[xi, yi])\n",
    "\n",
    "            x_edge_left = indx_3km - half_margin\n",
    "            x_edge_right = indx_3km + half_margin\n",
    "\n",
    "            y_edge_bottom = indy_3km - half_margin\n",
    "            y_edge_top = indy_3km + half_margin\n",
    "\n",
    "            if x_edge_left >= 0 and y_edge_bottom >= 0 and x_edge_right <= grid_shape_hrrr[0] and y_edge_top <= grid_shape_hrrr[1]:\n",
    "                \n",
    "                hrrr_3km = HRRRv3_lead[day, x_edge_left:x_edge_right, y_edge_bottom:y_edge_top, :]\n",
    "\n",
    "\n",
    "                for v, ind_var in enumerate(ind_pick):\n",
    "                    temp = hrrr_3km[..., ind_var]\n",
    "\n",
    "                    if ind_var == 0:\n",
    "                        temp[temp<0] = 0\n",
    "                    if log_norm[ind_var]:\n",
    "                        temp = np.log(np.abs(temp)+1)\n",
    "                    else:\n",
    "                        temp = (temp - means[ind_var])/stds[ind_var]\n",
    "\n",
    "                    out_slice[..., v] = temp\n",
    "\n",
    "\n",
    "                    CNN_input = out_slice\n",
    "\n",
    "                    Y_pred = model.predict([CNN_input,])\n",
    "                    Y_pred[Y_pred<0.1] = 0\n",
    "                    Y_pred[Y_pred>1] = 1\n",
    "                    final_out[iday, xi, yi] = Y_pred.ravel()[0]\n",
    "                \n",
    "    print(\"--- %s seconds ---\" % (time.time() - start_time))\n",
    "                \n",
    "zarr.save(temp_dir+'FINAL_HALF'+'_lead{}_prob.zarr'.format(lead), final_out)\n"
   ]
  },
  {
   "cell_type": "code",
   "execution_count": 31,
   "id": "2e59dfae-7c5d-4bda-a1e4-5ea721edd648",
   "metadata": {},
   "outputs": [
    {
     "data": {
      "text/plain": [
       "1"
      ]
     },
     "execution_count": 31,
     "metadata": {},
     "output_type": "execute_result"
    }
   ],
   "source": [
    "yi"
   ]
  },
  {
   "cell_type": "code",
   "execution_count": 64,
   "id": "5557f299-b499-470a-9528-b1981c9c83d8",
   "metadata": {},
   "outputs": [],
   "source": [
    "#zarr.save(temp_dir+model_name+'_lead{}_prob.zarr'.format(lead), final_out)"
   ]
  },
  {
   "cell_type": "code",
   "execution_count": 13,
   "id": "d1ae9a18-a669-4223-a70d-9866e4f02659",
   "metadata": {},
   "outputs": [],
   "source": [
    "final_out = zarr.load(temp_dir+'CONVNEXT_L_pp10_tune3'+'_lead{}_prob.zarr'.format(21))"
   ]
  },
  {
   "cell_type": "code",
   "execution_count": 9,
   "id": "3ca456ba-9f85-4e22-8cf1-5a07ca66fd93",
   "metadata": {},
   "outputs": [
    {
     "data": {
      "text/plain": [
       "(197, 44, 75)"
      ]
     },
     "execution_count": 9,
     "metadata": {},
     "output_type": "execute_result"
    }
   ],
   "source": [
    "final_out.shape"
   ]
  },
  {
   "cell_type": "code",
   "execution_count": 32,
   "id": "5d92d555-2fab-4f2d-ab49-e406f53188c4",
   "metadata": {},
   "outputs": [
    {
     "data": {
      "text/plain": [
       "<matplotlib.colorbar.Colorbar at 0x2b6adb9c9820>"
      ]
     },
     "execution_count": 32,
     "metadata": {},
     "output_type": "execute_result"
    },
    {
     "data": {
      "image/png": "[encoded data removed]",
      "text/plain": [
       "<Figure size 640x480 with 2 Axes>"
      ]
     },
     "metadata": {},
     "output_type": "display_data"
    }
   ],
   "source": [
    "plt.pcolormesh(final_out[0, ...], vmin=0, vmax=1.0, cmap=plt.cm.nipy_spectral_r)\n",
    "plt.colorbar()"
   ]
  },
  {
   "cell_type": "code",
   "execution_count": 35,
   "id": "ea360077-4b84-4919-b196-cbfaa21ace66",
   "metadata": {},
   "outputs": [],
   "source": [
    "zarr.save(temp_dir+'CONVNEXT_Base_pp19_tune3'+'_lead{}_prob.zarr'.format(lead), final_out)"
   ]
  },
  {
   "cell_type": "code",
   "execution_count": 3,
   "id": "c44e75d6-eff0-438b-864e-08c1b1af75a7",
   "metadata": {},
   "outputs": [],
   "source": [
    "temp_dir = '/glade/work/ksha/NCAR/Keras_models/'"
   ]
  },
  {
   "cell_type": "code",
   "execution_count": null,
   "id": "1acebb49-f519-4248-bc2e-a06477b4a1e0",
   "metadata": {},
   "outputs": [],
   "source": []
  },
  {
   "cell_type": "code",
   "execution_count": null,
   "id": "3ca2e74e-fb9e-4177-93c2-8f2992124f04",
   "metadata": {},
   "outputs": [],
   "source": [
    "def domain_group(data, gap=24):\n",
    "    \n",
    "    assert gap >= 2\n",
    "\n",
    "    \n",
    "    grid_shape = data.shape\n",
    "    Nx = grid_shape[0] // gap + 1\n",
    "    Ny = grid_shape[1] // gap + 1\n",
    "    \n",
    "    edgex = gap*Nx\n",
    "    edgey = gap*Ny\n",
    "    \n",
    "    if (edgex > grid_shape[0]+1):\n",
    "        Nx -= 1\n",
    "    \n",
    "    if (edgey > grid_shape[1]+1):\n",
    "        Ny -= 1\n",
    "        \n",
    "    out = np.empty((Nx, Ny))\n",
    "    \n",
    "    for ix in range(Nx):\n",
    "        for iy in range(Ny):\n",
    "            if method == 'mean':\n",
    "                out[ix, iy] = np.nanmean(data[ix*gap:(ix+1)*gap, iy*gap:(iy+1)*gap])\n",
    "            elif method == 'min':\n",
    "                out[ix, iy] = np.nanmin(data[ix*gap:(ix+1)*gap, iy*gap:(iy+1)*gap])\n",
    "            else:\n",
    "                out[ix, iy] = np.nanmax(data[ix*gap:(ix+1)*gap, iy*gap:(iy+1)*gap])\n",
    "    return out"
   ]
  },
  {
   "cell_type": "code",
   "execution_count": null,
   "id": "b9ef884a-526e-4127-a4fa-2aa6f78b52c1",
   "metadata": {},
   "outputs": [],
   "source": []
  },
  {
   "cell_type": "code",
   "execution_count": null,
   "id": "410db15c-f3cf-4c50-b817-3c8d48ffae25",
   "metadata": {},
   "outputs": [],
   "source": []
  },
  {
   "cell_type": "code",
   "execution_count": null,
   "id": "3f008e99-23aa-4fb0-bbfb-801797f5fd43",
   "metadata": {},
   "outputs": [],
   "source": []
  },
  {
   "cell_type": "code",
   "execution_count": null,
   "id": "cae6b6d8-fd0d-4c4d-81e7-16d205876bce",
   "metadata": {},
   "outputs": [],
   "source": []
  },
  {
   "cell_type": "code",
   "execution_count": null,
   "id": "39bc5e8c-1a66-43b9-be8b-c8aaddf26ceb",
   "metadata": {},
   "outputs": [],
   "source": []
  }
 ],
 "metadata": {
  "kernelspec": {
   "display_name": "Python 3 (ipykernel)",
   "language": "python",
   "name": "python3"
  },
  "language_info": {
   "codemirror_mode": {
    "name": "ipython",
    "version": 3
   },
   "file_extension": ".py",
   "mimetype": "text/x-python",
   "name": "python",
   "nbconvert_exporter": "python",
   "pygments_lexer": "ipython3",
   "version": "3.9.13"
  }
 },
 "nbformat": 4,
 "nbformat_minor": 5
}
