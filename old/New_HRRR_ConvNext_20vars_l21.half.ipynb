{
 "cells": [
  {
   "cell_type": "code",
   "execution_count": 1,
   "id": "ce76310e-2358-43eb-ba0c-188a45af0b5e",
   "metadata": {},
   "outputs": [],
   "source": [
    "# general tools\n",
    "import sys\n",
    "from glob import glob\n",
    "\n",
    "# data tools\n",
    "import time\n",
    "import h5py\n",
    "import random\n",
    "import numpy as np\n",
    "from random import shuffle\n",
    "\n",
    "import matplotlib.pyplot as plt\n",
    "%matplotlib inline"
   ]
  },
  {
   "cell_type": "code",
   "execution_count": 2,
   "id": "ee2f455b-7a16-4d6c-b673-ff37e482f46d",
   "metadata": {},
   "outputs": [
    {
     "name": "stderr",
     "output_type": "stream",
     "text": [
      "2022-09-26 20:16:00.428110: I tensorflow/stream_executor/platform/default/dso_loader.cc:49] Successfully opened dynamic library libcudart.so.10.1\n"
     ]
    }
   ],
   "source": [
    "# deep learning tools\n",
    "import tensorflow as tf\n",
    "from tensorflow import keras\n",
    "from tensorflow.keras import layers\n",
    "tf.config.run_functions_eagerly(True)\n",
    "\n",
    "# from keras_unet_collection import models as k_models\n",
    "from keras_unet_collection import utils as k_utils\n",
    "# from keras_unet_collection import layer_utils as k_layers\n",
    "# from keras_unet_collection.activations import GELU"
   ]
  },
  {
   "cell_type": "code",
   "execution_count": 3,
   "id": "329c3d14-edd9-49fa-a0b6-c112ea9c7553",
   "metadata": {},
   "outputs": [],
   "source": [
    "sys.path.insert(0, '/glade/u/home/ksha/NCAR/')\n",
    "sys.path.insert(0, '/glade/u/home/ksha/NCAR/libs/')\n",
    "\n",
    "from namelist import *\n",
    "import data_utils as du\n",
    "import graph_utils as gu\n",
    "import convnext_keras as ck\n",
    "\n",
    "from sklearn.metrics import classification_report, auc, roc_curve\n",
    "from sklearn.metrics import confusion_matrix\n",
    "\n",
    "import matplotlib.pyplot as plt\n",
    "%matplotlib inline\n",
    "\n"
   ]
  },
  {
   "cell_type": "code",
   "execution_count": 4,
   "id": "a1c2e1ce-3a18-4453-a423-4933848bf089",
   "metadata": {},
   "outputs": [
    {
     "data": {
      "text/plain": [
       "<module 'convnext_keras' from '/glade/u/home/ksha/NCAR/libs/convnext_keras.py'>"
      ]
     },
     "execution_count": 4,
     "metadata": {},
     "output_type": "execute_result"
    }
   ],
   "source": [
    "from importlib import reload\n",
    "reload(ck)"
   ]
  },
  {
   "cell_type": "code",
   "execution_count": 5,
   "id": "9e1ee330-cf69-4ead-aa86-42cb0aeec11b",
   "metadata": {},
   "outputs": [],
   "source": [
    "L_vars = 23"
   ]
  },
  {
   "cell_type": "code",
   "execution_count": 6,
   "id": "c181e0e9-cf6a-4fc9-a913-97562ce045c2",
   "metadata": {},
   "outputs": [],
   "source": [
    "filename_neg_train = sorted(glob(\"/glade/scratch/ksha/DATA/NCAR_batch/TRAIN*neg_neg_neg*lead21.npy\"))\n",
    "filename_pos_train = sorted(glob(\"/glade/scratch/ksha/DATA/NCAR_batch/TRAIN*pos*lead21.npy\"))"
   ]
  },
  {
   "cell_type": "code",
   "execution_count": 7,
   "id": "7a1d9b13-17a8-4c2e-b316-a7731afdce58",
   "metadata": {},
   "outputs": [],
   "source": [
    "filename_neg_valid = sorted(glob(\"/glade/scratch/ksha/DATA/NCAR_batch/VALID*neg_neg_neg*lead21.npy\"))\n",
    "filename_pos_valid = sorted(glob(\"/glade/scratch/ksha/DATA/NCAR_batch/VALID*pos*lead21.npy\"))"
   ]
  },
  {
   "cell_type": "code",
   "execution_count": 28,
   "id": "d9e2caa8-e4ec-468b-a926-0c9cd51077ff",
   "metadata": {},
   "outputs": [],
   "source": [
    "filename_valid = filename_neg_valid + filename_pos_valid"
   ]
  },
  {
   "cell_type": "code",
   "execution_count": 29,
   "id": "70fd1836-9fec-4edc-9278-c30bc8553104",
   "metadata": {},
   "outputs": [
    {
     "data": {
      "text/plain": [
       "330620"
      ]
     },
     "execution_count": 29,
     "metadata": {},
     "output_type": "execute_result"
    }
   ],
   "source": [
    "len(filename_valid)"
   ]
  },
  {
   "cell_type": "code",
   "execution_count": 30,
   "id": "8c7745a8-c368-4d01-9211-d3a7973d243a",
   "metadata": {},
   "outputs": [],
   "source": [
    "with h5py.File(save_dir+'HRRR_domain.hdf', 'r') as h5io:\n",
    "    lon_3km = h5io['lon_3km'][...]\n",
    "    lat_3km = h5io['lat_3km'][...]\n",
    "    lon_72km = h5io['lon_72km'][...]\n",
    "    lat_72km = h5io['lat_72km'][...]\n",
    "    land_mask_72km = h5io['land_mask_72km'][...]\n",
    "    land_mask_3km = h5io['land_mask_3km'][...]"
   ]
  },
  {
   "cell_type": "code",
   "execution_count": 32,
   "id": "3063ca0a-a4d9-4e3a-a477-01b92709754f",
   "metadata": {},
   "outputs": [],
   "source": [
    "L_valid = len(filename_valid)\n",
    "L_var = 23\n",
    "\n",
    "TEST_input = np.empty((L_valid, 64, 64, L_var))\n",
    "TEST_target = np.ones(L_valid)\n",
    "\n",
    "for i, name in enumerate(filename_valid):\n",
    "    data = np.load(name)\n",
    "   \n",
    "    TEST_input[i, ...] = data\n",
    "\n",
    "    if 'pos' in name:\n",
    "        TEST_target[i] = 1.0\n",
    "    else:\n",
    "        TEST_target[i] = 0.0"
   ]
  },
  {
   "cell_type": "code",
   "execution_count": 33,
   "id": "93bc6a7d-c18f-4c0a-a61e-dbe26aac3ebb",
   "metadata": {},
   "outputs": [
    {
     "data": {
      "text/plain": [
       "0.0033270824511523805"
      ]
     },
     "execution_count": 33,
     "metadata": {},
     "output_type": "execute_result"
    }
   ],
   "source": [
    "np.sum(TEST_target) / len(TEST_target)"
   ]
  },
  {
   "cell_type": "code",
   "execution_count": 34,
   "id": "992823d2-8297-4a07-9239-a38dd5951136",
   "metadata": {},
   "outputs": [
    {
     "data": {
      "text/plain": [
       "[<matplotlib.lines.Line2D at 0x2ac583ed0400>]"
      ]
     },
     "execution_count": 34,
     "metadata": {},
     "output_type": "execute_result"
    },
    {
     "data": {
      "image/png": "[encoded data removed]",
      "text/plain": [
       "<Figure size 640x480 with 1 Axes>"
      ]
     },
     "metadata": {},
     "output_type": "display_data"
    }
   ],
   "source": [
    "plt.plot(TEST_target)"
   ]
  },
  {
   "cell_type": "markdown",
   "id": "26d6c483-697c-43b9-8469-8028e4b819bc",
   "metadata": {},
   "source": [
    "**ConvNext**"
   ]
  },
  {
   "cell_type": "code",
   "execution_count": 35,
   "id": "6151e0af-3479-4b81-a0b9-0c892ed01c1e",
   "metadata": {},
   "outputs": [],
   "source": [
    "import numpy as np\n",
    "import tensorflow as tf\n",
    "from tensorflow.keras import backend\n",
    "from tensorflow.keras import layers\n",
    "from tensorflow.keras import utils\n",
    "from tensorflow.keras import Model\n",
    "\n",
    "  \n",
    "class LayerScale(layers.Layer):\n",
    "    \"\"\"Layer scale module.\n",
    "    References:\n",
    "      - https://arxiv.org/abs/2103.17239\n",
    "    Args:\n",
    "      init_values (float): Initial value for layer scale. Should be within\n",
    "        [0, 1].\n",
    "      projection_dim (int): Projection dimensionality.\n",
    "    Returns:\n",
    "      Tensor multiplied to the scale.\n",
    "    \"\"\"\n",
    "\n",
    "    def __init__(self, init_values, projection_dim, **kwargs):\n",
    "        super().__init__(**kwargs)\n",
    "        self.init_values = init_values\n",
    "        self.projection_dim = projection_dim\n",
    "\n",
    "    def build(self, input_shape):\n",
    "        self.gamma = tf.Variable(\n",
    "            self.init_values * tf.ones((self.projection_dim,))\n",
    "        )\n",
    "\n",
    "    def call(self, x):\n",
    "        return x * self.gamma\n",
    "\n",
    "    def get_config(self):\n",
    "        config = super().get_config()\n",
    "        config.update(\n",
    "            {\n",
    "                \"init_values\": self.init_values,\n",
    "                \"projection_dim\": self.projection_dim,\n",
    "            }\n",
    "        )\n",
    "        return config\n",
    "    \n",
    "\n",
    "\n",
    "def Head(num_classes=1000, name=None):\n",
    "    \"\"\"Implementation of classification head of RegNet.\n",
    "    Args:\n",
    "      num_classes: number of classes for Dense layer\n",
    "      name: name prefix\n",
    "    Returns:\n",
    "      Classification head function.\n",
    "    \"\"\"\n",
    "    if name is None:\n",
    "        name = str(backend.get_uid(\"head\"))\n",
    "\n",
    "    def apply(x):\n",
    "        x = layers.GlobalAveragePooling2D(name=name + \"_head_gap\")(x)\n",
    "        x = layers.LayerNormalization(\n",
    "            epsilon=1e-6, name=name + \"_head_layernorm\"\n",
    "        )(x)\n",
    "        x = layers.Dense(num_classes, name=name + \"_head_dense\")(x)\n",
    "        return x\n",
    "\n",
    "    return apply\n"
   ]
  },
  {
   "cell_type": "code",
   "execution_count": 36,
   "id": "5910626c-9f88-4112-8beb-28045df1d016",
   "metadata": {},
   "outputs": [],
   "source": [
    "depths=[3, 3, 27, 3]\n",
    "projection_dims=[96, 192, 384, 768]\n",
    "drop_path_rate=0.0\n",
    "layer_scale_init_value=1e-6\n",
    "model_name='test'\n",
    "input_shape=(64, 64, 23)\n",
    "classes=1\n",
    "\n",
    "IN = layers.Input(shape=input_shape)\n",
    "X = IN\n",
    "\n",
    "num_convnext_blocks = 4\n",
    "\n",
    "# ----- convnext block 0 ----- #\n",
    "\n",
    "X = layers.Conv2D(projection_dims[0], kernel_size=4, strides=4, name=\"{}_down0\".format(model_name))(X)\n",
    "X = layers.LayerNormalization(epsilon=1e-6, name=\"{}_down0_norm\".format(model_name))(X)\n",
    "\n",
    "for j in range(depths[0]):\n",
    "    \n",
    "    X_convnext = X\n",
    "    X_convnext = layers.Conv2D(filters=projection_dims[0], kernel_size=7, padding=\"same\",\n",
    "                               groups=projection_dims[0], name=\"{}_down0_dconv{}\".format(model_name, j))(X_convnext)\n",
    "    X_convnext = layers.LayerNormalization(epsilon=1e-6, name=\"{}_down0_dconv{}_norm\".format(model_name, j))(X_convnext)\n",
    "    X_convnext = layers.Dense(4 * projection_dims[0], name=\"{}_down0_dense{}_p1\".format(model_name, j))(X_convnext)\n",
    "    X_convnext = layers.Activation(\"gelu\", name=\"{}_down0_gelu{}\".format(model_name, j))(X_convnext)\n",
    "    X_convnext = layers.Dense(projection_dims[0], name=\"{}_down0_dense{}_p2\".format(model_name, j))(X_convnext)\n",
    "\n",
    "    X_convnext = LayerScale(layer_scale_init_value, projection_dims[0], name=\"{}_down0_layerscale{}\".format(model_name, j))(X_convnext)\n",
    "\n",
    "    X = X + X_convnext\n",
    "\n",
    "\n",
    "# ----- convnext block 1 ----- #\n",
    "\n",
    "X = layers.LayerNormalization(epsilon=1e-6, name=\"{}_down1_norm\".format(model_name))(X)\n",
    "X = layers.Conv2D(projection_dims[1], kernel_size=2, strides=2, name=\"{}_down1\".format(model_name))(X)\n",
    "\n",
    "for j in range(depths[1]):\n",
    "    \n",
    "    X_convnext = X\n",
    "    X_convnext = layers.Conv2D(filters=projection_dims[1], kernel_size=7, padding=\"same\",\n",
    "                               groups=projection_dims[1], name=\"{}_down1_dconv{}\".format(model_name, j))(X_convnext)\n",
    "    X_convnext = layers.LayerNormalization(epsilon=1e-6, name=\"{}_down1_dconv{}_norm\".format(model_name, j))(X_convnext)\n",
    "    X_convnext = layers.Dense(4 * projection_dims[1], name=\"{}_down1_dense{}_p1\".format(model_name, j))(X_convnext)\n",
    "    X_convnext = layers.Activation(\"gelu\", name=\"{}_down1_gelu{}\".format(model_name, j))(X_convnext)\n",
    "    X_convnext = layers.Dense(projection_dims[1], name=\"{}_down1_dense{}_p2\".format(model_name, j))(X_convnext)\n",
    "\n",
    "    X_convnext = LayerScale(layer_scale_init_value, projection_dims[1], name=\"{}_down1_layerscale{}\".format(model_name, j))(X_convnext)\n",
    "\n",
    "    X = X + X_convnext\n",
    "\n",
    "# ----- convnext block 2 ----- #\n",
    "\n",
    "X = layers.LayerNormalization(epsilon=1e-6, name=\"{}_down2_norm\".format(model_name))(X)\n",
    "X = layers.Conv2D(projection_dims[2], kernel_size=2, strides=2, name=\"{}_down2\".format(model_name))(X)\n",
    "\n",
    "for j in range(depths[2]):\n",
    "    \n",
    "    X_convnext = X\n",
    "    X_convnext = layers.Conv2D(filters=projection_dims[2], kernel_size=7, padding=\"same\",\n",
    "                               groups=projection_dims[2], name=\"{}_down2_dconv{}\".format(model_name, j))(X_convnext)\n",
    "    X_convnext = layers.LayerNormalization(epsilon=1e-6, name=\"{}_down2_dconv{}_norm\".format(model_name, j))(X_convnext)\n",
    "    X_convnext = layers.Dense(4 * projection_dims[2], name=\"{}_down2_dense{}_p1\".format(model_name, j))(X_convnext)\n",
    "    X_convnext = layers.Activation(\"gelu\", name=\"{}_down2_gelu{}\".format(model_name, j))(X_convnext)\n",
    "    X_convnext = layers.Dense(projection_dims[2], name=\"{}_down2_dense{}_p2\".format(model_name, j))(X_convnext)\n",
    "\n",
    "    X_convnext = LayerScale(layer_scale_init_value, projection_dims[2], name=\"{}_down2_layerscale{}\".format(model_name, j))(X_convnext)\n",
    "\n",
    "    X = X + X_convnext\n",
    "\n",
    "# ----- convnext block 3 ----- #\n",
    "\n",
    "X = layers.LayerNormalization(epsilon=1e-6, name=\"{}_down3_norm\".format(model_name))(X)\n",
    "X = layers.Conv2D(projection_dims[3], kernel_size=2, padding='same', name=\"{}_down3\".format(model_name))(X)\n",
    "\n",
    "for j in range(depths[3]):\n",
    "    \n",
    "    X_convnext = X\n",
    "    X_convnext = layers.Conv2D(filters=projection_dims[3], kernel_size=7, padding=\"same\",\n",
    "                               groups=projection_dims[3], name=\"{}_down3_dconv{}\".format(model_name, j))(X_convnext)\n",
    "    X_convnext = layers.LayerNormalization(epsilon=1e-6, name=\"{}_down3_dconv{}_norm\".format(model_name, j))(X_convnext)\n",
    "    X_convnext = layers.Dense(4 * projection_dims[3], name=\"{}_down3_dense{}_p1\".format(model_name, j))(X_convnext)\n",
    "    X_convnext = layers.Activation(\"gelu\", name=\"{}_down3_gelu{}\".format(model_name, j))(X_convnext)\n",
    "    X_convnext = layers.Dense(projection_dims[3], name=\"{}_down3_dense{}_p2\".format(model_name, j))(X_convnext)\n",
    "\n",
    "    X_convnext = LayerScale(layer_scale_init_value, projection_dims[3], name=\"{}_down3_layerscale{}\".format(model_name, j))(X_convnext)\n",
    "\n",
    "    X = X + X_convnext\n",
    "\n",
    "OUT = X\n",
    "\n",
    "OUT = layers.GlobalMaxPooling2D(name=\"{}_head_pool\".format(model_name))(OUT)\n",
    "OUT = layers.LayerNormalization(epsilon=1e-6, name=\"{}_head_norm\".format(model_name))(OUT)\n",
    "OUT = layers.Dense(1, name=\"{}_head_out\".format(model_name))(OUT)\n",
    "\n",
    "model = Model(inputs=IN, outputs=OUT, name=model_name)"
   ]
  },
  {
   "cell_type": "code",
   "execution_count": 37,
   "id": "6d21a400-630c-4e40-b990-4e14e5d139c9",
   "metadata": {},
   "outputs": [],
   "source": [
    "from sklearn.metrics import brier_score_loss\n",
    "from sklearn.metrics import log_loss\n",
    "\n",
    "\n",
    "def verif_metric(VALID_target, Y_pred):\n",
    "\n",
    "\n",
    "    # fpr, tpr, thresholds = roc_curve(VALID_target.ravel(), Y_pred.ravel())\n",
    "    # AUC = auc(fpr, tpr)\n",
    "    # AUC_metric = 1 - AUC\n",
    "    \n",
    "    BS = np.mean((VALID_target.ravel() - Y_pred.ravel())**2)\n",
    "    #ll = log_loss(VALID_target.ravel(), Y_pred.ravel())\n",
    "    \n",
    "    print('{}'.format(BS))\n",
    "    metric = BS\n",
    "\n",
    "    return metric"
   ]
  },
  {
   "cell_type": "code",
   "execution_count": 38,
   "id": "ca8e6183-6964-467a-8ebe-01b822b8b8f0",
   "metadata": {},
   "outputs": [],
   "source": [
    "tol = 0\n",
    "min_del = 0\n",
    "max_tol = 500 # early stopping with patience\n",
    "\n",
    "epochs = 500\n",
    "L_train = 64\n",
    "batch_size = 100\n",
    "\n",
    "batch_size_half = 50\n",
    "\n",
    "valid_size = 1"
   ]
  },
  {
   "cell_type": "code",
   "execution_count": 39,
   "id": "67244080-0104-4922-9543-941d6318f26a",
   "metadata": {},
   "outputs": [],
   "source": [
    "batch_dir = '/glade/scratch/ksha/DATA/NCAR_batch/'\n",
    "temp_dir = '/glade/work/ksha/NCAR/Keras_models/'\n",
    "\n",
    "key = 'FINAL_HALF_Lead21'\n",
    "\n",
    "model_name = '{}_pp23_tune'.format(key)\n",
    "model_path = temp_dir+model_name\n",
    "\n",
    "model_name_backup = '{}_pp23_backup'.format(key)\n",
    "model_path_backup = temp_dir+model_name_backup\n",
    "W_old = k_utils.dummy_loader(temp_dir+'FINAL_HALF_Lead21_pp23')\n",
    "model.set_weights(W_old)\n"
   ]
  },
  {
   "cell_type": "code",
   "execution_count": 40,
   "id": "c5f32705-6a1b-4c2b-9dd3-f89d29a5ff72",
   "metadata": {},
   "outputs": [],
   "source": [
    "model.compile(loss=keras.losses.mean_absolute_error, optimizer=keras.optimizers.Adam(lr=1e-5))\n",
    "#keras.losses.BinaryCrossentropy(from_logits=True)"
   ]
  },
  {
   "cell_type": "code",
   "execution_count": 41,
   "id": "b6bf49a3-1b86-484a-b8e2-94cadceb6ce8",
   "metadata": {},
   "outputs": [],
   "source": [
    "X_batch = np.empty((batch_size, 64, 64, L_vars))\n",
    "Y_batch = np.empty((batch_size, 1))\n",
    "X_batch[...] = np.nan\n",
    "Y_batch[...] = np.nan"
   ]
  },
  {
   "cell_type": "code",
   "execution_count": 42,
   "id": "0cc658f4-1b4c-4286-862a-406bc3a9a44d",
   "metadata": {},
   "outputs": [
    {
     "name": "stderr",
     "output_type": "stream",
     "text": [
      "2022-09-27 10:30:59.429599: W tensorflow/core/framework/cpu_allocator_impl.cc:80] Allocation of 124588195840 exceeds 10% of free system memory.\n"
     ]
    }
   ],
   "source": [
    "Y_pred = model.predict([TEST_input,])"
   ]
  },
  {
   "cell_type": "code",
   "execution_count": 43,
   "id": "1421171d-b9ec-450f-ac51-a728bc340dc5",
   "metadata": {},
   "outputs": [],
   "source": [
    "save_dict = {}\n",
    "save_dict['y_true'] = TEST_target\n",
    "save_dict['y_pred'] = Y_pred\n",
    "\n",
    "np.save(\"ALL_pred_lead21.npy\", save_dict)"
   ]
  },
  {
   "cell_type": "code",
   "execution_count": 44,
   "id": "f4fef90f-d890-49de-9685-97135dd6572b",
   "metadata": {},
   "outputs": [
    {
     "name": "stdout",
     "output_type": "stream",
     "text": [
      "0.0238211725529606\n",
      "Initial record: 0.0238211725529606\n"
     ]
    }
   ],
   "source": [
    "# Y_pred[Y_pred<0] = 0\n",
    "# Y_pred[Y_pred>1] = 1\n",
    "record = verif_metric(TEST_target, Y_pred)\n",
    "print(\"Initial record: {}\".format(record))"
   ]
  },
  {
   "cell_type": "code",
   "execution_count": 45,
   "id": "441243c7-e0cc-47fe-a521-b4e0878c22d9",
   "metadata": {},
   "outputs": [
    {
     "data": {
      "text/plain": [
       "[<matplotlib.lines.Line2D at 0x2ac404010d90>]"
      ]
     },
     "execution_count": 45,
     "metadata": {},
     "output_type": "execute_result"
    },
    {
     "data": {
      "image/png": "[encoded data removed]",
      "text/plain": [
       "<Figure size 1500x400 with 1 Axes>"
      ]
     },
     "metadata": {},
     "output_type": "display_data"
    }
   ],
   "source": [
    "plt.figure(figsize=(15, 4))\n",
    "#plt.plot(TEST_target, 'b-', lw=3.0)\n",
    "plt.plot(Y_pred[:], 'r-')\n",
    "#plt.plot(Y_pred>0.5)"
   ]
  },
  {
   "cell_type": "code",
   "execution_count": 25,
   "id": "842940ff-c806-4094-96e5-71b903fe9276",
   "metadata": {},
   "outputs": [
    {
     "data": {
      "text/plain": [
       "[PhysicalDevice(name='/physical_device:GPU:0', device_type='GPU')]"
      ]
     },
     "execution_count": 25,
     "metadata": {},
     "output_type": "execute_result"
    }
   ],
   "source": [
    "tf.config.list_physical_devices('GPU')"
   ]
  },
  {
   "cell_type": "code",
   "execution_count": 27,
   "id": "ca6e5ad6-0941-4737-88f1-6df2077dba9d",
   "metadata": {},
   "outputs": [
    {
     "name": "stderr",
     "output_type": "stream",
     "text": [
      "/glade/work/ksha/anaconda3/lib/python3.9/site-packages/tensorflow/python/data/ops/dataset_ops.py:3503: UserWarning: Even though the tf.config.experimental_run_functions_eagerly option is set, this option does not apply to tf.data functions. tf.data functions are still traced and executed as graphs.\n",
      "  warnings.warn(\n"
     ]
    },
    {
     "name": "stdout",
     "output_type": "stream",
     "text": [
      "0.139665438997403\n",
      "Validation loss improved from 0.14228168900012836 to 0.139665438997403\n",
      "save to: /glade/work/ksha/NCAR/Keras_models/FINAL_HALF_Lead21_pp23\n",
      "INFO:tensorflow:Assets written to: /glade/work/ksha/NCAR/Keras_models/FINAL_HALF_Lead21_pp23/assets\n",
      "--- 245.26410794258118 seconds ---\n"
     ]
    },
    {
     "name": "stderr",
     "output_type": "stream",
     "text": [
      "/glade/work/ksha/anaconda3/lib/python3.9/site-packages/tensorflow/python/data/ops/dataset_ops.py:3503: UserWarning: Even though the tf.config.experimental_run_functions_eagerly option is set, this option does not apply to tf.data functions. tf.data functions are still traced and executed as graphs.\n",
      "  warnings.warn(\n"
     ]
    },
    {
     "name": "stdout",
     "output_type": "stream",
     "text": [
      "0.11155465839675104\n",
      "Validation loss improved from 0.139665438997403 to 0.11155465839675104\n",
      "save to: /glade/work/ksha/NCAR/Keras_models/FINAL_HALF_Lead21_pp23\n",
      "INFO:tensorflow:Assets written to: /glade/work/ksha/NCAR/Keras_models/FINAL_HALF_Lead21_pp23/assets\n",
      "--- 258.13513827323914 seconds ---\n"
     ]
    },
    {
     "name": "stderr",
     "output_type": "stream",
     "text": [
      "/glade/work/ksha/anaconda3/lib/python3.9/site-packages/tensorflow/python/data/ops/dataset_ops.py:3503: UserWarning: Even though the tf.config.experimental_run_functions_eagerly option is set, this option does not apply to tf.data functions. tf.data functions are still traced and executed as graphs.\n",
      "  warnings.warn(\n"
     ]
    },
    {
     "name": "stdout",
     "output_type": "stream",
     "text": [
      "0.11577001559402444\n",
      "Validation loss 0.11577001559402444 NOT improved\n",
      "0.10929269862122153\n",
      "Validation loss improved from 0.11155465839675104 to 0.10929269862122153\n",
      "save to: /glade/work/ksha/NCAR/Keras_models/FINAL_HALF_Lead21_pp23\n",
      "INFO:tensorflow:Assets written to: /glade/work/ksha/NCAR/Keras_models/FINAL_HALF_Lead21_pp23/assets\n",
      "--- 264.859671831131 seconds ---\n"
     ]
    },
    {
     "name": "stderr",
     "output_type": "stream",
     "text": [
      "/glade/work/ksha/anaconda3/lib/python3.9/site-packages/tensorflow/python/data/ops/dataset_ops.py:3503: UserWarning: Even though the tf.config.experimental_run_functions_eagerly option is set, this option does not apply to tf.data functions. tf.data functions are still traced and executed as graphs.\n",
      "  warnings.warn(\n"
     ]
    },
    {
     "name": "stdout",
     "output_type": "stream",
     "text": [
      "0.10405806509260838\n",
      "Validation loss improved from 0.10929269862122153 to 0.10405806509260838\n",
      "save to: /glade/work/ksha/NCAR/Keras_models/FINAL_HALF_Lead21_pp23\n",
      "INFO:tensorflow:Assets written to: /glade/work/ksha/NCAR/Keras_models/FINAL_HALF_Lead21_pp23/assets\n",
      "--- 244.30402517318726 seconds ---\n"
     ]
    },
    {
     "name": "stderr",
     "output_type": "stream",
     "text": [
      "/glade/work/ksha/anaconda3/lib/python3.9/site-packages/tensorflow/python/data/ops/dataset_ops.py:3503: UserWarning: Even though the tf.config.experimental_run_functions_eagerly option is set, this option does not apply to tf.data functions. tf.data functions are still traced and executed as graphs.\n",
      "  warnings.warn(\n"
     ]
    },
    {
     "name": "stdout",
     "output_type": "stream",
     "text": [
      "0.10205965099839594\n",
      "Validation loss improved from 0.10405806509260838 to 0.10205965099839594\n",
      "save to: /glade/work/ksha/NCAR/Keras_models/FINAL_HALF_Lead21_pp23\n",
      "INFO:tensorflow:Assets written to: /glade/work/ksha/NCAR/Keras_models/FINAL_HALF_Lead21_pp23/assets\n",
      "--- 245.9176743030548 seconds ---\n"
     ]
    },
    {
     "name": "stderr",
     "output_type": "stream",
     "text": [
      "/glade/work/ksha/anaconda3/lib/python3.9/site-packages/tensorflow/python/data/ops/dataset_ops.py:3503: UserWarning: Even though the tf.config.experimental_run_functions_eagerly option is set, this option does not apply to tf.data functions. tf.data functions are still traced and executed as graphs.\n",
      "  warnings.warn(\n"
     ]
    },
    {
     "name": "stdout",
     "output_type": "stream",
     "text": [
      "0.10097676413234137\n",
      "Validation loss improved from 0.10205965099839594 to 0.10097676413234137\n",
      "save to: /glade/work/ksha/NCAR/Keras_models/FINAL_HALF_Lead21_pp23\n",
      "INFO:tensorflow:Assets written to: /glade/work/ksha/NCAR/Keras_models/FINAL_HALF_Lead21_pp23/assets\n",
      "--- 233.88730812072754 seconds ---\n"
     ]
    },
    {
     "name": "stderr",
     "output_type": "stream",
     "text": [
      "/glade/work/ksha/anaconda3/lib/python3.9/site-packages/tensorflow/python/data/ops/dataset_ops.py:3503: UserWarning: Even though the tf.config.experimental_run_functions_eagerly option is set, this option does not apply to tf.data functions. tf.data functions are still traced and executed as graphs.\n",
      "  warnings.warn(\n"
     ]
    },
    {
     "name": "stdout",
     "output_type": "stream",
     "text": [
      "0.11074026481535794\n",
      "Validation loss 0.11074026481535794 NOT improved\n",
      "0.10700049559947428\n",
      "Validation loss 0.10700049559947428 NOT improved\n",
      "0.1096215600601216\n",
      "Validation loss 0.1096215600601216 NOT improved\n",
      "0.10675738289520233\n",
      "Validation loss 0.10675738289520233 NOT improved\n",
      "0.10334578343395066\n",
      "Validation loss 0.10334578343395066 NOT improved\n",
      "0.09749268736889395\n",
      "Validation loss improved from 0.10097676413234137 to 0.09749268736889395\n",
      "save to: /glade/work/ksha/NCAR/Keras_models/FINAL_HALF_Lead21_pp23\n",
      "INFO:tensorflow:Assets written to: /glade/work/ksha/NCAR/Keras_models/FINAL_HALF_Lead21_pp23/assets\n",
      "--- 258.2676019668579 seconds ---\n"
     ]
    },
    {
     "name": "stderr",
     "output_type": "stream",
     "text": [
      "/glade/work/ksha/anaconda3/lib/python3.9/site-packages/tensorflow/python/data/ops/dataset_ops.py:3503: UserWarning: Even though the tf.config.experimental_run_functions_eagerly option is set, this option does not apply to tf.data functions. tf.data functions are still traced and executed as graphs.\n",
      "  warnings.warn(\n"
     ]
    },
    {
     "name": "stdout",
     "output_type": "stream",
     "text": [
      "0.10123490913573195\n",
      "Validation loss 0.10123490913573195 NOT improved\n",
      "0.10938770787310198\n",
      "Validation loss 0.10938770787310198 NOT improved\n",
      "0.10534935415161788\n",
      "Validation loss 0.10534935415161788 NOT improved\n",
      "0.10319909538273431\n",
      "Validation loss 0.10319909538273431 NOT improved\n",
      "0.10434377580937097\n",
      "Validation loss 0.10434377580937097 NOT improved\n",
      "0.10119580374798366\n",
      "Validation loss 0.10119580374798366 NOT improved\n",
      "0.10531520198981714\n",
      "Validation loss 0.10531520198981714 NOT improved\n",
      "0.10693646617715262\n",
      "Validation loss 0.10693646617715262 NOT improved\n",
      "0.1046630316552433\n",
      "Validation loss 0.1046630316552433 NOT improved\n",
      "0.10764849509636853\n",
      "Validation loss 0.10764849509636853 NOT improved\n",
      "0.11154602886662178\n",
      "Validation loss 0.11154602886662178 NOT improved\n",
      "0.10860698908229041\n",
      "Validation loss 0.10860698908229041 NOT improved\n",
      "0.10948968465467004\n",
      "Validation loss 0.10948968465467004 NOT improved\n",
      "0.11203394775731466\n",
      "Validation loss 0.11203394775731466 NOT improved\n",
      "0.10927026726780699\n",
      "Validation loss 0.10927026726780699 NOT improved\n",
      "0.11132815228021804\n",
      "Validation loss 0.11132815228021804 NOT improved\n",
      "0.11188355019951123\n",
      "Validation loss 0.11188355019951123 NOT improved\n",
      "0.11310478715802105\n",
      "Validation loss 0.11310478715802105 NOT improved\n",
      "0.11248099120629128\n",
      "Validation loss 0.11248099120629128 NOT improved\n"
     ]
    },
    {
     "name": "stderr",
     "output_type": "stream",
     "text": [
      "Exception ignored in: <function WeakKeyDictionary.__init__.<locals>.remove at 0x2ac3eb0bbdc0>\n",
      "Traceback (most recent call last):\n",
      "  File \"/glade/work/ksha/anaconda3/lib/python3.9/weakref.py\", line 370, in remove\n",
      "    def remove(k, selfref=ref(self)):\n",
      "KeyboardInterrupt: \n"
     ]
    },
    {
     "name": "stdout",
     "output_type": "stream",
     "text": [
      "0.1098157332771621\n",
      "Validation loss 0.1098157332771621 NOT improved\n",
      "0.10871517719060161\n",
      "Validation loss 0.10871517719060161 NOT improved\n",
      "0.10759717316081067\n",
      "Validation loss 0.10759717316081067 NOT improved\n",
      "0.10407280570782815\n",
      "Validation loss 0.10407280570782815 NOT improved\n",
      "0.1009412834032956\n",
      "Validation loss 0.1009412834032956 NOT improved\n",
      "0.09518490441712212\n",
      "Validation loss improved from 0.09749268736889395 to 0.09518490441712212\n",
      "save to: /glade/work/ksha/NCAR/Keras_models/FINAL_HALF_Lead21_pp23\n",
      "INFO:tensorflow:Assets written to: /glade/work/ksha/NCAR/Keras_models/FINAL_HALF_Lead21_pp23/assets\n",
      "--- 240.40946578979492 seconds ---\n"
     ]
    },
    {
     "name": "stderr",
     "output_type": "stream",
     "text": [
      "/glade/work/ksha/anaconda3/lib/python3.9/site-packages/tensorflow/python/data/ops/dataset_ops.py:3503: UserWarning: Even though the tf.config.experimental_run_functions_eagerly option is set, this option does not apply to tf.data functions. tf.data functions are still traced and executed as graphs.\n",
      "  warnings.warn(\n"
     ]
    },
    {
     "name": "stdout",
     "output_type": "stream",
     "text": [
      "0.09667354757215602\n",
      "Validation loss 0.09667354757215602 NOT improved\n",
      "0.09789993371674621\n",
      "Validation loss 0.09789993371674621 NOT improved\n",
      "0.09405344289746873\n",
      "Validation loss improved from 0.09518490441712212 to 0.09405344289746873\n",
      "save to: /glade/work/ksha/NCAR/Keras_models/FINAL_HALF_Lead21_pp23\n",
      "INFO:tensorflow:Assets written to: /glade/work/ksha/NCAR/Keras_models/FINAL_HALF_Lead21_pp23/assets\n",
      "--- 232.7178294658661 seconds ---\n"
     ]
    },
    {
     "name": "stderr",
     "output_type": "stream",
     "text": [
      "/glade/work/ksha/anaconda3/lib/python3.9/site-packages/tensorflow/python/data/ops/dataset_ops.py:3503: UserWarning: Even though the tf.config.experimental_run_functions_eagerly option is set, this option does not apply to tf.data functions. tf.data functions are still traced and executed as graphs.\n",
      "  warnings.warn(\n"
     ]
    },
    {
     "name": "stdout",
     "output_type": "stream",
     "text": [
      "0.0949301591730776\n",
      "Validation loss 0.0949301591730776 NOT improved\n",
      "0.09296315196094658\n",
      "Validation loss improved from 0.09405344289746873 to 0.09296315196094658\n",
      "save to: /glade/work/ksha/NCAR/Keras_models/FINAL_HALF_Lead21_pp23\n",
      "INFO:tensorflow:Assets written to: /glade/work/ksha/NCAR/Keras_models/FINAL_HALF_Lead21_pp23/assets\n",
      "--- 238.73059821128845 seconds ---\n"
     ]
    },
    {
     "name": "stderr",
     "output_type": "stream",
     "text": [
      "/glade/work/ksha/anaconda3/lib/python3.9/site-packages/tensorflow/python/data/ops/dataset_ops.py:3503: UserWarning: Even though the tf.config.experimental_run_functions_eagerly option is set, this option does not apply to tf.data functions. tf.data functions are still traced and executed as graphs.\n",
      "  warnings.warn(\n"
     ]
    },
    {
     "name": "stdout",
     "output_type": "stream",
     "text": [
      "0.08582230813739819\n",
      "Validation loss improved from 0.09296315196094658 to 0.08582230813739819\n",
      "save to: /glade/work/ksha/NCAR/Keras_models/FINAL_HALF_Lead21_pp23\n",
      "INFO:tensorflow:Assets written to: /glade/work/ksha/NCAR/Keras_models/FINAL_HALF_Lead21_pp23/assets\n",
      "--- 225.64713406562805 seconds ---\n"
     ]
    },
    {
     "name": "stderr",
     "output_type": "stream",
     "text": [
      "/glade/work/ksha/anaconda3/lib/python3.9/site-packages/tensorflow/python/data/ops/dataset_ops.py:3503: UserWarning: Even though the tf.config.experimental_run_functions_eagerly option is set, this option does not apply to tf.data functions. tf.data functions are still traced and executed as graphs.\n",
      "  warnings.warn(\n"
     ]
    },
    {
     "name": "stdout",
     "output_type": "stream",
     "text": [
      "0.09436939290976458\n",
      "Validation loss 0.09436939290976458 NOT improved\n",
      "0.09616371893567278\n",
      "Validation loss 0.09616371893567278 NOT improved\n",
      "0.08779121670175467\n",
      "Validation loss 0.08779121670175467 NOT improved\n",
      "0.09348409565640624\n",
      "Validation loss 0.09348409565640624 NOT improved\n",
      "0.09564677394151556\n",
      "Validation loss 0.09564677394151556 NOT improved\n",
      "0.09834430512242359\n",
      "Validation loss 0.09834430512242359 NOT improved\n",
      "0.09944494047671062\n",
      "Validation loss 0.09944494047671062 NOT improved\n",
      "0.09543470157155391\n",
      "Validation loss 0.09543470157155391 NOT improved\n",
      "0.08850661892135112\n",
      "Validation loss 0.08850661892135112 NOT improved\n",
      "0.09721939536228018\n",
      "Validation loss 0.09721939536228018 NOT improved\n",
      "0.09404959160564831\n",
      "Validation loss 0.09404959160564831 NOT improved\n",
      "0.08980956162884822\n",
      "Validation loss 0.08980956162884822 NOT improved\n",
      "0.09191606686109428\n",
      "Validation loss 0.09191606686109428 NOT improved\n",
      "0.08980092396575338\n",
      "Validation loss 0.08980092396575338 NOT improved\n",
      "0.09263226423497319\n",
      "Validation loss 0.09263226423497319 NOT improved\n",
      "0.09177951526047408\n",
      "Validation loss 0.09177951526047408 NOT improved\n",
      "0.08723412993764583\n",
      "Validation loss 0.08723412993764583 NOT improved\n",
      "0.08448025977724201\n",
      "Validation loss improved from 0.08582230813739819 to 0.08448025977724201\n",
      "save to: /glade/work/ksha/NCAR/Keras_models/FINAL_HALF_Lead21_pp23\n",
      "INFO:tensorflow:Assets written to: /glade/work/ksha/NCAR/Keras_models/FINAL_HALF_Lead21_pp23/assets\n",
      "--- 225.8115749359131 seconds ---\n"
     ]
    },
    {
     "name": "stderr",
     "output_type": "stream",
     "text": [
      "/glade/work/ksha/anaconda3/lib/python3.9/site-packages/tensorflow/python/data/ops/dataset_ops.py:3503: UserWarning: Even though the tf.config.experimental_run_functions_eagerly option is set, this option does not apply to tf.data functions. tf.data functions are still traced and executed as graphs.\n",
      "  warnings.warn(\n"
     ]
    },
    {
     "name": "stdout",
     "output_type": "stream",
     "text": [
      "0.0904350691949018\n",
      "Validation loss 0.0904350691949018 NOT improved\n",
      "0.08122660466101303\n",
      "Validation loss improved from 0.08448025977724201 to 0.08122660466101303\n",
      "save to: /glade/work/ksha/NCAR/Keras_models/FINAL_HALF_Lead21_pp23\n",
      "INFO:tensorflow:Assets written to: /glade/work/ksha/NCAR/Keras_models/FINAL_HALF_Lead21_pp23/assets\n",
      "--- 239.22989749908447 seconds ---\n"
     ]
    },
    {
     "name": "stderr",
     "output_type": "stream",
     "text": [
      "/glade/work/ksha/anaconda3/lib/python3.9/site-packages/tensorflow/python/data/ops/dataset_ops.py:3503: UserWarning: Even though the tf.config.experimental_run_functions_eagerly option is set, this option does not apply to tf.data functions. tf.data functions are still traced and executed as graphs.\n",
      "  warnings.warn(\n"
     ]
    },
    {
     "name": "stdout",
     "output_type": "stream",
     "text": [
      "0.08663364062157204\n",
      "Validation loss 0.08663364062157204 NOT improved\n",
      "0.08694812675268616\n",
      "Validation loss 0.08694812675268616 NOT improved\n",
      "0.08522873929736602\n",
      "Validation loss 0.08522873929736602 NOT improved\n",
      "0.0909517675618045\n",
      "Validation loss 0.0909517675618045 NOT improved\n",
      "0.08353549222178548\n",
      "Validation loss 0.08353549222178548 NOT improved\n",
      "0.09004812723860196\n",
      "Validation loss 0.09004812723860196 NOT improved\n",
      "0.08301723741265171\n",
      "Validation loss 0.08301723741265171 NOT improved\n",
      "0.08774790642380846\n",
      "Validation loss 0.08774790642380846 NOT improved\n",
      "0.08492707358315571\n",
      "Validation loss 0.08492707358315571 NOT improved\n",
      "0.09537816781417734\n",
      "Validation loss 0.09537816781417734 NOT improved\n",
      "0.1122741171213095\n",
      "Validation loss 0.1122741171213095 NOT improved\n",
      "0.08394457028201376\n",
      "Validation loss 0.08394457028201376 NOT improved\n",
      "0.10181429952268212\n",
      "Validation loss 0.10181429952268212 NOT improved\n",
      "0.09287752662561942\n",
      "Validation loss 0.09287752662561942 NOT improved\n",
      "0.0912090261832336\n",
      "Validation loss 0.0912090261832336 NOT improved\n",
      "0.1028196031175865\n",
      "Validation loss 0.1028196031175865 NOT improved\n",
      "0.08734093579981705\n",
      "Validation loss 0.08734093579981705 NOT improved\n",
      "0.08441548849035974\n",
      "Validation loss 0.08441548849035974 NOT improved\n",
      "0.08760495513980142\n",
      "Validation loss 0.08760495513980142 NOT improved\n",
      "0.08746262595082752\n",
      "Validation loss 0.08746262595082752 NOT improved\n",
      "0.08535555134972261\n",
      "Validation loss 0.08535555134972261 NOT improved\n",
      "0.08976500583749203\n",
      "Validation loss 0.08976500583749203 NOT improved\n",
      "0.08705484126462576\n",
      "Validation loss 0.08705484126462576 NOT improved\n",
      "0.09381907810410717\n",
      "Validation loss 0.09381907810410717 NOT improved\n",
      "0.08122303333464032\n",
      "Validation loss improved from 0.08122660466101303 to 0.08122303333464032\n",
      "save to: /glade/work/ksha/NCAR/Keras_models/FINAL_HALF_Lead21_pp23\n",
      "INFO:tensorflow:Assets written to: /glade/work/ksha/NCAR/Keras_models/FINAL_HALF_Lead21_pp23/assets\n",
      "--- 236.41572332382202 seconds ---\n"
     ]
    },
    {
     "name": "stderr",
     "output_type": "stream",
     "text": [
      "/glade/work/ksha/anaconda3/lib/python3.9/site-packages/tensorflow/python/data/ops/dataset_ops.py:3503: UserWarning: Even though the tf.config.experimental_run_functions_eagerly option is set, this option does not apply to tf.data functions. tf.data functions are still traced and executed as graphs.\n",
      "  warnings.warn(\n"
     ]
    },
    {
     "name": "stdout",
     "output_type": "stream",
     "text": [
      "0.10137846574447769\n",
      "Validation loss 0.10137846574447769 NOT improved\n",
      "0.08876404495946526\n",
      "Validation loss 0.08876404495946526 NOT improved\n",
      "0.08535697139595282\n",
      "Validation loss 0.08535697139595282 NOT improved\n",
      "0.0858607056135904\n",
      "Validation loss 0.0858607056135904 NOT improved\n",
      "0.09172793941403555\n",
      "Validation loss 0.09172793941403555 NOT improved\n",
      "0.08279267614606609\n",
      "Validation loss 0.08279267614606609 NOT improved\n",
      "0.08911494593993233\n",
      "Validation loss 0.08911494593993233 NOT improved\n",
      "0.08341042364707227\n",
      "Validation loss 0.08341042364707227 NOT improved\n",
      "0.08967960242660433\n",
      "Validation loss 0.08967960242660433 NOT improved\n",
      "0.10469846201418588\n",
      "Validation loss 0.10469846201418588 NOT improved\n",
      "0.08735324140375729\n",
      "Validation loss 0.08735324140375729 NOT improved\n",
      "0.092103832555234\n",
      "Validation loss 0.092103832555234 NOT improved\n",
      "0.0915187706566786\n",
      "Validation loss 0.0915187706566786 NOT improved\n",
      "0.0867816776197886\n",
      "Validation loss 0.0867816776197886 NOT improved\n",
      "0.09517008773702179\n",
      "Validation loss 0.09517008773702179 NOT improved\n",
      "0.08675283898221595\n",
      "Validation loss 0.08675283898221595 NOT improved\n",
      "0.09464610157269723\n",
      "Validation loss 0.09464610157269723 NOT improved\n",
      "0.08805261979815712\n",
      "Validation loss 0.08805261979815712 NOT improved\n",
      "0.09013239208802491\n",
      "Validation loss 0.09013239208802491 NOT improved\n",
      "0.08780504361021195\n",
      "Validation loss 0.08780504361021195 NOT improved\n",
      "0.09240115586921106\n",
      "Validation loss 0.09240115586921106 NOT improved\n",
      "0.08811448515045343\n",
      "Validation loss 0.08811448515045343 NOT improved\n",
      "0.10432113272205665\n",
      "Validation loss 0.10432113272205665 NOT improved\n",
      "0.09777807930459997\n",
      "Validation loss 0.09777807930459997 NOT improved\n",
      "0.10099049250013917\n",
      "Validation loss 0.10099049250013917 NOT improved\n",
      "0.10111381044920632\n",
      "Validation loss 0.10111381044920632 NOT improved\n",
      "0.09661382941830803\n",
      "Validation loss 0.09661382941830803 NOT improved\n",
      "0.09204106686722652\n",
      "Validation loss 0.09204106686722652 NOT improved\n",
      "0.09041357661556984\n",
      "Validation loss 0.09041357661556984 NOT improved\n",
      "0.10315862654916057\n",
      "Validation loss 0.10315862654916057 NOT improved\n",
      "0.09404225320074988\n",
      "Validation loss 0.09404225320074988 NOT improved\n",
      "0.10653254979666892\n",
      "Validation loss 0.10653254979666892 NOT improved\n",
      "0.11065615132215553\n",
      "Validation loss 0.11065615132215553 NOT improved\n",
      "0.09372948227675697\n",
      "Validation loss 0.09372948227675697 NOT improved\n",
      "0.09321650021642254\n",
      "Validation loss 0.09321650021642254 NOT improved\n",
      "0.08800893418537614\n",
      "Validation loss 0.08800893418537614 NOT improved\n",
      "0.10859833383621825\n",
      "Validation loss 0.10859833383621825 NOT improved\n",
      "0.10193077480496425\n",
      "Validation loss 0.10193077480496425 NOT improved\n",
      "0.09326884837825719\n",
      "Validation loss 0.09326884837825719 NOT improved\n",
      "0.0928718663543089\n",
      "Validation loss 0.0928718663543089 NOT improved\n",
      "0.09054038578393234\n",
      "Validation loss 0.09054038578393234 NOT improved\n",
      "0.0906576210383671\n",
      "Validation loss 0.0906576210383671 NOT improved\n",
      "0.0941507179601717\n",
      "Validation loss 0.0941507179601717 NOT improved\n",
      "0.09788365622801395\n",
      "Validation loss 0.09788365622801395 NOT improved\n",
      "0.1081828227024466\n",
      "Validation loss 0.1081828227024466 NOT improved\n",
      "0.09933729842786065\n",
      "Validation loss 0.09933729842786065 NOT improved\n",
      "0.109747273413275\n",
      "Validation loss 0.109747273413275 NOT improved\n",
      "0.09545797196551284\n",
      "Validation loss 0.09545797196551284 NOT improved\n",
      "0.11360633818437983\n",
      "Validation loss 0.11360633818437983 NOT improved\n",
      "0.10847687654901317\n",
      "Validation loss 0.10847687654901317 NOT improved\n",
      "0.0947618952756916\n",
      "Validation loss 0.0947618952756916 NOT improved\n",
      "0.10534261919384738\n",
      "Validation loss 0.10534261919384738 NOT improved\n",
      "0.09912304608600465\n",
      "Validation loss 0.09912304608600465 NOT improved\n",
      "0.09346206533072766\n",
      "Validation loss 0.09346206533072766 NOT improved\n",
      "0.09675657062251368\n",
      "Validation loss 0.09675657062251368 NOT improved\n",
      "0.11012303637860213\n",
      "Validation loss 0.11012303637860213 NOT improved\n",
      "0.11987970201996255\n",
      "Validation loss 0.11987970201996255 NOT improved\n",
      "0.08939476320842514\n",
      "Validation loss 0.08939476320842514 NOT improved\n",
      "0.11285974067378655\n",
      "Validation loss 0.11285974067378655 NOT improved\n",
      "0.10741984443471513\n",
      "Validation loss 0.10741984443471513 NOT improved\n",
      "0.10124441857017874\n",
      "Validation loss 0.10124441857017874 NOT improved\n",
      "0.09024164811872791\n",
      "Validation loss 0.09024164811872791 NOT improved\n",
      "0.10139922582091905\n",
      "Validation loss 0.10139922582091905 NOT improved\n",
      "0.10720569033312907\n",
      "Validation loss 0.10720569033312907 NOT improved\n",
      "0.09739556457491878\n",
      "Validation loss 0.09739556457491878 NOT improved\n",
      "0.10904577817201677\n",
      "Validation loss 0.10904577817201677 NOT improved\n",
      "0.10093155641029893\n",
      "Validation loss 0.10093155641029893 NOT improved\n",
      "0.09981045313386933\n",
      "Validation loss 0.09981045313386933 NOT improved\n",
      "0.10670952730555447\n",
      "Validation loss 0.10670952730555447 NOT improved\n",
      "0.09195397754355117\n",
      "Validation loss 0.09195397754355117 NOT improved\n",
      "0.10896622111991627\n",
      "Validation loss 0.10896622111991627 NOT improved\n",
      "0.10710571177842343\n",
      "Validation loss 0.10710571177842343 NOT improved\n",
      "0.10007960027950442\n",
      "Validation loss 0.10007960027950442 NOT improved\n",
      "0.09716765771401342\n",
      "Validation loss 0.09716765771401342 NOT improved\n",
      "0.10121186959632794\n",
      "Validation loss 0.10121186959632794 NOT improved\n",
      "0.12391201464846119\n",
      "Validation loss 0.12391201464846119 NOT improved\n",
      "0.10080070838908839\n",
      "Validation loss 0.10080070838908839 NOT improved\n",
      "0.10317543658923926\n",
      "Validation loss 0.10317543658923926 NOT improved\n",
      "0.10563478928376456\n",
      "Validation loss 0.10563478928376456 NOT improved\n",
      "0.100576529260899\n",
      "Validation loss 0.100576529260899 NOT improved\n",
      "0.09841568045085909\n",
      "Validation loss 0.09841568045085909 NOT improved\n",
      "0.13267834248813704\n",
      "Validation loss 0.13267834248813704 NOT improved\n",
      "0.10803173572600759\n",
      "Validation loss 0.10803173572600759 NOT improved\n",
      "0.1069230581409346\n",
      "Validation loss 0.1069230581409346 NOT improved\n",
      "0.10963463038294884\n",
      "Validation loss 0.10963463038294884 NOT improved\n",
      "0.12098262044661917\n",
      "Validation loss 0.12098262044661917 NOT improved\n",
      "0.09509143139044487\n",
      "Validation loss 0.09509143139044487 NOT improved\n",
      "0.10311188149471816\n",
      "Validation loss 0.10311188149471816 NOT improved\n"
     ]
    },
    {
     "name": "stderr",
     "output_type": "stream",
     "text": [
      "\n",
      "KeyboardInterrupt\n",
      "\n"
     ]
    }
   ],
   "source": [
    "# ========== Training loop ========== #\n",
    "L_storm = len(filename_neg_train)\n",
    "L_aug = len(filename_pos_train)\n",
    "\n",
    "for i in range(epochs):\n",
    "    \n",
    "    shuffle(filename_neg_train)\n",
    "    shuffle(filename_pos_train)\n",
    "    \n",
    "    #print('epoch = {}'.format(i))\n",
    "    start_time = time.time()\n",
    "    \n",
    "    # loop of batch\n",
    "    for j in range(L_train):\n",
    "        \n",
    "        #N_aug = int(np.random.uniform(2, 14))\n",
    "        N_aug = int(np.random.uniform(8, 14))\n",
    "        #N_aug = int(np.random.uniform(15, 35))\n",
    "        \n",
    "        N_storm = 100 - N_aug\n",
    "        \n",
    "        ind_storm = du.shuffle_ind(L_storm)\n",
    "        ind_aug = du.shuffle_ind(L_aug)\n",
    "        \n",
    "        file_pick_storm = []\n",
    "        for ind_temp in ind_storm[:N_storm]:\n",
    "            file_pick_storm.append(filename_neg_train[ind_temp])\n",
    "\n",
    "        file_pick_aug = []\n",
    "        for ind_temp in ind_aug[:N_aug]:\n",
    "            file_pick_aug.append(filename_pos_train[ind_temp])\n",
    "        \n",
    "        file_pick = file_pick_storm + file_pick_aug\n",
    "        \n",
    "        if len(file_pick) != 100:\n",
    "            sregwet\n",
    "        \n",
    "        for k in range(batch_size):\n",
    "\n",
    "            data = np.load(file_pick[k])\n",
    "            X_batch[k, ...] = data\n",
    "            \n",
    "            if 'pos' in file_pick[k]:\n",
    "                Y_batch[k, :] = 1.0 #np.random.uniform(0.9, 0.99)\n",
    "            elif 'neg_neg_neg' in file_pick[k]:\n",
    "                Y_batch[k, :] = 0.0 #np.random.uniform(0.01, 0.05)\n",
    "            else:\n",
    "                werhgaer\n",
    "                \n",
    "        #Y_batch_cate = tf.keras.utils.to_categorical(Y_batch)\n",
    "        \n",
    "        # # add noise within sparse inputs\n",
    "        # for v in flag_sparse:\n",
    "        #     X_batch[..., v] += np.random.uniform(0, 0.01, size=(batch_size, 128, 128))\n",
    "\n",
    "        # shuffle indices\n",
    "        ind_ = du.shuffle_ind(batch_size)\n",
    "        X_batch = X_batch[ind_, ...]\n",
    "        Y_batch = Y_batch[ind_, :]\n",
    "        \n",
    "        if np.sum(np.isnan(X_batch)) > 0:\n",
    "            asfeargagqarew\n",
    "        \n",
    "        # train on batch\n",
    "        model.train_on_batch([X_batch,], [Y_batch,]);\n",
    "    \n",
    "    # epoch end operations\n",
    "    Y_pred = model.predict([TEST_input,])\n",
    "    # Y_pred[Y_pred<0] = 0\n",
    "    # Y_pred[Y_pred>1] = 1\n",
    "    record_temp = verif_metric(TEST_target, Y_pred)\n",
    "    \n",
    "    # if i % 10 == 0:\n",
    "    #     model.save(model_path_backup)\n",
    "    \n",
    "    if (record - record_temp > min_del) and (np.max(Y_pred) > 0.6):\n",
    "        print('Validation loss improved from {} to {}'.format(record, record_temp))\n",
    "        record = record_temp\n",
    "        tol = 0\n",
    "        #print('tol: {}'.format(tol))\n",
    "        # save\n",
    "        print('save to: {}'.format(model_path))\n",
    "        model.save(model_path)\n",
    "    else:\n",
    "        print('Validation loss {} NOT improved'.format(record_temp))\n",
    "        tol += 1\n",
    "        #print('tol: {}'.format(tol))\n",
    "        if tol >= max_tol:\n",
    "            print('Early stopping')\n",
    "            sys.exit();\n",
    "        else:\n",
    "            #print('Pass to the next epoch')\n",
    "            continue;\n",
    "    print(\"--- %s seconds ---\" % (time.time() - start_time))"
   ]
  },
  {
   "cell_type": "code",
   "execution_count": null,
   "id": "79545757-3242-449d-bd8f-46612af69f7f",
   "metadata": {},
   "outputs": [],
   "source": []
  },
  {
   "cell_type": "code",
   "execution_count": null,
   "id": "25f1c6f0-1c2b-421f-8c3c-d6f54f920135",
   "metadata": {},
   "outputs": [],
   "source": []
  },
  {
   "cell_type": "code",
   "execution_count": 38,
   "id": "baaee327-4cd1-4656-b778-8dadbf4a7c2a",
   "metadata": {},
   "outputs": [
    {
     "data": {
      "text/plain": [
       "123844"
      ]
     },
     "execution_count": 38,
     "metadata": {},
     "output_type": "execute_result"
    }
   ],
   "source": [
    "j"
   ]
  },
  {
   "cell_type": "code",
   "execution_count": null,
   "id": "5e36941d-bcdc-4d6f-a44a-4a30e273ebb7",
   "metadata": {},
   "outputs": [],
   "source": [
    "https://mesonet.agron.iastate.edu/pickup/wwa/"
   ]
  },
  {
   "cell_type": "code",
   "execution_count": null,
   "id": "06d3a65c-c303-47c3-a629-94351ebd3ade",
   "metadata": {},
   "outputs": [],
   "source": []
  },
  {
   "cell_type": "code",
   "execution_count": 29,
   "id": "e4d9a07b-cea7-45dd-81e5-f08f8a50e689",
   "metadata": {},
   "outputs": [
    {
     "data": {
      "text/plain": [
       "1"
      ]
     },
     "execution_count": 29,
     "metadata": {},
     "output_type": "execute_result"
    }
   ],
   "source": [
    "10 % 3"
   ]
  },
  {
   "cell_type": "code",
   "execution_count": null,
   "id": "e83e1ee3-6c58-4da1-8f55-d942b9be9159",
   "metadata": {},
   "outputs": [],
   "source": []
  },
  {
   "cell_type": "code",
   "execution_count": null,
   "id": "c7191747-33d0-453b-8f49-60abd69cb37b",
   "metadata": {},
   "outputs": [],
   "source": []
  },
  {
   "cell_type": "code",
   "execution_count": null,
   "id": "9e03b9ee-0806-40b4-86a5-2375b696fc82",
   "metadata": {},
   "outputs": [],
   "source": []
  }
 ],
 "metadata": {
  "kernelspec": {
   "display_name": "Python 3 (ipykernel)",
   "language": "python",
   "name": "python3"
  },
  "language_info": {
   "codemirror_mode": {
    "name": "ipython",
    "version": 3
   },
   "file_extension": ".py",
   "mimetype": "text/x-python",
   "name": "python",
   "nbconvert_exporter": "python",
   "pygments_lexer": "ipython3",
   "version": "3.9.13"
  }
 },
 "nbformat": 4,
 "nbformat_minor": 5
}
