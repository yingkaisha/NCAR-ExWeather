{
 "cells": [
  {
   "cell_type": "code",
   "execution_count": 1,
   "id": "f7085e38",
   "metadata": {},
   "outputs": [],
   "source": [
    "# general tools\n",
    "import os\n",
    "import sys\n",
    "from glob import glob\n",
    "\n",
    "# data tools\n",
    "import re\n",
    "import time\n",
    "import h5py\n",
    "import random\n",
    "import numpy as np\n",
    "from random import shuffle\n",
    "from datetime import datetime, timedelta"
   ]
  },
  {
   "cell_type": "code",
   "execution_count": 2,
   "id": "8540410f-ac13-4109-ac40-1f145d28b4b2",
   "metadata": {},
   "outputs": [
    {
     "name": "stderr",
     "output_type": "stream",
     "text": [
      "2023-04-17 12:22:29.977300: I tensorflow/stream_executor/platform/default/dso_loader.cc:49] Successfully opened dynamic library libcudart.so.10.1\n"
     ]
    }
   ],
   "source": [
    "from tensorflow import keras"
   ]
  },
  {
   "cell_type": "code",
   "execution_count": 3,
   "id": "4b76c07d-00f1-46fe-804d-b8175b8f3cf9",
   "metadata": {},
   "outputs": [],
   "source": [
    "import importlib"
   ]
  },
  {
   "cell_type": "code",
   "execution_count": 4,
   "id": "ac09dcdf-0dc3-4ecc-82a9-64d5d14de6c3",
   "metadata": {},
   "outputs": [],
   "source": [
    "import matplotlib.pyplot as plt\n",
    "%matplotlib inline"
   ]
  },
  {
   "cell_type": "code",
   "execution_count": 5,
   "id": "5510dcaf-c230-4427-a27b-298fb63dc231",
   "metadata": {},
   "outputs": [],
   "source": [
    "#tf.config.run_functions_eagerly(True)\n",
    "\n",
    "sys.path.insert(0, '/glade/u/home/ksha/NCAR/')\n",
    "sys.path.insert(0, '/glade/u/home/ksha/NCAR/libs/')\n",
    "\n",
    "from namelist import *\n",
    "import data_utils as du\n",
    "import model_utils as mu\n"
   ]
  },
  {
   "cell_type": "code",
   "execution_count": 6,
   "id": "f765a734-5c8c-422e-ad33-cc9331f49cd1",
   "metadata": {},
   "outputs": [
    {
     "data": {
      "text/plain": [
       "<module 'model_utils' from '/glade/u/home/ksha/NCAR/libs/model_utils.py'>"
      ]
     },
     "execution_count": 6,
     "metadata": {},
     "output_type": "execute_result"
    }
   ],
   "source": [
    "importlib.reload(mu)"
   ]
  },
  {
   "cell_type": "code",
   "execution_count": 7,
   "id": "573a546e",
   "metadata": {},
   "outputs": [],
   "source": [
    "# ==================== #\n",
    "weights_round = 1\n",
    "save_round = 2\n",
    "seeds = 777\n",
    "model_prefix_load = 'RE2_smooth_v4x_{}'.format(weights_round) #False\n",
    "model_prefix_save = 'RE2_smooth_v4x_{}'.format(save_round)\n",
    "N_vars = L_vars = 15\n",
    "# ==================== #"
   ]
  },
  {
   "cell_type": "code",
   "execution_count": 8,
   "id": "962d4717",
   "metadata": {},
   "outputs": [
    {
     "name": "stdout",
     "output_type": "stream",
     "text": [
      "v4x, lead2, pos: 1995, neg: 348553\n",
      "v4x, lead3, pos: 1618, neg: 349958\n",
      "v4x, lead4, pos: 1218, neg: 350358\n",
      "v4x, lead5, pos: 962, neg: 350614\n",
      "v4x, lead6, pos: 817, neg: 349731\n",
      "v4x, lead20, pos: 1777, neg: 344659\n",
      "v4x, lead21, pos: 2209, neg: 344227\n",
      "v4x, lead22, pos: 2511, neg: 343925\n",
      "v4x, lead23, pos: 2690, neg: 343746\n",
      "v4, lead2, pos: 2174, neg: 402858\n",
      "v4, lead3, pos: 1724, neg: 403308\n",
      "v4, lead4, pos: 1349, neg: 403683\n",
      "v4, lead5, pos: 1034, neg: 403998\n",
      "v4, lead6, pos: 795, neg: 403209\n",
      "v4, lead20, pos: 1941, neg: 403091\n",
      "v4, lead21, pos: 2446, neg: 402586\n",
      "v4, lead22, pos: 2791, neg: 402241\n",
      "v4, lead23, pos: 2903, neg: 402129\n"
     ]
    }
   ],
   "source": [
    "# ----------------------------------------------------- #\n",
    "# Collect pos and neg batch filenames\n",
    "\n",
    "vers = ['v4x', 'v4'] # HRRR v4, v4x, v4\n",
    "leads = [2, 3, 4, 5, 6, 20, 21, 22, 23]\n",
    "\n",
    "filenames_pos = {}\n",
    "filenames_neg = {}\n",
    "\n",
    "# Identify and separate pos / neg batch files\n",
    "for ver in vers:\n",
    "    for lead in leads:\n",
    "        if ver == 'v3':\n",
    "            path_ = path_batch_v3\n",
    "        elif ver == 'v4':\n",
    "            path_ = path_batch_v4\n",
    "        else:\n",
    "            path_ = path_batch_v4x\n",
    "            \n",
    "        filenames_pos['{}_lead{}'.format(ver, lead)] = sorted(glob(\"{}*pos*lead{}.npy\".format(path_, lead)))\n",
    "        filenames_neg['{}_lead{}'.format(ver, lead)] = sorted(glob(\"{}*neg_neg_neg*lead{}.npy\".format(path_, lead)))\n",
    "        \n",
    "        print('{}, lead{}, pos: {}, neg: {}'.format(ver, lead, len(filenames_pos['{}_lead{}'.format(ver, lead)]), \n",
    "                                             len(filenames_neg['{}_lead{}'.format(ver, lead)])))"
   ]
  },
  {
   "cell_type": "code",
   "execution_count": 9,
   "id": "8e9aed51",
   "metadata": {},
   "outputs": [
    {
     "name": "stdout",
     "output_type": "stream",
     "text": [
      "pos train: 1452 pos valid: 543 neg train: 225736 neg valid 122817\n",
      "pos train: 1187 pos valid: 431 neg train: 226001 neg valid 123957\n",
      "pos train: 898 pos valid: 320 neg train: 226290 neg valid 124068\n",
      "pos train: 721 pos valid: 241 neg train: 226467 neg valid 124147\n",
      "pos train: 598 pos valid: 219 neg train: 225562 neg valid 124169\n",
      "pos train: 1136 pos valid: 641 neg train: 220912 neg valid 123747\n",
      "pos train: 1426 pos valid: 783 neg train: 220622 neg valid 123605\n",
      "pos train: 1656 pos valid: 855 neg train: 220392 neg valid 123533\n",
      "pos train: 1800 pos valid: 890 neg train: 220248 neg valid 123498\n",
      "pos train: 0 pos valid: 13 neg train: 0 neg valid 29799\n",
      "pos train: 0 pos valid: 10 neg train: 0 neg valid 29802\n",
      "pos train: 0 pos valid: 8 neg train: 0 neg valid 29804\n",
      "pos train: 0 pos valid: 8 neg train: 0 neg valid 29804\n",
      "pos train: 0 pos valid: 8 neg train: 0 neg valid 29804\n",
      "pos train: 0 pos valid: 7 neg train: 0 neg valid 29805\n",
      "pos train: 0 pos valid: 7 neg train: 0 neg valid 29805\n",
      "pos train: 0 pos valid: 11 neg train: 0 neg valid 29801\n",
      "pos train: 0 pos valid: 10 neg train: 0 neg valid 29802\n"
     ]
    }
   ],
   "source": [
    "# ----------------------------------------------------- #\n",
    "# Separate train and valid from pos / neg batches\n",
    "filenames_pos_train = {}\n",
    "filenames_neg_train = {}\n",
    "\n",
    "filenames_pos_valid = {}\n",
    "filenames_neg_valid = {}\n",
    "\n",
    "for ver in vers:\n",
    "    for lead in leads:\n",
    "        temp_namelist_pos = filenames_pos['{}_lead{}'.format(ver, lead)]\n",
    "        temp_namelist_neg = filenames_neg['{}_lead{}'.format(ver, lead)]\n",
    "        \n",
    "        pos_train, pos_valid = mu.name_extract(temp_namelist_pos)\n",
    "        neg_train, neg_valid = mu.name_extract(temp_namelist_neg)\n",
    "        \n",
    "        print('pos train: {} pos valid: {} neg train: {} neg valid {}'.format(len(pos_train), len(pos_valid), len(neg_train),len(neg_valid)))\n",
    "        \n",
    "        filenames_pos_train['{}_lead{}'.format(ver, lead)] = pos_train\n",
    "        filenames_neg_train['{}_lead{}'.format(ver, lead)] = neg_train\n",
    "        \n",
    "        filenames_pos_valid['{}_lead{}'.format(ver, lead)] = pos_valid\n",
    "        filenames_neg_valid['{}_lead{}'.format(ver, lead)] = neg_valid"
   ]
  },
  {
   "cell_type": "code",
   "execution_count": 10,
   "id": "bc2cbcc3",
   "metadata": {},
   "outputs": [],
   "source": [
    "# ------------------------------------------------------------------ #\n",
    "# Merge train/valid and pos/neg batch files from multiple lead times\n",
    "pos_train_all = []\n",
    "neg_train_all = []\n",
    "pos_valid_all = []\n",
    "neg_valid_all = []\n",
    "\n",
    "for ver in vers:\n",
    "    for lead in leads:\n",
    "        pos_train_all += filenames_pos_train['{}_lead{}'.format(ver, lead)]\n",
    "        neg_train_all += filenames_neg_train['{}_lead{}'.format(ver, lead)]\n",
    "        pos_valid_all += filenames_pos_valid['{}_lead{}'.format(ver, lead)]\n",
    "        neg_valid_all += filenames_neg_valid['{}_lead{}'.format(ver, lead)]"
   ]
  },
  {
   "cell_type": "code",
   "execution_count": 11,
   "id": "930092a0",
   "metadata": {},
   "outputs": [],
   "source": [
    "pos_train_v4x = []\n",
    "neg_train_v4x = []\n",
    "\n",
    "pos_train_v4 = []\n",
    "neg_train_v4 = []\n",
    "\n",
    "for lead in leads:\n",
    "    pos_train_v4x += filenames_pos_train['{}_lead{}'.format('v4x', lead)]\n",
    "    neg_train_v4x += filenames_neg_train['{}_lead{}'.format('v4x', lead)]\n",
    "    \n",
    "    pos_train_v4 += filenames_pos_train['{}_lead{}'.format('v4', lead)]\n",
    "    neg_train_v4 += filenames_neg_train['{}_lead{}'.format('v4', lead)]"
   ]
  },
  {
   "cell_type": "code",
   "execution_count": 12,
   "id": "a6154a96",
   "metadata": {},
   "outputs": [],
   "source": [
    "def neighbour_leads(lead):\n",
    "    out = [lead-2, lead-1, lead, lead+1]\n",
    "    flag_shift = [0, 0, 0, 0]\n",
    "    \n",
    "    for i in range(4):\n",
    "        if out[i] < 0:\n",
    "            out[i] = 24+out[i]\n",
    "            flag_shift[i] = -1\n",
    "        if out[i] > 23:\n",
    "            out[i] = out[i]-24\n",
    "            flag_shift[i] = +1\n",
    "            \n",
    "    return out, flag_shift"
   ]
  },
  {
   "cell_type": "code",
   "execution_count": null,
   "id": "bbff23d2",
   "metadata": {},
   "outputs": [],
   "source": []
  },
  {
   "cell_type": "code",
   "execution_count": 13,
   "id": "4ccf294c",
   "metadata": {},
   "outputs": [
    {
     "name": "stdout",
     "output_type": "stream",
     "text": [
      "Collect HRRR v4x labels ...\n",
      "... Done. Collect HRRR v4 labels ...\n",
      "... Done\n",
      "Collect HRRR v4x labels ...\n",
      "... Done. Collect HRRR v4 labels ...\n",
      "... Done\n",
      "Collect HRRR v4x labels ...\n",
      "... Done. Collect HRRR v4 labels ...\n",
      "... Done\n",
      "Collect HRRR v4x labels ...\n",
      "... Done. Collect HRRR v4 labels ...\n",
      "... Done\n",
      "Collect HRRR v4x labels ...\n",
      "... Done. Collect HRRR v4 labels ...\n",
      "... Done\n",
      "Collect HRRR v4x labels ...\n",
      "... Done. Collect HRRR v4 labels ...\n",
      "... Done\n",
      "Collect HRRR v4x labels ...\n",
      "... Done. Collect HRRR v4 labels ...\n",
      "... Done\n",
      "Collect HRRR v4x labels ...\n",
      "... Done. Collect HRRR v4 labels ...\n",
      "... Done\n",
      "Collect HRRR v4x labels ...\n",
      "... Done. Collect HRRR v4 labels ...\n",
      "... Done\n"
     ]
    }
   ],
   "source": [
    "#label_smooth_v3 = ()\n",
    "label_smooth_v4x = ()\n",
    "label_smooth_v4 = ()\n",
    "\n",
    "for lead in leads:\n",
    "\n",
    "    lead_window, flag_shift = neighbour_leads(lead)\n",
    "    \n",
    "    print('Collect HRRR v4x labels ...')\n",
    "    \n",
    "    record_all = ()\n",
    "\n",
    "    for i, lead_temp in enumerate(lead_window):\n",
    "\n",
    "        flag_ = flag_shift[i]\n",
    "\n",
    "        with h5py.File(save_dir_scratch+'SPC_to_lead{}_72km_v4x.hdf'.format(lead_temp), 'r') as h5io:\n",
    "            record_temp = h5io['record_v4x'][...]\n",
    "\n",
    "        if flag_shift[i] == 0:\n",
    "            record_all = record_all + (record_temp,)\n",
    "\n",
    "        if flag_shift[i] == -1:\n",
    "            record_temp[1:, ...] = record_temp[:-1, ...]\n",
    "            record_temp[0, ...] = np.nan\n",
    "            record_all = record_all + (record_temp,)\n",
    "\n",
    "        if flag_shift[i] == +1:\n",
    "            record_temp[:-1, ...] = record_temp[1:, ...]\n",
    "            record_temp[-1, ...] = np.nan\n",
    "            record_all = record_all + (record_temp,)\n",
    "\n",
    "\n",
    "    shape_record = record_temp.shape      \n",
    "    record_v4x = np.empty(shape_record)\n",
    "    record_v4x[...] = np.nan\n",
    "\n",
    "    for i in range(4):\n",
    "        record_temp = record_all[i]\n",
    "        for day in range(shape_record[0]):\n",
    "            for ix in range(shape_record[1]):\n",
    "                for iy in range(shape_record[2]):\n",
    "                    for event in range(shape_record[3]):\n",
    "                        if record_temp[day, ix, iy, event] > 0:\n",
    "                            record_v4x[day, ix, iy, event] = 1.0\n",
    "                        elif record_v4x[day, ix, iy, event] == 1.0:\n",
    "                            record_v4x[day, ix, iy, event] = 1.0\n",
    "                        else:\n",
    "                            record_v4x[day, ix, iy, event] = 0.0\n",
    "    \n",
    "    label_smooth_v4x += (record_v4x[None, ...],)\n",
    "    \n",
    "    print('... Done. Collect HRRR v4 labels ...')\n",
    "    \n",
    "    record_all = ()\n",
    "    \n",
    "    for i, lead_temp in enumerate(lead_window):\n",
    "\n",
    "        flag_ = flag_shift[i]\n",
    "\n",
    "        with h5py.File(save_dir_scratch+'SPC_to_lead{}_72km_all.hdf'.format(lead_temp), 'r') as h5io:\n",
    "            record_temp = h5io['record_v4'][...]\n",
    "\n",
    "        if flag_shift[i] == 0:\n",
    "            record_all = record_all + (record_temp,)\n",
    "\n",
    "        if flag_shift[i] == -1:\n",
    "            record_temp[1:, ...] = record_temp[:-1, ...]\n",
    "            record_temp[0, ...] = np.nan\n",
    "            record_all = record_all + (record_temp,)\n",
    "\n",
    "        if flag_shift[i] == +1:\n",
    "            record_temp[:-1, ...] = record_temp[1:, ...]\n",
    "            record_temp[-1, ...] = np.nan\n",
    "            record_all = record_all + (record_temp,)\n",
    "            \n",
    "            \n",
    "    shape_record = record_temp.shape      \n",
    "    record_v4 = np.empty(shape_record)\n",
    "    record_v4[...] = 0.0 #np.nan\n",
    "\n",
    "    for i in range(4):\n",
    "        record_temp = record_all[i]\n",
    "        for day in range(shape_record[0]):\n",
    "            for ix in range(shape_record[1]):\n",
    "                for iy in range(shape_record[2]):\n",
    "                    for event in range(shape_record[3]):\n",
    "                        if record_temp[day, ix, iy, event] > 0:\n",
    "                            record_v4[day, ix, iy, event] = 1.0\n",
    "                        elif record_v4[day, ix, iy, event] == 1.0:\n",
    "                            record_v4[day, ix, iy, event] = 1.0\n",
    "                        else:\n",
    "                            record_v4[day, ix, iy, event] = 0.0\n",
    "                            \n",
    "    label_smooth_v4 += (record_v4[None, ...],)\n",
    "    \n",
    "    print('... Done')"
   ]
  },
  {
   "cell_type": "code",
   "execution_count": 14,
   "id": "52156402",
   "metadata": {},
   "outputs": [],
   "source": [
    "# label smoothing operations\n",
    "# plt.pcolormesh(np.sum(label_smooth_v3[0], axis=-1)[0, 1, ...])\n",
    "# No v4 data were applied for training"
   ]
  },
  {
   "cell_type": "code",
   "execution_count": 15,
   "id": "701f9c94",
   "metadata": {},
   "outputs": [],
   "source": [
    "label_concat_v4x = np.concatenate(label_smooth_v4x, axis=0)\n",
    "label_concat_v4 = np.concatenate(label_smooth_v4, axis=0)"
   ]
  },
  {
   "cell_type": "code",
   "execution_count": 16,
   "id": "d768b6d3",
   "metadata": {},
   "outputs": [],
   "source": [
    "label_concat_v4 = np.sum(label_concat_v4, axis=-1)\n",
    "label_concat_v4[label_concat_v4>1] = 1\n",
    "\n",
    "label_concat_v4x = np.sum(label_concat_v4x, axis=-1)\n",
    "label_concat_v4x[label_concat_v4x>1] = 1"
   ]
  },
  {
   "cell_type": "code",
   "execution_count": 17,
   "id": "66c89bae-458c-44ca-9c9d-2059927d447e",
   "metadata": {},
   "outputs": [],
   "source": [
    "import scipy.ndimage"
   ]
  },
  {
   "cell_type": "code",
   "execution_count": 18,
   "id": "5991e65d-c4d1-4398-adbf-fdb6bc229e5e",
   "metadata": {},
   "outputs": [],
   "source": [
    "shape_label_v4 = label_concat_v4.shape\n",
    "shape_label_v4x = label_concat_v4x.shape"
   ]
  },
  {
   "cell_type": "code",
   "execution_count": 19,
   "id": "f0dec036-9b36-4432-ab46-5e4261cff0f1",
   "metadata": {},
   "outputs": [],
   "source": [
    "label_final_v4 = np.empty(shape_label_v4)\n",
    "label_final_v4x = np.empty(shape_label_v4x)"
   ]
  },
  {
   "cell_type": "code",
   "execution_count": 20,
   "id": "46c82626-1ee0-48f7-8a28-90212500a0d9",
   "metadata": {},
   "outputs": [],
   "source": [
    "for i in range(shape_label_v4[0]):\n",
    "    for j in range(shape_label_v4[1]):\n",
    "        label_final_v4[i, j, ...] = scipy.ndimage.gaussian_filter(label_concat_v4[i, j], sigma=2.0)"
   ]
  },
  {
   "cell_type": "code",
   "execution_count": 21,
   "id": "5cac6b3c-3fb6-49dc-99bc-4c76985bbaad",
   "metadata": {},
   "outputs": [],
   "source": [
    "for i in range(shape_label_v4x[0]):\n",
    "    for j in range(shape_label_v4x[1]):\n",
    "        label_final_v4x[i, j, ...] = scipy.ndimage.gaussian_filter(label_concat_v4x[i, j], sigma=2.0)"
   ]
  },
  {
   "cell_type": "code",
   "execution_count": 22,
   "id": "9dc4a662-09ad-4eb6-99f7-0df770741521",
   "metadata": {},
   "outputs": [],
   "source": [
    "# f_v4 = np.max(label_final_v4)\n",
    "# f_v4x = np.max(label_final_v4x)"
   ]
  },
  {
   "cell_type": "code",
   "execution_count": 23,
   "id": "2559420a",
   "metadata": {},
   "outputs": [],
   "source": [
    "def filename_to_loc(filenames):\n",
    "    lead_out = []\n",
    "    indx_out = []\n",
    "    indy_out = []\n",
    "    day_out = []\n",
    "    \n",
    "    for i, name in enumerate(filenames):\n",
    "        \n",
    "        nums = re.findall(r'\\d+', name)\n",
    "        \n",
    "        lead = int(nums[-1])\n",
    "        indy = int(nums[-2])\n",
    "        indx = int(nums[-3])\n",
    "        day = int(nums[-4])\n",
    "      \n",
    "        indx_out.append(indx)\n",
    "        indy_out.append(indy)\n",
    "        day_out.append(day)\n",
    "        lead_out.append(lead)\n",
    "        \n",
    "    return np.array(indx_out), np.array(indy_out), np.array(day_out), np.array(lead_out)"
   ]
  },
  {
   "cell_type": "code",
   "execution_count": 24,
   "id": "2f510e17-fd5d-4fb7-8cee-5ac072d953a3",
   "metadata": {},
   "outputs": [],
   "source": [
    "indx_pos_train_v4x, indy_pos_train_v4x, day_pos_train_v4x, lead_pos_train_v4x = filename_to_loc(pos_train_v4x)\n",
    "indx_neg_train_v4x, indy_neg_train_v4x, day_neg_train_v4x, lead_neg_train_v4x = filename_to_loc(neg_train_v4x)\n",
    "\n",
    "# leads = [2, 3, 4, 5, 6, 20, 21, 22, 23]\n",
    "\n",
    "lead_pos_train_v4x = lead_pos_train_v4x - 2\n",
    "lead_pos_train_v4x[lead_pos_train_v4x==18] = 5\n",
    "lead_pos_train_v4x[lead_pos_train_v4x==19] = 6\n",
    "lead_pos_train_v4x[lead_pos_train_v4x==20] = 7\n",
    "lead_pos_train_v4x[lead_pos_train_v4x==21] = 8\n",
    "\n",
    "lead_neg_train_v4x = lead_neg_train_v4x - 2\n",
    "lead_neg_train_v4x[lead_neg_train_v4x==18] = 5\n",
    "lead_neg_train_v4x[lead_neg_train_v4x==19] = 6\n",
    "lead_neg_train_v4x[lead_neg_train_v4x==20] = 7\n",
    "lead_neg_train_v4x[lead_neg_train_v4x==21] = 8"
   ]
  },
  {
   "cell_type": "code",
   "execution_count": 25,
   "id": "8fc6406f-9f50-41d1-9c30-812468531012",
   "metadata": {},
   "outputs": [],
   "source": [
    "y_pos_train_v4x = label_final_v4x[lead_pos_train_v4x, day_pos_train_v4x, indx_pos_train_v4x, indy_pos_train_v4x]\n",
    "y_neg_train_v4x = label_final_v4x[lead_neg_train_v4x, day_neg_train_v4x, indx_neg_train_v4x, indy_neg_train_v4x]"
   ]
  },
  {
   "cell_type": "code",
   "execution_count": 26,
   "id": "44da8499-0378-442f-8157-6ef032ccfb36",
   "metadata": {},
   "outputs": [],
   "source": [
    "# plt.hist(y_pos_train_v4x, log=True, density=True);\n",
    "# plt.hist(y_neg_train_v4x, log=True, density=True);"
   ]
  },
  {
   "cell_type": "code",
   "execution_count": 27,
   "id": "92fad923",
   "metadata": {},
   "outputs": [],
   "source": [
    "#vers = ['v3', 'v4x', 'v4']\n",
    "y_pos_train_all = y_pos_train_v4x\n",
    "y_neg_train_all = y_neg_train_v4x"
   ]
  },
  {
   "cell_type": "code",
   "execution_count": 28,
   "id": "f89cb2da-9cc8-4269-94a2-dc9707e08c8a",
   "metadata": {},
   "outputs": [],
   "source": [
    "y_pos_train_all_adjust = np.copy(y_pos_train_all) + 0.75\n",
    "y_pos_train_all_adjust[y_pos_train_all_adjust>0.99] = 0.99"
   ]
  },
  {
   "cell_type": "code",
   "execution_count": 29,
   "id": "393b102a-9c1d-4a3f-b691-a1afb6dab77a",
   "metadata": {},
   "outputs": [],
   "source": [
    "y_neg_train_all_adjust = np.copy(y_neg_train_all)\n",
    "y_neg_train_all_adjust[y_neg_train_all_adjust>0.19] = 0.19"
   ]
  },
  {
   "cell_type": "code",
   "execution_count": 30,
   "id": "14f54bab-2b69-44a6-9726-e1ca82512366",
   "metadata": {},
   "outputs": [],
   "source": [
    "ind_pick_from_batch = [0, 1, 2, 3, 4, 5, 6, 7, 8, 9, 10, 11, 12, 13, 14]"
   ]
  },
  {
   "cell_type": "code",
   "execution_count": 31,
   "id": "2f8e4796-6e4d-4989-bfd7-7e28a9daddbe",
   "metadata": {},
   "outputs": [
    {
     "name": "stdout",
     "output_type": "stream",
     "text": [
      "number of validation batches: 6666\n"
     ]
    }
   ],
   "source": [
    "# ----------------------------------------------------------------- #\n",
    "# Load valid files for model training\n",
    "\n",
    "filename_valid = neg_valid_all[::220] + pos_valid_all[::13]\n",
    "#filename_valid = filename_valid[::2]\n",
    "L_valid = len(filename_valid)\n",
    "print('number of validation batches: {}'.format(L_valid))"
   ]
  },
  {
   "cell_type": "code",
   "execution_count": 32,
   "id": "1153b95b",
   "metadata": {},
   "outputs": [],
   "source": [
    "VALID_input_64 = np.empty((L_valid, 64, 64, L_vars))\n",
    "VALID_target = np.ones(L_valid)\n",
    "\n",
    "for i, name in enumerate(filename_valid):\n",
    "    data = np.load(name)\n",
    "    for k, c in enumerate(ind_pick_from_batch):\n",
    "        \n",
    "        VALID_input_64[i, ..., k] = data[..., c]\n",
    "\n",
    "        if 'pos' in name:\n",
    "            VALID_target[i] = 1.0\n",
    "        else:\n",
    "            VALID_target[i] = 0.0"
   ]
  },
  {
   "cell_type": "code",
   "execution_count": null,
   "id": "4b33159f",
   "metadata": {},
   "outputs": [],
   "source": []
  },
  {
   "cell_type": "code",
   "execution_count": 33,
   "id": "bff6cc71",
   "metadata": {},
   "outputs": [
    {
     "name": "stderr",
     "output_type": "stream",
     "text": [
      "2023-04-17 12:40:18.331080: I tensorflow/compiler/jit/xla_cpu_device.cc:41] Not creating XLA devices, tf_xla_enable_xla_devices not set\n",
      "2023-04-17 12:40:18.334346: I tensorflow/stream_executor/platform/default/dso_loader.cc:49] Successfully opened dynamic library libcuda.so.1\n",
      "2023-04-17 12:40:18.444990: I tensorflow/core/common_runtime/gpu/gpu_device.cc:1720] Found device 0 with properties: \n",
      "pciBusID: 0000:61:00.0 name: Tesla V100-SXM2-32GB computeCapability: 7.0\n",
      "coreClock: 1.53GHz coreCount: 80 deviceMemorySize: 31.75GiB deviceMemoryBandwidth: 836.37GiB/s\n",
      "2023-04-17 12:40:18.445118: I tensorflow/stream_executor/platform/default/dso_loader.cc:49] Successfully opened dynamic library libcudart.so.10.1\n",
      "2023-04-17 12:40:18.674405: I tensorflow/stream_executor/platform/default/dso_loader.cc:49] Successfully opened dynamic library libcublas.so.10\n",
      "2023-04-17 12:40:18.674494: I tensorflow/stream_executor/platform/default/dso_loader.cc:49] Successfully opened dynamic library libcublasLt.so.10\n",
      "2023-04-17 12:40:18.744999: I tensorflow/stream_executor/platform/default/dso_loader.cc:49] Successfully opened dynamic library libcufft.so.10\n",
      "2023-04-17 12:40:18.901347: I tensorflow/stream_executor/platform/default/dso_loader.cc:49] Successfully opened dynamic library libcurand.so.10\n",
      "2023-04-17 12:40:19.003263: I tensorflow/stream_executor/platform/default/dso_loader.cc:49] Successfully opened dynamic library libcusolver.so.10\n",
      "2023-04-17 12:40:19.127490: I tensorflow/stream_executor/platform/default/dso_loader.cc:49] Successfully opened dynamic library libcusparse.so.10\n",
      "2023-04-17 12:40:19.345722: I tensorflow/stream_executor/platform/default/dso_loader.cc:49] Successfully opened dynamic library libcudnn.so.7\n",
      "2023-04-17 12:40:19.346512: I tensorflow/core/common_runtime/gpu/gpu_device.cc:1862] Adding visible gpu devices: 0\n",
      "2023-04-17 12:40:19.364151: I tensorflow/core/platform/cpu_feature_guard.cc:142] This TensorFlow binary is optimized with oneAPI Deep Neural Network Library (oneDNN) to use the following CPU instructions in performance-critical operations:  SSE4.1 SSE4.2 AVX AVX2 AVX512F FMA\n",
      "To enable them in other operations, rebuild TensorFlow with the appropriate compiler flags.\n",
      "2023-04-17 12:40:19.364404: I tensorflow/compiler/jit/xla_gpu_device.cc:99] Not creating XLA devices, tf_xla_enable_xla_devices not set\n",
      "2023-04-17 12:40:19.364873: I tensorflow/core/common_runtime/gpu/gpu_device.cc:1720] Found device 0 with properties: \n",
      "pciBusID: 0000:61:00.0 name: Tesla V100-SXM2-32GB computeCapability: 7.0\n",
      "coreClock: 1.53GHz coreCount: 80 deviceMemorySize: 31.75GiB deviceMemoryBandwidth: 836.37GiB/s\n",
      "2023-04-17 12:40:19.364911: I tensorflow/stream_executor/platform/default/dso_loader.cc:49] Successfully opened dynamic library libcudart.so.10.1\n",
      "2023-04-17 12:40:19.364937: I tensorflow/stream_executor/platform/default/dso_loader.cc:49] Successfully opened dynamic library libcublas.so.10\n",
      "2023-04-17 12:40:19.364947: I tensorflow/stream_executor/platform/default/dso_loader.cc:49] Successfully opened dynamic library libcublasLt.so.10\n",
      "2023-04-17 12:40:19.364957: I tensorflow/stream_executor/platform/default/dso_loader.cc:49] Successfully opened dynamic library libcufft.so.10\n",
      "2023-04-17 12:40:19.364966: I tensorflow/stream_executor/platform/default/dso_loader.cc:49] Successfully opened dynamic library libcurand.so.10\n",
      "2023-04-17 12:40:19.364975: I tensorflow/stream_executor/platform/default/dso_loader.cc:49] Successfully opened dynamic library libcusolver.so.10\n",
      "2023-04-17 12:40:19.364984: I tensorflow/stream_executor/platform/default/dso_loader.cc:49] Successfully opened dynamic library libcusparse.so.10\n",
      "2023-04-17 12:40:19.364994: I tensorflow/stream_executor/platform/default/dso_loader.cc:49] Successfully opened dynamic library libcudnn.so.7\n",
      "2023-04-17 12:40:19.365499: I tensorflow/core/common_runtime/gpu/gpu_device.cc:1862] Adding visible gpu devices: 0\n",
      "2023-04-17 12:40:19.365552: I tensorflow/stream_executor/platform/default/dso_loader.cc:49] Successfully opened dynamic library libcudart.so.10.1\n",
      "2023-04-17 12:40:22.596048: I tensorflow/core/common_runtime/gpu/gpu_device.cc:1261] Device interconnect StreamExecutor with strength 1 edge matrix:\n",
      "2023-04-17 12:40:22.596093: I tensorflow/core/common_runtime/gpu/gpu_device.cc:1267]      0 \n",
      "2023-04-17 12:40:22.596135: I tensorflow/core/common_runtime/gpu/gpu_device.cc:1280] 0:   N \n",
      "2023-04-17 12:40:22.597329: I tensorflow/core/common_runtime/gpu/gpu_device.cc:1406] Created TensorFlow device (/job:localhost/replica:0/task:0/device:GPU:0 with 30132 MB memory) -> physical GPU (device: 0, name: Tesla V100-SXM2-32GB, pci bus id: 0000:61:00.0, compute capability: 7.0)\n"
     ]
    }
   ],
   "source": [
    "# ----------------------------------------------------------------- #\n",
    "# model and weights\n",
    "model_head = mu.create_model_head(input_shape=(128,), N_node=64)\n",
    "model_base = mu.create_model_base(input_shape=(64, 64, 15), depths=[3, 3, 27, 3], projection_dims=[32, 64, 96, 128])\n",
    "\n",
    "IN = keras.layers.Input(shape=(64, 64, 15))\n",
    "\n",
    "VEC = model_base(IN)\n",
    "OUT = model_head(VEC)\n",
    "\n",
    "model_final = keras.models.Model(inputs=IN, outputs=OUT)"
   ]
  },
  {
   "cell_type": "code",
   "execution_count": null,
   "id": "21c6a1d0",
   "metadata": {},
   "outputs": [],
   "source": []
  },
  {
   "cell_type": "code",
   "execution_count": 34,
   "id": "c79db583",
   "metadata": {},
   "outputs": [],
   "source": [
    "# ============================================= #\n",
    "# Weights\n",
    "\n",
    "if weights_round > 0:\n",
    "    if model_prefix_load:\n",
    "        W_old = mu.dummy_loader('/glade/work/ksha/NCAR/Keras_models/{}/'.format(model_prefix_load))\n",
    "        model_final.set_weights(W_old)\n",
    "    \n",
    "model_final.compile(loss=keras.losses.BinaryCrossentropy(from_logits=False), optimizer=keras.optimizers.Adam(lr=1e-5))\n"
   ]
  },
  {
   "cell_type": "code",
   "execution_count": null,
   "id": "c46875f0",
   "metadata": {},
   "outputs": [],
   "source": []
  },
  {
   "cell_type": "code",
   "execution_count": 35,
   "id": "dc105378",
   "metadata": {},
   "outputs": [
    {
     "name": "stdout",
     "output_type": "stream",
     "text": [
      "0.026994786611353586\n"
     ]
    }
   ],
   "source": [
    "# ----------------------------------------------------------------- #\n",
    "# model training loop\n",
    "Y_pred = model_final.predict([VALID_input_64])\n",
    "record_temp = mu.verif_metric(VALID_target, Y_pred)"
   ]
  },
  {
   "cell_type": "code",
   "execution_count": 36,
   "id": "c17de5a5",
   "metadata": {},
   "outputs": [
    {
     "name": "stdout",
     "output_type": "stream",
     "text": [
      "0.03252324946707268\n"
     ]
    }
   ],
   "source": [
    "# Change based on smoothed labels\n",
    "print(record_temp)"
   ]
  },
  {
   "cell_type": "code",
   "execution_count": 37,
   "id": "b4b9d592-2dde-4e88-aeba-eb49050a3bd5",
   "metadata": {},
   "outputs": [
    {
     "data": {
      "text/plain": [
       "[<matplotlib.lines.Line2D at 0x2b3ebb796640>]"
      ]
     },
     "execution_count": 37,
     "metadata": {},
     "output_type": "execute_result"
    },
    {
     "data": {
      "image/png": "[encoded data removed]",
      "text/plain": [
       "<Figure size 640x480 with 1 Axes>"
      ]
     },
     "metadata": {},
     "output_type": "display_data"
    }
   ],
   "source": [
    "plt.plot(Y_pred)"
   ]
  },
  {
   "cell_type": "code",
   "execution_count": 38,
   "id": "e218ac37",
   "metadata": {},
   "outputs": [
    {
     "name": "stdout",
     "output_type": "stream",
     "text": [
      "Initial record: 0.03252324946707268\n",
      "0.031898757946693654\n",
      "Validation loss improved from 0.03252324946707268 to 0.031898757946693654\n",
      "save to: /glade/work/ksha/NCAR/Keras_models/RE2_smooth_v4x_2\n"
     ]
    },
    {
     "name": "stderr",
     "output_type": "stream",
     "text": [
      "2023-04-17 12:47:00.373105: W tensorflow/python/util/util.cc:348] Sets are not currently considered sequences, but this may change in the future, so consider avoiding using them.\n"
     ]
    },
    {
     "name": "stdout",
     "output_type": "stream",
     "text": [
      "INFO:tensorflow:Assets written to: /glade/work/ksha/NCAR/Keras_models/RE2_smooth_v4x_2/assets\n",
      "--- 383.02738094329834 seconds ---\n",
      "0.03195855049616534\n",
      "Validation loss 0.03195855049616534 NOT improved\n",
      "0.03193827331039154\n",
      "Validation loss 0.03193827331039154 NOT improved\n",
      "0.03204625027728145\n",
      "Validation loss 0.03204625027728145 NOT improved\n",
      "0.03317368876291731\n",
      "Validation loss 0.03317368876291731 NOT improved\n",
      "0.032331024322279876\n",
      "Validation loss 0.032331024322279876 NOT improved\n",
      "0.03274739966275104\n",
      "Validation loss 0.03274739966275104 NOT improved\n",
      "0.031945524712653696\n",
      "Validation loss 0.031945524712653696 NOT improved\n",
      "0.03156875023234683\n",
      "Validation loss improved from 0.031898757946693654 to 0.03156875023234683\n",
      "save to: /glade/work/ksha/NCAR/Keras_models/RE2_smooth_v4x_2\n",
      "INFO:tensorflow:Assets written to: /glade/work/ksha/NCAR/Keras_models/RE2_smooth_v4x_2/assets\n",
      "--- 478.7881586551666 seconds ---\n",
      "0.03178283036363374\n",
      "Validation loss 0.03178283036363374 NOT improved\n",
      "0.03210459273198945\n",
      "Validation loss 0.03210459273198945 NOT improved\n",
      "0.03234543518557515\n",
      "Validation loss 0.03234543518557515 NOT improved\n",
      "0.03187839773230609\n",
      "Validation loss 0.03187839773230609 NOT improved\n",
      "0.03211856071142649\n",
      "Validation loss 0.03211856071142649 NOT improved\n",
      "0.031201981751673703\n",
      "Validation loss 0.031201981751673703 NOT improved\n",
      "0.03218229707449447\n",
      "Validation loss 0.03218229707449447 NOT improved\n",
      "0.03079308686915384\n",
      "Validation loss improved from 0.0311483169496983 to 0.03079308686915384\n",
      "save to: /glade/work/ksha/NCAR/Keras_models/RE2_smooth_v4x_2\n",
      "INFO:tensorflow:Assets written to: /glade/work/ksha/NCAR/Keras_models/RE2_smooth_v4x_2/assets\n",
      "--- 459.75089049339294 seconds ---\n",
      "0.031203331349524358\n",
      "Validation loss 0.031203331349524358 NOT improved\n",
      "0.031090376758026162\n",
      "Validation loss 0.031090376758026162 NOT improved\n",
      "0.03313786113841043\n",
      "Validation loss 0.03313786113841043 NOT improved\n",
      "0.032413653124212176\n",
      "Validation loss 0.032413653124212176 NOT improved\n",
      "0.03132264295326453\n",
      "Validation loss 0.03132264295326453 NOT improved\n",
      "0.030882767743094123\n",
      "Validation loss 0.030882767743094123 NOT improved\n",
      "0.031028295409439195\n",
      "Validation loss 0.031028295409439195 NOT improved\n",
      "0.031349141476172224\n",
      "Validation loss 0.031349141476172224 NOT improved\n",
      "0.03120598195896112\n",
      "Validation loss 0.03120598195896112 NOT improved\n",
      "0.031146700773363945\n",
      "Validation loss 0.031146700773363945 NOT improved\n",
      "0.030839667492789633\n",
      "Validation loss 0.030839667492789633 NOT improved\n",
      "0.03132323725295448\n",
      "Validation loss 0.03132323725295448 NOT improved\n",
      "0.030945613788345632\n",
      "Validation loss 0.030945613788345632 NOT improved\n",
      "0.030557916011479662\n",
      "Validation loss improved from 0.03079308686915384 to 0.030557916011479662\n",
      "save to: /glade/work/ksha/NCAR/Keras_models/RE2_smooth_v4x_2\n",
      "INFO:tensorflow:Assets written to: /glade/work/ksha/NCAR/Keras_models/RE2_smooth_v4x_2/assets\n",
      "--- 943.3546965122223 seconds ---\n",
      "0.030837420461426377\n",
      "Validation loss 0.030837420461426377 NOT improved\n",
      "0.03131614383343747\n",
      "Validation loss 0.03131614383343747 NOT improved\n",
      "0.030314034536032614\n",
      "Validation loss improved from 0.030557916011479662 to 0.030314034536032614\n",
      "save to: /glade/work/ksha/NCAR/Keras_models/RE2_smooth_v4x_2\n",
      "INFO:tensorflow:Assets written to: /glade/work/ksha/NCAR/Keras_models/RE2_smooth_v4x_2/assets\n",
      "--- 507.8308346271515 seconds ---\n",
      "0.03083075336618978\n",
      "Validation loss 0.03083075336618978 NOT improved\n",
      "0.03192886791882376\n",
      "Validation loss 0.03192886791882376 NOT improved\n",
      "0.03097005107935426\n",
      "Validation loss 0.03097005107935426 NOT improved\n",
      "0.031675521666355066\n",
      "Validation loss 0.031675521666355066 NOT improved\n",
      "0.031078993633986775\n",
      "Validation loss 0.031078993633986775 NOT improved\n",
      "0.03152456143514724\n",
      "Validation loss 0.03152456143514724 NOT improved\n",
      "0.031269201402557456\n",
      "Validation loss 0.031269201402557456 NOT improved\n",
      "0.03016718035767297\n",
      "Validation loss improved from 0.030314034536032614 to 0.03016718035767297\n",
      "save to: /glade/work/ksha/NCAR/Keras_models/RE2_smooth_v4x_2\n",
      "INFO:tensorflow:Assets written to: /glade/work/ksha/NCAR/Keras_models/RE2_smooth_v4x_2/assets\n",
      "--- 487.08454394340515 seconds ---\n",
      "0.03138397260294606\n",
      "Validation loss 0.03138397260294606 NOT improved\n",
      "0.03103349252439804\n",
      "Validation loss 0.03103349252439804 NOT improved\n",
      "0.0304837285534254\n",
      "Validation loss 0.0304837285534254 NOT improved\n",
      "0.030447765471820626\n",
      "Validation loss 0.030447765471820626 NOT improved\n",
      "0.03281265028224514\n",
      "Validation loss 0.03281265028224514 NOT improved\n",
      "0.030484374460750027\n",
      "Validation loss 0.030484374460750027 NOT improved\n",
      "0.030491068614757498\n",
      "Validation loss 0.030491068614757498 NOT improved\n",
      "0.03029951764674084\n",
      "Validation loss 0.03029951764674084 NOT improved\n",
      "0.03089674723566548\n",
      "Validation loss 0.03089674723566548 NOT improved\n",
      "0.03033827355863172\n",
      "Validation loss 0.03033827355863172 NOT improved\n"
     ]
    },
    {
     "name": "stderr",
     "output_type": "stream",
     "text": [
      "\n",
      "KeyboardInterrupt\n",
      "\n"
     ]
    }
   ],
   "source": [
    "# training parameters\n",
    "epochs = 500\n",
    "L_train = 64\n",
    "min_del = 0.0\n",
    "max_tol = 100 # early stopping with patience\n",
    "batch_size = 200\n",
    "\n",
    "# Allocate batch files\n",
    "X_batch_64 = np.empty((batch_size, 64, 64, L_vars))\n",
    "Y_batch = np.empty((batch_size, 1))\n",
    "X_batch_64[...] = np.nan\n",
    "Y_batch[...] = np.nan\n",
    "\n",
    "# Model check-point info\n",
    "temp_dir = '/glade/work/ksha/NCAR/Keras_models/'\n",
    "model_name = model_prefix_save\n",
    "model_path = temp_dir + model_name\n",
    "\n",
    "# ========== Training loop ========== #\n",
    "tol = 0 # initial tol\n",
    "\n",
    "filename_pos_train = pos_train_all\n",
    "filename_neg_train = neg_train_all\n",
    "L_pos = len(filename_pos_train)\n",
    "L_neg = len(filename_neg_train)\n",
    "\n",
    "record = record_temp\n",
    "print(\"Initial record: {}\".format(record))\n",
    "\n",
    "mu.set_seeds(seeds)\n",
    "    \n",
    "for i in range(epochs):\n",
    "    start_time = time.time()\n",
    "\n",
    "    # loop of batch\n",
    "    for j in range(L_train):\n",
    "        N_pos = 20\n",
    "        N_neg = batch_size - N_pos\n",
    "\n",
    "        ind_neg = du.shuffle_ind(L_neg)\n",
    "        ind_pos = du.shuffle_ind(L_pos)\n",
    "        \n",
    "        # neg batches from this training rotation \n",
    "        file_pick_neg = []\n",
    "        file_label_neg = []\n",
    "        for ind_temp in ind_neg[:N_neg]:\n",
    "            file_pick_neg.append(filename_neg_train[ind_temp])\n",
    "            file_label_neg.append(y_neg_train_all_adjust[ind_temp])\n",
    "            \n",
    "        # pos batches from this training rotation \n",
    "        file_pick_pos = []\n",
    "        file_label_pos = []\n",
    "        for ind_temp in ind_pos[:N_pos]:\n",
    "            file_pick_pos.append(filename_pos_train[ind_temp])\n",
    "            file_label_pos.append(y_pos_train_all_adjust[ind_temp])\n",
    "            \n",
    "        # get all the batch filenames for checking labels\n",
    "        file_pick = file_pick_neg + file_pick_pos\n",
    "        file_label = file_label_neg + file_label_pos\n",
    "        Y_batch = np.array(file_label)[:, None]\n",
    "        \n",
    "#         if len(file_pick) != batch_size:\n",
    "#             sregwet # number of available files = batch size\n",
    "\n",
    "        # Assign labels based on batch filenames\n",
    "        for k in range(batch_size):\n",
    "            data = np.load(file_pick[k])\n",
    "            for l, c in enumerate(ind_pick_from_batch):\n",
    "                temp = data[..., c] \n",
    "                X_batch_64[k, ..., l] = temp\n",
    "\n",
    "#             if 'pos' in file_pick[k]:\n",
    "#                 Y_batch[k, :] = 1.0 #np.random.uniform(0.9, 0.99)\n",
    "#             elif 'neg_neg_neg' in file_pick[k]:\n",
    "#                 Y_batch[k, :] = 0.0 #np.random.uniform(0.01, 0.05)\n",
    "#             else:\n",
    "#                 werhgaer\n",
    "        # ------------------------------------------------- #\n",
    "        # batch input and label from this training rotation \n",
    "        ind_ = du.shuffle_ind(batch_size)\n",
    "        X_batch_64 = X_batch_64[ind_, ...]\n",
    "        Y_batch = Y_batch[ind_, :]\n",
    "\n",
    "        # train on batch\n",
    "        model_final.train_on_batch(X_batch_64, Y_batch);\n",
    "\n",
    "    # epoch end operations\n",
    "    Y_pred = model_final.predict([VALID_input_64])\n",
    "    record_temp = mu.verif_metric(VALID_target, Y_pred)\n",
    "\n",
    "    if (record - record_temp > min_del):\n",
    "        print('Validation loss improved from {} to {}'.format(record, record_temp))\n",
    "        record = record_temp\n",
    "        tol = 0\n",
    "        print('save to: {}'.format(model_path))\n",
    "        model_final.save(model_path)\n",
    "    else:\n",
    "        print('Validation loss {} NOT improved'.format(record_temp))\n",
    "        if record_temp >= 2.0:\n",
    "            print('Early stopping')\n",
    "            break;\n",
    "        else:\n",
    "            tol += 1\n",
    "            if tol >= max_tol:\n",
    "                print('Early stopping')\n",
    "                break;\n",
    "            else:\n",
    "                continue;\n",
    "    print(\"--- %s seconds ---\" % (time.time() - start_time))"
   ]
  },
  {
   "cell_type": "code",
   "execution_count": null,
   "id": "9153e75d",
   "metadata": {},
   "outputs": [],
   "source": [
    "Y_batch.shape"
   ]
  },
  {
   "cell_type": "code",
   "execution_count": null,
   "id": "1920441c",
   "metadata": {},
   "outputs": [],
   "source": []
  },
  {
   "cell_type": "code",
   "execution_count": null,
   "id": "a9dcc4c1",
   "metadata": {},
   "outputs": [],
   "source": []
  },
  {
   "cell_type": "code",
   "execution_count": null,
   "id": "29b2be21",
   "metadata": {},
   "outputs": [],
   "source": []
  },
  {
   "cell_type": "code",
   "execution_count": null,
   "id": "8b65a950",
   "metadata": {},
   "outputs": [],
   "source": []
  }
 ],
 "metadata": {
  "kernelspec": {
   "display_name": "Python 3 (ipykernel)",
   "language": "python",
   "name": "python3"
  },
  "language_info": {
   "codemirror_mode": {
    "name": "ipython",
    "version": 3
   },
   "file_extension": ".py",
   "mimetype": "text/x-python",
   "name": "python",
   "nbconvert_exporter": "python",
   "pygments_lexer": "ipython3",
   "version": "3.9.15"
  }
 },
 "nbformat": 4,
 "nbformat_minor": 5
}
