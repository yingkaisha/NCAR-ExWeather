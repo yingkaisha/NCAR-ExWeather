{
 "cells": [
  {
   "cell_type": "code",
   "execution_count": null,
   "id": "864c6c59-d26f-458b-b5ba-7f356a9c7b92",
   "metadata": {},
   "outputs": [],
   "source": []
  },
  {
   "cell_type": "code",
   "execution_count": 1,
   "id": "91e1f35b-3654-460e-8bf9-a791ee32e17a",
   "metadata": {},
   "outputs": [],
   "source": [
    "import sys\n",
    "from glob import glob\n",
    "\n",
    "import zarr\n",
    "import numpy as np\n",
    "import pandas as pd"
   ]
  },
  {
   "cell_type": "code",
   "execution_count": 2,
   "id": "c366aa03-a4b0-42e9-a35e-7ee715d5f469",
   "metadata": {},
   "outputs": [],
   "source": [
    "sys.path.insert(0, '/glade/u/home/ksha/NCAR/')\n",
    "sys.path.insert(0, '/glade/u/home/ksha/NCAR/libs/')\n",
    "\n",
    "from namelist import *\n",
    "import data_utils as du"
   ]
  },
  {
   "cell_type": "code",
   "execution_count": 3,
   "id": "60f60e08-7c42-43a9-aed7-b074b9c5af46",
   "metadata": {},
   "outputs": [],
   "source": [
    "import matplotlib.pyplot as plt\n",
    "%matplotlib inline"
   ]
  },
  {
   "cell_type": "code",
   "execution_count": 4,
   "id": "e94def7e-6a9a-4779-b33e-90058a7bd7da",
   "metadata": {},
   "outputs": [],
   "source": [
    "from datetime import datetime, timedelta"
   ]
  },
  {
   "cell_type": "code",
   "execution_count": 5,
   "id": "cf1c4d50-e8f1-4b84-9519-35b461723f93",
   "metadata": {},
   "outputs": [],
   "source": [
    "import subprocess"
   ]
  },
  {
   "cell_type": "code",
   "execution_count": 6,
   "id": "0c25d14b-f1cb-451f-bb4b-1d5a95e95510",
   "metadata": {},
   "outputs": [],
   "source": [
    "data_pos_v3 = zarr.load(save_dir_scratch+'HRRR_clean_pos_v3.zarr')\n",
    "data_neg_v3 = zarr.load(save_dir_scratch+'HRRR_clean_neg_v3.zarr')\n",
    "\n",
    "data_pos_v4 = zarr.load(save_dir_scratch+'HRRR_clean_pos_v4.zarr')\n",
    "data_neg_v4 = zarr.load(save_dir_scratch+'HRRR_clean_neg_v4.zarr')"
   ]
  },
  {
   "cell_type": "code",
   "execution_count": 7,
   "id": "e3082d71-93ff-4a3b-a847-92a85e1cf5ad",
   "metadata": {},
   "outputs": [],
   "source": [
    "shape_pos_v3 = data_pos_v3.shape\n",
    "shape_neg_v3 = data_neg_v3.shape"
   ]
  },
  {
   "cell_type": "code",
   "execution_count": 8,
   "id": "9554e76f-3685-41ab-966e-e1078cde82db",
   "metadata": {},
   "outputs": [],
   "source": [
    "batch_dir = '/glade/scratch/ksha/DATA/NCAR_batch/'"
   ]
  },
  {
   "cell_type": "code",
   "execution_count": 9,
   "id": "a3b5e9e6-1b52-4808-98bd-9e2745c0f110",
   "metadata": {},
   "outputs": [
    {
     "data": {
      "text/plain": [
       "(621683, 18, 21)"
      ]
     },
     "execution_count": 9,
     "metadata": {},
     "output_type": "execute_result"
    }
   ],
   "source": [
    "data_pos_v3.shape"
   ]
  },
  {
   "cell_type": "code",
   "execution_count": 58,
   "id": "4d021c3c-4b9d-4fde-b25f-12695dca868f",
   "metadata": {},
   "outputs": [],
   "source": [
    "HRRRv3 = np.vstack([data_pos_v3, data_neg_v3])"
   ]
  },
  {
   "cell_type": "code",
   "execution_count": 59,
   "id": "27b89864-947a-4f5e-87f3-5e08cb05646c",
   "metadata": {},
   "outputs": [],
   "source": [
    "MEANs = []\n",
    "STDs = []\n",
    "\n",
    "for i in range(20):\n",
    "    MEANs.append(np.mean(HRRRv3[..., i]))\n",
    "    STDs.append(np.std(HRRRv3[..., i]))\n",
    "    \n",
    "MEANs = np.array(MEANs)\n",
    "STDs = np.array(STDs)"
   ]
  },
  {
   "cell_type": "code",
   "execution_count": 60,
   "id": "1b8bf2cd-a342-4288-be45-9b8a2d82a399",
   "metadata": {},
   "outputs": [
    {
     "data": {
      "text/plain": [
       "array([ 3.32744267e+00,  2.30268275e+00,  3.49134700e-04,  3.61186403e+00,\n",
       "       -2.15238651e-02,  1.03665838e+01,  4.41590603e-01,  1.79305680e-02,\n",
       "        2.78253191e+03,  2.64969288e+02,  2.23630493e+02, -2.40273726e+01,\n",
       "        5.40289715e+02,  1.86496654e+01,  7.37603012e+00,  1.10030807e+02,\n",
       "        4.82801404e+01,  2.84954553e+02,  2.77329110e+02,  9.31139490e+04])"
      ]
     },
     "execution_count": 60,
     "metadata": {},
     "output_type": "execute_result"
    }
   ],
   "source": [
    "MEANs"
   ]
  },
  {
   "cell_type": "code",
   "execution_count": 73,
   "id": "bb214287-ee15-42a8-838f-5cc5f531b5c3",
   "metadata": {},
   "outputs": [
    {
     "data": {
      "text/plain": [
       "array([1.25938123e+01, 7.57117064e+00, 3.55973598e-04, 4.48313802e+00,\n",
       "       3.13906268e-02, 4.16004674e+00, 1.48719440e+00, 1.13531478e-01,\n",
       "       7.15634363e+03, 5.89775100e+02, 5.44153845e+02, 5.80314013e+01,\n",
       "       1.05153825e+03, 1.00278741e+01, 4.01217916e+00, 9.86360084e+01,\n",
       "       7.17775328e+01, 1.10908803e+01, 1.07798139e+01, 7.22807319e+03])"
      ]
     },
     "execution_count": 73,
     "metadata": {},
     "output_type": "execute_result"
    }
   ],
   "source": [
    "STDs"
   ]
  },
  {
   "cell_type": "code",
   "execution_count": 71,
   "id": "153a3236-2532-46f2-8d35-80572cb88d84",
   "metadata": {},
   "outputs": [
    {
     "data": {
      "text/plain": [
       "<Popen: returncode: None args: 'rm /glade/scratch/ksha/DATA/NCAR_batch/TRAIN...>"
      ]
     },
     "execution_count": 71,
     "metadata": {},
     "output_type": "execute_result"
    }
   ],
   "source": [
    "subprocess.Popen(\"rm {}TRAIN*.npy\".format(batch_dir), shell=True)"
   ]
  },
  {
   "cell_type": "code",
   "execution_count": 72,
   "id": "102803bb-4ae3-4997-a40e-ca7be5728976",
   "metadata": {},
   "outputs": [],
   "source": [
    "cut = 30000\n",
    "\n",
    "#subprocess.Popen(\"rm {}TRAIN*.npy\".format(batch_dir), shell=True)\n",
    "\n",
    "shape_pos_v3 = data_pos_v3[cut:, ...].shape\n",
    "shape_neg_v3 = data_neg_v3[cut:, ...].shape\n",
    "\n",
    "for i in range(shape_pos_v3[0]):\n",
    "    slice_ = data_pos_v3[i, ...]\n",
    "    \n",
    "    for j in range(20):\n",
    "        slice_[..., j] = (slice_[..., j] - MEANs[j]) / STDs[j]\n",
    "        \n",
    "    slice_[:, -1] = slice_[:, -1] > 0\n",
    "    np.save(batch_dir+'TRAIN_pos_{}.npy'.format(i), slice_)\n",
    "    \n",
    "for i in range(shape_neg_v3[0]):\n",
    "    slice_ = data_neg_v3[i, ...]\n",
    "    \n",
    "    for j in range(20):\n",
    "        slice_[..., j] = (slice_[..., j] - MEANs[j]) / STDs[j]\n",
    "        \n",
    "    slice_[:, -1] = slice_[:, -1] > 0\n",
    "    \n",
    "    np.save(batch_dir+'TRAIN_neg_{}.npy'.format(i), slice_)"
   ]
  },
  {
   "cell_type": "code",
   "execution_count": 66,
   "id": "33248def-af5a-4d2c-a5c1-50de325ac80a",
   "metadata": {},
   "outputs": [],
   "source": [
    "data = np.load(batch_dir+'TRAIN_pos_2.npy')"
   ]
  },
  {
   "cell_type": "code",
   "execution_count": 44,
   "id": "f4856e57-e99e-4106-bcee-bc26e7521fee",
   "metadata": {},
   "outputs": [
    {
     "data": {
      "text/plain": [
       "(18, 21)"
      ]
     },
     "execution_count": 44,
     "metadata": {},
     "output_type": "execute_result"
    }
   ],
   "source": [
    "data.shape"
   ]
  },
  {
   "cell_type": "code",
   "execution_count": null,
   "id": "457cf06d-90e3-4347-9625-d4ee69a2ada4",
   "metadata": {},
   "outputs": [],
   "source": [
    "\n"
   ]
  },
  {
   "cell_type": "code",
   "execution_count": null,
   "id": "2b5ec034-84d3-4e94-9811-7632b0f7b405",
   "metadata": {},
   "outputs": [],
   "source": []
  },
  {
   "cell_type": "code",
   "execution_count": null,
   "id": "1e3e95be-ace4-4690-b70c-6864acddc12b",
   "metadata": {},
   "outputs": [],
   "source": []
  },
  {
   "cell_type": "code",
   "execution_count": null,
   "id": "6d68c831-1b2b-4c74-ba99-bf9275f7a192",
   "metadata": {},
   "outputs": [],
   "source": []
  },
  {
   "cell_type": "code",
   "execution_count": null,
   "id": "7ba63a41-a821-4be9-9262-214443924fa4",
   "metadata": {},
   "outputs": [],
   "source": []
  },
  {
   "cell_type": "code",
   "execution_count": null,
   "id": "fa2d6a90-24aa-4203-aa11-bc0a4e6110b5",
   "metadata": {},
   "outputs": [],
   "source": []
  }
 ],
 "metadata": {
  "kernelspec": {
   "display_name": "Python 3 (ipykernel)",
   "language": "python",
   "name": "python3"
  },
  "language_info": {
   "codemirror_mode": {
    "name": "ipython",
    "version": 3
   },
   "file_extension": ".py",
   "mimetype": "text/x-python",
   "name": "python",
   "nbconvert_exporter": "python",
   "pygments_lexer": "ipython3",
   "version": "3.9.13"
  }
 },
 "nbformat": 4,
 "nbformat_minor": 5
}
