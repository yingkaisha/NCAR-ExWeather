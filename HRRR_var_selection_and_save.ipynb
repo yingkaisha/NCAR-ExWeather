{
 "cells": [
  {
   "cell_type": "code",
   "execution_count": null,
   "id": "070fdeb6-d57e-405f-bc92-4057e6d36000",
   "metadata": {},
   "outputs": [],
   "source": []
  },
  {
   "cell_type": "code",
   "execution_count": 1,
   "id": "98040a67-79cb-41ea-85c2-e396c4dc2bfa",
   "metadata": {},
   "outputs": [],
   "source": [
    "import sys\n",
    "from glob import glob\n",
    "\n",
    "import h5py\n",
    "import pygrib\n",
    "import numpy as np\n",
    "from datetime import datetime, timedelta"
   ]
  },
  {
   "cell_type": "code",
   "execution_count": 2,
   "id": "d912c8e4-a257-4afd-b9a1-ed548f8f89f7",
   "metadata": {},
   "outputs": [],
   "source": [
    "import zarr\n",
    "import xarray"
   ]
  },
  {
   "cell_type": "code",
   "execution_count": 6,
   "id": "3f28df4e-ea34-4c45-b904-4e6469d9b752",
   "metadata": {},
   "outputs": [],
   "source": [
    "sys.path.insert(0, '/glade/u/home/ksha/NCAR/')\n",
    "sys.path.insert(0, '/glade/u/home/ksha/NCAR/libs/')\n",
    "\n",
    "from namelist import *\n",
    "import data_utils as du"
   ]
  },
  {
   "cell_type": "code",
   "execution_count": null,
   "id": "9d57d05d-d8fd-41a0-9a68-1fc9411c6582",
   "metadata": {},
   "outputs": [],
   "source": []
  },
  {
   "cell_type": "code",
   "execution_count": 7,
   "id": "d35a9fee-b6eb-4415-88f5-668ae3e8a081",
   "metadata": {},
   "outputs": [],
   "source": [
    "var_names = [\n",
    "    'Maximum/Composite radar reflectivity',\n",
    "    'MSLP (MAPS System Reduction)',\n",
    "    '2 metre temperature',\n",
    "    '2 metre specific humidity',\n",
    "    '2 metre dewpoint temperature',\n",
    "    '2 metre relative humidity',\n",
    "    '10 metre U wind component',\n",
    "    '10 metre V wind component',\n",
    "    'Total Precipitation',\n",
    "    'Convective available potential energy',\n",
    "    'Convective inhibition',\n",
    "    'Precipitable water',\n",
    "    'Storm relative helicity',\n",
    "    'Storm relative helicity',\n",
    "    'U-component storm motion',\n",
    "    'V-component storm motion',\n",
    "    'Vertical u-component shear',\n",
    "    'Vertical v-component shear',\n",
    "    'Vertical u-component shear',\n",
    "    'Vertical v-component shear']\n",
    "\n",
    "var_inds = [0, 0, 0, 0, 0, 0, 0, 0, 0, 0, 0, 0, 0, 1, 0, 0, 0, 0, 1, 1]"
   ]
  },
  {
   "cell_type": "code",
   "execution_count": 8,
   "id": "37b9eeeb-a4c5-402b-9420-ddd406f4fb7c",
   "metadata": {},
   "outputs": [],
   "source": [
    "var_save=['max_radar', 'mslp', 't2m', 'q2m', 'dp2m', 'rh2m', 'u10', 'v10', \n",
    "            'apcp', 'cape', 'cin', 'pwat', 'storm_heli_3k', 'storm_heli_1k', \n",
    "            'u_storm', 'v_storm', 'u_shear_1k', 'v_shear_1k', 'u_shear_6k', 'v_shear_6k']"
   ]
  },
  {
   "cell_type": "markdown",
   "id": "1af3d58e-fa5b-4a19-8ab6-dd7d2b729ce1",
   "metadata": {},
   "source": [
    "### 12-hr lead time"
   ]
  },
  {
   "cell_type": "code",
   "execution_count": 18,
   "id": "dec7b71a-62bc-4eb5-8ff7-7c028e49c4e0",
   "metadata": {},
   "outputs": [],
   "source": [
    "filenames = sorted(glob(HRRR_dir+'fcst12hr/*.grib2'))\n",
    "filenames = filenames[:2]"
   ]
  },
  {
   "cell_type": "code",
   "execution_count": 19,
   "id": "ebb70e08-f676-44df-992c-f669539bbe51",
   "metadata": {},
   "outputs": [],
   "source": [
    "with pygrib.open(filenames[0]) as grbio:\n",
    "    var = grbio.select(name='Land-sea mask')[0]\n",
    "    land_mask = var.values\n",
    "    lat_hrrr, lon_hrrr = var.latlons() "
   ]
  },
  {
   "cell_type": "code",
   "execution_count": 20,
   "id": "9b58bd68-cc27-4d4e-b584-bf761e63f7b7",
   "metadata": {},
   "outputs": [],
   "source": [
    "grid_shape = lat_hrrr.shape"
   ]
  },
  {
   "cell_type": "code",
   "execution_count": 21,
   "id": "2ef1d1e1-5f42-4050-98c6-5c74dd5a8949",
   "metadata": {},
   "outputs": [],
   "source": [
    "N_files = len(filenames[:2])\n",
    "N_vars = len(var_names)\n",
    "out = np.empty((N_files,)+grid_shape+(N_vars,))"
   ]
  },
  {
   "cell_type": "code",
   "execution_count": 22,
   "id": "553ca2a8-01b0-41a4-9139-e46cad68275c",
   "metadata": {},
   "outputs": [],
   "source": [
    "for n, filename in enumerate(filenames):\n",
    "    with pygrib.open(filename) as grbio:\n",
    "        for i, name in enumerate(var_names):\n",
    "            var = grbio.select(name=name)[var_inds[i]]\n",
    "            out[n, ..., i] = var.values"
   ]
  },
  {
   "cell_type": "code",
   "execution_count": 32,
   "id": "d9a321f4-eb56-4b1b-bb2d-5cf95fc346af",
   "metadata": {},
   "outputs": [],
   "source": [
    "# var_inds = [1003, 1014, 1041, 1042, 1043, 1044, 1045, 1047, 1048, \n",
    "#             1060, 1074, 1075, 1076, 1097, 1098, 1099, 1100, 1101, 1102, 1103, 1104]"
   ]
  },
  {
   "cell_type": "code",
   "execution_count": 27,
   "id": "4904930c-ded3-4778-9b63-9efd28ef173b",
   "metadata": {},
   "outputs": [],
   "source": [
    "out_name = 'hrrr12hr.zarr'"
   ]
  },
  {
   "cell_type": "code",
   "execution_count": 28,
   "id": "b9bc0163-a5bb-4267-b56c-391daee53327",
   "metadata": {},
   "outputs": [],
   "source": [
    "zarr.save(HRRR_dir+out_name, out)"
   ]
  },
  {
   "cell_type": "code",
   "execution_count": 29,
   "id": "024089c8-3f46-4914-804f-40c8f9f40c55",
   "metadata": {},
   "outputs": [],
   "source": [
    "test = zarr.load(HRRR_dir+out_name)"
   ]
  },
  {
   "cell_type": "code",
   "execution_count": 30,
   "id": "6fcf1452-2da4-468f-b66f-75ecca131d4c",
   "metadata": {},
   "outputs": [
    {
     "data": {
      "text/plain": [
       "(2, 1059, 1799, 20)"
      ]
     },
     "execution_count": 30,
     "metadata": {},
     "output_type": "execute_result"
    }
   ],
   "source": [
    "test.shape"
   ]
  },
  {
   "cell_type": "code",
   "execution_count": null,
   "id": "c7ccbf2f-9e65-4511-a15d-0029dc07b09a",
   "metadata": {},
   "outputs": [],
   "source": []
  },
  {
   "cell_type": "code",
   "execution_count": 23,
   "id": "7fc540a6-7ef9-4bb3-b711-9b57a083ffc0",
   "metadata": {},
   "outputs": [
    {
     "data": {
      "text/plain": [
       "(2, 1059, 1799, 20)"
      ]
     },
     "execution_count": 23,
     "metadata": {},
     "output_type": "execute_result"
    }
   ],
   "source": [
    "out.shape"
   ]
  },
  {
   "cell_type": "code",
   "execution_count": null,
   "id": "3869d824-1a0d-42d2-83de-0318796f70c7",
   "metadata": {},
   "outputs": [],
   "source": []
  },
  {
   "cell_type": "code",
   "execution_count": null,
   "id": "c5bbb47a-9f65-47cb-86c1-81de5b835c1f",
   "metadata": {},
   "outputs": [],
   "source": []
  },
  {
   "cell_type": "code",
   "execution_count": null,
   "id": "9784b424-0cac-4afc-9514-b55a142d47b9",
   "metadata": {},
   "outputs": [],
   "source": []
  },
  {
   "cell_type": "code",
   "execution_count": null,
   "id": "39990970-ade7-4aee-b2a2-b6ce4f4e41cf",
   "metadata": {},
   "outputs": [],
   "source": []
  },
  {
   "cell_type": "code",
   "execution_count": null,
   "id": "e8e8b7f0-9c28-45dd-bf66-6028330e182e",
   "metadata": {},
   "outputs": [],
   "source": []
  },
  {
   "cell_type": "code",
   "execution_count": null,
   "id": "4e30d05a-abb8-4797-8ec7-40a0ab38938e",
   "metadata": {},
   "outputs": [],
   "source": []
  },
  {
   "cell_type": "code",
   "execution_count": null,
   "id": "96aa2a52-e651-434a-a3fe-a3af569fb70c",
   "metadata": {},
   "outputs": [],
   "source": []
  }
 ],
 "metadata": {
  "kernelspec": {
   "display_name": "Python 3 (ipykernel)",
   "language": "python",
   "name": "python3"
  },
  "language_info": {
   "codemirror_mode": {
    "name": "ipython",
    "version": 3
   },
   "file_extension": ".py",
   "mimetype": "text/x-python",
   "name": "python",
   "nbconvert_exporter": "python",
   "pygments_lexer": "ipython3",
   "version": "3.9.13"
  }
 },
 "nbformat": 4,
 "nbformat_minor": 5
}
