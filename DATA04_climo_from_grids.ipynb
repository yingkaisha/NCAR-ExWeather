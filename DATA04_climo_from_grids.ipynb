{
 "cells": [
  {
   "cell_type": "code",
   "execution_count": 2,
   "id": "37a9e93c-5a83-4cc2-a852-88fb59634403",
   "metadata": {},
   "outputs": [],
   "source": [
    "# general tools\n",
    "import os\n",
    "import re\n",
    "import sys\n",
    "import netCDF4 as nc\n",
    "from glob import glob\n",
    "\n",
    "import numpy as np\n",
    "from datetime import datetime, timedelta"
   ]
  },
  {
   "cell_type": "code",
   "execution_count": null,
   "id": "c760b9fd-b7c9-4ece-a01e-c52a1afc2369",
   "metadata": {},
   "outputs": [],
   "source": []
  },
  {
   "cell_type": "code",
   "execution_count": 3,
   "id": "faf01c1a-a1f2-4c4b-8345-8c32097f9ccd",
   "metadata": {},
   "outputs": [],
   "source": [
    "lead = 2"
   ]
  },
  {
   "cell_type": "code",
   "execution_count": 9,
   "id": "ec841f9a-16d3-4db3-9e3a-528d72370b21",
   "metadata": {},
   "outputs": [],
   "source": [
    "model_tag = 'alt' #args['model_tag']\n",
    "filepath_vec = \"/glade/work/ksha/NCAR/\""
   ]
  },
  {
   "cell_type": "code",
   "execution_count": 5,
   "id": "8a628ddc-4a4a-40f6-a82e-62754015afd9",
   "metadata": {},
   "outputs": [],
   "source": [
    "if (lead < 9) or (lead > 18):\n",
    "    path_name = '/glade/scratch/ksha/DATA/NCAR_batch_v3/'\n",
    "else:\n",
    "    path_name = '/glade/campaign/cisl/aiml/ksha/NCAR_batch_v3/'"
   ]
  },
  {
   "cell_type": "code",
   "execution_count": 6,
   "id": "1ea76f82-0b99-46ae-8c3c-26a91916e7ea",
   "metadata": {},
   "outputs": [],
   "source": [
    "filename_valid = sorted(glob(\"{}VALID*lead{}.npy\".format(path_name, lead)))"
   ]
  },
  {
   "cell_type": "code",
   "execution_count": 10,
   "id": "3d5bce5a-8dd5-49be-bd8f-05e5591fcf44",
   "metadata": {},
   "outputs": [],
   "source": [
    "#filename_valid\n",
    "valid_lead = np.load('{}TEST_pp15_pred_lead{}_{}.npy'.format(filepath_vec, lead, model_tag), allow_pickle=True)[()]"
   ]
  },
  {
   "cell_type": "code",
   "execution_count": 11,
   "id": "59a4efa0-2fce-47a3-be4f-03333effdf13",
   "metadata": {},
   "outputs": [],
   "source": [
    "VALID_lead_y = valid_lead['y_true']"
   ]
  },
  {
   "cell_type": "code",
   "execution_count": 14,
   "id": "4f121ec2-1952-4ae1-bd56-ab76697e7a5d",
   "metadata": {},
   "outputs": [],
   "source": [
    "IND_VALID_lead = np.load('/glade/work/ksha/NCAR/IND_VALID_lead_full.npy', allow_pickle=True)[()]\n",
    "VALID_ind = IND_VALID_lead['lead{}'.format(lead)]"
   ]
  },
  {
   "cell_type": "code",
   "execution_count": 18,
   "id": "5ecc5d6a-afdd-4c1a-bfb4-41f704e900d7",
   "metadata": {},
   "outputs": [],
   "source": [
    "L = len(VALID_ind)\n",
    "\n",
    "filename_valid_pick = []\n",
    "\n",
    "VALID_Y = np.zeros(L)\n",
    "\n",
    "for i in range(L):\n",
    "    \n",
    "    ind_lead = int(VALID_ind[i])\n",
    "    filename_valid_pick.append(filename_valid[ind_lead])\n",
    "\n",
    "    if 'pos' in filename_valid[ind_lead]:\n",
    "        if VALID_lead_y[ind_lead] == 1.0:\n",
    "            VALID_Y[i] = 1.0\n",
    "        else:\n",
    "            egwrshat"
   ]
  },
  {
   "cell_type": "code",
   "execution_count": 26,
   "id": "4db5cd62-9093-409f-a887-7c86317b8884",
   "metadata": {},
   "outputs": [],
   "source": [
    "def id_extract(filenames):\n",
    "    \n",
    "    indx_out = []\n",
    "    indy_out = []\n",
    "    lead_out = []\n",
    "    day_out = []\n",
    "    \n",
    "    for i, name in enumerate(filenames):        \n",
    "        nums = re.findall(r'\\d+', name)\n",
    "        lead = int(nums[-1])\n",
    "        indy = int(nums[-2])\n",
    "        indx = int(nums[-3])\n",
    "        day = int(nums[-4])\n",
    "                \n",
    "        indx_out.append(indx)\n",
    "        indy_out.append(indy)\n",
    "        lead_out.append(lead)\n",
    "        day_out.append(day)\n",
    "        \n",
    "    return np.array(indx_out), np.array(indy_out), np.array(lead_out), np.array(day_out)"
   ]
  },
  {
   "cell_type": "code",
   "execution_count": 27,
   "id": "a343fc48-a1f3-4b6e-a9d7-7f356df896a1",
   "metadata": {},
   "outputs": [],
   "source": [
    "indx, indy, _, day = id_extract(filename_valid_pick)"
   ]
  },
  {
   "cell_type": "code",
   "execution_count": null,
   "id": "796d76d4-466f-48f8-b838-55f9dedbd5b6",
   "metadata": {},
   "outputs": [],
   "source": []
  },
  {
   "cell_type": "code",
   "execution_count": null,
   "id": "710f9311-6073-4488-bc79-47566f531dd2",
   "metadata": {},
   "outputs": [],
   "source": [
    "\n",
    "\n",
    "valid_lead1 = np.load('{}TEST_pp15_pred_lead{}_{}.npy'.format(filepath_vec, lead1, model_tag), allow_pickle=True)[()]\n",
    "valid_lead2 = np.load('{}TEST_pp15_pred_lead{}_{}.npy'.format(filepath_vec, lead2, model_tag), allow_pickle=True)[()]\n",
    "valid_lead3 = np.load('{}TEST_pp15_pred_lead{}_{}.npy'.format(filepath_vec, lead3, model_tag), allow_pickle=True)[()]\n",
    "valid_lead4 = np.load('{}TEST_pp15_pred_lead{}_{}.npy'.format(filepath_vec, lead4, model_tag), allow_pickle=True)[()]\n",
    "\n",
    "VALID_lead1 = valid_lead1['y_vector']\n",
    "VALID_lead2 = valid_lead2['y_vector']\n",
    "VALID_lead3 = valid_lead3['y_vector']\n",
    "VALID_lead4 = valid_lead4['y_vector']\n",
    "\n",
    "VALID_lead1_y = valid_lead1['y_true']\n",
    "VALID_lead2_y = valid_lead2['y_true']\n",
    "VALID_lead3_y = valid_lead3['y_true']\n",
    "VALID_lead4_y = valid_lead4['y_true']\n",
    "\n",
    "IND_VALID_lead = np.load('/glade/work/ksha/NCAR/IND_VALID_lead_full.npy', allow_pickle=True)[()]\n",
    "\n",
    "VALID_ind1 = IND_VALID_lead['lead{}'.format(lead1)]\n",
    "VALID_ind2 = IND_VALID_lead['lead{}'.format(lead2)]\n",
    "VALID_ind3 = IND_VALID_lead['lead{}'.format(lead3)]\n",
    "VALID_ind4 = IND_VALID_lead['lead{}'.format(lead4)]\n",
    "\n",
    "L = len(VALID_ind3)\n",
    "\n",
    "filename_valid1_pick = []\n",
    "filename_valid2_pick = []\n",
    "filename_valid3_pick = []\n",
    "filename_valid4_pick = []\n",
    "\n",
    "VALID_X = np.empty((L, 512))\n",
    "VALID_Y = np.zeros(L)\n",
    "\n",
    "for i in range(L):\n",
    "    \n",
    "    ind_lead1 = int(VALID_ind1[i])\n",
    "    ind_lead2 = int(VALID_ind2[i])\n",
    "    ind_lead3 = int(VALID_ind3[i])\n",
    "    ind_lead4 = int(VALID_ind4[i])\n",
    "    \n",
    "    filename_valid1_pick.append(filename_valid_lead1[ind_lead1])\n",
    "    filename_valid2_pick.append(filename_valid_lead2[ind_lead2])\n",
    "    filename_valid3_pick.append(filename_valid_lead3[ind_lead3])\n",
    "    filename_valid4_pick.append(filename_valid_lead4[ind_lead4])\n",
    "    \n",
    "    VALID_X[i, 0:128]   = VALID_lead1[ind_lead1, :]\n",
    "    VALID_X[i, 128:256] = VALID_lead2[ind_lead2, :]\n",
    "    VALID_X[i, 256:384] = VALID_lead3[ind_lead3, :]\n",
    "    VALID_X[i, 384:512] = VALID_lead4[ind_lead4, :]\n",
    "    \n",
    "    if 'pos' in filename_valid_lead3[ind_lead3]:\n",
    "        if VALID_lead3_y[ind_lead3] == 1.0:\n",
    "            VALID_Y[i] = 1.0\n",
    "        else:\n",
    "            egwrshat"
   ]
  },
  {
   "cell_type": "code",
   "execution_count": null,
   "id": "6a90df88-5342-46de-97c3-1fa6addd9415",
   "metadata": {},
   "outputs": [],
   "source": []
  }
 ],
 "metadata": {
  "kernelspec": {
   "display_name": "Python 3 (ipykernel)",
   "language": "python",
   "name": "python3"
  },
  "language_info": {
   "codemirror_mode": {
    "name": "ipython",
    "version": 3
   },
   "file_extension": ".py",
   "mimetype": "text/x-python",
   "name": "python",
   "nbconvert_exporter": "python",
   "pygments_lexer": "ipython3",
   "version": "3.9.15"
  }
 },
 "nbformat": 4,
 "nbformat_minor": 5
}
