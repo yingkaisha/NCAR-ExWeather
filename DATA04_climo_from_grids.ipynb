{
 "cells": [
  {
   "cell_type": "code",
   "execution_count": 1,
   "id": "37a9e93c-5a83-4cc2-a852-88fb59634403",
   "metadata": {},
   "outputs": [],
   "source": [
    "# general tools\n",
    "import os\n",
    "import re\n",
    "import sys\n",
    "import netCDF4 as nc\n",
    "from glob import glob\n",
    "\n",
    "import numpy as np\n",
    "from datetime import datetime, timedelta"
   ]
  },
  {
   "cell_type": "code",
   "execution_count": null,
   "id": "c760b9fd-b7c9-4ece-a01e-c52a1afc2369",
   "metadata": {},
   "outputs": [],
   "source": []
  },
  {
   "cell_type": "code",
   "execution_count": 2,
   "id": "faf01c1a-a1f2-4c4b-8345-8c32097f9ccd",
   "metadata": {},
   "outputs": [],
   "source": [
    "lead = 4"
   ]
  },
  {
   "cell_type": "code",
   "execution_count": 7,
   "id": "ec841f9a-16d3-4db3-9e3a-528d72370b21",
   "metadata": {},
   "outputs": [],
   "source": [
    "model_tag = 'peak' #args['model_tag']\n",
    "filepath_vec = \"/glade/work/ksha/NCAR/\""
   ]
  },
  {
   "cell_type": "code",
   "execution_count": 8,
   "id": "8a628ddc-4a4a-40f6-a82e-62754015afd9",
   "metadata": {},
   "outputs": [],
   "source": [
    "path_name = '/glade/campaign/cisl/aiml/ksha/NCAR_batch_v4_temp/'"
   ]
  },
  {
   "cell_type": "code",
   "execution_count": 9,
   "id": "1ea76f82-0b99-46ae-8c3c-26a91916e7ea",
   "metadata": {},
   "outputs": [],
   "source": [
    "filename_valid = sorted(glob(\"{}TEST*lead{}.npy\".format(path_name, lead)))"
   ]
  },
  {
   "cell_type": "code",
   "execution_count": 10,
   "id": "f9c27680-ba50-4e5c-b412-c75f5fb115d0",
   "metadata": {},
   "outputs": [
    {
     "data": {
      "text/plain": [
       "375220"
      ]
     },
     "execution_count": 10,
     "metadata": {},
     "output_type": "execute_result"
    }
   ],
   "source": [
    "len(filename_valid)"
   ]
  },
  {
   "cell_type": "code",
   "execution_count": 11,
   "id": "3d5bce5a-8dd5-49be-bd8f-05e5591fcf44",
   "metadata": {},
   "outputs": [],
   "source": [
    "#filename_valid\n",
    "valid_lead = np.load('{}TEST_v4_vec_lead{}_{}.npy'.format(filepath_vec, lead, model_tag), allow_pickle=True)[()]"
   ]
  },
  {
   "cell_type": "code",
   "execution_count": 12,
   "id": "59a4efa0-2fce-47a3-be4f-03333effdf13",
   "metadata": {},
   "outputs": [],
   "source": [
    "VALID_lead_y = valid_lead['y_true']"
   ]
  },
  {
   "cell_type": "code",
   "execution_count": 13,
   "id": "4f121ec2-1952-4ae1-bd56-ab76697e7a5d",
   "metadata": {},
   "outputs": [],
   "source": [
    "IND_VALID_lead = np.load('/glade/work/ksha/NCAR/IND_TEST_lead_v4.npy', allow_pickle=True)[()]\n",
    "VALID_ind = IND_VALID_lead['lead{}'.format(lead)]"
   ]
  },
  {
   "cell_type": "code",
   "execution_count": 14,
   "id": "5ecc5d6a-afdd-4c1a-bfb4-41f704e900d7",
   "metadata": {},
   "outputs": [],
   "source": [
    "L = len(VALID_ind)\n",
    "\n",
    "filename_valid_pick = []\n",
    "\n",
    "VALID_Y = np.zeros(L)\n",
    "\n",
    "for i in range(L):\n",
    "    \n",
    "    ind_lead = int(VALID_ind[i])\n",
    "    filename_valid_pick.append(filename_valid[ind_lead])\n",
    "\n",
    "    if 'pos' in filename_valid[ind_lead]:\n",
    "        if VALID_lead_y[ind_lead] == 1.0:\n",
    "            VALID_Y[i] = 1.0\n",
    "        else:\n",
    "            egwrshat"
   ]
  },
  {
   "cell_type": "code",
   "execution_count": 15,
   "id": "4db5cd62-9093-409f-a887-7c86317b8884",
   "metadata": {},
   "outputs": [],
   "source": [
    "def id_extract(filenames):\n",
    "    \n",
    "    indx_out = []\n",
    "    indy_out = []\n",
    "    lead_out = []\n",
    "    day_out = []\n",
    "    \n",
    "    for i, name in enumerate(filenames):        \n",
    "        nums = re.findall(r'\\d+', name)\n",
    "        lead = int(nums[-1])\n",
    "        indy = int(nums[-2])\n",
    "        indx = int(nums[-3])\n",
    "        day = int(nums[-4])\n",
    "                \n",
    "        indx_out.append(indx)\n",
    "        indy_out.append(indy)\n",
    "        lead_out.append(lead)\n",
    "        day_out.append(day)\n",
    "        \n",
    "    return np.array(indx_out), np.array(indy_out), np.array(lead_out), np.array(day_out)"
   ]
  },
  {
   "cell_type": "code",
   "execution_count": 16,
   "id": "a343fc48-a1f3-4b6e-a9d7-7f356df896a1",
   "metadata": {},
   "outputs": [],
   "source": [
    "indx, indy, _, day = id_extract(filename_valid_pick)"
   ]
  },
  {
   "cell_type": "code",
   "execution_count": 17,
   "id": "796d76d4-466f-48f8-b838-55f9dedbd5b6",
   "metadata": {},
   "outputs": [],
   "source": [
    "with nc.Dataset(filepath_vec+'climo_severe_2hr_all.nc') as ncio:\n",
    "    climo = ncio['climo'][...]"
   ]
  },
  {
   "cell_type": "code",
   "execution_count": 18,
   "id": "07c2f65c-c289-4b0a-b5ff-be8d9963daad",
   "metadata": {},
   "outputs": [],
   "source": [
    "base_v3_s = datetime(2018, 7, 15)\n",
    "base_v3_e = datetime(2020, 12, 2)\n",
    "\n",
    "base_v4_s = datetime(2020, 12, 3)\n",
    "base_v4_e = datetime(2022, 7, 15)\n",
    "\n",
    "base_ref = datetime(2010, 1, 1)\n",
    "\n",
    "date_list_v3 = [base_v3_s + timedelta(days=day) for day in range(365+365+142)]\n",
    "date_list_v4 = [base_v4_s + timedelta(days=day) for day in range(365+180)]"
   ]
  },
  {
   "cell_type": "code",
   "execution_count": 22,
   "id": "9bfb7a4c-644d-41c8-94f8-82325cbd13b3",
   "metadata": {},
   "outputs": [],
   "source": [
    "\n",
    "probs = []\n",
    "for i in range(L):\n",
    "    \n",
    "    date_ = date_list_v4[day[i]]\n",
    "    year_ = date_.year\n",
    "    ind_day = int((date_ - datetime(year_, 1, 1)).days)\n",
    "    \n",
    "    probs.append(climo[0, ind_day, lead-1, indx[i], indy[i]])"
   ]
  },
  {
   "cell_type": "code",
   "execution_count": 23,
   "id": "fbe4f3f9-2c7a-4c15-8b9e-a71a562f258a",
   "metadata": {},
   "outputs": [],
   "source": [
    "climos = np.array(probs)"
   ]
  },
  {
   "cell_type": "code",
   "execution_count": 24,
   "id": "151900c8-6aab-44c4-9be6-b45b5460144e",
   "metadata": {},
   "outputs": [
    {
     "data": {
      "text/plain": [
       "0.0035614021871754834"
      ]
     },
     "execution_count": 24,
     "metadata": {},
     "output_type": "execute_result"
    }
   ],
   "source": [
    "np.mean((VALID_Y - climos)**2)"
   ]
  },
  {
   "cell_type": "code",
   "execution_count": 25,
   "id": "1171dbc0-a54d-4808-8244-3d11b5706068",
   "metadata": {},
   "outputs": [
    {
     "data": {
      "text/plain": [
       "0.003583721725745072"
      ]
     },
     "execution_count": 25,
     "metadata": {},
     "output_type": "execute_result"
    }
   ],
   "source": [
    "np.mean(VALID_Y)"
   ]
  },
  {
   "cell_type": "code",
   "execution_count": null,
   "id": "3b2b7491-6b9d-4f7f-bda5-90969b2c55a7",
   "metadata": {},
   "outputs": [],
   "source": []
  },
  {
   "cell_type": "code",
   "execution_count": null,
   "id": "bf54ac14-a6d3-4d37-9518-189a1f5d7507",
   "metadata": {},
   "outputs": [],
   "source": []
  },
  {
   "cell_type": "code",
   "execution_count": null,
   "id": "01f724e0-4de8-4958-98a1-e438172cff70",
   "metadata": {},
   "outputs": [],
   "source": []
  },
  {
   "cell_type": "code",
   "execution_count": null,
   "id": "f9422270-3ec5-4568-b214-7f9a4ddffe91",
   "metadata": {},
   "outputs": [],
   "source": []
  },
  {
   "cell_type": "code",
   "execution_count": null,
   "id": "f5185847-8c53-4070-97e6-3b1482530455",
   "metadata": {},
   "outputs": [],
   "source": []
  }
 ],
 "metadata": {
  "kernelspec": {
   "display_name": "Python 3 (ipykernel)",
   "language": "python",
   "name": "python3"
  },
  "language_info": {
   "codemirror_mode": {
    "name": "ipython",
    "version": 3
   },
   "file_extension": ".py",
   "mimetype": "text/x-python",
   "name": "python",
   "nbconvert_exporter": "python",
   "pygments_lexer": "ipython3",
   "version": "3.9.15"
  }
 },
 "nbformat": 4,
 "nbformat_minor": 5
}
