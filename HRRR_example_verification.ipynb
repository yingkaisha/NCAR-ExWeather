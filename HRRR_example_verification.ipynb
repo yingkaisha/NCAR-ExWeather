{
 "cells": [
  {
   "cell_type": "markdown",
   "id": "59b3ab98-8587-480a-a0f0-7b56c9045c69",
   "metadata": {},
   "source": [
    "# HRRR severe weather prediction verification"
   ]
  },
  {
   "cell_type": "markdown",
   "id": "e13c56a7-a3d7-4251-91c5-4bac49578017",
   "metadata": {},
   "source": [
    "**Metrics**\n",
    "\n",
    "* AUC\n",
    "* CSI\n",
    "* BSS"
   ]
  },
  {
   "cell_type": "code",
   "execution_count": 1,
   "id": "882ffddd-8e2a-4f75-9d32-cc04e7807570",
   "metadata": {},
   "outputs": [],
   "source": [
    "import sys\n",
    "from glob import glob\n",
    "\n",
    "import time\n",
    "import h5py\n",
    "import zarr\n",
    "import numpy as np\n",
    "import pandas as pd"
   ]
  },
  {
   "cell_type": "code",
   "execution_count": 2,
   "id": "e20b87ec-04bc-49b0-8b80-7e0ca52a9bdd",
   "metadata": {},
   "outputs": [],
   "source": [
    "sys.path.insert(0, '/glade/u/home/ksha/NCAR/')\n",
    "sys.path.insert(0, '/glade/u/home/ksha/NCAR/libs/')\n",
    "\n",
    "from namelist import *\n",
    "import data_utils as du"
   ]
  },
  {
   "cell_type": "code",
   "execution_count": 3,
   "id": "fada221b-ee8d-4040-b4ad-069f488a3222",
   "metadata": {},
   "outputs": [],
   "source": [
    "import matplotlib.pyplot as plt\n",
    "import matplotlib.gridspec as gridspec\n",
    "%matplotlib inline"
   ]
  },
  {
   "cell_type": "code",
   "execution_count": 4,
   "id": "c0a4f98f-77ec-4ba4-b632-c8fff15dd9f3",
   "metadata": {},
   "outputs": [],
   "source": [
    "from datetime import datetime, timedelta\n",
    "from scipy.spatial import cKDTree"
   ]
  },
  {
   "cell_type": "code",
   "execution_count": 5,
   "id": "b5f3333e-cd31-4273-aaf9-16d515f428d9",
   "metadata": {},
   "outputs": [],
   "source": [
    "from sklearn.metrics import classification_report, auc, roc_curve\n",
    "from sklearn.metrics import confusion_matrix"
   ]
  },
  {
   "cell_type": "code",
   "execution_count": 6,
   "id": "389f3d32-8ec1-492e-89ba-5ff2171a5a2b",
   "metadata": {},
   "outputs": [],
   "source": [
    "with h5py.File(save_dir+'HRRR_domain.hdf', 'r') as h5io:\n",
    "    lon_72km = h5io['lon_72km'][...]\n",
    "    lat_72km = h5io['lat_72km'][...]\n",
    "    lon_3km = h5io['lon_3km'][...]\n",
    "    lat_3km = h5io['lat_3km'][...]\n",
    "    land_mask_72km = h5io['land_mask_72km'][...]\n",
    "    "
   ]
  },
  {
   "cell_type": "code",
   "execution_count": 7,
   "id": "e1471ba2-0cac-4351-9e2f-5cdc988d13f2",
   "metadata": {},
   "outputs": [],
   "source": [
    "base_v3_s = datetime(2018, 7, 15)\n",
    "base_v3_e = datetime(2020, 12, 2)\n",
    "\n",
    "base_v4_s = datetime(2020, 12, 3)\n",
    "base_v4_e = datetime(2022, 7, 15)\n",
    "\n",
    "base_ref = datetime(2010, 1, 1)\n",
    "\n",
    "date_list_v3 = [base_v3_s + timedelta(days=day) for day in range(365+365+142)]\n",
    "date_list_v4 = [base_v4_s + timedelta(days=day) for day in range(365+180)]"
   ]
  },
  {
   "cell_type": "code",
   "execution_count": 8,
   "id": "75767392-046b-48fb-a176-1f8452f67f5a",
   "metadata": {},
   "outputs": [],
   "source": [
    "lead = 21\n",
    "\n",
    "day_start = 675\n",
    "day_end = 872\n",
    "N_days = day_end - day_start\n",
    "\n",
    "#preserve_inds = [4, 5, 6, 15, 16]\n",
    "#shape_record = record_v3.shape"
   ]
  },
  {
   "cell_type": "code",
   "execution_count": 9,
   "id": "46ff9814-2cc7-4239-9baf-f437a949a916",
   "metadata": {},
   "outputs": [
    {
     "data": {
      "text/plain": [
       "197"
      ]
     },
     "execution_count": 9,
     "metadata": {},
     "output_type": "execute_result"
    }
   ],
   "source": [
    "N_days"
   ]
  },
  {
   "cell_type": "code",
   "execution_count": 10,
   "id": "8b390d8d-d542-4e8d-9810-d3315fb10716",
   "metadata": {},
   "outputs": [],
   "source": [
    "batch_dir = '/glade/scratch/ksha/DATA/NCAR_batch/'\n",
    "temp_dir = '/glade/work/ksha/NCAR/Keras_models/'\n",
    "\n",
    "final_out1 = zarr.load(temp_dir+'CONVNEXT_L_pp10_tune3'+'_lead{}_prob.zarr'.format(21))\n",
    "#final_out2 = zarr.load(temp_dir+'NEW_S_pp19_tune3'+'_lead{}_prob.zarr'.format(21))\n",
    "final_out = final_out1#+ 0.5*final_out2"
   ]
  },
  {
   "cell_type": "code",
   "execution_count": 11,
   "id": "e637d027-9828-40f8-a054-5b7051df6637",
   "metadata": {},
   "outputs": [],
   "source": [
    "Y_pred_grid = np.copy(final_out)\n",
    "#Y_pred_grid[:, ~land_mask_72km] = np.nan \n",
    "Y_pred_point = Y_pred_grid[:, land_mask_72km]"
   ]
  },
  {
   "cell_type": "code",
   "execution_count": null,
   "id": "fdf35b78-f129-49e8-9cb4-54da2f6015b4",
   "metadata": {},
   "outputs": [],
   "source": []
  },
  {
   "cell_type": "code",
   "execution_count": 12,
   "id": "1b8f0680-7d8f-4e74-8a70-a34f11d43bd6",
   "metadata": {},
   "outputs": [],
   "source": [
    "# def neighbour_leads(lead):\n",
    "#     out = [lead-2, lead-1, lead, lead+1]\n",
    "#     flag_shift = [0, 0, 0, 0]\n",
    "    \n",
    "#     for i in range(4):\n",
    "#         if out[i] < 0:\n",
    "#             out[i] = 24+out[i]\n",
    "#             flag_shift[i] = -1\n",
    "#         if out[i] > 23:\n",
    "#             out[i] = out[i]-24\n",
    "#             flag_shift[i] = +1\n",
    "            \n",
    "#     return out, flag_shift\n",
    "\n",
    "# lead_window, flag_shift = neighbour_leads(lead)\n",
    "\n",
    "# record_all = ()\n",
    "\n",
    "# for i, lead_temp in enumerate(lead_window):\n",
    "    \n",
    "#     flag_ = flag_shift[i]\n",
    "    \n",
    "#     with h5py.File(save_dir_scratch+'SPC_all_lead{}.hdf'.format(lead_temp), 'r') as h5io:\n",
    "#         record_temp = h5io['record_v3'][...]\n",
    "        \n",
    "#     if flag_shift[i] == 0:\n",
    "#         record_all = record_all + (record_temp,)\n",
    "        \n",
    "#     if flag_shift[i] == -1:\n",
    "#         record_temp[1:, ...] = record_temp[:-1, ...]\n",
    "#         record_temp[0, ...] = np.nan\n",
    "#         record_all = record_all + (record_temp,)\n",
    "    \n",
    "#     if flag_shift[i] == +1:\n",
    "#         record_temp[:-1, ...] = record_temp[1:, ...]\n",
    "#         record_temp[-1, ...] = np.nan\n",
    "#         record_all = record_all + (record_temp,)\n",
    "\n",
    "\n",
    "# shape_record = record_temp.shape      \n",
    "\n",
    "# record_v3 = np.concatenate(record_all, axis=1)\n",
    "# record_v3 = record_v3[day_start:day_end, :]\n",
    "\n",
    "# record_shape = record_v3.shape\n",
    "\n",
    "# gridTree = cKDTree(list(zip(lon_72km.ravel(), lat_72km.ravel())))\n",
    "# grid_shape = lon_72km.shape\n",
    "\n",
    "# for f in range(int(record_shape[-1]/2)):\n",
    "#     for i in range(N_days):\n",
    "        \n",
    "#         lon_temp = record_v3[i, 2*f]\n",
    "#         lat_temp = record_v3[i, 2*f+1]\n",
    "        \n",
    "#         flag_obs = lon_temp + lat_temp\n",
    "\n",
    "#         if np.logical_not(np.isnan(flag_obs)):\n",
    "            \n",
    "#             dist, indexes = gridTree.query(list(zip(lon_temp[None], lat_temp[None])))\n",
    "#             indx_72km, indy_72km = np.unravel_index(indexes, grid_shape)\n",
    "#             indx_72km = indx_72km[0]\n",
    "#             indy_72km = indy_72km[0]\n",
    "            \n",
    "#             Y_pred_grid"
   ]
  },
  {
   "cell_type": "code",
   "execution_count": 13,
   "id": "be1a155b-0500-4ccf-9184-33df3ba78b6a",
   "metadata": {},
   "outputs": [],
   "source": [
    "with h5py.File(save_dir_scratch+'SPC_to_lead{}_72km_all.hdf'.format(lead-2), 'r') as h5io:\n",
    "    record_1 = h5io['record_v3'][...]\n",
    "    \n",
    "with h5py.File(save_dir_scratch+'SPC_to_lead{}_72km_all.hdf'.format(lead-1), 'r') as h5io:\n",
    "    record_2 = h5io['record_v3'][...]\n",
    "    \n",
    "with h5py.File(save_dir_scratch+'SPC_to_lead{}_72km_all.hdf'.format(lead), 'r') as h5io:\n",
    "    record_3 = h5io['record_v3'][...]\n",
    "    \n",
    "with h5py.File(save_dir_scratch+'SPC_to_lead{}_72km_all.hdf'.format(lead+1), 'r') as h5io:\n",
    "    record_4 = h5io['record_v3'][...]\n",
    "    \n",
    "record_1[np.isnan(record_1)] = 0\n",
    "record_2[np.isnan(record_2)] = 0\n",
    "record_3[np.isnan(record_3)] = 0\n",
    "record_4[np.isnan(record_4)] = 0\n",
    "\n",
    "record_v3 = record_1 + record_2 + record_3 + record_4\n",
    "\n",
    "record_v3[record_v3>1] = 1"
   ]
  },
  {
   "cell_type": "code",
   "execution_count": 14,
   "id": "bb07cd32-30c3-4cfd-842c-3dfa314630f3",
   "metadata": {},
   "outputs": [],
   "source": [
    "Y_true_point = record_v3[:, land_mask_72km]\n",
    "Y_true_point = np.max(Y_true_point[day_start:day_end, :], axis=-1)"
   ]
  },
  {
   "cell_type": "code",
   "execution_count": 15,
   "id": "9a666438-b541-4fb5-b3ef-3e81d0313363",
   "metadata": {},
   "outputs": [
    {
     "data": {
      "text/plain": [
       "(197, 1544)"
      ]
     },
     "execution_count": 15,
     "metadata": {},
     "output_type": "execute_result"
    }
   ],
   "source": [
    "Y_true_point.shape"
   ]
  },
  {
   "cell_type": "code",
   "execution_count": 16,
   "id": "2e1d2548-4cae-4414-872c-b41907289464",
   "metadata": {},
   "outputs": [
    {
     "data": {
      "text/plain": [
       "(197, 1544)"
      ]
     },
     "execution_count": 16,
     "metadata": {},
     "output_type": "execute_result"
    }
   ],
   "source": [
    "Y_pred_point.shape"
   ]
  },
  {
   "cell_type": "code",
   "execution_count": 17,
   "id": "ab5f127f-102d-4557-8dc5-7fcfa28d0968",
   "metadata": {},
   "outputs": [
    {
     "name": "stdout",
     "output_type": "stream",
     "text": [
      "observations:\n",
      "True (severe weather): 2737\n",
      "False (no severe weather): 301431\n"
     ]
    }
   ],
   "source": [
    "print('observations:\\nTrue (severe weather): {}\\nFalse (no severe weather): {}'.format(np.sum(Y_true_point==1), np.sum(Y_true_point==0)))"
   ]
  },
  {
   "cell_type": "code",
   "execution_count": 18,
   "id": "089eb30c-1b0b-4219-8fed-d28381214b8a",
   "metadata": {},
   "outputs": [
    {
     "name": "stdout",
     "output_type": "stream",
     "text": [
      "              precision    recall  f1-score   support\n",
      "\n",
      "       False       0.99      0.99      0.99    301871\n",
      "        True       0.11      0.13      0.12      2297\n",
      "\n",
      "    accuracy                           0.99    304168\n",
      "   macro avg       0.55      0.56      0.56    304168\n",
      "weighted avg       0.99      0.99      0.99    304168\n",
      "\n"
     ]
    }
   ],
   "source": [
    "print(classification_report(Y_pred_point.ravel() > 0.5, Y_true_point.ravel()))"
   ]
  },
  {
   "cell_type": "code",
   "execution_count": 20,
   "id": "2f209d98-0441-49ec-b8f1-b645d4bf9513",
   "metadata": {},
   "outputs": [],
   "source": [
    "fpr, tpr, thres = roc_curve(Y_true_point.ravel(), Y_pred_point.ravel())"
   ]
  },
  {
   "cell_type": "code",
   "execution_count": 21,
   "id": "e227e51e-74e1-495a-9a49-6a48d3839117",
   "metadata": {},
   "outputs": [
    {
     "data": {
      "text/plain": [
       "0.6117863395064317"
      ]
     },
     "execution_count": 21,
     "metadata": {},
     "output_type": "execute_result"
    }
   ],
   "source": [
    "auc(fpr, tpr)"
   ]
  },
  {
   "cell_type": "code",
   "execution_count": 23,
   "id": "e2581c3b-fd3b-4545-980a-5355732c41d5",
   "metadata": {},
   "outputs": [],
   "source": [
    "thress=[0.2, 0.25, 0.3, 0.35, 0.4, 0.45, 0.5, 0.55, 0.6, 0.65]"
   ]
  },
  {
   "cell_type": "code",
   "execution_count": 24,
   "id": "f897a1bd-0ebe-443f-83b7-f682b07e8db4",
   "metadata": {},
   "outputs": [],
   "source": [
    "CSI = []\n",
    "POFD = []\n",
    "AUC = []\n",
    "freq = []\n",
    "\n",
    "for i, thres in enumerate(thress):\n",
    "\n",
    "    Y_pred_label = Y_pred_point > thres\n",
    "    \n",
    "    tn, fp, fn, tp = confusion_matrix(Y_true_point.ravel(), Y_pred_label.ravel()).ravel()\n",
    "    CSI.append(tp/(tp+fn+fp))\n",
    "    POFD.append(fp/(tn+fp))\n",
    "    freq.append((tp+fp)/(tp+fn))\n",
    "    "
   ]
  },
  {
   "cell_type": "code",
   "execution_count": 25,
   "id": "a844a757-1845-47cb-8019-c8a4f8522a08",
   "metadata": {},
   "outputs": [
    {
     "data": {
      "text/plain": [
       "Text(0, 0.5, 'AUC')"
      ]
     },
     "execution_count": 25,
     "metadata": {},
     "output_type": "execute_result"
    },
    {
     "data": {
      "image/png": "[encoded data removed]",
      "text/plain": [
       "<Figure size 1300x500 with 2 Axes>"
      ]
     },
     "metadata": {},
     "output_type": "display_data"
    }
   ],
   "source": [
    "plt.figure(figsize=(13, 5))\n",
    "plt.subplot(121)\n",
    "plt.bar(thress, CSI, width=0.05, edgecolor='k')\n",
    "plt.xlabel('thresholds')\n",
    "plt.ylabel('CSI')\n",
    "\n",
    "plt.subplot(122)\n",
    "plt.bar(thress, AUC, width=0.05, edgecolor='k')\n",
    "plt.xlabel('thresholds')\n",
    "plt.ylabel('AUC')"
   ]
  },
  {
   "cell_type": "code",
   "execution_count": null,
   "id": "19325aa7-7006-47f3-91f0-6a0ef09b8e04",
   "metadata": {},
   "outputs": [],
   "source": []
  },
  {
   "cell_type": "code",
   "execution_count": null,
   "id": "bd2b220c-ffba-4e81-a081-4ef50e4b9785",
   "metadata": {},
   "outputs": [],
   "source": []
  },
  {
   "cell_type": "code",
   "execution_count": 26,
   "id": "dbcefb74-6e3d-41b5-8a3a-2bc2a491d487",
   "metadata": {},
   "outputs": [
    {
     "name": "stdout",
     "output_type": "stream",
     "text": [
      "CSI: [0.06875391358797746, 0.06915685478413859, 0.06795547744581136, 0.06783194355355997, 0.06762438682550806, 0.06602687140115163, 0.06562235393734124, 0.060338659670880035, 0.05412719891745602, 0.04391891891891892];\n",
      "POFD: [0.017410286267835758, 0.015433051013333069, 0.013571928567400167, 0.011607963348162598, 0.009856318693166928, 0.008204199302659646, 0.006591890017947723, 0.004830292836503213, 0.0031781734459959327, 0.0017217870756491536];\n",
      "AUC: [0.5915871476954573, 0.5856338581250471, 0.5779783762351162, 0.5714704063419946, 0.5655870032401904, 0.5587404286643443, 0.5533354031824765, 0.5438033409767065, 0.5349472669489056, 0.5252625993375865];\n",
      "freq: [2.1180124223602483, 1.88637194008038, 1.6642309097552064, 1.432955791012057, 1.226525392765802, 1.0292290829375228, 0.8392400438436244, 0.6244062842528316, 0.42309097552064306, 0.24187066130800147]\n"
     ]
    }
   ],
   "source": [
    "print('CSI: {};\\nPOFD: {};\\nAUC: {};\\nfreq: {}'.format(CSI, POFD, AUC, freq))"
   ]
  },
  {
   "cell_type": "code",
   "execution_count": 23,
   "id": "b05496ba-0936-4181-8edc-9baa16edaf72",
   "metadata": {},
   "outputs": [],
   "source": [
    "#plt.pcolormesh(Y_pred_grid[3, ...], vmin=0, vmax=1.0, cmap=plt.cm.nipy_spectral_r)"
   ]
  },
  {
   "cell_type": "code",
   "execution_count": null,
   "id": "8f98d190-5a14-41a1-be09-dec788c691c6",
   "metadata": {},
   "outputs": [],
   "source": []
  },
  {
   "cell_type": "code",
   "execution_count": null,
   "id": "7f58cb4d-1fa9-426f-a69a-201ec5076d88",
   "metadata": {},
   "outputs": [],
   "source": []
  },
  {
   "cell_type": "markdown",
   "id": "f22c2b5a-a52d-43b3-82b4-bee0dd793920",
   "metadata": {},
   "source": [
    "### BSS"
   ]
  },
  {
   "cell_type": "code",
   "execution_count": 27,
   "id": "20b13da1-822c-4744-baf3-cc0ffc1abd0f",
   "metadata": {},
   "outputs": [],
   "source": [
    "from sklearn.metrics import brier_score_loss"
   ]
  },
  {
   "cell_type": "code",
   "execution_count": 28,
   "id": "d1aa5a02-2f48-414a-b971-f0a95c446802",
   "metadata": {},
   "outputs": [],
   "source": [
    "def reliability_diagram(cate_true, prob_model, bins):\n",
    "    binids = np.searchsorted(bins, prob_model)\n",
    "    bin_sums = np.bincount(binids, weights=prob_model, minlength=len(bins))\n",
    "    bin_true = np.bincount(binids, weights=cate_true, minlength=len(bins))\n",
    "    bin_total = np.bincount(binids, minlength=len(bins))\n",
    "    flag = bin_total > 0\n",
    "    prob_true = bin_true/bin_total\n",
    "    prob_pred = bin_sums/bin_total\n",
    "    prob_true[~flag] = np.nan\n",
    "    return prob_true, prob_pred"
   ]
  },
  {
   "cell_type": "code",
   "execution_count": 29,
   "id": "618e00a2-dd91-402c-972c-91ed8ecff177",
   "metadata": {},
   "outputs": [],
   "source": [
    "N_bins = 15\n",
    "hist_bins = np.linspace(0, 1, N_bins)\n",
    "N_boost = 100"
   ]
  },
  {
   "cell_type": "code",
   "execution_count": 30,
   "id": "8c7997c2-b441-4577-bee3-678a9824fb8c",
   "metadata": {},
   "outputs": [
    {
     "name": "stderr",
     "output_type": "stream",
     "text": [
      "/glade/scratch/ksha/ipykernel_185970/2772493973.py:7: RuntimeWarning: invalid value encountered in divide\n",
      "  prob_true = bin_true/bin_total\n",
      "/glade/scratch/ksha/ipykernel_185970/2772493973.py:8: RuntimeWarning: invalid value encountered in divide\n",
      "  prob_pred = bin_sums/bin_total\n"
     ]
    },
    {
     "data": {
      "text/plain": [
       "0.011489001669823893"
      ]
     },
     "execution_count": 30,
     "metadata": {},
     "output_type": "execute_result"
    }
   ],
   "source": [
    "prob_true_, prob_pred_ = reliability_diagram(Y_true_point.ravel(), Y_pred_point.ravel(), hist_bins)\n",
    "brier_score_loss(Y_true_point.ravel(), Y_pred_point.ravel())"
   ]
  },
  {
   "cell_type": "code",
   "execution_count": 31,
   "id": "2ba90baa-e4cb-4155-bc7c-0a84da055b5d",
   "metadata": {},
   "outputs": [
    {
     "data": {
      "text/plain": [
       "0.00891734701591964"
      ]
     },
     "execution_count": 31,
     "metadata": {},
     "output_type": "execute_result"
    }
   ],
   "source": [
    "brier_score_loss(Y_true_point.ravel(), 0.0089983*np.ones(Y_true_point.ravel().shape))"
   ]
  },
  {
   "cell_type": "code",
   "execution_count": 264,
   "id": "8fe87ec7-319c-445a-9dab-a971d4786fd5",
   "metadata": {},
   "outputs": [],
   "source": [
    "#brier[d, n] = brier_\n",
    "#hist_bins_ = np.mean(prob_pred[d, ...], axis=1)\n",
    "#use_, _ = np.histogram(fcst, bins=np.array(list(hist_bins_)+[1.0]))\n",
    "#use[d, :] = use_"
   ]
  },
  {
   "cell_type": "code",
   "execution_count": 33,
   "id": "db1c10f6-b84b-461d-a0f9-ec790b481843",
   "metadata": {},
   "outputs": [],
   "source": [
    "o_bar_ = np.mean(Y_true_point.ravel())"
   ]
  },
  {
   "cell_type": "code",
   "execution_count": 34,
   "id": "6bd618ae-ecd3-406a-88c0-ebb25ee0f502",
   "metadata": {},
   "outputs": [],
   "source": [
    "from sklearn.calibration import calibration_curve"
   ]
  },
  {
   "cell_type": "code",
   "execution_count": 38,
   "id": "6267ee9e-8ed6-4feb-b2c2-6f44bcbdfbf0",
   "metadata": {},
   "outputs": [],
   "source": [
    "prob_true, prob_pred = calibration_curve(Y_true_point.ravel(), Y_pred_point.ravel(), n_bins=50)"
   ]
  },
  {
   "cell_type": "code",
   "execution_count": 39,
   "id": "9ae8660b-b52c-4afb-b563-3ae0ff97bf3d",
   "metadata": {},
   "outputs": [
    {
     "data": {
      "text/plain": [
       "(0.0, 1.0)"
      ]
     },
     "execution_count": 39,
     "metadata": {},
     "output_type": "execute_result"
    },
    {
     "data": {
      "image/png": "[encoded data removed]",
      "text/plain": [
       "<Figure size 600x600 with 1 Axes>"
      ]
     },
     "metadata": {},
     "output_type": "display_data"
    }
   ],
   "source": [
    "fig = plt.figure(figsize=(6, 6))\n",
    "ax = fig.gca()\n",
    "\n",
    "\n",
    "ax.plot(prob_pred, 0.5*prob_pred + 0.5*o_bar_, lw=3.0)\n",
    "\n",
    "ax.plot(np.linspace(0, 1, 10), np.linspace(0, 1, 10), 'r--', lw=2.0)\n",
    "\n",
    "plt.plot(prob_pred, prob_true)\n",
    "ax.set_xlim([0, 1])\n",
    "ax.set_ylim([0, 1])"
   ]
  },
  {
   "cell_type": "code",
   "execution_count": 40,
   "id": "7e464ef0-25f4-4730-a84a-e837964d5794",
   "metadata": {},
   "outputs": [
    {
     "data": {
      "text/plain": [
       "1.288387863488235"
      ]
     },
     "execution_count": 40,
     "metadata": {},
     "output_type": "execute_result"
    }
   ],
   "source": [
    "0.011489001669823893 / 0.00891734701591964"
   ]
  },
  {
   "cell_type": "code",
   "execution_count": null,
   "id": "3091507a-9ba7-4b7a-95bf-5e4bf2920d79",
   "metadata": {},
   "outputs": [],
   "source": []
  },
  {
   "cell_type": "code",
   "execution_count": null,
   "id": "09715666-a1c6-4a9e-9470-a5514f8d176d",
   "metadata": {},
   "outputs": [],
   "source": []
  },
  {
   "cell_type": "code",
   "execution_count": null,
   "id": "a6ee0720-7b52-4d47-9dee-2353fe60d5fa",
   "metadata": {},
   "outputs": [],
   "source": []
  },
  {
   "cell_type": "code",
   "execution_count": null,
   "id": "25de7c9c-f543-4509-be56-0c6ce9452481",
   "metadata": {},
   "outputs": [],
   "source": []
  }
 ],
 "metadata": {
  "kernelspec": {
   "display_name": "Python 3 (ipykernel)",
   "language": "python",
   "name": "python3"
  },
  "language_info": {
   "codemirror_mode": {
    "name": "ipython",
    "version": 3
   },
   "file_extension": ".py",
   "mimetype": "text/x-python",
   "name": "python",
   "nbconvert_exporter": "python",
   "pygments_lexer": "ipython3",
   "version": "3.9.13"
  }
 },
 "nbformat": 4,
 "nbformat_minor": 5
}
