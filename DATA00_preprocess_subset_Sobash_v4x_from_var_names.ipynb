{
 "cells": [
  {
   "cell_type": "code",
   "execution_count": 1,
   "id": "d6c40238-63c3-470b-a53b-00b8452e4beb",
   "metadata": {},
   "outputs": [],
   "source": [
    "import sys\n",
    "from glob import glob\n",
    "\n",
    "import h5py\n",
    "import pygrib\n",
    "import numpy as np\n",
    "import pandas as pd\n",
    "from datetime import datetime, timedelta"
   ]
  },
  {
   "cell_type": "code",
   "execution_count": 2,
   "id": "26228efa-0c26-457f-80bc-4ecc51485d90",
   "metadata": {},
   "outputs": [],
   "source": [
    "sys.path.insert(0, '/glade/u/home/ksha/NCAR/')\n",
    "sys.path.insert(0, '/glade/u/home/ksha/NCAR/libs/')\n",
    "\n",
    "from namelist import *\n",
    "import data_utils as du\n",
    "#import preprocess_utils as pu"
   ]
  },
  {
   "cell_type": "code",
   "execution_count": 3,
   "id": "7ea44f67-0cfc-4178-b515-e276ed9ac757",
   "metadata": {},
   "outputs": [],
   "source": [
    "import matplotlib.pyplot as plt\n",
    "%matplotlib inline"
   ]
  },
  {
   "cell_type": "code",
   "execution_count": 4,
   "id": "fca2588d-7169-44e0-bf3e-c1fda743a43c",
   "metadata": {},
   "outputs": [],
   "source": [
    "with h5py.File(save_dir+'HRRR_domain.hdf', 'r') as h5io:\n",
    "    lon_3km = h5io['lon_3km'][...]\n",
    "    lat_3km = h5io['lat_3km'][...]\n",
    "    lon_80km = h5io['lon_80km'][...]\n",
    "    lat_80km = h5io['lat_80km'][...]\n",
    "    land_mask_80km = h5io['land_mask_80km'][...]\n",
    "    land_mask_3km = h5io['land_mask_3km'][...]"
   ]
  },
  {
   "cell_type": "code",
   "execution_count": 5,
   "id": "2ded3fe0-c311-45c6-9244-d269321a036c",
   "metadata": {},
   "outputs": [],
   "source": [
    "# names = glob('/glade/campaign/mmm/parc/sobash/HRRRv4/2019100200/*')"
   ]
  },
  {
   "cell_type": "code",
   "execution_count": 6,
   "id": "b375e7fd-ebcd-4e59-bbb7-2a4828d05a6f",
   "metadata": {},
   "outputs": [],
   "source": [
    "lead = 2\n",
    "HRRR_inds_p1 = [601, 614, 617, 621, 630, 671, 674, 679, 690, 708, 709, 736, 737, 742, 743]\n",
    "HRRR_inds_p2 = [601, 614, 617, 621, 630, 671, 674, 679, 690, 708+4, 709+4, 736+4, 737+4, 742+4, 743+4]"
   ]
  },
  {
   "cell_type": "code",
   "execution_count": 7,
   "id": "47cb98bc-6a5f-4a3f-b482-eb2d420fa670",
   "metadata": {},
   "outputs": [],
   "source": [
    "# var_names = []\n",
    "\n",
    "# with pygrib.open(names[0]) as grbio:\n",
    "#     var_list = grbio()\n",
    "#     for i, ind in enumerate(HRRR_inds_p1):\n",
    "#         var_names.append(str(grbio[ind])[:35])"
   ]
  },
  {
   "cell_type": "code",
   "execution_count": 8,
   "id": "1e5032a3-9dcf-4bfd-ba65-a3a1c9186e5e",
   "metadata": {},
   "outputs": [],
   "source": [
    "# ['Max/Comp Radar',\n",
    "#  'MSLP',\n",
    "#  'UH 2-5 km',\n",
    "#  'UH 0-2 km',\n",
    "#  'Graupel mass',\n",
    "#  'T 2m',\n",
    "#  'Dewpoint 2m',\n",
    "#  'SPD 10m',\n",
    "#  'APCP',\n",
    "#  'CAPE',\n",
    "#  'CIN',\n",
    "#  'SRH 0-3 km',\n",
    "#  'SRH 0-1 km',\n",
    "#  'U shear 0-6 km',\n",
    "#  'V shear 0-6 km']"
   ]
  },
  {
   "cell_type": "code",
   "execution_count": 9,
   "id": "57ff4dcc-b0ff-4dec-8dc3-a7ca108d3b2e",
   "metadata": {},
   "outputs": [],
   "source": [
    "base_ref = datetime(2019, 10, 1)\n",
    "date_list_v4x = [base_ref + timedelta(days=day) for day in range(429)]"
   ]
  },
  {
   "cell_type": "code",
   "execution_count": 10,
   "id": "32b5b294-e430-4cb3-9bc7-65d821832cf5",
   "metadata": {},
   "outputs": [],
   "source": [
    "filepath = '/glade/campaign/mmm/parc/sobash/HRRRv4/{}/{}'"
   ]
  },
  {
   "cell_type": "code",
   "execution_count": 12,
   "id": "190f31c4-f593-4ff1-9cee-4f3ddd709f3a",
   "metadata": {},
   "outputs": [],
   "source": [
    "i = 1\n",
    "var_names_p1 = []\n",
    "date_temp = date_list_v4x[i]\n",
    "\n",
    "name_folder = datetime.strftime(date_temp, '%Y%m%d00')\n",
    "filename_pattern = '*0000{:02d}00'.format(lead)\n",
    "filename = sorted(glob(filepath.format(name_folder, filename_pattern)))[0]\n",
    "\n",
    "with pygrib.open(filename) as grbio:\n",
    "    var_list = grbio()\n",
    "    for i, ind in enumerate(HRRR_inds_p1):\n",
    "        var_names_p1.append(str(grbio[ind])[:55])\n",
    "        \n",
    "i = 241\n",
    "var_names_p2 = []\n",
    "date_temp = date_list_v4x[i]\n",
    "\n",
    "name_folder = datetime.strftime(date_temp, '%Y%m%d00')\n",
    "filename_pattern = '*0000{:02d}00'.format(lead)\n",
    "filename = sorted(glob(filepath.format(name_folder, filename_pattern)))[0]\n",
    "\n",
    "with pygrib.open(filename) as grbio:\n",
    "    var_list = grbio()\n",
    "    for i, ind in enumerate(HRRR_inds_p2):\n",
    "        var_names_p2.append(str(grbio[ind])[:35])"
   ]
  },
  {
   "cell_type": "code",
   "execution_count": 13,
   "id": "d699747c-f6b7-4a11-8014-e5c7d26ec522",
   "metadata": {},
   "outputs": [
    {
     "data": {
      "text/plain": [
       "['601:196:196 (instant):lambert:atmosphere:level 0 10:fcs',\n",
       " '614:198:198 (instant):lambert:meanSea:level 0:fcst time',\n",
       " '617:199:199 (max):lambert:heightAboveGroundLayer:levels',\n",
       " '621:199:199 (max):lambert:heightAboveGroundLayer:levels',\n",
       " '630:74:74 (max):lambert:unknown:level 0 200:fcst time 1',\n",
       " '671:2 metre temperature:K (instant):lambert:heightAbove',\n",
       " '674:2 metre dewpoint temperature:K (instant):lambert:he',\n",
       " '679:10 metre wind speed:m s**-1 (max):lambert:heightAbo',\n",
       " '690:Total precipitation:kg m-2 (accum):lambert:surface:',\n",
       " '708:Convective available potential energy:J kg-1 (insta',\n",
       " '709:Convective inhibition:J kg-1 (instant):lambert:surf',\n",
       " '736:Storm relative helicity:J kg**-1 (instant):lambert:',\n",
       " '737:Storm relative helicity:J kg**-1 (instant):lambert:',\n",
       " '742:Vertical u-component shear:s**-1 (instant):lambert:',\n",
       " '743:Vertical v-component shear:s**-1 (instant):lambert:']"
      ]
     },
     "execution_count": 13,
     "metadata": {},
     "output_type": "execute_result"
    }
   ],
   "source": [
    "var_names_p1"
   ]
  },
  {
   "cell_type": "code",
   "execution_count": 17,
   "id": "15480b2b-77c8-406a-9fa7-9ed90021abf5",
   "metadata": {},
   "outputs": [
    {
     "data": {
      "text/plain": [
       "['601:196:196 (instant):lambert:atmos',\n",
       " '614:198:198 (instant):lambert:meanS',\n",
       " '617:199:199 (max):lambert:heightAbo',\n",
       " '621:199:199 (max):lambert:heightAbo',\n",
       " '630:74:74 (max):lambert:unknown:lev',\n",
       " '671:2 metre temperature:K (instant)',\n",
       " '674:2 metre dewpoint temperature:K ',\n",
       " '679:10 metre wind speed:m s**-1 (ma',\n",
       " '690:Total precipitation:kg m-2 (acc',\n",
       " '712:Convective available potential ',\n",
       " '713:Convective inhibition:J kg-1 (i',\n",
       " '740:Storm relative helicity:J kg**-',\n",
       " '741:Storm relative helicity:J kg**-',\n",
       " '746:Vertical u-component shear:s**-',\n",
       " '747:Vertical v-component shear:s**-']"
      ]
     },
     "execution_count": 17,
     "metadata": {},
     "output_type": "execute_result"
    }
   ],
   "source": [
    "var_names_p2"
   ]
  },
  {
   "cell_type": "code",
   "execution_count": 15,
   "id": "703ad5eb-c513-410c-afe0-e6a518617f35",
   "metadata": {},
   "outputs": [],
   "source": [
    "prefix = 'v4'"
   ]
  },
  {
   "cell_type": "code",
   "execution_count": 14,
   "id": "6533365b-c7cb-462f-a5eb-4fa7375baaf4",
   "metadata": {},
   "outputs": [],
   "source": [
    "# index change: 2020,5,29,0,0,0"
   ]
  },
  {
   "cell_type": "code",
   "execution_count": 16,
   "id": "64835a42-b22f-434a-9ef1-b9021c6ba7e3",
   "metadata": {},
   "outputs": [
    {
     "data": {
      "text/plain": [
       "datetime.datetime(2020, 5, 29, 0, 0)"
      ]
     },
     "execution_count": 16,
     "metadata": {},
     "output_type": "execute_result"
    }
   ],
   "source": [
    "date_list_v4x[241]"
   ]
  },
  {
   "cell_type": "code",
   "execution_count": 22,
   "id": "bcf41095-801e-4bc0-abee-27606a12fc82",
   "metadata": {},
   "outputs": [],
   "source": [
    "# Max number of possible files\n",
    "L = len(date_list_v4x)\n",
    "\n",
    "# Allocation (one array for one lead time)\n",
    "VARs = np.empty((L, 1059, 1799, 23))\n",
    "\n",
    "\n",
    "for i in range(240, 243, 1):\n",
    "\n",
    "    var_names_temp = []\n",
    "    date_temp = date_list_v4x[i]\n",
    "    print(date_temp)\n",
    "    \n",
    "    name_folder = datetime.strftime(date_temp, '%Y%m%d00')\n",
    "    filename_pattern = '*0000{:02d}00'.format(lead)\n",
    "    filename = sorted(glob(filepath.format(name_folder, filename_pattern)))\n",
    "\n",
    "    if len(filename) > 0:\n",
    "        filename = filename[0]\n",
    "    \n",
    "        if i >= 241:\n",
    "            with pygrib.open(filename) as grbio:\n",
    "                var_list = grbio()\n",
    "                for j, ind in enumerate(HRRR_inds_p2):\n",
    "                    VARs[i, ..., j] = grbio[ind].values\n",
    "                    var_names_temp.append(str(grbio[ind])[:35])\n",
    "                    \n",
    "            if var_names_temp != var_names_p2:\n",
    "                print('var names mismatch')\n",
    "                VARs[i, ...] = np.nan\n",
    "                \n",
    "        else:\n",
    "            with pygrib.open(filename) as grbio:\n",
    "                var_list = grbio()\n",
    "                for j, ind in enumerate(HRRR_inds_p1):\n",
    "                    VARs[i, ..., j] = grbio[ind].values\n",
    "                    var_names_temp.append(str(grbio[ind])[:35])\n",
    "                    \n",
    "            if var_names_temp != var_names_p1:\n",
    "                print('var names mismatch')\n",
    "                VARs[i, ...] = np.nan\n",
    "    else:\n",
    "        print(filepath.format(name_folder, filename_pattern)+' is missing')\n",
    "        VARs[i, ...] = np.nan"
   ]
  },
  {
   "cell_type": "code",
   "execution_count": 25,
   "id": "8b9407c0-69ca-4f8f-8112-8834eaae2491",
   "metadata": {},
   "outputs": [
    {
     "data": {
      "text/plain": [
       "True"
      ]
     },
     "execution_count": 25,
     "metadata": {},
     "output_type": "execute_result"
    }
   ],
   "source": [
    "var_names_temp == var_names_p2"
   ]
  },
  {
   "cell_type": "code",
   "execution_count": null,
   "id": "c653cf31-158f-4fdf-b4b4-a73d7318c70f",
   "metadata": {},
   "outputs": [],
   "source": []
  },
  {
   "cell_type": "code",
   "execution_count": null,
   "id": "bdd75649-1a34-4123-a644-0f9d54a51af8",
   "metadata": {},
   "outputs": [],
   "source": []
  },
  {
   "cell_type": "code",
   "execution_count": null,
   "id": "5a90f501-014a-485f-ba94-ef5be4227b15",
   "metadata": {},
   "outputs": [],
   "source": []
  }
 ],
 "metadata": {
  "kernelspec": {
   "display_name": "Python 3 (ipykernel)",
   "language": "python",
   "name": "python3"
  },
  "language_info": {
   "codemirror_mode": {
    "name": "ipython",
    "version": 3
   },
   "file_extension": ".py",
   "mimetype": "text/x-python",
   "name": "python",
   "nbconvert_exporter": "python",
   "pygments_lexer": "ipython3",
   "version": "3.9.15"
  }
 },
 "nbformat": 4,
 "nbformat_minor": 5
}
