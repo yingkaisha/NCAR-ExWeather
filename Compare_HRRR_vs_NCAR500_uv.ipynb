{
 "cells": [
  {
   "cell_type": "code",
   "execution_count": 15,
   "id": "0689014d-f519-4ac5-a8b8-63d346ab94bd",
   "metadata": {},
   "outputs": [],
   "source": [
    "import sys\n",
    "from glob import glob\n",
    "from datetime import datetime, timedelta\n",
    "\n",
    "import h5py\n",
    "import pygrib\n",
    "import numpy as np\n",
    "import netCDF4 as nc"
   ]
  },
  {
   "cell_type": "code",
   "execution_count": 2,
   "id": "6507de39-7216-4d8e-9722-503bdd5e49f8",
   "metadata": {},
   "outputs": [],
   "source": [
    "import matplotlib.pyplot as plt\n",
    "%matplotlib inline"
   ]
  },
  {
   "cell_type": "code",
   "execution_count": 3,
   "id": "ba478aa8-d464-4627-82db-852c914c2d93",
   "metadata": {},
   "outputs": [],
   "source": [
    "sys.path.insert(0, '/glade/u/home/ksha/NCAR/')\n",
    "sys.path.insert(0, '/glade/u/home/ksha/NCAR/libs/')\n",
    "\n",
    "from namelist import *\n",
    "import data_utils as du\n",
    "import preprocess_utils as pu"
   ]
  },
  {
   "cell_type": "code",
   "execution_count": 4,
   "id": "74d8bc49-629a-4651-a450-6e75e231ebf1",
   "metadata": {},
   "outputs": [
    {
     "data": {
      "text/plain": [
       "<module 'data_utils' from '/glade/u/home/ksha/NCAR/libs/data_utils.py'>"
      ]
     },
     "execution_count": 4,
     "metadata": {},
     "output_type": "execute_result"
    }
   ],
   "source": [
    "import importlib\n",
    "importlib.reload(du)"
   ]
  },
  {
   "cell_type": "code",
   "execution_count": 19,
   "id": "c4c1b231-ed5c-49f5-a851-e56266558939",
   "metadata": {},
   "outputs": [],
   "source": [
    "year = 2019\n",
    "nc_files = sorted(glob(NCAR500_dir+'{}*/*_12_00_00.nc'.format(year)))"
   ]
  },
  {
   "cell_type": "code",
   "execution_count": 21,
   "id": "ab574c44-d6c5-4c82-a61c-2e72e98f46ca",
   "metadata": {},
   "outputs": [],
   "source": [
    "### HRRR test\n",
    "with pygrib.open(HRRR_dir+'HRRR.20181231.natf12.grib2') as grbio:\n",
    "    var = grbio.select(name='10 metre U wind component')[0]\n",
    "    U10_HRRR = var.values\n",
    "    var = grbio.select(name='10 metre V wind component')[0]\n",
    "    V10_HRRR = var.values"
   ]
  },
  {
   "cell_type": "code",
   "execution_count": 22,
   "id": "0c0e419c-8d5e-4ed7-8620-0950ee779d84",
   "metadata": {},
   "outputs": [],
   "source": [
    "HRRR_shape = U10_HRRR.shape\n",
    "L = len(nc_files)\n",
    "U10_HRRR_full = np.empty((L,)+HRRR_shape)\n",
    "V10_HRRR_full = np.empty((L,)+HRRR_shape)\n",
    "\n",
    "for i in range(L):\n",
    "    dt_str = nc_files[i][51:59]\n",
    "    with pygrib.open(HRRR_dir+'HRRR.{}.natf12.grib2'.format(dt_str)) as grbio:\n",
    "        var = grbio.select(name='10 metre U wind component')[0]\n",
    "        U10_HRRR_full[i, ...] = var.values\n",
    "        var = grbio.select(name='10 metre V wind component')[0]\n",
    "        V10_HRRR_full[i, ...] = var.values"
   ]
  },
  {
   "cell_type": "code",
   "execution_count": 23,
   "id": "7b252312-bf6e-4ab3-aa30-aebf953eb2eb",
   "metadata": {},
   "outputs": [],
   "source": [
    "with h5py.File(save_dir+\"NCAR500_y{}.hdf\".format(year), 'r') as h5io:\n",
    "        U10_NCAR500 = h5io['U10'][...]\n",
    "        V10_NCAR500 = h5io['V10'][...]"
   ]
  },
  {
   "cell_type": "code",
   "execution_count": 33,
   "id": "250c13bc-c171-4472-b623-29789f5c5c23",
   "metadata": {},
   "outputs": [],
   "source": [
    "U10_HRRR_full = U10_HRRR_full[:, 32:1017, 109:1689]"
   ]
  },
  {
   "cell_type": "code",
   "execution_count": 34,
   "id": "b00274ea-adb8-41a7-b49d-b82fb0d890f5",
   "metadata": {},
   "outputs": [],
   "source": [
    "V10_HRRR_full = V10_HRRR_full[:, 32:1017, 109:1689]"
   ]
  },
  {
   "cell_type": "code",
   "execution_count": 38,
   "id": "58cc455c-3ee3-4c77-a383-eb35d85ccf33",
   "metadata": {},
   "outputs": [
    {
     "data": {
      "text/plain": [
       "12.361249923706055"
      ]
     },
     "execution_count": 38,
     "metadata": {},
     "output_type": "execute_result"
    }
   ],
   "source": [
    "np.quantile(U10_HRRR_full.ravel(), 0.999)"
   ]
  },
  {
   "cell_type": "code",
   "execution_count": null,
   "id": "db263d38-8e42-4551-877b-38a716e4f3a3",
   "metadata": {},
   "outputs": [],
   "source": []
  },
  {
   "cell_type": "code",
   "execution_count": 55,
   "id": "f70a0379-62c7-465d-a482-72ec9db2023a",
   "metadata": {},
   "outputs": [],
   "source": [
    "u_bins = np.linspace(-40, 40, 160)\n",
    "v_bins = np.linspace(-40, 40, 160)"
   ]
  },
  {
   "cell_type": "code",
   "execution_count": 57,
   "id": "87eca146-a952-457f-b778-7d7392e14d1c",
   "metadata": {},
   "outputs": [
    {
     "data": {
      "text/plain": [
       "<matplotlib.legend.Legend at 0x2b0c5e1ff790>"
      ]
     },
     "execution_count": 57,
     "metadata": {},
     "output_type": "execute_result"
    },
    {
     "data": {
      "image/png": "[encoded data removed]",
      "text/plain": [
       "<Figure size 936x360 with 1 Axes>"
      ]
     },
     "metadata": {
      "needs_background": "light"
     },
     "output_type": "display_data"
    }
   ],
   "source": [
    "plt.figure(figsize=(13, 5))\n",
    "ax = plt.gca()\n",
    "ax.hist(U10_NCAR500.ravel(), bins=u_bins, density=True, log=True, label='NCAR-500');\n",
    "ax.hist(U10_HRRR_full.ravel(), bins=u_bins, density=True, log=True, label='HRRR');\n",
    "ax.set_title(\"U10, 2019, NCAR500 dates, 12-hr lead time\", fontsize=14)\n",
    "ax.legend()"
   ]
  },
  {
   "cell_type": "code",
   "execution_count": 59,
   "id": "70d42201-5c38-4d62-bc64-f2fbc0a0e016",
   "metadata": {},
   "outputs": [
    {
     "data": {
      "text/plain": [
       "<matplotlib.legend.Legend at 0x2b0c5ea7b6d0>"
      ]
     },
     "execution_count": 59,
     "metadata": {},
     "output_type": "execute_result"
    },
    {
     "data": {
      "image/png": "[encoded data removed]",
      "text/plain": [
       "<Figure size 936x360 with 1 Axes>"
      ]
     },
     "metadata": {
      "needs_background": "light"
     },
     "output_type": "display_data"
    }
   ],
   "source": [
    "plt.figure(figsize=(13, 5))\n",
    "ax = plt.gca()\n",
    "ax.hist(V10_NCAR500.ravel(), bins=v_bins, density=True, log=True, label='NCAR-500');\n",
    "ax.hist(V10_HRRR_full.ravel(), bins=v_bins, density=True, log=True, label='HRRR');\n",
    "ax.set_title(\"V10, 2019, NCAR500 dates, 12-hr lead time\", fontsize=14)\n",
    "ax.legend()"
   ]
  },
  {
   "cell_type": "code",
   "execution_count": null,
   "id": "5ec71a68-9892-462f-8e9b-d0d9f02bf5a1",
   "metadata": {},
   "outputs": [],
   "source": []
  }
 ],
 "metadata": {
  "kernelspec": {
   "display_name": "Python 3 (ipykernel)",
   "language": "python",
   "name": "python3"
  },
  "language_info": {
   "codemirror_mode": {
    "name": "ipython",
    "version": 3
   },
   "file_extension": ".py",
   "mimetype": "text/x-python",
   "name": "python",
   "nbconvert_exporter": "python",
   "pygments_lexer": "ipython3",
   "version": "3.9.13"
  }
 },
 "nbformat": 4,
 "nbformat_minor": 5
}
