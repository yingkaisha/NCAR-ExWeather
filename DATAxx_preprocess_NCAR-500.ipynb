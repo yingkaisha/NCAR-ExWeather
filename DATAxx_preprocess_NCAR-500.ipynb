{
 "cells": [
  {
   "cell_type": "code",
   "execution_count": 1,
   "id": "a51c1c14-5d11-423f-8ee6-9f128c5d4462",
   "metadata": {},
   "outputs": [],
   "source": [
    "import sys\n",
    "from glob import glob\n",
    "from datetime import datetime, timedelta\n",
    "\n",
    "import h5py\n",
    "import numpy as np\n",
    "import netCDF4 as nc"
   ]
  },
  {
   "cell_type": "code",
   "execution_count": 2,
   "id": "de3bcad6-2cf1-4443-85c1-bfa7b145c474",
   "metadata": {},
   "outputs": [],
   "source": [
    "import matplotlib.pyplot as plt\n",
    "%matplotlib inline"
   ]
  },
  {
   "cell_type": "code",
   "execution_count": 3,
   "id": "dfdf5731-e477-4261-b330-8c837f085cf2",
   "metadata": {},
   "outputs": [],
   "source": [
    "sys.path.insert(0, '/glade/u/home/ksha/NCAR/')\n",
    "sys.path.insert(0, '/glade/u/home/ksha/NCAR/libs/')\n",
    "\n",
    "from namelist import *\n",
    "import data_utils as du\n",
    "import preprocess_utils as pu"
   ]
  },
  {
   "cell_type": "code",
   "execution_count": 4,
   "id": "16b58f43-1a64-4906-9a1e-4a36989a5ffc",
   "metadata": {},
   "outputs": [
    {
     "data": {
      "text/plain": [
       "<module 'data_utils' from '/glade/u/home/ksha/NCAR/libs/data_utils.py'>"
      ]
     },
     "execution_count": 4,
     "metadata": {},
     "output_type": "execute_result"
    }
   ],
   "source": [
    "import importlib\n",
    "importlib.reload(du)"
   ]
  },
  {
   "cell_type": "code",
   "execution_count": null,
   "id": "ecc07b4e-32d4-42e5-add1-6392cefe1220",
   "metadata": {},
   "outputs": [],
   "source": []
  },
  {
   "cell_type": "code",
   "execution_count": 5,
   "id": "c969520e-8aba-4d83-968a-1cdec80bd780",
   "metadata": {},
   "outputs": [],
   "source": [
    "with h5py.File(save_dir+'CONUS_domain.hdf', 'r') as h5io:\n",
    "    lon = h5io['lon_72km'][...]\n",
    "    lat = h5io['lat_72km'][...]\n",
    "    lon_3km = h5io['lon_3km'][...]\n",
    "    lat_3km = h5io['lat_3km'][...]"
   ]
  },
  {
   "cell_type": "code",
   "execution_count": 6,
   "id": "697c0e07-e0f9-4098-a744-70c2e62102db",
   "metadata": {},
   "outputs": [],
   "source": [
    "base_dir = '/glade/p/mmm/parc/sobash/NSC/3KM_WRF_POST_12sec_ts/'"
   ]
  },
  {
   "cell_type": "code",
   "execution_count": 7,
   "id": "a2854168-0a79-4f29-bdfd-95b59dd5812c",
   "metadata": {},
   "outputs": [
    {
     "name": "stdout",
     "output_type": "stream",
     "text": [
      "Save to /glade/work/ksha/NCAR/NCAR500_y2018.hdf\n",
      "Save to /glade/work/ksha/NCAR/NCAR500_y2019.hdf\n",
      "Save to /glade/work/ksha/NCAR/NCAR500_y2020.hdf\n"
     ]
    }
   ],
   "source": [
    "year_list = ['2018', '2019', '2020']\n",
    "Ly = len(year_list)\n",
    "\n",
    "for i in range(Ly):\n",
    "    \n",
    "    year = year_list[i]\n",
    "    nc_files = sorted(glob(NCAR500_dir+'{}*/*_12_00_00.nc'.format(year)))\n",
    "    \n",
    "    L = len(nc_files)\n",
    "    \n",
    "    U10 = np.empty((L,)+lon_3km.shape)\n",
    "    V10 = np.empty((L,)+lon_3km.shape)\n",
    "    PSFC = np.empty((L,)+lon_3km.shape)\n",
    "    UH03 = np.empty((L,)+lon_3km.shape)\n",
    "    \n",
    "    for n in range(L):\n",
    "        with nc.Dataset(nc_files[n], 'r') as ncio:\n",
    "            U10[n, ...] = ncio['U10'][0, ...]\n",
    "            V10[n, ...] = ncio['V10'][0, ...]\n",
    "            PSFC[n, ...] = ncio['PSFC'][0, ...]\n",
    "            UH03[n, ...] = ncio['UP_HELI_MAX03'][0, ...]\n",
    "    \n",
    "    tuple_save = (U10, V10, PSFC, UH03)\n",
    "    label_save = ['U10', 'V10', 'PSFC', 'UH03']\n",
    "    du.save_hdf5(tuple_save, label_save, save_dir, 'NCAR500_y{}.hdf'.format(year))"
   ]
  },
  {
   "cell_type": "code",
   "execution_count": 8,
   "id": "a9dcb941-059b-4b68-832d-63bc341f980b",
   "metadata": {},
   "outputs": [
    {
     "data": {
      "text/plain": [
       "0"
      ]
     },
     "execution_count": 8,
     "metadata": {},
     "output_type": "execute_result"
    }
   ],
   "source": [
    "len(nc_files)"
   ]
  },
  {
   "cell_type": "code",
   "execution_count": null,
   "id": "b464031c-6000-4387-be64-b1116c0a85a9",
   "metadata": {},
   "outputs": [],
   "source": []
  },
  {
   "cell_type": "code",
   "execution_count": null,
   "id": "e6d0a719-cf50-4a40-a790-ce1daeee11b8",
   "metadata": {},
   "outputs": [],
   "source": []
  },
  {
   "cell_type": "code",
   "execution_count": null,
   "id": "402d4264-5830-426b-b7d1-4cbac280b78e",
   "metadata": {},
   "outputs": [],
   "source": []
  }
 ],
 "metadata": {
  "kernelspec": {
   "display_name": "Python 3 (ipykernel)",
   "language": "python",
   "name": "python3"
  },
  "language_info": {
   "codemirror_mode": {
    "name": "ipython",
    "version": 3
   },
   "file_extension": ".py",
   "mimetype": "text/x-python",
   "name": "python",
   "nbconvert_exporter": "python",
   "pygments_lexer": "ipython3",
   "version": "3.9.13"
  }
 },
 "nbformat": 4,
 "nbformat_minor": 5
}
