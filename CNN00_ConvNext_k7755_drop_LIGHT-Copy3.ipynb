{
 "cells": [
  {
   "cell_type": "code",
   "execution_count": 1,
   "id": "ce76310e-2358-43eb-ba0c-188a45af0b5e",
   "metadata": {},
   "outputs": [],
   "source": [
    "# general tools\n",
    "import os\n",
    "import sys\n",
    "from glob import glob\n",
    "\n",
    "# data tools\n",
    "import time\n",
    "import h5py\n",
    "import random\n",
    "import numpy as np\n",
    "from random import shuffle\n",
    "\n",
    "import matplotlib.pyplot as plt\n",
    "%matplotlib inline"
   ]
  },
  {
   "cell_type": "code",
   "execution_count": 2,
   "id": "ee2f455b-7a16-4d6c-b673-ff37e482f46d",
   "metadata": {},
   "outputs": [
    {
     "name": "stderr",
     "output_type": "stream",
     "text": [
      "2022-12-23 15:56:46.744496: I tensorflow/stream_executor/platform/default/dso_loader.cc:49] Successfully opened dynamic library libcudart.so.10.1\n"
     ]
    }
   ],
   "source": [
    "# deep learning tools\n",
    "import tensorflow as tf\n",
    "from tensorflow import keras\n",
    "from tensorflow.keras import layers\n",
    "from tensorflow.keras import backend\n",
    "from tensorflow.keras import utils\n",
    "from tensorflow.keras import Model\n",
    "\n",
    "tf.config.run_functions_eagerly(True)\n",
    "\n",
    "# from keras_unet_collection import models as k_models\n",
    "from keras_unet_collection import utils as k_utils\n",
    "# from keras_unet_collection import layer_utils as k_layers\n",
    "# from keras_unet_collection.activations import GELU"
   ]
  },
  {
   "cell_type": "code",
   "execution_count": 3,
   "id": "329c3d14-edd9-49fa-a0b6-c112ea9c7553",
   "metadata": {},
   "outputs": [],
   "source": [
    "sys.path.insert(0, '/glade/u/home/ksha/NCAR/')\n",
    "sys.path.insert(0, '/glade/u/home/ksha/NCAR/libs/')\n",
    "\n",
    "from namelist import *\n",
    "import data_utils as du\n",
    "import graph_utils as gu\n",
    "#import convnext_keras as ck\n",
    "\n",
    "from sklearn.metrics import classification_report, auc, roc_curve\n",
    "from sklearn.metrics import confusion_matrix\n",
    "from sklearn.metrics import brier_score_loss\n",
    "from sklearn.metrics import log_loss\n",
    "\n",
    "import matplotlib.pyplot as plt\n",
    "%matplotlib inline"
   ]
  },
  {
   "cell_type": "code",
   "execution_count": 4,
   "id": "dec3a19a-fee9-45a8-a818-d3c996511584",
   "metadata": {},
   "outputs": [],
   "source": [
    "def set_seeds(seed):\n",
    "    os.environ['PYTHONHASHSEED'] = str(seed)\n",
    "    random.seed(seed)\n",
    "    tf.random.set_seed(seed)\n",
    "    np.random.seed(seed)"
   ]
  },
  {
   "cell_type": "code",
   "execution_count": 5,
   "id": "3d6c92a9-d00f-489c-a536-8745765bb6d6",
   "metadata": {},
   "outputs": [],
   "source": [
    "class LayerScale(layers.Layer):\n",
    "    \"\"\"Layer scale module.\n",
    "    References:\n",
    "      - https://arxiv.org/abs/2103.17239\n",
    "    Args:\n",
    "      init_values (float): Initial value for layer scale. Should be within\n",
    "        [0, 1].\n",
    "      projection_dim (int): Projection dimensionality.\n",
    "    Returns:\n",
    "      Tensor multiplied to the scale.\n",
    "    \"\"\"\n",
    "\n",
    "    def __init__(self, init_values, projection_dim, **kwargs):\n",
    "        super().__init__(**kwargs)\n",
    "        self.init_values = init_values\n",
    "        self.projection_dim = projection_dim\n",
    "\n",
    "    def build(self, input_shape):\n",
    "        self.gamma = tf.Variable(\n",
    "            self.init_values * tf.ones((self.projection_dim,))\n",
    "        )\n",
    "\n",
    "    def call(self, x):\n",
    "        return x * self.gamma\n",
    "\n",
    "    def get_config(self):\n",
    "        config = super().get_config()\n",
    "        config.update(\n",
    "            {\n",
    "                \"init_values\": self.init_values,\n",
    "                \"projection_dim\": self.projection_dim,\n",
    "            }\n",
    "        )\n",
    "        return config\n",
    "    \n",
    "def Head(num_classes=1000, name=None):\n",
    "    \"\"\"Implementation of classification head of RegNet.\n",
    "    Args:\n",
    "      num_classes: number of classes for Dense layer\n",
    "      name: name prefix\n",
    "    Returns:\n",
    "      Classification head function.\n",
    "    \"\"\"\n",
    "    if name is None:\n",
    "        name = str(backend.get_uid(\"head\"))\n",
    "\n",
    "    def apply(x):\n",
    "        x = layers.GlobalAveragePooling2D(name=name + \"_head_gap\")(x)\n",
    "        x = layers.LayerNormalization(\n",
    "            epsilon=1e-6, name=name + \"_head_layernorm\"\n",
    "        )(x)\n",
    "        x = layers.Dense(num_classes, name=name + \"_head_dense\")(x)\n",
    "        return x\n",
    "\n",
    "    return apply\n",
    "\n",
    "def create_model(input_shape=(64, 64, 15)):\n",
    "\n",
    "    depths=[3, 3, 27, 3]\n",
    "    projection_dims=[32, 64, 96, 128]\n",
    "    drop_path_rate=0.0\n",
    "    layer_scale_init_value=1e-6\n",
    "\n",
    "\n",
    "    model_name='Branch64X'\n",
    "    IN64 = layers.Input(shape=input_shape)\n",
    "    X = IN64\n",
    "\n",
    "    # X = layers.LocallyConnected2D(32, kernel_size=1, strides=(1, 1), padding=\"valid\", implementation=1)(X)\n",
    "    # X = layers.LayerNormalization(epsilon=1e-6, name=\"{}_lc1_norm\".format(model_name))(X)\n",
    "    # X = layers.Activation(\"gelu\", name=\"{}_lc1_gelu\".format(model_name))(X)\n",
    "\n",
    "    # X = layers.LocallyConnected2D(96, kernel_size=1, strides=(1, 1), padding=\"valid\", implementation=1)(X)\n",
    "    # X = layers.LayerNormalization(epsilon=1e-6, name=\"{}_lc2_norm\".format(model_name))(X)\n",
    "    # X = layers.Activation(\"gelu\", name=\"{}_lc2_gelu\".format(model_name))(X)\n",
    "\n",
    "    # ----- convnext block 0 ----- #\n",
    "\n",
    "    X = layers.Conv2D(projection_dims[0], kernel_size=4, strides=4, name=\"{}_down0\".format(model_name))(X)\n",
    "    X = layers.LayerNormalization(epsilon=1e-6, name=\"{}_down0_norm\".format(model_name))(X)\n",
    "\n",
    "    for j in range(depths[0]):\n",
    "\n",
    "        X_convnext = X\n",
    "        X_convnext = layers.Conv2D(filters=projection_dims[0], kernel_size=7, padding=\"same\",\n",
    "                                   groups=projection_dims[0], name=\"{}_down0_dconv{}\".format(model_name, j))(X_convnext)\n",
    "        X_convnext = layers.LayerNormalization(epsilon=1e-6, name=\"{}_down0_dconv{}_norm\".format(model_name, j))(X_convnext)\n",
    "        X_convnext = layers.Dense(4 * projection_dims[0], name=\"{}_down0_dense{}_p1\".format(model_name, j))(X_convnext)\n",
    "        X_convnext = layers.Activation(\"gelu\", name=\"{}_down0_gelu{}\".format(model_name, j))(X_convnext)\n",
    "        X_convnext = layers.Dense(projection_dims[0], name=\"{}_down0_dense{}_p2\".format(model_name, j))(X_convnext)\n",
    "\n",
    "        X_convnext = LayerScale(layer_scale_init_value, projection_dims[0], name=\"{}_down0_layerscale{}\".format(model_name, j))(X_convnext)\n",
    "        \n",
    "        X = keras.layers.Dropout(0.1)(X)\n",
    "        \n",
    "        X = X + X_convnext\n",
    "\n",
    "\n",
    "    # ----- convnext block 1 ----- #\n",
    "\n",
    "    X = layers.LayerNormalization(epsilon=1e-6, name=\"{}_down1_norm\".format(model_name))(X)\n",
    "    X = layers.Conv2D(projection_dims[1], kernel_size=2, strides=2, name=\"{}_down1\".format(model_name))(X)\n",
    "\n",
    "    for j in range(depths[1]):\n",
    "\n",
    "        X_convnext = X\n",
    "        X_convnext = layers.Conv2D(filters=projection_dims[1], kernel_size=7, padding=\"same\",\n",
    "                                   groups=projection_dims[1], name=\"{}_down1_dconv{}\".format(model_name, j))(X_convnext)\n",
    "        X_convnext = layers.LayerNormalization(epsilon=1e-6, name=\"{}_down1_dconv{}_norm\".format(model_name, j))(X_convnext)\n",
    "        X_convnext = layers.Dense(4 * projection_dims[1], name=\"{}_down1_dense{}_p1\".format(model_name, j))(X_convnext)\n",
    "        X_convnext = layers.Activation(\"gelu\", name=\"{}_down1_gelu{}\".format(model_name, j))(X_convnext)\n",
    "        X_convnext = layers.Dense(projection_dims[1], name=\"{}_down1_dense{}_p2\".format(model_name, j))(X_convnext)\n",
    "\n",
    "        X_convnext = LayerScale(layer_scale_init_value, projection_dims[1], name=\"{}_down1_layerscale{}\".format(model_name, j))(X_convnext)\n",
    "        \n",
    "        X = keras.layers.Dropout(0.1)(X)\n",
    "        \n",
    "        X = X + X_convnext\n",
    "\n",
    "    # ----- convnext block 2 ----- #\n",
    "\n",
    "    X = layers.LayerNormalization(epsilon=1e-6, name=\"{}_down2_norm\".format(model_name))(X)\n",
    "    X = layers.Conv2D(projection_dims[2], kernel_size=2, strides=2, name=\"{}_down2\".format(model_name))(X)\n",
    "\n",
    "    for j in range(depths[2]):\n",
    "\n",
    "        X_convnext = X\n",
    "        X_convnext = layers.Conv2D(filters=projection_dims[2], kernel_size=5, padding=\"same\",\n",
    "                                   groups=projection_dims[2], name=\"{}_down2_dconv{}\".format(model_name, j))(X_convnext)\n",
    "        X_convnext = layers.LayerNormalization(epsilon=1e-6, name=\"{}_down2_dconv{}_norm\".format(model_name, j))(X_convnext)\n",
    "        X_convnext = layers.Dense(4 * projection_dims[2], name=\"{}_down2_dense{}_p1\".format(model_name, j))(X_convnext)\n",
    "        X_convnext = layers.Activation(\"gelu\", name=\"{}_down2_gelu{}\".format(model_name, j))(X_convnext)\n",
    "        X_convnext = layers.Dense(projection_dims[2], name=\"{}_down2_dense{}_p2\".format(model_name, j))(X_convnext)\n",
    "\n",
    "        X_convnext = LayerScale(layer_scale_init_value, projection_dims[2], name=\"{}_down2_layerscale{}\".format(model_name, j))(X_convnext)\n",
    "        \n",
    "        X = keras.layers.Dropout(0.1)(X)\n",
    "        \n",
    "        X = X + X_convnext\n",
    "\n",
    "    # ----- convnext block 3 ----- #\n",
    "\n",
    "    X = layers.LayerNormalization(epsilon=1e-6, name=\"{}_down3_norm\".format(model_name))(X)\n",
    "    X = layers.Conv2D(projection_dims[3], kernel_size=2, padding='same', name=\"{}_down3\".format(model_name))(X)\n",
    "\n",
    "    for j in range(depths[3]):\n",
    "\n",
    "        X_convnext = X\n",
    "        X_convnext = layers.Conv2D(filters=projection_dims[3], kernel_size=5, padding=\"same\",\n",
    "                                   groups=projection_dims[3], name=\"{}_down3_dconv{}\".format(model_name, j))(X_convnext)\n",
    "        X_convnext = layers.LayerNormalization(epsilon=1e-6, name=\"{}_down3_dconv{}_norm\".format(model_name, j))(X_convnext)\n",
    "        X_convnext = layers.Dense(4 * projection_dims[3], name=\"{}_down3_dense{}_p1\".format(model_name, j))(X_convnext)\n",
    "        X_convnext = layers.Activation(\"gelu\", name=\"{}_down3_gelu{}\".format(model_name, j))(X_convnext)\n",
    "        X_convnext = layers.Dense(projection_dims[3], name=\"{}_down3_dense{}_p2\".format(model_name, j))(X_convnext)\n",
    "\n",
    "        X_convnext = LayerScale(layer_scale_init_value, projection_dims[3], name=\"{}_down3_layerscale{}\".format(model_name, j))(X_convnext)\n",
    "        \n",
    "        X = keras.layers.Dropout(0.1)(X)\n",
    "        \n",
    "        X = X + X_convnext\n",
    "\n",
    "    V1 = X\n",
    "\n",
    "    OUT = layers.GlobalMaxPooling2D(name=\"{}_head_pool64\".format(model_name))(V1)\n",
    "    OUT = layers.LayerNormalization(epsilon=1e-6, name=\"{}_head_norm64\".format(model_name))(OUT)\n",
    "\n",
    "    OUT = layers.Dense(64, name=\"{}_dense1\".format(model_name))(OUT)\n",
    "    OUT = layers.LayerNormalization(epsilon=1e-6, name=\"{}_dense1_norm\".format(model_name))(OUT)\n",
    "    OUT = layers.Activation(\"gelu\", name=\"{}_dense1_gelu{}\".format(model_name, j))(OUT)\n",
    "\n",
    "    OUT = layers.Dense(1, name=\"{}_head_out\".format(model_name))(OUT)\n",
    "\n",
    "    model = Model(inputs=IN64, outputs=OUT, name=model_name)\n",
    "\n",
    "    return model"
   ]
  },
  {
   "cell_type": "code",
   "execution_count": 6,
   "id": "649972bc-dfac-4f66-9a7d-bc4c058f97d9",
   "metadata": {},
   "outputs": [],
   "source": [
    "def verif_metric(VALID_target, Y_pred):\n",
    "\n",
    "\n",
    "    # fpr, tpr, thresholds = roc_curve(VALID_target.ravel(), Y_pred.ravel())\n",
    "    # AUC = auc(fpr, tpr)\n",
    "    # AUC_metric = 1 - AUC\n",
    "    \n",
    "    BS = np.mean((VALID_target.ravel() - Y_pred.ravel())**2)\n",
    "    #ll = log_loss(VALID_target.ravel(), Y_pred.ravel())\n",
    "    \n",
    "    print('{}'.format(BS))\n",
    "    metric = BS\n",
    "\n",
    "    return metric"
   ]
  },
  {
   "cell_type": "code",
   "execution_count": 7,
   "id": "a1c2e1ce-3a18-4453-a423-4933848bf089",
   "metadata": {},
   "outputs": [],
   "source": [
    "# from importlib import reload\n",
    "# reload(ck)"
   ]
  },
  {
   "cell_type": "code",
   "execution_count": 8,
   "id": "9e1ee330-cf69-4ead-aa86-42cb0aeec11b",
   "metadata": {},
   "outputs": [],
   "source": [
    "#ind_pick_from_batch = [0, 1, 3, 4, 8, 9, 10, 13, 14, 15, 16, 17, 18, 21, 22]\n",
    "ind_pick_from_batch = [0, 1, 2, 3, 4, 5, 6, 7, 8, 9, 10, 11, 12, 13, 14]\n",
    "L_vars = len(ind_pick_from_batch)"
   ]
  },
  {
   "cell_type": "code",
   "execution_count": 9,
   "id": "c181e0e9-cf6a-4fc9-a913-97562ce045c2",
   "metadata": {},
   "outputs": [
    {
     "name": "stdout",
     "output_type": "stream",
     "text": [
      "neg:6739773 vs pos:27551\n"
     ]
    }
   ],
   "source": [
    "filename_neg_train = sorted(glob(\"/glade/scratch/ksha/DATA/NCAR_batch_v3/TRAIN*neg_neg_neg*.npy\"))\n",
    "filename_pos_train = sorted(glob(\"/glade/scratch/ksha/DATA/NCAR_batch_v3/TRAIN*pos*.npy\"))\n",
    "\n",
    "filename_neg_valid = sorted(glob(\"/glade/scratch/ksha/DATA/NCAR_batch_v3/VALID*neg_neg_neg*.npy\"))\n",
    "filename_pos_valid = sorted(glob(\"/glade/scratch/ksha/DATA/NCAR_batch_v3/VALID*pos*.npy\"))\n",
    "\n",
    "print('neg:{} vs pos:{}'.format(len(filename_neg_train), len(filename_pos_train)))"
   ]
  },
  {
   "cell_type": "code",
   "execution_count": 21,
   "id": "81b0d2aa-9505-4a33-b5f7-ec5b390ee284",
   "metadata": {},
   "outputs": [
    {
     "name": "stdout",
     "output_type": "stream",
     "text": [
      "15581\n"
     ]
    }
   ],
   "source": [
    "#filename_valid = filename_neg_valid[::600] + filename_pos_valid[::5]\n",
    "filename_valid = filename_neg_valid[::200] + filename_pos_valid[::50]\n",
    "print(len(filename_valid))\n",
    "\n",
    "L_valid = len(filename_valid)\n",
    "\n",
    "VALID_input_64 = np.empty((L_valid, 64, 64, L_vars))\n",
    "VALID_target = np.ones(L_valid)\n",
    "\n",
    "for i, name in enumerate(filename_valid):\n",
    "    data = np.load(name)\n",
    "    for k, c in enumerate(ind_pick_from_batch):\n",
    "        \n",
    "        VALID_input_64[i, ..., k] = data[..., c]\n",
    "\n",
    "        if 'pos' in name:\n",
    "            VALID_target[i] = 1.0\n",
    "        else:\n",
    "            VALID_target[i] = 0.0"
   ]
  },
  {
   "cell_type": "markdown",
   "id": "26d6c483-697c-43b9-8469-8028e4b819bc",
   "metadata": {},
   "source": [
    "**ConvNext**"
   ]
  },
  {
   "cell_type": "code",
   "execution_count": 11,
   "id": "842940ff-c806-4094-96e5-71b903fe9276",
   "metadata": {},
   "outputs": [],
   "source": [
    "#tf.config.list_physical_devices('GPU')"
   ]
  },
  {
   "cell_type": "code",
   "execution_count": 13,
   "id": "d56f62ab-0e3f-41af-b09d-be2b068e01f2",
   "metadata": {},
   "outputs": [
    {
     "name": "stdout",
     "output_type": "stream",
     "text": [
      "Initial record: 1.1\n",
      "Training round 0\n",
      "0.08107401697331332\n",
      "Validation loss improved from 1.1 to 0.08107401697331332\n",
      "save to: /glade/work/ksha/NCAR/Keras_models/RE0_15p_base_copy3\n",
      "INFO:tensorflow:Assets written to: /glade/work/ksha/NCAR/Keras_models/RE0_15p_base_copy3/assets\n",
      "--- 429.4139862060547 seconds ---\n"
     ]
    },
    {
     "name": "stderr",
     "output_type": "stream",
     "text": [
      "/glade/work/ksha/anaconda3/lib/python3.9/site-packages/tensorflow/python/data/ops/dataset_ops.py:3503: UserWarning: Even though the tf.config.experimental_run_functions_eagerly option is set, this option does not apply to tf.data functions. tf.data functions are still traced and executed as graphs.\n",
      "  warnings.warn(\n"
     ]
    },
    {
     "name": "stdout",
     "output_type": "stream",
     "text": [
      "0.09843409588137554\n",
      "Validation loss 0.09843409588137554 NOT improved\n",
      "1\n",
      "0.06149379702681327\n",
      "Validation loss improved from 0.08107401697331332 to 0.06149379702681327\n",
      "save to: /glade/work/ksha/NCAR/Keras_models/RE0_15p_base_copy3\n",
      "INFO:tensorflow:Assets written to: /glade/work/ksha/NCAR/Keras_models/RE0_15p_base_copy3/assets\n",
      "--- 440.64180731773376 seconds ---\n"
     ]
    },
    {
     "name": "stderr",
     "output_type": "stream",
     "text": [
      "/glade/work/ksha/anaconda3/lib/python3.9/site-packages/tensorflow/python/data/ops/dataset_ops.py:3503: UserWarning: Even though the tf.config.experimental_run_functions_eagerly option is set, this option does not apply to tf.data functions. tf.data functions are still traced and executed as graphs.\n",
      "  warnings.warn(\n"
     ]
    },
    {
     "name": "stdout",
     "output_type": "stream",
     "text": [
      "0.04913106044999709\n",
      "Validation loss improved from 0.06149379702681327 to 0.04913106044999709\n",
      "save to: /glade/work/ksha/NCAR/Keras_models/RE0_15p_base_copy3\n",
      "INFO:tensorflow:Assets written to: /glade/work/ksha/NCAR/Keras_models/RE0_15p_base_copy3/assets\n",
      "--- 410.1532738208771 seconds ---\n"
     ]
    },
    {
     "name": "stderr",
     "output_type": "stream",
     "text": [
      "/glade/work/ksha/anaconda3/lib/python3.9/site-packages/tensorflow/python/data/ops/dataset_ops.py:3503: UserWarning: Even though the tf.config.experimental_run_functions_eagerly option is set, this option does not apply to tf.data functions. tf.data functions are still traced and executed as graphs.\n",
      "  warnings.warn(\n"
     ]
    },
    {
     "name": "stdout",
     "output_type": "stream",
     "text": [
      "0.056176219292635\n",
      "Validation loss 0.056176219292635 NOT improved\n",
      "4\n",
      "0.046016181741484884\n",
      "Validation loss improved from 0.04913106044999709 to 0.046016181741484884\n",
      "save to: /glade/work/ksha/NCAR/Keras_models/RE0_15p_base_copy3\n",
      "INFO:tensorflow:Assets written to: /glade/work/ksha/NCAR/Keras_models/RE0_15p_base_copy3/assets\n",
      "--- 443.74311208724976 seconds ---\n"
     ]
    },
    {
     "name": "stderr",
     "output_type": "stream",
     "text": [
      "/glade/work/ksha/anaconda3/lib/python3.9/site-packages/tensorflow/python/data/ops/dataset_ops.py:3503: UserWarning: Even though the tf.config.experimental_run_functions_eagerly option is set, this option does not apply to tf.data functions. tf.data functions are still traced and executed as graphs.\n",
      "  warnings.warn(\n"
     ]
    },
    {
     "name": "stdout",
     "output_type": "stream",
     "text": [
      "0.05458607790878401\n",
      "Validation loss 0.05458607790878401 NOT improved\n",
      "6\n",
      "0.04980382324936772\n",
      "Validation loss 0.04980382324936772 NOT improved\n",
      "0.047081948672200336\n",
      "Validation loss 0.047081948672200336 NOT improved\n",
      "0.061679164151976135\n",
      "Validation loss 0.061679164151976135 NOT improved\n",
      "0.036704218766266936\n",
      "Validation loss improved from 0.046016181741484884 to 0.036704218766266936\n",
      "save to: /glade/work/ksha/NCAR/Keras_models/RE0_15p_base_copy3\n",
      "INFO:tensorflow:Assets written to: /glade/work/ksha/NCAR/Keras_models/RE0_15p_base_copy3/assets\n",
      "--- 467.31594944000244 seconds ---\n"
     ]
    },
    {
     "name": "stderr",
     "output_type": "stream",
     "text": [
      "/glade/work/ksha/anaconda3/lib/python3.9/site-packages/tensorflow/python/data/ops/dataset_ops.py:3503: UserWarning: Even though the tf.config.experimental_run_functions_eagerly option is set, this option does not apply to tf.data functions. tf.data functions are still traced and executed as graphs.\n",
      "  warnings.warn(\n"
     ]
    },
    {
     "name": "stdout",
     "output_type": "stream",
     "text": [
      "0.036265144287484744\n",
      "Validation loss improved from 0.036704218766266936 to 0.036265144287484744\n",
      "save to: /glade/work/ksha/NCAR/Keras_models/RE0_15p_base_copy3\n",
      "INFO:tensorflow:Assets written to: /glade/work/ksha/NCAR/Keras_models/RE0_15p_base_copy3/assets\n",
      "--- 477.73267436027527 seconds ---\n"
     ]
    },
    {
     "name": "stderr",
     "output_type": "stream",
     "text": [
      "/glade/work/ksha/anaconda3/lib/python3.9/site-packages/tensorflow/python/data/ops/dataset_ops.py:3503: UserWarning: Even though the tf.config.experimental_run_functions_eagerly option is set, this option does not apply to tf.data functions. tf.data functions are still traced and executed as graphs.\n",
      "  warnings.warn(\n"
     ]
    },
    {
     "name": "stdout",
     "output_type": "stream",
     "text": [
      "0.041096528823241836\n",
      "Validation loss 0.041096528823241836 NOT improved\n",
      "12\n",
      "0.03805111180735153\n",
      "Validation loss 0.03805111180735153 NOT improved\n",
      "0.04846340206594941\n",
      "Validation loss 0.04846340206594941 NOT improved\n",
      "0.044702086363517156\n",
      "Validation loss 0.044702086363517156 NOT improved\n",
      "0.0452922545495858\n",
      "Validation loss 0.0452922545495858 NOT improved\n",
      "0.052568317558922245\n",
      "Validation loss 0.052568317558922245 NOT improved\n",
      "0.04230204165132747\n",
      "Validation loss 0.04230204165132747 NOT improved\n",
      "0.06280314990079322\n",
      "Validation loss 0.06280314990079322 NOT improved\n",
      "0.04997302799531191\n",
      "Validation loss 0.04997302799531191 NOT improved\n",
      "0.04078624106047025\n",
      "Validation loss 0.04078624106047025 NOT improved\n",
      "0.04281333675492204\n",
      "Validation loss 0.04281333675492204 NOT improved\n",
      "0.043462114872500304\n",
      "Validation loss 0.043462114872500304 NOT improved\n",
      "0.03746763536171941\n",
      "Validation loss 0.03746763536171941 NOT improved\n",
      "0.03714549368515669\n",
      "Validation loss 0.03714549368515669 NOT improved\n",
      "0.038285482782954294\n",
      "Validation loss 0.038285482782954294 NOT improved\n",
      "0.039152470197534706\n",
      "Validation loss 0.039152470197534706 NOT improved\n",
      "0.04194174760960079\n",
      "Validation loss 0.04194174760960079 NOT improved\n",
      "0.04363769672574819\n",
      "Validation loss 0.04363769672574819 NOT improved\n",
      "0.0352108048063652\n",
      "Validation loss improved from 0.036265144287484744 to 0.0352108048063652\n",
      "save to: /glade/work/ksha/NCAR/Keras_models/RE0_15p_base_copy3\n",
      "INFO:tensorflow:Assets written to: /glade/work/ksha/NCAR/Keras_models/RE0_15p_base_copy3/assets\n",
      "--- 457.377165555954 seconds ---\n"
     ]
    },
    {
     "name": "stderr",
     "output_type": "stream",
     "text": [
      "/glade/work/ksha/anaconda3/lib/python3.9/site-packages/tensorflow/python/data/ops/dataset_ops.py:3503: UserWarning: Even though the tf.config.experimental_run_functions_eagerly option is set, this option does not apply to tf.data functions. tf.data functions are still traced and executed as graphs.\n",
      "  warnings.warn(\n"
     ]
    },
    {
     "name": "stdout",
     "output_type": "stream",
     "text": [
      "0.04969411588631819\n",
      "Validation loss 0.04969411588631819 NOT improved\n",
      "31\n",
      "0.04449141256207741\n",
      "Validation loss 0.04449141256207741 NOT improved\n",
      "0.04071113454230698\n",
      "Validation loss 0.04071113454230698 NOT improved\n",
      "0.03674887073533596\n",
      "Validation loss 0.03674887073533596 NOT improved\n",
      "0.04452495637061366\n",
      "Validation loss 0.04452495637061366 NOT improved\n",
      "0.05140562366570663\n",
      "Validation loss 0.05140562366570663 NOT improved\n",
      "0.051759323630552155\n",
      "Validation loss 0.051759323630552155 NOT improved\n",
      "0.04011185052649835\n",
      "Validation loss 0.04011185052649835 NOT improved\n",
      "0.034411879692131234\n",
      "Validation loss improved from 0.0352108048063652 to 0.034411879692131234\n",
      "save to: /glade/work/ksha/NCAR/Keras_models/RE0_15p_base_copy3\n",
      "INFO:tensorflow:Assets written to: /glade/work/ksha/NCAR/Keras_models/RE0_15p_base_copy3/assets\n",
      "--- 487.2727553844452 seconds ---\n"
     ]
    },
    {
     "name": "stderr",
     "output_type": "stream",
     "text": [
      "/glade/work/ksha/anaconda3/lib/python3.9/site-packages/tensorflow/python/data/ops/dataset_ops.py:3503: UserWarning: Even though the tf.config.experimental_run_functions_eagerly option is set, this option does not apply to tf.data functions. tf.data functions are still traced and executed as graphs.\n",
      "  warnings.warn(\n"
     ]
    },
    {
     "name": "stdout",
     "output_type": "stream",
     "text": [
      "0.04118701439765044\n",
      "Validation loss 0.04118701439765044 NOT improved\n",
      "40\n",
      "0.037805977723644656\n",
      "Validation loss 0.037805977723644656 NOT improved\n",
      "0.04522280028111232\n",
      "Validation loss 0.04522280028111232 NOT improved\n",
      "0.040771510709147106\n",
      "Validation loss 0.040771510709147106 NOT improved\n",
      "0.04054344420306813\n",
      "Validation loss 0.04054344420306813 NOT improved\n",
      "0.041144892536616684\n",
      "Validation loss 0.041144892536616684 NOT improved\n",
      "0.03630107891473997\n",
      "Validation loss 0.03630107891473997 NOT improved\n",
      "0.036809644706720525\n",
      "Validation loss 0.036809644706720525 NOT improved\n",
      "0.043756373720423895\n",
      "Validation loss 0.043756373720423895 NOT improved\n",
      "0.03440441608929702\n",
      "Validation loss improved from 0.034411879692131234 to 0.03440441608929702\n",
      "save to: /glade/work/ksha/NCAR/Keras_models/RE0_15p_base_copy3\n",
      "INFO:tensorflow:Assets written to: /glade/work/ksha/NCAR/Keras_models/RE0_15p_base_copy3/assets\n",
      "--- 475.8872859477997 seconds ---\n"
     ]
    },
    {
     "name": "stderr",
     "output_type": "stream",
     "text": [
      "/glade/work/ksha/anaconda3/lib/python3.9/site-packages/tensorflow/python/data/ops/dataset_ops.py:3503: UserWarning: Even though the tf.config.experimental_run_functions_eagerly option is set, this option does not apply to tf.data functions. tf.data functions are still traced and executed as graphs.\n",
      "  warnings.warn(\n"
     ]
    },
    {
     "name": "stdout",
     "output_type": "stream",
     "text": [
      "0.045030551531604346\n",
      "Validation loss 0.045030551531604346 NOT improved\n",
      "50\n",
      "0.05429358091745911\n",
      "Validation loss 0.05429358091745911 NOT improved\n",
      "0.04000598792556312\n",
      "Validation loss 0.04000598792556312 NOT improved\n",
      "0.03442978174438201\n",
      "Validation loss 0.03442978174438201 NOT improved\n",
      "0.035783025610161535\n",
      "Validation loss 0.035783025610161535 NOT improved\n",
      "0.05200499628211065\n",
      "Validation loss 0.05200499628211065 NOT improved\n",
      "0.048950727660047225\n",
      "Validation loss 0.048950727660047225 NOT improved\n",
      "0.038206231638370745\n",
      "Validation loss 0.038206231638370745 NOT improved\n",
      "0.037397729233578994\n",
      "Validation loss 0.037397729233578994 NOT improved\n",
      "0.04414349411105546\n",
      "Validation loss 0.04414349411105546 NOT improved\n",
      "0.035015874411123644\n",
      "Validation loss 0.035015874411123644 NOT improved\n",
      "0.0484337512855153\n",
      "Validation loss 0.0484337512855153 NOT improved\n",
      "0.04170855504903565\n",
      "Validation loss 0.04170855504903565 NOT improved\n",
      "0.03904998267986236\n",
      "Validation loss 0.03904998267986236 NOT improved\n",
      "0.03821947073540426\n",
      "Validation loss 0.03821947073540426 NOT improved\n",
      "0.041081332053527514\n",
      "Validation loss 0.041081332053527514 NOT improved\n",
      "0.04601884134067254\n",
      "Validation loss 0.04601884134067254 NOT improved\n",
      "0.043155658560609336\n",
      "Validation loss 0.043155658560609336 NOT improved\n",
      "0.034215092928683424\n",
      "Validation loss improved from 0.03440441608929702 to 0.034215092928683424\n",
      "save to: /glade/work/ksha/NCAR/Keras_models/RE0_15p_base_copy3\n",
      "INFO:tensorflow:Assets written to: /glade/work/ksha/NCAR/Keras_models/RE0_15p_base_copy3/assets\n",
      "--- 464.6043574810028 seconds ---\n"
     ]
    },
    {
     "name": "stderr",
     "output_type": "stream",
     "text": [
      "/glade/work/ksha/anaconda3/lib/python3.9/site-packages/tensorflow/python/data/ops/dataset_ops.py:3503: UserWarning: Even though the tf.config.experimental_run_functions_eagerly option is set, this option does not apply to tf.data functions. tf.data functions are still traced and executed as graphs.\n",
      "  warnings.warn(\n"
     ]
    },
    {
     "name": "stdout",
     "output_type": "stream",
     "text": [
      "0.04281396648638103\n",
      "Validation loss 0.04281396648638103 NOT improved\n",
      "69\n",
      "0.04743547393578026\n",
      "Validation loss 0.04743547393578026 NOT improved\n",
      "0.0422829735444662\n",
      "Validation loss 0.0422829735444662 NOT improved\n",
      "0.036547100781097346\n",
      "Validation loss 0.036547100781097346 NOT improved\n",
      "0.04160911646730463\n",
      "Validation loss 0.04160911646730463 NOT improved\n",
      "0.04694593324877254\n",
      "Validation loss 0.04694593324877254 NOT improved\n",
      "0.043009405718064754\n",
      "Validation loss 0.043009405718064754 NOT improved\n",
      "0.042568928070402245\n",
      "Validation loss 0.042568928070402245 NOT improved\n",
      "0.03993487327396657\n",
      "Validation loss 0.03993487327396657 NOT improved\n",
      "0.03969661567288497\n",
      "Validation loss 0.03969661567288497 NOT improved\n",
      "0.03798984276297975\n",
      "Validation loss 0.03798984276297975 NOT improved\n",
      "0.04108086573764183\n",
      "Validation loss 0.04108086573764183 NOT improved\n",
      "0.043911781351485754\n",
      "Validation loss 0.043911781351485754 NOT improved\n",
      "0.04203115145392362\n",
      "Validation loss 0.04203115145392362 NOT improved\n",
      "0.03910020390902617\n",
      "Validation loss 0.03910020390902617 NOT improved\n",
      "0.04291512967940429\n",
      "Validation loss 0.04291512967940429 NOT improved\n",
      "0.036956249472764026\n",
      "Validation loss 0.036956249472764026 NOT improved\n",
      "0.03717809469637862\n",
      "Validation loss 0.03717809469637862 NOT improved\n",
      "0.03523778558944844\n",
      "Validation loss 0.03523778558944844 NOT improved\n",
      "0.04274484965314754\n",
      "Validation loss 0.04274484965314754 NOT improved\n",
      "0.03427298584708569\n",
      "Validation loss 0.03427298584708569 NOT improved\n",
      "0.0422851591418573\n",
      "Validation loss 0.0422851591418573 NOT improved\n",
      "0.03487115380668384\n",
      "Validation loss 0.03487115380668384 NOT improved\n",
      "0.03477093707908983\n",
      "Validation loss 0.03477093707908983 NOT improved\n",
      "0.03497211144363366\n",
      "Validation loss 0.03497211144363366 NOT improved\n",
      "0.040890710100372\n",
      "Validation loss 0.040890710100372 NOT improved\n",
      "0.03412245141474898\n",
      "Validation loss improved from 0.034215092928683424 to 0.03412245141474898\n",
      "save to: /glade/work/ksha/NCAR/Keras_models/RE0_15p_base_copy3\n",
      "INFO:tensorflow:Assets written to: /glade/work/ksha/NCAR/Keras_models/RE0_15p_base_copy3/assets\n",
      "--- 468.9562122821808 seconds ---\n"
     ]
    },
    {
     "name": "stderr",
     "output_type": "stream",
     "text": [
      "/glade/work/ksha/anaconda3/lib/python3.9/site-packages/tensorflow/python/data/ops/dataset_ops.py:3503: UserWarning: Even though the tf.config.experimental_run_functions_eagerly option is set, this option does not apply to tf.data functions. tf.data functions are still traced and executed as graphs.\n",
      "  warnings.warn(\n"
     ]
    },
    {
     "name": "stdout",
     "output_type": "stream",
     "text": [
      "0.04292992160927262\n",
      "Validation loss 0.04292992160927262 NOT improved\n",
      "96\n",
      "0.04103883276946228\n",
      "Validation loss 0.04103883276946228 NOT improved\n",
      "0.042411106346271675\n",
      "Validation loss 0.042411106346271675 NOT improved\n",
      "0.041132817438375525\n",
      "Validation loss 0.041132817438375525 NOT improved\n",
      "0.032374179386407534\n",
      "Validation loss improved from 0.03412245141474898 to 0.032374179386407534\n",
      "save to: /glade/work/ksha/NCAR/Keras_models/RE0_15p_base_copy3\n",
      "INFO:tensorflow:Assets written to: /glade/work/ksha/NCAR/Keras_models/RE0_15p_base_copy3/assets\n",
      "--- 479.068710565567 seconds ---\n"
     ]
    },
    {
     "name": "stderr",
     "output_type": "stream",
     "text": [
      "/glade/work/ksha/anaconda3/lib/python3.9/site-packages/tensorflow/python/data/ops/dataset_ops.py:3503: UserWarning: Even though the tf.config.experimental_run_functions_eagerly option is set, this option does not apply to tf.data functions. tf.data functions are still traced and executed as graphs.\n",
      "  warnings.warn(\n"
     ]
    },
    {
     "name": "stdout",
     "output_type": "stream",
     "text": [
      "0.03456720833020091\n",
      "Validation loss 0.03456720833020091 NOT improved\n",
      "101\n",
      "0.035269653854966505\n",
      "Validation loss 0.035269653854966505 NOT improved\n",
      "0.03649196722557012\n",
      "Validation loss 0.03649196722557012 NOT improved\n",
      "0.039758909716709666\n",
      "Validation loss 0.039758909716709666 NOT improved\n",
      "0.030346190229867887\n",
      "Validation loss improved from 0.032374179386407534 to 0.030346190229867887\n",
      "save to: /glade/work/ksha/NCAR/Keras_models/RE0_15p_base_copy3\n",
      "INFO:tensorflow:Assets written to: /glade/work/ksha/NCAR/Keras_models/RE0_15p_base_copy3/assets\n",
      "--- 468.24379205703735 seconds ---\n"
     ]
    },
    {
     "name": "stderr",
     "output_type": "stream",
     "text": [
      "/glade/work/ksha/anaconda3/lib/python3.9/site-packages/tensorflow/python/data/ops/dataset_ops.py:3503: UserWarning: Even though the tf.config.experimental_run_functions_eagerly option is set, this option does not apply to tf.data functions. tf.data functions are still traced and executed as graphs.\n",
      "  warnings.warn(\n"
     ]
    },
    {
     "name": "stdout",
     "output_type": "stream",
     "text": [
      "0.03410567315627303\n",
      "Validation loss 0.03410567315627303 NOT improved\n",
      "106\n",
      "0.04403620483357523\n",
      "Validation loss 0.04403620483357523 NOT improved\n",
      "0.03824593725825922\n",
      "Validation loss 0.03824593725825922 NOT improved\n",
      "0.04546951525834534\n",
      "Validation loss 0.04546951525834534 NOT improved\n",
      "0.03344787687725001\n",
      "Validation loss 0.03344787687725001 NOT improved\n",
      "0.03251348656239833\n",
      "Validation loss 0.03251348656239833 NOT improved\n",
      "0.033502660310953\n",
      "Validation loss 0.033502660310953 NOT improved\n",
      "0.032499202774698234\n",
      "Validation loss 0.032499202774698234 NOT improved\n",
      "0.03391908626250699\n",
      "Validation loss 0.03391908626250699 NOT improved\n",
      "0.035216490879527544\n",
      "Validation loss 0.035216490879527544 NOT improved\n",
      "0.03422468741188813\n",
      "Validation loss 0.03422468741188813 NOT improved\n",
      "0.035674761939560345\n",
      "Validation loss 0.035674761939560345 NOT improved\n",
      "0.03438309927112936\n",
      "Validation loss 0.03438309927112936 NOT improved\n"
     ]
    },
    {
     "name": "stderr",
     "output_type": "stream",
     "text": [
      "\n",
      "KeyboardInterrupt\n",
      "\n"
     ]
    }
   ],
   "source": [
    "training_rounds = 20\n",
    "\n",
    "seeds = [78906, 345, 8695]\n",
    "\n",
    "min_del = 0\n",
    "max_tol = 1000 # early stopping with patience\n",
    "\n",
    "epochs = 500\n",
    "batch_size = 200\n",
    "L_train = 64 #int(len(TRAIN_Y_pick) / batch_size)\n",
    "\n",
    "X_batch_64 = np.empty((batch_size, 64, 64, L_vars))\n",
    "Y_batch = np.empty((batch_size, 1))\n",
    "\n",
    "X_batch_64[...] = np.nan\n",
    "Y_batch[...] = np.nan\n",
    "\n",
    "temp_dir = '/glade/work/ksha/NCAR/Keras_models/'\n",
    "\n",
    "# =========== Model Section ========== #\n",
    "key = 'RE0_15p_base'\n",
    "model_name = '{}_copy3'.format(key)\n",
    "model_path = temp_dir+model_name\n",
    "\n",
    "tol = 0\n",
    "\n",
    "# ========== Training loop ========== #\n",
    "L_pos = len(filename_pos_train)\n",
    "L_neg = len(filename_neg_train)\n",
    "\n",
    "record = 1.1 #0.021237620777840503 #0.05669766786174394 #0.08634155630837792\n",
    "print(\"Initial record: {}\".format(record))\n",
    "\n",
    "count = 0\n",
    "\n",
    "\n",
    "for r in range(training_rounds):\n",
    "    \n",
    "    tol = 0 - count - r\n",
    "    \n",
    "    #flag_count_change = True\n",
    "    \n",
    "    model = create_model(input_shape=(64, 64, 15))\n",
    "    \n",
    "    model.compile(loss=keras.losses.BinaryCrossentropy(from_logits=True), optimizer=keras.optimizers.Adam(lr=2e-4))\n",
    "    \n",
    "    # W_old = k_utils.dummy_loader('/glade/work/ksha/NCAR/Keras_models/RE0_15p_base_tune/')\n",
    "    # model.set_weights(W_old)\n",
    "    \n",
    "    set_seeds(seeds[r+1])\n",
    "    print('Training round {}'.format(r))\n",
    "    \n",
    "    for i in range(epochs):\n",
    "    \n",
    "        #backend.set_value(model.optimizer.learning_rate, learning_rate[i])\n",
    "        \n",
    "        #print('epoch = {}'.format(i))\n",
    "        start_time = time.time()\n",
    "\n",
    "        # loop of batch\n",
    "        for j in range(L_train):\n",
    "            \n",
    "            N_pos = 20\n",
    "            N_neg = batch_size - N_pos\n",
    "            \n",
    "            ind_neg = du.shuffle_ind(L_neg)\n",
    "            ind_pos = du.shuffle_ind(L_pos)\n",
    "        \n",
    "            file_pick_neg = []\n",
    "            for ind_temp in ind_neg[:N_neg]:\n",
    "                file_pick_neg.append(filename_neg_train[ind_temp])\n",
    "\n",
    "            file_pick_pos = []\n",
    "            for ind_temp in ind_pos[:N_pos]:\n",
    "                file_pick_pos.append(filename_pos_train[ind_temp])\n",
    "        \n",
    "            file_pick = file_pick_neg + file_pick_pos\n",
    "            \n",
    "            if len(file_pick) != batch_size:\n",
    "                sregwet\n",
    "        \n",
    "            for k in range(batch_size):\n",
    "                data = np.load(file_pick[k])\n",
    "                \n",
    "                for l, c in enumerate(ind_pick_from_batch):\n",
    "                    temp = data[..., c] \n",
    "                    X_batch_64[k, ..., l] = temp\n",
    "                    \n",
    "                if 'pos' in file_pick[k]:\n",
    "                    Y_batch[k, :] = 1.0 #np.random.uniform(0.9, 0.99)\n",
    "                elif 'neg_neg_neg' in file_pick[k]:\n",
    "                    Y_batch[k, :] = 0.0 #np.random.uniform(0.01, 0.05)\n",
    "                else:\n",
    "                    werhgaer\n",
    "                    \n",
    "            ind_ = du.shuffle_ind(batch_size)\n",
    "            X_batch_64 = X_batch_64[ind_, ...]\n",
    "            Y_batch = Y_batch[ind_, :]\n",
    "            \n",
    "            # train on batch\n",
    "            model.train_on_batch(X_batch_64, Y_batch);\n",
    "            \n",
    "        # epoch end operations\n",
    "        Y_pred = model.predict([VALID_input_64])\n",
    "        # Y_pred[Y_pred<0] = 0\n",
    "        # Y_pred[Y_pred>1] = 1\n",
    "        \n",
    "        Y_pred = 1/(1 + np.exp(-Y_pred))\n",
    "        \n",
    "        record_temp = verif_metric(VALID_target, Y_pred)\n",
    "\n",
    "        # if i % 10 == 0:\n",
    "        #     model.save(model_path_backup)\n",
    "\n",
    "        if (record - record_temp > min_del) and np.max(Y_pred)>0.6:\n",
    "            print('Validation loss improved from {} to {}'.format(record, record_temp))\n",
    "            record = record_temp\n",
    "            tol = 0\n",
    "            #print('tol: {}'.format(tol))\n",
    "            # save\n",
    "            print('save to: {}'.format(model_path))\n",
    "            model.save(model_path)\n",
    "        else:\n",
    "            print('Validation loss {} NOT improved'.format(record_temp))\n",
    "            if record_temp >= 2.0:\n",
    "                print('Early stopping')\n",
    "                break;\n",
    "            else:\n",
    "                tol += 1\n",
    "                if tol >= max_tol:\n",
    "                    print('Early stopping')\n",
    "                    break;\n",
    "                else:\n",
    "                    if tol == 1 and i > count:\n",
    "                        #flag_count_change = False\n",
    "                        count = i\n",
    "                        print(count)\n",
    "                    continue;\n",
    "        print(\"--- %s seconds ---\" % (time.time() - start_time))"
   ]
  },
  {
   "cell_type": "code",
   "execution_count": null,
   "id": "52686838-4fa0-45c5-955b-b1f45118b02a",
   "metadata": {},
   "outputs": [],
   "source": []
  },
  {
   "cell_type": "code",
   "execution_count": null,
   "id": "ded166cb-a93a-4743-a4f0-3e31e07a19bd",
   "metadata": {},
   "outputs": [],
   "source": []
  },
  {
   "cell_type": "code",
   "execution_count": null,
   "id": "fe7bea1f-ad74-48a8-96e0-584628e4bf5c",
   "metadata": {},
   "outputs": [],
   "source": []
  },
  {
   "cell_type": "code",
   "execution_count": 22,
   "id": "a3b3eeba-7c15-48ae-8962-f80c279fa005",
   "metadata": {},
   "outputs": [],
   "source": [
    "model = create_model(input_shape=(64, 64, 15))\n",
    "\n",
    "model.compile(loss=keras.losses.BinaryCrossentropy(from_logits=True), optimizer=keras.optimizers.Adam(lr=0))\n",
    "\n",
    "W_old = k_utils.dummy_loader('/glade/work/ksha/NCAR/Keras_models/RE0_15p_base_tune2/')\n",
    "#W_old = k_utils.dummy_loader('/glade/work/ksha/NCAR/Keras_models/FAKE_Lead6_tune3')\n",
    "model.set_weights(W_old)"
   ]
  },
  {
   "cell_type": "code",
   "execution_count": 23,
   "id": "79771c7a-eab9-4690-8266-a4a29e2426b7",
   "metadata": {},
   "outputs": [
    {
     "name": "stdout",
     "output_type": "stream",
     "text": [
      "0.02882396175236131\n"
     ]
    }
   ],
   "source": [
    "Y_pred = model.predict([VALID_input_64])\n",
    "# Y_pred[Y_pred<0] = 0\n",
    "# Y_pred[Y_pred>1] = 1\n",
    "\n",
    "Y_pred = 1/(1 + np.exp(-Y_pred))\n",
    "\n",
    "record_temp = verif_metric(VALID_target, Y_pred)"
   ]
  },
  {
   "cell_type": "code",
   "execution_count": 24,
   "id": "f1d14b40-c852-44be-ab81-b5e082c727ba",
   "metadata": {},
   "outputs": [
    {
     "data": {
      "text/plain": [
       "[<matplotlib.lines.Line2D at 0x2b22fd020400>]"
      ]
     },
     "execution_count": 24,
     "metadata": {},
     "output_type": "execute_result"
    },
    {
     "data": {
      "image/png": "[encoded data removed]",
      "text/plain": [
       "<Figure size 640x480 with 1 Axes>"
      ]
     },
     "metadata": {},
     "output_type": "display_data"
    }
   ],
   "source": [
    "plt.plot(Y_pred)\n",
    "plt.plot(VALID_target)"
   ]
  },
  {
   "cell_type": "code",
   "execution_count": 14,
   "id": "a9cb00fc-beae-46fd-a6ac-938396022c77",
   "metadata": {},
   "outputs": [
    {
     "data": {
      "text/plain": [
       "[<matplotlib.lines.Line2D at 0x2b22fd1d36d0>]"
      ]
     },
     "execution_count": 14,
     "metadata": {},
     "output_type": "execute_result"
    },
    {
     "data": {
      "image/png": "[encoded data removed]",
      "text/plain": [
       "<Figure size 640x480 with 1 Axes>"
      ]
     },
     "metadata": {},
     "output_type": "display_data"
    }
   ],
   "source": [
    "plt.plot(Y_pred)\n",
    "plt.plot(VALID_target)"
   ]
  },
  {
   "cell_type": "code",
   "execution_count": null,
   "id": "c4304dff-457b-405d-8bb0-1ea6da5cb195",
   "metadata": {},
   "outputs": [],
   "source": []
  }
 ],
 "metadata": {
  "kernelspec": {
   "display_name": "Python 3 (ipykernel)",
   "language": "python",
   "name": "python3"
  },
  "language_info": {
   "codemirror_mode": {
    "name": "ipython",
    "version": 3
   },
   "file_extension": ".py",
   "mimetype": "text/x-python",
   "name": "python",
   "nbconvert_exporter": "python",
   "pygments_lexer": "ipython3",
   "version": "3.9.15"
  }
 },
 "nbformat": 4,
 "nbformat_minor": 5
}
