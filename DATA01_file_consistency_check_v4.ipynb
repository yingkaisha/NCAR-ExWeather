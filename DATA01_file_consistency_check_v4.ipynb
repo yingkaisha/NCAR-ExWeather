{
 "cells": [
  {
   "cell_type": "code",
   "execution_count": 1,
   "id": "55c48ff9-e7d2-4f67-baf6-7799fa8853d6",
   "metadata": {},
   "outputs": [],
   "source": [
    "# general tools\n",
    "import os\n",
    "import sys\n",
    "import time\n",
    "import h5py\n",
    "import random\n",
    "from glob import glob\n",
    "\n",
    "import numpy as np\n",
    "from datetime import datetime, timedelta\n",
    "from random import shuffle"
   ]
  },
  {
   "cell_type": "code",
   "execution_count": 2,
   "id": "1da76650-fb50-46e6-80b7-0d8419888c41",
   "metadata": {},
   "outputs": [],
   "source": [
    "import dask.array as da"
   ]
  },
  {
   "cell_type": "code",
   "execution_count": 5,
   "id": "b08ee51a-151c-47a7-87ec-a2c3cbd36839",
   "metadata": {},
   "outputs": [],
   "source": [
    "sys.path.insert(0, '/glade/u/home/ksha/NCAR/')\n",
    "sys.path.insert(0, '/glade/u/home/ksha/NCAR/libs/')\n",
    "\n",
    "from namelist import *\n",
    "import data_utils as du"
   ]
  },
  {
   "cell_type": "code",
   "execution_count": 26,
   "id": "a7599e53-5630-46c1-b832-6fed57dfef3f",
   "metadata": {},
   "outputs": [
    {
     "data": {
      "text/plain": [
       "'/glade/campaign/cisl/aiml/ksha/'"
      ]
     },
     "execution_count": 26,
     "metadata": {},
     "output_type": "execute_result"
    }
   ],
   "source": [
    "save_dir_campaign"
   ]
  },
  {
   "cell_type": "code",
   "execution_count": null,
   "id": "e44b63e0-afff-4a7d-940f-a65448e43d50",
   "metadata": {},
   "outputs": [],
   "source": [
    "2-8\n"
   ]
  },
  {
   "cell_type": "code",
   "execution_count": 29,
   "id": "7071bd53-d6c1-43e3-b3c5-0c71c89a9a8e",
   "metadata": {},
   "outputs": [
    {
     "data": {
      "text/plain": [
       "'/glade/campaign/cisl/aiml/ksha/HRRR_09_v4.zarr'"
      ]
     },
     "execution_count": 29,
     "metadata": {},
     "output_type": "execute_result"
    }
   ],
   "source": [
    "save_dir_campaign+'HRRR_{:02}_v4.zarr'.format(9)"
   ]
  },
  {
   "cell_type": "code",
   "execution_count": 35,
   "id": "8c5e9eac-f0b6-402f-a299-f3811e5c1192",
   "metadata": {},
   "outputs": [
    {
     "data": {
      "text/plain": [
       "872"
      ]
     },
     "execution_count": 35,
     "metadata": {},
     "output_type": "execute_result"
    }
   ],
   "source": [
    "len(da.from_zarr(save_dir_scratch+'HRRR_{:02}_v3.zarr'.format(3)))"
   ]
  },
  {
   "cell_type": "code",
   "execution_count": 36,
   "id": "4482fd74-78ba-4510-aa87-89b8e3b358ca",
   "metadata": {},
   "outputs": [
    {
     "data": {
      "text/plain": [
       "872"
      ]
     },
     "execution_count": 36,
     "metadata": {},
     "output_type": "execute_result"
    }
   ],
   "source": [
    "len(da.from_zarr(save_dir_campaign+'HRRR_{:02}_v3.zarr'.format(3)))"
   ]
  },
  {
   "cell_type": "code",
   "execution_count": null,
   "id": "dba7863a-3841-4109-ae4f-1a4aa22887a9",
   "metadata": {},
   "outputs": [],
   "source": []
  },
  {
   "cell_type": "code",
   "execution_count": null,
   "id": "df375a12-364a-484c-b6c1-bb8d7f7b0524",
   "metadata": {},
   "outputs": [],
   "source": []
  },
  {
   "cell_type": "code",
   "execution_count": null,
   "id": "c9237e97-9398-49e2-a99b-38f688f80d94",
   "metadata": {},
   "outputs": [],
   "source": []
  },
  {
   "cell_type": "code",
   "execution_count": null,
   "id": "611634ce-c104-472d-8cc9-ebc968c8a514",
   "metadata": {},
   "outputs": [],
   "source": []
  }
 ],
 "metadata": {
  "kernelspec": {
   "display_name": "Python 3 (ipykernel)",
   "language": "python",
   "name": "python3"
  },
  "language_info": {
   "codemirror_mode": {
    "name": "ipython",
    "version": 3
   },
   "file_extension": ".py",
   "mimetype": "text/x-python",
   "name": "python",
   "nbconvert_exporter": "python",
   "pygments_lexer": "ipython3",
   "version": "3.9.15"
  }
 },
 "nbformat": 4,
 "nbformat_minor": 5
}
