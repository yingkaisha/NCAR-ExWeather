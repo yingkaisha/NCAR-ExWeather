{
 "cells": [
  {
   "cell_type": "code",
   "execution_count": 1,
   "id": "ce76310e-2358-43eb-ba0c-188a45af0b5e",
   "metadata": {},
   "outputs": [],
   "source": [
    "# general tools\n",
    "import os\n",
    "import sys\n",
    "from glob import glob\n",
    "\n",
    "# data tools\n",
    "import time\n",
    "import h5py\n",
    "import random\n",
    "import numpy as np\n",
    "from random import shuffle\n",
    "\n",
    "import matplotlib.pyplot as plt\n",
    "%matplotlib inline"
   ]
  },
  {
   "cell_type": "code",
   "execution_count": 2,
   "id": "ee2f455b-7a16-4d6c-b673-ff37e482f46d",
   "metadata": {},
   "outputs": [
    {
     "name": "stderr",
     "output_type": "stream",
     "text": [
      "2022-12-25 15:32:42.685205: I tensorflow/stream_executor/platform/default/dso_loader.cc:49] Successfully opened dynamic library libcudart.so.10.1\n"
     ]
    }
   ],
   "source": [
    "# deep learning tools\n",
    "import tensorflow as tf\n",
    "from tensorflow import keras\n",
    "from tensorflow.keras import layers\n",
    "from tensorflow.keras import backend\n",
    "from tensorflow.keras import utils\n",
    "from tensorflow.keras import Model\n",
    "\n",
    "tf.config.run_functions_eagerly(True)\n",
    "\n",
    "# from keras_unet_collection import models as k_models\n",
    "from keras_unet_collection import utils as k_utils\n",
    "# from keras_unet_collection import layer_utils as k_layers\n",
    "# from keras_unet_collection.activations import GELU"
   ]
  },
  {
   "cell_type": "code",
   "execution_count": 3,
   "id": "329c3d14-edd9-49fa-a0b6-c112ea9c7553",
   "metadata": {},
   "outputs": [],
   "source": [
    "sys.path.insert(0, '/glade/u/home/ksha/NCAR/')\n",
    "sys.path.insert(0, '/glade/u/home/ksha/NCAR/libs/')\n",
    "\n",
    "from namelist import *\n",
    "import data_utils as du\n",
    "import graph_utils as gu\n",
    "#import convnext_keras as ck\n",
    "\n",
    "from sklearn.metrics import classification_report, auc, roc_curve\n",
    "from sklearn.metrics import confusion_matrix\n",
    "from sklearn.metrics import brier_score_loss\n",
    "from sklearn.metrics import log_loss\n",
    "\n",
    "import matplotlib.pyplot as plt\n",
    "%matplotlib inline"
   ]
  },
  {
   "cell_type": "code",
   "execution_count": 4,
   "id": "dec3a19a-fee9-45a8-a818-d3c996511584",
   "metadata": {},
   "outputs": [],
   "source": [
    "def set_seeds(seed):\n",
    "    os.environ['PYTHONHASHSEED'] = str(seed)\n",
    "    random.seed(seed)\n",
    "    tf.random.set_seed(seed)\n",
    "    np.random.seed(seed)"
   ]
  },
  {
   "cell_type": "code",
   "execution_count": 5,
   "id": "3d6c92a9-d00f-489c-a536-8745765bb6d6",
   "metadata": {},
   "outputs": [],
   "source": [
    "class LayerScale(layers.Layer):\n",
    "    \"\"\"Layer scale module.\n",
    "    References:\n",
    "      - https://arxiv.org/abs/2103.17239\n",
    "    Args:\n",
    "      init_values (float): Initial value for layer scale. Should be within\n",
    "        [0, 1].\n",
    "      projection_dim (int): Projection dimensionality.\n",
    "    Returns:\n",
    "      Tensor multiplied to the scale.\n",
    "    \"\"\"\n",
    "\n",
    "    def __init__(self, init_values, projection_dim, **kwargs):\n",
    "        super().__init__(**kwargs)\n",
    "        self.init_values = init_values\n",
    "        self.projection_dim = projection_dim\n",
    "\n",
    "    def build(self, input_shape):\n",
    "        self.gamma = tf.Variable(\n",
    "            self.init_values * tf.ones((self.projection_dim,))\n",
    "        )\n",
    "\n",
    "    def call(self, x):\n",
    "        return x * self.gamma\n",
    "\n",
    "    def get_config(self):\n",
    "        config = super().get_config()\n",
    "        config.update(\n",
    "            {\n",
    "                \"init_values\": self.init_values,\n",
    "                \"projection_dim\": self.projection_dim,\n",
    "            }\n",
    "        )\n",
    "        return config\n",
    "    \n",
    "def Head(num_classes=1000, name=None):\n",
    "    \"\"\"Implementation of classification head of RegNet.\n",
    "    Args:\n",
    "      num_classes: number of classes for Dense layer\n",
    "      name: name prefix\n",
    "    Returns:\n",
    "      Classification head function.\n",
    "    \"\"\"\n",
    "    if name is None:\n",
    "        name = str(backend.get_uid(\"head\"))\n",
    "\n",
    "    def apply(x):\n",
    "        x = layers.GlobalAveragePooling2D(name=name + \"_head_gap\")(x)\n",
    "        x = layers.LayerNormalization(\n",
    "            epsilon=1e-6, name=name + \"_head_layernorm\"\n",
    "        )(x)\n",
    "        x = layers.Dense(num_classes, name=name + \"_head_dense\")(x)\n",
    "        return x\n",
    "\n",
    "    return apply\n",
    "\n",
    "def create_model(input_shape=(64, 64, 15)):\n",
    "\n",
    "    depths=[3, 3, 27, 3]\n",
    "    projection_dims=[32, 64, 96, 128]\n",
    "    drop_path_rate=0.0\n",
    "    layer_scale_init_value=1e-6\n",
    "\n",
    "\n",
    "    model_name='Branch64X'\n",
    "    IN64 = layers.Input(shape=input_shape)\n",
    "    X = IN64\n",
    "\n",
    "    # X = layers.LocallyConnected2D(32, kernel_size=1, strides=(1, 1), padding=\"valid\", implementation=1)(X)\n",
    "    # X = layers.LayerNormalization(epsilon=1e-6, name=\"{}_lc1_norm\".format(model_name))(X)\n",
    "    # X = layers.Activation(\"gelu\", name=\"{}_lc1_gelu\".format(model_name))(X)\n",
    "\n",
    "    # X = layers.LocallyConnected2D(96, kernel_size=1, strides=(1, 1), padding=\"valid\", implementation=1)(X)\n",
    "    # X = layers.LayerNormalization(epsilon=1e-6, name=\"{}_lc2_norm\".format(model_name))(X)\n",
    "    # X = layers.Activation(\"gelu\", name=\"{}_lc2_gelu\".format(model_name))(X)\n",
    "\n",
    "    # ----- convnext block 0 ----- #\n",
    "\n",
    "    X = layers.Conv2D(projection_dims[0], kernel_size=4, strides=4, name=\"{}_down0\".format(model_name))(X)\n",
    "    X = layers.LayerNormalization(epsilon=1e-6, name=\"{}_down0_norm\".format(model_name))(X)\n",
    "\n",
    "    for j in range(depths[0]):\n",
    "\n",
    "        X_convnext = X\n",
    "        X_convnext = layers.Conv2D(filters=projection_dims[0], kernel_size=7, padding=\"same\",\n",
    "                                   groups=projection_dims[0], name=\"{}_down0_dconv{}\".format(model_name, j))(X_convnext)\n",
    "        X_convnext = layers.LayerNormalization(epsilon=1e-6, name=\"{}_down0_dconv{}_norm\".format(model_name, j))(X_convnext)\n",
    "        X_convnext = layers.Dense(4 * projection_dims[0], name=\"{}_down0_dense{}_p1\".format(model_name, j))(X_convnext)\n",
    "        X_convnext = layers.Activation(\"gelu\", name=\"{}_down0_gelu{}\".format(model_name, j))(X_convnext)\n",
    "        X_convnext = layers.Dense(projection_dims[0], name=\"{}_down0_dense{}_p2\".format(model_name, j))(X_convnext)\n",
    "\n",
    "        X_convnext = LayerScale(layer_scale_init_value, projection_dims[0], name=\"{}_down0_layerscale{}\".format(model_name, j))(X_convnext)\n",
    "        \n",
    "        X = keras.layers.Dropout(0.1)(X)\n",
    "        \n",
    "        X = X + X_convnext\n",
    "\n",
    "\n",
    "    # ----- convnext block 1 ----- #\n",
    "\n",
    "    X = layers.LayerNormalization(epsilon=1e-6, name=\"{}_down1_norm\".format(model_name))(X)\n",
    "    X = layers.Conv2D(projection_dims[1], kernel_size=2, strides=2, name=\"{}_down1\".format(model_name))(X)\n",
    "\n",
    "    for j in range(depths[1]):\n",
    "\n",
    "        X_convnext = X\n",
    "        X_convnext = layers.Conv2D(filters=projection_dims[1], kernel_size=7, padding=\"same\",\n",
    "                                   groups=projection_dims[1], name=\"{}_down1_dconv{}\".format(model_name, j))(X_convnext)\n",
    "        X_convnext = layers.LayerNormalization(epsilon=1e-6, name=\"{}_down1_dconv{}_norm\".format(model_name, j))(X_convnext)\n",
    "        X_convnext = layers.Dense(4 * projection_dims[1], name=\"{}_down1_dense{}_p1\".format(model_name, j))(X_convnext)\n",
    "        X_convnext = layers.Activation(\"gelu\", name=\"{}_down1_gelu{}\".format(model_name, j))(X_convnext)\n",
    "        X_convnext = layers.Dense(projection_dims[1], name=\"{}_down1_dense{}_p2\".format(model_name, j))(X_convnext)\n",
    "\n",
    "        X_convnext = LayerScale(layer_scale_init_value, projection_dims[1], name=\"{}_down1_layerscale{}\".format(model_name, j))(X_convnext)\n",
    "        \n",
    "        X = keras.layers.Dropout(0.1)(X)\n",
    "        \n",
    "        X = X + X_convnext\n",
    "\n",
    "    # ----- convnext block 2 ----- #\n",
    "\n",
    "    X = layers.LayerNormalization(epsilon=1e-6, name=\"{}_down2_norm\".format(model_name))(X)\n",
    "    X = layers.Conv2D(projection_dims[2], kernel_size=2, strides=2, name=\"{}_down2\".format(model_name))(X)\n",
    "\n",
    "    for j in range(depths[2]):\n",
    "\n",
    "        X_convnext = X\n",
    "        X_convnext = layers.Conv2D(filters=projection_dims[2], kernel_size=5, padding=\"same\",\n",
    "                                   groups=projection_dims[2], name=\"{}_down2_dconv{}\".format(model_name, j))(X_convnext)\n",
    "        X_convnext = layers.LayerNormalization(epsilon=1e-6, name=\"{}_down2_dconv{}_norm\".format(model_name, j))(X_convnext)\n",
    "        X_convnext = layers.Dense(4 * projection_dims[2], name=\"{}_down2_dense{}_p1\".format(model_name, j))(X_convnext)\n",
    "        X_convnext = layers.Activation(\"gelu\", name=\"{}_down2_gelu{}\".format(model_name, j))(X_convnext)\n",
    "        X_convnext = layers.Dense(projection_dims[2], name=\"{}_down2_dense{}_p2\".format(model_name, j))(X_convnext)\n",
    "\n",
    "        X_convnext = LayerScale(layer_scale_init_value, projection_dims[2], name=\"{}_down2_layerscale{}\".format(model_name, j))(X_convnext)\n",
    "        \n",
    "        X = keras.layers.Dropout(0.1)(X)\n",
    "        \n",
    "        X = X + X_convnext\n",
    "\n",
    "    # ----- convnext block 3 ----- #\n",
    "\n",
    "    X = layers.LayerNormalization(epsilon=1e-6, name=\"{}_down3_norm\".format(model_name))(X)\n",
    "    X = layers.Conv2D(projection_dims[3], kernel_size=2, padding='same', name=\"{}_down3\".format(model_name))(X)\n",
    "\n",
    "    for j in range(depths[3]):\n",
    "\n",
    "        X_convnext = X\n",
    "        X_convnext = layers.Conv2D(filters=projection_dims[3], kernel_size=5, padding=\"same\",\n",
    "                                   groups=projection_dims[3], name=\"{}_down3_dconv{}\".format(model_name, j))(X_convnext)\n",
    "        X_convnext = layers.LayerNormalization(epsilon=1e-6, name=\"{}_down3_dconv{}_norm\".format(model_name, j))(X_convnext)\n",
    "        X_convnext = layers.Dense(4 * projection_dims[3], name=\"{}_down3_dense{}_p1\".format(model_name, j))(X_convnext)\n",
    "        X_convnext = layers.Activation(\"gelu\", name=\"{}_down3_gelu{}\".format(model_name, j))(X_convnext)\n",
    "        X_convnext = layers.Dense(projection_dims[3], name=\"{}_down3_dense{}_p2\".format(model_name, j))(X_convnext)\n",
    "\n",
    "        X_convnext = LayerScale(layer_scale_init_value, projection_dims[3], name=\"{}_down3_layerscale{}\".format(model_name, j))(X_convnext)\n",
    "        \n",
    "        X = keras.layers.Dropout(0.1)(X)\n",
    "        \n",
    "        X = X + X_convnext\n",
    "\n",
    "    V1 = X\n",
    "\n",
    "    OUT = layers.GlobalMaxPooling2D(name=\"{}_head_pool64\".format(model_name))(V1)\n",
    "    OUT = layers.LayerNormalization(epsilon=1e-6, name=\"{}_head_norm64\".format(model_name))(OUT)\n",
    "\n",
    "    OUT = layers.Dense(64, name=\"{}_dense1\".format(model_name))(OUT)\n",
    "    OUT = layers.LayerNormalization(epsilon=1e-6, name=\"{}_dense1_norm\".format(model_name))(OUT)\n",
    "    OUT = layers.Activation(\"gelu\", name=\"{}_dense1_gelu{}\".format(model_name, j))(OUT)\n",
    "\n",
    "    OUT = layers.Dense(1, name=\"{}_head_out\".format(model_name))(OUT)\n",
    "\n",
    "    model = Model(inputs=IN64, outputs=OUT, name=model_name)\n",
    "\n",
    "    return model"
   ]
  },
  {
   "cell_type": "code",
   "execution_count": 6,
   "id": "649972bc-dfac-4f66-9a7d-bc4c058f97d9",
   "metadata": {},
   "outputs": [],
   "source": [
    "def verif_metric(VALID_target, Y_pred):\n",
    "\n",
    "\n",
    "    # fpr, tpr, thresholds = roc_curve(VALID_target.ravel(), Y_pred.ravel())\n",
    "    # AUC = auc(fpr, tpr)\n",
    "    # AUC_metric = 1 - AUC\n",
    "    \n",
    "    BS = np.mean((VALID_target.ravel() - Y_pred.ravel())**2)\n",
    "    #ll = log_loss(VALID_target.ravel(), Y_pred.ravel())\n",
    "    \n",
    "    print('{}'.format(BS))\n",
    "    metric = BS\n",
    "\n",
    "    return metric"
   ]
  },
  {
   "cell_type": "code",
   "execution_count": 7,
   "id": "a1c2e1ce-3a18-4453-a423-4933848bf089",
   "metadata": {},
   "outputs": [],
   "source": [
    "# from importlib import reload\n",
    "# reload(ck)"
   ]
  },
  {
   "cell_type": "code",
   "execution_count": 8,
   "id": "9e1ee330-cf69-4ead-aa86-42cb0aeec11b",
   "metadata": {},
   "outputs": [],
   "source": [
    "#ind_pick_from_batch = [0, 1, 3, 4, 8, 9, 10, 13, 14, 15, 16, 17, 18, 21, 22]\n",
    "ind_pick_from_batch = [0, 1, 2, 3, 4, 5, 6, 7, 8, 9, 10, 11, 12, 13, 14]\n",
    "L_vars = len(ind_pick_from_batch)"
   ]
  },
  {
   "cell_type": "code",
   "execution_count": 9,
   "id": "c181e0e9-cf6a-4fc9-a913-97562ce045c2",
   "metadata": {},
   "outputs": [
    {
     "name": "stdout",
     "output_type": "stream",
     "text": [
      "neg:6739773 vs pos:27551\n"
     ]
    }
   ],
   "source": [
    "filename_neg_train = sorted(glob(\"/glade/scratch/ksha/DATA/NCAR_batch_v3/TRAIN*neg_neg_neg*.npy\"))\n",
    "filename_pos_train = sorted(glob(\"/glade/scratch/ksha/DATA/NCAR_batch_v3/TRAIN*pos*.npy\"))\n",
    "\n",
    "filename_neg_valid = sorted(glob(\"/glade/scratch/ksha/DATA/NCAR_batch_v3/VALID*neg_neg_neg*.npy\"))\n",
    "filename_pos_valid = sorted(glob(\"/glade/scratch/ksha/DATA/NCAR_batch_v3/VALID*pos*.npy\"))\n",
    "\n",
    "print('neg:{} vs pos:{}'.format(len(filename_neg_train), len(filename_pos_train)))"
   ]
  },
  {
   "cell_type": "code",
   "execution_count": 16,
   "id": "81b0d2aa-9505-4a33-b5f7-ec5b390ee284",
   "metadata": {},
   "outputs": [
    {
     "name": "stdout",
     "output_type": "stream",
     "text": [
      "12410\n"
     ]
    }
   ],
   "source": [
    "filename_valid = filename_neg_valid[::800] + filename_pos_valid[::2]\n",
    "#filename_valid = filename_neg_valid[::200] + filename_pos_valid[::50]\n",
    "print(len(filename_valid))\n",
    "\n",
    "L_valid = len(filename_valid)\n",
    "\n",
    "VALID_input_64 = np.empty((L_valid, 64, 64, L_vars))\n",
    "VALID_target = np.ones(L_valid)\n",
    "\n",
    "for i, name in enumerate(filename_valid):\n",
    "    data = np.load(name)\n",
    "    for k, c in enumerate(ind_pick_from_batch):\n",
    "        \n",
    "        VALID_input_64[i, ..., k] = data[..., c]\n",
    "\n",
    "        if 'pos' in name:\n",
    "            VALID_target[i] = 1.0\n",
    "        else:\n",
    "            VALID_target[i] = 0.0"
   ]
  },
  {
   "cell_type": "code",
   "execution_count": 17,
   "id": "9153154f-4b69-48f7-b848-f1124b5e5203",
   "metadata": {},
   "outputs": [
    {
     "data": {
      "text/plain": [
       "0.6929895245769541"
      ]
     },
     "execution_count": 17,
     "metadata": {},
     "output_type": "execute_result"
    }
   ],
   "source": [
    "np.sum(VALID_target) / len(VALID_target)"
   ]
  },
  {
   "cell_type": "markdown",
   "id": "26d6c483-697c-43b9-8469-8028e4b819bc",
   "metadata": {},
   "source": [
    "**ConvNext**"
   ]
  },
  {
   "cell_type": "code",
   "execution_count": 18,
   "id": "842940ff-c806-4094-96e5-71b903fe9276",
   "metadata": {},
   "outputs": [],
   "source": [
    "#tf.config.list_physical_devices('GPU')"
   ]
  },
  {
   "cell_type": "code",
   "execution_count": null,
   "id": "d56f62ab-0e3f-41af-b09d-be2b068e01f2",
   "metadata": {},
   "outputs": [
    {
     "name": "stdout",
     "output_type": "stream",
     "text": [
      "Initial record: 0.14773765787876958\n",
      "Training round 0\n",
      "0.15379064799591938\n",
      "Validation loss 0.15379064799591938 NOT improved\n",
      "0.15008088093535568\n",
      "Validation loss 0.15008088093535568 NOT improved\n",
      "0.1648935488948798\n",
      "Validation loss 0.1648935488948798 NOT improved\n",
      "0.161308981429507\n",
      "Validation loss 0.161308981429507 NOT improved\n",
      "0.1478961333133825\n",
      "Validation loss 0.1478961333133825 NOT improved\n",
      "0.16093034189693142\n",
      "Validation loss 0.16093034189693142 NOT improved\n",
      "0.14558665458659764\n",
      "Validation loss improved from 0.14773765787876958 to 0.14558665458659764\n",
      "save to: /glade/work/ksha/NCAR/Keras_models/RE0_15p_copy1\n",
      "INFO:tensorflow:Assets written to: /glade/work/ksha/NCAR/Keras_models/RE0_15p_copy1/assets\n",
      "--- 450.5101580619812 seconds ---\n"
     ]
    },
    {
     "name": "stderr",
     "output_type": "stream",
     "text": [
      "/glade/work/ksha/anaconda3/lib/python3.9/site-packages/tensorflow/python/data/ops/dataset_ops.py:3503: UserWarning: Even though the tf.config.experimental_run_functions_eagerly option is set, this option does not apply to tf.data functions. tf.data functions are still traced and executed as graphs.\n",
      "  warnings.warn(\n"
     ]
    },
    {
     "name": "stdout",
     "output_type": "stream",
     "text": [
      "0.15448206613458437\n",
      "Validation loss 0.15448206613458437 NOT improved\n",
      "7\n",
      "0.14362894439003218\n",
      "Validation loss improved from 0.14558665458659764 to 0.14362894439003218\n",
      "save to: /glade/work/ksha/NCAR/Keras_models/RE0_15p_copy1\n",
      "INFO:tensorflow:Assets written to: /glade/work/ksha/NCAR/Keras_models/RE0_15p_copy1/assets\n",
      "--- 479.1280429363251 seconds ---\n"
     ]
    },
    {
     "name": "stderr",
     "output_type": "stream",
     "text": [
      "/glade/work/ksha/anaconda3/lib/python3.9/site-packages/tensorflow/python/data/ops/dataset_ops.py:3503: UserWarning: Even though the tf.config.experimental_run_functions_eagerly option is set, this option does not apply to tf.data functions. tf.data functions are still traced and executed as graphs.\n",
      "  warnings.warn(\n"
     ]
    },
    {
     "name": "stdout",
     "output_type": "stream",
     "text": [
      "0.15002764141544456\n",
      "Validation loss 0.15002764141544456 NOT improved\n",
      "9\n",
      "0.1572788734959857\n",
      "Validation loss 0.1572788734959857 NOT improved\n",
      "0.15329918229867978\n",
      "Validation loss 0.15329918229867978 NOT improved\n",
      "0.14400249709567745\n",
      "Validation loss 0.14400249709567745 NOT improved\n",
      "0.14803522208075015\n",
      "Validation loss 0.14803522208075015 NOT improved\n",
      "0.1456801577709309\n",
      "Validation loss 0.1456801577709309 NOT improved\n",
      "0.15468290775795848\n",
      "Validation loss 0.15468290775795848 NOT improved\n",
      "0.14848988353512121\n",
      "Validation loss 0.14848988353512121 NOT improved\n",
      "0.15284262826028808\n",
      "Validation loss 0.15284262826028808 NOT improved\n",
      "0.14390466495512372\n",
      "Validation loss 0.14390466495512372 NOT improved\n",
      "0.14281624374389323\n",
      "Validation loss improved from 0.14362894439003218 to 0.14281624374389323\n",
      "save to: /glade/work/ksha/NCAR/Keras_models/RE0_15p_copy1\n",
      "INFO:tensorflow:Assets written to: /glade/work/ksha/NCAR/Keras_models/RE0_15p_copy1/assets\n",
      "--- 538.5164518356323 seconds ---\n"
     ]
    },
    {
     "name": "stderr",
     "output_type": "stream",
     "text": [
      "/glade/work/ksha/anaconda3/lib/python3.9/site-packages/tensorflow/python/data/ops/dataset_ops.py:3503: UserWarning: Even though the tf.config.experimental_run_functions_eagerly option is set, this option does not apply to tf.data functions. tf.data functions are still traced and executed as graphs.\n",
      "  warnings.warn(\n"
     ]
    },
    {
     "name": "stdout",
     "output_type": "stream",
     "text": [
      "0.15219727685196005\n",
      "Validation loss 0.15219727685196005 NOT improved\n",
      "20\n",
      "0.1503956289821811\n",
      "Validation loss 0.1503956289821811 NOT improved\n",
      "0.13706252646548345\n",
      "Validation loss improved from 0.14281624374389323 to 0.13706252646548345\n",
      "save to: /glade/work/ksha/NCAR/Keras_models/RE0_15p_copy1\n",
      "INFO:tensorflow:Assets written to: /glade/work/ksha/NCAR/Keras_models/RE0_15p_copy1/assets\n",
      "--- 466.0073549747467 seconds ---\n"
     ]
    },
    {
     "name": "stderr",
     "output_type": "stream",
     "text": [
      "/glade/work/ksha/anaconda3/lib/python3.9/site-packages/tensorflow/python/data/ops/dataset_ops.py:3503: UserWarning: Even though the tf.config.experimental_run_functions_eagerly option is set, this option does not apply to tf.data functions. tf.data functions are still traced and executed as graphs.\n",
      "  warnings.warn(\n"
     ]
    },
    {
     "name": "stdout",
     "output_type": "stream",
     "text": [
      "0.1470570660209622\n",
      "Validation loss 0.1470570660209622 NOT improved\n",
      "23\n",
      "0.1988358939965516\n",
      "Validation loss 0.1988358939965516 NOT improved\n",
      "0.15579145983324463\n",
      "Validation loss 0.15579145983324463 NOT improved\n",
      "0.14207853017450986\n",
      "Validation loss 0.14207853017450986 NOT improved\n",
      "0.14689483915501883\n",
      "Validation loss 0.14689483915501883 NOT improved\n",
      "0.1374638732898855\n",
      "Validation loss 0.1374638732898855 NOT improved\n",
      "0.13080508904255728\n",
      "Validation loss improved from 0.13706252646548345 to 0.13080508904255728\n",
      "save to: /glade/work/ksha/NCAR/Keras_models/RE0_15p_copy1\n",
      "INFO:tensorflow:Assets written to: /glade/work/ksha/NCAR/Keras_models/RE0_15p_copy1/assets\n",
      "--- 409.83140444755554 seconds ---\n"
     ]
    },
    {
     "name": "stderr",
     "output_type": "stream",
     "text": [
      "/glade/work/ksha/anaconda3/lib/python3.9/site-packages/tensorflow/python/data/ops/dataset_ops.py:3503: UserWarning: Even though the tf.config.experimental_run_functions_eagerly option is set, this option does not apply to tf.data functions. tf.data functions are still traced and executed as graphs.\n",
      "  warnings.warn(\n"
     ]
    },
    {
     "name": "stdout",
     "output_type": "stream",
     "text": [
      "0.14388804451153459\n",
      "Validation loss 0.14388804451153459 NOT improved\n",
      "30\n",
      "0.15014605482499166\n",
      "Validation loss 0.15014605482499166 NOT improved\n",
      "0.1554616266574896\n",
      "Validation loss 0.1554616266574896 NOT improved\n",
      "0.12899602336486032\n",
      "Validation loss improved from 0.13080508904255728 to 0.12899602336486032\n",
      "save to: /glade/work/ksha/NCAR/Keras_models/RE0_15p_copy1\n",
      "INFO:tensorflow:Assets written to: /glade/work/ksha/NCAR/Keras_models/RE0_15p_copy1/assets\n",
      "--- 421.2967550754547 seconds ---\n"
     ]
    },
    {
     "name": "stderr",
     "output_type": "stream",
     "text": [
      "/glade/work/ksha/anaconda3/lib/python3.9/site-packages/tensorflow/python/data/ops/dataset_ops.py:3503: UserWarning: Even though the tf.config.experimental_run_functions_eagerly option is set, this option does not apply to tf.data functions. tf.data functions are still traced and executed as graphs.\n",
      "  warnings.warn(\n"
     ]
    },
    {
     "name": "stdout",
     "output_type": "stream",
     "text": [
      "0.14416403776762785\n",
      "Validation loss 0.14416403776762785 NOT improved\n",
      "34\n",
      "0.15645358815333782\n",
      "Validation loss 0.15645358815333782 NOT improved\n",
      "0.15043819903389052\n",
      "Validation loss 0.15043819903389052 NOT improved\n",
      "0.13007795448404003\n",
      "Validation loss 0.13007795448404003 NOT improved\n",
      "0.15525442266592063\n",
      "Validation loss 0.15525442266592063 NOT improved\n",
      "0.15298286912202733\n",
      "Validation loss 0.15298286912202733 NOT improved\n",
      "0.1598061338748575\n",
      "Validation loss 0.1598061338748575 NOT improved\n",
      "0.13989895056692087\n",
      "Validation loss 0.13989895056692087 NOT improved\n",
      "0.14220457979140652\n",
      "Validation loss 0.14220457979140652 NOT improved\n",
      "0.13343724810897192\n",
      "Validation loss 0.13343724810897192 NOT improved\n",
      "0.12663068274361938\n",
      "Validation loss improved from 0.12899602336486032 to 0.12663068274361938\n",
      "save to: /glade/work/ksha/NCAR/Keras_models/RE0_15p_copy1\n",
      "INFO:tensorflow:Assets written to: /glade/work/ksha/NCAR/Keras_models/RE0_15p_copy1/assets\n",
      "--- 453.4555308818817 seconds ---\n"
     ]
    },
    {
     "name": "stderr",
     "output_type": "stream",
     "text": [
      "/glade/work/ksha/anaconda3/lib/python3.9/site-packages/tensorflow/python/data/ops/dataset_ops.py:3503: UserWarning: Even though the tf.config.experimental_run_functions_eagerly option is set, this option does not apply to tf.data functions. tf.data functions are still traced and executed as graphs.\n",
      "  warnings.warn(\n"
     ]
    },
    {
     "name": "stdout",
     "output_type": "stream",
     "text": [
      "0.14080594220864634\n",
      "Validation loss 0.14080594220864634 NOT improved\n",
      "45\n",
      "0.1364692634841903\n",
      "Validation loss 0.1364692634841903 NOT improved\n",
      "0.15359327830113437\n",
      "Validation loss 0.15359327830113437 NOT improved\n",
      "0.14815164578794676\n",
      "Validation loss 0.14815164578794676 NOT improved\n",
      "0.13528348781560764\n",
      "Validation loss 0.13528348781560764 NOT improved\n",
      "0.14757695544032995\n",
      "Validation loss 0.14757695544032995 NOT improved\n",
      "0.1478420944188856\n",
      "Validation loss 0.1478420944188856 NOT improved\n",
      "0.14866193205797226\n",
      "Validation loss 0.14866193205797226 NOT improved\n",
      "0.146855961299289\n",
      "Validation loss 0.146855961299289 NOT improved\n",
      "0.1273530814379022\n",
      "Validation loss 0.1273530814379022 NOT improved\n",
      "0.13250345425268403\n",
      "Validation loss 0.13250345425268403 NOT improved\n",
      "0.14155316271216686\n",
      "Validation loss 0.14155316271216686 NOT improved\n",
      "0.14772343693891185\n",
      "Validation loss 0.14772343693891185 NOT improved\n",
      "0.11919498555257195\n",
      "Validation loss improved from 0.12663068274361938 to 0.11919498555257195\n",
      "save to: /glade/work/ksha/NCAR/Keras_models/RE0_15p_copy1\n",
      "INFO:tensorflow:Assets written to: /glade/work/ksha/NCAR/Keras_models/RE0_15p_copy1/assets\n",
      "--- 400.0283577442169 seconds ---\n"
     ]
    },
    {
     "name": "stderr",
     "output_type": "stream",
     "text": [
      "/glade/work/ksha/anaconda3/lib/python3.9/site-packages/tensorflow/python/data/ops/dataset_ops.py:3503: UserWarning: Even though the tf.config.experimental_run_functions_eagerly option is set, this option does not apply to tf.data functions. tf.data functions are still traced and executed as graphs.\n",
      "  warnings.warn(\n"
     ]
    },
    {
     "name": "stdout",
     "output_type": "stream",
     "text": [
      "0.12015366502884285\n",
      "Validation loss 0.12015366502884285 NOT improved\n",
      "59\n",
      "0.12913785962749347\n",
      "Validation loss 0.12913785962749347 NOT improved\n",
      "0.15323615200713264\n",
      "Validation loss 0.15323615200713264 NOT improved\n",
      "0.14490319991507977\n",
      "Validation loss 0.14490319991507977 NOT improved\n",
      "0.14545078029025538\n",
      "Validation loss 0.14545078029025538 NOT improved\n",
      "0.13007415759360122\n",
      "Validation loss 0.13007415759360122 NOT improved\n",
      "0.1499944150781446\n",
      "Validation loss 0.1499944150781446 NOT improved\n",
      "0.13469609803247207\n",
      "Validation loss 0.13469609803247207 NOT improved\n",
      "0.12240587088897296\n",
      "Validation loss 0.12240587088897296 NOT improved\n",
      "0.13731753605553604\n",
      "Validation loss 0.13731753605553604 NOT improved\n",
      "0.12873655775043422\n",
      "Validation loss 0.12873655775043422 NOT improved\n",
      "0.1258152888551272\n",
      "Validation loss 0.1258152888551272 NOT improved\n",
      "0.1516297799977183\n",
      "Validation loss 0.1516297799977183 NOT improved\n",
      "0.14697170861792377\n",
      "Validation loss 0.14697170861792377 NOT improved\n",
      "0.13364505164304605\n",
      "Validation loss 0.13364505164304605 NOT improved\n",
      "0.12515823364726192\n",
      "Validation loss 0.12515823364726192 NOT improved\n",
      "0.12239816068125013\n",
      "Validation loss 0.12239816068125013 NOT improved\n",
      "0.12708891360974764\n",
      "Validation loss 0.12708891360974764 NOT improved\n",
      "0.12401483001298293\n",
      "Validation loss 0.12401483001298293 NOT improved\n",
      "0.12909158109813604\n",
      "Validation loss 0.12909158109813604 NOT improved\n",
      "0.12484012696406638\n",
      "Validation loss 0.12484012696406638 NOT improved\n",
      "0.13727628001257586\n",
      "Validation loss 0.13727628001257586 NOT improved\n",
      "0.1426539012584629\n",
      "Validation loss 0.1426539012584629 NOT improved\n",
      "0.13315120373682732\n",
      "Validation loss 0.13315120373682732 NOT improved\n",
      "0.1252145159218043\n",
      "Validation loss 0.1252145159218043 NOT improved\n",
      "0.13195223241408477\n",
      "Validation loss 0.13195223241408477 NOT improved\n",
      "0.10685532187810808\n",
      "Validation loss improved from 0.11919498555257195 to 0.10685532187810808\n",
      "save to: /glade/work/ksha/NCAR/Keras_models/RE0_15p_copy1\n",
      "INFO:tensorflow:Assets written to: /glade/work/ksha/NCAR/Keras_models/RE0_15p_copy1/assets\n",
      "--- 421.1431849002838 seconds ---\n"
     ]
    },
    {
     "name": "stderr",
     "output_type": "stream",
     "text": [
      "/glade/work/ksha/anaconda3/lib/python3.9/site-packages/tensorflow/python/data/ops/dataset_ops.py:3503: UserWarning: Even though the tf.config.experimental_run_functions_eagerly option is set, this option does not apply to tf.data functions. tf.data functions are still traced and executed as graphs.\n",
      "  warnings.warn(\n"
     ]
    },
    {
     "name": "stdout",
     "output_type": "stream",
     "text": [
      "0.1548265174325227\n",
      "Validation loss 0.1548265174325227 NOT improved\n",
      "86\n",
      "0.12609244076364742\n",
      "Validation loss 0.12609244076364742 NOT improved\n",
      "0.12442254555784849\n",
      "Validation loss 0.12442254555784849 NOT improved\n",
      "0.13779998812373137\n",
      "Validation loss 0.13779998812373137 NOT improved\n",
      "0.12675151436659277\n",
      "Validation loss 0.12675151436659277 NOT improved\n",
      "0.13234786673290969\n",
      "Validation loss 0.13234786673290969 NOT improved\n",
      "0.11333204897285871\n",
      "Validation loss 0.11333204897285871 NOT improved\n",
      "0.13238475923462517\n",
      "Validation loss 0.13238475923462517 NOT improved\n",
      "0.13012679482118086\n",
      "Validation loss 0.13012679482118086 NOT improved\n",
      "0.13180170977042685\n",
      "Validation loss 0.13180170977042685 NOT improved\n",
      "0.1360189809679335\n",
      "Validation loss 0.1360189809679335 NOT improved\n",
      "0.13738944640745493\n",
      "Validation loss 0.13738944640745493 NOT improved\n",
      "0.12696842804688965\n",
      "Validation loss 0.12696842804688965 NOT improved\n",
      "0.12413917916043707\n",
      "Validation loss 0.12413917916043707 NOT improved\n",
      "0.14447284814300418\n",
      "Validation loss 0.14447284814300418 NOT improved\n",
      "0.14629135229288315\n",
      "Validation loss 0.14629135229288315 NOT improved\n",
      "0.13261472101650132\n",
      "Validation loss 0.13261472101650132 NOT improved\n",
      "0.1522922301601243\n",
      "Validation loss 0.1522922301601243 NOT improved\n",
      "0.14747787041573931\n",
      "Validation loss 0.14747787041573931 NOT improved\n",
      "0.13518025517026047\n",
      "Validation loss 0.13518025517026047 NOT improved\n",
      "0.143967937816791\n",
      "Validation loss 0.143967937816791 NOT improved\n",
      "0.14077006063412997\n",
      "Validation loss 0.14077006063412997 NOT improved\n",
      "0.11992322817031958\n",
      "Validation loss 0.11992322817031958 NOT improved\n",
      "0.12870143233029258\n",
      "Validation loss 0.12870143233029258 NOT improved\n",
      "0.1261614328989053\n",
      "Validation loss 0.1261614328989053 NOT improved\n",
      "0.13030879732830558\n",
      "Validation loss 0.13030879732830558 NOT improved\n",
      "0.14940157001731594\n",
      "Validation loss 0.14940157001731594 NOT improved\n",
      "0.12739508255257534\n",
      "Validation loss 0.12739508255257534 NOT improved\n",
      "0.11699708278979276\n",
      "Validation loss 0.11699708278979276 NOT improved\n",
      "0.13384459719469538\n",
      "Validation loss 0.13384459719469538 NOT improved\n",
      "0.12259602577933096\n",
      "Validation loss 0.12259602577933096 NOT improved\n",
      "0.13961083458056026\n",
      "Validation loss 0.13961083458056026 NOT improved\n",
      "0.1474155724095506\n",
      "Validation loss 0.1474155724095506 NOT improved\n",
      "0.11114482695008136\n",
      "Validation loss 0.11114482695008136 NOT improved\n",
      "0.12415869901172466\n",
      "Validation loss 0.12415869901172466 NOT improved\n",
      "0.1500208371576568\n",
      "Validation loss 0.1500208371576568 NOT improved\n",
      "0.15197307220701003\n",
      "Validation loss 0.15197307220701003 NOT improved\n",
      "0.1410667298149463\n",
      "Validation loss 0.1410667298149463 NOT improved\n",
      "0.1338142414583057\n",
      "Validation loss 0.1338142414583057 NOT improved\n",
      "0.1439057360628743\n",
      "Validation loss 0.1439057360628743 NOT improved\n",
      "0.14522300197898574\n",
      "Validation loss 0.14522300197898574 NOT improved\n",
      "0.11292278380537812\n",
      "Validation loss 0.11292278380537812 NOT improved\n",
      "0.13405469698624833\n",
      "Validation loss 0.13405469698624833 NOT improved\n",
      "0.15641436457277216\n",
      "Validation loss 0.15641436457277216 NOT improved\n",
      "0.1428081254949122\n",
      "Validation loss 0.1428081254949122 NOT improved\n",
      "0.12924029421775587\n",
      "Validation loss 0.12924029421775587 NOT improved\n",
      "0.12991105130959427\n",
      "Validation loss 0.12991105130959427 NOT improved\n",
      "0.13123685970884516\n",
      "Validation loss 0.13123685970884516 NOT improved\n",
      "0.14784823481726467\n",
      "Validation loss 0.14784823481726467 NOT improved\n",
      "0.1353213542275975\n",
      "Validation loss 0.1353213542275975 NOT improved\n",
      "0.14179081462070914\n",
      "Validation loss 0.14179081462070914 NOT improved\n",
      "0.13465128312233354\n",
      "Validation loss 0.13465128312233354 NOT improved\n",
      "0.13490069151360254\n",
      "Validation loss 0.13490069151360254 NOT improved\n"
     ]
    }
   ],
   "source": [
    "training_rounds = 20\n",
    "\n",
    "seeds = [12342, 2536234, 98765, 473, 865, 7456, 69472, 3456357, 3425, 678,\n",
    "         2452624, 5787, 235362, 67896, 98454, 12445, 46767, 78906, 345, 8695]\n",
    "# seeds = [473, 865, 7456, 69472, 3456357, 3425, 678,\n",
    "#          2452624, 5787, 235362, 67896, 98454, 12445, 46767, 78906, 345, 8695]\n",
    "\n",
    "min_del = 0\n",
    "max_tol = 1000 # early stopping with patience\n",
    "\n",
    "epochs = 500\n",
    "batch_size = 200\n",
    "L_train = 64 #int(len(TRAIN_Y_pick) / batch_size)\n",
    "\n",
    "X_batch_64 = np.empty((batch_size, 64, 64, L_vars))\n",
    "Y_batch = np.empty((batch_size, 1))\n",
    "\n",
    "X_batch_64[...] = np.nan\n",
    "Y_batch[...] = np.nan\n",
    "\n",
    "temp_dir = '/glade/work/ksha/NCAR/Keras_models/'\n",
    "\n",
    "# =========== Model Section ========== #\n",
    "key = 'RE0_15p'\n",
    "model_name = '{}_copy1'.format(key)\n",
    "model_path = temp_dir+model_name\n",
    "\n",
    "tol = 0\n",
    "\n",
    "# ========== Training loop ========== #\n",
    "L_pos = len(filename_pos_train)\n",
    "L_neg = len(filename_neg_train)\n",
    "\n",
    "record = 0.14773765787876958 #0.021237620777840503 #0.05669766786174394 #0.08634155630837792\n",
    "print(\"Initial record: {}\".format(record))\n",
    "\n",
    "count = 0\n",
    "\n",
    "\n",
    "for r in range(training_rounds):\n",
    "    \n",
    "    tol = 0 - count - r\n",
    "    \n",
    "    #flag_count_change = True\n",
    "    \n",
    "    model = create_model(input_shape=(64, 64, 15))\n",
    "    \n",
    "    model.compile(loss=keras.losses.BinaryCrossentropy(from_logits=True), optimizer=keras.optimizers.Adam(lr=5e-5))\n",
    "    \n",
    "    W_old = k_utils.dummy_loader('/glade/work/ksha/NCAR/Keras_models/RE0_15p_copy1/')\n",
    "    model.set_weights(W_old)\n",
    "    \n",
    "    set_seeds(seeds[r+1])\n",
    "    print('Training round {}'.format(r))\n",
    "    \n",
    "    for i in range(epochs):\n",
    "    \n",
    "        #backend.set_value(model.optimizer.learning_rate, learning_rate[i])\n",
    "        \n",
    "        #print('epoch = {}'.format(i))\n",
    "        start_time = time.time()\n",
    "\n",
    "        # loop of batch\n",
    "        for j in range(L_train):\n",
    "            \n",
    "            N_pos = 20\n",
    "            N_neg = batch_size - N_pos\n",
    "            \n",
    "            ind_neg = du.shuffle_ind(L_neg)\n",
    "            ind_pos = du.shuffle_ind(L_pos)\n",
    "        \n",
    "            file_pick_neg = []\n",
    "            for ind_temp in ind_neg[:N_neg]:\n",
    "                file_pick_neg.append(filename_neg_train[ind_temp])\n",
    "\n",
    "            file_pick_pos = []\n",
    "            for ind_temp in ind_pos[:N_pos]:\n",
    "                file_pick_pos.append(filename_pos_train[ind_temp])\n",
    "        \n",
    "            file_pick = file_pick_neg + file_pick_pos\n",
    "            \n",
    "            if len(file_pick) != batch_size:\n",
    "                sregwet\n",
    "        \n",
    "            for k in range(batch_size):\n",
    "                data = np.load(file_pick[k])\n",
    "                \n",
    "                for l, c in enumerate(ind_pick_from_batch):\n",
    "                    temp = data[..., c] \n",
    "                    X_batch_64[k, ..., l] = temp\n",
    "                    \n",
    "                if 'pos' in file_pick[k]:\n",
    "                    Y_batch[k, :] = 1.0 #np.random.uniform(0.9, 0.99)\n",
    "                elif 'neg_neg_neg' in file_pick[k]:\n",
    "                    Y_batch[k, :] = 0.0 #np.random.uniform(0.01, 0.05)\n",
    "                else:\n",
    "                    werhgaer\n",
    "                    \n",
    "            ind_ = du.shuffle_ind(batch_size)\n",
    "            X_batch_64 = X_batch_64[ind_, ...]\n",
    "            Y_batch = Y_batch[ind_, :]\n",
    "            \n",
    "            # train on batch\n",
    "            model.train_on_batch(X_batch_64, Y_batch);\n",
    "            \n",
    "        # epoch end operations\n",
    "        Y_pred = model.predict([VALID_input_64])\n",
    "        # Y_pred[Y_pred<0] = 0\n",
    "        # Y_pred[Y_pred>1] = 1\n",
    "        \n",
    "        Y_pred = 1/(1 + np.exp(-Y_pred))\n",
    "        \n",
    "        record_temp = verif_metric(VALID_target, Y_pred)\n",
    "\n",
    "        # if i % 10 == 0:\n",
    "        #     model.save(model_path_backup)\n",
    "\n",
    "        if (record - record_temp > min_del) and np.max(Y_pred)>0.6:\n",
    "            print('Validation loss improved from {} to {}'.format(record, record_temp))\n",
    "            record = record_temp\n",
    "            tol = 0\n",
    "            #print('tol: {}'.format(tol))\n",
    "            # save\n",
    "            print('save to: {}'.format(model_path))\n",
    "            model.save(model_path)\n",
    "        else:\n",
    "            print('Validation loss {} NOT improved'.format(record_temp))\n",
    "            if record_temp >= 2.0:\n",
    "                print('Early stopping')\n",
    "                break;\n",
    "            else:\n",
    "                tol += 1\n",
    "                if tol >= max_tol:\n",
    "                    print('Early stopping')\n",
    "                    break;\n",
    "                else:\n",
    "                    if tol == 1 and i > count:\n",
    "                        #flag_count_change = False\n",
    "                        count = i\n",
    "                        print(count)\n",
    "                    continue;\n",
    "        print(\"--- %s seconds ---\" % (time.time() - start_time))"
   ]
  },
  {
   "cell_type": "code",
   "execution_count": null,
   "id": "52686838-4fa0-45c5-955b-b1f45118b02a",
   "metadata": {},
   "outputs": [],
   "source": []
  },
  {
   "cell_type": "code",
   "execution_count": null,
   "id": "ded166cb-a93a-4743-a4f0-3e31e07a19bd",
   "metadata": {},
   "outputs": [],
   "source": []
  },
  {
   "cell_type": "code",
   "execution_count": 16,
   "id": "7548532a-5e85-4a80-a44b-69f8a3b7e717",
   "metadata": {},
   "outputs": [],
   "source": [
    "filename_test = filename_neg_test[::200] + filename_pos_test"
   ]
  },
  {
   "cell_type": "code",
   "execution_count": 17,
   "id": "e7b19a72-6e15-4a0c-9867-d22b0ec5ed72",
   "metadata": {},
   "outputs": [],
   "source": [
    "L_test = len(filename_test)\n",
    "L_var = L_vars\n",
    "\n",
    "TEST_input_64 = np.empty((L_test, 64, 64, L_var))\n",
    "TEST_target = np.ones(L_test)\n",
    "\n",
    "for i, name in enumerate(filename_test):\n",
    "    data = np.load(name)\n",
    "    for k, c in enumerate(ind_pick_from_batch):\n",
    "        \n",
    "        TEST_input_64[i, ..., k] = data[..., c]\n",
    "\n",
    "        if 'pos' in name:\n",
    "            TEST_target[i] = 1.0\n",
    "        else:\n",
    "            TEST_target[i] = 0.0"
   ]
  },
  {
   "cell_type": "code",
   "execution_count": null,
   "id": "ea68f36d-f11a-4656-be9d-7f5334396a37",
   "metadata": {},
   "outputs": [],
   "source": []
  },
  {
   "cell_type": "code",
   "execution_count": null,
   "id": "331b67cd-c4dc-4fb3-80dd-57cc8d9d3253",
   "metadata": {},
   "outputs": [],
   "source": []
  },
  {
   "cell_type": "code",
   "execution_count": null,
   "id": "fe7bea1f-ad74-48a8-96e0-584628e4bf5c",
   "metadata": {},
   "outputs": [],
   "source": []
  },
  {
   "cell_type": "code",
   "execution_count": 19,
   "id": "a3b3eeba-7c15-48ae-8962-f80c279fa005",
   "metadata": {},
   "outputs": [],
   "source": [
    "model = create_model(input_shape=(64, 64, 15))\n",
    "\n",
    "model.compile(loss=keras.losses.BinaryCrossentropy(from_logits=True), optimizer=keras.optimizers.Adam(lr=0))\n",
    "\n",
    "W_old = k_utils.dummy_loader('/glade/work/ksha/NCAR/Keras_models/RE0_15p_base_copy1/')\n",
    "#W_old = k_utils.dummy_loader('/glade/work/ksha/NCAR/Keras_models/FAKE_Lead6_tune3')\n",
    "model.set_weights(W_old)"
   ]
  },
  {
   "cell_type": "code",
   "execution_count": 20,
   "id": "79771c7a-eab9-4690-8266-a4a29e2426b7",
   "metadata": {},
   "outputs": [
    {
     "name": "stdout",
     "output_type": "stream",
     "text": [
      "0.3594504397546701\n"
     ]
    }
   ],
   "source": [
    "Y_pred = model.predict([VALID_input_64])\n",
    "# Y_pred[Y_pred<0] = 0\n",
    "# Y_pred[Y_pred>1] = 1\n",
    "\n",
    "Y_pred = 1/(1 + np.exp(-Y_pred))\n",
    "\n",
    "record_temp = verif_metric(VALID_target, Y_pred)"
   ]
  },
  {
   "cell_type": "code",
   "execution_count": 21,
   "id": "a9cb00fc-beae-46fd-a6ac-938396022c77",
   "metadata": {},
   "outputs": [
    {
     "data": {
      "text/plain": [
       "[<matplotlib.lines.Line2D at 0x2b910da16cd0>]"
      ]
     },
     "execution_count": 21,
     "metadata": {},
     "output_type": "execute_result"
    },
    {
     "data": {
      "image/png": "[encoded data removed]",
      "text/plain": [
       "<Figure size 640x480 with 1 Axes>"
      ]
     },
     "metadata": {},
     "output_type": "display_data"
    }
   ],
   "source": [
    "plt.plot(Y_pred)\n",
    "plt.plot(VALID_target)"
   ]
  },
  {
   "cell_type": "code",
   "execution_count": 25,
   "id": "4341caf2-d38d-4dc5-ba31-abd4a8cd597b",
   "metadata": {},
   "outputs": [
    {
     "data": {
      "text/plain": [
       "[<matplotlib.lines.Line2D at 0x2baa790138e0>]"
      ]
     },
     "execution_count": 25,
     "metadata": {},
     "output_type": "execute_result"
    },
    {
     "data": {
      "image/png": "[encoded data removed]",
      "text/plain": [
       "<Figure size 640x480 with 1 Axes>"
      ]
     },
     "metadata": {},
     "output_type": "display_data"
    }
   ],
   "source": [
    "plt.plot(Y_pred[2000:2200])"
   ]
  },
  {
   "cell_type": "code",
   "execution_count": 36,
   "id": "97a05bec-8b9f-4af5-8f54-d31b6bf7fc8f",
   "metadata": {},
   "outputs": [
    {
     "data": {
      "text/plain": [
       "[<matplotlib.lines.Line2D at 0x2ae9d9122ac0>]"
      ]
     },
     "execution_count": 36,
     "metadata": {},
     "output_type": "execute_result"
    },
    {
     "data": {
      "image/png": "[encoded data removed]",
      "text/plain": [
       "<Figure size 640x480 with 1 Axes>"
      ]
     },
     "metadata": {},
     "output_type": "display_data"
    }
   ],
   "source": [
    "plt.plot(Y_pred[-200:])"
   ]
  },
  {
   "cell_type": "code",
   "execution_count": 71,
   "id": "0b94b56d-5424-46e4-aa8b-f8f18789bfae",
   "metadata": {},
   "outputs": [
    {
     "data": {
      "text/plain": [
       "[<matplotlib.lines.Line2D at 0x2aaea6cac130>]"
      ]
     },
     "execution_count": 71,
     "metadata": {},
     "output_type": "execute_result"
    },
    {
     "data": {
      "image/png": "[encoded data removed]",
      "text/plain": [
       "<Figure size 640x480 with 1 Axes>"
      ]
     },
     "metadata": {},
     "output_type": "display_data"
    }
   ],
   "source": [
    "plt.plot(Y_pred[-100:])"
   ]
  },
  {
   "cell_type": "code",
   "execution_count": 31,
   "id": "bf65b780-2875-46fa-8709-dc62910e3e96",
   "metadata": {},
   "outputs": [
    {
     "name": "stdout",
     "output_type": "stream",
     "text": [
      "0.10501852837890428\n"
     ]
    }
   ],
   "source": [
    "Y_pred = model.predict([TESTv4_input_64])\n",
    "# Y_pred[Y_pred<0] = 0\n",
    "# Y_pred[Y_pred>1] = 1\n",
    "\n",
    "Y_pred = 1/(1 + np.exp(-Y_pred))\n",
    "\n",
    "record_temp = verif_metric(TESTv4_target, Y_pred)"
   ]
  },
  {
   "cell_type": "code",
   "execution_count": 32,
   "id": "a2193127-534f-4245-afcb-6d76a172477b",
   "metadata": {},
   "outputs": [
    {
     "data": {
      "text/plain": [
       "0.10501852837890428"
      ]
     },
     "execution_count": 32,
     "metadata": {},
     "output_type": "execute_result"
    }
   ],
   "source": [
    "record_temp"
   ]
  },
  {
   "cell_type": "code",
   "execution_count": null,
   "id": "79f0b76d-ace4-409e-a0a8-7867a8c096d3",
   "metadata": {},
   "outputs": [],
   "source": []
  },
  {
   "cell_type": "code",
   "execution_count": null,
   "id": "c4304dff-457b-405d-8bb0-1ea6da5cb195",
   "metadata": {},
   "outputs": [],
   "source": []
  }
 ],
 "metadata": {
  "kernelspec": {
   "display_name": "Python 3 (ipykernel)",
   "language": "python",
   "name": "python3"
  },
  "language_info": {
   "codemirror_mode": {
    "name": "ipython",
    "version": 3
   },
   "file_extension": ".py",
   "mimetype": "text/x-python",
   "name": "python",
   "nbconvert_exporter": "python",
   "pygments_lexer": "ipython3",
   "version": "3.9.15"
  }
 },
 "nbformat": 4,
 "nbformat_minor": 5
}
