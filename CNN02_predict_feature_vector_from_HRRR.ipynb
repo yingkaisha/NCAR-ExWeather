{
 "cells": [
  {
   "cell_type": "code",
   "execution_count": 1,
   "id": "abe6fc64",
   "metadata": {},
   "outputs": [
    {
     "ename": "ModuleNotFoundError",
     "evalue": "No module named 'pygrib'",
     "output_type": "error",
     "traceback": [
      "\u001b[1;31m---------------------------------------------------------------------------\u001b[0m",
      "\u001b[1;31mModuleNotFoundError\u001b[0m                       Traceback (most recent call last)",
      "\u001b[1;32m~\\AppData\\Local\\Temp\\ipykernel_15420\\572839350.py\u001b[0m in \u001b[0;36m<module>\u001b[1;34m\u001b[0m\n\u001b[0;32m      4\u001b[0m \u001b[1;32mimport\u001b[0m \u001b[0mtime\u001b[0m\u001b[1;33m\u001b[0m\u001b[1;33m\u001b[0m\u001b[0m\n\u001b[0;32m      5\u001b[0m \u001b[1;32mimport\u001b[0m \u001b[0mh5py\u001b[0m\u001b[1;33m\u001b[0m\u001b[1;33m\u001b[0m\u001b[0m\n\u001b[1;32m----> 6\u001b[1;33m \u001b[1;32mimport\u001b[0m \u001b[0mpygrib\u001b[0m\u001b[1;33m\u001b[0m\u001b[1;33m\u001b[0m\u001b[0m\n\u001b[0m\u001b[0;32m      7\u001b[0m \u001b[1;32mimport\u001b[0m \u001b[0mnumpy\u001b[0m \u001b[1;32mas\u001b[0m \u001b[0mnp\u001b[0m\u001b[1;33m\u001b[0m\u001b[1;33m\u001b[0m\u001b[0m\n\u001b[0;32m      8\u001b[0m \u001b[1;32mfrom\u001b[0m \u001b[0mscipy\u001b[0m\u001b[1;33m.\u001b[0m\u001b[0mspatial\u001b[0m \u001b[1;32mimport\u001b[0m \u001b[0mcKDTree\u001b[0m\u001b[1;33m\u001b[0m\u001b[1;33m\u001b[0m\u001b[0m\n",
      "\u001b[1;31mModuleNotFoundError\u001b[0m: No module named 'pygrib'"
     ]
    }
   ],
   "source": [
    "import sys\n",
    "from glob import glob\n",
    "\n",
    "import time\n",
    "import h5py\n",
    "import pygrib\n",
    "import numpy as np\n",
    "from scipy.spatial import cKDTree\n",
    "from datetime import datetime, timedelta\n",
    "\n",
    "sys.path.insert(0, '/glade/u/home/ksha/OPT_NCAR/')\n",
    "sys.path.insert(0, '/glade/u/home/ksha/OPT_NCAR/libs/')\n",
    "\n",
    "from namelist import *\n",
    "import data_utils as du\n",
    "import model_utils as mu"
   ]
  },
  {
   "cell_type": "code",
   "execution_count": null,
   "id": "1e9fddfc",
   "metadata": {},
   "outputs": [],
   "source": [
    "# ===================================== #\n",
    "date_temp = datetime(2021, 1, 1, 0, 0)\n",
    "# ===================================== #"
   ]
  },
  {
   "cell_type": "code",
   "execution_count": null,
   "id": "e620fb15",
   "metadata": {},
   "outputs": [],
   "source": [
    "leads = [2,]"
   ]
  },
  {
   "cell_type": "code",
   "execution_count": null,
   "id": "99a69eb7",
   "metadata": {},
   "outputs": [],
   "source": [
    "N_lead = len(leads)\n",
    "N_var = len(var_names)\n",
    "half_margin = int(input_size/2)"
   ]
  },
  {
   "cell_type": "code",
   "execution_count": null,
   "id": "e0ab08d5",
   "metadata": {},
   "outputs": [],
   "source": [
    "with h5py.File(save_dir+'HRRRv4_STATS.hdf', 'r') as h5io:\n",
    "    mean_stats = h5io['mean_stats'][...]\n",
    "    std_stats = h5io['std_stats'][...]\n",
    "    max_stats = h5io['max_stats'][...]"
   ]
  },
  {
   "cell_type": "code",
   "execution_count": null,
   "id": "02137867",
   "metadata": {},
   "outputs": [],
   "source": [
    "with h5py.File(save_dir+'HRRR_domain.hdf', 'r') as h5io:\n",
    "    lon_3km = h5io['lon_3km'][...]\n",
    "    lat_3km = h5io['lat_3km'][...]\n",
    "    lon_80km = h5io['lon_80km'][...]\n",
    "    lat_80km = h5io['lat_80km'][...]\n",
    "    land_mask_80km = h5io['land_mask_80km'][...]"
   ]
  },
  {
   "cell_type": "code",
   "execution_count": null,
   "id": "012b40d8",
   "metadata": {},
   "outputs": [],
   "source": [
    "lon_80km_mask = lon_80km[land_mask_80km]\n",
    "lat_80km_mask = lat_80km[land_mask_80km]\n",
    "\n",
    "lon_minmax = [np.min(lon_80km_mask), np.max(lon_80km_mask)]\n",
    "lat_minmax = [np.min(lat_80km_mask), np.max(lat_80km_mask)]"
   ]
  },
  {
   "cell_type": "code",
   "execution_count": null,
   "id": "9a966f1b",
   "metadata": {},
   "outputs": [],
   "source": [
    "shape_80km = lon_80km.shape\n",
    "shape_3km = lon_3km.shape\n",
    "\n",
    "indx_array = np.empty(shape_80km)\n",
    "indy_array = np.empty(shape_80km)\n",
    "\n",
    "gridTree = cKDTree(list(zip(lon_3km.ravel(), lat_3km.ravel()))) #KDTree_wraper(xgrid, ygrid)\n",
    "\n",
    "for xi in range(shape_80km[0]):\n",
    "    for yi in range(shape_80km[1]):\n",
    "        \n",
    "        temp_lon = lon_80km[xi, yi]\n",
    "        temp_lat = lat_80km[xi, yi]\n",
    "        \n",
    "        dist, indexes = gridTree.query(list(zip(np.array(temp_lon)[None], np.array(temp_lat)[None])))\n",
    "        indx_3km, indy_3km = np.unravel_index(indexes, shape_3km)\n",
    "        \n",
    "        indx_array[xi, yi] = indx_3km[0]\n",
    "        indy_array[xi, yi] = indy_3km[0]"
   ]
  },
  {
   "cell_type": "code",
   "execution_count": null,
   "id": "d8c91ddd",
   "metadata": {},
   "outputs": [],
   "source": [
    "# Crerate model\n",
    "model = mu.create_model(input_shape=(input_size, input_size, N_var))\n",
    "\n",
    "# get current weights\n",
    "W_new = model.get_weights()\n",
    "\n",
    "# get stored weights\n",
    "print('Loading weights from {}'.format(model_name))\n",
    "W_old = mu.dummy_loader(model_name)\n",
    "\n",
    "# update stored weights to new weights\n",
    "for i in range(len(W_new)):\n",
    "    if W_new[i].shape == W_old[i].shape:\n",
    "        W_new[i] = W_old[i]\n",
    "\n",
    "# dump new weights to the model\n",
    "model.set_weights(W_new)\n",
    "print('... done')\n",
    "# compile just in case\n",
    "#model.compile(loss=keras.losses.mean_absolute_error, optimizer=keras.optimizers.SGD(lr=0))"
   ]
  },
  {
   "cell_type": "code",
   "execution_count": null,
   "id": "2c932e35",
   "metadata": {},
   "outputs": [],
   "source": [
    "VARs = np.empty(shape_3km+(N_var,))\n",
    "VARs[...] = np.nan\n",
    "\n",
    "FEATURE_VEC = np.empty(shape_80km+(N_lead, L_vec))\n",
    "FEATURE_VEC[...] = np.nan\n",
    "\n",
    "input_frame = np.empty((1, input_size, input_size, N_var))\n",
    "input_frame[...] = np.nan\n",
    "\n",
    "PROB = np.empty(shape_80km+(N_lead,))\n",
    "PROB[...] = np.nan\n",
    "\n",
    "print(\"Converting HRRR 3-km field into feature vectors\")\n",
    "\n",
    "for l in range(N_lead):\n",
    "    lead = leads[l]\n",
    "    print('Pre-rpocessing {}-hr forecasts ...'.format(lead))\n",
    "    start_time = time.time()\n",
    "    \n",
    "    filename_grib = (datetime.strftime(date_temp, HRRR_dir+HRRR_name)).format(lead, lead)\n",
    "\n",
    "    var_names_temp = []\n",
    "    with pygrib.open(filename_grib) as grbio:\n",
    "        for i, ind in enumerate(HRRRv4_inds):\n",
    "            var_names_temp.append(str(grbio[ind])[:35])\n",
    "\n",
    "    flag_qc = var_names == var_names_temp\n",
    "    print(\"HRRR quality control flag = {}\".format(flag_qc))\n",
    "    \n",
    "    with pygrib.open(filename_grib) as grbio:\n",
    "        for i, ind in enumerate(HRRRv4_inds):\n",
    "            VARs[..., i] = grbio[ind].values\n",
    "        \n",
    "    for ix in range(shape_80km[0]):\n",
    "        for iy in range(shape_80km[1]):\n",
    "            \n",
    "            # land grid cells only\n",
    "            if land_mask_80km[ix, iy]:\n",
    "\n",
    "                indx = int(indx_array[ix, iy])\n",
    "                indy = int(indy_array[ix, iy])\n",
    "\n",
    "                x_edge_left = indx - half_margin\n",
    "                x_edge_right = indx + half_margin\n",
    "\n",
    "                y_edge_bottom = indy - half_margin\n",
    "                y_edge_top = indy + half_margin\n",
    "\n",
    "                if x_edge_left >= 0 and y_edge_bottom >= 0 and x_edge_right < shape_3km[0] and y_edge_top < shape_3km[1]:\n",
    "\n",
    "                    hrrr_temp = VARs[x_edge_left:x_edge_right, y_edge_bottom:y_edge_top, :]\n",
    "\n",
    "                    for n in range(N_var):\n",
    "\n",
    "                        means = mean_stats[ix, iy, n, l]\n",
    "                        stds = std_stats[ix, iy, n, l]\n",
    "                        max_vals = max_stats[ix, iy, n, l]\n",
    "\n",
    "                        temp = hrrr_temp[..., n]\n",
    "\n",
    "                        # (n==0) Radar reflectivity, correct negative to 0\n",
    "                        if n == 0:\n",
    "                            temp[temp<0] = 0\n",
    "\n",
    "                        # (n==10) CIN, preserve negative vals only, and convert them to positive \n",
    "                        if n == 10:\n",
    "                            temp = -1*temp\n",
    "                            temp[temp<0] = 0\n",
    "\n",
    "                        # variables that will be normalizaed with log transformation\n",
    "                        if log_norm[n]:\n",
    "                            temp = np.log(np.abs(temp)+1)\n",
    "                            # for CIN and SRH, x3 the value\n",
    "                            if n < 9:\n",
    "                                temp = temp/stds/max_vals\n",
    "                            else:\n",
    "                                temp = 3.0*temp/stds/max_vals\n",
    "\n",
    "                        else:\n",
    "                            temp = (temp - means)/stds\n",
    "\n",
    "                        input_frame[..., n] = temp\n",
    "\n",
    "                    # CNN feature vectors\n",
    "\n",
    "                    temp_vec = model.predict([input_frame])\n",
    "                    FEATURE_VEC[ix, iy, l, :] = temp_vec[0, :]\n",
    "                \n",
    "    print(\"--- %s seconds ---\" % (time.time() - start_time))\n",
    "    print('...done')"
   ]
  },
  {
   "cell_type": "code",
   "execution_count": null,
   "id": "cdf7bb9e",
   "metadata": {},
   "outputs": [],
   "source": []
  },
  {
   "cell_type": "code",
   "execution_count": null,
   "id": "05bc99eb",
   "metadata": {},
   "outputs": [],
   "source": [
    "# base_v3_s = datetime(2018, 7, 15)\n",
    "# base_v3_e = datetime(2020, 12, 2)\n",
    "\n",
    "# base_v4_s = datetime(2020, 12, 3)\n",
    "# base_v4_e = datetime(2022, 7, 15)\n",
    "\n",
    "# base_ref = datetime(2010, 1, 1)\n",
    "\n",
    "# date_list_v3 = [base_v3_s + timedelta(days=day) for day in range(365+365+142)]\n",
    "# date_list_v4 = [base_v4_s + timedelta(days=day) for day in range(365+180-151)]"
   ]
  },
  {
   "cell_type": "code",
   "execution_count": null,
   "id": "7432109b",
   "metadata": {},
   "outputs": [],
   "source": []
  },
  {
   "cell_type": "code",
   "execution_count": null,
   "id": "6297e6c6",
   "metadata": {},
   "outputs": [],
   "source": []
  },
  {
   "cell_type": "code",
   "execution_count": null,
   "id": "8deedc30",
   "metadata": {},
   "outputs": [],
   "source": []
  },
  {
   "cell_type": "code",
   "execution_count": null,
   "id": "85bf1a94",
   "metadata": {},
   "outputs": [],
   "source": []
  },
  {
   "cell_type": "code",
   "execution_count": null,
   "id": "9eecb4c7",
   "metadata": {},
   "outputs": [],
   "source": []
  }
 ],
 "metadata": {
  "kernelspec": {
   "display_name": "Python 3 (ipykernel)",
   "language": "python",
   "name": "python3"
  },
  "language_info": {
   "codemirror_mode": {
    "name": "ipython",
    "version": 3
   },
   "file_extension": ".py",
   "mimetype": "text/x-python",
   "name": "python",
   "nbconvert_exporter": "python",
   "pygments_lexer": "ipython3",
   "version": "3.9.13"
  }
 },
 "nbformat": 4,
 "nbformat_minor": 5
}
