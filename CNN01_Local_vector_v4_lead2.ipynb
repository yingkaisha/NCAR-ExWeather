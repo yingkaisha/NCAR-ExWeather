{
 "cells": [
  {
   "cell_type": "code",
   "execution_count": 1,
   "id": "27a0a927-ec50-44a0-b82c-26848002e35e",
   "metadata": {},
   "outputs": [],
   "source": [
    "# general tools\n",
    "import os\n",
    "import sys\n",
    "import time\n",
    "import h5py\n",
    "import random\n",
    "import netCDF4 as nc\n",
    "from glob import glob\n",
    "\n",
    "import numpy as np\n",
    "from datetime import datetime, timedelta\n",
    "from random import shuffle"
   ]
  },
  {
   "cell_type": "code",
   "execution_count": 2,
   "id": "20a24190-0ecb-4c87-ba41-0b1ec72becf3",
   "metadata": {},
   "outputs": [
    {
     "name": "stderr",
     "output_type": "stream",
     "text": [
      "2023-02-15 12:42:24.817432: I tensorflow/stream_executor/platform/default/dso_loader.cc:49] Successfully opened dynamic library libcudart.so.10.1\n"
     ]
    }
   ],
   "source": [
    "import tensorflow as tf\n",
    "from tensorflow import keras\n",
    "from tensorflow.keras import backend\n",
    "from keras_unet_collection import utils as k_utils"
   ]
  },
  {
   "cell_type": "code",
   "execution_count": 3,
   "id": "ed60309c-e19e-4869-ae18-694ad645527f",
   "metadata": {},
   "outputs": [],
   "source": [
    "sys.path.insert(0, '/glade/u/home/ksha/NCAR/')\n",
    "sys.path.insert(0, '/glade/u/home/ksha/NCAR/libs/')\n",
    "\n",
    "from namelist import *\n",
    "import data_utils as du"
   ]
  },
  {
   "cell_type": "code",
   "execution_count": 4,
   "id": "57dc768a-1ab3-4fc2-912e-3fe1d6f6ef26",
   "metadata": {},
   "outputs": [],
   "source": [
    "import re"
   ]
  },
  {
   "cell_type": "code",
   "execution_count": 5,
   "id": "db2a25df-e774-4c84-8270-9b7f62d51e02",
   "metadata": {},
   "outputs": [],
   "source": [
    "import matplotlib.pyplot as plt\n",
    "%matplotlib inline"
   ]
  },
  {
   "cell_type": "code",
   "execution_count": null,
   "id": "3cc3af42-f1fd-4d09-938f-b5657472ec64",
   "metadata": {},
   "outputs": [],
   "source": []
  },
  {
   "cell_type": "code",
   "execution_count": 6,
   "id": "6837e699-714b-4b55-98fc-b6b0a61765c9",
   "metadata": {},
   "outputs": [],
   "source": [
    "base_v3_s = datetime(2018, 7, 15)\n",
    "base_v3_e = datetime(2020, 12, 2)\n",
    "\n",
    "base_v4_s = datetime(2020, 12, 3)\n",
    "base_v4_e = datetime(2022, 7, 15)\n",
    "\n",
    "base_ref = datetime(2010, 1, 1)\n",
    "\n",
    "date_list_v3 = [base_v3_s + timedelta(days=day) for day in range(365+365+142)]\n",
    "date_list_v4 = [base_v4_s + timedelta(days=day) for day in range(365+365+30)]"
   ]
  },
  {
   "cell_type": "code",
   "execution_count": 7,
   "id": "c990a7d3-da80-4e44-ac72-17b39d3ba477",
   "metadata": {},
   "outputs": [
    {
     "data": {
      "text/plain": [
       "datetime.datetime(2020, 12, 31, 0, 0)"
      ]
     },
     "execution_count": 7,
     "metadata": {},
     "output_type": "execute_result"
    }
   ],
   "source": [
    "date_list_v4[28]"
   ]
  },
  {
   "cell_type": "code",
   "execution_count": 8,
   "id": "5b090ba6-a5fc-4207-b7d3-c00fa1856a52",
   "metadata": {},
   "outputs": [],
   "source": [
    "def pos_mixer(TRAIN, L, a0=0, a1=0.2):\n",
    "    data_shape = TRAIN.shape\n",
    "    out = np.empty((L, data_shape[-1]))\n",
    "    \n",
    "    for i in range(L):\n",
    "        inds = np.random.choice(data_shape[0], 2)\n",
    "        a = np.random.uniform(a0, a1)\n",
    "        out[i, :] = a*TRAIN[inds[0], :] + (1-a)*TRAIN[inds[1], :]\n",
    "    return out"
   ]
  },
  {
   "cell_type": "code",
   "execution_count": 9,
   "id": "b23b86cf-3500-471a-bdfe-bad8433bbddd",
   "metadata": {},
   "outputs": [],
   "source": [
    "def set_seeds(seed):\n",
    "    os.environ['PYTHONHASHSEED'] = str(seed)\n",
    "    random.seed(seed)\n",
    "    tf.random.set_seed(seed)\n",
    "    np.random.seed(seed)"
   ]
  },
  {
   "cell_type": "code",
   "execution_count": 10,
   "id": "3bc32d24-a9ce-486a-9da6-fa401ca03cdd",
   "metadata": {},
   "outputs": [],
   "source": [
    "def verif_metric(VALID_target, Y_pred, ref):\n",
    "\n",
    "\n",
    "    # fpr, tpr, thresholds = roc_curve(VALID_target.ravel(), Y_pred.ravel())\n",
    "    # AUC = auc(fpr, tpr)\n",
    "    # AUC_metric = 1 - AUC\n",
    "    \n",
    "    BS = np.mean((VALID_target.ravel() - Y_pred.ravel())**2)\n",
    "    #ll = log_loss(VALID_target.ravel(), Y_pred.ravel())\n",
    "    \n",
    "    #print('{}'.format(BS))\n",
    "    metric = BS\n",
    "\n",
    "    return metric / ref"
   ]
  },
  {
   "cell_type": "code",
   "execution_count": 11,
   "id": "912aef91-0827-49ae-95d4-28d4f8bfb3cf",
   "metadata": {},
   "outputs": [],
   "source": [
    "# def set_seeds(seed):\n",
    "#     os.environ['PYTHONHASHSEED'] = str(seed)\n",
    "#     random.seed(seed)\n",
    "#     tf.random.set_seed(seed)\n",
    "#     np.random.seed(seed)"
   ]
  },
  {
   "cell_type": "code",
   "execution_count": 12,
   "id": "47bbe697-79dc-4c49-a499-474a478441fb",
   "metadata": {},
   "outputs": [],
   "source": [
    "def feature_extract(filenames, lon_80km, lon_minmax, lat_80km, lat_minmax, elev_80km, elev_max, climo):\n",
    "    \n",
    "    lon_out = []\n",
    "    lat_out = []\n",
    "    elev_out = []\n",
    "    mon_out = []\n",
    "    climo_out = []\n",
    "    \n",
    "    base_v3_s = datetime(2018, 7, 15)\n",
    "    base_v3_e = datetime(2020, 12, 2)\n",
    "\n",
    "    base_v4_s = datetime(2020, 12, 3)\n",
    "    base_v4_e = datetime(2022, 7, 15)\n",
    "\n",
    "    base_ref = datetime(2010, 1, 1)\n",
    "    \n",
    "    date_list_v3 = [base_v3_s + timedelta(days=day) for day in range(365+365+142)]\n",
    "    date_list_v4 = [base_v4_s + timedelta(days=day) for day in range(365+180-151)]\n",
    "    \n",
    "    for i, name in enumerate(filenames):\n",
    "        \n",
    "        if 'v4' in name:\n",
    "            date_list = date_list_v4\n",
    "        else:\n",
    "            date_list = date_list_v3\n",
    "        \n",
    "        nums = re.findall(r'\\d+', name)\n",
    "        lead = int(nums[-1])\n",
    "        indy = int(nums[-2])\n",
    "        indx = int(nums[-3])\n",
    "        day = int(nums[-4])\n",
    "        day = date_list[day]\n",
    "        day_index = day.day-1\n",
    "        \n",
    "        climo_out.append(climo[day_index, lead, indx, indy])\n",
    "        \n",
    "        lon = lon_80km[indx, indy]\n",
    "        lat = lat_80km[indx, indy]\n",
    "\n",
    "        lon = (lon - lon_minmax[0])/(lon_minmax[1] - lon_minmax[0])\n",
    "        lat = (lat - lat_minmax[0])/(lat_minmax[1] - lat_minmax[0])\n",
    "\n",
    "        elev = elev_80km[indx, indy]\n",
    "        elev = elev / elev_max\n",
    "        \n",
    "        lon_out.append(lon)\n",
    "        lat_out.append(lat)\n",
    "        elev_out.append(elev)\n",
    "\n",
    "        \n",
    "    return np.array(lon_out), np.array(lat_out), np.array(elev_out), np.array(climo_out)\n"
   ]
  },
  {
   "cell_type": "code",
   "execution_count": 13,
   "id": "5b1c36e5-4aee-49f2-b8b0-261600e25e00",
   "metadata": {},
   "outputs": [],
   "source": [
    "with h5py.File(save_dir+'HRRR_domain.hdf', 'r') as h5io:\n",
    "    lon_3km = h5io['lon_3km'][...]\n",
    "    lat_3km = h5io['lat_3km'][...]\n",
    "    lon_80km = h5io['lon_80km'][...]\n",
    "    lat_80km = h5io['lat_80km'][...]\n",
    "    elev_3km = h5io['elev_3km'][...]\n",
    "    land_mask_80km = h5io['land_mask_80km'][...]\n",
    "    \n",
    "grid_shape = land_mask_80km.shape"
   ]
  },
  {
   "cell_type": "code",
   "execution_count": 14,
   "id": "528e2e04-fffe-4f1c-a162-482f3c3983f4",
   "metadata": {},
   "outputs": [],
   "source": [
    "elev_80km = du.interp2d_wraper(lon_3km, lat_3km, elev_3km, lon_80km, lat_80km, method='linear')\n",
    "\n",
    "elev_80km[np.isnan(elev_80km)] = 0\n",
    "elev_80km[elev_80km<0] = 0\n",
    "elev_max = np.max(elev_80km)\n",
    "\n",
    "lon_80km_mask = lon_80km[land_mask_80km]\n",
    "lat_80km_mask = lat_80km[land_mask_80km]\n",
    "\n",
    "lon_minmax = [np.min(lon_80km_mask), np.max(lon_80km_mask)]\n",
    "lat_minmax = [np.min(lat_80km_mask), np.max(lat_80km_mask)]"
   ]
  },
  {
   "cell_type": "code",
   "execution_count": null,
   "id": "0707742a-b973-483d-9d60-95a8ef87c7ab",
   "metadata": {},
   "outputs": [],
   "source": []
  },
  {
   "cell_type": "code",
   "execution_count": 15,
   "id": "7cb0cd3b-a1da-46d8-918c-2fb336cb93ef",
   "metadata": {},
   "outputs": [],
   "source": [
    "# lead1 = 2\n",
    "# lead2 = 3\n",
    "# lead3 = 4\n",
    "# lead4 = 5\n",
    "\n",
    "# lead_name = 4\n",
    "# model_tag = 'peak'#'re'"
   ]
  },
  {
   "cell_type": "code",
   "execution_count": 44,
   "id": "12ab1686-0529-42f2-9596-1108d22aa53a",
   "metadata": {},
   "outputs": [],
   "source": [
    "lead1 = 4\n",
    "lead2 = 5\n",
    "\n",
    "lead_name = 4\n",
    "model_tag = 'peak'#'re'"
   ]
  },
  {
   "cell_type": "code",
   "execution_count": 45,
   "id": "28c6aec5-4f1e-4a53-9a80-366ec8463aed",
   "metadata": {},
   "outputs": [],
   "source": [
    "filepath_vec = \"/glade/work/ksha/NCAR/\"\n",
    "\n",
    "if (lead1 < 9) or (lead1 > 18):\n",
    "    path_name1_v3 = '/glade/scratch/ksha/DATA/NCAR_batch_v3/'\n",
    "else:\n",
    "    path_name1_v3 = '/glade/campaign/cisl/aiml/ksha/NCAR_batch_v3/'\n",
    "\n",
    "if (lead2 < 9) or (lead2 > 18):\n",
    "    path_name2_v3 = '/glade/scratch/ksha/DATA/NCAR_batch_v3/'\n",
    "else:\n",
    "    path_name2_v3 = '/glade/campaign/cisl/aiml/ksha/NCAR_batch_v3/'\n",
    "\n",
    "path_name1_v4 = '/glade/campaign/cisl/aiml/ksha/NCAR_batch_v4x/'\n",
    "path_name2_v4 = '/glade/campaign/cisl/aiml/ksha/NCAR_batch_v4x/'\n",
    "\n",
    "path_name1_v4_test = '/glade/campaign/cisl/aiml/ksha/NCAR_batch_v4_temp/'\n",
    "path_name2_v4_test = '/glade/campaign/cisl/aiml/ksha/NCAR_batch_v4_temp/'"
   ]
  },
  {
   "cell_type": "code",
   "execution_count": 46,
   "id": "e593234c-ee7f-42fc-9384-5f8239efdd44",
   "metadata": {},
   "outputs": [],
   "source": [
    "filename_train_lead1_v3 = sorted(glob(\"{}TRAIN*lead{}.npy\".format(path_name1_v3, lead1)))\n",
    "filename_train_lead2_v3 = sorted(glob(\"{}TRAIN*lead{}.npy\".format(path_name2_v3, lead2)))\n",
    "\n",
    "# filename_train_lead1_v4 = sorted(glob(\"{}TRAIN*lead{}.npy\".format(path_name1_v4, lead1)))\n",
    "# filename_train_lead2_v4 = sorted(glob(\"{}TRAIN*lead{}.npy\".format(path_name2_v4, lead2)))"
   ]
  },
  {
   "cell_type": "code",
   "execution_count": 47,
   "id": "ead68ed4-b9aa-4068-87c0-d897c4f2841d",
   "metadata": {},
   "outputs": [],
   "source": [
    "IND_TRAIN_lead = np.load('/glade/work/ksha/NCAR/IND_TRAIN_lead_full.npy', allow_pickle=True)[()]\n",
    "TRAIN_ind1_v3 = IND_TRAIN_lead['lead{}'.format(lead1)]\n",
    "TRAIN_ind2_v3 = IND_TRAIN_lead['lead{}'.format(lead2)]\n",
    "\n",
    "# IND_TRAIN_lead = np.load('/glade/work/ksha/NCAR/IND_TRAIN_lead_v4x.npy', allow_pickle=True)[()]\n",
    "# TRAIN_ind1_v4 = IND_TRAIN_lead['lead{}'.format(lead1)]\n",
    "# TRAIN_ind2_v4 = IND_TRAIN_lead['lead{}'.format(lead2)]"
   ]
  },
  {
   "cell_type": "code",
   "execution_count": 48,
   "id": "a0ff2c0a-5107-4bc9-a721-5ce809972dd0",
   "metadata": {},
   "outputs": [],
   "source": [
    "data_lead1_p0 = np.load('{}TRAIN_v3_vec_lead{}_part0_{}.npy'.format(filepath_vec, lead1, model_tag), allow_pickle=True)[()]\n",
    "data_lead1_p1 = np.load('{}TRAIN_v3_vec_lead{}_part1_{}.npy'.format(filepath_vec, lead1, model_tag), allow_pickle=True)[()]\n",
    "data_lead1_p2 = np.load('{}TRAIN_v3_vec_lead{}_part2_{}.npy'.format(filepath_vec, lead1, model_tag), allow_pickle=True)[()]\n",
    "\n",
    "data_lead2_p0 = np.load('{}TRAIN_v3_vec_lead{}_part0_{}.npy'.format(filepath_vec, lead2, model_tag), allow_pickle=True)[()]\n",
    "data_lead2_p1 = np.load('{}TRAIN_v3_vec_lead{}_part1_{}.npy'.format(filepath_vec, lead2, model_tag), allow_pickle=True)[()]\n",
    "data_lead2_p2 = np.load('{}TRAIN_v3_vec_lead{}_part2_{}.npy'.format(filepath_vec, lead2, model_tag), allow_pickle=True)[()]"
   ]
  },
  {
   "cell_type": "code",
   "execution_count": 49,
   "id": "5330c355-896f-45a1-9e9b-d530c142a15c",
   "metadata": {},
   "outputs": [],
   "source": [
    "# data_lead1_v4 = np.load('{}TRAIN_v4x_vec_lead{}_part0_{}.npy'.format(filepath_vec, lead1, model_tag), allow_pickle=True)[()]\n",
    "# data_lead2_v4 = np.load('{}TRAIN_v4x_vec_lead{}_part0_{}.npy'.format(filepath_vec, lead2, model_tag), allow_pickle=True)[()]"
   ]
  },
  {
   "cell_type": "code",
   "execution_count": 50,
   "id": "af2205b3-1baf-42de-9503-d0b589ccfc3f",
   "metadata": {},
   "outputs": [],
   "source": [
    "TRAIN_lead1_v3 = np.concatenate((data_lead1_p0['y_vector'], data_lead1_p1['y_vector'], data_lead1_p2['y_vector']), axis=0)\n",
    "TRAIN_lead2_v3 = np.concatenate((data_lead2_p0['y_vector'], data_lead2_p1['y_vector'], data_lead2_p2['y_vector']), axis=0)\n",
    "\n",
    "# TRAIN_lead1_v4 = data_lead1_v4['y_vector']\n",
    "# TRAIN_lead2_v4 = data_lead2_v4['y_vector']"
   ]
  },
  {
   "cell_type": "code",
   "execution_count": 51,
   "id": "5c58d7f3-f2c4-42e4-ab39-5d26131f3e1a",
   "metadata": {},
   "outputs": [],
   "source": [
    "TRAIN_lead1_y_v3 = np.concatenate((data_lead1_p0['y_true'], data_lead1_p1['y_true'], data_lead1_p2['y_true']), axis=0)\n",
    "TRAIN_lead2_y_v3 = np.concatenate((data_lead2_p0['y_true'], data_lead2_p1['y_true'], data_lead2_p2['y_true']), axis=0)\n",
    "\n",
    "# TRAIN_lead1_y_v4 = data_lead1_v4['y_true']\n",
    "# TRAIN_lead2_y_v4 = data_lead2_v4['y_true']"
   ]
  },
  {
   "cell_type": "code",
   "execution_count": 52,
   "id": "b21a0ec8-fc11-4ccf-ab5d-4ff6f2129d29",
   "metadata": {},
   "outputs": [],
   "source": [
    "L = len(TRAIN_ind2_v3)\n",
    "\n",
    "filename_train1_pick_v3 = []\n",
    "filename_train2_pick_v3 = []\n",
    "\n",
    "TRAIN_X_v3 = np.empty((L, 2, 128))\n",
    "TRAIN_Y_v3 = np.empty(L)\n",
    "\n",
    "for i in range(L):\n",
    "    \n",
    "    ind_lead1_v3 = int(TRAIN_ind1_v3[i])\n",
    "    ind_lead2_v3 = int(TRAIN_ind2_v3[i])\n",
    "    \n",
    "    filename_train1_pick_v3.append(filename_train_lead1_v3[ind_lead1_v3])\n",
    "    filename_train2_pick_v3.append(filename_train_lead2_v3[ind_lead2_v3])\n",
    "    \n",
    "    TRAIN_X_v3[i, 0, :] = TRAIN_lead1_v3[ind_lead1_v3, :]\n",
    "    TRAIN_X_v3[i, 1, :] = TRAIN_lead2_v3[ind_lead2_v3, :]\n",
    "    \n",
    "    TRAIN_Y_v3[i] = TRAIN_lead1_y_v3[ind_lead1_v3]"
   ]
  },
  {
   "cell_type": "code",
   "execution_count": 53,
   "id": "813569e4-c647-4a83-a01b-63ed971c5c37",
   "metadata": {},
   "outputs": [],
   "source": [
    "# L = len(TRAIN_ind2_v4)\n",
    "\n",
    "# filename_train1_pick_v4 = []\n",
    "# filename_train2_pick_v4 = []\n",
    "\n",
    "# TRAIN_X_v4 = np.empty((L, 2, 128))\n",
    "# TRAIN_Y_v4 = np.empty(L)\n",
    "\n",
    "# for i in range(L):\n",
    "    \n",
    "#     ind_lead1_v4 = int(TRAIN_ind1_v4[i])\n",
    "#     ind_lead2_v4 = int(TRAIN_ind2_v4[i])\n",
    "    \n",
    "#     filename_train1_pick_v4.append(filename_train_lead1_v4[ind_lead1_v4])\n",
    "#     filename_train2_pick_v4.append(filename_train_lead2_v4[ind_lead2_v4])\n",
    "    \n",
    "#     TRAIN_X_v4[i, 0, :] = TRAIN_lead1_v4[ind_lead1_v4, :]\n",
    "#     TRAIN_X_v4[i, 1, :] = TRAIN_lead2_v4[ind_lead2_v4, :]\n",
    "    \n",
    "#     TRAIN_Y_v4[i] = TRAIN_lead1_y_v4[ind_lead1_v4]"
   ]
  },
  {
   "cell_type": "code",
   "execution_count": 54,
   "id": "3fd05dbf-dc98-41db-b7d5-f855183b1188",
   "metadata": {},
   "outputs": [],
   "source": [
    "with nc.Dataset(filepath_vec+'climo_severe_2hr_all.nc') as ncio:\n",
    "    climo = ncio['climo'][0, ...]"
   ]
  },
  {
   "cell_type": "code",
   "execution_count": 55,
   "id": "c8ac4ab4-18e1-42ab-bf04-9e158ed1fc78",
   "metadata": {},
   "outputs": [],
   "source": [
    "lon_norm_v3, lat_norm_v3, elev_norm_v3, climo_norm_v3 = feature_extract(filename_train1_pick_v3, \n",
    "                                                                      lon_80km, lon_minmax, \n",
    "                                                                      lat_80km, lat_minmax, elev_80km, elev_max, climo)\n",
    "\n",
    "# lon_norm_v4, lat_norm_v4, elev_norm_v4, climo_norm_v4 = feature_extract(filename_train1_pick_v4, \n",
    "#                                                                       lon_80km, lon_minmax, \n",
    "#                                                                       lat_80km, lat_minmax, elev_80km, elev_max, climo)"
   ]
  },
  {
   "cell_type": "code",
   "execution_count": 56,
   "id": "8d479179-2549-49de-90d6-610670007dcb",
   "metadata": {},
   "outputs": [],
   "source": [
    "TRAIN_stn_v3 = np.concatenate((lon_norm_v3[:, None], \n",
    "                               lat_norm_v3[:, None]), axis=1)\n",
    "\n",
    "# TRAIN_stn_v4 = np.concatenate((lon_norm_v4[:, None], \n",
    "#                                lat_norm_v4[:, None]), axis=1)"
   ]
  },
  {
   "cell_type": "code",
   "execution_count": 57,
   "id": "59c11c45-42b7-43fd-9e72-8de13f4edc5d",
   "metadata": {},
   "outputs": [],
   "source": [
    "TRAIN_256_pos_v3 = TRAIN_X_v3[TRAIN_Y_v3==1, ...]\n",
    "TRAIN_256_neg_v3 = TRAIN_X_v3[TRAIN_Y_v3==0, ...]\n",
    "# TRAIN_256_pos_v4 = TRAIN_X_v4[TRAIN_Y_v4==1, ...]\n",
    "# TRAIN_256_neg_v4 = TRAIN_X_v4[TRAIN_Y_v4==0, ...]"
   ]
  },
  {
   "cell_type": "code",
   "execution_count": 58,
   "id": "19544dea-1342-4c30-a470-d59b18652f05",
   "metadata": {},
   "outputs": [],
   "source": [
    "TRAIN_stn_pos_v3 = TRAIN_stn_v3[TRAIN_Y_v3==1]\n",
    "TRAIN_stn_neg_v3 = TRAIN_stn_v3[TRAIN_Y_v3==0]\n",
    "# TRAIN_stn_pos_v4 = TRAIN_stn_v4[TRAIN_Y_v4==1]\n",
    "# TRAIN_stn_neg_v4 = TRAIN_stn_v4[TRAIN_Y_v4==0]"
   ]
  },
  {
   "cell_type": "code",
   "execution_count": 59,
   "id": "f4a55881-1ba9-4310-ac1c-9cc49954f715",
   "metadata": {},
   "outputs": [],
   "source": [
    "# TRAIN_Y = np.concatenate((TRAIN_Y_v3, TRAIN_Y_v4), axis=0)\n",
    "\n",
    "# TRAIN_256_pos = np.concatenate((TRAIN_256_pos_v3, TRAIN_256_pos_v4), axis=0)\n",
    "# TRAIN_256_neg = np.concatenate((TRAIN_256_neg_v3, TRAIN_256_neg_v4), axis=0)\n",
    "\n",
    "# TRAIN_stn_pos = np.concatenate((TRAIN_stn_pos_v3, TRAIN_stn_pos_v4), axis=0)\n",
    "# TRAIN_stn_neg = np.concatenate((TRAIN_stn_neg_v3, TRAIN_stn_neg_v4), axis=0)\n",
    "\n",
    "TRAIN_Y = TRAIN_Y_v3\n",
    "\n",
    "TRAIN_256_pos = TRAIN_256_pos_v3\n",
    "TRAIN_256_neg = TRAIN_256_neg_v3\n",
    "\n",
    "TRAIN_stn_pos = TRAIN_stn_pos_v3\n",
    "TRAIN_stn_neg = TRAIN_stn_neg_v3"
   ]
  },
  {
   "cell_type": "markdown",
   "id": "1a30ece5-27c7-49dd-9431-d9608dab439b",
   "metadata": {},
   "source": [
    "**Valid**"
   ]
  },
  {
   "cell_type": "code",
   "execution_count": null,
   "id": "3ab5cdb3-9700-404f-be2a-b59d46aa20f7",
   "metadata": {},
   "outputs": [],
   "source": []
  },
  {
   "cell_type": "code",
   "execution_count": 60,
   "id": "77782c59-1e77-4c60-87a9-12f93b51136f",
   "metadata": {},
   "outputs": [],
   "source": [
    "filename_valid_lead1 = sorted(glob(\"{}TEST*lead{}.npy\".format(path_name1_v4_test, lead1)))\n",
    "filename_valid_lead2 = sorted(glob(\"{}TEST*lead{}.npy\".format(path_name2_v4_test, lead2)))"
   ]
  },
  {
   "cell_type": "code",
   "execution_count": 61,
   "id": "34d6f875-51f3-4dc9-a46b-1f6de81c1d0c",
   "metadata": {},
   "outputs": [],
   "source": [
    "valid_lead1 = np.load('{}TEST_v4_vec_lead{}_{}.npy'.format(filepath_vec, lead1, model_tag), allow_pickle=True)[()]\n",
    "valid_lead2 = np.load('{}TEST_v4_vec_lead{}_{}.npy'.format(filepath_vec, lead2, model_tag), allow_pickle=True)[()]\n",
    "\n",
    "VALID_lead1 = valid_lead1['y_vector']\n",
    "VALID_lead2 = valid_lead2['y_vector']\n",
    "\n",
    "VALID_lead1_y = valid_lead1['y_true']\n",
    "VALID_lead2_y = valid_lead2['y_true']"
   ]
  },
  {
   "cell_type": "code",
   "execution_count": 62,
   "id": "786fd32d-88c4-4017-a798-74d964b2dccf",
   "metadata": {},
   "outputs": [],
   "source": [
    "IND_TEST_lead = np.load('/glade/work/ksha/NCAR/IND_TEST_lead_v4.npy', allow_pickle=True)[()]\n",
    "TEST_ind1 = IND_TEST_lead['lead{}'.format(lead1)]\n",
    "TEST_ind2 = IND_TEST_lead['lead{}'.format(lead2)]"
   ]
  },
  {
   "cell_type": "code",
   "execution_count": 63,
   "id": "cb611f30-9023-4307-8b8c-5a99eba50aeb",
   "metadata": {},
   "outputs": [],
   "source": [
    "L = len(TEST_ind1)\n",
    "\n",
    "filename_valid1_pick = []\n",
    "filename_valid2_pick = []\n",
    "\n",
    "VALID_X = np.empty((L, 2, 128))\n",
    "VALID_Y = np.zeros(L)\n",
    "\n",
    "for i in range(L):\n",
    "    \n",
    "    ind_lead1 = int(TEST_ind1[i])\n",
    "    ind_lead2 = int(TEST_ind2[i])\n",
    "    \n",
    "    filename_valid1_pick.append(filename_valid_lead1[ind_lead1])\n",
    "    filename_valid2_pick.append(filename_valid_lead2[ind_lead2])\n",
    "    \n",
    "    VALID_X[i, 0, :] = VALID_lead1[ind_lead1, :]\n",
    "    VALID_X[i, 1, :] = VALID_lead2[ind_lead2, :]\n",
    "    \n",
    "    if 'pos' in filename_valid_lead1[ind_lead1]:\n",
    "        if VALID_lead1_y[ind_lead1] == 1.0:\n",
    "            VALID_Y[i] = 1.0\n",
    "        else:\n",
    "            egwrshat"
   ]
  },
  {
   "cell_type": "code",
   "execution_count": 64,
   "id": "76bc4d48-e647-45ea-bb64-364642185ea6",
   "metadata": {},
   "outputs": [],
   "source": [
    "lon_norm, lat_norm, elev_norm, climo_norm = feature_extract(\n",
    "    filename_valid1_pick, lon_80km, lon_minmax, lat_80km, lat_minmax, elev_80km, elev_max, climo)\n",
    "\n",
    "VALID_stn = np.concatenate((lon_norm[:, None], lat_norm[:, None]), axis=1)\n",
    "VALID_merge = VALID_stn"
   ]
  },
  {
   "cell_type": "code",
   "execution_count": 65,
   "id": "9192133a-ff27-49d3-a8d3-37c8be1e5471",
   "metadata": {},
   "outputs": [
    {
     "data": {
      "text/plain": [
       "(374192,)"
      ]
     },
     "execution_count": 65,
     "metadata": {},
     "output_type": "execute_result"
    }
   ],
   "source": [
    "VALID_Y.shape"
   ]
  },
  {
   "cell_type": "code",
   "execution_count": 66,
   "id": "dbee2302-f09b-4442-bc28-7b7a000b3693",
   "metadata": {},
   "outputs": [],
   "source": [
    "def create_model():\n",
    "    \n",
    "    IN = keras.Input((2, 128))\n",
    "    X = IN\n",
    "    \n",
    "    X = keras.layers.Conv1D(128, kernel_size=2, strides=1, padding='valid', use_bias=True)(X)\n",
    "    X = keras.layers.Activation(\"gelu\")(X)\n",
    "    \n",
    "    X = keras.layers.GlobalMaxPool1D()(X)\n",
    "    \n",
    "    IN_elev = keras.Input((2,))\n",
    "    X = keras.layers.Concatenate()([X, IN_elev])\n",
    "    \n",
    "    X = keras.layers.Dense(64, use_bias=False)(X)\n",
    "    X = keras.layers.Activation(\"relu\")(X)\n",
    "    X = keras.layers.BatchNormalization()(X)\n",
    "\n",
    "    OUT = X\n",
    "    OUT = keras.layers.Dense(1, activation='sigmoid', bias_initializer=keras.initializers.Constant(-10))(OUT)\n",
    "\n",
    "    model = keras.models.Model(inputs=[IN, IN_elev], outputs=OUT)\n",
    "    return model"
   ]
  },
  {
   "cell_type": "code",
   "execution_count": 67,
   "id": "6b67c26e-fd5f-41c4-8dd5-a2d1b1691f0b",
   "metadata": {},
   "outputs": [],
   "source": [
    "seeds = [12342, 2536234, 98765, 473, 865, 7456, 69472, 3456357, 3425, 678,\n",
    "         2452624, 5787, 235362, 67896, 98454, 12445, 46767, 78906, 345, 8695, \n",
    "         2463725, 4734, 23234, 884, 2341, 362, 5, 234, 483, 785356, 23425, 3621, \n",
    "         58461, 80968765, 123, 425633, 5646, 67635, 76785, 34214]\n",
    "\n",
    "training_rounds = len(seeds)"
   ]
  },
  {
   "cell_type": "code",
   "execution_count": 68,
   "id": "1ba8ffac-6fd0-4a42-8064-779ce5c7b6a8",
   "metadata": {},
   "outputs": [
    {
     "name": "stdout",
     "output_type": "stream",
     "text": [
      "Initial record: 1.1\n",
      "Training round 0\n",
      "Validation loss improved from 1.1 to 0.9980022230251436\n",
      "save to: /glade/work/ksha/NCAR/Keras_models/HY_Lead4\n",
      "INFO:tensorflow:Assets written to: /glade/work/ksha/NCAR/Keras_models/HY_Lead4/assets\n",
      "--- 6.90854549407959 seconds ---\n",
      "Validation loss improved from 0.9980022230251436 to 0.9946886395179024\n",
      "save to: /glade/work/ksha/NCAR/Keras_models/HY_Lead4\n",
      "INFO:tensorflow:Assets written to: /glade/work/ksha/NCAR/Keras_models/HY_Lead4/assets\n",
      "--- 6.7560858726501465 seconds ---\n",
      "Validation loss improved from 0.9946886395179024 to 0.9922164053201947\n",
      "save to: /glade/work/ksha/NCAR/Keras_models/HY_Lead4\n",
      "INFO:tensorflow:Assets written to: /glade/work/ksha/NCAR/Keras_models/HY_Lead4/assets\n",
      "--- 6.437697410583496 seconds ---\n",
      "Validation loss improved from 0.9922164053201947 to 0.9904446619149114\n",
      "save to: /glade/work/ksha/NCAR/Keras_models/HY_Lead4\n",
      "INFO:tensorflow:Assets written to: /glade/work/ksha/NCAR/Keras_models/HY_Lead4/assets\n",
      "--- 6.426681995391846 seconds ---\n",
      "Validation loss improved from 0.9904446619149114 to 0.9639227262723549\n",
      "save to: /glade/work/ksha/NCAR/Keras_models/HY_Lead4\n",
      "INFO:tensorflow:Assets written to: /glade/work/ksha/NCAR/Keras_models/HY_Lead4/assets\n",
      "--- 6.765016555786133 seconds ---\n",
      "Validation loss improved from 0.9639227262723549 to 0.9291142938530771\n",
      "save to: /glade/work/ksha/NCAR/Keras_models/HY_Lead4\n",
      "INFO:tensorflow:Assets written to: /glade/work/ksha/NCAR/Keras_models/HY_Lead4/assets\n",
      "--- 6.421196937561035 seconds ---\n",
      "Validation loss improved from 0.9291142938530771 to 0.9052932205867724\n",
      "save to: /glade/work/ksha/NCAR/Keras_models/HY_Lead4\n",
      "INFO:tensorflow:Assets written to: /glade/work/ksha/NCAR/Keras_models/HY_Lead4/assets\n",
      "--- 6.418055295944214 seconds ---\n",
      "Validation loss improved from 0.9052932205867724 to 0.8998218307150171\n",
      "save to: /glade/work/ksha/NCAR/Keras_models/HY_Lead4\n",
      "INFO:tensorflow:Assets written to: /glade/work/ksha/NCAR/Keras_models/HY_Lead4/assets\n",
      "--- 6.860245704650879 seconds ---\n",
      "Validation loss improved from 0.8998218307150171 to 0.8716627634207644\n",
      "save to: /glade/work/ksha/NCAR/Keras_models/HY_Lead4\n",
      "INFO:tensorflow:Assets written to: /glade/work/ksha/NCAR/Keras_models/HY_Lead4/assets\n",
      "--- 6.501830816268921 seconds ---\n",
      "Validation loss improved from 0.8716627634207644 to 0.8561403381477605\n",
      "save to: /glade/work/ksha/NCAR/Keras_models/HY_Lead4\n",
      "INFO:tensorflow:Assets written to: /glade/work/ksha/NCAR/Keras_models/HY_Lead4/assets\n",
      "--- 6.397675037384033 seconds ---\n",
      "Validation loss improved from 0.8561403381477605 to 0.8500540478833245\n",
      "save to: /glade/work/ksha/NCAR/Keras_models/HY_Lead4\n",
      "INFO:tensorflow:Assets written to: /glade/work/ksha/NCAR/Keras_models/HY_Lead4/assets\n",
      "--- 6.4251673221588135 seconds ---\n",
      "Validation loss improved from 0.8500540478833245 to 0.8423956812550926\n",
      "save to: /glade/work/ksha/NCAR/Keras_models/HY_Lead4\n",
      "INFO:tensorflow:Assets written to: /glade/work/ksha/NCAR/Keras_models/HY_Lead4/assets\n",
      "--- 6.7796950340271 seconds ---\n",
      "Validation loss 0.8614082444090048 NOT improved\n",
      "Validation loss 0.9187295868478451 NOT improved\n",
      "Validation loss 0.9574526872196713 NOT improved\n",
      "Validation loss 1.012830032824271 NOT improved\n",
      "Early stopping\n",
      "Training round 1\n",
      "Validation loss 0.99980754378044 NOT improved\n",
      "Validation loss 0.9997497312654332 NOT improved\n",
      "Validation loss 0.9996840639099316 NOT improved\n",
      "Validation loss 0.999413563121572 NOT improved\n",
      "Validation loss 0.9989676446288925 NOT improved\n",
      "Validation loss 0.9985207708270754 NOT improved\n",
      "Validation loss 0.9981455136459925 NOT improved\n",
      "Validation loss 0.9975689699751319 NOT improved\n",
      "Validation loss 0.9961624198556783 NOT improved\n",
      "Validation loss 0.9938506752927991 NOT improved\n",
      "Validation loss 0.9905315869363829 NOT improved\n",
      "Validation loss 0.9862859389091289 NOT improved\n",
      "Validation loss 0.9783619058051635 NOT improved\n",
      "Validation loss 0.966821341239544 NOT improved\n",
      "Validation loss 0.9560094726321774 NOT improved\n",
      "Validation loss 0.9371409233054888 NOT improved\n",
      "Validation loss 0.9253205984089373 NOT improved\n",
      "Validation loss 0.9036476679151991 NOT improved\n",
      "Validation loss 0.87085291582619 NOT improved\n",
      "Validation loss 1.6080090256230557 NOT improved\n",
      "Early stopping\n",
      "Training round 2\n",
      "Validation loss 0.9997792358807656 NOT improved\n",
      "Validation loss 0.9992456158215516 NOT improved\n",
      "Validation loss 0.9982255297151519 NOT improved\n",
      "Validation loss 0.9976466701391035 NOT improved\n",
      "Validation loss 0.9960370599602426 NOT improved\n",
      "Validation loss 0.9946773693811637 NOT improved\n",
      "Validation loss 0.9855383893148775 NOT improved\n",
      "Validation loss 0.9783729843110285 NOT improved\n",
      "Validation loss 0.9735085380603783 NOT improved\n",
      "Validation loss 0.9737743538849511 NOT improved\n",
      "Validation loss 0.9713385731152732 NOT improved\n",
      "Validation loss 0.9608136462912528 NOT improved\n",
      "Validation loss 0.9479016693075322 NOT improved\n",
      "Validation loss 0.9308847097869124 NOT improved\n",
      "Validation loss 0.9204540850871072 NOT improved\n",
      "Validation loss 0.9137023898184372 NOT improved\n",
      "Validation loss 0.8914562906430769 NOT improved\n",
      "Validation loss 0.8888454849725784 NOT improved\n",
      "Validation loss 0.8997220546158986 NOT improved\n",
      "Validation loss 0.8846297447298245 NOT improved\n",
      "Validation loss 0.8568789055619486 NOT improved\n",
      "Validation loss improved from 0.8423956812550926 to 0.8307772741196533\n",
      "save to: /glade/work/ksha/NCAR/Keras_models/HY_Lead4\n",
      "INFO:tensorflow:Assets written to: /glade/work/ksha/NCAR/Keras_models/HY_Lead4/assets\n",
      "--- 6.413254261016846 seconds ---\n",
      "Validation loss improved from 0.8307772741196533 to 0.8299403061612848\n",
      "save to: /glade/work/ksha/NCAR/Keras_models/HY_Lead4\n",
      "INFO:tensorflow:Assets written to: /glade/work/ksha/NCAR/Keras_models/HY_Lead4/assets\n",
      "--- 6.798178672790527 seconds ---\n",
      "Validation loss 0.8300273453683134 NOT improved\n",
      "Validation loss improved from 0.8299403061612848 to 0.8296479444851638\n",
      "save to: /glade/work/ksha/NCAR/Keras_models/HY_Lead4\n",
      "INFO:tensorflow:Assets written to: /glade/work/ksha/NCAR/Keras_models/HY_Lead4/assets\n",
      "--- 6.402525424957275 seconds ---\n",
      "Validation loss improved from 0.8296479444851638 to 0.8296249299339149\n",
      "save to: /glade/work/ksha/NCAR/Keras_models/HY_Lead4\n",
      "INFO:tensorflow:Assets written to: /glade/work/ksha/NCAR/Keras_models/HY_Lead4/assets\n",
      "--- 6.406905889511108 seconds ---\n",
      "Validation loss 0.832728116037407 NOT improved\n",
      "Validation loss 0.8533469897756794 NOT improved\n",
      "Validation loss 0.8777062620597436 NOT improved\n",
      "Validation loss 0.8630114129339066 NOT improved\n",
      "Validation loss 0.8396013635890778 NOT improved\n",
      "Validation loss 0.9540359011293299 NOT improved\n",
      "Validation loss 0.8566973886430468 NOT improved\n",
      "Validation loss 0.8941708544890633 NOT improved\n",
      "Validation loss 1.127854113767179 NOT improved\n",
      "Early stopping\n",
      "Training round 3\n",
      "Validation loss 0.9993062668991767 NOT improved\n",
      "Validation loss 0.9986042518270525 NOT improved\n",
      "Validation loss 0.9975553298391886 NOT improved\n",
      "Validation loss 0.9967134061416076 NOT improved\n",
      "Validation loss 0.9959814086203632 NOT improved\n",
      "Validation loss 0.9948743170891895 NOT improved\n",
      "Validation loss 0.9936487917222346 NOT improved\n",
      "Validation loss 0.9918117346273126 NOT improved\n",
      "Validation loss 0.9911430318043302 NOT improved\n",
      "Validation loss 0.9877439559417218 NOT improved\n",
      "Validation loss 0.9717594498328027 NOT improved\n",
      "Validation loss 0.9450143604387173 NOT improved\n",
      "Validation loss 0.9231946858491964 NOT improved\n",
      "Validation loss 0.8891581786150428 NOT improved\n",
      "Validation loss 0.8456460924670767 NOT improved\n",
      "Validation loss 1.0884581107458227 NOT improved\n",
      "Early stopping\n",
      "Training round 4\n",
      "Validation loss 0.9995911005518406 NOT improved\n",
      "Validation loss 0.9985912991827206 NOT improved\n",
      "Validation loss 0.9970459163167091 NOT improved\n",
      "Validation loss 0.9945441284010952 NOT improved\n",
      "Validation loss 0.9932718714833295 NOT improved\n",
      "Validation loss 0.9918890780850091 NOT improved\n",
      "Validation loss 0.9874435788276983 NOT improved\n",
      "Validation loss 0.9833549128136376 NOT improved\n",
      "Validation loss 0.9850538520189539 NOT improved\n",
      "Validation loss 0.9780715888337175 NOT improved\n",
      "Validation loss 0.9630507139449682 NOT improved\n",
      "Validation loss 0.9354222778075024 NOT improved\n",
      "Validation loss 0.9154615441581176 NOT improved\n",
      "Validation loss 0.8826498404676277 NOT improved\n",
      "Validation loss 0.854010001897245 NOT improved\n",
      "Validation loss 0.8341974748618841 NOT improved\n",
      "Validation loss 0.8328363957751891 NOT improved\n",
      "Validation loss 0.8445408207609882 NOT improved\n",
      "Validation loss 0.8795040354617794 NOT improved\n",
      "Validation loss 0.9222363364735129 NOT improved\n",
      "Validation loss 1.0767147070241803 NOT improved\n",
      "Early stopping\n",
      "Training round 5\n",
      "Validation loss 0.9998806245274807 NOT improved\n",
      "Validation loss 0.9996249034182815 NOT improved\n",
      "Validation loss 0.9988351669283743 NOT improved\n",
      "Validation loss 0.9980739863275764 NOT improved\n",
      "Validation loss 0.9970303145484906 NOT improved\n",
      "Validation loss 0.9956257202431031 NOT improved\n",
      "Validation loss 0.9946557829560047 NOT improved\n",
      "Validation loss 0.9928183150446036 NOT improved\n",
      "Validation loss 0.9889112323434329 NOT improved\n",
      "Validation loss 0.983628544572088 NOT improved\n",
      "Validation loss 0.9723774289368341 NOT improved\n",
      "Validation loss 0.9526820677328404 NOT improved\n",
      "Validation loss 0.9416064494131524 NOT improved\n",
      "Validation loss 0.9194329172861413 NOT improved\n",
      "Validation loss 0.8978531161442687 NOT improved\n",
      "Validation loss 0.8851767509428309 NOT improved\n",
      "Validation loss 0.8721829563606094 NOT improved\n",
      "Validation loss 0.8418351998433777 NOT improved\n",
      "Validation loss 0.841650259528419 NOT improved\n",
      "Validation loss 0.8393727694459002 NOT improved\n",
      "Validation loss 0.8372970528473652 NOT improved\n",
      "Validation loss 0.8378452940709229 NOT improved\n",
      "Validation loss 0.8470651077022052 NOT improved\n",
      "Validation loss 0.8378999303321915 NOT improved\n",
      "Validation loss 0.8672133765577283 NOT improved\n",
      "Validation loss 0.8557895550319756 NOT improved\n",
      "Validation loss 0.9210023118160783 NOT improved\n",
      "Validation loss 0.9095992977688756 NOT improved\n",
      "Validation loss 0.9264487963895628 NOT improved\n",
      "Validation loss 0.9738201583100048 NOT improved\n",
      "Validation loss 1.0007674797025095 NOT improved\n",
      "Early stopping\n",
      "Training round 6\n",
      "Validation loss 0.9994742756445351 NOT improved\n",
      "Validation loss 0.9984989046399381 NOT improved\n",
      "Validation loss 0.9971911528686763 NOT improved\n",
      "Validation loss 0.9976827190038456 NOT improved\n",
      "Validation loss 0.9969081458879603 NOT improved\n",
      "Validation loss 0.9958190127150297 NOT improved\n",
      "Validation loss 0.9936364370970995 NOT improved\n",
      "Validation loss 0.9918382721825133 NOT improved\n",
      "Validation loss 0.9905433731979869 NOT improved\n",
      "Validation loss 0.9885588418511894 NOT improved\n",
      "Validation loss 0.9712192355214823 NOT improved\n",
      "Validation loss 0.9355078274173833 NOT improved\n",
      "Validation loss 0.8481080203206008 NOT improved\n",
      "Validation loss 0.8394811892885671 NOT improved\n",
      "Validation loss 0.8448543047020203 NOT improved\n",
      "Validation loss 0.8520249043633347 NOT improved\n",
      "Validation loss 0.8405944847868142 NOT improved\n",
      "Validation loss 0.8731181452933087 NOT improved\n",
      "Validation loss 0.9678346475806154 NOT improved\n",
      "Validation loss 0.9758382177306251 NOT improved\n",
      "Validation loss 0.9376174119130355 NOT improved\n",
      "Validation loss 0.8944442684268433 NOT improved\n",
      "Validation loss 1.0111320565891266 NOT improved\n",
      "Early stopping\n",
      "Training round 7\n",
      "Validation loss 0.9993957511345569 NOT improved\n",
      "Validation loss 0.998694538065443 NOT improved\n",
      "Validation loss 0.9979746698639052 NOT improved\n",
      "Validation loss 0.9967458752662287 NOT improved\n",
      "Validation loss 0.9943900920410466 NOT improved\n",
      "Validation loss 0.9920577036336445 NOT improved\n",
      "Validation loss 0.9776162696073375 NOT improved\n",
      "Validation loss 0.9640604922016358 NOT improved\n",
      "Validation loss 0.9473482914396766 NOT improved\n",
      "Validation loss 0.9508454327257637 NOT improved\n",
      "Validation loss 0.9407557661863014 NOT improved\n",
      "Validation loss 0.9142502415699986 NOT improved\n",
      "Validation loss 0.9075687920443412 NOT improved\n",
      "Validation loss 0.8607653806362452 NOT improved\n",
      "Validation loss 0.8461556987079556 NOT improved\n",
      "Validation loss 0.8370102632366786 NOT improved\n",
      "Validation loss 0.8523569843111093 NOT improved\n",
      "Validation loss 0.8534437881511309 NOT improved\n",
      "Validation loss 0.853391443474349 NOT improved\n",
      "Validation loss 0.8957696876306351 NOT improved\n",
      "Validation loss 0.9271373855455558 NOT improved\n",
      "Validation loss 0.918828742982399 NOT improved\n",
      "Validation loss 1.1691912846599373 NOT improved\n",
      "Early stopping\n",
      "Training round 8\n",
      "Validation loss 0.9974785557092759 NOT improved\n",
      "Validation loss 0.9967394375523663 NOT improved\n",
      "Validation loss 0.9961773582368127 NOT improved\n",
      "Validation loss 0.9958787773544664 NOT improved\n",
      "Validation loss 0.9949991564861077 NOT improved\n",
      "Validation loss 0.9941560138126216 NOT improved\n",
      "Validation loss 0.9914980926921421 NOT improved\n",
      "Validation loss 0.9890648253043371 NOT improved\n",
      "Validation loss 0.9837929526771272 NOT improved\n",
      "Validation loss 0.9707313966080243 NOT improved\n",
      "Validation loss 0.9572682287910073 NOT improved\n",
      "Validation loss 0.9320136117418651 NOT improved\n",
      "Validation loss 0.9006408682483175 NOT improved\n"
     ]
    },
    {
     "name": "stderr",
     "output_type": "stream",
     "text": [
      "\n",
      "KeyboardInterrupt\n",
      "\n"
     ]
    }
   ],
   "source": [
    "ref = np.sum(VALID_Y) / len(VALID_Y)\n",
    "\n",
    "# =========== Model Section ========== #\n",
    "\n",
    "batch_dir = '/glade/scratch/ksha/DATA/NCAR_batch/'\n",
    "temp_dir = '/glade/work/ksha/NCAR/Keras_models/'\n",
    "\n",
    "key = 'HY_Lead{}'.format(lead_name)\n",
    "\n",
    "model_name = '{}'.format(key)\n",
    "model_path = temp_dir+model_name\n",
    "\n",
    "tol = 0\n",
    "\n",
    "# ========== Training loop ========== #\n",
    "L_pos = len(TRAIN_256_pos)\n",
    "L_neg = len(TRAIN_256_neg)\n",
    "\n",
    "record = 1.1\n",
    "print(\"Initial record: {}\".format(record))\n",
    "\n",
    "min_del = 0\n",
    "max_tol = 100 # early stopping with patience\n",
    "\n",
    "epochs = 500\n",
    "batch_size = 64\n",
    "L_train = 16\n",
    "\n",
    "for r in range(training_rounds):\n",
    "    if r == 0:\n",
    "        tol = 0\n",
    "    else:\n",
    "        tol = -200\n",
    "\n",
    "    model = create_model()\n",
    "    #\n",
    "    # model.compile(loss=keras.losses.mean_squared_error,\n",
    "    #               optimizer=keras.optimizers.Adam(lr=1e-5))\n",
    "    \n",
    "    model.compile(loss=keras.losses.BinaryCrossentropy(from_logits=False),\n",
    "                  optimizer=keras.optimizers.Adam(lr=1e-4))\n",
    "    \n",
    "    set_seeds(int(seeds[r]))\n",
    "    print('Training round {}'.format(r))\n",
    "\n",
    "    for i in range(epochs):            \n",
    "        start_time = time.time()\n",
    "\n",
    "        # loop of batch\n",
    "        for j in range(L_train):\n",
    "            N_pos = 32\n",
    "            N_neg = batch_size - N_pos\n",
    "\n",
    "            ind_neg = du.shuffle_ind(L_neg)\n",
    "            ind_pos = du.shuffle_ind(L_pos)\n",
    "\n",
    "            ind_neg_pick = ind_neg[:N_neg]\n",
    "            ind_pos_pick = ind_pos[:N_pos]\n",
    "\n",
    "            X_batch_neg = TRAIN_256_neg[ind_neg_pick, :]\n",
    "            X_batch_pos = TRAIN_256_pos[ind_pos_pick, :]\n",
    "            \n",
    "            X_batch_stn_neg = TRAIN_stn_neg[ind_neg_pick, :]\n",
    "            X_batch_stn_pos = TRAIN_stn_pos[ind_pos_pick, :]\n",
    "\n",
    "            X_batch = np.concatenate((X_batch_neg, X_batch_pos), axis=0)\n",
    "            X_batch_stn = np.concatenate((X_batch_stn_neg, X_batch_stn_pos), axis=0)\n",
    "\n",
    "            Y_batch = np.ones([batch_size,])\n",
    "            Y_batch[:N_neg] = 0.0\n",
    "\n",
    "            ind_ = du.shuffle_ind(batch_size)\n",
    "\n",
    "            X_batch = X_batch[ind_, :]\n",
    "            X_batch_stn = X_batch_stn[ind_, :]\n",
    "            Y_batch = Y_batch[ind_]\n",
    "\n",
    "            # train on batch\n",
    "            model.train_on_batch([X_batch, X_batch_stn], Y_batch);\n",
    "\n",
    "        # epoch end operations\n",
    "        Y_pred = model.predict([VALID_X, VALID_merge])\n",
    "\n",
    "        Y_pred[Y_pred<0] = 0\n",
    "        Y_pred[Y_pred>1] = 1\n",
    "\n",
    "        record_temp = verif_metric(VALID_Y, Y_pred, ref)\n",
    "\n",
    "        # if i % 10 == 0:\n",
    "        #     model.save(model_path_backup)\n",
    "\n",
    "        if (record - record_temp > min_del):\n",
    "            print('Validation loss improved from {} to {}'.format(record, record_temp))\n",
    "            record = record_temp\n",
    "            tol = 0\n",
    "            \n",
    "            #print('tol: {}'.format(tol))\n",
    "            # save\n",
    "            print('save to: {}'.format(model_path))\n",
    "            model.save(model_path)\n",
    "        else:\n",
    "            print('Validation loss {} NOT improved'.format(record_temp))\n",
    "            if record_temp > 1.0:\n",
    "                print('Early stopping')\n",
    "                break;\n",
    "            else:\n",
    "                tol += 1\n",
    "                if tol >= max_tol:\n",
    "                    print('Early stopping')\n",
    "                    break;\n",
    "                else:\n",
    "                    continue;\n",
    "        print(\"--- %s seconds ---\" % (time.time() - start_time))"
   ]
  },
  {
   "cell_type": "code",
   "execution_count": 69,
   "id": "e326cf77-8ac3-46a8-9971-ee5af1b95cac",
   "metadata": {},
   "outputs": [],
   "source": [
    "from sklearn.isotonic import IsotonicRegression\n",
    "from sklearn.linear_model import LogisticRegression"
   ]
  },
  {
   "cell_type": "code",
   "execution_count": 70,
   "id": "0c66da61-cef5-4c31-8508-3157f5473e6f",
   "metadata": {},
   "outputs": [],
   "source": [
    "model = create_model()\n",
    "\n",
    "model.compile(loss=keras.losses.BinaryCrossentropy(from_logits=False),\n",
    "              optimizer=keras.optimizers.Adam(lr=0))\n",
    "\n",
    "W_old = k_utils.dummy_loader('/glade/work/ksha/NCAR/Keras_models/HY_Lead{}'.format(lead_name))\n",
    "model.set_weights(W_old)"
   ]
  },
  {
   "cell_type": "code",
   "execution_count": 71,
   "id": "7b0d0d43-8929-49ca-b850-af7a403484e1",
   "metadata": {},
   "outputs": [],
   "source": [
    "ref = np.sum(VALID_Y) / len(VALID_Y)\n",
    "Y_pred = model.predict([VALID_X, VALID_merge])\n",
    "record_temp = verif_metric(VALID_Y, Y_pred, ref)"
   ]
  },
  {
   "cell_type": "code",
   "execution_count": 74,
   "id": "3305590d-522c-4fa4-9309-313980eb1840",
   "metadata": {},
   "outputs": [
    {
     "name": "stdout",
     "output_type": "stream",
     "text": [
      "/glade/work/ksha/NCAR/RESULT_HY2_lead4_base.npy\n"
     ]
    }
   ],
   "source": [
    "save_dict = {}\n",
    "save_dict['Y_pred'] = Y_pred\n",
    "save_dict['VALID_Y'] = VALID_Y\n",
    "np.save('{}RESULT_HY2_lead{}_base.npy'.format(filepath_vec, lead_name), save_dict)\n",
    "print('{}RESULT_HY2_lead{}_base.npy'.format(filepath_vec, lead_name))"
   ]
  },
  {
   "cell_type": "code",
   "execution_count": 135,
   "id": "376ba8aa-f93b-4e29-a4d7-b07f25cc6abb",
   "metadata": {},
   "outputs": [],
   "source": [
    "#Pred_TRAIN = model.predict([TRAIN_X_v3, TRAIN_stn_v3])\n",
    "Pred_VALID = model.predict([VALID_X, VALID_stn])"
   ]
  },
  {
   "cell_type": "code",
   "execution_count": 73,
   "id": "6c91af21-b4dc-46c3-a5d0-3058407f659e",
   "metadata": {},
   "outputs": [
    {
     "data": {
      "text/plain": [
       "0.8296249299339149"
      ]
     },
     "execution_count": 73,
     "metadata": {},
     "output_type": "execute_result"
    }
   ],
   "source": [
    "record_temp"
   ]
  },
  {
   "cell_type": "code",
   "execution_count": null,
   "id": "fc3fd1a4-86bf-4c6a-baef-f38fbdadee16",
   "metadata": {},
   "outputs": [],
   "source": []
  },
  {
   "cell_type": "code",
   "execution_count": null,
   "id": "c4575661-cb3e-4663-9b28-bc17fb5f1f72",
   "metadata": {},
   "outputs": [],
   "source": []
  },
  {
   "cell_type": "code",
   "execution_count": 50,
   "id": "dcd674f8-ace7-4662-a0fb-a46e2d616659",
   "metadata": {},
   "outputs": [],
   "source": [
    "calib_model1 = IsotonicRegression(out_of_bounds='clip').fit(Pred_TRAIN[:, 0], TRAIN_Y_v3)\n",
    "y_pred_calib1 = calib_model1.predict(Pred_VALID)"
   ]
  },
  {
   "cell_type": "code",
   "execution_count": 51,
   "id": "a083637e-f51f-40ad-8c07-8cf788f012db",
   "metadata": {},
   "outputs": [
    {
     "data": {
      "text/plain": [
       "[<matplotlib.lines.Line2D at 0x2b3403ac5a60>]"
      ]
     },
     "execution_count": 51,
     "metadata": {},
     "output_type": "execute_result"
    },
    {
     "data": {
      "image/png": "[encoded data removed]",
      "text/plain": [
       "<Figure size 640x480 with 1 Axes>"
      ]
     },
     "metadata": {},
     "output_type": "display_data"
    }
   ],
   "source": [
    "plt.plot(VALID_Y)\n",
    "plt.plot(y_pred_calib1)"
   ]
  },
  {
   "cell_type": "code",
   "execution_count": 52,
   "id": "f9f0e31b-f279-4a1f-991d-9ead2acaa3bb",
   "metadata": {},
   "outputs": [
    {
     "data": {
      "text/plain": [
       "0.7993164635683982"
      ]
     },
     "execution_count": 52,
     "metadata": {},
     "output_type": "execute_result"
    }
   ],
   "source": [
    "verif_metric(VALID_Y, y_pred_calib1, ref)"
   ]
  },
  {
   "cell_type": "code",
   "execution_count": 53,
   "id": "d52a64b3-5c68-4170-9a6b-1c347221a595",
   "metadata": {},
   "outputs": [
    {
     "data": {
      "text/plain": [
       "[<matplotlib.lines.Line2D at 0x2b33fe3e6df0>]"
      ]
     },
     "execution_count": 53,
     "metadata": {},
     "output_type": "execute_result"
    },
    {
     "data": {
      "image/png": "[encoded data removed]",
      "text/plain": [
       "<Figure size 640x480 with 1 Axes>"
      ]
     },
     "metadata": {},
     "output_type": "display_data"
    }
   ],
   "source": [
    "plt.plot(TRAIN_Y_v3)\n",
    "plt.plot(Pred_TRAIN)"
   ]
  },
  {
   "cell_type": "code",
   "execution_count": 54,
   "id": "1586aafb-c13f-44f4-a8b2-bd2176c91e0f",
   "metadata": {},
   "outputs": [
    {
     "data": {
      "text/plain": [
       "0.7588503417669417"
      ]
     },
     "execution_count": 54,
     "metadata": {},
     "output_type": "execute_result"
    }
   ],
   "source": [
    "verif_metric(TRAIN_Y_v3, Pred_TRAIN, ref)"
   ]
  },
  {
   "cell_type": "code",
   "execution_count": null,
   "id": "38e3efa6-d7f6-44a5-b63a-7bf73633a4ab",
   "metadata": {},
   "outputs": [],
   "source": []
  }
 ],
 "metadata": {
  "kernelspec": {
   "display_name": "Python 3 (ipykernel)",
   "language": "python",
   "name": "python3"
  },
  "language_info": {
   "codemirror_mode": {
    "name": "ipython",
    "version": 3
   },
   "file_extension": ".py",
   "mimetype": "text/x-python",
   "name": "python",
   "nbconvert_exporter": "python",
   "pygments_lexer": "ipython3",
   "version": "3.9.15"
  }
 },
 "nbformat": 4,
 "nbformat_minor": 5
}
