{
 "cells": [
  {
   "cell_type": "code",
   "execution_count": 2,
   "id": "14a616fd-f68f-4d01-bf14-694912f816b8",
   "metadata": {},
   "outputs": [],
   "source": [
    "import numpy as np\n"
   ]
  },
  {
   "cell_type": "code",
   "execution_count": 3,
   "id": "bb66102e-734d-4840-8c10-d1008398e0a3",
   "metadata": {},
   "outputs": [],
   "source": [
    "prefix = '/glade/work/ksha/NCAR/TEST_lead_inds_v4_part{}.npy'\n",
    "\n",
    "TRAIN_inds_p0  = np.load(prefix.format(0), allow_pickle=True)[()]\n",
    "TRAIN_inds_p1  = np.load(prefix.format(1), allow_pickle=True)[()]\n",
    "TRAIN_inds_p2  = np.load(prefix.format(2), allow_pickle=True)[()]\n",
    "TRAIN_inds_p3  = np.load(prefix.format(3), allow_pickle=True)[()]\n",
    "TRAIN_inds_p4  = np.load(prefix.format(4), allow_pickle=True)[()]\n",
    "TRAIN_inds_p5  = np.load(prefix.format(5), allow_pickle=True)[()]\n",
    "TRAIN_inds_p6  = np.load(prefix.format(6), allow_pickle=True)[()]\n",
    "TRAIN_inds_p7  = np.load(prefix.format(7), allow_pickle=True)[()]\n",
    "TRAIN_inds_p8  = np.load(prefix.format(8), allow_pickle=True)[()]\n",
    "TRAIN_inds_p9  = np.load(prefix.format(9), allow_pickle=True)[()]\n",
    "TRAIN_inds_p10 = np.load(prefix.format(10), allow_pickle=True)[()]\n",
    "TRAIN_inds_p11 = np.load(prefix.format(11), allow_pickle=True)[()]"
   ]
  },
  {
   "cell_type": "code",
   "execution_count": 5,
   "id": "9fb46575-55b3-4cc2-95dd-146936be2aa1",
   "metadata": {},
   "outputs": [
    {
     "ename": "NameError",
     "evalue": "name 'TRAIN_inds_p12' is not defined",
     "output_type": "error",
     "traceback": [
      "\u001b[0;31m---------------------------------------------------------------------------\u001b[0m",
      "\u001b[0;31mNameError\u001b[0m                                 Traceback (most recent call last)",
      "Cell \u001b[0;32mIn[5], line 4\u001b[0m\n\u001b[1;32m      1\u001b[0m TRAIN_ind11 \u001b[38;5;241m=\u001b[39m np\u001b[38;5;241m.\u001b[39mconcatenate((TRAIN_inds_p0[\u001b[38;5;124m'\u001b[39m\u001b[38;5;124mind11\u001b[39m\u001b[38;5;124m'\u001b[39m], TRAIN_inds_p1[\u001b[38;5;124m'\u001b[39m\u001b[38;5;124mind11\u001b[39m\u001b[38;5;124m'\u001b[39m], TRAIN_inds_p2[\u001b[38;5;124m'\u001b[39m\u001b[38;5;124mind11\u001b[39m\u001b[38;5;124m'\u001b[39m], TRAIN_inds_p3[\u001b[38;5;124m'\u001b[39m\u001b[38;5;124mind11\u001b[39m\u001b[38;5;124m'\u001b[39m],\n\u001b[1;32m      2\u001b[0m                               TRAIN_inds_p4[\u001b[38;5;124m'\u001b[39m\u001b[38;5;124mind11\u001b[39m\u001b[38;5;124m'\u001b[39m], TRAIN_inds_p5[\u001b[38;5;124m'\u001b[39m\u001b[38;5;124mind11\u001b[39m\u001b[38;5;124m'\u001b[39m], TRAIN_inds_p6[\u001b[38;5;124m'\u001b[39m\u001b[38;5;124mind11\u001b[39m\u001b[38;5;124m'\u001b[39m], TRAIN_inds_p7[\u001b[38;5;124m'\u001b[39m\u001b[38;5;124mind11\u001b[39m\u001b[38;5;124m'\u001b[39m],\n\u001b[1;32m      3\u001b[0m                               TRAIN_inds_p8[\u001b[38;5;124m'\u001b[39m\u001b[38;5;124mind11\u001b[39m\u001b[38;5;124m'\u001b[39m], TRAIN_inds_p9[\u001b[38;5;124m'\u001b[39m\u001b[38;5;124mind11\u001b[39m\u001b[38;5;124m'\u001b[39m], TRAIN_inds_p10[\u001b[38;5;124m'\u001b[39m\u001b[38;5;124mind11\u001b[39m\u001b[38;5;124m'\u001b[39m],\n\u001b[0;32m----> 4\u001b[0m                               TRAIN_inds_p11[\u001b[38;5;124m'\u001b[39m\u001b[38;5;124mind11\u001b[39m\u001b[38;5;124m'\u001b[39m], \u001b[43mTRAIN_inds_p12\u001b[49m[\u001b[38;5;124m'\u001b[39m\u001b[38;5;124mind11\u001b[39m\u001b[38;5;124m'\u001b[39m], TRAIN_inds_p13[\u001b[38;5;124m'\u001b[39m\u001b[38;5;124mind11\u001b[39m\u001b[38;5;124m'\u001b[39m],\n\u001b[1;32m      5\u001b[0m                               TRAIN_inds_p14[\u001b[38;5;124m'\u001b[39m\u001b[38;5;124mind11\u001b[39m\u001b[38;5;124m'\u001b[39m], TRAIN_inds_p15[\u001b[38;5;124m'\u001b[39m\u001b[38;5;124mind11\u001b[39m\u001b[38;5;124m'\u001b[39m], TRAIN_inds_p16[\u001b[38;5;124m'\u001b[39m\u001b[38;5;124mind11\u001b[39m\u001b[38;5;124m'\u001b[39m],))\n",
      "\u001b[0;31mNameError\u001b[0m: name 'TRAIN_inds_p12' is not defined"
     ]
    }
   ],
   "source": [
    "TRAIN_ind11 = np.concatenate((TRAIN_inds_p0['ind11'], TRAIN_inds_p1['ind11'], TRAIN_inds_p2['ind11'], TRAIN_inds_p3['ind11'],\n",
    "                              TRAIN_inds_p4['ind11'], TRAIN_inds_p5['ind11'], TRAIN_inds_p6['ind11'], TRAIN_inds_p7['ind11'],\n",
    "                              TRAIN_inds_p8['ind11'], TRAIN_inds_p9['ind11'], TRAIN_inds_p10['ind11'],\n",
    "                              TRAIN_inds_p11['ind11'], TRAIN_inds_p12['ind11'], TRAIN_inds_p13['ind11'],\n",
    "                              TRAIN_inds_p14['ind11'], TRAIN_inds_p15['ind11'], TRAIN_inds_p16['ind11'],))"
   ]
  },
  {
   "cell_type": "code",
   "execution_count": null,
   "id": "312a5880-cbfd-4cfa-949d-ef782603c062",
   "metadata": {},
   "outputs": [],
   "source": []
  }
 ],
 "metadata": {
  "kernelspec": {
   "display_name": "Python 3 (ipykernel)",
   "language": "python",
   "name": "python3"
  },
  "language_info": {
   "codemirror_mode": {
    "name": "ipython",
    "version": 3
   },
   "file_extension": ".py",
   "mimetype": "text/x-python",
   "name": "python",
   "nbconvert_exporter": "python",
   "pygments_lexer": "ipython3",
   "version": "3.9.15"
  }
 },
 "nbformat": 4,
 "nbformat_minor": 5
}
