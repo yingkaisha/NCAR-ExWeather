{
 "cells": [
  {
   "cell_type": "code",
   "execution_count": 1,
   "id": "ddfb1e9c-a929-4ba1-96b8-2701b9fc5ca8",
   "metadata": {},
   "outputs": [],
   "source": [
    "# general tools\n",
    "import os\n",
    "import re\n",
    "import sys\n",
    "import time\n",
    "import random\n",
    "from glob import glob\n",
    "\n",
    "import numpy as np"
   ]
  },
  {
   "cell_type": "code",
   "execution_count": 2,
   "id": "d256ab2c-ffdd-4149-937b-d2aa17cda989",
   "metadata": {},
   "outputs": [],
   "source": [
    "def id_extract(filenames):\n",
    "    \n",
    "    indx_out = []\n",
    "    indy_out = []\n",
    "    lead_out = []\n",
    "    day_out = []\n",
    "    \n",
    "    for i, name in enumerate(filenames):        \n",
    "        nums = re.findall(r'\\d+', name)\n",
    "        lead = int(nums[-1])\n",
    "        indy = int(nums[-2])\n",
    "        indx = int(nums[-3])\n",
    "        day = int(nums[-4])\n",
    "                \n",
    "        indx_out.append(indx)\n",
    "        indy_out.append(indy)\n",
    "        lead_out.append(lead)\n",
    "        day_out.append(day)\n",
    "        \n",
    "    return np.array(indx_out), np.array(indy_out), np.array(lead_out), np.array(day_out)\n"
   ]
  },
  {
   "cell_type": "code",
   "execution_count": 3,
   "id": "49815808-33c6-4fa0-8220-62f8cbfa6bf9",
   "metadata": {},
   "outputs": [],
   "source": [
    "filename_train_lead2 = sorted(glob(\"/glade/scratch/ksha/DATA/NCAR_batch/TRAIN*neg_neg_neg*lead2.npy\")) + \\\n",
    "                 sorted(glob(\"/glade/scratch/ksha/DATA/NCAR_batch/TRAIN*pos*lead2.npy\"))\n",
    "\n",
    "filename_train_lead3 = sorted(glob(\"/glade/scratch/ksha/DATA/NCAR_batch/TRAIN*neg_neg_neg*lead3.npy\")) + \\\n",
    "                 sorted(glob(\"/glade/scratch/ksha/DATA/NCAR_batch/TRAIN*pos*lead3.npy\"))\n",
    "\n",
    "filename_train_lead4 = sorted(glob(\"/glade/scratch/ksha/DATA/NCAR_batch/TRAIN*neg_neg_neg*lead4.npy\")) + \\\n",
    "                 sorted(glob(\"/glade/scratch/ksha/DATA/NCAR_batch/TRAIN*pos*lead4.npy\"))\n",
    "\n",
    "filename_train_lead5 = sorted(glob(\"/glade/scratch/ksha/DATA/NCAR_batch/TRAIN*neg_neg_neg*lead5.npy\")) + \\\n",
    "                 sorted(glob(\"/glade/scratch/ksha/DATA/NCAR_batch/TRAIN*pos*lead5.npy\"))\n",
    "\n",
    "filename_train_lead6 = sorted(glob(\"/glade/scratch/ksha/DATA/NCAR_batch/TRAIN*neg_neg_neg*lead6.npy\")) + \\\n",
    "                 sorted(glob(\"/glade/scratch/ksha/DATA/NCAR_batch/TRAIN*pos*lead6.npy\"))\n",
    "\n",
    "\n",
    "indx2, indy2, lead2, day2 = id_extract(filename_train_lead2)\n",
    "indx3, indy3, lead3, day3 = id_extract(filename_train_lead3)\n",
    "indx4, indy4, lead4, day4 = id_extract(filename_train_lead4)\n",
    "indx5, indy5, lead5, day5 = id_extract(filename_train_lead5)\n",
    "indx6, indy6, lead6, day6 = id_extract(filename_train_lead6)\n",
    "\n",
    "L = len(filename_train_lead2)\n",
    "\n",
    "ind2 = np.empty(L)\n",
    "ind3 = np.empty(L)\n",
    "ind4 = np.empty(L)\n",
    "ind5 = np.empty(L)\n",
    "ind6 = np.empty(L)\n",
    "\n"
   ]
  },
  {
   "cell_type": "code",
   "execution_count": 4,
   "id": "08615d95-3e12-4e20-89be-be14a7b7d432",
   "metadata": {},
   "outputs": [],
   "source": [
    "L = 10\n",
    "count = 0"
   ]
  },
  {
   "cell_type": "code",
   "execution_count": 21,
   "id": "4a3bcaaf-7e4f-40f4-b871-89f605b4021f",
   "metadata": {},
   "outputs": [
    {
     "name": "stdout",
     "output_type": "stream",
     "text": [
      "--- 4.220008850097656e-05 seconds ---\n",
      "--- 1.4066696166992188e-05 seconds ---\n",
      "--- 1.2159347534179688e-05 seconds ---\n",
      "--- 1.2159347534179688e-05 seconds ---\n",
      "--- 1.33514404296875e-05 seconds ---\n",
      "--- 1.2874603271484375e-05 seconds ---\n",
      "--- 1.3589859008789062e-05 seconds ---\n",
      "--- 1.3828277587890625e-05 seconds ---\n",
      "--- 1.4543533325195312e-05 seconds ---\n",
      "--- 1.5020370483398438e-05 seconds ---\n",
      "40\n"
     ]
    }
   ],
   "source": [
    "for i in range(L):\n",
    "    \n",
    "    start_time = time.time()\n",
    "    ind_temp2 = np.nan\n",
    "    ind_temp3 = np.nan\n",
    "    ind_temp4 = np.nan\n",
    "    ind_temp5 = np.nan\n",
    "    ind_temp6 = np.nan\n",
    "\n",
    "    pattern_day = 'TRAIN_day{:03d}'.format(day2[i])\n",
    "    patten_lead3 = 'indx{}_indy{}_lead3'.format(indx2[i], indy2[i])\n",
    "    patten_lead4 = 'indx{}_indy{}_lead4'.format(indx2[i], indy2[i])\n",
    "    patten_lead5 = 'indx{}_indy{}_lead5'.format(indx2[i], indy2[i])\n",
    "    patten_lead6 = 'indx{}_indy{}_lead6'.format(indx2[i], indy2[i])\n",
    "\n",
    "    for i3, name3 in enumerate(filename_train_lead3):\n",
    "        if (pattern_day in name3) and (patten_lead3 in name3):\n",
    "            ind_temp3 = i3\n",
    "            #ind3.append(i3)\n",
    "            break;\n",
    "\n",
    "    for i4, name4 in enumerate(filename_train_lead4):\n",
    "        if (pattern_day in name4) and (patten_lead4 in name4):\n",
    "            ind_temp4 = i4\n",
    "            #ind4.append(i4)\n",
    "            break;\n",
    "\n",
    "    for i5, name5 in enumerate(filename_train_lead5):\n",
    "        if (pattern_day in name5) and (patten_lead5 in name5):\n",
    "            ind_temp5 = i5\n",
    "            #ind5.append(i5)\n",
    "            break;\n",
    "\n",
    "    for i6, name6 in enumerate(filename_train_lead6):\n",
    "        if (pattern_day in name6) and (patten_lead6 in name6):\n",
    "            ind_temp6 = i6\n",
    "            #ind6.append(i6)\n",
    "            break;\n",
    "\n",
    "    flag = ind_temp3 + ind_temp4 + ind_temp5 + ind_temp6\n",
    "\n",
    "    if np.logical_not(np.isnan(flag)): \n",
    "        ind2[count] = i\n",
    "        ind3[count] = ind_temp3\n",
    "        ind4[count] = ind_temp4\n",
    "        ind5[count] = ind_temp5\n",
    "        ind6[count] = ind_temp6\n",
    "        count += 1\n",
    "        \n",
    "    print(\"--- %s seconds ---\" % (time.time() - start_time))\n",
    "        \n",
    "print(count)\n",
    "save_dict = {}\n",
    "save_dict['ind2'] = ind2[:count]\n",
    "save_dict['ind3'] = ind3[:count]\n",
    "save_dict['ind4'] = ind4[:count]\n",
    "save_dict['ind5'] = ind5[:count]\n",
    "save_dict['ind6'] = ind6[:count]"
   ]
  },
  {
   "cell_type": "code",
   "execution_count": 25,
   "id": "9ee6485c-f69e-45d0-aed8-22cfc23e7d77",
   "metadata": {},
   "outputs": [],
   "source": [
    "data_temp = np.load('/glade/work/ksha/NCAR/VALID_lead_inds.npy', allow_pickle=True)[()]"
   ]
  },
  {
   "cell_type": "code",
   "execution_count": 26,
   "id": "8240f3db-95a5-4553-8c9f-23eb1726e476",
   "metadata": {},
   "outputs": [
    {
     "data": {
      "text/plain": [
       "{'ind2': array([ 0.,  1.,  2.,  3.,  4.,  5.,  6.,  7.,  8.,  9., 10., 11., 12.,\n",
       "        13., 14., 15., 16., 17., 18., 19., 20., 21., 22., 23., 24., 25.,\n",
       "        26., 27., 28., 29., 30., 31., 32., 33., 34., 35., 36., 37., 38.,\n",
       "        39., 40., 41., 42., 43., 44., 45., 46., 47., 48., 49., 50., 51.,\n",
       "        52., 53., 54., 55., 56., 57., 58., 59., 60., 61., 62., 63., 64.,\n",
       "        65., 66., 67., 68., 69., 70., 71., 72., 73., 74., 75., 76., 77.,\n",
       "        78., 79., 80., 81., 82., 83., 84., 85., 86., 87., 88., 89., 90.,\n",
       "        91., 92., 93., 94., 95., 96., 97., 98., 99.]),\n",
       " 'ind3': array([ 0.,  1.,  2.,  3.,  4.,  5.,  6.,  7.,  8.,  9., 10., 11., 12.,\n",
       "        13., 14., 15., 16., 17., 18., 19., 20., 21., 22., 23., 24., 25.,\n",
       "        26., 27., 28., 29., 30., 31., 32., 33., 34., 35., 36., 37., 38.,\n",
       "        39., 40., 41., 42., 43., 44., 45., 46., 47., 48., 49., 50., 51.,\n",
       "        52., 53., 54., 55., 56., 57., 58., 59., 60., 61., 62., 63., 64.,\n",
       "        65., 66., 67., 68., 69., 70., 71., 72., 73., 74., 75., 76., 77.,\n",
       "        78., 79., 80., 81., 82., 83., 84., 85., 86., 87., 88., 89., 90.,\n",
       "        91., 92., 93., 94., 95., 96., 97., 98., 99.]),\n",
       " 'ind4': array([ 0.,  1.,  2.,  3.,  4.,  5.,  6.,  7.,  8.,  9., 10., 11., 12.,\n",
       "        13., 14., 15., 16., 17., 18., 19., 20., 21., 22., 23., 24., 25.,\n",
       "        26., 27., 28., 29., 30., 31., 32., 33., 34., 35., 36., 37., 38.,\n",
       "        39., 40., 41., 42., 43., 44., 45., 46., 47., 48., 49., 50., 51.,\n",
       "        52., 53., 54., 55., 56., 57., 58., 59., 60., 61., 62., 63., 64.,\n",
       "        65., 66., 67., 68., 69., 70., 71., 72., 73., 74., 75., 76., 77.,\n",
       "        78., 79., 80., 81., 82., 83., 84., 85., 86., 87., 88., 89., 90.,\n",
       "        91., 92., 93., 94., 95., 96., 97., 98., 99.]),\n",
       " 'ind5': array([ 0.,  1.,  2.,  3.,  4.,  5.,  6.,  7.,  8.,  9., 10., 11., 12.,\n",
       "        13., 14., 15., 16., 17., 18., 19., 20., 21., 22., 23., 24., 25.,\n",
       "        26., 27., 28., 29., 30., 31., 32., 33., 34., 35., 36., 37., 38.,\n",
       "        39., 40., 41., 42., 43., 44., 45., 46., 47., 48., 49., 50., 51.,\n",
       "        52., 53., 54., 55., 56., 57., 58., 59., 60., 61., 62., 63., 64.,\n",
       "        65., 66., 67., 68., 69., 70., 71., 72., 73., 74., 75., 76., 77.,\n",
       "        78., 79., 80., 81., 82., 83., 84., 85., 86., 87., 88., 89., 90.,\n",
       "        91., 92., 93., 94., 95., 96., 97., 98., 99.]),\n",
       " 'ind6': array([ 0.,  1.,  2.,  3.,  4.,  5.,  6.,  7.,  8.,  9., 10., 11., 12.,\n",
       "        13., 14., 15., 16., 17., 18., 19., 20., 21., 22., 23., 24., 25.,\n",
       "        26., 27., 28., 29., 30., 31., 32., 33., 34., 35., 36., 37., 38.,\n",
       "        39., 40., 41., 42., 43., 44., 45., 46., 47., 48., 49., 50., 51.,\n",
       "        52., 53., 54., 55., 56., 57., 58., 59., 60., 61., 62., 63., 64.,\n",
       "        65., 66., 67., 68., 69., 70., 71., 72., 73., 74., 75., 76., 77.,\n",
       "        78., 79., 80., 81., 82., 83., 84., 85., 86., 87., 88., 89., 90.,\n",
       "        91., 92., 93., 94., 95., 96., 97., 98., 99.])}"
      ]
     },
     "execution_count": 26,
     "metadata": {},
     "output_type": "execute_result"
    }
   ],
   "source": [
    "data_temp"
   ]
  },
  {
   "cell_type": "code",
   "execution_count": 8,
   "id": "9d747e8f-a93c-40e7-ab0e-879568c03d29",
   "metadata": {},
   "outputs": [
    {
     "data": {
      "text/plain": [
       "'/glade/scratch/ksha/DATA/NCAR_batch/TRAIN_day000_neg_neg_neg_indx18_indy48_lead3.npy'"
      ]
     },
     "execution_count": 8,
     "metadata": {},
     "output_type": "execute_result"
    }
   ],
   "source": [
    "name3"
   ]
  },
  {
   "cell_type": "code",
   "execution_count": 9,
   "id": "bda983b4-9df5-41ce-8ca4-f6811d597e13",
   "metadata": {},
   "outputs": [
    {
     "data": {
      "text/plain": [
       "'indx18_indy48_lead3'"
      ]
     },
     "execution_count": 9,
     "metadata": {},
     "output_type": "execute_result"
    }
   ],
   "source": [
    "patten_lead3"
   ]
  },
  {
   "cell_type": "code",
   "execution_count": 10,
   "id": "b995140b-efc1-4f2d-b400-28dfa8c4f22c",
   "metadata": {},
   "outputs": [
    {
     "data": {
      "text/plain": [
       "9"
      ]
     },
     "execution_count": 10,
     "metadata": {},
     "output_type": "execute_result"
    }
   ],
   "source": [
    "ind_temp4"
   ]
  },
  {
   "cell_type": "code",
   "execution_count": 11,
   "id": "889ae0e6-3ec1-4f4e-b955-0f0a6d12254f",
   "metadata": {},
   "outputs": [
    {
     "data": {
      "text/plain": [
       "36"
      ]
     },
     "execution_count": 11,
     "metadata": {},
     "output_type": "execute_result"
    }
   ],
   "source": [
    "flag"
   ]
  },
  {
   "cell_type": "code",
   "execution_count": 12,
   "id": "fc1dda8c-277d-443e-8113-d0b92ee5c5ff",
   "metadata": {},
   "outputs": [
    {
     "data": {
      "text/plain": [
       "True"
      ]
     },
     "execution_count": 12,
     "metadata": {},
     "output_type": "execute_result"
    }
   ],
   "source": [
    "np.logical_not(np.isnan(flag))"
   ]
  },
  {
   "cell_type": "code",
   "execution_count": 14,
   "id": "f8a809d7-a67b-4b59-af66-c3397d06f9d9",
   "metadata": {},
   "outputs": [
    {
     "data": {
      "text/plain": [
       "9.0"
      ]
     },
     "execution_count": 14,
     "metadata": {},
     "output_type": "execute_result"
    }
   ],
   "source": [
    "ind2[count-1]"
   ]
  },
  {
   "cell_type": "code",
   "execution_count": null,
   "id": "b2458a00-ae20-4168-a8da-1a6e7f214635",
   "metadata": {},
   "outputs": [],
   "source": []
  }
 ],
 "metadata": {
  "kernelspec": {
   "display_name": "Python 3 (ipykernel)",
   "language": "python",
   "name": "python3"
  },
  "language_info": {
   "codemirror_mode": {
    "name": "ipython",
    "version": 3
   },
   "file_extension": ".py",
   "mimetype": "text/x-python",
   "name": "python",
   "nbconvert_exporter": "python",
   "pygments_lexer": "ipython3",
   "version": "3.9.13"
  }
 },
 "nbformat": 4,
 "nbformat_minor": 5
}
