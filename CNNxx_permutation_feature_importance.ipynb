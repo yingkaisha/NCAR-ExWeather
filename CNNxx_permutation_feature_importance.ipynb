{
 "cells": [
  {
   "cell_type": "code",
   "execution_count": 1,
   "id": "526b4e1f-7ceb-48e7-9648-c24d1334645a",
   "metadata": {},
   "outputs": [],
   "source": [
    "# general tools\n",
    "import sys\n",
    "from glob import glob\n",
    "\n",
    "# data tools\n",
    "import time\n",
    "import h5py\n",
    "import random\n",
    "import numpy as np\n",
    "from random import shuffle\n",
    "\n",
    "import matplotlib.pyplot as plt\n",
    "%matplotlib inline"
   ]
  },
  {
   "cell_type": "code",
   "execution_count": 2,
   "id": "7183f49f-78a1-4589-948a-d14bee6b1345",
   "metadata": {},
   "outputs": [
    {
     "name": "stderr",
     "output_type": "stream",
     "text": [
      "2022-09-05 10:37:04.456244: I tensorflow/stream_executor/platform/default/dso_loader.cc:49] Successfully opened dynamic library libcudart.so.10.1\n"
     ]
    }
   ],
   "source": [
    "# deep learning tools\n",
    "import tensorflow as tf\n",
    "from tensorflow import keras\n",
    "from tensorflow.keras import layers\n",
    "tf.config.run_functions_eagerly(True)\n",
    "\n",
    "from keras_unet_collection import models as k_models\n",
    "from keras_unet_collection import utils as k_utils"
   ]
  },
  {
   "cell_type": "code",
   "execution_count": 3,
   "id": "1edb3616-1016-4129-8fbb-4c699897a05c",
   "metadata": {},
   "outputs": [],
   "source": [
    "sys.path.insert(0, '/glade/u/home/ksha/NCAR/')\n",
    "sys.path.insert(0, '/glade/u/home/ksha/NCAR/libs/')\n",
    "\n",
    "from namelist import *\n",
    "import data_utils as du\n",
    "import graph_utils as gu\n",
    "import convnext_keras as ck\n",
    "\n",
    "from sklearn.metrics import classification_report, auc, roc_curve\n",
    "from sklearn.metrics import confusion_matrix\n",
    "\n",
    "import matplotlib.pyplot as plt\n",
    "%matplotlib inline"
   ]
  },
  {
   "cell_type": "code",
   "execution_count": 4,
   "id": "952ea24f-76e0-4a3d-a661-f278d053a73c",
   "metadata": {},
   "outputs": [],
   "source": [
    "def test_metric(VALID_target, Y_pred, thres=0.5):\n",
    "\n",
    "    tn, fp, fn, tp = confusion_matrix(VALID_target.ravel(), Y_pred.ravel()>thres).ravel()\n",
    "\n",
    "    return tn, fp, fn, tp\n",
    "\n",
    "\n",
    "def verif_metric(VALID_target, Y_pred, thres=0.5):\n",
    "\n",
    "    tn, fp, fn, tp = confusion_matrix(VALID_target.ravel(), Y_pred.ravel()>thres).ravel()\n",
    "\n",
    "    CSI = tp/(tp+fn+fp)\n",
    "    CSI_metric = 1 - CSI\n",
    "\n",
    "    fpr, tpr, thresholds = roc_curve(VALID_target.ravel(), Y_pred.ravel())\n",
    "    AUC = auc(fpr, tpr)\n",
    "    AUC_metric = 1 - AUC\n",
    "    \n",
    "    freq = (tp+fp)/(tp+fn)\n",
    "    freq_metric = np.abs(freq-1.0)\n",
    "    \n",
    "    print('{} {} {}'.format(CSI, AUC, freq))\n",
    "    metric = CSI_metric\n",
    "\n",
    "\n",
    "    return metric"
   ]
  },
  {
   "cell_type": "code",
   "execution_count": 5,
   "id": "0df8a777-e72c-466a-9d7e-3278b4e299d6",
   "metadata": {},
   "outputs": [],
   "source": [
    "with h5py.File(save_dir_scratch+'VALID_real_lead{}.hdf'.format(21), 'r') as h5io:\n",
    "    TEST_input = h5io['TEST_input'][...]\n",
    "    TEST_target = h5io['TEST_target'][...]\n",
    "\n",
    "TEST_target[np.isnan(TEST_target)] = 0.0\n",
    "TEST_target[TEST_target!=0] = 1.0\n",
    "\n",
    "TEST_input = TEST_input[10000:15000, ...]\n",
    "TEST_target = TEST_target[10000:15000, ...]"
   ]
  },
  {
   "cell_type": "code",
   "execution_count": 6,
   "id": "8f831807-152b-414f-b685-fb9c4d35a5a7",
   "metadata": {},
   "outputs": [
    {
     "name": "stderr",
     "output_type": "stream",
     "text": [
      "2022-09-05 10:39:34.962773: I tensorflow/compiler/jit/xla_cpu_device.cc:41] Not creating XLA devices, tf_xla_enable_xla_devices not set\n",
      "2022-09-05 10:39:35.233788: I tensorflow/stream_executor/platform/default/dso_loader.cc:49] Successfully opened dynamic library libcuda.so.1\n",
      "2022-09-05 10:39:35.319259: I tensorflow/core/common_runtime/gpu/gpu_device.cc:1720] Found device 0 with properties: \n",
      "pciBusID: 0000:62:00.0 name: Tesla V100-SXM2-32GB computeCapability: 7.0\n",
      "coreClock: 1.53GHz coreCount: 80 deviceMemorySize: 31.75GiB deviceMemoryBandwidth: 836.37GiB/s\n",
      "2022-09-05 10:39:35.319323: I tensorflow/stream_executor/platform/default/dso_loader.cc:49] Successfully opened dynamic library libcudart.so.10.1\n",
      "2022-09-05 10:39:35.488955: I tensorflow/stream_executor/platform/default/dso_loader.cc:49] Successfully opened dynamic library libcublas.so.10\n",
      "2022-09-05 10:39:35.490452: I tensorflow/stream_executor/platform/default/dso_loader.cc:49] Successfully opened dynamic library libcublasLt.so.10\n",
      "2022-09-05 10:39:35.568945: I tensorflow/stream_executor/platform/default/dso_loader.cc:49] Successfully opened dynamic library libcufft.so.10\n",
      "2022-09-05 10:39:35.693427: I tensorflow/stream_executor/platform/default/dso_loader.cc:49] Successfully opened dynamic library libcurand.so.10\n",
      "2022-09-05 10:39:35.827204: I tensorflow/stream_executor/platform/default/dso_loader.cc:49] Successfully opened dynamic library libcusolver.so.10\n",
      "2022-09-05 10:39:35.933920: I tensorflow/stream_executor/platform/default/dso_loader.cc:49] Successfully opened dynamic library libcusparse.so.10\n",
      "2022-09-05 10:39:36.071553: I tensorflow/stream_executor/platform/default/dso_loader.cc:49] Successfully opened dynamic library libcudnn.so.7\n",
      "2022-09-05 10:39:36.073443: I tensorflow/core/common_runtime/gpu/gpu_device.cc:1862] Adding visible gpu devices: 0\n",
      "2022-09-05 10:39:36.151167: I tensorflow/core/platform/cpu_feature_guard.cc:142] This TensorFlow binary is optimized with oneAPI Deep Neural Network Library (oneDNN) to use the following CPU instructions in performance-critical operations:  SSE4.1 SSE4.2 AVX AVX2 AVX512F FMA\n",
      "To enable them in other operations, rebuild TensorFlow with the appropriate compiler flags.\n",
      "2022-09-05 10:39:36.151649: I tensorflow/compiler/jit/xla_gpu_device.cc:99] Not creating XLA devices, tf_xla_enable_xla_devices not set\n",
      "2022-09-05 10:39:36.152232: I tensorflow/core/common_runtime/gpu/gpu_device.cc:1720] Found device 0 with properties: \n",
      "pciBusID: 0000:62:00.0 name: Tesla V100-SXM2-32GB computeCapability: 7.0\n",
      "coreClock: 1.53GHz coreCount: 80 deviceMemorySize: 31.75GiB deviceMemoryBandwidth: 836.37GiB/s\n",
      "2022-09-05 10:39:36.152291: I tensorflow/stream_executor/platform/default/dso_loader.cc:49] Successfully opened dynamic library libcudart.so.10.1\n",
      "2022-09-05 10:39:36.152326: I tensorflow/stream_executor/platform/default/dso_loader.cc:49] Successfully opened dynamic library libcublas.so.10\n",
      "2022-09-05 10:39:36.152340: I tensorflow/stream_executor/platform/default/dso_loader.cc:49] Successfully opened dynamic library libcublasLt.so.10\n",
      "2022-09-05 10:39:36.152352: I tensorflow/stream_executor/platform/default/dso_loader.cc:49] Successfully opened dynamic library libcufft.so.10\n",
      "2022-09-05 10:39:36.152369: I tensorflow/stream_executor/platform/default/dso_loader.cc:49] Successfully opened dynamic library libcurand.so.10\n",
      "2022-09-05 10:39:36.152380: I tensorflow/stream_executor/platform/default/dso_loader.cc:49] Successfully opened dynamic library libcusolver.so.10\n",
      "2022-09-05 10:39:36.152392: I tensorflow/stream_executor/platform/default/dso_loader.cc:49] Successfully opened dynamic library libcusparse.so.10\n",
      "2022-09-05 10:39:36.152403: I tensorflow/stream_executor/platform/default/dso_loader.cc:49] Successfully opened dynamic library libcudnn.so.7\n",
      "2022-09-05 10:39:36.152959: I tensorflow/core/common_runtime/gpu/gpu_device.cc:1862] Adding visible gpu devices: 0\n",
      "2022-09-05 10:39:36.153009: I tensorflow/stream_executor/platform/default/dso_loader.cc:49] Successfully opened dynamic library libcudart.so.10.1\n",
      "2022-09-05 10:39:39.920464: I tensorflow/core/common_runtime/gpu/gpu_device.cc:1261] Device interconnect StreamExecutor with strength 1 edge matrix:\n",
      "2022-09-05 10:39:39.920518: I tensorflow/core/common_runtime/gpu/gpu_device.cc:1267]      0 \n",
      "2022-09-05 10:39:39.920543: I tensorflow/core/common_runtime/gpu/gpu_device.cc:1280] 0:   N \n",
      "2022-09-05 10:39:39.982784: I tensorflow/core/common_runtime/gpu/gpu_device.cc:1406] Created TensorFlow device (/job:localhost/replica:0/task:0/device:GPU:0 with 30132 MB memory) -> physical GPU (device: 0, name: Tesla V100-SXM2-32GB, pci bus id: 0000:62:00.0, compute capability: 7.0)\n"
     ]
    }
   ],
   "source": [
    "MODEL_CONFIGS = {\n",
    "\n",
    "    \"small\": {\n",
    "        \"depths\": [3, 3, 27, 3],\n",
    "        \"projection_dims\": [96, 192, 384, 768],\n",
    "}}\n",
    "\n",
    "model = ck.ConvNeXt(\n",
    "        depths=MODEL_CONFIGS[\"small\"][\"depths\"],\n",
    "        projection_dims=MODEL_CONFIGS[\"small\"][\"projection_dims\"],\n",
    "        drop_path_rate=0.0,\n",
    "        layer_scale_init_value=0.1,\n",
    "        model_name='test',\n",
    "        input_shape=(128, 128, 19),\n",
    "        pooling='max',\n",
    "        classes=1,)#0.5 #0.1 #1e-6"
   ]
  },
  {
   "cell_type": "code",
   "execution_count": 7,
   "id": "d595bbd5-583c-4361-949f-cbb17817f879",
   "metadata": {},
   "outputs": [],
   "source": [
    "batch_dir = '/glade/scratch/ksha/DATA/NCAR_batch/'\n",
    "temp_dir = '/glade/work/ksha/NCAR/Keras_models/'\n",
    "\n",
    "W_old = k_utils.dummy_loader(temp_dir+'CONVNEXT_Base_pp19_tune3')\n",
    "model.set_weights(W_old)\n",
    "\n",
    "model.compile(loss=keras.losses.mean_absolute_error, optimizer=keras.optimizers.SGD(lr=0))"
   ]
  },
  {
   "cell_type": "code",
   "execution_count": 8,
   "id": "107f8af9-759d-4a4d-a3dc-cd524f6e456c",
   "metadata": {},
   "outputs": [],
   "source": [
    "#"
   ]
  },
  {
   "cell_type": "code",
   "execution_count": 9,
   "id": "326269b9-dffb-4d76-87e5-f01fe2dcc415",
   "metadata": {},
   "outputs": [
    {
     "name": "stderr",
     "output_type": "stream",
     "text": [
      "/glade/work/ksha/anaconda3/lib/python3.9/site-packages/tensorflow/python/data/ops/dataset_ops.py:3503: UserWarning: Even though the tf.config.experimental_run_functions_eagerly option is set, this option does not apply to tf.data functions. tf.data functions are still traced and executed as graphs.\n",
      "  warnings.warn(\n",
      "2022-09-05 10:48:48.847461: I tensorflow/compiler/mlir/mlir_graph_optimization_pass.cc:116] None of the MLIR optimization passes are enabled (registered 2)\n",
      "2022-09-05 10:48:48.868974: I tensorflow/core/platform/profile_utils/cpu_utils.cc:112] CPU Frequency: 2600000000 Hz\n",
      "2022-09-05 10:48:49.694826: I tensorflow/stream_executor/platform/default/dso_loader.cc:49] Successfully opened dynamic library libcudnn.so.7\n",
      "2022-09-05 10:48:55.193249: I tensorflow/stream_executor/platform/default/dso_loader.cc:49] Successfully opened dynamic library libcublas.so.10\n"
     ]
    }
   ],
   "source": [
    "Y_pred = model.predict([TEST_input,])\n",
    "\n",
    "Y_pred[Y_pred<0.1] = 0\n",
    "Y_pred[Y_pred>1] = 1"
   ]
  },
  {
   "cell_type": "code",
   "execution_count": 10,
   "id": "ca6090c4-4838-419e-a817-c8f5f98fcd10",
   "metadata": {},
   "outputs": [
    {
     "name": "stdout",
     "output_type": "stream",
     "text": [
      "0.07623318385650224 0.7989000128118308 6.2727272727272725\n"
     ]
    },
    {
     "data": {
      "text/plain": [
       "0.9237668161434978"
      ]
     },
     "execution_count": 10,
     "metadata": {},
     "output_type": "execute_result"
    }
   ],
   "source": [
    "verif_metric(TEST_target, Y_pred, thres=0.5)"
   ]
  },
  {
   "cell_type": "code",
   "execution_count": 11,
   "id": "41c5b586-dc34-4d8f-88a5-d1e7aed12409",
   "metadata": {},
   "outputs": [
    {
     "data": {
      "text/plain": [
       "(4777, 190, 16, 17)"
      ]
     },
     "execution_count": 11,
     "metadata": {},
     "output_type": "execute_result"
    }
   ],
   "source": [
    "test_metric(TEST_target, Y_pred, thres=0.5)\n",
    "#tn, fp, fn, tp"
   ]
  },
  {
   "cell_type": "code",
   "execution_count": null,
   "id": "7d01033e-4f50-49fe-b0cd-9d553aa65768",
   "metadata": {},
   "outputs": [
    {
     "name": "stdout",
     "output_type": "stream",
     "text": [
      "shuffling var 0\n"
     ]
    },
    {
     "name": "stderr",
     "output_type": "stream",
     "text": [
      "/glade/work/ksha/anaconda3/lib/python3.9/site-packages/tensorflow/python/data/ops/dataset_ops.py:3503: UserWarning: Even though the tf.config.experimental_run_functions_eagerly option is set, this option does not apply to tf.data functions. tf.data functions are still traced and executed as graphs.\n",
      "  warnings.warn(\n"
     ]
    },
    {
     "name": "stdout",
     "output_type": "stream",
     "text": [
      "--- 2870.4319467544556 seconds ---\n",
      "shuffling var 1\n"
     ]
    }
   ],
   "source": [
    "L_valid = len(TEST_input)\n",
    "\n",
    "rounds = 2\n",
    "N_var = 19\n",
    "AUC_drop = np.empty((N_var, 4, 2))\n",
    "\n",
    "for r in range(rounds):\n",
    "    for n in range(N_var):\n",
    "        start_time = time.time()\n",
    "        print('shuffling var {}'.format(n))\n",
    "\n",
    "        ind_ = du.shuffle_ind(L_valid)\n",
    "        TEST_input_shuffle = np.copy(TEST_input)\n",
    "        TEST_input_shuffle[..., n] = TEST_input_shuffle[ind_, ..., n]\n",
    "\n",
    "        Y_pred = model.predict([TEST_input_shuffle,])\n",
    "        \n",
    "        Y_pred[Y_pred<0.1] = 0\n",
    "        Y_pred[Y_pred>1] = 1\n",
    "        \n",
    "        AUC_drop[n, :, r] = test_metric(TEST_target, Y_pred, thres=0.5)\n",
    "        print(\"--- %s seconds ---\" % (time.time() - start_time))\n",
    "\n",
    "np.save(temp_dir+model_name+'_FI.npy', AUC_drop)"
   ]
  },
  {
   "cell_type": "code",
   "execution_count": null,
   "id": "27372e17-ce77-47cb-b0ce-c8868bef82dd",
   "metadata": {},
   "outputs": [],
   "source": [
    "3000/60/60"
   ]
  },
  {
   "cell_type": "code",
   "execution_count": 22,
   "id": "e0457c79-f2b0-4e0c-b53b-6173a1d64097",
   "metadata": {},
   "outputs": [
    {
     "data": {
      "text/plain": [
       "array([4.68801253e-310, 0.00000000e+000, 2.37151510e-322, 4.68803788e-310])"
      ]
     },
     "execution_count": 22,
     "metadata": {},
     "output_type": "execute_result"
    }
   ],
   "source": [
    "AUC_drop[0, :, r]"
   ]
  },
  {
   "cell_type": "code",
   "execution_count": null,
   "id": "5742bbaa-1f72-4973-bd40-6db4dbdeaf3c",
   "metadata": {},
   "outputs": [],
   "source": []
  },
  {
   "cell_type": "code",
   "execution_count": null,
   "id": "d3f612d5-79f6-415c-b15f-e867d00637f3",
   "metadata": {},
   "outputs": [],
   "source": []
  },
  {
   "cell_type": "code",
   "execution_count": null,
   "id": "defe7a6d-0175-4532-933c-83b197835780",
   "metadata": {},
   "outputs": [],
   "source": []
  },
  {
   "cell_type": "code",
   "execution_count": 48,
   "id": "ec01a119-2cab-476f-9e90-0bbe94e81557",
   "metadata": {},
   "outputs": [
    {
     "name": "stdout",
     "output_type": "stream",
     "text": [
      "Maximum/Composite radar reflectivity:dB (instant):lambert:atmosphere:level 0\n",
      "MSLP (MAPS System Reduction):Pa (instant):lambert:meanSea:level 0\n",
      "Updraft helicity (max):lambert:heightAboveGroundLayer:levels 5000-2000 m\n",
      "Updraft helicity (max):lambert:heightAboveGroundLayer:levels 2000-0 m\n",
      "Updraft helicity (max):lambert:heightAboveGroundLayer:levels 3000-0 m\n",
      "2 metre temperature:K (instant):lambert:heightAboveGround:level 2 m\n",
      "2 metre dewpoint temperature:K (instant):lambert:heightAboveGround:level 2 m\n",
      "10 metre U wind component:m s**-1 (instant):lambert:heightAboveGround:level 10 m\n",
      "10 metre V wind component:m s**-1 (instant):lambert:heightAboveGround:level 10 m\n",
      "10 metre wind speed:m s**-1 (max):lambert:heightAboveGround:level 10 m\n",
      "Total Precipitation:kg m**-2 (accum):lambert:surface:level 0\n",
      "Convective available potential energy:J kg**-1 (instant):lambert:surface:level 0\n",
      "Convective inhibition:J kg**-1 (instant):lambert:surface:level 0\n",
      "Storm relative helicity:J kg**-1 (instant):lambert:heightAboveGroundLayer:levels 3000-0 m\n",
      "Storm relative helicity:J kg**-1 (instant):lambert:heightAboveGroundLayer:levels 1000-0 m\n",
      "Vertical u-component shear:s**-1 (instant):lambert:heightAboveGroundLayer:levels 0-1000 m\n",
      "Vertical v-component shear:s**-1 (instant):lambert:heightAboveGroundLayer:levels 0-1000 m\n",
      "Vertical u-component shear:s**-1 (instant):lambert:heightAboveGroundLayer:levels 0-6000 m\n",
      "Vertical v-component shear:s**-1 (instant):lambert:heightAboveGroundLayer:levels 0-6000 m\n"
     ]
    }
   ],
   "source": [
    "names = [\n",
    "    'Maximum/Composite radar reflectivity:dB (instant):lambert:atmosphere:level 0',\n",
    "    'MSLP (MAPS System Reduction):Pa (instant):lambert:meanSea:level 0',\n",
    "    'AGL reflectivity (max):lambert:heightAboveGround:level 1000 m',\n",
    "    'Updraft helicity (max):lambert:heightAboveGroundLayer:levels 5000-2000 m',\n",
    "    'Updraft helicity (max):lambert:heightAboveGroundLayer:levels 2000-0 m',\n",
    "    'Updraft helicity (max):lambert:heightAboveGroundLayer:levels 3000-0 m',\n",
    "    'Vorticity (relative):s**-1 (max):lambert:heightAboveGroundLayer:levels 2000-0 m',\n",
    "    'Vorticity (relative):s**-1 (max):lambert:heightAboveGroundLayer:levels 1000-0 m',\n",
    "    'Column integrated graupel mass (max):lambert:atmosphereSingleLayer:level 0 considered as a single layer',\n",
    "    '2 metre temperature:K (instant):lambert:heightAboveGround:level 2 m',\n",
    "    '2 metre dewpoint temperature:K (instant):lambert:heightAboveGround:level 2 m',\n",
    "    '10 metre U wind component:m s**-1 (instant):lambert:heightAboveGround:level 10 m',\n",
    "    '10 metre V wind component:m s**-1 (instant):lambert:heightAboveGround:level 10 m',\n",
    "    '10 metre wind speed:m s**-1 (max):lambert:heightAboveGround:level 10 m',\n",
    "    'Total Precipitation:kg m**-2 (accum):lambert:surface:level 0',\n",
    "    'Convective available potential energy:J kg**-1 (instant):lambert:surface:level 0',\n",
    "    'Convective inhibition:J kg**-1 (instant):lambert:surface:level 0',\n",
    "    'Storm relative helicity:J kg**-1 (instant):lambert:heightAboveGroundLayer:levels 3000-0 m',\n",
    "    'Storm relative helicity:J kg**-1 (instant):lambert:heightAboveGroundLayer:levels 1000-0 m',\n",
    "    'Vertical u-component shear:s**-1 (instant):lambert:heightAboveGroundLayer:levels 0-1000 m',\n",
    "    'Vertical v-component shear:s**-1 (instant):lambert:heightAboveGroundLayer:levels 0-1000 m',\n",
    "    'Vertical u-component shear:s**-1 (instant):lambert:heightAboveGroundLayer:levels 0-6000 m',\n",
    "    'Vertical v-component shear:s**-1 (instant):lambert:heightAboveGroundLayer:levels 0-6000 m'\n",
    "]\n",
    "\n",
    "name_pick = []\n",
    "for i in [0, 1, 3, 4, 5, 9, 10, 11, 12, 13, 14, 15, 16, 17, 18, 19, 20, 21, 22]:\n",
    "    print(names[i])\n",
    "    name_pick.append(names[i])\n",
    "    \n",
    "name_pick.append('Climatology')"
   ]
  },
  {
   "cell_type": "code",
   "execution_count": 52,
   "id": "e7b8485e-a336-426a-9c25-95206c19af12",
   "metadata": {},
   "outputs": [
    {
     "data": {
      "text/plain": [
       "array([10,  4,  2,  3, 14, 19, 15,  9,  6,  8,  7,  0, 13, 16,  1,  5, 17,\n",
       "       18, 12, 11])"
      ]
     },
     "execution_count": 52,
     "metadata": {},
     "output_type": "execute_result"
    }
   ],
   "source": [
    "np.argsort(np.abs(AUC_drop[:, 0]))"
   ]
  },
  {
   "cell_type": "code",
   "execution_count": 57,
   "id": "d91e21ed-4ae1-40ea-8b51-2c867ee713e2",
   "metadata": {},
   "outputs": [
    {
     "data": {
      "text/plain": [
       "0.038819081730771754"
      ]
     },
     "execution_count": 57,
     "metadata": {},
     "output_type": "execute_result"
    }
   ],
   "source": [
    "np.abs(AUC_drop[0, 0])"
   ]
  },
  {
   "cell_type": "code",
   "execution_count": 49,
   "id": "ff07fb96-6b30-45a0-8708-974acb94100e",
   "metadata": {},
   "outputs": [
    {
     "name": "stdout",
     "output_type": "stream",
     "text": [
      "[0.05299142] --- MSLP (MAPS System Reduction):Pa (instant):lambert:meanSea:level 0\n",
      "[0.05688881] --- 2 metre temperature:K (instant):lambert:heightAboveGround:level 2 m\n",
      "[0.17339486] --- Convective available potential energy:J kg**-1 (instant):lambert:surface:level 0\n",
      "[0.06764561] --- Convective inhibition:J kg**-1 (instant):lambert:surface:level 0\n",
      "[0.04045835] --- Storm relative helicity:J kg**-1 (instant):lambert:heightAboveGroundLayer:levels 3000-0 m\n",
      "[0.04131814] --- Vertical v-component shear:s**-1 (instant):lambert:heightAboveGroundLayer:levels 0-1000 m\n",
      "[0.0588257] --- Vertical u-component shear:s**-1 (instant):lambert:heightAboveGroundLayer:levels 0-6000 m\n",
      "[0.06538276] --- Vertical v-component shear:s**-1 (instant):lambert:heightAboveGroundLayer:levels 0-6000 m\n"
     ]
    }
   ],
   "source": [
    "for i in range(20):\n",
    "    if np.abs(AUC_drop[i]) > 0.04:\n",
    "        print('{} --- {}'.format(np.abs(AUC_drop[i]), name_pick[i]))"
   ]
  },
  {
   "cell_type": "markdown",
   "id": "8e47da84-2a87-42ed-b041-8bf40c01e056",
   "metadata": {},
   "source": [
    "**Final decision**\n",
    "\n",
    "* Maximum/Composite radar reflectivity:dB (instant):lambert:atmosphere:level 0\n",
    "* MSLP (MAPS System Reduction):Pa (instant):lambert:meanSea:level 0\n",
    "* 2 metre temperature:K (instant):lambert:heightAboveGround:level 2 m\n",
    "* Convective available potential energy:J kg**-1 (instant):lambert:surface:level 0\n",
    "* Convective inhibition:J kg**-1 (instant):lambert:surface:level 0\n",
    "* Storm relative helicity:J kg**-1 (instant):lambert:heightAboveGroundLayer:levels 3000-0 m\n",
    "* Vertical u-component shear:s**-1 (instant):lambert:heightAboveGroundLayer:levels 0-6000 m\n",
    "* Vertical v-component shear:s**-1 (instant):lambert:heightAboveGroundLayer:levels 0-6000 m"
   ]
  },
  {
   "cell_type": "code",
   "execution_count": 44,
   "id": "aefc924d-ae1b-4b46-932f-23197c985799",
   "metadata": {},
   "outputs": [
    {
     "ename": "IndexError",
     "evalue": "boolean index did not match indexed array along dimension 0; dimension is 20 but corresponding boolean dimension is 1",
     "output_type": "error",
     "traceback": [
      "\u001b[0;31m---------------------------------------------------------------------------\u001b[0m",
      "\u001b[0;31mIndexError\u001b[0m                                Traceback (most recent call last)",
      "Input \u001b[0;32mIn [44]\u001b[0m, in \u001b[0;36m<cell line: 1>\u001b[0;34m()\u001b[0m\n\u001b[0;32m----> 1\u001b[0m \u001b[43mnp\u001b[49m\u001b[38;5;241;43m.\u001b[39;49m\u001b[43marray\u001b[49m\u001b[43m(\u001b[49m\u001b[43mname_pick\u001b[49m\u001b[43m)\u001b[49m\u001b[43m[\u001b[49m\u001b[43mnp\u001b[49m\u001b[38;5;241;43m.\u001b[39;49m\u001b[43mabs\u001b[49m\u001b[43m(\u001b[49m\u001b[43mAUC_drop\u001b[49m\u001b[43m[\u001b[49m\u001b[43mi\u001b[49m\u001b[43m]\u001b[49m\u001b[43m)\u001b[49m\u001b[38;5;241;43m>\u001b[39;49m\u001b[38;5;241;43m0.04\u001b[39;49m\u001b[43m]\u001b[49m\n",
      "\u001b[0;31mIndexError\u001b[0m: boolean index did not match indexed array along dimension 0; dimension is 20 but corresponding boolean dimension is 1"
     ]
    }
   ],
   "source": [
    "np.array(name_pick)[np.abs(AUC_drop[i])>0.04]"
   ]
  },
  {
   "cell_type": "code",
   "execution_count": 45,
   "id": "f5bbd67a-3c2c-474c-9b39-7291e877ace1",
   "metadata": {},
   "outputs": [
    {
     "data": {
      "text/plain": [
       "array(['Maximum/Composite radar reflectivity:dB (instant):lambert:atmosphere:level 0',\n",
       "       'MSLP (MAPS System Reduction):Pa (instant):lambert:meanSea:level 0',\n",
       "       'Updraft helicity (max):lambert:heightAboveGroundLayer:levels 5000-2000 m',\n",
       "       'Updraft helicity (max):lambert:heightAboveGroundLayer:levels 2000-0 m',\n",
       "       'Updraft helicity (max):lambert:heightAboveGroundLayer:levels 3000-0 m',\n",
       "       '2 metre temperature:K (instant):lambert:heightAboveGround:level 2 m',\n",
       "       '2 metre dewpoint temperature:K (instant):lambert:heightAboveGround:level 2 m',\n",
       "       '10 metre U wind component:m s**-1 (instant):lambert:heightAboveGround:level 10 m',\n",
       "       '10 metre V wind component:m s**-1 (instant):lambert:heightAboveGround:level 10 m',\n",
       "       '10 metre wind speed:m s**-1 (max):lambert:heightAboveGround:level 10 m',\n",
       "       'Total Precipitation:kg m**-2 (accum):lambert:surface:level 0',\n",
       "       'Convective available potential energy:J kg**-1 (instant):lambert:surface:level 0',\n",
       "       'Convective inhibition:J kg**-1 (instant):lambert:surface:level 0',\n",
       "       'Storm relative helicity:J kg**-1 (instant):lambert:heightAboveGroundLayer:levels 3000-0 m',\n",
       "       'Storm relative helicity:J kg**-1 (instant):lambert:heightAboveGroundLayer:levels 1000-0 m',\n",
       "       'Vertical u-component shear:s**-1 (instant):lambert:heightAboveGroundLayer:levels 0-1000 m',\n",
       "       'Vertical v-component shear:s**-1 (instant):lambert:heightAboveGroundLayer:levels 0-1000 m',\n",
       "       'Vertical u-component shear:s**-1 (instant):lambert:heightAboveGroundLayer:levels 0-6000 m',\n",
       "       'Vertical v-component shear:s**-1 (instant):lambert:heightAboveGroundLayer:levels 0-6000 m',\n",
       "       'Climatology'], dtype='<U89')"
      ]
     },
     "execution_count": 45,
     "metadata": {},
     "output_type": "execute_result"
    }
   ],
   "source": [
    "np.array(name_pick)"
   ]
  },
  {
   "cell_type": "code",
   "execution_count": null,
   "id": "8ad3967d-6be5-4238-bc52-c7d6584d4be0",
   "metadata": {},
   "outputs": [],
   "source": []
  }
 ],
 "metadata": {
  "kernelspec": {
   "display_name": "Python 3 (ipykernel)",
   "language": "python",
   "name": "python3"
  },
  "language_info": {
   "codemirror_mode": {
    "name": "ipython",
    "version": 3
   },
   "file_extension": ".py",
   "mimetype": "text/x-python",
   "name": "python",
   "nbconvert_exporter": "python",
   "pygments_lexer": "ipython3",
   "version": "3.9.13"
  }
 },
 "nbformat": 4,
 "nbformat_minor": 5
}
