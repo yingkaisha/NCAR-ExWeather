{
 "cells": [
  {
   "cell_type": "code",
   "execution_count": 1,
   "id": "f7085e38",
   "metadata": {},
   "outputs": [
    {
     "name": "stderr",
     "output_type": "stream",
     "text": [
      "2023-04-30 22:06:14.838024: I tensorflow/stream_executor/platform/default/dso_loader.cc:49] Successfully opened dynamic library libcudart.so.10.1\n"
     ]
    }
   ],
   "source": [
    "# general tools\n",
    "import os\n",
    "import sys\n",
    "from glob import glob\n",
    "\n",
    "# data tools\n",
    "import re\n",
    "import time\n",
    "import h5py\n",
    "import random\n",
    "import numpy as np\n",
    "import scipy.ndimage\n",
    "from random import shuffle\n",
    "from tensorflow import keras\n",
    "from datetime import datetime, timedelta\n",
    "\n",
    "#tf.config.run_functions_eagerly(True)\n",
    "\n",
    "sys.path.insert(0, '/glade/u/home/ksha/NCAR/')\n",
    "sys.path.insert(0, '/glade/u/home/ksha/NCAR/libs/')\n",
    "\n",
    "from namelist import *\n",
    "import data_utils as du\n",
    "import model_utils as mu"
   ]
  },
  {
   "cell_type": "code",
   "execution_count": 2,
   "id": "ac09dcdf-0dc3-4ecc-82a9-64d5d14de6c3",
   "metadata": {},
   "outputs": [],
   "source": [
    "import matplotlib.pyplot as plt\n",
    "%matplotlib inline"
   ]
  },
  {
   "cell_type": "code",
   "execution_count": 3,
   "id": "f765a734-5c8c-422e-ad33-cc9331f49cd1",
   "metadata": {},
   "outputs": [],
   "source": [
    "# import importlib\n",
    "# importlib.reload(mu)"
   ]
  },
  {
   "cell_type": "code",
   "execution_count": null,
   "id": "0f6e1f7f-f9a1-4c06-ba87-fa1520249082",
   "metadata": {},
   "outputs": [],
   "source": []
  },
  {
   "cell_type": "code",
   "execution_count": 4,
   "id": "bd3f3d05-1099-4d04-bec6-5820a87b54dd",
   "metadata": {},
   "outputs": [],
   "source": [
    "def verif_metric(VALID_target, Y_pred):\n",
    "    BS = np.mean((VALID_target.ravel() - Y_pred.ravel())**2)\n",
    "    metric = BS\n",
    "    return metric\n",
    "\n",
    "def neighbour_leads(lead):\n",
    "    out = [lead-2, lead-1, lead, lead+1]\n",
    "    flag_shift = [0, 0, 0, 0]\n",
    "    \n",
    "    for i in range(4):\n",
    "        if out[i] < 0:\n",
    "            out[i] = 24+out[i]\n",
    "            flag_shift[i] = -1\n",
    "        if out[i] > 23:\n",
    "            out[i] = out[i]-24\n",
    "            flag_shift[i] = +1\n",
    "            \n",
    "    return out, flag_shift\n",
    "\n",
    "\n",
    "def filename_to_loc(filenames):\n",
    "    lead_out = []\n",
    "    indx_out = []\n",
    "    indy_out = []\n",
    "    day_out = []\n",
    "    \n",
    "    for i, name in enumerate(filenames):\n",
    "        \n",
    "        nums = re.findall(r'\\d+', name)\n",
    "        \n",
    "        lead = int(nums[-1])\n",
    "        indy = int(nums[-2])\n",
    "        indx = int(nums[-3])\n",
    "        day = int(nums[-4])\n",
    "      \n",
    "        indx_out.append(indx)\n",
    "        indy_out.append(indy)\n",
    "        day_out.append(day)\n",
    "        lead_out.append(lead)\n",
    "        \n",
    "    return np.array(indx_out), np.array(indy_out), np.array(day_out), np.array(lead_out)"
   ]
  },
  {
   "cell_type": "code",
   "execution_count": null,
   "id": "573a546e",
   "metadata": {},
   "outputs": [],
   "source": []
  },
  {
   "cell_type": "code",
   "execution_count": 5,
   "id": "4b33159f",
   "metadata": {},
   "outputs": [],
   "source": [
    "ind_pick_from_batch = [0, 1, 2, 3, 4, 5, 6, 7, 8, 9, 10, 11, 12, 13, 14]\n",
    "\n",
    "with h5py.File(save_dir+'CNN_Validation_basic.hdf', 'r') as h5io:\n",
    "    VALID_input_64 = h5io['VALID_input_64'][...]\n",
    "    VALID_target = h5io['VALID_target'][...]"
   ]
  },
  {
   "cell_type": "markdown",
   "id": "ed057272-66e9-4907-b0b3-cbd2dccf9ed3",
   "metadata": {},
   "source": [
    "**base basic**"
   ]
  },
  {
   "cell_type": "code",
   "execution_count": 9,
   "id": "e86e74a5-01cc-41e9-ad45-23780306ebef",
   "metadata": {},
   "outputs": [],
   "source": [
    "# ==================== #\n",
    "weights_round = 1\n",
    "save_round = 2\n",
    "seeds = 711 #777\n",
    "model_prefix_load = 'RE3_smooth_basic{}'.format(weights_round) #False\n",
    "model_prefix_save = 'RE3_smooth_basic{}'.format(save_round)\n",
    "N_vars = L_vars = 15\n",
    "lr = 1e-4\n",
    "# ==================== #"
   ]
  },
  {
   "cell_type": "code",
   "execution_count": 10,
   "id": "bff6cc71",
   "metadata": {},
   "outputs": [],
   "source": [
    "# ----------------------------------------------------------------- #\n",
    "# model and weights\n",
    "model_head = mu.create_model_head(input_shape=(128,), N_node=64)\n",
    "model_base = mu.create_model_base(input_shape=(64, 64, 15), depths=[3, 3, 27, 3], projection_dims=[32, 64, 96, 128], first_pool=4)\n",
    "\n",
    "IN = keras.layers.Input(shape=(64, 64, 15))\n",
    "\n",
    "VEC = model_base(IN)\n",
    "OUT = model_head(VEC)\n",
    "\n",
    "model_final = keras.models.Model(inputs=IN, outputs=OUT)"
   ]
  },
  {
   "cell_type": "code",
   "execution_count": 11,
   "id": "c79db583",
   "metadata": {},
   "outputs": [],
   "source": [
    "# ============================================= #\n",
    "# Weights\n",
    "\n",
    "if weights_round > 0:\n",
    "    if model_prefix_load:\n",
    "        W_old = mu.dummy_loader('/glade/work/ksha/NCAR/Keras_models/{}/'.format(model_prefix_load))\n",
    "        model_final.set_weights(W_old)\n",
    "    \n",
    "model_final.compile(loss=keras.losses.BinaryCrossentropy(from_logits=False), optimizer=keras.optimizers.Adam(lr=lr))\n"
   ]
  },
  {
   "cell_type": "code",
   "execution_count": 12,
   "id": "c46875f0",
   "metadata": {},
   "outputs": [
    {
     "name": "stderr",
     "output_type": "stream",
     "text": [
      "2023-04-29 08:36:11.774577: I tensorflow/compiler/mlir/mlir_graph_optimization_pass.cc:116] None of the MLIR optimization passes are enabled (registered 2)\n",
      "2023-04-29 08:36:11.803079: I tensorflow/core/platform/profile_utils/cpu_utils.cc:112] CPU Frequency: 2300000000 Hz\n",
      "2023-04-29 08:36:16.845970: I tensorflow/stream_executor/platform/default/dso_loader.cc:49] Successfully opened dynamic library libcublas.so.10\n",
      "2023-04-29 08:36:17.856226: I tensorflow/stream_executor/platform/default/dso_loader.cc:49] Successfully opened dynamic library libcudnn.so.7\n"
     ]
    }
   ],
   "source": [
    "# ----------------------------------------------------------------- #\n",
    "# model training loop\n",
    "Y_pred = model_final.predict([VALID_input_64])\n",
    "record_temp = verif_metric(VALID_target, Y_pred)"
   ]
  },
  {
   "cell_type": "code",
   "execution_count": 13,
   "id": "dc105378",
   "metadata": {},
   "outputs": [
    {
     "name": "stdout",
     "output_type": "stream",
     "text": [
      "0.025065149177196624\n"
     ]
    }
   ],
   "source": [
    "# Change based on smoothed labels\n",
    "print(record_temp)"
   ]
  },
  {
   "cell_type": "code",
   "execution_count": null,
   "id": "fbd1d1c5-72ef-45ae-bc33-4bacc5d6e1c4",
   "metadata": {},
   "outputs": [],
   "source": []
  },
  {
   "cell_type": "code",
   "execution_count": null,
   "id": "2bac31a8-04a2-4476-ba76-9271d839b935",
   "metadata": {},
   "outputs": [],
   "source": []
  },
  {
   "cell_type": "code",
   "execution_count": 6,
   "id": "8fe945ae-ae35-464a-9ef9-965ed19ed4f1",
   "metadata": {},
   "outputs": [],
   "source": [
    "weights_round = 2\n",
    "save_round = 3\n",
    "seeds = 711 #777\n",
    "model_prefix_load = 'RE3_smooth_large{}'.format(weights_round) #False\n",
    "model_prefix_save = 'RE3_smooth_large{}'.format(save_round)"
   ]
  },
  {
   "cell_type": "code",
   "execution_count": 7,
   "id": "c17de5a5",
   "metadata": {},
   "outputs": [
    {
     "name": "stderr",
     "output_type": "stream",
     "text": [
      "2023-04-29 22:34:10.262798: I tensorflow/compiler/jit/xla_cpu_device.cc:41] Not creating XLA devices, tf_xla_enable_xla_devices not set\n",
      "2023-04-29 22:34:10.275299: I tensorflow/stream_executor/platform/default/dso_loader.cc:49] Successfully opened dynamic library libcuda.so.1\n",
      "2023-04-29 22:34:10.434720: I tensorflow/core/common_runtime/gpu/gpu_device.cc:1720] Found device 0 with properties: \n",
      "pciBusID: 0000:b3:00.0 name: Tesla V100-SXM2-32GB computeCapability: 7.0\n",
      "coreClock: 1.53GHz coreCount: 80 deviceMemorySize: 31.75GiB deviceMemoryBandwidth: 836.37GiB/s\n",
      "2023-04-29 22:34:10.434795: I tensorflow/stream_executor/platform/default/dso_loader.cc:49] Successfully opened dynamic library libcudart.so.10.1\n",
      "2023-04-29 22:34:10.627398: I tensorflow/stream_executor/platform/default/dso_loader.cc:49] Successfully opened dynamic library libcublas.so.10\n",
      "2023-04-29 22:34:10.627467: I tensorflow/stream_executor/platform/default/dso_loader.cc:49] Successfully opened dynamic library libcublasLt.so.10\n",
      "2023-04-29 22:34:10.801094: I tensorflow/stream_executor/platform/default/dso_loader.cc:49] Successfully opened dynamic library libcufft.so.10\n",
      "2023-04-29 22:34:10.916600: I tensorflow/stream_executor/platform/default/dso_loader.cc:49] Successfully opened dynamic library libcurand.so.10\n",
      "2023-04-29 22:34:11.002606: I tensorflow/stream_executor/platform/default/dso_loader.cc:49] Successfully opened dynamic library libcusolver.so.10\n",
      "2023-04-29 22:34:11.063579: I tensorflow/stream_executor/platform/default/dso_loader.cc:49] Successfully opened dynamic library libcusparse.so.10\n",
      "2023-04-29 22:34:11.204091: I tensorflow/stream_executor/platform/default/dso_loader.cc:49] Successfully opened dynamic library libcudnn.so.7\n",
      "2023-04-29 22:34:11.205302: I tensorflow/core/common_runtime/gpu/gpu_device.cc:1862] Adding visible gpu devices: 0\n",
      "2023-04-29 22:34:11.232409: I tensorflow/core/platform/cpu_feature_guard.cc:142] This TensorFlow binary is optimized with oneAPI Deep Neural Network Library (oneDNN) to use the following CPU instructions in performance-critical operations:  SSE4.1 SSE4.2 AVX AVX2 AVX512F FMA\n",
      "To enable them in other operations, rebuild TensorFlow with the appropriate compiler flags.\n",
      "2023-04-29 22:34:11.232690: I tensorflow/compiler/jit/xla_gpu_device.cc:99] Not creating XLA devices, tf_xla_enable_xla_devices not set\n",
      "2023-04-29 22:34:11.233408: I tensorflow/core/common_runtime/gpu/gpu_device.cc:1720] Found device 0 with properties: \n",
      "pciBusID: 0000:b3:00.0 name: Tesla V100-SXM2-32GB computeCapability: 7.0\n",
      "coreClock: 1.53GHz coreCount: 80 deviceMemorySize: 31.75GiB deviceMemoryBandwidth: 836.37GiB/s\n",
      "2023-04-29 22:34:11.233450: I tensorflow/stream_executor/platform/default/dso_loader.cc:49] Successfully opened dynamic library libcudart.so.10.1\n",
      "2023-04-29 22:34:11.233474: I tensorflow/stream_executor/platform/default/dso_loader.cc:49] Successfully opened dynamic library libcublas.so.10\n",
      "2023-04-29 22:34:11.233486: I tensorflow/stream_executor/platform/default/dso_loader.cc:49] Successfully opened dynamic library libcublasLt.so.10\n",
      "2023-04-29 22:34:11.233498: I tensorflow/stream_executor/platform/default/dso_loader.cc:49] Successfully opened dynamic library libcufft.so.10\n",
      "2023-04-29 22:34:11.233510: I tensorflow/stream_executor/platform/default/dso_loader.cc:49] Successfully opened dynamic library libcurand.so.10\n",
      "2023-04-29 22:34:11.233521: I tensorflow/stream_executor/platform/default/dso_loader.cc:49] Successfully opened dynamic library libcusolver.so.10\n",
      "2023-04-29 22:34:11.233533: I tensorflow/stream_executor/platform/default/dso_loader.cc:49] Successfully opened dynamic library libcusparse.so.10\n",
      "2023-04-29 22:34:11.233545: I tensorflow/stream_executor/platform/default/dso_loader.cc:49] Successfully opened dynamic library libcudnn.so.7\n",
      "2023-04-29 22:34:11.234505: I tensorflow/core/common_runtime/gpu/gpu_device.cc:1862] Adding visible gpu devices: 0\n",
      "2023-04-29 22:34:11.234563: I tensorflow/stream_executor/platform/default/dso_loader.cc:49] Successfully opened dynamic library libcudart.so.10.1\n",
      "2023-04-29 22:34:14.115503: I tensorflow/core/common_runtime/gpu/gpu_device.cc:1261] Device interconnect StreamExecutor with strength 1 edge matrix:\n",
      "2023-04-29 22:34:14.115542: I tensorflow/core/common_runtime/gpu/gpu_device.cc:1267]      0 \n",
      "2023-04-29 22:34:14.115576: I tensorflow/core/common_runtime/gpu/gpu_device.cc:1280] 0:   N \n",
      "2023-04-29 22:34:14.145082: I tensorflow/core/common_runtime/gpu/gpu_device.cc:1406] Created TensorFlow device (/job:localhost/replica:0/task:0/device:GPU:0 with 30132 MB memory) -> physical GPU (device: 0, name: Tesla V100-SXM2-32GB, pci bus id: 0000:b3:00.0, compute capability: 7.0)\n"
     ]
    }
   ],
   "source": [
    "# ----------------------------------------------------------------- #\n",
    "# model and weights\n",
    "model_head = mu.create_model_head(input_shape=(512,), N_node=64)\n",
    "model_base = mu.create_model_large(input_shape=(64, 64, 15), depths=[3, 3, 27, 3], projection_dims=[96, 128, 256, 512], first_pool=4)\n",
    "\n",
    "IN = keras.layers.Input(shape=(64, 64, 15))\n",
    "\n",
    "VEC = model_base(IN)\n",
    "OUT = model_head(VEC)\n",
    "\n",
    "model_final = keras.models.Model(inputs=IN, outputs=OUT)"
   ]
  },
  {
   "cell_type": "code",
   "execution_count": 9,
   "id": "41cf128f-e1ca-4050-89f1-d6b5fede6672",
   "metadata": {},
   "outputs": [],
   "source": [
    "# Weights\n",
    "if weights_round > 0:\n",
    "    if model_prefix_load:\n",
    "        W_old = mu.dummy_loader('/glade/work/ksha/NCAR/Keras_models/{}/'.format(model_prefix_load))\n",
    "        model_final.set_weights(W_old)\n",
    "    \n",
    "#model_final.compile(loss=keras.losses.BinaryCrossentropy(from_logits=False), optimizer=keras.optimizers.Adam(lr=lr))"
   ]
  },
  {
   "cell_type": "code",
   "execution_count": 10,
   "id": "bc0eb08b-820a-482b-b6d6-dd939ba46a43",
   "metadata": {},
   "outputs": [
    {
     "name": "stderr",
     "output_type": "stream",
     "text": [
      "2023-04-29 22:35:18.455457: I tensorflow/compiler/mlir/mlir_graph_optimization_pass.cc:116] None of the MLIR optimization passes are enabled (registered 2)\n",
      "2023-04-29 22:35:18.488670: I tensorflow/core/platform/profile_utils/cpu_utils.cc:112] CPU Frequency: 2300000000 Hz\n",
      "2023-04-29 22:35:22.833349: I tensorflow/stream_executor/platform/default/dso_loader.cc:49] Successfully opened dynamic library libcublas.so.10\n",
      "2023-04-29 22:35:23.391738: I tensorflow/stream_executor/platform/default/dso_loader.cc:49] Successfully opened dynamic library libcudnn.so.7\n"
     ]
    }
   ],
   "source": [
    "# model training loop\n",
    "Y_pred = model_final.predict([VALID_input_64])\n",
    "record_temp = verif_metric(VALID_target, Y_pred)"
   ]
  },
  {
   "cell_type": "code",
   "execution_count": 11,
   "id": "84cc4c72-9270-4a0e-ab1f-6cf7b6476e28",
   "metadata": {},
   "outputs": [
    {
     "name": "stdout",
     "output_type": "stream",
     "text": [
      "0.024178190259442508\n"
     ]
    }
   ],
   "source": [
    "# Change based on smoothed labels\n",
    "print(record_temp)"
   ]
  },
  {
   "cell_type": "code",
   "execution_count": null,
   "id": "1920441c",
   "metadata": {},
   "outputs": [],
   "source": []
  },
  {
   "cell_type": "code",
   "execution_count": 10,
   "id": "a9dcc4c1",
   "metadata": {},
   "outputs": [],
   "source": [
    "weights_round = 3\n",
    "save_round = 4\n",
    "seeds = 711 #777\n",
    "model_prefix_load = 'RE3_smooth_vgg{}'.format(weights_round) #False\n",
    "model_prefix_save = 'RE3_smooth_vgg{}'.format(save_round)"
   ]
  },
  {
   "cell_type": "code",
   "execution_count": 11,
   "id": "29b2be21",
   "metadata": {},
   "outputs": [],
   "source": [
    "# ----------------------------------------------------------------- #\n",
    "# model and weights\n",
    "model_head = mu.create_model_head(input_shape=(512,), N_node=64)\n",
    "model_base = mu.create_model_vgg(input_shape=(64, 64, 15), channels=[96, 128, 256, 512])\n",
    "\n",
    "IN = keras.layers.Input(shape=(64, 64, 15))\n",
    "\n",
    "VEC = model_base(IN)\n",
    "OUT = model_head(VEC)\n",
    "\n",
    "model_final = keras.models.Model(inputs=IN, outputs=OUT)\n",
    "\n",
    "\n",
    "# ============================================= #\n",
    "# Weights\n",
    "if weights_round > 0:\n",
    "    if model_prefix_load:\n",
    "        W_old = mu.dummy_loader('/glade/work/ksha/NCAR/Keras_models/{}/'.format(model_prefix_load))\n",
    "        model_final.set_weights(W_old)\n",
    "    \n",
    "#model_final.compile(loss=keras.losses.BinaryCrossentropy(from_logits=False), optimizer=keras.optimizers.Adam(lr=lr))\n"
   ]
  },
  {
   "cell_type": "code",
   "execution_count": null,
   "id": "8b65a950",
   "metadata": {},
   "outputs": [],
   "source": []
  },
  {
   "cell_type": "code",
   "execution_count": 12,
   "id": "20f8ff48-5814-4af9-a888-3114437af873",
   "metadata": {},
   "outputs": [],
   "source": [
    "# model training loop\n",
    "Y_pred = model_final.predict([VALID_input_64])\n",
    "record_temp = verif_metric(VALID_target, Y_pred)"
   ]
  },
  {
   "cell_type": "code",
   "execution_count": 13,
   "id": "c74a9d9a-abd8-4e8c-8169-7b256411c109",
   "metadata": {},
   "outputs": [
    {
     "name": "stdout",
     "output_type": "stream",
     "text": [
      "0.0230026736801435\n"
     ]
    }
   ],
   "source": [
    "# Change based on smoothed labels\n",
    "print(record_temp)"
   ]
  },
  {
   "cell_type": "code",
   "execution_count": 9,
   "id": "5eb5c97b-cf75-4583-a5d4-269db61483e6",
   "metadata": {},
   "outputs": [
    {
     "name": "stdout",
     "output_type": "stream",
     "text": [
      "0.02257461099434288\n"
     ]
    }
   ],
   "source": [
    "# Change based on smoothed labels\n",
    "print(record_temp)"
   ]
  },
  {
   "cell_type": "code",
   "execution_count": null,
   "id": "d191f016-f1c1-47be-ab66-6a4cd51f4e5d",
   "metadata": {},
   "outputs": [],
   "source": []
  },
  {
   "cell_type": "code",
   "execution_count": null,
   "id": "b2ce8c88-710a-47ec-a308-9efb6480cd4d",
   "metadata": {},
   "outputs": [],
   "source": []
  },
  {
   "cell_type": "code",
   "execution_count": null,
   "id": "f7f9ff28-6a98-4df5-81a6-40ae5e0f2530",
   "metadata": {},
   "outputs": [],
   "source": []
  },
  {
   "cell_type": "code",
   "execution_count": null,
   "id": "1296ca71-123c-46a8-9b86-20c69f78d437",
   "metadata": {},
   "outputs": [],
   "source": []
  },
  {
   "cell_type": "code",
   "execution_count": null,
   "id": "1a5290e4-ec8a-4aa5-bebf-e3cfb9287102",
   "metadata": {},
   "outputs": [],
   "source": []
  },
  {
   "cell_type": "code",
   "execution_count": null,
   "id": "afa3ef1a-192a-41de-8d70-26c3e8ef2330",
   "metadata": {},
   "outputs": [],
   "source": []
  }
 ],
 "metadata": {
  "kernelspec": {
   "display_name": "Python 3 (ipykernel)",
   "language": "python",
   "name": "python3"
  },
  "language_info": {
   "codemirror_mode": {
    "name": "ipython",
    "version": 3
   },
   "file_extension": ".py",
   "mimetype": "text/x-python",
   "name": "python",
   "nbconvert_exporter": "python",
   "pygments_lexer": "ipython3",
   "version": "3.9.15"
  }
 },
 "nbformat": 4,
 "nbformat_minor": 5
}
