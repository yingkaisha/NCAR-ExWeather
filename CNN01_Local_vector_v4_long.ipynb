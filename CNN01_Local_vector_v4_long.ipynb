{
 "cells": [
  {
   "cell_type": "code",
   "execution_count": 1,
   "id": "27a0a927-ec50-44a0-b82c-26848002e35e",
   "metadata": {},
   "outputs": [],
   "source": [
    "# general tools\n",
    "import os\n",
    "import sys\n",
    "import time\n",
    "import h5py\n",
    "import random\n",
    "import netCDF4 as nc\n",
    "from glob import glob\n",
    "\n",
    "import numpy as np\n",
    "from datetime import datetime, timedelta\n",
    "from random import shuffle"
   ]
  },
  {
   "cell_type": "code",
   "execution_count": 2,
   "id": "20a24190-0ecb-4c87-ba41-0b1ec72becf3",
   "metadata": {},
   "outputs": [
    {
     "name": "stderr",
     "output_type": "stream",
     "text": [
      "2023-02-17 11:40:28.951310: I tensorflow/stream_executor/platform/default/dso_loader.cc:49] Successfully opened dynamic library libcudart.so.10.1\n"
     ]
    }
   ],
   "source": [
    "import tensorflow as tf\n",
    "from tensorflow import keras\n",
    "from tensorflow.keras import backend\n",
    "from keras_unet_collection import utils as k_utils"
   ]
  },
  {
   "cell_type": "code",
   "execution_count": 3,
   "id": "ed60309c-e19e-4869-ae18-694ad645527f",
   "metadata": {},
   "outputs": [],
   "source": [
    "sys.path.insert(0, '/glade/u/home/ksha/NCAR/')\n",
    "sys.path.insert(0, '/glade/u/home/ksha/NCAR/libs/')\n",
    "\n",
    "from namelist import *\n",
    "import data_utils as du"
   ]
  },
  {
   "cell_type": "code",
   "execution_count": 4,
   "id": "57dc768a-1ab3-4fc2-912e-3fe1d6f6ef26",
   "metadata": {},
   "outputs": [],
   "source": [
    "import re"
   ]
  },
  {
   "cell_type": "code",
   "execution_count": 5,
   "id": "db2a25df-e774-4c84-8270-9b7f62d51e02",
   "metadata": {},
   "outputs": [],
   "source": [
    "import matplotlib.pyplot as plt\n",
    "%matplotlib inline"
   ]
  },
  {
   "cell_type": "code",
   "execution_count": null,
   "id": "3cc3af42-f1fd-4d09-938f-b5657472ec64",
   "metadata": {},
   "outputs": [],
   "source": []
  },
  {
   "cell_type": "code",
   "execution_count": 6,
   "id": "6837e699-714b-4b55-98fc-b6b0a61765c9",
   "metadata": {},
   "outputs": [],
   "source": [
    "base_v3_s = datetime(2018, 7, 15)\n",
    "base_v3_e = datetime(2020, 12, 2)\n",
    "\n",
    "base_v4_s = datetime(2020, 12, 3)\n",
    "base_v4_e = datetime(2022, 7, 15)\n",
    "\n",
    "base_ref = datetime(2010, 1, 1)\n",
    "\n",
    "date_list_v3 = [base_v3_s + timedelta(days=day) for day in range(365+365+142)]\n",
    "date_list_v4 = [base_v4_s + timedelta(days=day) for day in range(365+365+30)]"
   ]
  },
  {
   "cell_type": "code",
   "execution_count": 7,
   "id": "c990a7d3-da80-4e44-ac72-17b39d3ba477",
   "metadata": {},
   "outputs": [
    {
     "data": {
      "text/plain": [
       "datetime.datetime(2020, 12, 31, 0, 0)"
      ]
     },
     "execution_count": 7,
     "metadata": {},
     "output_type": "execute_result"
    }
   ],
   "source": [
    "date_list_v4[28]"
   ]
  },
  {
   "cell_type": "code",
   "execution_count": 8,
   "id": "5b090ba6-a5fc-4207-b7d3-c00fa1856a52",
   "metadata": {},
   "outputs": [],
   "source": [
    "def pos_mixer(TRAIN, L, a0=0, a1=0.2):\n",
    "    data_shape = TRAIN.shape\n",
    "    out = np.empty((L, data_shape[-1]))\n",
    "    \n",
    "    for i in range(L):\n",
    "        inds = np.random.choice(data_shape[0], 2)\n",
    "        a = np.random.uniform(a0, a1)\n",
    "        out[i, :] = a*TRAIN[inds[0], :] + (1-a)*TRAIN[inds[1], :]\n",
    "    return out"
   ]
  },
  {
   "cell_type": "code",
   "execution_count": 9,
   "id": "b23b86cf-3500-471a-bdfe-bad8433bbddd",
   "metadata": {},
   "outputs": [],
   "source": [
    "def set_seeds(seed):\n",
    "    os.environ['PYTHONHASHSEED'] = str(seed)\n",
    "    random.seed(seed)\n",
    "    tf.random.set_seed(seed)\n",
    "    np.random.seed(seed)"
   ]
  },
  {
   "cell_type": "code",
   "execution_count": 10,
   "id": "3bc32d24-a9ce-486a-9da6-fa401ca03cdd",
   "metadata": {},
   "outputs": [],
   "source": [
    "def verif_metric(VALID_target, Y_pred, ref):\n",
    "\n",
    "\n",
    "    # fpr, tpr, thresholds = roc_curve(VALID_target.ravel(), Y_pred.ravel())\n",
    "    # AUC = auc(fpr, tpr)\n",
    "    # AUC_metric = 1 - AUC\n",
    "    \n",
    "    BS = np.mean((VALID_target.ravel() - Y_pred.ravel())**2)\n",
    "    #ll = log_loss(VALID_target.ravel(), Y_pred.ravel())\n",
    "    \n",
    "    #print('{}'.format(BS))\n",
    "    metric = BS\n",
    "\n",
    "    return metric / ref"
   ]
  },
  {
   "cell_type": "code",
   "execution_count": 11,
   "id": "912aef91-0827-49ae-95d4-28d4f8bfb3cf",
   "metadata": {},
   "outputs": [],
   "source": [
    "# def set_seeds(seed):\n",
    "#     os.environ['PYTHONHASHSEED'] = str(seed)\n",
    "#     random.seed(seed)\n",
    "#     tf.random.set_seed(seed)\n",
    "#     np.random.seed(seed)"
   ]
  },
  {
   "cell_type": "code",
   "execution_count": 12,
   "id": "47bbe697-79dc-4c49-a499-474a478441fb",
   "metadata": {},
   "outputs": [],
   "source": [
    "def feature_extract(filenames, lon_80km, lon_minmax, lat_80km, lat_minmax, elev_80km, elev_max, climo):\n",
    "    \n",
    "    lon_out = []\n",
    "    lat_out = []\n",
    "    elev_out = []\n",
    "    mon_out = []\n",
    "    climo_out = []\n",
    "    \n",
    "    base_v3_s = datetime(2018, 7, 15)\n",
    "    base_v3_e = datetime(2020, 12, 2)\n",
    "\n",
    "    base_v4_s = datetime(2020, 12, 3)\n",
    "    base_v4_e = datetime(2022, 7, 15)\n",
    "\n",
    "    base_ref = datetime(2010, 1, 1)\n",
    "    \n",
    "    date_list_v3 = [base_v3_s + timedelta(days=day) for day in range(365+365+142)]\n",
    "    date_list_v4 = [base_v4_s + timedelta(days=day) for day in range(365+180-151)]\n",
    "    \n",
    "    for i, name in enumerate(filenames):\n",
    "        \n",
    "        if 'v4' in name:\n",
    "            date_list = date_list_v4\n",
    "        else:\n",
    "            date_list = date_list_v3\n",
    "        \n",
    "        nums = re.findall(r'\\d+', name)\n",
    "        lead = int(nums[-1])\n",
    "        indy = int(nums[-2])\n",
    "        indx = int(nums[-3])\n",
    "        day = int(nums[-4])\n",
    "        day = date_list[day]\n",
    "        day_index = day.day-1\n",
    "        \n",
    "        climo_out.append(climo[day_index, lead, indx, indy])\n",
    "        \n",
    "        lon = lon_80km[indx, indy]\n",
    "        lat = lat_80km[indx, indy]\n",
    "\n",
    "        lon = (lon - lon_minmax[0])/(lon_minmax[1] - lon_minmax[0])\n",
    "        lat = (lat - lat_minmax[0])/(lat_minmax[1] - lat_minmax[0])\n",
    "\n",
    "        elev = elev_80km[indx, indy]\n",
    "        elev = elev / elev_max\n",
    "        \n",
    "        lon_out.append(lon)\n",
    "        lat_out.append(lat)\n",
    "        elev_out.append(elev)\n",
    "\n",
    "        \n",
    "    return np.array(lon_out), np.array(lat_out), np.array(elev_out), np.array(climo_out)\n"
   ]
  },
  {
   "cell_type": "code",
   "execution_count": 13,
   "id": "5b1c36e5-4aee-49f2-b8b0-261600e25e00",
   "metadata": {},
   "outputs": [],
   "source": [
    "with h5py.File(save_dir+'HRRR_domain.hdf', 'r') as h5io:\n",
    "    lon_3km = h5io['lon_3km'][...]\n",
    "    lat_3km = h5io['lat_3km'][...]\n",
    "    lon_80km = h5io['lon_80km'][...]\n",
    "    lat_80km = h5io['lat_80km'][...]\n",
    "    elev_3km = h5io['elev_3km'][...]\n",
    "    land_mask_80km = h5io['land_mask_80km'][...]\n",
    "    \n",
    "grid_shape = land_mask_80km.shape"
   ]
  },
  {
   "cell_type": "code",
   "execution_count": 14,
   "id": "528e2e04-fffe-4f1c-a162-482f3c3983f4",
   "metadata": {},
   "outputs": [],
   "source": [
    "elev_80km = du.interp2d_wraper(lon_3km, lat_3km, elev_3km, lon_80km, lat_80km, method='linear')\n",
    "\n",
    "elev_80km[np.isnan(elev_80km)] = 0\n",
    "elev_80km[elev_80km<0] = 0\n",
    "elev_max = np.max(elev_80km)\n",
    "\n",
    "lon_80km_mask = lon_80km[land_mask_80km]\n",
    "lat_80km_mask = lat_80km[land_mask_80km]\n",
    "\n",
    "lon_minmax = [np.min(lon_80km_mask), np.max(lon_80km_mask)]\n",
    "lat_minmax = [np.min(lat_80km_mask), np.max(lat_80km_mask)]"
   ]
  },
  {
   "cell_type": "code",
   "execution_count": null,
   "id": "0707742a-b973-483d-9d60-95a8ef87c7ab",
   "metadata": {},
   "outputs": [],
   "source": []
  },
  {
   "cell_type": "code",
   "execution_count": 15,
   "id": "7cb0cd3b-a1da-46d8-918c-2fb336cb93ef",
   "metadata": {},
   "outputs": [],
   "source": [
    "# lead1 = 2\n",
    "# lead2 = 3\n",
    "# lead3 = 4\n",
    "# lead4 = 5\n",
    "\n",
    "# lead_name = 4\n",
    "# model_tag = 'peak'#'re'"
   ]
  },
  {
   "cell_type": "code",
   "execution_count": 16,
   "id": "12ab1686-0529-42f2-9596-1108d22aa53a",
   "metadata": {},
   "outputs": [],
   "source": [
    "lead1 = 2\n",
    "lead2 = 3\n",
    "lead3 = 4\n",
    "lead4 = 5\n",
    "lead5 = 6\n",
    "lead6 = 7\n",
    "\n",
    "lead_name = 4\n",
    "model_tag = 'peak'#'re'"
   ]
  },
  {
   "cell_type": "code",
   "execution_count": 19,
   "id": "28c6aec5-4f1e-4a53-9a80-366ec8463aed",
   "metadata": {},
   "outputs": [],
   "source": [
    "filepath_vec = \"/glade/work/ksha/NCAR/\"\n",
    "\n",
    "if (lead1 < 9) or (lead1 > 18):\n",
    "    path_name1_v3 = '/glade/scratch/ksha/DATA/NCAR_batch_v3/'\n",
    "else:\n",
    "    path_name1_v3 = '/glade/campaign/cisl/aiml/ksha/NCAR_batch_v3/'\n",
    "\n",
    "if (lead2 < 9) or (lead2 > 18):\n",
    "    path_name2_v3 = '/glade/scratch/ksha/DATA/NCAR_batch_v3/'\n",
    "else:\n",
    "    path_name2_v3 = '/glade/campaign/cisl/aiml/ksha/NCAR_batch_v3/'\n",
    "    \n",
    "if (lead3 < 9) or (lead3 > 18):\n",
    "    path_name3_v3 = '/glade/scratch/ksha/DATA/NCAR_batch_v3/'\n",
    "else:\n",
    "    path_name3_v3 = '/glade/campaign/cisl/aiml/ksha/NCAR_batch_v3/'\n",
    "    \n",
    "if (lead4 < 9) or (lead4 > 18):\n",
    "    path_name4_v3 = '/glade/scratch/ksha/DATA/NCAR_batch_v3/'\n",
    "else:\n",
    "    path_name4_v3 = '/glade/campaign/cisl/aiml/ksha/NCAR_batch_v3/'\n",
    "\n",
    "if (lead5 < 9) or (lead5 > 18):\n",
    "    path_name5_v3 = '/glade/scratch/ksha/DATA/NCAR_batch_v3/'\n",
    "else:\n",
    "    path_name5_v3 = '/glade/campaign/cisl/aiml/ksha/NCAR_batch_v3/'\n",
    "    \n",
    "if (lead6 < 9) or (lead6 > 18):\n",
    "    path_name6_v3 = '/glade/scratch/ksha/DATA/NCAR_batch_v3/'\n",
    "else:\n",
    "    path_name6_v3 = '/glade/campaign/cisl/aiml/ksha/NCAR_batch_v3/'\n",
    "    \n",
    "path_name1_v4 = '/glade/campaign/cisl/aiml/ksha/NCAR_batch_v4x/'\n",
    "path_name2_v4 = '/glade/campaign/cisl/aiml/ksha/NCAR_batch_v4x/'\n",
    "path_name3_v4 = '/glade/campaign/cisl/aiml/ksha/NCAR_batch_v4x/'\n",
    "path_name4_v4 = '/glade/campaign/cisl/aiml/ksha/NCAR_batch_v4x/'\n",
    "path_name5_v4 = '/glade/campaign/cisl/aiml/ksha/NCAR_batch_v4x/'\n",
    "path_name6_v4 = '/glade/campaign/cisl/aiml/ksha/NCAR_batch_v4x/'\n",
    "\n",
    "path_name1_v4_test = '/glade/campaign/cisl/aiml/ksha/NCAR_batch_v4_temp/'\n",
    "path_name2_v4_test = '/glade/campaign/cisl/aiml/ksha/NCAR_batch_v4_temp/'\n",
    "path_name3_v4_test = '/glade/campaign/cisl/aiml/ksha/NCAR_batch_v4_temp/'\n",
    "path_name4_v4_test = '/glade/campaign/cisl/aiml/ksha/NCAR_batch_v4_temp/'\n",
    "path_name5_v4_test = '/glade/campaign/cisl/aiml/ksha/NCAR_batch_v4_temp/'\n",
    "path_name6_v4_test = '/glade/campaign/cisl/aiml/ksha/NCAR_batch_v4_temp/'"
   ]
  },
  {
   "cell_type": "code",
   "execution_count": 20,
   "id": "e593234c-ee7f-42fc-9384-5f8239efdd44",
   "metadata": {},
   "outputs": [],
   "source": [
    "filename_train_lead1_v3 = sorted(glob(\"{}TRAIN*lead{}.npy\".format(path_name1_v3, lead1)))\n",
    "filename_train_lead2_v3 = sorted(glob(\"{}TRAIN*lead{}.npy\".format(path_name2_v3, lead2)))\n",
    "filename_train_lead3_v3 = sorted(glob(\"{}TRAIN*lead{}.npy\".format(path_name3_v3, lead3)))\n",
    "filename_train_lead4_v3 = sorted(glob(\"{}TRAIN*lead{}.npy\".format(path_name4_v3, lead4)))\n",
    "filename_train_lead5_v3 = sorted(glob(\"{}TRAIN*lead{}.npy\".format(path_name5_v3, lead5)))\n",
    "filename_train_lead6_v3 = sorted(glob(\"{}TRAIN*lead{}.npy\".format(path_name6_v3, lead6)))\n",
    "\n",
    "# filename_train_lead1_v4 = sorted(glob(\"{}TRAIN*lead{}.npy\".format(path_name1_v4, lead1)))\n",
    "# filename_train_lead2_v4 = sorted(glob(\"{}TRAIN*lead{}.npy\".format(path_name2_v4, lead2)))\n",
    "# filename_train_lead3_v4 = sorted(glob(\"{}TRAIN*lead{}.npy\".format(path_name3_v4, lead3)))\n",
    "# filename_train_lead4_v4 = sorted(glob(\"{}TRAIN*lead{}.npy\".format(path_name4_v4, lead4)))\n",
    "# filename_train_lead5_v4 = sorted(glob(\"{}TRAIN*lead{}.npy\".format(path_name5_v4, lead5)))\n",
    "# filename_train_lead6_v4 = sorted(glob(\"{}TRAIN*lead{}.npy\".format(path_name6_v4, lead6)))"
   ]
  },
  {
   "cell_type": "code",
   "execution_count": 21,
   "id": "ead68ed4-b9aa-4068-87c0-d897c4f2841d",
   "metadata": {},
   "outputs": [],
   "source": [
    "IND_TRAIN_lead = np.load('/glade/work/ksha/NCAR/IND_TRAIN_lead_full.npy', allow_pickle=True)[()]\n",
    "TRAIN_ind1_v3 = IND_TRAIN_lead['lead{}'.format(lead1)]\n",
    "TRAIN_ind2_v3 = IND_TRAIN_lead['lead{}'.format(lead2)]\n",
    "TRAIN_ind3_v3 = IND_TRAIN_lead['lead{}'.format(lead3)]\n",
    "TRAIN_ind4_v3 = IND_TRAIN_lead['lead{}'.format(lead4)]\n",
    "TRAIN_ind5_v3 = IND_TRAIN_lead['lead{}'.format(lead5)]\n",
    "TRAIN_ind6_v3 = IND_TRAIN_lead['lead{}'.format(lead6)]\n",
    "\n",
    "# IND_TRAIN_lead = np.load('/glade/work/ksha/NCAR/IND_TRAIN_lead_v4x.npy', allow_pickle=True)[()]\n",
    "# TRAIN_ind1_v4 = IND_TRAIN_lead['lead{}'.format(lead1)]\n",
    "# TRAIN_ind2_v4 = IND_TRAIN_lead['lead{}'.format(lead2)]\n",
    "# TRAIN_ind3_v4 = IND_TRAIN_lead['lead{}'.format(lead3)]\n",
    "# TRAIN_ind4_v4 = IND_TRAIN_lead['lead{}'.format(lead4)]"
   ]
  },
  {
   "cell_type": "code",
   "execution_count": 22,
   "id": "a0ff2c0a-5107-4bc9-a721-5ce809972dd0",
   "metadata": {},
   "outputs": [],
   "source": [
    "data_lead1_p0 = np.load('{}TRAIN_v3_vec_lead{}_part0_{}.npy'.format(filepath_vec, lead1, model_tag), allow_pickle=True)[()]\n",
    "data_lead1_p1 = np.load('{}TRAIN_v3_vec_lead{}_part1_{}.npy'.format(filepath_vec, lead1, model_tag), allow_pickle=True)[()]\n",
    "data_lead1_p2 = np.load('{}TRAIN_v3_vec_lead{}_part2_{}.npy'.format(filepath_vec, lead1, model_tag), allow_pickle=True)[()]\n",
    "\n",
    "data_lead2_p0 = np.load('{}TRAIN_v3_vec_lead{}_part0_{}.npy'.format(filepath_vec, lead2, model_tag), allow_pickle=True)[()]\n",
    "data_lead2_p1 = np.load('{}TRAIN_v3_vec_lead{}_part1_{}.npy'.format(filepath_vec, lead2, model_tag), allow_pickle=True)[()]\n",
    "data_lead2_p2 = np.load('{}TRAIN_v3_vec_lead{}_part2_{}.npy'.format(filepath_vec, lead2, model_tag), allow_pickle=True)[()]\n",
    "\n",
    "data_lead3_p0 = np.load('{}TRAIN_v3_vec_lead{}_part0_{}.npy'.format(filepath_vec, lead3, model_tag), allow_pickle=True)[()]\n",
    "data_lead3_p1 = np.load('{}TRAIN_v3_vec_lead{}_part1_{}.npy'.format(filepath_vec, lead3, model_tag), allow_pickle=True)[()]\n",
    "data_lead3_p2 = np.load('{}TRAIN_v3_vec_lead{}_part2_{}.npy'.format(filepath_vec, lead3, model_tag), allow_pickle=True)[()]\n",
    "\n",
    "data_lead4_p0 = np.load('{}TRAIN_v3_vec_lead{}_part0_{}.npy'.format(filepath_vec, lead4, model_tag), allow_pickle=True)[()]\n",
    "data_lead4_p1 = np.load('{}TRAIN_v3_vec_lead{}_part1_{}.npy'.format(filepath_vec, lead4, model_tag), allow_pickle=True)[()]\n",
    "data_lead4_p2 = np.load('{}TRAIN_v3_vec_lead{}_part2_{}.npy'.format(filepath_vec, lead4, model_tag), allow_pickle=True)[()]\n",
    "\n",
    "data_lead5_p0 = np.load('{}TRAIN_v3_vec_lead{}_part0_{}.npy'.format(filepath_vec, lead5, model_tag), allow_pickle=True)[()]\n",
    "data_lead5_p1 = np.load('{}TRAIN_v3_vec_lead{}_part1_{}.npy'.format(filepath_vec, lead5, model_tag), allow_pickle=True)[()]\n",
    "data_lead5_p2 = np.load('{}TRAIN_v3_vec_lead{}_part2_{}.npy'.format(filepath_vec, lead5, model_tag), allow_pickle=True)[()]\n",
    "\n",
    "data_lead6_p0 = np.load('{}TRAIN_v3_vec_lead{}_part0_{}.npy'.format(filepath_vec, lead6, model_tag), allow_pickle=True)[()]\n",
    "data_lead6_p1 = np.load('{}TRAIN_v3_vec_lead{}_part1_{}.npy'.format(filepath_vec, lead6, model_tag), allow_pickle=True)[()]\n",
    "data_lead6_p2 = np.load('{}TRAIN_v3_vec_lead{}_part2_{}.npy'.format(filepath_vec, lead6, model_tag), allow_pickle=True)[()]"
   ]
  },
  {
   "cell_type": "code",
   "execution_count": 23,
   "id": "5330c355-896f-45a1-9e9b-d530c142a15c",
   "metadata": {},
   "outputs": [],
   "source": [
    "# data_lead1_v4 = np.load('{}TRAIN_v4x_vec_lead{}_part0_{}.npy'.format(filepath_vec, lead1, model_tag), allow_pickle=True)[()]\n",
    "# data_lead2_v4 = np.load('{}TRAIN_v4x_vec_lead{}_part0_{}.npy'.format(filepath_vec, lead2, model_tag), allow_pickle=True)[()]\n",
    "# data_lead3_v4 = np.load('{}TRAIN_v4x_vec_lead{}_part0_{}.npy'.format(filepath_vec, lead3, model_tag), allow_pickle=True)[()]\n",
    "# data_lead4_v4 = np.load('{}TRAIN_v4x_vec_lead{}_part0_{}.npy'.format(filepath_vec, lead4, model_tag), allow_pickle=True)[()]"
   ]
  },
  {
   "cell_type": "code",
   "execution_count": 24,
   "id": "af2205b3-1baf-42de-9503-d0b589ccfc3f",
   "metadata": {},
   "outputs": [],
   "source": [
    "TRAIN_lead1_v3 = np.concatenate((data_lead1_p0['y_vector'], data_lead1_p1['y_vector'], data_lead1_p2['y_vector']), axis=0)\n",
    "TRAIN_lead2_v3 = np.concatenate((data_lead2_p0['y_vector'], data_lead2_p1['y_vector'], data_lead2_p2['y_vector']), axis=0)\n",
    "TRAIN_lead3_v3 = np.concatenate((data_lead3_p0['y_vector'], data_lead3_p1['y_vector'], data_lead3_p2['y_vector']), axis=0)\n",
    "TRAIN_lead4_v3 = np.concatenate((data_lead4_p0['y_vector'], data_lead4_p1['y_vector'], data_lead4_p2['y_vector']), axis=0)\n",
    "TRAIN_lead5_v3 = np.concatenate((data_lead5_p0['y_vector'], data_lead5_p1['y_vector'], data_lead5_p2['y_vector']), axis=0)\n",
    "TRAIN_lead6_v3 = np.concatenate((data_lead6_p0['y_vector'], data_lead6_p1['y_vector'], data_lead6_p2['y_vector']), axis=0)\n",
    "# TRAIN_lead1_v4 = data_lead1_v4['y_vector']\n",
    "# TRAIN_lead2_v4 = data_lead2_v4['y_vector']\n",
    "# TRAIN_lead3_v4 = data_lead3_v4['y_vector']\n",
    "# TRAIN_lead4_v4 = data_lead4_v4['y_vector']"
   ]
  },
  {
   "cell_type": "code",
   "execution_count": 25,
   "id": "5c58d7f3-f2c4-42e4-ab39-5d26131f3e1a",
   "metadata": {},
   "outputs": [],
   "source": [
    "TRAIN_lead1_y_v3 = np.concatenate((data_lead1_p0['y_true'], data_lead1_p1['y_true'], data_lead1_p2['y_true']), axis=0)\n",
    "TRAIN_lead2_y_v3 = np.concatenate((data_lead2_p0['y_true'], data_lead2_p1['y_true'], data_lead2_p2['y_true']), axis=0)\n",
    "TRAIN_lead3_y_v3 = np.concatenate((data_lead3_p0['y_true'], data_lead3_p1['y_true'], data_lead3_p2['y_true']), axis=0)\n",
    "TRAIN_lead4_y_v3 = np.concatenate((data_lead4_p0['y_true'], data_lead4_p1['y_true'], data_lead4_p2['y_true']), axis=0)\n",
    "TRAIN_lead5_y_v3 = np.concatenate((data_lead5_p0['y_true'], data_lead5_p1['y_true'], data_lead5_p2['y_true']), axis=0)\n",
    "TRAIN_lead6_y_v3 = np.concatenate((data_lead6_p0['y_true'], data_lead6_p1['y_true'], data_lead6_p2['y_true']), axis=0)\n",
    "# TRAIN_lead1_y_v4 = data_lead1_v4['y_true']\n",
    "# TRAIN_lead2_y_v4 = data_lead2_v4['y_true']\n",
    "# TRAIN_lead3_y_v4 = data_lead3_v4['y_true']\n",
    "# TRAIN_lead4_y_v4 = data_lead4_v4['y_true']"
   ]
  },
  {
   "cell_type": "code",
   "execution_count": 24,
   "id": "b21a0ec8-fc11-4ccf-ab5d-4ff6f2129d29",
   "metadata": {},
   "outputs": [],
   "source": [
    "L = len(TRAIN_ind2_v3)\n",
    "\n",
    "filename_train1_pick_v3 = []\n",
    "filename_train2_pick_v3 = []\n",
    "filename_train3_pick_v3 = []\n",
    "filename_train4_pick_v3 = []\n",
    "\n",
    "TRAIN_X_v3 = np.empty((L, 4, 128))\n",
    "TRAIN_Y_v3 = np.empty(L)\n",
    "\n",
    "for i in range(L):\n",
    "    \n",
    "    ind_lead1_v3 = int(TRAIN_ind1_v3[i])\n",
    "    ind_lead2_v3 = int(TRAIN_ind2_v3[i])\n",
    "    ind_lead3_v3 = int(TRAIN_ind3_v3[i])\n",
    "    ind_lead4_v3 = int(TRAIN_ind4_v3[i])\n",
    "    \n",
    "    filename_train1_pick_v3.append(filename_train_lead1_v3[ind_lead1_v3])\n",
    "    filename_train2_pick_v3.append(filename_train_lead2_v3[ind_lead2_v3])\n",
    "    filename_train3_pick_v3.append(filename_train_lead3_v3[ind_lead3_v3])\n",
    "    filename_train4_pick_v3.append(filename_train_lead4_v3[ind_lead4_v3])\n",
    "    \n",
    "    TRAIN_X_v3[i, 0, :] = TRAIN_lead1_v3[ind_lead1_v3, :]\n",
    "    TRAIN_X_v3[i, 1, :] = TRAIN_lead2_v3[ind_lead2_v3, :]\n",
    "    TRAIN_X_v3[i, 2, :] = TRAIN_lead3_v3[ind_lead3_v3, :]\n",
    "    TRAIN_X_v3[i, 3, :] = TRAIN_lead4_v3[ind_lead4_v3, :]\n",
    "    \n",
    "    TRAIN_Y_v3[i] = TRAIN_lead3_y_v3[ind_lead3_v3]"
   ]
  },
  {
   "cell_type": "code",
   "execution_count": 25,
   "id": "813569e4-c647-4a83-a01b-63ed971c5c37",
   "metadata": {},
   "outputs": [],
   "source": [
    "L = len(TRAIN_ind2_v4)\n",
    "\n",
    "filename_train1_pick_v4 = []\n",
    "filename_train2_pick_v4 = []\n",
    "filename_train3_pick_v4 = []\n",
    "filename_train4_pick_v4 = []\n",
    "\n",
    "TRAIN_X_v4 = np.empty((L, 4, 128))\n",
    "TRAIN_Y_v4 = np.empty(L)\n",
    "\n",
    "for i in range(L):\n",
    "    \n",
    "    ind_lead1_v4 = int(TRAIN_ind1_v4[i])\n",
    "    ind_lead2_v4 = int(TRAIN_ind2_v4[i])\n",
    "    ind_lead3_v4 = int(TRAIN_ind3_v4[i])\n",
    "    ind_lead4_v4 = int(TRAIN_ind4_v4[i])\n",
    "    \n",
    "    filename_train1_pick_v4.append(filename_train_lead1_v4[ind_lead1_v4])\n",
    "    filename_train2_pick_v4.append(filename_train_lead2_v4[ind_lead2_v4])\n",
    "    filename_train3_pick_v4.append(filename_train_lead3_v4[ind_lead3_v4])\n",
    "    filename_train4_pick_v4.append(filename_train_lead4_v4[ind_lead4_v4])\n",
    "    \n",
    "    TRAIN_X_v4[i, 0, :] = TRAIN_lead1_v4[ind_lead1_v4, :]\n",
    "    TRAIN_X_v4[i, 1, :] = TRAIN_lead2_v4[ind_lead2_v4, :]\n",
    "    TRAIN_X_v4[i, 2, :] = TRAIN_lead3_v4[ind_lead3_v4, :]\n",
    "    TRAIN_X_v4[i, 3, :] = TRAIN_lead4_v4[ind_lead4_v4, :]\n",
    "    \n",
    "    TRAIN_Y_v4[i] = TRAIN_lead3_y_v4[ind_lead3_v4]"
   ]
  },
  {
   "cell_type": "code",
   "execution_count": 26,
   "id": "3fd05dbf-dc98-41db-b7d5-f855183b1188",
   "metadata": {},
   "outputs": [],
   "source": [
    "with nc.Dataset(filepath_vec+'climo_severe_2hr_all.nc') as ncio:\n",
    "    climo = ncio['climo'][0, ...]"
   ]
  },
  {
   "cell_type": "code",
   "execution_count": 27,
   "id": "c8ac4ab4-18e1-42ab-bf04-9e158ed1fc78",
   "metadata": {},
   "outputs": [],
   "source": [
    "lon_norm_v3, lat_norm_v3, elev_norm_v3, climo_norm_v3 = feature_extract(filename_train3_pick_v3, \n",
    "                                                                      lon_80km, lon_minmax, \n",
    "                                                                      lat_80km, lat_minmax, elev_80km, elev_max, climo)\n",
    "\n",
    "lon_norm_v4, lat_norm_v4, elev_norm_v4, climo_norm_v4 = feature_extract(filename_train3_pick_v4, \n",
    "                                                                      lon_80km, lon_minmax, \n",
    "                                                                      lat_80km, lat_minmax, elev_80km, elev_max, climo)"
   ]
  },
  {
   "cell_type": "code",
   "execution_count": 28,
   "id": "8d479179-2549-49de-90d6-610670007dcb",
   "metadata": {},
   "outputs": [],
   "source": [
    "TRAIN_stn_v3 = np.concatenate((lon_norm_v3[:, None], \n",
    "                               lat_norm_v3[:, None]), axis=1)\n",
    "\n",
    "TRAIN_stn_v4 = np.concatenate((lon_norm_v4[:, None], \n",
    "                               lat_norm_v4[:, None]), axis=1)"
   ]
  },
  {
   "cell_type": "code",
   "execution_count": 29,
   "id": "59c11c45-42b7-43fd-9e72-8de13f4edc5d",
   "metadata": {},
   "outputs": [],
   "source": [
    "TRAIN_256_pos_v3 = TRAIN_X_v3[TRAIN_Y_v3==1, ...]\n",
    "TRAIN_256_neg_v3 = TRAIN_X_v3[TRAIN_Y_v3==0, ...]\n",
    "TRAIN_256_pos_v4 = TRAIN_X_v4[TRAIN_Y_v4==1, ...]\n",
    "TRAIN_256_neg_v4 = TRAIN_X_v4[TRAIN_Y_v4==0, ...]"
   ]
  },
  {
   "cell_type": "code",
   "execution_count": 30,
   "id": "19544dea-1342-4c30-a470-d59b18652f05",
   "metadata": {},
   "outputs": [],
   "source": [
    "TRAIN_stn_pos_v3 = TRAIN_stn_v3[TRAIN_Y_v3==1]\n",
    "TRAIN_stn_neg_v3 = TRAIN_stn_v3[TRAIN_Y_v3==0]\n",
    "TRAIN_stn_pos_v4 = TRAIN_stn_v4[TRAIN_Y_v4==1]\n",
    "TRAIN_stn_neg_v4 = TRAIN_stn_v4[TRAIN_Y_v4==0]"
   ]
  },
  {
   "cell_type": "code",
   "execution_count": 31,
   "id": "f4a55881-1ba9-4310-ac1c-9cc49954f715",
   "metadata": {},
   "outputs": [],
   "source": [
    "# TRAIN_Y = np.concatenate((TRAIN_Y_v3, TRAIN_Y_v4), axis=0)\n",
    "\n",
    "# TRAIN_256_pos = np.concatenate((TRAIN_256_pos_v3, TRAIN_256_pos_v4), axis=0)\n",
    "# TRAIN_256_neg = np.concatenate((TRAIN_256_neg_v3, TRAIN_256_neg_v4), axis=0)\n",
    "\n",
    "# TRAIN_stn_pos = np.concatenate((TRAIN_stn_pos_v3, TRAIN_stn_pos_v4), axis=0)\n",
    "# TRAIN_stn_neg = np.concatenate((TRAIN_stn_neg_v3, TRAIN_stn_neg_v4), axis=0)\n",
    "\n",
    "TRAIN_Y = TRAIN_Y_v3\n",
    "\n",
    "TRAIN_256_pos = TRAIN_256_pos_v3\n",
    "TRAIN_256_neg = TRAIN_256_neg_v3\n",
    "\n",
    "TRAIN_stn_pos = TRAIN_stn_pos_v3\n",
    "TRAIN_stn_neg = TRAIN_stn_neg_v3"
   ]
  },
  {
   "cell_type": "markdown",
   "id": "1a30ece5-27c7-49dd-9431-d9608dab439b",
   "metadata": {},
   "source": [
    "**Valid**"
   ]
  },
  {
   "cell_type": "code",
   "execution_count": null,
   "id": "3ab5cdb3-9700-404f-be2a-b59d46aa20f7",
   "metadata": {},
   "outputs": [],
   "source": []
  },
  {
   "cell_type": "code",
   "execution_count": 32,
   "id": "77782c59-1e77-4c60-87a9-12f93b51136f",
   "metadata": {},
   "outputs": [],
   "source": [
    "filename_valid_lead1 = sorted(glob(\"{}TEST*lead{}.npy\".format(path_name1_v4_test, lead1)))\n",
    "filename_valid_lead2 = sorted(glob(\"{}TEST*lead{}.npy\".format(path_name2_v4_test, lead2)))\n",
    "filename_valid_lead3 = sorted(glob(\"{}TEST*lead{}.npy\".format(path_name3_v4_test, lead3)))\n",
    "filename_valid_lead4 = sorted(glob(\"{}TEST*lead{}.npy\".format(path_name4_v4_test, lead4)))"
   ]
  },
  {
   "cell_type": "code",
   "execution_count": 33,
   "id": "34d6f875-51f3-4dc9-a46b-1f6de81c1d0c",
   "metadata": {},
   "outputs": [],
   "source": [
    "valid_lead1 = np.load('{}TEST_v4_vec_lead{}_{}.npy'.format(filepath_vec, lead1, model_tag), allow_pickle=True)[()]\n",
    "valid_lead2 = np.load('{}TEST_v4_vec_lead{}_{}.npy'.format(filepath_vec, lead2, model_tag), allow_pickle=True)[()]\n",
    "valid_lead3 = np.load('{}TEST_v4_vec_lead{}_{}.npy'.format(filepath_vec, lead3, model_tag), allow_pickle=True)[()]\n",
    "valid_lead4 = np.load('{}TEST_v4_vec_lead{}_{}.npy'.format(filepath_vec, lead4, model_tag), allow_pickle=True)[()]\n",
    "\n",
    "VALID_lead1 = valid_lead1['y_vector']\n",
    "VALID_lead2 = valid_lead2['y_vector']\n",
    "VALID_lead3 = valid_lead3['y_vector']\n",
    "VALID_lead4 = valid_lead4['y_vector']\n",
    "\n",
    "VALID_lead1_y = valid_lead1['y_true']\n",
    "VALID_lead2_y = valid_lead2['y_true']\n",
    "VALID_lead3_y = valid_lead3['y_true']\n",
    "VALID_lead4_y = valid_lead4['y_true']"
   ]
  },
  {
   "cell_type": "code",
   "execution_count": 34,
   "id": "786fd32d-88c4-4017-a798-74d964b2dccf",
   "metadata": {},
   "outputs": [],
   "source": [
    "IND_TEST_lead = np.load('/glade/work/ksha/NCAR/IND_TEST_lead_v4.npy', allow_pickle=True)[()]\n",
    "\n",
    "TEST_ind1 = IND_TEST_lead['lead{}'.format(lead1)]\n",
    "TEST_ind2 = IND_TEST_lead['lead{}'.format(lead2)]\n",
    "TEST_ind3 = IND_TEST_lead['lead{}'.format(lead3)]\n",
    "TEST_ind4 = IND_TEST_lead['lead{}'.format(lead4)]"
   ]
  },
  {
   "cell_type": "code",
   "execution_count": 35,
   "id": "cb611f30-9023-4307-8b8c-5a99eba50aeb",
   "metadata": {},
   "outputs": [],
   "source": [
    "L = len(TEST_ind3)\n",
    "\n",
    "filename_valid1_pick = []\n",
    "filename_valid2_pick = []\n",
    "filename_valid3_pick = []\n",
    "filename_valid4_pick = []\n",
    "\n",
    "VALID_X = np.empty((L, 4, 128))\n",
    "VALID_Y = np.zeros(L)\n",
    "\n",
    "for i in range(L):\n",
    "    \n",
    "    ind_lead1 = int(TEST_ind1[i])\n",
    "    ind_lead2 = int(TEST_ind2[i])\n",
    "    ind_lead3 = int(TEST_ind3[i])\n",
    "    ind_lead4 = int(TEST_ind4[i])\n",
    "    \n",
    "    filename_valid1_pick.append(filename_valid_lead1[ind_lead1])\n",
    "    filename_valid2_pick.append(filename_valid_lead2[ind_lead2])\n",
    "    filename_valid3_pick.append(filename_valid_lead3[ind_lead3])\n",
    "    filename_valid4_pick.append(filename_valid_lead4[ind_lead4])\n",
    "    \n",
    "    VALID_X[i, 0, :] = VALID_lead1[ind_lead1, :]\n",
    "    VALID_X[i, 1, :] = VALID_lead2[ind_lead2, :]\n",
    "    VALID_X[i, 2, :] = VALID_lead3[ind_lead3, :]\n",
    "    VALID_X[i, 3, :] = VALID_lead4[ind_lead4, :]\n",
    "    \n",
    "    if 'pos' in filename_valid_lead3[ind_lead3]:\n",
    "        if VALID_lead3_y[ind_lead3] == 1.0:\n",
    "            VALID_Y[i] = 1.0\n",
    "        else:\n",
    "            egwrshat"
   ]
  },
  {
   "cell_type": "code",
   "execution_count": 36,
   "id": "76bc4d48-e647-45ea-bb64-364642185ea6",
   "metadata": {},
   "outputs": [],
   "source": [
    "lon_norm, lat_norm, elev_norm, climo_norm = feature_extract(\n",
    "    filename_valid3_pick, lon_80km, lon_minmax, lat_80km, lat_minmax, elev_80km, elev_max, climo)\n",
    "\n",
    "VALID_stn = np.concatenate((lon_norm[:, None], lat_norm[:, None]), axis=1)\n",
    "VALID_merge = VALID_stn"
   ]
  },
  {
   "cell_type": "code",
   "execution_count": 37,
   "id": "9192133a-ff27-49d3-a8d3-37c8be1e5471",
   "metadata": {},
   "outputs": [
    {
     "data": {
      "text/plain": [
       "(374192,)"
      ]
     },
     "execution_count": 37,
     "metadata": {},
     "output_type": "execute_result"
    }
   ],
   "source": [
    "VALID_Y.shape"
   ]
  },
  {
   "cell_type": "code",
   "execution_count": 38,
   "id": "dbee2302-f09b-4442-bc28-7b7a000b3693",
   "metadata": {},
   "outputs": [],
   "source": [
    "def create_model():\n",
    "    \n",
    "    IN = keras.Input((4, 128))\n",
    "    X = IN\n",
    "    \n",
    "    X = keras.layers.Conv1D(128, kernel_size=2, strides=1, padding='same', use_bias=True)(X)\n",
    "    X = keras.layers.Activation(\"gelu\")(X)\n",
    "    \n",
    "    X = keras.layers.GlobalMaxPool1D()(X)\n",
    "    \n",
    "    IN_elev = keras.Input((2,))\n",
    "    X = keras.layers.Concatenate()([X, IN_elev])\n",
    "    \n",
    "    X = keras.layers.Dense(64,)(X)\n",
    "    X = keras.layers.Activation(\"relu\")(X)\n",
    "    X = keras.layers.BatchNormalization()(X)\n",
    "\n",
    "    OUT = X\n",
    "    OUT = keras.layers.Dense(1, activation='sigmoid', bias_initializer=keras.initializers.Constant(-10))(OUT)\n",
    "\n",
    "    model = keras.models.Model(inputs=[IN, IN_elev], outputs=OUT)\n",
    "    return model"
   ]
  },
  {
   "cell_type": "code",
   "execution_count": 39,
   "id": "6b67c26e-fd5f-41c4-8dd5-a2d1b1691f0b",
   "metadata": {},
   "outputs": [],
   "source": [
    "seeds = [12342, 2536234, 98765, 473, 865, 7456, 69472, 3456357, 3425, 678,\n",
    "         2452624, 5787, 235362, 67896, 98454, 12445, 46767, 78906, 345, 8695, \n",
    "         2463725, 4734, 23234, 884, 2341, 362, 5, 234, 483, 785356, 23425, 3621, \n",
    "         58461, 80968765, 123, 425633, 5646, 67635, 76785, 34214]\n",
    "\n",
    "training_rounds = len(seeds)"
   ]
  },
  {
   "cell_type": "code",
   "execution_count": 42,
   "id": "1ba8ffac-6fd0-4a42-8064-779ce5c7b6a8",
   "metadata": {},
   "outputs": [
    {
     "name": "stdout",
     "output_type": "stream",
     "text": [
      "Initial record: 1.1\n",
      "Training round 0\n",
      "Validation loss improved from 1.1 to 0.9988901617437406\n",
      "save to: /glade/work/ksha/NCAR/Keras_models/HY_Drop_Lead4\n",
      "INFO:tensorflow:Assets written to: /glade/work/ksha/NCAR/Keras_models/HY_Drop_Lead4/assets\n",
      "--- 7.433546304702759 seconds ---\n",
      "Validation loss improved from 0.9988901617437406 to 0.9984509870954735\n",
      "save to: /glade/work/ksha/NCAR/Keras_models/HY_Drop_Lead4\n",
      "INFO:tensorflow:Assets written to: /glade/work/ksha/NCAR/Keras_models/HY_Drop_Lead4/assets\n",
      "--- 7.1388373374938965 seconds ---\n",
      "Validation loss improved from 0.9984509870954735 to 0.9981102544595867\n",
      "save to: /glade/work/ksha/NCAR/Keras_models/HY_Drop_Lead4\n",
      "INFO:tensorflow:Assets written to: /glade/work/ksha/NCAR/Keras_models/HY_Drop_Lead4/assets\n",
      "--- 7.6034510135650635 seconds ---\n",
      "Validation loss improved from 0.9981102544595867 to 0.9969829670053642\n",
      "save to: /glade/work/ksha/NCAR/Keras_models/HY_Drop_Lead4\n",
      "INFO:tensorflow:Assets written to: /glade/work/ksha/NCAR/Keras_models/HY_Drop_Lead4/assets\n",
      "--- 7.020402431488037 seconds ---\n",
      "Validation loss improved from 0.9969829670053642 to 0.9960244981469422\n",
      "save to: /glade/work/ksha/NCAR/Keras_models/HY_Drop_Lead4\n",
      "INFO:tensorflow:Assets written to: /glade/work/ksha/NCAR/Keras_models/HY_Drop_Lead4/assets\n",
      "--- 7.086273431777954 seconds ---\n",
      "Validation loss improved from 0.9960244981469422 to 0.9954383819226539\n",
      "save to: /glade/work/ksha/NCAR/Keras_models/HY_Drop_Lead4\n",
      "INFO:tensorflow:Assets written to: /glade/work/ksha/NCAR/Keras_models/HY_Drop_Lead4/assets\n",
      "--- 7.61872935295105 seconds ---\n",
      "Validation loss 0.9957378469927332 NOT improved\n",
      "Validation loss improved from 0.9954383819226539 to 0.9927609316833519\n",
      "save to: /glade/work/ksha/NCAR/Keras_models/HY_Drop_Lead4\n",
      "INFO:tensorflow:Assets written to: /glade/work/ksha/NCAR/Keras_models/HY_Drop_Lead4/assets\n",
      "--- 6.978919744491577 seconds ---\n",
      "Validation loss improved from 0.9927609316833519 to 0.9880733674901822\n",
      "save to: /glade/work/ksha/NCAR/Keras_models/HY_Drop_Lead4\n",
      "INFO:tensorflow:Assets written to: /glade/work/ksha/NCAR/Keras_models/HY_Drop_Lead4/assets\n",
      "--- 6.931695461273193 seconds ---\n",
      "Validation loss improved from 0.9880733674901822 to 0.9713856920963926\n",
      "save to: /glade/work/ksha/NCAR/Keras_models/HY_Drop_Lead4\n",
      "INFO:tensorflow:Assets written to: /glade/work/ksha/NCAR/Keras_models/HY_Drop_Lead4/assets\n",
      "--- 6.968262434005737 seconds ---\n",
      "Validation loss improved from 0.9713856920963926 to 0.9455375998173567\n",
      "save to: /glade/work/ksha/NCAR/Keras_models/HY_Drop_Lead4\n",
      "INFO:tensorflow:Assets written to: /glade/work/ksha/NCAR/Keras_models/HY_Drop_Lead4/assets\n",
      "--- 7.46826696395874 seconds ---\n",
      "Validation loss improved from 0.9455375998173567 to 0.9291204582457978\n",
      "save to: /glade/work/ksha/NCAR/Keras_models/HY_Drop_Lead4\n",
      "INFO:tensorflow:Assets written to: /glade/work/ksha/NCAR/Keras_models/HY_Drop_Lead4/assets\n",
      "--- 6.938543319702148 seconds ---\n",
      "Validation loss improved from 0.9291204582457978 to 0.9132931617470861\n",
      "save to: /glade/work/ksha/NCAR/Keras_models/HY_Drop_Lead4\n",
      "INFO:tensorflow:Assets written to: /glade/work/ksha/NCAR/Keras_models/HY_Drop_Lead4/assets\n",
      "--- 7.01055645942688 seconds ---\n",
      "Validation loss improved from 0.9132931617470861 to 0.864942241050939\n",
      "save to: /glade/work/ksha/NCAR/Keras_models/HY_Drop_Lead4\n",
      "INFO:tensorflow:Assets written to: /glade/work/ksha/NCAR/Keras_models/HY_Drop_Lead4/assets\n",
      "--- 7.469692230224609 seconds ---\n",
      "Validation loss improved from 0.864942241050939 to 0.8501281912803533\n",
      "save to: /glade/work/ksha/NCAR/Keras_models/HY_Drop_Lead4\n",
      "INFO:tensorflow:Assets written to: /glade/work/ksha/NCAR/Keras_models/HY_Drop_Lead4/assets\n",
      "--- 7.0063862800598145 seconds ---\n",
      "Validation loss improved from 0.8501281912803533 to 0.8300487905528973\n",
      "save to: /glade/work/ksha/NCAR/Keras_models/HY_Drop_Lead4\n",
      "INFO:tensorflow:Assets written to: /glade/work/ksha/NCAR/Keras_models/HY_Drop_Lead4/assets\n",
      "--- 7.008720636367798 seconds ---\n",
      "Validation loss 0.8304472945419895 NOT improved\n",
      "Validation loss 0.8316242604012531 NOT improved\n",
      "Validation loss 0.8391755213243802 NOT improved\n",
      "Validation loss 0.9048104283077452 NOT improved\n",
      "Validation loss 0.9470501806329971 NOT improved\n",
      "Validation loss 0.9222876147513874 NOT improved\n",
      "Validation loss 0.9227432584478588 NOT improved\n",
      "Validation loss 0.8927738415757487 NOT improved\n",
      "Validation loss 0.9359036287098073 NOT improved\n",
      "Validation loss 1.034968664709236 NOT improved\n",
      "Early stopping\n",
      "Training round 1\n",
      "Validation loss 0.9992783631735296 NOT improved\n",
      "Validation loss 0.9989331767352327 NOT improved\n",
      "Validation loss 0.998585196101917 NOT improved\n",
      "Validation loss 0.9983074437562065 NOT improved\n",
      "Validation loss 0.9978488768987815 NOT improved\n",
      "Validation loss 0.9976740074337705 NOT improved\n",
      "Validation loss 0.996928140610012 NOT improved\n",
      "Validation loss 0.9954616414631247 NOT improved\n",
      "Validation loss 0.9934516964966602 NOT improved\n",
      "Validation loss 0.9914374578200316 NOT improved\n",
      "Validation loss 0.9872027899815673 NOT improved\n",
      "Validation loss 0.9793739080197613 NOT improved\n",
      "Validation loss 0.9645260166997006 NOT improved\n",
      "Validation loss 0.9507275139090554 NOT improved\n",
      "Validation loss 0.9394473391758433 NOT improved\n",
      "Validation loss 0.9309470633034236 NOT improved\n",
      "Validation loss 0.8949762017448732 NOT improved\n",
      "Validation loss 0.8807515520588414 NOT improved\n",
      "Validation loss 0.882970727471721 NOT improved\n",
      "Validation loss 0.8610890995177993 NOT improved\n",
      "Validation loss 0.8464842936890672 NOT improved\n",
      "Validation loss 0.8354880968498393 NOT improved\n",
      "Validation loss 0.8344456114594971 NOT improved\n",
      "Validation loss 0.8332444663781368 NOT improved\n",
      "Validation loss 0.8455374973632753 NOT improved\n",
      "Validation loss 0.8360193658905768 NOT improved\n",
      "Validation loss 0.8353116005281462 NOT improved\n",
      "Validation loss 0.8373325070828607 NOT improved\n",
      "Validation loss 0.8429541002204348 NOT improved\n",
      "Validation loss 0.8342805585156675 NOT improved\n",
      "Validation loss 0.839609533120006 NOT improved\n",
      "Validation loss 0.9244898444800342 NOT improved\n",
      "Validation loss 0.8542730242962837 NOT improved\n",
      "Validation loss 0.8580428277544275 NOT improved\n",
      "Validation loss 5.147651891378794 NOT improved\n",
      "Early stopping\n",
      "Training round 2\n",
      "Validation loss 0.9998127051446497 NOT improved\n",
      "Validation loss 0.9994852466562864 NOT improved\n",
      "Validation loss 0.9991593580968153 NOT improved\n",
      "Validation loss 0.9986118929542201 NOT improved\n",
      "Validation loss 0.9977686513993779 NOT improved\n",
      "Validation loss 0.9958897119118667 NOT improved\n",
      "Validation loss 0.9947241975904108 NOT improved\n",
      "Validation loss 0.9942905241439279 NOT improved\n",
      "Validation loss 0.9932539048334532 NOT improved\n",
      "Validation loss 0.9929230753745838 NOT improved\n",
      "Validation loss 0.9872150921146626 NOT improved\n",
      "Validation loss 0.9608659830293149 NOT improved\n",
      "Validation loss 0.949228026076004 NOT improved\n",
      "Validation loss 0.9486094852845602 NOT improved\n",
      "Validation loss 0.9459936354078059 NOT improved\n",
      "Validation loss 0.9425843385159813 NOT improved\n",
      "Validation loss 0.9361650050845383 NOT improved\n",
      "Validation loss 0.9316111320436191 NOT improved\n",
      "Validation loss 0.9052385462646058 NOT improved\n",
      "Validation loss 0.8851155131903724 NOT improved\n",
      "Validation loss 0.8687920173662431 NOT improved\n",
      "Validation loss improved from 0.8300487905528973 to 0.8271405370087287\n",
      "save to: /glade/work/ksha/NCAR/Keras_models/HY_Drop_Lead4\n",
      "INFO:tensorflow:Assets written to: /glade/work/ksha/NCAR/Keras_models/HY_Drop_Lead4/assets\n",
      "--- 7.306107997894287 seconds ---\n",
      "Validation loss 0.9463351261884052 NOT improved\n",
      "Validation loss 0.841712944088205 NOT improved\n",
      "Validation loss improved from 0.8271405370087287 to 0.8243928126603951\n",
      "save to: /glade/work/ksha/NCAR/Keras_models/HY_Drop_Lead4\n",
      "INFO:tensorflow:Assets written to: /glade/work/ksha/NCAR/Keras_models/HY_Drop_Lead4/assets\n",
      "--- 7.231210470199585 seconds ---\n",
      "Validation loss 0.8244833276971313 NOT improved\n",
      "Validation loss 0.8245361823787644 NOT improved\n",
      "Validation loss 0.8258538875013457 NOT improved\n",
      "Validation loss 0.8248745315443076 NOT improved\n",
      "Validation loss 0.836892948442248 NOT improved\n",
      "Validation loss 0.8350395962279098 NOT improved\n",
      "Validation loss 0.8859109512823445 NOT improved\n",
      "Validation loss 0.8740670218644742 NOT improved\n",
      "Validation loss 0.851460798540374 NOT improved\n",
      "Validation loss 0.8592128446466983 NOT improved\n",
      "Validation loss 0.9133207760985503 NOT improved\n",
      "Validation loss 0.8550978166027363 NOT improved\n"
     ]
    },
    {
     "name": "stderr",
     "output_type": "stream",
     "text": [
      "\n",
      "KeyboardInterrupt\n",
      "\n"
     ]
    },
    {
     "ename": "KeyboardInterrupt",
     "evalue": "",
     "output_type": "error",
     "traceback": [
      "\u001b[0;31m---------------------------------------------------------------------------\u001b[0m",
      "\u001b[0;31mStopIteration\u001b[0m                             Traceback (most recent call last)",
      "File \u001b[0;32m/glade/work/ksha/anaconda3/lib/python3.9/site-packages/IPython/core/async_helpers.py:129\u001b[0m, in \u001b[0;36m_pseudo_sync_runner\u001b[0;34m(coro)\u001b[0m\n\u001b[1;32m    128\u001b[0m \u001b[38;5;28;01mtry\u001b[39;00m:\n\u001b[0;32m--> 129\u001b[0m     \u001b[43mcoro\u001b[49m\u001b[38;5;241;43m.\u001b[39;49m\u001b[43msend\u001b[49m\u001b[43m(\u001b[49m\u001b[38;5;28;43;01mNone\u001b[39;49;00m\u001b[43m)\u001b[49m\n\u001b[1;32m    130\u001b[0m \u001b[38;5;28;01mexcept\u001b[39;00m \u001b[38;5;167;01mStopIteration\u001b[39;00m \u001b[38;5;28;01mas\u001b[39;00m exc:\n",
      "\u001b[0;31mStopIteration\u001b[0m: <ExecutionResult object at 2b9128d0dcd0, execution_count=42 error_before_exec=None error_in_exec= info=<ExecutionInfo object at 2b9128d0db50, raw_cell=\"ref = np.sum(VALID_Y) / len(VALID_Y)\n\n# ==========..\" store_history=True silent=False shell_futures=True cell_id=1ba8ffac-6fd0-4a42-8064-779ce5c7b6a8> result=None>",
      "\nDuring handling of the above exception, another exception occurred:\n",
      "\u001b[0;31mKeyboardInterrupt\u001b[0m                         Traceback (most recent call last)",
      "File \u001b[0;32m/glade/work/ksha/anaconda3/lib/python3.9/site-packages/IPython/core/async_helpers.py:129\u001b[0m, in \u001b[0;36m_pseudo_sync_runner\u001b[0;34m(coro)\u001b[0m\n\u001b[1;32m    121\u001b[0m \u001b[38;5;124;03m\"\"\"\u001b[39;00m\n\u001b[1;32m    122\u001b[0m \u001b[38;5;124;03mA runner that does not really allow async execution, and just advance the coroutine.\u001b[39;00m\n\u001b[1;32m    123\u001b[0m \n\u001b[0;32m   (...)\u001b[0m\n\u001b[1;32m    126\u001b[0m \u001b[38;5;124;03mCredit to Nathaniel Smith\u001b[39;00m\n\u001b[1;32m    127\u001b[0m \u001b[38;5;124;03m\"\"\"\u001b[39;00m\n\u001b[1;32m    128\u001b[0m \u001b[38;5;28;01mtry\u001b[39;00m:\n\u001b[0;32m--> 129\u001b[0m     \u001b[43mcoro\u001b[49m\u001b[38;5;241;43m.\u001b[39;49m\u001b[43msend\u001b[49m\u001b[43m(\u001b[49m\u001b[38;5;28;43;01mNone\u001b[39;49;00m\u001b[43m)\u001b[49m\n\u001b[1;32m    130\u001b[0m \u001b[38;5;28;01mexcept\u001b[39;00m \u001b[38;5;167;01mStopIteration\u001b[39;00m \u001b[38;5;28;01mas\u001b[39;00m exc:\n\u001b[1;32m    131\u001b[0m     \u001b[38;5;28;01mreturn\u001b[39;00m exc\u001b[38;5;241m.\u001b[39mvalue\n",
      "\u001b[0;31mKeyboardInterrupt\u001b[0m: "
     ]
    }
   ],
   "source": [
    "ref = np.sum(VALID_Y) / len(VALID_Y)\n",
    "\n",
    "# =========== Model Section ========== #\n",
    "\n",
    "batch_dir = '/glade/scratch/ksha/DATA/NCAR_batch/'\n",
    "temp_dir = '/glade/work/ksha/NCAR/Keras_models/'\n",
    "\n",
    "key = 'HY_Drop_Lead{}'.format(lead_name)\n",
    "\n",
    "model_name = '{}'.format(key)\n",
    "model_path = temp_dir+model_name\n",
    "\n",
    "tol = 0\n",
    "\n",
    "# ========== Training loop ========== #\n",
    "L_pos = len(TRAIN_256_pos)\n",
    "L_neg = len(TRAIN_256_neg)\n",
    "\n",
    "record = 1.1\n",
    "print(\"Initial record: {}\".format(record))\n",
    "\n",
    "min_del = 0\n",
    "max_tol = 100 # early stopping with patience\n",
    "\n",
    "epochs = 500\n",
    "batch_size = 64\n",
    "L_train = 16\n",
    "\n",
    "for r in range(training_rounds):\n",
    "    if r == 0:\n",
    "        tol = 0\n",
    "    else:\n",
    "        tol = -200\n",
    "\n",
    "    model = create_model()\n",
    "    #\n",
    "    # model.compile(loss=keras.losses.mean_squared_error,\n",
    "    #               optimizer=keras.optimizers.Adam(lr=1e-5))\n",
    "    \n",
    "    model.compile(loss=keras.losses.BinaryCrossentropy(from_logits=False),\n",
    "                  optimizer=keras.optimizers.Adam(lr=1e-4))\n",
    "    \n",
    "    set_seeds(int(seeds[r]))\n",
    "    print('Training round {}'.format(r))\n",
    "\n",
    "    for i in range(epochs):            \n",
    "        start_time = time.time()\n",
    "\n",
    "        # loop of batch\n",
    "        for j in range(L_train):\n",
    "            N_pos = 32\n",
    "            N_neg = batch_size - N_pos\n",
    "\n",
    "            ind_neg = du.shuffle_ind(L_neg)\n",
    "            ind_pos = du.shuffle_ind(L_pos)\n",
    "\n",
    "            ind_neg_pick = ind_neg[:N_neg]\n",
    "            ind_pos_pick = ind_pos[:N_pos]\n",
    "\n",
    "            X_batch_neg = TRAIN_256_neg[ind_neg_pick, :]\n",
    "            X_batch_pos = TRAIN_256_pos[ind_pos_pick, :]\n",
    "            \n",
    "            X_batch_stn_neg = TRAIN_stn_neg[ind_neg_pick, :]\n",
    "            X_batch_stn_pos = TRAIN_stn_pos[ind_pos_pick, :]\n",
    "\n",
    "            X_batch = np.concatenate((X_batch_neg, X_batch_pos), axis=0)\n",
    "            X_batch_stn = np.concatenate((X_batch_stn_neg, X_batch_stn_pos), axis=0)\n",
    "            \n",
    "            Y_batch = np.zeros([batch_size,])\n",
    "            #Y_batch[:N_neg] = np.random.uniform(low=0.0, high=0.1, size=N_neg)\n",
    "            Y_batch[N_neg:] = np.random.uniform(low=0.95, high=1.0, size=N_pos)\n",
    "            \n",
    "            ind_ = du.shuffle_ind(batch_size)\n",
    "\n",
    "            X_batch = X_batch[ind_, :]\n",
    "            X_batch_stn = X_batch_stn[ind_, :]\n",
    "            Y_batch = Y_batch[ind_]\n",
    "\n",
    "            # train on batch\n",
    "            model.train_on_batch([X_batch, X_batch_stn], Y_batch);\n",
    "\n",
    "        # epoch end operations\n",
    "        Y_pred = model.predict([VALID_X, VALID_merge])\n",
    "\n",
    "        Y_pred[Y_pred<0] = 0\n",
    "        Y_pred[Y_pred>1] = 1\n",
    "\n",
    "        record_temp = verif_metric(VALID_Y, Y_pred, ref)\n",
    "\n",
    "        # if i % 10 == 0:\n",
    "        #     model.save(model_path_backup)\n",
    "\n",
    "        if (record - record_temp > min_del):\n",
    "            print('Validation loss improved from {} to {}'.format(record, record_temp))\n",
    "            record = record_temp\n",
    "            tol = 0\n",
    "            \n",
    "            #print('tol: {}'.format(tol))\n",
    "            # save\n",
    "            print('save to: {}'.format(model_path))\n",
    "            model.save(model_path)\n",
    "        else:\n",
    "            print('Validation loss {} NOT improved'.format(record_temp))\n",
    "            if record_temp > 1.0:\n",
    "                print('Early stopping')\n",
    "                break;\n",
    "            else:\n",
    "                tol += 1\n",
    "                if tol >= max_tol:\n",
    "                    print('Early stopping')\n",
    "                    break;\n",
    "                else:\n",
    "                    continue;\n",
    "        print(\"--- %s seconds ---\" % (time.time() - start_time))"
   ]
  },
  {
   "cell_type": "code",
   "execution_count": 43,
   "id": "e326cf77-8ac3-46a8-9971-ee5af1b95cac",
   "metadata": {},
   "outputs": [],
   "source": [
    "from sklearn.isotonic import IsotonicRegression\n",
    "from sklearn.linear_model import LogisticRegression"
   ]
  },
  {
   "cell_type": "code",
   "execution_count": 44,
   "id": "0c66da61-cef5-4c31-8508-3157f5473e6f",
   "metadata": {},
   "outputs": [],
   "source": [
    "model = create_model()\n",
    "\n",
    "model.compile(loss=keras.losses.BinaryCrossentropy(from_logits=False),\n",
    "              optimizer=keras.optimizers.Adam(lr=0))\n",
    "\n",
    "W_old = k_utils.dummy_loader('/glade/work/ksha/NCAR/Keras_models/HY_Drop_Lead{}'.format(lead_name))\n",
    "model.set_weights(W_old)"
   ]
  },
  {
   "cell_type": "code",
   "execution_count": 45,
   "id": "7b0d0d43-8929-49ca-b850-af7a403484e1",
   "metadata": {},
   "outputs": [],
   "source": [
    "ref = np.sum(VALID_Y) / len(VALID_Y)\n",
    "Y_pred = model.predict([VALID_X, VALID_merge])"
   ]
  },
  {
   "cell_type": "code",
   "execution_count": 46,
   "id": "11b7e95a-f813-40f7-9a5d-011908722962",
   "metadata": {},
   "outputs": [
    {
     "data": {
      "text/plain": [
       "0.8243928126603951"
      ]
     },
     "execution_count": 46,
     "metadata": {},
     "output_type": "execute_result"
    }
   ],
   "source": [
    "verif_metric(VALID_Y, Y_pred, ref)"
   ]
  },
  {
   "cell_type": "code",
   "execution_count": 47,
   "id": "3305590d-522c-4fa4-9309-313980eb1840",
   "metadata": {},
   "outputs": [],
   "source": [
    "# save_dict = {}\n",
    "# save_dict['Y_pred'] = Y_pred\n",
    "# save_dict['VALID_Y'] = VALID_Y\n",
    "# np.save('{}RESULT_BASE_lead{}_base.npy'.format(filepath_vec, lead), save_dict)\n",
    "# print('{}RESULT_BASE_lead{}_base.npy'.format(filepath_vec, lead))"
   ]
  },
  {
   "cell_type": "code",
   "execution_count": 48,
   "id": "376ba8aa-f93b-4e29-a4d7-b07f25cc6abb",
   "metadata": {},
   "outputs": [],
   "source": [
    "Pred_TRAIN = model.predict([TRAIN_X_v3, TRAIN_stn_v3])\n",
    "Pred_VALID = model.predict([VALID_X, VALID_stn])"
   ]
  },
  {
   "cell_type": "code",
   "execution_count": 49,
   "id": "dcd674f8-ace7-4662-a0fb-a46e2d616659",
   "metadata": {},
   "outputs": [],
   "source": [
    "calib_model1 = IsotonicRegression(out_of_bounds='clip').fit(Pred_TRAIN[:, 0], TRAIN_Y_v3)\n",
    "y_pred_calib1 = calib_model1.predict(Pred_VALID)"
   ]
  },
  {
   "cell_type": "code",
   "execution_count": 50,
   "id": "a083637e-f51f-40ad-8c07-8cf788f012db",
   "metadata": {},
   "outputs": [
    {
     "data": {
      "text/plain": [
       "[<matplotlib.lines.Line2D at 0x2b91401c1070>]"
      ]
     },
     "execution_count": 50,
     "metadata": {},
     "output_type": "execute_result"
    },
    {
     "data": {
      "image/png": "[encoded data removed]",
      "text/plain": [
       "<Figure size 640x480 with 1 Axes>"
      ]
     },
     "metadata": {},
     "output_type": "display_data"
    }
   ],
   "source": [
    "plt.plot(VALID_Y)\n",
    "plt.plot(y_pred_calib1)\n",
    "plt.plot(Y_pred)"
   ]
  },
  {
   "cell_type": "code",
   "execution_count": 51,
   "id": "f9f0e31b-f279-4a1f-991d-9ead2acaa3bb",
   "metadata": {},
   "outputs": [
    {
     "data": {
      "text/plain": [
       "0.8240657952745123"
      ]
     },
     "execution_count": 51,
     "metadata": {},
     "output_type": "execute_result"
    }
   ],
   "source": [
    "verif_metric(VALID_Y, y_pred_calib1, ref)"
   ]
  },
  {
   "cell_type": "code",
   "execution_count": 52,
   "id": "d52a64b3-5c68-4170-9a6b-1c347221a595",
   "metadata": {},
   "outputs": [
    {
     "data": {
      "text/plain": [
       "[<matplotlib.lines.Line2D at 0x2b913ad2e130>]"
      ]
     },
     "execution_count": 52,
     "metadata": {},
     "output_type": "execute_result"
    },
    {
     "data": {
      "image/png": "[encoded data removed]",
      "text/plain": [
       "<Figure size 640x480 with 1 Axes>"
      ]
     },
     "metadata": {},
     "output_type": "display_data"
    }
   ],
   "source": [
    "plt.plot(TRAIN_Y_v3)\n",
    "plt.plot(Pred_TRAIN)"
   ]
  },
  {
   "cell_type": "code",
   "execution_count": null,
   "id": "1586aafb-c13f-44f4-a8b2-bd2176c91e0f",
   "metadata": {},
   "outputs": [],
   "source": []
  }
 ],
 "metadata": {
  "kernelspec": {
   "display_name": "Python 3 (ipykernel)",
   "language": "python",
   "name": "python3"
  },
  "language_info": {
   "codemirror_mode": {
    "name": "ipython",
    "version": 3
   },
   "file_extension": ".py",
   "mimetype": "text/x-python",
   "name": "python",
   "nbconvert_exporter": "python",
   "pygments_lexer": "ipython3",
   "version": "3.9.15"
  }
 },
 "nbformat": 4,
 "nbformat_minor": 5
}
