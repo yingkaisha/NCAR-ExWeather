{
 "cells": [
  {
   "cell_type": "code",
   "execution_count": 51,
   "id": "27a0a927-ec50-44a0-b82c-26848002e35e",
   "metadata": {},
   "outputs": [],
   "source": [
    "# general tools\n",
    "import os\n",
    "import sys\n",
    "import time\n",
    "import h5py\n",
    "import random\n",
    "from glob import glob\n",
    "\n",
    "import numpy as np\n",
    "from random import shuffle"
   ]
  },
  {
   "cell_type": "code",
   "execution_count": 2,
   "id": "cfe0788b-8e5b-42c8-9b8f-202b929a9de2",
   "metadata": {},
   "outputs": [],
   "source": [
    "# from sklearn.neural_network import MLPClassifier\n",
    "# from sklearn.neighbors import KNeighborsClassifier\n",
    "# from sklearn.svm import SVC\n",
    "# from sklearn.gaussian_process import GaussianProcessClassifier\n",
    "# from sklearn.gaussian_process.kernels import RBF\n",
    "# from sklearn.tree import DecisionTreeClassifier\n",
    "# from sklearn.ensemble import RandomForestClassifier, AdaBoostClassifier\n",
    "# from sklearn.naive_bayes import GaussianNB"
   ]
  },
  {
   "cell_type": "code",
   "execution_count": 3,
   "id": "ed60309c-e19e-4869-ae18-694ad645527f",
   "metadata": {},
   "outputs": [],
   "source": [
    "sys.path.insert(0, '/glade/u/home/ksha/NCAR/')\n",
    "sys.path.insert(0, '/glade/u/home/ksha/NCAR/libs/')\n",
    "\n",
    "from namelist import *\n",
    "import data_utils as du\n",
    "import graph_utils as gu\n",
    "\n",
    "import matplotlib.pyplot as plt\n",
    "%matplotlib inline"
   ]
  },
  {
   "cell_type": "code",
   "execution_count": 4,
   "id": "e3a620be-f0df-4227-b70c-1ece27788f60",
   "metadata": {},
   "outputs": [],
   "source": [
    "from sklearn.metrics import classification_report, auc, roc_curve\n",
    "from sklearn.metrics import confusion_matrix"
   ]
  },
  {
   "cell_type": "code",
   "execution_count": 5,
   "id": "5823f8f1-c29a-4e3f-9dac-5f28fa91d762",
   "metadata": {},
   "outputs": [],
   "source": [
    "from sklearn.calibration import calibration_curve\n",
    "from sklearn.metrics import brier_score_loss\n",
    "from sklearn.isotonic import IsotonicRegression\n",
    "from sklearn.linear_model import LogisticRegression"
   ]
  },
  {
   "cell_type": "code",
   "execution_count": null,
   "id": "7b493ebc-5503-40fa-aa74-12d403b2dd24",
   "metadata": {},
   "outputs": [],
   "source": []
  },
  {
   "cell_type": "markdown",
   "id": "c88b54cc-978c-4c87-a12b-8b8e4530779d",
   "metadata": {},
   "source": [
    "### Training set"
   ]
  },
  {
   "cell_type": "code",
   "execution_count": 2,
   "id": "b11898a9-8ada-4626-b7c9-b4990d3927a1",
   "metadata": {},
   "outputs": [],
   "source": [
    "# filename_train = sorted(glob(\"/glade/scratch/ksha/DATA/NCAR_batch/TRAIN*neg_neg_neg*lead2.npy\")) + \\\n",
    "#                  sorted(glob(\"/glade/scratch/ksha/DATA/NCAR_batch/TRAIN*pos*lead2.npy\")) + \\\n",
    "#                  sorted(glob(\"/glade/scratch/ksha/DATA/NCAR_batch/TRAIN*neg_neg_neg*lead3.npy\")) + \\\n",
    "#                  sorted(glob(\"/glade/scratch/ksha/DATA/NCAR_batch/TRAIN*pos*lead3.npy\")) + \\\n",
    "#                  sorted(glob(\"/glade/scratch/ksha/DATA/NCAR_batch/TRAIN*neg_neg_neg*lead4.npy\")) + \\\n",
    "#                  sorted(glob(\"/glade/scratch/ksha/DATA/NCAR_batch/TRAIN*pos*lead4.npy\")) + \\"
   ]
  },
  {
   "cell_type": "code",
   "execution_count": 7,
   "id": "5330c355-896f-45a1-9e9b-d530c142a15c",
   "metadata": {},
   "outputs": [],
   "source": [
    "# data_lead1_p0 = np.load('/glade/work/ksha/NCAR/TRAIN_pred_lead1_part0_vec2.npy', allow_pickle=True)[()]\n",
    "# data_lead1_p1 = np.load('/glade/work/ksha/NCAR/TRAIN_pred_lead1_part1_vec2.npy', allow_pickle=True)[()]\n",
    "# data_lead1_p2 = np.load('/glade/work/ksha/NCAR/TRAIN_pred_lead1_part2_vec2.npy', allow_pickle=True)[()]\n",
    "\n",
    "data_lead2_p0 = np.load('/glade/work/ksha/NCAR/TRAIN_pred_lead2_part0_vec2.npy', allow_pickle=True)[()]\n",
    "data_lead2_p1 = np.load('/glade/work/ksha/NCAR/TRAIN_pred_lead2_part1_vec2.npy', allow_pickle=True)[()]\n",
    "data_lead2_p2 = np.load('/glade/work/ksha/NCAR/TRAIN_pred_lead2_part2_vec2.npy', allow_pickle=True)[()]\n",
    "\n",
    "data_lead3_p0 = np.load('/glade/work/ksha/NCAR/TRAIN_pred_lead3_part0_vec2.npy', allow_pickle=True)[()]\n",
    "data_lead3_p1 = np.load('/glade/work/ksha/NCAR/TRAIN_pred_lead3_part1_vec2.npy', allow_pickle=True)[()]\n",
    "data_lead3_p2 = np.load('/glade/work/ksha/NCAR/TRAIN_pred_lead3_part2_vec2.npy', allow_pickle=True)[()]\n",
    "\n",
    "data_lead4_p0 = np.load('/glade/work/ksha/NCAR/TRAIN_pred_lead4_part0_vec2.npy', allow_pickle=True)[()]\n",
    "data_lead4_p1 = np.load('/glade/work/ksha/NCAR/TRAIN_pred_lead4_part1_vec2.npy', allow_pickle=True)[()]\n",
    "data_lead4_p2 = np.load('/glade/work/ksha/NCAR/TRAIN_pred_lead4_part2_vec2.npy', allow_pickle=True)[()]"
   ]
  },
  {
   "cell_type": "code",
   "execution_count": 8,
   "id": "54111748-37d5-4f6a-b442-e5859fb9606b",
   "metadata": {},
   "outputs": [],
   "source": [
    "TRAIN_256 = np.concatenate((data_lead2_p0['y_vector'], \n",
    "                            data_lead2_p1['y_vector'], \n",
    "                            data_lead2_p2['y_vector'],\n",
    "                            data_lead3_p0['y_vector'], \n",
    "                            data_lead3_p1['y_vector'], \n",
    "                            data_lead3_p2['y_vector'],\n",
    "                            data_lead4_p0['y_vector'], \n",
    "                            data_lead4_p1['y_vector'], \n",
    "                            data_lead4_p2['y_vector'],), axis=0)\n",
    "\n",
    "\n",
    "TRAIN_pred = np.concatenate((data_lead2_p0['y_pred'], \n",
    "                             data_lead2_p1['y_pred'], \n",
    "                             data_lead2_p2['y_pred'],\n",
    "                             data_lead3_p0['y_pred'], \n",
    "                             data_lead3_p1['y_pred'], \n",
    "                             data_lead3_p2['y_pred'],\n",
    "                             data_lead4_p0['y_pred'], \n",
    "                             data_lead4_p1['y_pred'], \n",
    "                             data_lead4_p2['y_pred'],), axis=0)\n",
    "\n",
    "TRAIN_Y = np.concatenate((data_lead2_p0['y_true'], \n",
    "                          data_lead2_p1['y_true'], \n",
    "                          data_lead2_p2['y_true'],\n",
    "                          data_lead3_p0['y_true'], \n",
    "                          data_lead3_p1['y_true'], \n",
    "                          data_lead3_p2['y_true'],\n",
    "                          data_lead4_p0['y_true'], \n",
    "                          data_lead4_p1['y_true'], \n",
    "                          data_lead4_p2['y_true'],), axis=0)"
   ]
  },
  {
   "cell_type": "code",
   "execution_count": 9,
   "id": "4bd3252e-4a2f-4bb3-8d75-2816a47ba628",
   "metadata": {},
   "outputs": [],
   "source": [
    "#TRAIN_256 = np.concatenate((TRAIN_256, TRAIN_pred), axis=1)"
   ]
  },
  {
   "cell_type": "code",
   "execution_count": 10,
   "id": "37447acc-abf3-4f24-8e2b-2f94e505213c",
   "metadata": {},
   "outputs": [
    {
     "data": {
      "text/plain": [
       "(200000, 768)"
      ]
     },
     "execution_count": 10,
     "metadata": {},
     "output_type": "execute_result"
    }
   ],
   "source": [
    "data_lead4_p0['y_vector'].shape"
   ]
  },
  {
   "cell_type": "markdown",
   "id": "17c36306-acdf-4a5c-8954-fc6edf3e3755",
   "metadata": {},
   "source": [
    "### Validation set"
   ]
  },
  {
   "cell_type": "code",
   "execution_count": 11,
   "id": "358df2b3-d206-4ea6-9603-fe076c5fe550",
   "metadata": {},
   "outputs": [],
   "source": [
    "filename_valid = sorted(glob(\"/glade/scratch/ksha/DATA/NCAR_batch/VALID*neg_neg_neg*lead2.npy\")) + \\\n",
    "                sorted(glob(\"/glade/scratch/ksha/DATA/NCAR_batch/VALID*pos*lead2.npy\"))\n",
    "\n",
    "data_p_valid = np.load('/glade/work/ksha/NCAR/TEST_pred_lead2_vec2.npy', allow_pickle=True)[()]"
   ]
  },
  {
   "cell_type": "code",
   "execution_count": 12,
   "id": "c7f28215-0882-46ea-ab92-85ad318a6b61",
   "metadata": {},
   "outputs": [],
   "source": [
    "filename_test = filename_valid + sorted(glob(\"/glade/scratch/ksha/DATA/NCAR_batch_v4/*neg_neg_neg*lead{}.npy\".format(2))) + \\\n",
    "                sorted(glob(\"/glade/scratch/ksha/DATA/NCAR_batch_v4/*pos*lead{}.npy\".format(2)))\n",
    "\n",
    "data_p_test = np.load('/glade/work/ksha/NCAR/TEST_pred_lead2_v4_vec2.npy', allow_pickle=True)[()]"
   ]
  },
  {
   "cell_type": "code",
   "execution_count": null,
   "id": "2804f0bd-8e3a-4a75-b45f-d169873cd758",
   "metadata": {},
   "outputs": [],
   "source": []
  },
  {
   "cell_type": "code",
   "execution_count": 13,
   "id": "ce5b04fc-9f9d-494a-b246-86749cbb869e",
   "metadata": {},
   "outputs": [],
   "source": [
    "TEST_256 = np.concatenate((data_p_valid['y_vector'], data_p_test['y_vector']), axis=0)\n",
    "TEST_pred = np.concatenate((data_p_valid['y_pred'], data_p_test['y_pred']), axis=0)\n",
    "TEST_Y = np.concatenate((data_p_valid['y_true'], data_p_test['y_true']), axis=0)"
   ]
  },
  {
   "cell_type": "code",
   "execution_count": 14,
   "id": "ec56cb20-73b2-4951-82bd-f7197702e85c",
   "metadata": {},
   "outputs": [],
   "source": [
    "#TEST_256 = np.concatenate((TEST_256, TEST_pred), axis=1)"
   ]
  },
  {
   "cell_type": "code",
   "execution_count": null,
   "id": "d48542d6-71bc-4144-a42e-90de7c6f9958",
   "metadata": {},
   "outputs": [],
   "source": []
  },
  {
   "cell_type": "code",
   "execution_count": 15,
   "id": "92f3241e-c83f-49da-a788-270dbc911be9",
   "metadata": {},
   "outputs": [],
   "source": [
    "with h5py.File(save_dir+'HRRR_domain.hdf', 'r') as h5io:\n",
    "    lon_80km = h5io['lon_80km'][...]\n",
    "    lat_80km = h5io['lat_80km'][...]\n",
    "    land_mask_80km = h5io['land_mask_80km'][...]"
   ]
  },
  {
   "cell_type": "code",
   "execution_count": 16,
   "id": "a22abc19-cca5-4fce-8fe2-aac4eea61d46",
   "metadata": {},
   "outputs": [],
   "source": [
    "#filename_train[0]"
   ]
  },
  {
   "cell_type": "code",
   "execution_count": 58,
   "id": "633862ca-975d-4b24-8112-ae4322ca0b79",
   "metadata": {},
   "outputs": [],
   "source": [
    "ix = 20 #30\n",
    "iy = 50\n",
    "# land_mask_ = np.copy(land_mask_80km).astype(np.float)\n",
    "# land_mask_[ix, iy] = 10\n",
    "# plt.pcolormesh(land_mask_)"
   ]
  },
  {
   "cell_type": "code",
   "execution_count": 59,
   "id": "69fee794-8ebc-42f3-9b72-7cc61fcb47e5",
   "metadata": {},
   "outputs": [],
   "source": [
    "name_self = ['indx{}_indy{}'.format(ix, iy),]\n",
    "\n",
    "name_block3 = ['indx{}_indy{}'.format(ix-1, iy-1),\n",
    "               'indx{}_indy{}'.format(ix-1, iy),\n",
    "               'indx{}_indy{}'.format(ix-1, iy+1),\n",
    "               'indx{}_indy{}'.format(ix, iy-1),\n",
    "               'indx{}_indy{}'.format(ix, iy),\n",
    "               'indx{}_indy{}'.format(ix, iy+1),\n",
    "               'indx{}_indy{}'.format(ix+1, iy-1),\n",
    "               'indx{}_indy{}'.format(ix+1, iy),\n",
    "               'indx{}_indy{}'.format(ix+1, iy+1)]\n",
    "\n",
    "\n",
    "name_block5 = []\n",
    "\n",
    "for i in range(ix-2, ix+3):\n",
    "    for j in range(iy-2, iy+3):\n",
    "        name_block5.append('indx{}_indy{}'.format(i, j))"
   ]
  },
  {
   "cell_type": "code",
   "execution_count": 60,
   "id": "0ca736e8-bd40-439d-81b9-1a53f70bb2f2",
   "metadata": {},
   "outputs": [
    {
     "data": {
      "text/plain": [
       "1844232"
      ]
     },
     "execution_count": 60,
     "metadata": {},
     "output_type": "execute_result"
    }
   ],
   "source": [
    "len(TRAIN_Y)"
   ]
  },
  {
   "cell_type": "code",
   "execution_count": 61,
   "id": "71b9227a-c6a5-4d9d-9c67-2fe2878c9cef",
   "metadata": {},
   "outputs": [],
   "source": [
    "# L_train = len(filename_train)\n",
    "# flag_pick_train = [False,]*L_train\n",
    "# filename_pick_train = []\n",
    "\n",
    "# for i, name in enumerate(filename_train):\n",
    "#     for patterns in name_block5:\n",
    "#         if patterns in name:\n",
    "#             flag_pick_train[i] = True\n",
    "#             filename_pick_train.append(name)\n",
    "#             break;\n",
    "\n",
    "L_test = len(filename_test)\n",
    "flag_pick_test = [False,]*L_test\n",
    "filename_pick_test = []\n",
    "\n",
    "for i, name in enumerate(filename_test):\n",
    "    for patterns in name_block5:\n",
    "        if patterns in name:\n",
    "            flag_pick_test[i] = True\n",
    "            filename_pick_test.append(name)\n",
    "            break;"
   ]
  },
  {
   "cell_type": "code",
   "execution_count": 62,
   "id": "be528841-74b5-4f08-9a2d-049a9c421a6c",
   "metadata": {},
   "outputs": [],
   "source": [
    "# len(filename_pick_train)"
   ]
  },
  {
   "cell_type": "code",
   "execution_count": 63,
   "id": "49e5ff20-806f-4cee-82eb-0e658418f9c4",
   "metadata": {},
   "outputs": [],
   "source": [
    "TRAIN_256_pick = TRAIN_256#[flag_pick_train, :]\n",
    "TRAIN_pred_pick = TRAIN_pred#[flag_pick_train, :]\n",
    "TRAIN_Y_pick = TRAIN_Y#[flag_pick_train]"
   ]
  },
  {
   "cell_type": "code",
   "execution_count": 64,
   "id": "cf5b1155-546e-40c7-ba25-f7fe3c50445d",
   "metadata": {},
   "outputs": [
    {
     "data": {
      "text/plain": [
       "[<matplotlib.lines.Line2D at 0x2b9df49682e0>]"
      ]
     },
     "execution_count": 64,
     "metadata": {},
     "output_type": "execute_result"
    },
    {
     "data": {
      "image/png": "[encoded data removed]",
      "text/plain": [
       "<Figure size 640x480 with 1 Axes>"
      ]
     },
     "metadata": {},
     "output_type": "display_data"
    }
   ],
   "source": [
    "plt.plot(TRAIN_Y_pick)"
   ]
  },
  {
   "cell_type": "code",
   "execution_count": 65,
   "id": "c1a9a7c8-56cb-40ab-8a74-bb80972e34e1",
   "metadata": {},
   "outputs": [],
   "source": [
    "TRAIN_256_pos = TRAIN_256[TRAIN_Y==1]\n",
    "TRAIN_256_neg = TRAIN_256[TRAIN_Y==0]\n",
    "\n",
    "# TRAIN_Y_pos = TRAIN_Y_pick[TRAIN_Y_pick==1]\n",
    "# TRAIN_Y_neg = TRAIN_Y_pick[TRAIN_Y_pick==0]"
   ]
  },
  {
   "cell_type": "code",
   "execution_count": 66,
   "id": "99a59124-90ed-48ca-8ff0-7c88f301f674",
   "metadata": {},
   "outputs": [],
   "source": [
    "def pos_mixer(TRAIN, L, a0=0, a1=0.2):\n",
    "    data_shape = TRAIN.shape\n",
    "    out = np.empty((L, data_shape[-1]))\n",
    "    \n",
    "    for i in range(L):\n",
    "        inds = np.random.choice(data_shape[0], 2)\n",
    "        a = np.random.uniform(a0, a1)\n",
    "        out[i, :] = a*TRAIN[inds[0], :] + (1-a)*TRAIN[inds[1], :]\n",
    "    return out\n",
    "\n",
    "\n",
    "def neg_mixer(TRAIN, L, a0=0, a1=0.2):\n",
    "    data_shape = TRAIN.shape\n",
    "    out = np.empty((L, data_shape[-1]))\n",
    "    \n",
    "    for i in range(L):\n",
    "        inds = np.random.choice(data_shape[0], 2)\n",
    "        a = np.random.uniform(a0, a1)\n",
    "        out[i, :] = a*TRAIN[inds[0], :] + (1-a)*TRAIN[inds[1], :]\n",
    "    return out"
   ]
  },
  {
   "cell_type": "code",
   "execution_count": 67,
   "id": "df2676a9-a4db-4828-8ff2-fd65e40697c5",
   "metadata": {},
   "outputs": [],
   "source": [
    "TEST_256_pick = TEST_256[flag_pick_test, :]\n",
    "TEST_pred_pick = TEST_pred[flag_pick_test, :]\n",
    "TEST_Y_pick = TEST_Y[flag_pick_test]"
   ]
  },
  {
   "cell_type": "code",
   "execution_count": 68,
   "id": "e513af7a-19f1-4257-b192-9fa216a78a95",
   "metadata": {},
   "outputs": [
    {
     "data": {
      "text/plain": [
       "[<matplotlib.lines.Line2D at 0x2b9dec711d00>]"
      ]
     },
     "execution_count": 68,
     "metadata": {},
     "output_type": "execute_result"
    },
    {
     "data": {
      "image/png": "[encoded data removed]",
      "text/plain": [
       "<Figure size 640x480 with 1 Axes>"
      ]
     },
     "metadata": {},
     "output_type": "display_data"
    }
   ],
   "source": [
    "plt.plot(TEST_Y_pick)"
   ]
  },
  {
   "cell_type": "code",
   "execution_count": 69,
   "id": "ea17083f-ece8-4c91-ba7f-d86ed45f97ed",
   "metadata": {},
   "outputs": [],
   "source": [
    "# plt.plot(pos_mixer(TRAIN_256_pos, 1, a0=0, a1=0.2).T);\n",
    "# plt.plot(TRAIN_256_neg[0, :].T);"
   ]
  },
  {
   "cell_type": "code",
   "execution_count": 70,
   "id": "654d6835-c589-4107-a6c2-a207b6aa8fd5",
   "metadata": {},
   "outputs": [],
   "source": [
    "import tensorflow as tf\n",
    "from tensorflow import keras\n",
    "from keras_unet_collection import utils as k_utils"
   ]
  },
  {
   "cell_type": "code",
   "execution_count": 71,
   "id": "b529ab09-50be-4432-91ae-fc3a7fb7672d",
   "metadata": {},
   "outputs": [],
   "source": [
    "from tensorflow.keras import backend"
   ]
  },
  {
   "cell_type": "code",
   "execution_count": 72,
   "id": "4574ce7e-3091-44d8-9d4d-d92b2c18f557",
   "metadata": {},
   "outputs": [],
   "source": [
    "def create_model():\n",
    "\n",
    "    IN = keras.Input((768,))\n",
    "\n",
    "    X = IN\n",
    "\n",
    "    X = keras.layers.Dense(1024, activity_regularizer=keras.regularizers.L2(1e-2))(X)\n",
    "    X = keras.layers.BatchNormalization()(X)\n",
    "    X = keras.layers.Activation(\"gelu\")(X)\n",
    "\n",
    "    X = keras.layers.Dropout(0.3)(X)\n",
    "    #X = keras.layers.GaussianDropout(0.1)(X)\n",
    "\n",
    "    X = keras.layers.Dense(512, activity_regularizer=keras.regularizers.L2(1e-2))(X)\n",
    "    X = keras.layers.BatchNormalization()(X)\n",
    "    X = keras.layers.Activation(\"gelu\")(X)\n",
    "\n",
    "    X = keras.layers.Dropout(0.3)(X)\n",
    "    #X = keras.layers.GaussianDropout(0.1)(X)\n",
    "\n",
    "    X = keras.layers.Dense(128, activity_regularizer=keras.regularizers.L2(1e-2))(X)\n",
    "    X = keras.layers.BatchNormalization()(X)\n",
    "    X = keras.layers.Activation(\"gelu\")(X)\n",
    "\n",
    "    X = keras.layers.Dropout(0.3)(X)\n",
    "\n",
    "    X = keras.layers.Dense(64, activity_regularizer=keras.regularizers.L2(1e-2))(X)\n",
    "    X = keras.layers.BatchNormalization()(X)\n",
    "    X = keras.layers.Activation(\"gelu\")(X)\n",
    "\n",
    "    OUT = X\n",
    "    OUT = keras.layers.Dense(1, activation='sigmoid', bias_initializer=keras.initializers.Constant(-10))(OUT)\n",
    "\n",
    "    model = keras.models.Model(inputs=IN, outputs=OUT)\n",
    "    \n",
    "    return model"
   ]
  },
  {
   "cell_type": "code",
   "execution_count": 73,
   "id": "a2ff965c-0edb-4c74-b4c0-65a86e84593b",
   "metadata": {},
   "outputs": [],
   "source": [
    "model = create_model()\n",
    "\n",
    "model.compile(loss=keras.losses.BinaryCrossentropy(from_logits=False),\n",
    "              optimizer=keras.optimizers.Adam(lr=1e-5))\n",
    "#"
   ]
  },
  {
   "cell_type": "code",
   "execution_count": 74,
   "id": "870ba093-b002-461c-a865-6b667f44ef8f",
   "metadata": {},
   "outputs": [],
   "source": [
    "batch_dir = '/glade/scratch/ksha/DATA/NCAR_batch/'\n",
    "temp_dir = '/glade/work/ksha/NCAR/Keras_models/'\n",
    "\n",
    "key = 'HEAD_Lead2'\n",
    "\n",
    "model_name = '{}_ix{}_iy{}'.format(key, ix, iy)\n",
    "model_path = temp_dir+model_name\n",
    "\n",
    "# W_old = k_utils.dummy_loader(temp_dir+'HEAD_Lead2_ix{}_iy{}_tune'.format(ix, iy))\n",
    "# model.set_weights(W_old)"
   ]
  },
  {
   "cell_type": "code",
   "execution_count": 75,
   "id": "8538dab9-2403-472e-9a75-5ea2865d64ba",
   "metadata": {},
   "outputs": [],
   "source": [
    "Y_pred = model.predict([TEST_256_pick])\n",
    "Y_pred[Y_pred<0] = 0\n",
    "Y_pred[Y_pred>1] = 1"
   ]
  },
  {
   "cell_type": "code",
   "execution_count": 76,
   "id": "90cc40e0-da9d-4709-b602-c86fede43192",
   "metadata": {},
   "outputs": [],
   "source": [
    "ref = np.sum(TEST_Y_pick) / len(TEST_Y_pick)"
   ]
  },
  {
   "cell_type": "code",
   "execution_count": 77,
   "id": "442f38d9-c0d3-441b-88dd-60527a3aebf5",
   "metadata": {},
   "outputs": [
    {
     "data": {
      "text/plain": [
       "0.0029473684210526317"
      ]
     },
     "execution_count": 77,
     "metadata": {},
     "output_type": "execute_result"
    }
   ],
   "source": [
    "ref"
   ]
  },
  {
   "cell_type": "code",
   "execution_count": 78,
   "id": "acf82e87-a839-43e8-b96f-9f02be97a9db",
   "metadata": {},
   "outputs": [],
   "source": [
    "def verif_metric(VALID_target, Y_pred, ref):\n",
    "\n",
    "\n",
    "    # fpr, tpr, thresholds = roc_curve(VALID_target.ravel(), Y_pred.ravel())\n",
    "    # AUC = auc(fpr, tpr)\n",
    "    # AUC_metric = 1 - AUC\n",
    "    \n",
    "    BS = np.mean((VALID_target.ravel() - Y_pred.ravel())**2)\n",
    "    #ll = log_loss(VALID_target.ravel(), Y_pred.ravel())\n",
    "    \n",
    "    #print('{}'.format(BS))\n",
    "    metric = BS\n",
    "\n",
    "    return metric / ref"
   ]
  },
  {
   "cell_type": "code",
   "execution_count": 79,
   "id": "91212a23-ec73-4db0-8c0b-8c01893c9810",
   "metadata": {},
   "outputs": [
    {
     "name": "stdout",
     "output_type": "stream",
     "text": [
      "Initial record: 0.9999276415007665\n"
     ]
    }
   ],
   "source": [
    "record = verif_metric(TEST_Y_pick, Y_pred, ref)\n",
    "print(\"Initial record: {}\".format(record))"
   ]
  },
  {
   "cell_type": "code",
   "execution_count": 80,
   "id": "641d641a-603c-48d9-ae6b-9ab0632cd77f",
   "metadata": {},
   "outputs": [],
   "source": [
    "tol = 0\n",
    "min_del = 0\n",
    "max_tol = 10 # early stopping with patience\n",
    "\n",
    "epochs = 500\n",
    "batch_size = 200\n",
    "L_train = 200 #int(len(TRAIN_Y_pick) / batch_size)\n"
   ]
  },
  {
   "cell_type": "code",
   "execution_count": 81,
   "id": "ca7c0652-4370-429f-aec1-f799eab6f6e8",
   "metadata": {},
   "outputs": [
    {
     "data": {
      "text/plain": [
       "[<matplotlib.lines.Line2D at 0x2b9ded79b700>]"
      ]
     },
     "execution_count": 81,
     "metadata": {},
     "output_type": "execute_result"
    },
    {
     "data": {
      "image/png": "[encoded data removed]",
      "text/plain": [
       "<Figure size 640x480 with 1 Axes>"
      ]
     },
     "metadata": {},
     "output_type": "display_data"
    }
   ],
   "source": [
    "plt.plot(Y_pred)\n",
    "plt.plot(TEST_Y_pick)"
   ]
  },
  {
   "cell_type": "code",
   "execution_count": 82,
   "id": "aad6dd68-d304-4781-812f-25f1a215e8ca",
   "metadata": {},
   "outputs": [
    {
     "data": {
      "text/plain": [
       "[<matplotlib.lines.Line2D at 0x2b9df3c41fa0>]"
      ]
     },
     "execution_count": 82,
     "metadata": {},
     "output_type": "execute_result"
    },
    {
     "data": {
      "image/png": "[encoded data removed]",
      "text/plain": [
       "<Figure size 640x480 with 1 Axes>"
      ]
     },
     "metadata": {},
     "output_type": "display_data"
    }
   ],
   "source": [
    "plt.plot(Y_pred[-100:])\n",
    "plt.plot(TEST_Y_pick[-100:])"
   ]
  },
  {
   "cell_type": "code",
   "execution_count": 83,
   "id": "f9174003-2ccf-482c-97f1-d7176917feee",
   "metadata": {},
   "outputs": [],
   "source": [
    "# callbacks = [keras.callbacks.EarlyStopping(monitor='val_loss', min_delta=0.0, patience=7),\n",
    "#              keras.callbacks.ModelCheckpoint(filepath=save_dir+'calib_model', \n",
    "#                                              monitor='val_loss', save_best_only=True)]\n",
    "\n",
    "# calib_model.fit(x=y_train_pred, y=y_train_true, batch_size=32, epochs=100, verbose=1,\n",
    "#                 callbacks=callbacks, validation_data=(y_pred, y_true), shuffle=True)"
   ]
  },
  {
   "cell_type": "code",
   "execution_count": 84,
   "id": "d5ff5114-0cbb-49af-b6d4-29b6e75f67d6",
   "metadata": {},
   "outputs": [],
   "source": [
    "# target_lr = 1e-4\n",
    "# total_steps = epochs\n",
    "# warmup_steps = int(0.05*total_steps)\n",
    "# hold = warmup_steps\n",
    "# global_step = np.arange(epochs)\n",
    "\n",
    "# learning_rate = 0.5 * target_lr * (1 + np.cos(np.pi * (global_step - warmup_steps - hold) / float(total_steps - warmup_steps - hold)))\n",
    "# warmup_lr = target_lr * (global_step / warmup_steps)"
   ]
  },
  {
   "cell_type": "code",
   "execution_count": 85,
   "id": "19605c90-b245-4b77-a6b0-ebc20423c929",
   "metadata": {},
   "outputs": [
    {
     "data": {
      "text/plain": [
       "1562"
      ]
     },
     "execution_count": 85,
     "metadata": {},
     "output_type": "execute_result"
    }
   ],
   "source": [
    "len(TRAIN_256_pos)"
   ]
  },
  {
   "cell_type": "code",
   "execution_count": 86,
   "id": "83b66a3d-fec8-400e-9243-18911d4df583",
   "metadata": {},
   "outputs": [],
   "source": [
    "training_rounds = 10\n",
    "seeds = [12342, 2536234, 98765, 473, 865, 7456, 69472, 3456357, 3425, 678]"
   ]
  },
  {
   "cell_type": "code",
   "execution_count": 87,
   "id": "4ee74f9b-8fef-47b2-b39f-7fb2c365cc8a",
   "metadata": {},
   "outputs": [],
   "source": [
    "def set_seeds(seed):\n",
    "    os.environ['PYTHONHASHSEED'] = str(seed)\n",
    "    random.seed(seed)\n",
    "    tf.random.set_seed(seed)\n",
    "    np.random.seed(seed)"
   ]
  },
  {
   "cell_type": "code",
   "execution_count": null,
   "id": "9d559ff9-4609-4745-88e2-85ba19044530",
   "metadata": {},
   "outputs": [
    {
     "name": "stdout",
     "output_type": "stream",
     "text": [
      "Initial record: 1.1\n",
      "Training round 0\n",
      "Validation loss improved from 1.1 to 0.99967876802209\n",
      "save to: /glade/work/ksha/NCAR/Keras_models/HEAD_Lead2_ix20_iy50\n",
      "INFO:tensorflow:Assets written to: /glade/work/ksha/NCAR/Keras_models/HEAD_Lead2_ix20_iy50/assets\n",
      "--- 18.31756019592285 seconds ---\n",
      "Validation loss improved from 0.99967876802209 to 0.9992185353655642\n",
      "save to: /glade/work/ksha/NCAR/Keras_models/HEAD_Lead2_ix20_iy50\n",
      "INFO:tensorflow:Assets written to: /glade/work/ksha/NCAR/Keras_models/HEAD_Lead2_ix20_iy50/assets\n",
      "--- 11.354659795761108 seconds ---\n",
      "Validation loss improved from 0.9992185353655642 to 0.9987796005557773\n",
      "save to: /glade/work/ksha/NCAR/Keras_models/HEAD_Lead2_ix20_iy50\n",
      "INFO:tensorflow:Assets written to: /glade/work/ksha/NCAR/Keras_models/HEAD_Lead2_ix20_iy50/assets\n",
      "--- 11.427933692932129 seconds ---\n",
      "Validation loss improved from 0.9987796005557773 to 0.9984249036508221\n",
      "save to: /glade/work/ksha/NCAR/Keras_models/HEAD_Lead2_ix20_iy50\n",
      "INFO:tensorflow:Assets written to: /glade/work/ksha/NCAR/Keras_models/HEAD_Lead2_ix20_iy50/assets\n",
      "--- 11.789087533950806 seconds ---\n",
      "Validation loss improved from 0.9984249036508221 to 0.9977432800439928\n",
      "save to: /glade/work/ksha/NCAR/Keras_models/HEAD_Lead2_ix20_iy50\n",
      "INFO:tensorflow:Assets written to: /glade/work/ksha/NCAR/Keras_models/HEAD_Lead2_ix20_iy50/assets\n",
      "--- 11.53666639328003 seconds ---\n",
      "Validation loss improved from 0.9977432800439928 to 0.9971663186016674\n",
      "save to: /glade/work/ksha/NCAR/Keras_models/HEAD_Lead2_ix20_iy50\n",
      "INFO:tensorflow:Assets written to: /glade/work/ksha/NCAR/Keras_models/HEAD_Lead2_ix20_iy50/assets\n",
      "--- 11.725674867630005 seconds ---\n",
      "Validation loss improved from 0.9971663186016674 to 0.9959576137364361\n",
      "save to: /glade/work/ksha/NCAR/Keras_models/HEAD_Lead2_ix20_iy50\n",
      "INFO:tensorflow:Assets written to: /glade/work/ksha/NCAR/Keras_models/HEAD_Lead2_ix20_iy50/assets\n",
      "--- 11.532349824905396 seconds ---\n",
      "Validation loss improved from 0.9959576137364361 to 0.9955673357479474\n",
      "save to: /glade/work/ksha/NCAR/Keras_models/HEAD_Lead2_ix20_iy50\n",
      "INFO:tensorflow:Assets written to: /glade/work/ksha/NCAR/Keras_models/HEAD_Lead2_ix20_iy50/assets\n",
      "--- 11.693459749221802 seconds ---\n",
      "Validation loss improved from 0.9955673357479474 to 0.9943978099084553\n",
      "save to: /glade/work/ksha/NCAR/Keras_models/HEAD_Lead2_ix20_iy50\n",
      "INFO:tensorflow:Assets written to: /glade/work/ksha/NCAR/Keras_models/HEAD_Lead2_ix20_iy50/assets\n",
      "--- 11.718488931655884 seconds ---\n",
      "Validation loss improved from 0.9943978099084553 to 0.9934880359747729\n",
      "save to: /glade/work/ksha/NCAR/Keras_models/HEAD_Lead2_ix20_iy50\n",
      "INFO:tensorflow:Assets written to: /glade/work/ksha/NCAR/Keras_models/HEAD_Lead2_ix20_iy50/assets\n",
      "--- 11.483760833740234 seconds ---\n",
      "Validation loss improved from 0.9934880359747729 to 0.9924568958956222\n",
      "save to: /glade/work/ksha/NCAR/Keras_models/HEAD_Lead2_ix20_iy50\n",
      "INFO:tensorflow:Assets written to: /glade/work/ksha/NCAR/Keras_models/HEAD_Lead2_ix20_iy50/assets\n",
      "--- 11.486477613449097 seconds ---\n",
      "Validation loss improved from 0.9924568958956222 to 0.9893518204363432\n",
      "save to: /glade/work/ksha/NCAR/Keras_models/HEAD_Lead2_ix20_iy50\n",
      "INFO:tensorflow:Assets written to: /glade/work/ksha/NCAR/Keras_models/HEAD_Lead2_ix20_iy50/assets\n",
      "--- 11.952173709869385 seconds ---\n",
      "Validation loss 0.9900566563447678 NOT improved\n",
      "Validation loss 0.9898729417845139 NOT improved\n",
      "Validation loss improved from 0.9893518204363432 to 0.9874635261277999\n",
      "save to: /glade/work/ksha/NCAR/Keras_models/HEAD_Lead2_ix20_iy50\n",
      "INFO:tensorflow:Assets written to: /glade/work/ksha/NCAR/Keras_models/HEAD_Lead2_ix20_iy50/assets\n",
      "--- 11.481286764144897 seconds ---\n",
      "Validation loss improved from 0.9874635261277999 to 0.9864435660040219\n",
      "save to: /glade/work/ksha/NCAR/Keras_models/HEAD_Lead2_ix20_iy50\n",
      "INFO:tensorflow:Assets written to: /glade/work/ksha/NCAR/Keras_models/HEAD_Lead2_ix20_iy50/assets\n",
      "--- 11.84490156173706 seconds ---\n",
      "Validation loss improved from 0.9864435660040219 to 0.9862235934257914\n",
      "save to: /glade/work/ksha/NCAR/Keras_models/HEAD_Lead2_ix20_iy50\n",
      "INFO:tensorflow:Assets written to: /glade/work/ksha/NCAR/Keras_models/HEAD_Lead2_ix20_iy50/assets\n",
      "--- 11.887838363647461 seconds ---\n",
      "Validation loss improved from 0.9862235934257914 to 0.9813940388868361\n",
      "save to: /glade/work/ksha/NCAR/Keras_models/HEAD_Lead2_ix20_iy50\n",
      "INFO:tensorflow:Assets written to: /glade/work/ksha/NCAR/Keras_models/HEAD_Lead2_ix20_iy50/assets\n",
      "--- 11.934649467468262 seconds ---\n",
      "Validation loss improved from 0.9813940388868361 to 0.9776462393512649\n",
      "save to: /glade/work/ksha/NCAR/Keras_models/HEAD_Lead2_ix20_iy50\n",
      "INFO:tensorflow:Assets written to: /glade/work/ksha/NCAR/Keras_models/HEAD_Lead2_ix20_iy50/assets\n",
      "--- 11.454930782318115 seconds ---\n",
      "Validation loss 0.9814869645495715 NOT improved\n",
      "Validation loss improved from 0.9776462393512649 to 0.9751363545642292\n",
      "save to: /glade/work/ksha/NCAR/Keras_models/HEAD_Lead2_ix20_iy50\n",
      "INFO:tensorflow:Assets written to: /glade/work/ksha/NCAR/Keras_models/HEAD_Lead2_ix20_iy50/assets\n",
      "--- 11.676328897476196 seconds ---\n",
      "Validation loss improved from 0.9751363545642292 to 0.9745455101181724\n",
      "save to: /glade/work/ksha/NCAR/Keras_models/HEAD_Lead2_ix20_iy50\n",
      "INFO:tensorflow:Assets written to: /glade/work/ksha/NCAR/Keras_models/HEAD_Lead2_ix20_iy50/assets\n",
      "--- 11.509026050567627 seconds ---\n",
      "Validation loss 0.975142993928348 NOT improved\n",
      "Validation loss improved from 0.9745455101181724 to 0.9648223890400562\n",
      "save to: /glade/work/ksha/NCAR/Keras_models/HEAD_Lead2_ix20_iy50\n",
      "INFO:tensorflow:Assets written to: /glade/work/ksha/NCAR/Keras_models/HEAD_Lead2_ix20_iy50/assets\n",
      "--- 11.866325378417969 seconds ---\n",
      "Validation loss improved from 0.9648223890400562 to 0.9571293073369438\n",
      "save to: /glade/work/ksha/NCAR/Keras_models/HEAD_Lead2_ix20_iy50\n",
      "INFO:tensorflow:Assets written to: /glade/work/ksha/NCAR/Keras_models/HEAD_Lead2_ix20_iy50/assets\n",
      "--- 11.512236595153809 seconds ---\n",
      "Validation loss 0.9577658319121489 NOT improved\n",
      "Validation loss improved from 0.9571293073369438 to 0.9487144961705853\n",
      "save to: /glade/work/ksha/NCAR/Keras_models/HEAD_Lead2_ix20_iy50\n",
      "INFO:tensorflow:Assets written to: /glade/work/ksha/NCAR/Keras_models/HEAD_Lead2_ix20_iy50/assets\n",
      "--- 12.001857280731201 seconds ---\n",
      "Validation loss improved from 0.9487144961705853 to 0.9408419082672826\n",
      "save to: /glade/work/ksha/NCAR/Keras_models/HEAD_Lead2_ix20_iy50\n",
      "INFO:tensorflow:Assets written to: /glade/work/ksha/NCAR/Keras_models/HEAD_Lead2_ix20_iy50/assets\n",
      "--- 11.700633525848389 seconds ---\n",
      "Validation loss improved from 0.9408419082672826 to 0.933757337847702\n",
      "save to: /glade/work/ksha/NCAR/Keras_models/HEAD_Lead2_ix20_iy50\n",
      "INFO:tensorflow:Assets written to: /glade/work/ksha/NCAR/Keras_models/HEAD_Lead2_ix20_iy50/assets\n",
      "--- 11.996154069900513 seconds ---\n",
      "Validation loss 0.9432297794011704 NOT improved\n",
      "Validation loss improved from 0.933757337847702 to 0.9318796195283855\n",
      "save to: /glade/work/ksha/NCAR/Keras_models/HEAD_Lead2_ix20_iy50\n",
      "INFO:tensorflow:Assets written to: /glade/work/ksha/NCAR/Keras_models/HEAD_Lead2_ix20_iy50/assets\n",
      "--- 11.502949237823486 seconds ---\n",
      "Validation loss improved from 0.9318796195283855 to 0.9212841327318974\n",
      "save to: /glade/work/ksha/NCAR/Keras_models/HEAD_Lead2_ix20_iy50\n",
      "INFO:tensorflow:Assets written to: /glade/work/ksha/NCAR/Keras_models/HEAD_Lead2_ix20_iy50/assets\n",
      "--- 11.948465824127197 seconds ---\n",
      "Validation loss improved from 0.9212841327318974 to 0.9202531875837798\n",
      "save to: /glade/work/ksha/NCAR/Keras_models/HEAD_Lead2_ix20_iy50\n",
      "INFO:tensorflow:Assets written to: /glade/work/ksha/NCAR/Keras_models/HEAD_Lead2_ix20_iy50/assets\n",
      "--- 11.55109977722168 seconds ---\n",
      "Validation loss improved from 0.9202531875837798 to 0.9101431153351615\n",
      "save to: /glade/work/ksha/NCAR/Keras_models/HEAD_Lead2_ix20_iy50\n",
      "INFO:tensorflow:Assets written to: /glade/work/ksha/NCAR/Keras_models/HEAD_Lead2_ix20_iy50/assets\n",
      "--- 11.934946060180664 seconds ---\n",
      "Validation loss improved from 0.9101431153351615 to 0.909814700750822\n",
      "save to: /glade/work/ksha/NCAR/Keras_models/HEAD_Lead2_ix20_iy50\n",
      "INFO:tensorflow:Assets written to: /glade/work/ksha/NCAR/Keras_models/HEAD_Lead2_ix20_iy50/assets\n",
      "--- 11.71339726448059 seconds ---\n",
      "Validation loss 0.9145876102458208 NOT improved\n",
      "Validation loss improved from 0.909814700750822 to 0.9011215635980455\n",
      "save to: /glade/work/ksha/NCAR/Keras_models/HEAD_Lead2_ix20_iy50\n",
      "INFO:tensorflow:Assets written to: /glade/work/ksha/NCAR/Keras_models/HEAD_Lead2_ix20_iy50/assets\n",
      "--- 11.897374629974365 seconds ---\n",
      "Validation loss 0.9056216455625651 NOT improved\n",
      "Validation loss 0.9383509553184383 NOT improved\n",
      "Validation loss 0.9128185724678284 NOT improved\n",
      "Validation loss 0.9290391563243677 NOT improved\n",
      "Validation loss 0.9695142522134513 NOT improved\n",
      "Validation loss 0.9410455901526361 NOT improved\n",
      "Validation loss 1.0231972218338066 NOT improved\n",
      "Early stopping\n",
      "Training round 1\n",
      "Validation loss 0.9997352503596882 NOT improved\n",
      "Validation loss 0.9993735144315992 NOT improved\n",
      "Validation loss 0.9990563116394627 NOT improved\n",
      "Validation loss 0.9986679700372153 NOT improved\n",
      "Validation loss 0.998120158988344 NOT improved\n",
      "Validation loss 0.9975867484599209 NOT improved\n",
      "Validation loss 0.9967356911094599 NOT improved\n",
      "Validation loss 0.9959452498807462 NOT improved\n",
      "Validation loss 0.9949069024012618 NOT improved\n",
      "Validation loss 0.9941287357714815 NOT improved\n",
      "Validation loss 0.9928552940547217 NOT improved\n",
      "Validation loss 0.9922583085362949 NOT improved\n",
      "Validation loss 0.989742734915394 NOT improved\n",
      "Validation loss 0.9888559272412125 NOT improved\n",
      "Validation loss 0.9877709250752951 NOT improved\n",
      "Validation loss 0.9856153598536636 NOT improved\n",
      "Validation loss 0.9833427785061792 NOT improved\n",
      "Validation loss 0.9827043646135616 NOT improved\n",
      "Validation loss 0.9762958102768132 NOT improved\n",
      "Validation loss 0.9760741488599188 NOT improved\n",
      "Validation loss 0.9731063088790747 NOT improved\n",
      "Validation loss 0.9674254417823052 NOT improved\n",
      "Validation loss 0.9684010403709501 NOT improved\n",
      "Validation loss 0.9645701055669113 NOT improved\n",
      "Validation loss 0.9598485415806913 NOT improved\n",
      "Validation loss 0.9532685391519866 NOT improved\n",
      "Validation loss 0.9491778135740166 NOT improved\n",
      "Validation loss 0.9465855135427498 NOT improved\n",
      "Validation loss 0.9383781270076972 NOT improved\n",
      "Validation loss 0.9377335273182923 NOT improved\n",
      "Validation loss 0.9298296792418883 NOT improved\n",
      "Validation loss 0.9287429109793655 NOT improved\n",
      "Validation loss 0.9242928906948891 NOT improved\n",
      "Validation loss 0.9174899946056937 NOT improved\n",
      "Validation loss 0.9150068616316156 NOT improved\n",
      "Validation loss 0.9219537681254302 NOT improved\n",
      "Validation loss 0.92100196413877 NOT improved\n",
      "Validation loss 0.9256502697763584 NOT improved\n",
      "Validation loss 0.9397342922428603 NOT improved\n",
      "Validation loss 0.9364202309718654 NOT improved\n",
      "Validation loss 0.9320413712474594 NOT improved\n",
      "Validation loss 0.9748705904914867 NOT improved\n",
      "Validation loss 0.9686055194514933 NOT improved\n",
      "Validation loss 1.0012958268359469 NOT improved\n",
      "Early stopping\n",
      "Training round 2\n",
      "Validation loss 0.9996942934382224 NOT improved\n",
      "Validation loss 0.9990677892539198 NOT improved\n",
      "Validation loss 0.9989170494092008 NOT improved\n",
      "Validation loss 0.9987919849257936 NOT improved\n",
      "Validation loss 0.9984813103226777 NOT improved\n",
      "Validation loss 0.9979269579948936 NOT improved\n",
      "Validation loss 0.9973761619197988 NOT improved\n",
      "Validation loss 0.9966913820570801 NOT improved\n",
      "Validation loss 0.9956022434089341 NOT improved\n",
      "Validation loss 0.9952045142447471 NOT improved\n",
      "Validation loss 0.9940765232585564 NOT improved\n",
      "Validation loss 0.9929253206760967 NOT improved\n",
      "Validation loss 0.9913034839887443 NOT improved\n",
      "Validation loss 0.989703199181625 NOT improved\n",
      "Validation loss 0.9874837727396742 NOT improved\n",
      "Validation loss 0.983444188834726 NOT improved\n",
      "Validation loss 0.983376199428149 NOT improved\n",
      "Validation loss 0.9821835515807706 NOT improved\n",
      "Validation loss 0.9810702836030818 NOT improved\n",
      "Validation loss 0.9746175768367383 NOT improved\n",
      "Validation loss 0.9725031886807828 NOT improved\n",
      "Validation loss 0.9633159298915203 NOT improved\n",
      "Validation loss 0.9601694256297129 NOT improved\n",
      "Validation loss 0.9532052378114876 NOT improved\n",
      "Validation loss 0.9612229970286624 NOT improved\n",
      "Validation loss 0.9573661046496912 NOT improved\n",
      "Validation loss 0.9537674876348242 NOT improved\n",
      "Validation loss 0.9460569708856831 NOT improved\n",
      "Validation loss 0.940494478329221 NOT improved\n",
      "Validation loss 0.9381027628891823 NOT improved\n",
      "Validation loss 0.9347781987833178 NOT improved\n",
      "Validation loss 0.9287074925329328 NOT improved\n",
      "Validation loss 0.9237042809371369 NOT improved\n",
      "Validation loss 0.9113643129458489 NOT improved\n",
      "Validation loss 0.9097420149832176 NOT improved\n",
      "Validation loss 0.9015206684471857 NOT improved\n",
      "Validation loss 0.9048822989345283 NOT improved\n",
      "Validation loss 0.9096142487223462 NOT improved\n",
      "Validation loss 0.9180264771156664 NOT improved\n",
      "Validation loss 0.9189751547234302 NOT improved\n",
      "Validation loss 0.9259062453298985 NOT improved\n",
      "Validation loss 0.9449044378248964 NOT improved\n",
      "Validation loss 0.9628376888175719 NOT improved\n",
      "Validation loss 0.9734941610580224 NOT improved\n",
      "Validation loss 1.1019925725760737 NOT improved\n",
      "Early stopping\n",
      "Training round 3\n",
      "Validation loss 0.9995899693639085 NOT improved\n",
      "Validation loss 0.9986418003091329 NOT improved\n",
      "Validation loss 0.9980372257287141 NOT improved\n",
      "Validation loss 0.9974603138724193 NOT improved\n",
      "Validation loss 0.9967650203909176 NOT improved\n",
      "Validation loss 0.9953365036956303 NOT improved\n",
      "Validation loss 0.9939198575303175 NOT improved\n",
      "Validation loss 0.9925031576149647 NOT improved\n",
      "Validation loss 0.9897919057244758 NOT improved\n",
      "Validation loss 0.9878816595265061 NOT improved\n",
      "Validation loss 0.9886484256738058 NOT improved\n",
      "Validation loss 0.9861269428896706 NOT improved\n",
      "Validation loss 0.9831096097119841 NOT improved\n",
      "Validation loss 0.9823758959655409 NOT improved\n",
      "Validation loss 0.981622406625816 NOT improved\n",
      "Validation loss 0.9808819162751445 NOT improved\n",
      "Validation loss 0.9737553018665027 NOT improved\n",
      "Validation loss 0.9705484349655294 NOT improved\n",
      "Validation loss 0.9689394791865195 NOT improved\n",
      "Validation loss 0.9644077334383356 NOT improved\n",
      "Validation loss 0.9596618563815191 NOT improved\n",
      "Validation loss 0.962340408718344 NOT improved\n",
      "Validation loss 0.9508342782843242 NOT improved\n",
      "Validation loss 0.9532507659586685 NOT improved\n",
      "Validation loss 0.9475408353205645 NOT improved\n",
      "Validation loss 0.9444307656164985 NOT improved\n",
      "Validation loss 0.9409778763812922 NOT improved\n",
      "Validation loss 0.9360136215309982 NOT improved\n",
      "Validation loss 0.9375205741008055 NOT improved\n",
      "Validation loss 0.9274020314767202 NOT improved\n",
      "Validation loss 0.9377761322641197 NOT improved\n",
      "Validation loss 0.9258665447030723 NOT improved\n",
      "Validation loss 0.9452918023780845 NOT improved\n",
      "Validation loss 0.9487331895674133 NOT improved\n",
      "Validation loss 0.9735424174530827 NOT improved\n",
      "Validation loss 0.9860953999868552 NOT improved\n",
      "Validation loss 0.9919829297195452 NOT improved\n",
      "Validation loss 0.9852523455301788 NOT improved\n",
      "Validation loss 1.0572938938014127 NOT improved\n",
      "Early stopping\n",
      "Training round 4\n",
      "Validation loss 0.9994425486797469 NOT improved\n",
      "Validation loss 0.9983541883138165 NOT improved\n",
      "Validation loss 0.9974144244811142 NOT improved\n",
      "Validation loss 0.9960296036963989 NOT improved\n",
      "Validation loss 0.9945165995320184 NOT improved\n",
      "Validation loss 0.9921077720553335 NOT improved\n",
      "Validation loss 0.9887743301993498 NOT improved\n",
      "Validation loss 0.9857975372379048 NOT improved\n",
      "Validation loss 0.9828064800398157 NOT improved\n",
      "Validation loss 0.9752995230233187 NOT improved\n",
      "Validation loss 0.9754018302909521 NOT improved\n",
      "Validation loss 0.9687360408256515 NOT improved\n",
      "Validation loss 0.9668304148287203 NOT improved\n",
      "Validation loss 0.9640370030421989 NOT improved\n",
      "Validation loss 0.9567238217546838 NOT improved\n",
      "Validation loss 0.9519495404780414 NOT improved\n",
      "Validation loss 0.9480104738625407 NOT improved\n",
      "Validation loss 0.9496641525324849 NOT improved\n",
      "Validation loss 0.9381244267263236 NOT improved\n",
      "Validation loss 0.9404635202259671 NOT improved\n",
      "Validation loss 0.9283715884195194 NOT improved\n",
      "Validation loss 0.9177206204457128 NOT improved\n",
      "Validation loss 0.918275622199931 NOT improved\n",
      "Validation loss 0.9071145447883803 NOT improved\n",
      "Validation loss 0.9013125721031873 NOT improved\n",
      "Validation loss 0.9035143438375965 NOT improved\n",
      "Validation loss improved from 0.9011215635980455 to 0.8854547514970205\n",
      "save to: /glade/work/ksha/NCAR/Keras_models/HEAD_Lead2_ix20_iy50\n",
      "INFO:tensorflow:Assets written to: /glade/work/ksha/NCAR/Keras_models/HEAD_Lead2_ix20_iy50/assets\n",
      "--- 11.613442182540894 seconds ---\n",
      "Validation loss improved from 0.8854547514970205 to 0.8776047834111064\n",
      "save to: /glade/work/ksha/NCAR/Keras_models/HEAD_Lead2_ix20_iy50\n",
      "INFO:tensorflow:Assets written to: /glade/work/ksha/NCAR/Keras_models/HEAD_Lead2_ix20_iy50/assets\n",
      "--- 12.909810543060303 seconds ---\n",
      "Validation loss 0.8864729824239915 NOT improved\n",
      "Validation loss 0.8817424587892155 NOT improved\n",
      "Validation loss 0.8781799964822423 NOT improved\n",
      "Validation loss 0.8827750216574666 NOT improved\n",
      "Validation loss 0.8821812805225167 NOT improved\n",
      "Validation loss 0.890318136554219 NOT improved\n",
      "Validation loss 0.8934753926286753 NOT improved\n",
      "Validation loss 0.9370603432169533 NOT improved\n",
      "Validation loss 0.9220686394463883 NOT improved\n",
      "Validation loss 0.9616088359243219 NOT improved\n",
      "Early stopping\n",
      "Training round 5\n",
      "Validation loss 0.9997226277246398 NOT improved\n",
      "Validation loss 0.9992887059914763 NOT improved\n",
      "Validation loss 0.9991010410448236 NOT improved\n",
      "Validation loss 0.9988689689835147 NOT improved\n",
      "Validation loss 0.9984950195275235 NOT improved\n",
      "Validation loss 0.9979100027847737 NOT improved\n",
      "Validation loss 0.9975851847908552 NOT improved\n",
      "Validation loss 0.9970406831571484 NOT improved\n",
      "Validation loss 0.9963910339802877 NOT improved\n",
      "Validation loss 0.9958797332824546 NOT improved\n",
      "Validation loss 0.9942541860420948 NOT improved\n",
      "Validation loss 0.9929461204955884 NOT improved\n",
      "Validation loss 0.9931313164004706 NOT improved\n",
      "Validation loss 0.9914178287402416 NOT improved\n",
      "Validation loss 0.9909671483700513 NOT improved\n",
      "Validation loss 0.9889240425399806 NOT improved\n",
      "Validation loss 0.9884821913147488 NOT improved\n",
      "Validation loss 0.9879282343343352 NOT improved\n",
      "Validation loss 0.9842113466386989 NOT improved\n",
      "Validation loss 0.9800912994184965 NOT improved\n",
      "Validation loss 0.9766494278142284 NOT improved\n",
      "Validation loss 0.9716592401395924 NOT improved\n",
      "Validation loss 0.9692205986120833 NOT improved\n",
      "Validation loss 0.9648161371181629 NOT improved\n",
      "Validation loss 0.9650876060448949 NOT improved\n",
      "Validation loss 0.958010082350943 NOT improved\n",
      "Validation loss 0.9583488223631327 NOT improved\n",
      "Validation loss 0.9466323485328341 NOT improved\n",
      "Validation loss 0.9440023636052014 NOT improved\n",
      "Validation loss 0.9358655921667283 NOT improved\n",
      "Validation loss 0.9355828403993136 NOT improved\n",
      "Validation loss 0.9222467274110331 NOT improved\n",
      "Validation loss 0.9217507824288556 NOT improved\n",
      "Validation loss 0.9185070916653771 NOT improved\n",
      "Validation loss 0.9132365725208439 NOT improved\n",
      "Validation loss 0.9134945623473765 NOT improved\n",
      "Validation loss 0.8971520611418619 NOT improved\n",
      "Validation loss 0.9047444215911494 NOT improved\n",
      "Validation loss 0.9002491264497052 NOT improved\n",
      "Validation loss 0.9007169769338603 NOT improved\n",
      "Validation loss 0.8970347520782959 NOT improved\n",
      "Validation loss 0.9231276337879113 NOT improved\n",
      "Validation loss 0.9339971305498089 NOT improved\n",
      "Validation loss 0.997539517467358 NOT improved\n",
      "Validation loss 0.9959257851442719 NOT improved\n",
      "Validation loss 1.0537715856377892 NOT improved\n",
      "Early stopping\n",
      "Training round 6\n",
      "Validation loss 0.9997448061744539 NOT improved\n",
      "Validation loss 0.9994651046193738 NOT improved\n",
      "Validation loss 0.9992645876603301 NOT improved\n",
      "Validation loss 0.9991156977456003 NOT improved\n",
      "Validation loss 0.998819507394388 NOT improved\n",
      "Validation loss 0.9984744731392524 NOT improved\n",
      "Validation loss 0.9981634674032711 NOT improved\n",
      "Validation loss 0.9976738959065434 NOT improved\n",
      "Validation loss 0.9971040610446017 NOT improved\n",
      "Validation loss 0.9966435369214092 NOT improved\n",
      "Validation loss 0.9960321008739781 NOT improved\n",
      "Validation loss 0.9951370418671223 NOT improved\n",
      "Validation loss 0.9947667209896695 NOT improved\n",
      "Validation loss 0.9935968583107715 NOT improved\n",
      "Validation loss 0.9922755205255909 NOT improved\n",
      "Validation loss 0.9920495164662021 NOT improved\n",
      "Validation loss 0.9911840107559999 NOT improved\n",
      "Validation loss 0.9893293457952873 NOT improved\n",
      "Validation loss 0.9871304465869128 NOT improved\n",
      "Validation loss 0.9869110759354109 NOT improved\n",
      "Validation loss 0.9842662395025333 NOT improved\n",
      "Validation loss 0.9828529192681595 NOT improved\n",
      "Validation loss 0.9798139341499229 NOT improved\n",
      "Validation loss 0.9789194634124111 NOT improved\n",
      "Validation loss 0.9723182485323051 NOT improved\n",
      "Validation loss 0.9741986376682448 NOT improved\n",
      "Validation loss 0.9744183722296759 NOT improved\n",
      "Validation loss 0.9625951530707796 NOT improved\n",
      "Validation loss 0.9663974104096879 NOT improved\n",
      "Validation loss 0.9547834713488508 NOT improved\n",
      "Validation loss 0.9530821959348056 NOT improved\n",
      "Validation loss 0.9489922533765675 NOT improved\n",
      "Validation loss 0.9379599726622789 NOT improved\n",
      "Validation loss 0.9382388747485797 NOT improved\n",
      "Validation loss 0.9374168536147486 NOT improved\n",
      "Validation loss 0.9342727105349492 NOT improved\n",
      "Validation loss 0.9161935816756978 NOT improved\n",
      "Validation loss 0.9085952119195878 NOT improved\n",
      "Validation loss 0.9122598160120745 NOT improved\n",
      "Validation loss 0.9078375830603251 NOT improved\n",
      "Validation loss 0.9053067194694665 NOT improved\n",
      "Validation loss 0.8999249399721465 NOT improved\n",
      "Validation loss 0.896008815203557 NOT improved\n",
      "Validation loss 0.8947356120645144 NOT improved\n",
      "Validation loss 0.9051897789744817 NOT improved\n",
      "Validation loss 0.9025345389170946 NOT improved\n",
      "Validation loss 0.924425719241565 NOT improved\n",
      "Validation loss 0.9139899393896983 NOT improved\n",
      "Validation loss 0.9854102479330478 NOT improved\n",
      "Validation loss 0.9580175890321924 NOT improved\n",
      "Validation loss 1.0067465995538067 NOT improved\n",
      "Early stopping\n",
      "Training round 7\n",
      "Validation loss 0.99962883508584 NOT improved\n",
      "Validation loss 0.9988355692385563 NOT improved\n",
      "Validation loss 0.998144500243867 NOT improved\n",
      "Validation loss 0.9977997649387227 NOT improved\n",
      "Validation loss 0.9972881775781153 NOT improved\n",
      "Validation loss 0.9968681379909722 NOT improved\n",
      "Validation loss 0.9961091836766118 NOT improved\n",
      "Validation loss 0.9946464117573046 NOT improved\n",
      "Validation loss 0.9943194159674988 NOT improved\n",
      "Validation loss 0.9900249427843497 NOT improved\n",
      "Validation loss 0.9883309281237433 NOT improved\n",
      "Validation loss 0.9890487828884413 NOT improved\n",
      "Validation loss 0.9883451063691906 NOT improved\n",
      "Validation loss 0.9819100871742409 NOT improved\n",
      "Validation loss 0.9827643339141827 NOT improved\n",
      "Validation loss 0.9793646700766957 NOT improved\n",
      "Validation loss 0.978384816866307 NOT improved\n",
      "Validation loss 0.975214098211212 NOT improved\n",
      "Validation loss 0.9757249867573125 NOT improved\n",
      "Validation loss 0.9677634960100882 NOT improved\n",
      "Validation loss 0.971010990859434 NOT improved\n",
      "Validation loss 0.9592471185104672 NOT improved\n",
      "Validation loss 0.9578787007090006 NOT improved\n",
      "Validation loss 0.952737512700231 NOT improved\n",
      "Validation loss 0.9508089019302589 NOT improved\n",
      "Validation loss 0.9490895865974781 NOT improved\n",
      "Validation loss 0.9442403683119145 NOT improved\n",
      "Validation loss 0.9385378043513657 NOT improved\n",
      "Validation loss 0.9352206932238482 NOT improved\n",
      "Validation loss 0.934756427435135 NOT improved\n",
      "Validation loss 0.9219489114390576 NOT improved\n",
      "Validation loss 0.9211943927200605 NOT improved\n",
      "Validation loss 0.9217488089977995 NOT improved\n",
      "Validation loss 0.9183124324656634 NOT improved\n",
      "Validation loss 0.9164869811036477 NOT improved\n",
      "Validation loss 0.9090661374935876 NOT improved\n",
      "Validation loss 0.9207865224367461 NOT improved\n",
      "Validation loss 0.9196382534599531 NOT improved\n",
      "Validation loss 0.9321728566644385 NOT improved\n",
      "Validation loss 0.9654089400725206 NOT improved\n",
      "Validation loss 0.9519740231377171 NOT improved\n",
      "Validation loss 1.02523822805946 NOT improved\n",
      "Early stopping\n",
      "Training round 8\n",
      "Validation loss 0.9998161617230372 NOT improved\n",
      "Validation loss 0.9997090026793355 NOT improved\n",
      "Validation loss 0.9995781045896998 NOT improved\n",
      "Validation loss 0.999465372664867 NOT improved\n",
      "Validation loss 0.9993361679955322 NOT improved\n",
      "Validation loss 0.9991915882741957 NOT improved\n",
      "Validation loss 0.998963610799832 NOT improved\n",
      "Validation loss 0.9988223931843877 NOT improved\n",
      "Validation loss 0.9986621331815096 NOT improved\n",
      "Validation loss 0.9984265424035449 NOT improved\n",
      "Validation loss 0.9981629727415574 NOT improved\n",
      "Validation loss 0.9978985690013763 NOT improved\n",
      "Validation loss 0.9975044261930505 NOT improved\n",
      "Validation loss 0.9973696145214821 NOT improved\n",
      "Validation loss 0.9970140791158616 NOT improved\n",
      "Validation loss 0.9967217987452237 NOT improved\n",
      "Validation loss 0.9961751814174766 NOT improved\n",
      "Validation loss 0.9956293704650332 NOT improved\n",
      "Validation loss 0.9951849118397086 NOT improved\n",
      "Validation loss 0.9949807464161992 NOT improved\n",
      "Validation loss 0.9937161599905966 NOT improved\n",
      "Validation loss 0.9931972737437876 NOT improved\n",
      "Validation loss 0.9915341414529584 NOT improved\n",
      "Validation loss 0.9906908529419648 NOT improved\n",
      "Validation loss 0.9894620351701059 NOT improved\n",
      "Validation loss 0.9874656039285403 NOT improved\n",
      "Validation loss 0.9861394168590073 NOT improved\n",
      "Validation loss 0.9853477300323383 NOT improved\n",
      "Validation loss 0.9818401446594394 NOT improved\n",
      "Validation loss 0.9808963024186665 NOT improved\n",
      "Validation loss 0.9774704655652448 NOT improved\n",
      "Validation loss 0.9775016618575817 NOT improved\n",
      "Validation loss 0.9731920075734567 NOT improved\n",
      "Validation loss 0.9693903617742838 NOT improved\n",
      "Validation loss 0.9650452318688441 NOT improved\n",
      "Validation loss 0.9629489736189843 NOT improved\n",
      "Validation loss 0.9551931990804511 NOT improved\n",
      "Validation loss 0.9473604765919785 NOT improved\n",
      "Validation loss 0.9490365971026653 NOT improved\n",
      "Validation loss 0.9416501832193027 NOT improved\n",
      "Validation loss 0.9371358078394892 NOT improved\n",
      "Validation loss 0.9323556999956875 NOT improved\n",
      "Validation loss 0.9295944948199589 NOT improved\n",
      "Validation loss 0.9245261733806708 NOT improved\n",
      "Validation loss 0.917097491496616 NOT improved\n",
      "Validation loss 0.9174081193346977 NOT improved\n",
      "Validation loss 0.9148442930304261 NOT improved\n",
      "Validation loss 0.9057993009492945 NOT improved\n",
      "Validation loss 0.9078782724453067 NOT improved\n",
      "Validation loss 0.9085301703213776 NOT improved\n",
      "Validation loss 0.9095385630274679 NOT improved\n",
      "Validation loss 0.9214339710521471 NOT improved\n",
      "Validation loss 0.9343110043750404 NOT improved\n",
      "Validation loss 0.92165779639296 NOT improved\n",
      "Validation loss 0.9219647058189854 NOT improved\n",
      "Validation loss 0.9417667648374528 NOT improved\n",
      "Validation loss 0.9994824608561285 NOT improved\n",
      "Validation loss 0.990805111897466 NOT improved\n",
      "Validation loss 1.0017115318209002 NOT improved\n",
      "Early stopping\n",
      "Training round 9\n",
      "Validation loss 0.9996666589723913 NOT improved\n",
      "Validation loss 0.9989837863690766 NOT improved\n",
      "Validation loss 0.9987386887753937 NOT improved\n",
      "Validation loss 0.9982434035558491 NOT improved\n",
      "Validation loss 0.9977470491428305 NOT improved\n",
      "Validation loss 0.9970237791699467 NOT improved\n",
      "Validation loss 0.9961101956484195 NOT improved\n",
      "Validation loss 0.9947707822926185 NOT improved\n",
      "Validation loss 0.9934970130972381 NOT improved\n",
      "Validation loss 0.9922458350216383 NOT improved\n",
      "Validation loss 0.9897198316112322 NOT improved\n",
      "Validation loss 0.9904150306793895 NOT improved\n",
      "Validation loss 0.9898539681325567 NOT improved\n",
      "Validation loss 0.989089090246385 NOT improved\n",
      "Validation loss 0.9845837268964195 NOT improved\n",
      "Validation loss 0.9826440614021162 NOT improved\n",
      "Validation loss 0.9840120015952994 NOT improved\n",
      "Validation loss 0.980515257452907 NOT improved\n",
      "Validation loss 0.9751045657679327 NOT improved\n",
      "Validation loss 0.9725518640218129 NOT improved\n",
      "Validation loss 0.9693105147596345 NOT improved\n"
     ]
    }
   ],
   "source": [
    "# ========== Training loop ========== #\n",
    "L_pos = len(TRAIN_256_pos)\n",
    "L_neg = len(TRAIN_256_neg)\n",
    "\n",
    "record = 1.1\n",
    "print(\"Initial record: {}\".format(record))\n",
    "\n",
    "\n",
    "min_del = 0\n",
    "max_tol = 10 # early stopping with patience\n",
    "\n",
    "epochs = 500\n",
    "batch_size = 200\n",
    "L_train = 200 #int(len(TRAIN_Y_pick) / batch_size)\n",
    "\n",
    "for r in range(training_rounds):\n",
    "    if r == 0:\n",
    "        tol = 0\n",
    "    else:\n",
    "        tol = -200\n",
    "        \n",
    "    model = create_model()\n",
    "\n",
    "    model.compile(loss=keras.losses.BinaryCrossentropy(from_logits=False),\n",
    "                  optimizer=keras.optimizers.Adam(lr=1e-5))\n",
    "    \n",
    "    set_seeds(seeds[r])\n",
    "    print('Training round {}'.format(r))\n",
    "    \n",
    "    for i in range(epochs):\n",
    "\n",
    "        #backend.set_value(model.optimizer.learning_rate, learning_rate[i])\n",
    "\n",
    "        #print('epoch = {}'.format(i))\n",
    "        start_time = time.time()\n",
    "\n",
    "        # loop of batch\n",
    "        for j in range(L_train):\n",
    "\n",
    "            #N_aug = int(np.random.uniform(2, 7))\n",
    "            #N_pos = int(np.random.uniform(30, 50))\n",
    "            N_pos = 100\n",
    "            #N_aug = int(np.random.uniform(20, 45))\n",
    "\n",
    "            N_neg = batch_size - N_pos\n",
    "\n",
    "            ind_neg = du.shuffle_ind(L_neg)\n",
    "            ind_pos = du.shuffle_ind(L_pos)\n",
    "\n",
    "            ind_neg_pick = ind_neg[:N_neg]\n",
    "            ind_pos_pick = ind_pos[:N_pos]\n",
    "\n",
    "            X_batch_neg = TRAIN_256_neg[ind_neg_pick, :] #\n",
    "            X_batch_pos = pos_mixer(TRAIN_256_pos, N_pos, a0=0, a1=0.05) #TRAIN_256_pos[ind_pos_pick, :] # \n",
    "\n",
    "            # np.random.shuffle(TRAIN_256_neg)\n",
    "            # np.random.shuffle(TRAIN_256_pos)\n",
    "\n",
    "            # X_batch_neg = TRAIN_256_neg[:N_neg, :]\n",
    "            # X_batch_pos = TRAIN_256_pos[:N_pos, :]\n",
    "\n",
    "            X_batch = np.concatenate((X_batch_neg, X_batch_pos), axis=0)\n",
    "\n",
    "            # Y_batch = np.concatenate((np.random.uniform(0.0, 0.01, size=N_neg), \n",
    "            #                           np.random.uniform(0.6, 0.99, size=N_pos)), axis=0)\n",
    "\n",
    "            Y_batch = np.ones([batch_size,])\n",
    "            Y_batch[:N_neg] = 0.0\n",
    "\n",
    "            ind_ = du.shuffle_ind(batch_size)\n",
    "\n",
    "            X_batch = X_batch[ind_, :]\n",
    "            Y_batch = Y_batch[ind_]\n",
    "\n",
    "            # train on batch\n",
    "            model.train_on_batch(X_batch, Y_batch);\n",
    "\n",
    "        # epoch end operations\n",
    "        Y_pred = model.predict([TEST_256_pick])\n",
    "\n",
    "        Y_pred[Y_pred<0] = 0\n",
    "        Y_pred[Y_pred>1] = 1\n",
    "\n",
    "        record_temp = verif_metric(TEST_Y_pick, Y_pred, ref)\n",
    "\n",
    "        # if i % 10 == 0:\n",
    "        #     model.save(model_path_backup)\n",
    "\n",
    "        if (record - record_temp > min_del):\n",
    "            print('Validation loss improved from {} to {}'.format(record, record_temp))\n",
    "            record = record_temp\n",
    "            tol = 0\n",
    "            #print('tol: {}'.format(tol))\n",
    "            # save\n",
    "            print('save to: {}'.format(model_path))\n",
    "            model.save(model_path)\n",
    "        else:\n",
    "            print('Validation loss {} NOT improved'.format(record_temp))\n",
    "            if record_temp > 1.0:\n",
    "                print('Early stopping')\n",
    "                break;\n",
    "            else:\n",
    "                tol += 1\n",
    "                if tol >= max_tol:\n",
    "                    print('Early stopping')\n",
    "                    break;\n",
    "                else:\n",
    "                    continue;\n",
    "        print(\"--- %s seconds ---\" % (time.time() - start_time))"
   ]
  },
  {
   "cell_type": "code",
   "execution_count": 55,
   "id": "b5c4558a-f40a-4984-a82f-00c16361e838",
   "metadata": {},
   "outputs": [
    {
     "data": {
      "text/plain": [
       "12"
      ]
     },
     "execution_count": 55,
     "metadata": {},
     "output_type": "execute_result"
    }
   ],
   "source": [
    "tol"
   ]
  },
  {
   "cell_type": "code",
   "execution_count": null,
   "id": "35dd04de-cff4-4e04-9536-425ce744669d",
   "metadata": {},
   "outputs": [],
   "source": [
    "+"
   ]
  },
  {
   "cell_type": "code",
   "execution_count": null,
   "id": "a9e37420-7744-437c-8352-9b68aefd11ef",
   "metadata": {},
   "outputs": [],
   "source": []
  },
  {
   "cell_type": "code",
   "execution_count": null,
   "id": "97937a10-aac2-448e-b174-f4768b11abc3",
   "metadata": {},
   "outputs": [],
   "source": []
  },
  {
   "cell_type": "code",
   "execution_count": null,
   "id": "09fa9878-b2d2-409d-87f2-040201462aff",
   "metadata": {},
   "outputs": [],
   "source": []
  },
  {
   "cell_type": "code",
   "execution_count": 58,
   "id": "8377fb21-49c7-4f90-88eb-76a62c4fcb8c",
   "metadata": {},
   "outputs": [
    {
     "ename": "AttributeError",
     "evalue": "'NoneType' object has no attribute 'shape'",
     "output_type": "error",
     "traceback": [
      "\u001b[0;31m---------------------------------------------------------------------------\u001b[0m",
      "\u001b[0;31mAttributeError\u001b[0m                            Traceback (most recent call last)",
      "Input \u001b[0;32mIn [58]\u001b[0m, in \u001b[0;36m<cell line: 1>\u001b[0;34m()\u001b[0m\n\u001b[0;32m----> 1\u001b[0m \u001b[43mnp\u001b[49m\u001b[38;5;241;43m.\u001b[39;49m\u001b[43mrandom\u001b[49m\u001b[38;5;241;43m.\u001b[39;49m\u001b[43mshuffle\u001b[49m\u001b[43m(\u001b[49m\u001b[43mTRAIN_256_neg\u001b[49m\u001b[43m)\u001b[49m\u001b[38;5;241;43m.\u001b[39;49m\u001b[43mshape\u001b[49m\n",
      "\u001b[0;31mAttributeError\u001b[0m: 'NoneType' object has no attribute 'shape'"
     ]
    }
   ],
   "source": [
    "np.random.shuffle(TRAIN_256_neg).shape"
   ]
  },
  {
   "cell_type": "code",
   "execution_count": null,
   "id": "01ffe778-db21-43ee-870c-87ec2eb8fce5",
   "metadata": {},
   "outputs": [],
   "source": [
    "L_pos"
   ]
  },
  {
   "cell_type": "code",
   "execution_count": null,
   "id": "cb6fab47-2fda-4759-b9ed-6d84e20775fe",
   "metadata": {},
   "outputs": [],
   "source": []
  },
  {
   "cell_type": "code",
   "execution_count": null,
   "id": "8b6a0b92-fcc4-46ab-a9ee-bc635348432d",
   "metadata": {},
   "outputs": [],
   "source": [
    "# from tensorflow import keras\n",
    "#from keras_unet_collection import utils as k_utils\n",
    "\n",
    "# IN = keras.Input((1,))\n",
    "\n",
    "# X = IN\n",
    "# X = keras.layers.Dense(64)(X)\n",
    "# X = keras.layers.BatchNormalization()(X)\n",
    "# X = keras.layers.Activation(\"gelu\")(X)\n",
    "\n",
    "# X = keras.layers.Dense(128)(X)\n",
    "# X = keras.layers.BatchNormalization()(X)\n",
    "# X = keras.layers.Activation(\"gelu\")(X)\n",
    "\n",
    "# X = keras.layers.Dense(64)(X)\n",
    "# X = keras.layers.BatchNormalization()(X)\n",
    "# X = keras.layers.Activation(\"gelu\")(X)\n",
    "\n",
    "# OUT = X\n",
    "# OUT = keras.layers.Dense(1, activation='sigmoid')(OUT)\n",
    "\n",
    "# calib_model = keras.models.Model(inputs=IN, outputs=OUT)\n",
    "\n",
    "# calib_model.compile(loss=keras.losses.mean_squared_error, \n",
    "#                     optimizer=keras.optimizers.SGD(lr=1e-5),\n",
    "#                     metrics=keras.losses.mean_squared_error)\n",
    "\n",
    "# W = k_utils.dummy_loader('/glade/work/ksha/NCAR/Keras_models/calib_model/')\n",
    "# calib_model.set_weights(W)\n",
    "\n",
    "# y_pred_nn = calib_model.predict(y_pred)\n",
    "# y_train_pred_nn = calib_model.predict(y_train_pred)\n",
    "\n",
    "# callbacks = [keras.callbacks.EarlyStopping(monitor='val_loss', min_delta=0.0, patience=7),\n",
    "#              keras.callbacks.ModelCheckpoint(filepath=save_dir+'calib_model', \n",
    "#                                              monitor='val_loss', save_best_only=True)]\n",
    "\n",
    "# calib_model.fit(x=y_train_pred, y=y_train_true, batch_size=32, epochs=100, verbose=1,\n",
    "#                 callbacks=callbacks, validation_data=(y_pred, y_true), shuffle=True)"
   ]
  },
  {
   "cell_type": "code",
   "execution_count": null,
   "id": "f15e6a0d-5994-4789-9bf6-918e01254fbf",
   "metadata": {},
   "outputs": [],
   "source": []
  },
  {
   "cell_type": "code",
   "execution_count": null,
   "id": "aed5591e-d8b3-47ab-9c16-bf6671e0af9f",
   "metadata": {},
   "outputs": [],
   "source": []
  },
  {
   "cell_type": "code",
   "execution_count": null,
   "id": "dec3a0ea-c4ea-4f09-b4c4-63b256184c5c",
   "metadata": {},
   "outputs": [],
   "source": []
  },
  {
   "cell_type": "code",
   "execution_count": null,
   "id": "9f5778ee-54f3-488d-9bf9-402896f81885",
   "metadata": {},
   "outputs": [],
   "source": []
  },
  {
   "cell_type": "code",
   "execution_count": null,
   "id": "1f1f8604-89e6-4667-8ff7-49ecb01fcddd",
   "metadata": {},
   "outputs": [],
   "source": []
  },
  {
   "cell_type": "code",
   "execution_count": null,
   "id": "45069a5e-0529-4a70-83a3-4c851aa6fc7d",
   "metadata": {},
   "outputs": [],
   "source": []
  },
  {
   "cell_type": "code",
   "execution_count": null,
   "id": "cc4312f5-f1e6-4e49-bb40-5ee91258bde7",
   "metadata": {},
   "outputs": [],
   "source": []
  },
  {
   "cell_type": "code",
   "execution_count": null,
   "id": "492e6a86-9710-469d-a769-6dab8ca3402f",
   "metadata": {},
   "outputs": [],
   "source": [
    "print(classification_report(PRED_Y, TEST_Y))"
   ]
  },
  {
   "cell_type": "code",
   "execution_count": null,
   "id": "341afafa-fb0f-45d8-a32d-a799300f3f56",
   "metadata": {},
   "outputs": [],
   "source": [
    "y_true = TEST_Y\n",
    "y_pred = PRED_Y\n",
    "\n",
    "fpr, tpr, thres = roc_curve(y_true, y_pred)\n",
    "o_bar = np.mean(y_true)\n",
    "\n",
    "bs = brier_score_loss(y_true, y_pred)\n",
    "auc_score = auc(fpr, tpr)\n",
    "bss = (o_bar-bs)/(o_bar)\n",
    "\n",
    "print('auc: {}'.format(auc_score))\n",
    "print('o_bar: {}'.format(o_bar))\n",
    "print('bs: {}'.format(bs))\n",
    "print('bss: {}'.format(bss))"
   ]
  },
  {
   "cell_type": "code",
   "execution_count": null,
   "id": "0e965c1d-2f6c-427b-b097-07180699c6de",
   "metadata": {},
   "outputs": [],
   "source": []
  },
  {
   "cell_type": "code",
   "execution_count": null,
   "id": "88c9a648-5a04-4723-a5e7-ee83b433a3d5",
   "metadata": {},
   "outputs": [],
   "source": []
  },
  {
   "cell_type": "code",
   "execution_count": null,
   "id": "9bc8b8d2-2494-4b0f-a8ba-ca724fc73606",
   "metadata": {},
   "outputs": [],
   "source": []
  },
  {
   "cell_type": "code",
   "execution_count": 12,
   "id": "b282a5cb-43d9-464f-9982-8e81689b975b",
   "metadata": {},
   "outputs": [],
   "source": [
    "# classifiers = [\n",
    "#     KNeighborsClassifier(2),\n",
    "#     SVC(kernel=\"linear\", C=0.025),\n",
    "#     SVC(gamma=2, C=1),\n",
    "#     GaussianProcessClassifier(1.0 * RBF(1.0)),\n",
    "#     DecisionTreeClassifier(max_depth=5),\n",
    "#     RandomForestClassifier(max_depth=5, n_estimators=10, max_features=1),\n",
    "#     MLPClassifier(alpha=1, max_iter=1000),\n",
    "#     AdaBoostClassifier(),\n",
    "#     GaussianNB(),\n",
    "# ]"
   ]
  },
  {
   "cell_type": "code",
   "execution_count": 13,
   "id": "f2fab16e-96f7-4c40-a7e0-61538d52b2fa",
   "metadata": {},
   "outputs": [],
   "source": [
    "# # for i, clf in enumerate(classifiers):\n",
    "# #     clf.fit(TRAIN_256, TRAIN_Y)\n",
    "# #     score_ = clf.score(TEST_256, TEST_Y)\n",
    "\n",
    "# clf = classifiers[7]"
   ]
  },
  {
   "cell_type": "code",
   "execution_count": 14,
   "id": "78b2c013-0d7b-4b45-823f-fea1b6de4c58",
   "metadata": {},
   "outputs": [],
   "source": [
    "# clf.fit(TRAIN_256, TRAIN_Y)"
   ]
  },
  {
   "cell_type": "code",
   "execution_count": 15,
   "id": "4c814b1a-98dd-44d0-b195-1d2a0096f332",
   "metadata": {},
   "outputs": [],
   "source": [
    "# PRED_Y = clf.predict(TEST_256)"
   ]
  },
  {
   "cell_type": "code",
   "execution_count": 39,
   "id": "9ed091a3-41c5-44c0-bcfd-a2d8026931be",
   "metadata": {},
   "outputs": [
    {
     "name": "stdout",
     "output_type": "stream",
     "text": [
      "              precision    recall  f1-score   support\n",
      "\n",
      "         0.0       1.00      1.00      1.00    278526\n",
      "         1.0       0.03      0.23      0.06        62\n",
      "\n",
      "    accuracy                           1.00    278588\n",
      "   macro avg       0.52      0.61      0.53    278588\n",
      "weighted avg       1.00      1.00      1.00    278588\n",
      "\n"
     ]
    }
   ],
   "source": []
  },
  {
   "cell_type": "code",
   "execution_count": 40,
   "id": "abd604fe-97ea-466e-9661-d75369cc293d",
   "metadata": {},
   "outputs": [
    {
     "name": "stdout",
     "output_type": "stream",
     "text": [
      "auc: 0.5160056705746704\n",
      "o_bar: 0.0015614455755452495\n",
      "bs: 0.00168348959754189\n",
      "bss: -0.07816091954023\n"
     ]
    }
   ],
   "source": []
  },
  {
   "cell_type": "code",
   "execution_count": null,
   "id": "a4ded05f-7ae9-44fc-a0f4-1045b1015df5",
   "metadata": {},
   "outputs": [],
   "source": []
  },
  {
   "cell_type": "code",
   "execution_count": null,
   "id": "d8ba0f22-73ba-49e5-8c04-7eddc765dfd2",
   "metadata": {},
   "outputs": [],
   "source": []
  }
 ],
 "metadata": {
  "kernelspec": {
   "display_name": "Python 3 (ipykernel)",
   "language": "python",
   "name": "python3"
  },
  "language_info": {
   "codemirror_mode": {
    "name": "ipython",
    "version": 3
   },
   "file_extension": ".py",
   "mimetype": "text/x-python",
   "name": "python",
   "nbconvert_exporter": "python",
   "pygments_lexer": "ipython3",
   "version": "3.9.13"
  }
 },
 "nbformat": 4,
 "nbformat_minor": 5
}
