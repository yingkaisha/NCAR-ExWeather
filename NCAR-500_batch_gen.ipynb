{
 "cells": [
  {
   "cell_type": "code",
   "execution_count": 7,
   "id": "a51c1c14-5d11-423f-8ee6-9f128c5d4462",
   "metadata": {},
   "outputs": [],
   "source": [
    "import sys\n",
    "from glob import glob\n",
    "from datetime import datetime, timedelta\n",
    "\n",
    "import h5py\n",
    "import numpy as np\n",
    "import netCDF4 as nc"
   ]
  },
  {
   "cell_type": "code",
   "execution_count": 8,
   "id": "de3bcad6-2cf1-4443-85c1-bfa7b145c474",
   "metadata": {},
   "outputs": [],
   "source": [
    "import matplotlib.pyplot as plt\n",
    "%matplotlib inline"
   ]
  },
  {
   "cell_type": "code",
   "execution_count": 9,
   "id": "dfdf5731-e477-4261-b330-8c837f085cf2",
   "metadata": {},
   "outputs": [],
   "source": [
    "sys.path.insert(0, '/glade/u/home/ksha/NCAR/')\n",
    "sys.path.insert(0, '/glade/u/home/ksha/NCAR/libs/')\n",
    "\n",
    "from namelist import *\n",
    "import data_utils as du\n",
    "import preprocess_utils as pu"
   ]
  },
  {
   "cell_type": "code",
   "execution_count": 10,
   "id": "16b58f43-1a64-4906-9a1e-4a36989a5ffc",
   "metadata": {},
   "outputs": [
    {
     "data": {
      "text/plain": [
       "<module 'data_utils' from '/glade/u/home/ksha/NCAR/libs/data_utils.py'>"
      ]
     },
     "execution_count": 10,
     "metadata": {},
     "output_type": "execute_result"
    }
   ],
   "source": [
    "import importlib\n",
    "importlib.reload(du)"
   ]
  },
  {
   "cell_type": "code",
   "execution_count": 11,
   "id": "ecc07b4e-32d4-42e5-add1-6392cefe1220",
   "metadata": {},
   "outputs": [],
   "source": [
    "import subprocess\n",
    "from scipy.ndimage import gaussian_filter"
   ]
  },
  {
   "cell_type": "code",
   "execution_count": 12,
   "id": "c969520e-8aba-4d83-968a-1cdec80bd780",
   "metadata": {},
   "outputs": [],
   "source": [
    "with h5py.File(save_dir+'CONUS_domain.hdf', 'r') as h5io:\n",
    "    lon = h5io['lon_72km'][...]\n",
    "    lat = h5io['lat_72km'][...]\n",
    "    lon_3km = h5io['lon_3km'][...]\n",
    "    lat_3km = h5io['lat_3km'][...]"
   ]
  },
  {
   "cell_type": "markdown",
   "id": "571e0853-4a2c-4133-a141-41f81c1244d2",
   "metadata": {},
   "source": [
    "### Gaussian filter UH03"
   ]
  },
  {
   "cell_type": "markdown",
   "id": "2beffd03-30f2-41ea-9685-cb3e75694c43",
   "metadata": {},
   "source": [
    "### Sliding window cropping"
   ]
  },
  {
   "cell_type": "code",
   "execution_count": 13,
   "id": "b303b3db-ce01-4eee-9cd3-af1151a1d328",
   "metadata": {},
   "outputs": [],
   "source": [
    "def crop_batch(target, inputs, size, nonzero_thres, zero_def, batch_dir, prefix_name, prefix_number):\n",
    "    N_vars = len(inputs)\n",
    "    grid_shape = target.shape\n",
    "\n",
    "    out = np.empty((size, size, N_vars+1))*np.nan\n",
    "\n",
    "    Nx = grid_shape[1] // size\n",
    "    Ny = grid_shape[2] // size\n",
    "\n",
    "    count = prefix_number\n",
    "\n",
    "    for nx in range(Nx):\n",
    "        for ny in range(Ny):\n",
    "        \n",
    "            nonzero_count2 = np.array([0,]*N_vars)\n",
    "        \n",
    "            for t in range(grid_shape[0]):\n",
    "                sub_target = UH03[t, (size*nx):(size*(nx+1)), (size*ny):(size*(ny+1))]\n",
    "                nonzero_count1 = np.sum(np.abs(sub_target) > zero_def)\n",
    "                \n",
    "                for n_var in range(N_vars):\n",
    "                    sub_input = inputs[n_var][t, (size*nx):(size*(nx+1)), (size)*ny:(size*(ny+1))]\n",
    "                    nonzero_count2[n_var] = np.sum(np.abs(sub_input) > zero_def)\n",
    "                \n",
    "                if (nonzero_count1/size/size) > nonzero_thres and (np.min(nonzero_count2)/size/size) > nonzero_thres:\n",
    "                    out[:, :, N_vars] = sub_target\n",
    "\n",
    "                    for n_var in range(N_vars):\n",
    "                        out[:, :, n_var] = inputs[n_var][t, (size*nx):(size*(nx+1)), (size)*ny:(size*(ny+1))]\n",
    "\n",
    "                    np.save(batch_dir+'{}_{}.npy'.format(prefix_name, count), out)\n",
    "                    count += 1\n",
    "    return count"
   ]
  },
  {
   "cell_type": "code",
   "execution_count": 14,
   "id": "e46ef122-4cde-44a8-88d3-9d42fcf725f0",
   "metadata": {},
   "outputs": [],
   "source": [
    "zero_def=0.1\n",
    "nonzero_thres=0.1\n",
    "batch_dir = '/glade/scratch/ksha/DATA/NCAR_batch/'\n",
    "\n",
    "subprocess.Popen(\"rm {}TRAIN*.npy\".format(batch_dir), shell=True)\n",
    "\n",
    "years = ['2010', '2011', '2012', '2013', '2014', '2015', '2016', '2017']\n",
    "\n",
    "count = 0\n",
    "\n",
    "for year in years:\n",
    "\n",
    "    with h5py.File(save_dir+\"NCAR500_y{}.hdf\".format(year), 'r') as h5io:\n",
    "        U10 = h5io['U10'][...] / 5.0 # normalization: factor of 5.0 m/s\n",
    "        V10 = h5io['V10'][...] / 5.0\n",
    "        UH03 = h5io['UH03'][...]\n",
    "        \n",
    "    # UH: gaussian filter with sigma=3km\n",
    "    L = len(UH03)\n",
    "    for i in range(L):\n",
    "        UH03[i, ...] = gaussian_filter(UH03[i, ...], 1)\n",
    "        \n",
    "    # abs larger than 5.0 convert to +/- 5.0\n",
    "    UH03[UH03>5.0] = 5.0\n",
    "    U10[U10>5.0] = 5.0\n",
    "    V10[V10>5.0] = 5.0\n",
    "    \n",
    "    UH03[UH03<0] = 0.0\n",
    "    U10[U10<-5.0] = -5.0\n",
    "    V10[V10<-5.0] = -5.0\n",
    "    \n",
    "    count = crop_batch(UH03, (U10, V10), 72, nonzero_thres, zero_def, batch_dir, prefix_name='TRAIN', prefix_number=count)"
   ]
  },
  {
   "cell_type": "code",
   "execution_count": 15,
   "id": "144490a7-0999-4a0b-85f7-1b989438ab2a",
   "metadata": {},
   "outputs": [],
   "source": [
    "subprocess.Popen(\"rm {}VALID*.npy\".format(batch_dir), shell=True)\n",
    "\n",
    "years = ['2018', '2019']\n",
    "\n",
    "count = 0\n",
    "\n",
    "for year in years:\n",
    "\n",
    "    with h5py.File(save_dir+\"NCAR500_y{}.hdf\".format(year), 'r') as h5io:\n",
    "        U10 = h5io['U10'][...] / 5.0 # normalization: factor of 0.6 m/s\n",
    "        V10 = h5io['V10'][...] / 5.0\n",
    "        UH03 = h5io['UH03'][...]\n",
    "        \n",
    "    # UH: gaussian filter with sigma=3km\n",
    "    L = len(UH03)\n",
    "    for i in range(L):\n",
    "        UH03[i, ...] = gaussian_filter(UH03[i, ...], 1)\n",
    "        \n",
    "    # abs larger than 5.0 convert to +/- 5.0\n",
    "    UH03[UH03>5.0] = 5.0\n",
    "    U10[U10>5.0] = 5.0\n",
    "    V10[V10>5.0] = 5.0\n",
    "    \n",
    "    UH03[UH03<0] = 0.0\n",
    "    U10[U10<-5.0] = -5.0\n",
    "    V10[V10<-5.0] = -5.0\n",
    "    \n",
    "    count = crop_batch(UH03, (U10, V10), 72, nonzero_thres, zero_def, batch_dir, prefix_name='VALID', prefix_number=count)"
   ]
  },
  {
   "cell_type": "code",
   "execution_count": 16,
   "id": "1b84d48e-b94e-4aec-a276-013c924a50ae",
   "metadata": {},
   "outputs": [],
   "source": [
    "# data = np.load(batch_dir+'TRAIN_{}.npy'.format(3))\n",
    "# plt.pcolormesh(data[..., 1])"
   ]
  },
  {
   "cell_type": "code",
   "execution_count": 1,
   "id": "52748533-6b00-453a-9854-056f85a5607e",
   "metadata": {},
   "outputs": [],
   "source": [
    "# filenames = sorted(glob(batch_dir+'TRAIN*.npy'))\n",
    "\n",
    "# for i in range(10, 200, 1):\n",
    "#     data = np.load(filenames[i])\n",
    "    \n",
    "#     plt.figure(figsize=(13, 4))\n",
    "#     ax1 = plt.subplot(131); ax2 = plt.subplot(132); ax3 = plt.subplot(133)\n",
    "#     ax1.pcolormesh(data[..., 0], vmin=-3, vmax=3, cmap=plt.cm.twilight_shifted); ax1.set_title('U10', fontsize=14)\n",
    "#     ax2.pcolormesh(data[..., 1], vmin=-3, vmax=3, cmap=plt.cm.twilight_shifted); ax2.set_title('V10', fontsize=14)\n",
    "#     ax3.pcolormesh(data[..., 2], vmin=0, vmax=3, cmap=plt.cm.nipy_spectral_r); ax3.set_title('UH03', fontsize=14)"
   ]
  },
  {
   "cell_type": "code",
   "execution_count": null,
   "id": "2c6aabf8-4295-4c0e-ae56-35429f798b89",
   "metadata": {},
   "outputs": [],
   "source": []
  }
 ],
 "metadata": {
  "kernelspec": {
   "display_name": "Python 3 (ipykernel)",
   "language": "python",
   "name": "python3"
  },
  "language_info": {
   "codemirror_mode": {
    "name": "ipython",
    "version": 3
   },
   "file_extension": ".py",
   "mimetype": "text/x-python",
   "name": "python",
   "nbconvert_exporter": "python",
   "pygments_lexer": "ipython3",
   "version": "3.9.13"
  }
 },
 "nbformat": 4,
 "nbformat_minor": 5
}
