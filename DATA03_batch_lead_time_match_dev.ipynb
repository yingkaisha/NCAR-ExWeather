{
 "cells": [
  {
   "cell_type": "code",
   "execution_count": 1,
   "id": "c28ec7f4-5075-44c8-8051-a61d616104b9",
   "metadata": {},
   "outputs": [],
   "source": [
    "# general tools\n",
    "import os\n",
    "import re\n",
    "import sys\n",
    "import time\n",
    "import random\n",
    "from glob import glob\n",
    "\n",
    "import numpy as np\n",
    "\n",
    "import argparse\n"
   ]
  },
  {
   "cell_type": "code",
   "execution_count": 2,
   "id": "c4095fb3-f0e9-44b6-ac6f-0008b001e4e9",
   "metadata": {},
   "outputs": [],
   "source": [
    "part = 0"
   ]
  },
  {
   "cell_type": "code",
   "execution_count": 8,
   "id": "5ee380b2-707f-48a9-99d7-804263d6ddab",
   "metadata": {},
   "outputs": [],
   "source": [
    "def id_extract(filenames):\n",
    "    \n",
    "    indx_out = []\n",
    "    indy_out = []\n",
    "    lead_out = []\n",
    "    day_out = []\n",
    "    \n",
    "    for i, name in enumerate(filenames):        \n",
    "        nums = re.findall(r'\\d+', name)\n",
    "        lead = int(nums[-1])\n",
    "        indy = int(nums[-2])\n",
    "        indx = int(nums[-3])\n",
    "        day = int(nums[-4])\n",
    "                \n",
    "        indx_out.append(indx)\n",
    "        indy_out.append(indy)\n",
    "        lead_out.append(lead)\n",
    "        day_out.append(day)\n",
    "        \n",
    "    return np.array(indx_out), np.array(indy_out), np.array(lead_out), np.array(day_out)"
   ]
  },
  {
   "cell_type": "code",
   "execution_count": 3,
   "id": "fe439509-a9ad-4369-89fc-f7e69472ffa4",
   "metadata": {},
   "outputs": [],
   "source": [
    "\n",
    "\n",
    "# import filenames\n",
    "\n",
    "filename_train_lead2 = sorted(glob(\"/glade/scratch/ksha/DATA/NCAR_batch_v3/TRAIN*lead2.npy\"))\n",
    "filename_train_lead3 = sorted(glob(\"/glade/scratch/ksha/DATA/NCAR_batch_v3/TRAIN*lead3.npy\"))\n",
    "filename_train_lead4 = sorted(glob(\"/glade/scratch/ksha/DATA/NCAR_batch_v3/TRAIN*lead4.npy\"))\n",
    "filename_train_lead5 = sorted(glob(\"/glade/scratch/ksha/DATA/NCAR_batch_v3/TRAIN*lead5.npy\"))\n",
    "filename_train_lead6 = sorted(glob(\"/glade/scratch/ksha/DATA/NCAR_batch_v3/TRAIN*lead6.npy\"))\n",
    "filename_train_lead7 = sorted(glob(\"/glade/scratch/ksha/DATA/NCAR_batch_v3/TRAIN*lead7.npy\"))\n",
    "filename_train_lead8 = sorted(glob(\"/glade/scratch/ksha/DATA/NCAR_batch_v3/TRAIN*lead8.npy\"))\n",
    "\n",
    "filename_train_lead9 = sorted(glob(\"/glade/campaign/cisl/aiml/ksha/NCAR_batch_v3/TRAIN*lead9.npy\"))\n",
    "filename_train_lead10 = sorted(glob(\"/glade/campaign/cisl/aiml/ksha/NCAR_batch_v3/TRAIN*lead10.npy\"))\n",
    "filename_train_lead11 = sorted(glob(\"/glade/campaign/cisl/aiml/ksha/NCAR_batch_v3/TRAIN*lead11.npy\"))\n",
    "filename_train_lead12 = sorted(glob(\"/glade/campaign/cisl/aiml/ksha/NCAR_batch_v3/TRAIN*lead12.npy\"))\n",
    "filename_train_lead13 = sorted(glob(\"/glade/campaign/cisl/aiml/ksha/NCAR_batch_v3/TRAIN*lead13.npy\"))\n",
    "filename_train_lead14 = sorted(glob(\"/glade/campaign/cisl/aiml/ksha/NCAR_batch_v3/TRAIN*lead14.npy\"))\n",
    "filename_train_lead15 = sorted(glob(\"/glade/campaign/cisl/aiml/ksha/NCAR_batch_v3/TRAIN*lead15.npy\"))\n",
    "filename_train_lead16 = sorted(glob(\"/glade/campaign/cisl/aiml/ksha/NCAR_batch_v3/TRAIN*lead16.npy\"))\n",
    "filename_train_lead17 = sorted(glob(\"/glade/campaign/cisl/aiml/ksha/NCAR_batch_v3/TRAIN*lead17.npy\"))\n",
    "filename_train_lead18 = sorted(glob(\"/glade/campaign/cisl/aiml/ksha/NCAR_batch_v3/TRAIN*lead18.npy\"))\n",
    "\n",
    "filename_train_lead19 = sorted(glob(\"/glade/scratch/ksha/DATA/NCAR_batch_v3/TRAIN*lead19.npy\"))\n",
    "filename_train_lead20 = sorted(glob(\"/glade/scratch/ksha/DATA/NCAR_batch_v3/TRAIN*lead20.npy\"))\n",
    "filename_train_lead21 = sorted(glob(\"/glade/scratch/ksha/DATA/NCAR_batch_v3/TRAIN*lead21.npy\"))\n",
    "filename_train_lead22 = sorted(glob(\"/glade/scratch/ksha/DATA/NCAR_batch_v3/TRAIN*lead22.npy\"))"
   ]
  },
  {
   "cell_type": "code",
   "execution_count": 4,
   "id": "847a2af0-3870-4638-b9ab-309e21d59534",
   "metadata": {},
   "outputs": [
    {
     "data": {
      "text/plain": [
       "615772"
      ]
     },
     "execution_count": 4,
     "metadata": {},
     "output_type": "execute_result"
    }
   ],
   "source": [
    "len(filename_train_lead9)"
   ]
  },
  {
   "cell_type": "code",
   "execution_count": 5,
   "id": "4690f9d6-97dd-47ea-bbeb-06a253b3f477",
   "metadata": {},
   "outputs": [],
   "source": [
    "indx2, indy2, lead2, day2 = id_extract(filename_train_lead2)\n",
    "indx3, indy3, lead3, day3 = id_extract(filename_train_lead3)\n",
    "indx4, indy4, lead4, day4 = id_extract(filename_train_lead4)\n",
    "indx5, indy5, lead5, day5 = id_extract(filename_train_lead5)\n",
    "indx6, indy6, lead6, day6 = id_extract(filename_train_lead6)\n",
    "indx7, indy7, lead7, day7 = id_extract(filename_train_lead7)\n",
    "indx8, indy8, lead8, day8 = id_extract(filename_train_lead8)\n",
    "\n",
    "indx9, indy9, lead9, day9 = id_extract(filename_train_lead9)\n",
    "indx10, indy10, lead10, day10 = id_extract(filename_train_lead10)\n",
    "indx11, indy11, lead11, day11 = id_extract(filename_train_lead11)\n",
    "indx12, indy12, lead12, day12 = id_extract(filename_train_lead12)\n",
    "indx13, indy13, lead13, day13 = id_extract(filename_train_lead13)\n",
    "indx14, indy14, lead14, day14 = id_extract(filename_train_lead14)\n",
    "indx15, indy15, lead15, day15 = id_extract(filename_train_lead15)\n",
    "indx16, indy16, lead16, day16 = id_extract(filename_train_lead16)\n",
    "indx17, indy17, lead17, day17 = id_extract(filename_train_lead17)\n",
    "indx18, indy18, lead18, day18 = id_extract(filename_train_lead18)\n",
    "\n",
    "indx19, indy19, lead19, day19 = id_extract(filename_train_lead19)\n",
    "indx20, indy20, lead20, day20 = id_extract(filename_train_lead20)\n",
    "indx21, indy21, lead21, day21 = id_extract(filename_train_lead21)\n",
    "indx22, indy22, lead22, day22 = id_extract(filename_train_lead22)"
   ]
  },
  {
   "cell_type": "code",
   "execution_count": 6,
   "id": "743a0711-bbec-4702-a2fc-df8005a57d14",
   "metadata": {},
   "outputs": [],
   "source": [
    "L = len(filename_train_lead2)\n",
    "\n",
    "ind2 = np.empty(L); ind3 = np.empty(L); ind4 = np.empty(L); ind5 = np.empty(L)\n",
    "ind6 = np.empty(L); ind7 = np.empty(L); ind8 = np.empty(L); ind9 = np.empty(L) \n",
    "ind10 = np.empty(L); ind11 = np.empty(L); ind12 = np.empty(L); ind13 = np.empty(L) \n",
    "ind14 = np.empty(L); ind15 = np.empty(L); ind16 = np.empty(L); ind17 = np.empty(L) \n",
    "ind18 = np.empty(L); ind19 = np.empty(L); ind20 = np.empty(L); ind21 = np.empty(L); \n",
    "ind22 = np.empty(L)\n"
   ]
  },
  {
   "cell_type": "code",
   "execution_count": 7,
   "id": "29bee7ed-6223-477d-8bcb-737e81da3b78",
   "metadata": {},
   "outputs": [],
   "source": [
    "\n",
    "count = 0\n",
    "\n",
    "start_time = time.time()\n",
    "\n",
    "gap = 200 #40000\n",
    "ind_end = (part+1)*gap\n",
    "ind_end_min = np.min([L, ind_end])\n",
    "\n",
    "picks = range(part*gap, ind_end_min, 1)\n",
    "\n",
    "rad = 241800"
   ]
  },
  {
   "cell_type": "code",
   "execution_count": 8,
   "id": "ff85e3c2-2e63-4964-88f6-ffd36475b8a9",
   "metadata": {},
   "outputs": [
    {
     "name": "stdout",
     "output_type": "stream",
     "text": [
      "--- 38.47537851333618 seconds ---\n"
     ]
    }
   ],
   "source": [
    "for i in picks:\n",
    "\n",
    "    i_start = np.max([i-rad, 0])\n",
    "    i_end = np.min([i+rad, L])\n",
    "    \n",
    "    ind_temp2 = np.nan; ind_temp3 = np.nan; ind_temp4 = np.nan\n",
    "    ind_temp5 = np.nan; ind_temp6 = np.nan; ind_temp7 = np.nan\n",
    "    ind_temp8 = np.nan; ind_temp9 = np.nan; ind_temp10 = np.nan\n",
    "    ind_temp11 = np.nan; ind_temp12 = np.nan; ind_temp13 = np.nan\n",
    "    ind_temp14 = np.nan; ind_temp15 = np.nan; ind_temp16 = np.nan\n",
    "    ind_temp17 = np.nan; ind_temp18 = np.nan; ind_temp19 = np.nan \n",
    "    ind_temp20 = np.nan; ind_temp21 = np.nan; ind_temp22 = np.nan\n",
    "\n",
    "    pattern_day = 'TRAIN_day{:03d}'.format(day2[i])\n",
    "\n",
    "    patten_lead3 = 'indx{}_indy{}_lead3'.format(indx2[i], indy2[i])\n",
    "    patten_lead4 = 'indx{}_indy{}_lead4'.format(indx2[i], indy2[i])\n",
    "    patten_lead5 = 'indx{}_indy{}_lead5'.format(indx2[i], indy2[i])\n",
    "    patten_lead6 = 'indx{}_indy{}_lead6'.format(indx2[i], indy2[i])\n",
    "    patten_lead7 = 'indx{}_indy{}_lead7'.format(indx2[i], indy2[i])\n",
    "    patten_lead8 = 'indx{}_indy{}_lead8'.format(indx2[i], indy2[i])\n",
    "    patten_lead9 = 'indx{}_indy{}_lead9'.format(indx2[i], indy2[i])\n",
    "    patten_lead10 = 'indx{}_indy{}_lead10'.format(indx2[i], indy2[i])\n",
    "    patten_lead11 = 'indx{}_indy{}_lead11'.format(indx2[i], indy2[i])\n",
    "    patten_lead12 = 'indx{}_indy{}_lead12'.format(indx2[i], indy2[i])\n",
    "    patten_lead13 = 'indx{}_indy{}_lead13'.format(indx2[i], indy2[i])\n",
    "    patten_lead14 = 'indx{}_indy{}_lead14'.format(indx2[i], indy2[i])\n",
    "    patten_lead15 = 'indx{}_indy{}_lead15'.format(indx2[i], indy2[i])\n",
    "    patten_lead16 = 'indx{}_indy{}_lead16'.format(indx2[i], indy2[i])\n",
    "    patten_lead17 = 'indx{}_indy{}_lead17'.format(indx2[i], indy2[i])\n",
    "    patten_lead18 = 'indx{}_indy{}_lead18'.format(indx2[i], indy2[i])\n",
    "    patten_lead19 = 'indx{}_indy{}_lead19'.format(indx2[i], indy2[i])\n",
    "    patten_lead20 = 'indx{}_indy{}_lead20'.format(indx2[i], indy2[i])\n",
    "    patten_lead21 = 'indx{}_indy{}_lead21'.format(indx2[i], indy2[i])\n",
    "    patten_lead22 = 'indx{}_indy{}_lead22'.format(indx2[i], indy2[i])\n",
    "\n",
    "    for i3, name3 in enumerate(filename_train_lead3[i_start:i_end]):\n",
    "        if (pattern_day in name3) and (patten_lead3 in name3):\n",
    "            ind_temp3 = i_start+i3\n",
    "            break;\n",
    "\n",
    "    for i4, name4 in enumerate(filename_train_lead4[i_start:i_end]):\n",
    "        if (pattern_day in name4) and (patten_lead4 in name4):\n",
    "            ind_temp4 = i_start+i4\n",
    "            break;\n",
    "\n",
    "    for i5, name5 in enumerate(filename_train_lead5[i_start:i_end]):\n",
    "        if (pattern_day in name5) and (patten_lead5 in name5):\n",
    "            ind_temp5 = i_start+i5\n",
    "            break;\n",
    "\n",
    "    for i6, name6 in enumerate(filename_train_lead6[i_start:i_end]):\n",
    "        if (pattern_day in name6) and (patten_lead6 in name6):\n",
    "            ind_temp6 = i_start+i6\n",
    "            break;\n",
    "\n",
    "    for i7, name7 in enumerate(filename_train_lead7[i_start:i_end]):\n",
    "        if (pattern_day in name7) and (patten_lead7 in name7):\n",
    "            ind_temp7 = i_start+i7\n",
    "            break;\n",
    "\n",
    "    for i8, name8 in enumerate(filename_train_lead8[i_start:i_end]):\n",
    "        if (pattern_day in name8) and (patten_lead8 in name8):\n",
    "            ind_temp8 = i_start+i8\n",
    "            break;\n",
    "            \n",
    "    for i9, name9 in enumerate(filename_train_lead9[i_start:i_end]):\n",
    "        if (pattern_day in name9) and (patten_lead9 in name9):\n",
    "            ind_temp9 = i_start+i9\n",
    "            break;\n",
    "            \n",
    "    for i10, name10 in enumerate(filename_train_lead10[i_start:i_end]):\n",
    "        if (pattern_day in name10) and (patten_lead10 in name10):\n",
    "            ind_temp10 = i_start+i10\n",
    "            break;         \n",
    "            \n",
    "    for i11, name11 in enumerate(filename_train_lead11[i_start:i_end]):\n",
    "        if (pattern_day in name11) and (patten_lead11 in name11):\n",
    "            ind_temp11 = i_start+i11\n",
    "            break;            \n",
    " \n",
    "    for i12, name12 in enumerate(filename_train_lead12[i_start:i_end]):\n",
    "        if (pattern_day in name12) and (patten_lead12 in name12):\n",
    "            ind_temp12 = i_start+i12\n",
    "            break; \n",
    "\n",
    "    for i13, name13 in enumerate(filename_train_lead13[i_start:i_end]):\n",
    "        if (pattern_day in name13) and (patten_lead13 in name13):\n",
    "            ind_temp13 = i_start+i13\n",
    "            break; \n",
    "            \n",
    "    for i14, name14 in enumerate(filename_train_lead14[i_start:i_end]):\n",
    "        if (pattern_day in name14) and (patten_lead14 in name14):\n",
    "            ind_temp14 = i_start+i14\n",
    "            break; \n",
    "            \n",
    "    for i15, name15 in enumerate(filename_train_lead15[i_start:i_end]):\n",
    "        if (pattern_day in name15) and (patten_lead15 in name15):\n",
    "            ind_temp15 = i_start+i15\n",
    "            break; \n",
    "            \n",
    "    for i16, name16 in enumerate(filename_train_lead16[i_start:i_end]):\n",
    "        if (pattern_day in name16) and (patten_lead16 in name16):\n",
    "            ind_temp16 = i_start+i16\n",
    "            break; \n",
    "            \n",
    "    for i17, name17 in enumerate(filename_train_lead17[i_start:i_end]):\n",
    "        if (pattern_day in name17) and (patten_lead17 in name17):\n",
    "            ind_temp17 = i_start+i17\n",
    "            break; \n",
    "            \n",
    "    for i18, name18 in enumerate(filename_train_lead18[i_start:i_end]):\n",
    "        if (pattern_day in name18) and (patten_lead18 in name18):\n",
    "            ind_temp18 = i_start+i18\n",
    "            break; \n",
    "            \n",
    "    for i19, name19 in enumerate(filename_train_lead19[i_start:i_end]):\n",
    "        if (pattern_day in name19) and (patten_lead19 in name19):\n",
    "            ind_temp19 = i_start+i19\n",
    "            break;\n",
    "\n",
    "    for i20, name20 in enumerate(filename_train_lead20[i_start:i_end]):\n",
    "        if (pattern_day in name20) and (patten_lead20 in name20):\n",
    "            ind_temp20 = i_start+i20\n",
    "            break;\n",
    "\n",
    "    for i21, name21 in enumerate(filename_train_lead21[i_start:i_end]):\n",
    "        if (pattern_day in name21) and (patten_lead21 in name21):\n",
    "            ind_temp21 = i_start+i21\n",
    "            break;\n",
    "\n",
    "    for i22, name22 in enumerate(filename_train_lead22[i_start:i_end]):\n",
    "        if (pattern_day in name22) and (patten_lead22 in name22):\n",
    "            ind_temp22 = i_start+i22\n",
    "            break;\n",
    "\n",
    "    flag = ind_temp3\n",
    "    flag = flag + ind_temp4 + ind_temp5 + ind_temp6 + ind_temp7 + ind_temp8\n",
    "    flag = flag + ind_temp9 + ind_temp10 + ind_temp11 + ind_temp12 + ind_temp13\n",
    "    flag = flag + ind_temp14 + ind_temp15 + ind_temp16 + ind_temp17 + ind_temp18\n",
    "    flag = flag + ind_temp19 + ind_temp20 + ind_temp21 + ind_temp22\n",
    "\n",
    "    if np.logical_not(np.isnan(flag)): \n",
    "        ind2[count] = i\n",
    "        ind3[count] = ind_temp3; ind4[count] = ind_temp4; ind5[count] = ind_temp5\n",
    "        ind6[count] = ind_temp6; ind7[count] = ind_temp7; ind8[count] = ind_temp8\n",
    "        ind9[count] = ind_temp9; ind10[count] = ind_temp10; ind11[count] = ind_temp11\n",
    "        ind12[count] = ind_temp12; ind13[count] = ind_temp13; ind14[count] = ind_temp14\n",
    "        ind15[count] = ind_temp15; ind16[count] = ind_temp16; ind17[count] = ind_temp17\n",
    "        ind18[count] = ind_temp18; ind19[count] = ind_temp19; ind20[count] = ind_temp20 \n",
    "        ind21[count] = ind_temp21; ind22[count] = ind_temp22\n",
    "        count += 1\n",
    "\n",
    "print(\"--- %s seconds ---\" % (time.time() - start_time))"
   ]
  },
  {
   "cell_type": "code",
   "execution_count": null,
   "id": "82e2d675-a4eb-42f7-bfa8-466c7b052536",
   "metadata": {},
   "outputs": [],
   "source": [
    "prefix = '/glade/work/ksha/NCAR/TRAIN_lead_inds_full_part{}.npy'"
   ]
  },
  {
   "cell_type": "code",
   "execution_count": 11,
   "id": "ff507d78-9942-4cf2-b1ac-757dc8f3ff0f",
   "metadata": {},
   "outputs": [],
   "source": [
    "TRAIN_inds_p0  = np.load(prefix.format(0), allow_pickle=True)[()]\n",
    "TRAIN_inds_p0['ind2']"
   ]
  },
  {
   "cell_type": "code",
   "execution_count": 15,
   "id": "559d4eb4-3b8a-4bb0-ba5d-6ce3db5de717",
   "metadata": {},
   "outputs": [
    {
     "data": {
      "text/plain": [
       "array([560000., 560001., 560002., ..., 599997., 599998., 599999.])"
      ]
     },
     "execution_count": 15,
     "metadata": {},
     "output_type": "execute_result"
    }
   ],
   "source": [
    "TRAIN_inds_p0  = np.load(prefix.format(14), allow_pickle=True)[()]\n",
    "TRAIN_inds_p0['ind2']"
   ]
  },
  {
   "cell_type": "code",
   "execution_count": null,
   "id": "6fea037c-6393-4495-a42e-cb2b58bcc4f6",
   "metadata": {},
   "outputs": [],
   "source": []
  },
  {
   "cell_type": "code",
   "execution_count": 18,
   "id": "2c791847-d3cc-4c02-9c3d-a96f3b26cc50",
   "metadata": {},
   "outputs": [],
   "source": [
    "\n",
    "filename_valid_lead2 = sorted(glob(\"/glade/scratch/ksha/DATA/NCAR_batch_v3/VALID*lead2.npy\"))\n",
    "filename_valid_lead3 = sorted(glob(\"/glade/scratch/ksha/DATA/NCAR_batch_v3/VALID*lead3.npy\"))\n",
    "filename_valid_lead4 = sorted(glob(\"/glade/scratch/ksha/DATA/NCAR_batch_v3/VALID*lead4.npy\"))\n",
    "filename_valid_lead5 = sorted(glob(\"/glade/scratch/ksha/DATA/NCAR_batch_v3/VALID*lead5.npy\"))\n",
    "filename_valid_lead6 = sorted(glob(\"/glade/scratch/ksha/DATA/NCAR_batch_v3/VALID*lead6.npy\"))\n",
    "filename_valid_lead7 = sorted(glob(\"/glade/scratch/ksha/DATA/NCAR_batch_v3/VALID*lead7.npy\"))\n",
    "filename_valid_lead8 = sorted(glob(\"/glade/scratch/ksha/DATA/NCAR_batch_v3/VALID*lead8.npy\"))\n",
    "\n",
    "filename_valid_lead9 = sorted(glob(\"/glade/campaign/cisl/aiml/ksha/NCAR_batch_v3/VALID*lead9.npy\"))\n",
    "filename_valid_lead10 = sorted(glob(\"/glade/campaign/cisl/aiml/ksha/NCAR_batch_v3/VALID*lead10.npy\"))\n",
    "filename_valid_lead11 = sorted(glob(\"/glade/campaign/cisl/aiml/ksha/NCAR_batch_v3/VALID*lead11.npy\"))\n",
    "filename_valid_lead12 = sorted(glob(\"/glade/campaign/cisl/aiml/ksha/NCAR_batch_v3/VALID*lead12.npy\"))\n",
    "filename_valid_lead13 = sorted(glob(\"/glade/campaign/cisl/aiml/ksha/NCAR_batch_v3/VALID*lead13.npy\"))\n",
    "filename_valid_lead14 = sorted(glob(\"/glade/campaign/cisl/aiml/ksha/NCAR_batch_v3/VALID*lead14.npy\"))\n",
    "filename_valid_lead15 = sorted(glob(\"/glade/campaign/cisl/aiml/ksha/NCAR_batch_v3/VALID*lead15.npy\"))\n",
    "filename_valid_lead16 = sorted(glob(\"/glade/campaign/cisl/aiml/ksha/NCAR_batch_v3/VALID*lead16.npy\"))\n",
    "filename_valid_lead17 = sorted(glob(\"/glade/campaign/cisl/aiml/ksha/NCAR_batch_v3/VALID*lead17.npy\"))\n",
    "filename_valid_lead18 = sorted(glob(\"/glade/campaign/cisl/aiml/ksha/NCAR_batch_v3/VALID*lead18.npy\"))\n",
    "\n",
    "filename_valid_lead19 = sorted(glob(\"/glade/scratch/ksha/DATA/NCAR_batch_v3/VALID*lead19.npy\"))\n",
    "filename_valid_lead20 = sorted(glob(\"/glade/scratch/ksha/DATA/NCAR_batch_v3/VALID*lead20.npy\"))\n",
    "filename_valid_lead21 = sorted(glob(\"/glade/scratch/ksha/DATA/NCAR_batch_v3/VALID*lead21.npy\"))\n",
    "filename_valid_lead22 = sorted(glob(\"/glade/scratch/ksha/DATA/NCAR_batch_v3/VALID*lead22.npy\"))"
   ]
  },
  {
   "cell_type": "code",
   "execution_count": 19,
   "id": "602cfd6e-5d9c-43ad-8d92-cc68f375efe5",
   "metadata": {},
   "outputs": [
    {
     "data": {
      "text/plain": [
       "278588"
      ]
     },
     "execution_count": 19,
     "metadata": {},
     "output_type": "execute_result"
    }
   ],
   "source": [
    "len(filename_valid_lead19)"
   ]
  },
  {
   "cell_type": "code",
   "execution_count": 20,
   "id": "c1d7d967-3563-4e1c-88cc-edbfe8fdef3c",
   "metadata": {},
   "outputs": [],
   "source": [
    "indx2, indy2, lead2, day2 = id_extract(filename_valid_lead2)\n",
    "indx3, indy3, lead3, day3 = id_extract(filename_valid_lead3)\n",
    "indx4, indy4, lead4, day4 = id_extract(filename_valid_lead4)\n",
    "indx5, indy5, lead5, day5 = id_extract(filename_valid_lead5)\n",
    "indx6, indy6, lead6, day6 = id_extract(filename_valid_lead6)\n",
    "indx7, indy7, lead7, day7 = id_extract(filename_valid_lead7)\n",
    "indx8, indy8, lead8, day8 = id_extract(filename_valid_lead8)\n",
    "\n",
    "indx9, indy9, lead9, day9 = id_extract(filename_valid_lead9)\n",
    "indx10, indy10, lead10, day10 = id_extract(filename_valid_lead10)\n",
    "indx11, indy11, lead11, day11 = id_extract(filename_valid_lead11)\n",
    "indx12, indy12, lead12, day12 = id_extract(filename_valid_lead12)\n",
    "indx13, indy13, lead13, day13 = id_extract(filename_valid_lead13)\n",
    "indx14, indy14, lead14, day14 = id_extract(filename_valid_lead14)\n",
    "indx15, indy15, lead15, day15 = id_extract(filename_valid_lead15)\n",
    "indx16, indy16, lead16, day16 = id_extract(filename_valid_lead16)\n",
    "indx17, indy17, lead17, day17 = id_extract(filename_valid_lead17)\n",
    "indx18, indy18, lead18, day18 = id_extract(filename_valid_lead18)\n",
    "\n",
    "indx19, indy19, lead19, day19 = id_extract(filename_valid_lead19)\n",
    "indx20, indy20, lead20, day20 = id_extract(filename_valid_lead20)\n",
    "indx21, indy21, lead21, day21 = id_extract(filename_valid_lead21)\n",
    "indx22, indy22, lead22, day22 = id_extract(filename_valid_lead22)\n",
    "\n",
    "\n",
    "L = len(filename_valid_lead2)\n",
    "\n",
    "ind2 = np.empty(L); ind3 = np.empty(L); ind4 = np.empty(L); ind5 = np.empty(L)\n",
    "ind6 = np.empty(L); ind7 = np.empty(L); ind8 = np.empty(L); ind9 = np.empty(L) \n",
    "ind10 = np.empty(L); ind11 = np.empty(L); ind12 = np.empty(L); ind13 = np.empty(L) \n",
    "ind14 = np.empty(L); ind15 = np.empty(L); ind16 = np.empty(L); ind17 = np.empty(L) \n",
    "ind18 = np.empty(L); ind19 = np.empty(L); ind20 = np.empty(L); ind21 = np.empty(L); \n",
    "ind22 = np.empty(L)\n",
    "\n"
   ]
  },
  {
   "cell_type": "code",
   "execution_count": 21,
   "id": "d68c0a74-fcc7-4889-937c-83d1a3893741",
   "metadata": {},
   "outputs": [
    {
     "name": "stdout",
     "output_type": "stream",
     "text": [
      "--- 36.48168206214905 seconds ---\n"
     ]
    }
   ],
   "source": [
    "\n",
    "count = 0\n",
    "\n",
    "start_time = time.time()\n",
    "\n",
    "gap = 200\n",
    "ind_end = (part+1)*gap\n",
    "ind_end_min = np.min([L, ind_end])\n",
    "\n",
    "picks = range(part*gap, ind_end_min, 1)\n",
    "\n",
    "rad = 241800\n",
    "\n",
    "for i in picks:\n",
    "\n",
    "    i_start = np.max([i-rad, 0])\n",
    "    i_end = np.min([i+rad, L])\n",
    "    \n",
    "    ind_temp2 = np.nan; ind_temp3 = np.nan; ind_temp4 = np.nan\n",
    "    ind_temp5 = np.nan; ind_temp6 = np.nan; ind_temp7 = np.nan\n",
    "    ind_temp8 = np.nan; ind_temp9 = np.nan; ind_temp10 = np.nan\n",
    "    ind_temp11 = np.nan; ind_temp12 = np.nan; ind_temp13 = np.nan\n",
    "    ind_temp14 = np.nan; ind_temp15 = np.nan; ind_temp16 = np.nan\n",
    "    ind_temp17 = np.nan; ind_temp18 = np.nan; ind_temp19 = np.nan \n",
    "    ind_temp20 = np.nan; ind_temp21 = np.nan; ind_temp22 = np.nan\n",
    "\n",
    "    pattern_day = 'VALID_day{:03d}'.format(day2[i])\n",
    "\n",
    "    patten_lead3 = 'indx{}_indy{}_lead3'.format(indx2[i], indy2[i])\n",
    "    patten_lead4 = 'indx{}_indy{}_lead4'.format(indx2[i], indy2[i])\n",
    "    patten_lead5 = 'indx{}_indy{}_lead5'.format(indx2[i], indy2[i])\n",
    "    patten_lead6 = 'indx{}_indy{}_lead6'.format(indx2[i], indy2[i])\n",
    "    patten_lead7 = 'indx{}_indy{}_lead7'.format(indx2[i], indy2[i])\n",
    "    patten_lead8 = 'indx{}_indy{}_lead8'.format(indx2[i], indy2[i])\n",
    "    patten_lead9 = 'indx{}_indy{}_lead9'.format(indx2[i], indy2[i])\n",
    "    patten_lead10 = 'indx{}_indy{}_lead10'.format(indx2[i], indy2[i])\n",
    "    patten_lead11 = 'indx{}_indy{}_lead11'.format(indx2[i], indy2[i])\n",
    "    patten_lead12 = 'indx{}_indy{}_lead12'.format(indx2[i], indy2[i])\n",
    "    patten_lead13 = 'indx{}_indy{}_lead13'.format(indx2[i], indy2[i])\n",
    "    patten_lead14 = 'indx{}_indy{}_lead14'.format(indx2[i], indy2[i])\n",
    "    patten_lead15 = 'indx{}_indy{}_lead15'.format(indx2[i], indy2[i])\n",
    "    patten_lead16 = 'indx{}_indy{}_lead16'.format(indx2[i], indy2[i])\n",
    "    patten_lead17 = 'indx{}_indy{}_lead17'.format(indx2[i], indy2[i])\n",
    "    patten_lead18 = 'indx{}_indy{}_lead18'.format(indx2[i], indy2[i])\n",
    "    patten_lead19 = 'indx{}_indy{}_lead19'.format(indx2[i], indy2[i])\n",
    "    patten_lead20 = 'indx{}_indy{}_lead20'.format(indx2[i], indy2[i])\n",
    "    patten_lead21 = 'indx{}_indy{}_lead21'.format(indx2[i], indy2[i])\n",
    "    patten_lead22 = 'indx{}_indy{}_lead22'.format(indx2[i], indy2[i])\n",
    "\n",
    "    for i3, name3 in enumerate(filename_valid_lead3[i_start:i_end]):\n",
    "        if (pattern_day in name3) and (patten_lead3 in name3):\n",
    "            ind_temp3 = i_start+i3\n",
    "            break;\n",
    "\n",
    "    for i4, name4 in enumerate(filename_valid_lead4[i_start:i_end]):\n",
    "        if (pattern_day in name4) and (patten_lead4 in name4):\n",
    "            ind_temp4 = i_start+i4\n",
    "            break;\n",
    "\n",
    "    for i5, name5 in enumerate(filename_valid_lead5[i_start:i_end]):\n",
    "        if (pattern_day in name5) and (patten_lead5 in name5):\n",
    "            ind_temp5 = i_start+i5\n",
    "            break;\n",
    "\n",
    "    for i6, name6 in enumerate(filename_valid_lead6[i_start:i_end]):\n",
    "        if (pattern_day in name6) and (patten_lead6 in name6):\n",
    "            ind_temp6 = i_start+i6\n",
    "            break;\n",
    "\n",
    "    for i7, name7 in enumerate(filename_valid_lead7[i_start:i_end]):\n",
    "        if (pattern_day in name7) and (patten_lead7 in name7):\n",
    "            ind_temp7 = i_start+i7\n",
    "            break;\n",
    "\n",
    "    for i8, name8 in enumerate(filename_valid_lead8[i_start:i_end]):\n",
    "        if (pattern_day in name8) and (patten_lead8 in name8):\n",
    "            ind_temp8 = i_start+i8\n",
    "            break;\n",
    "            \n",
    "    for i9, name9 in enumerate(filename_valid_lead9[i_start:i_end]):\n",
    "        if (pattern_day in name9) and (patten_lead9 in name9):\n",
    "            ind_temp9 = i_start+i9\n",
    "            break;\n",
    "            \n",
    "    for i10, name10 in enumerate(filename_valid_lead10[i_start:i_end]):\n",
    "        if (pattern_day in name10) and (patten_lead10 in name10):\n",
    "            ind_temp10 = i_start+i10\n",
    "            break;         \n",
    "            \n",
    "    for i11, name11 in enumerate(filename_valid_lead11[i_start:i_end]):\n",
    "        if (pattern_day in name11) and (patten_lead11 in name11):\n",
    "            ind_temp11 = i_start+i11\n",
    "            break;            \n",
    " \n",
    "    for i12, name12 in enumerate(filename_valid_lead12[i_start:i_end]):\n",
    "        if (pattern_day in name12) and (patten_lead12 in name12):\n",
    "            ind_temp12 = i_start+i12\n",
    "            break; \n",
    "\n",
    "    for i13, name13 in enumerate(filename_valid_lead13[i_start:i_end]):\n",
    "        if (pattern_day in name13) and (patten_lead13 in name13):\n",
    "            ind_temp13 = i_start+i13\n",
    "            break; \n",
    "            \n",
    "    for i14, name14 in enumerate(filename_valid_lead14[i_start:i_end]):\n",
    "        if (pattern_day in name14) and (patten_lead14 in name14):\n",
    "            ind_temp14 = i_start+i14\n",
    "            break; \n",
    "            \n",
    "    for i15, name15 in enumerate(filename_valid_lead15[i_start:i_end]):\n",
    "        if (pattern_day in name15) and (patten_lead15 in name15):\n",
    "            ind_temp15 = i_start+i15\n",
    "            break; \n",
    "            \n",
    "    for i16, name16 in enumerate(filename_valid_lead16[i_start:i_end]):\n",
    "        if (pattern_day in name16) and (patten_lead16 in name16):\n",
    "            ind_temp16 = i_start+i16\n",
    "            break; \n",
    "            \n",
    "    for i17, name17 in enumerate(filename_valid_lead17[i_start:i_end]):\n",
    "        if (pattern_day in name17) and (patten_lead17 in name17):\n",
    "            ind_temp17 = i_start+i17\n",
    "            break; \n",
    "            \n",
    "    for i18, name18 in enumerate(filename_valid_lead18[i_start:i_end]):\n",
    "        if (pattern_day in name18) and (patten_lead18 in name18):\n",
    "            ind_temp18 = i_start+i18\n",
    "            break; \n",
    "            \n",
    "    for i19, name19 in enumerate(filename_valid_lead19[i_start:i_end]):\n",
    "        if (pattern_day in name19) and (patten_lead19 in name19):\n",
    "            ind_temp19 = i_start+i19\n",
    "            break;\n",
    "\n",
    "    for i20, name20 in enumerate(filename_valid_lead20[i_start:i_end]):\n",
    "        if (pattern_day in name20) and (patten_lead20 in name20):\n",
    "            ind_temp20 = i_start+i20\n",
    "            break;\n",
    "\n",
    "    for i21, name21 in enumerate(filename_valid_lead21[i_start:i_end]):\n",
    "        if (pattern_day in name21) and (patten_lead21 in name21):\n",
    "            ind_temp21 = i_start+i21\n",
    "            break;\n",
    "\n",
    "    for i22, name22 in enumerate(filename_valid_lead22[i_start:i_end]):\n",
    "        if (pattern_day in name22) and (patten_lead22 in name22):\n",
    "            ind_temp22 = i_start+i22\n",
    "            break;\n",
    "\n",
    "    flag = ind_temp3\n",
    "    flag = flag + ind_temp4 + ind_temp5 + ind_temp6 + ind_temp7 + ind_temp8\n",
    "    flag = flag + ind_temp9 + ind_temp10 + ind_temp11 + ind_temp12 + ind_temp13\n",
    "    flag = flag + ind_temp14 + ind_temp15 + ind_temp16 + ind_temp17 + ind_temp18\n",
    "    flag = flag + ind_temp19 + ind_temp20 + ind_temp21 + ind_temp22\n",
    "\n",
    "    if np.logical_not(np.isnan(flag)): \n",
    "        ind2[count] = i\n",
    "        ind3[count] = ind_temp3; ind4[count] = ind_temp4; ind5[count] = ind_temp5\n",
    "        ind6[count] = ind_temp6; ind7[count] = ind_temp7; ind8[count] = ind_temp8\n",
    "        ind9[count] = ind_temp9; ind10[count] = ind_temp10; ind11[count] = ind_temp11\n",
    "        ind12[count] = ind_temp12; ind13[count] = ind_temp13; ind14[count] = ind_temp14\n",
    "        ind15[count] = ind_temp15; ind16[count] = ind_temp16; ind17[count] = ind_temp17\n",
    "        ind18[count] = ind_temp18; ind19[count] = ind_temp19; ind20[count] = ind_temp20 \n",
    "        ind21[count] = ind_temp21; ind22[count] = ind_temp22\n",
    "        count += 1\n",
    "\n",
    "print(\"--- %s seconds ---\" % (time.time() - start_time))"
   ]
  },
  {
   "cell_type": "code",
   "execution_count": 22,
   "id": "09c1c83e-f6cf-4ada-81c9-b076e7e44106",
   "metadata": {},
   "outputs": [
    {
     "data": {
      "text/plain": [
       "199"
      ]
     },
     "execution_count": 22,
     "metadata": {},
     "output_type": "execute_result"
    }
   ],
   "source": [
    "ind_temp6"
   ]
  },
  {
   "cell_type": "code",
   "execution_count": 25,
   "id": "2a298ec4-5b22-4182-843b-8c40f0cb9b24",
   "metadata": {},
   "outputs": [
    {
     "data": {
      "text/plain": [
       "199"
      ]
     },
     "execution_count": 25,
     "metadata": {},
     "output_type": "execute_result"
    }
   ],
   "source": [
    "ind_temp7"
   ]
  },
  {
   "cell_type": "code",
   "execution_count": 26,
   "id": "bd75fca5-5081-400a-8e86-4dd0e72583ee",
   "metadata": {},
   "outputs": [
    {
     "data": {
      "text/plain": [
       "199"
      ]
     },
     "execution_count": 26,
     "metadata": {},
     "output_type": "execute_result"
    }
   ],
   "source": [
    "ind_temp8"
   ]
  },
  {
   "cell_type": "code",
   "execution_count": 27,
   "id": "fb27aa4f-312e-473a-ac74-3caa33132750",
   "metadata": {},
   "outputs": [
    {
     "data": {
      "text/plain": [
       "3980"
      ]
     },
     "execution_count": 27,
     "metadata": {},
     "output_type": "execute_result"
    }
   ],
   "source": [
    "flag"
   ]
  },
  {
   "cell_type": "code",
   "execution_count": null,
   "id": "6a8c9014-ee7d-420e-a435-c528440d6351",
   "metadata": {},
   "outputs": [],
   "source": []
  }
 ],
 "metadata": {
  "kernelspec": {
   "display_name": "Python 3 (ipykernel)",
   "language": "python",
   "name": "python3"
  },
  "language_info": {
   "codemirror_mode": {
    "name": "ipython",
    "version": 3
   },
   "file_extension": ".py",
   "mimetype": "text/x-python",
   "name": "python",
   "nbconvert_exporter": "python",
   "pygments_lexer": "ipython3",
   "version": "3.9.15"
  }
 },
 "nbformat": 4,
 "nbformat_minor": 5
}
