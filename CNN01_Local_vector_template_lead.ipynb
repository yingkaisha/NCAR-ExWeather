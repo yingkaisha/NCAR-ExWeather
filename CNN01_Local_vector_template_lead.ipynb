{
 "cells": [
  {
   "cell_type": "code",
   "execution_count": 1,
   "id": "27a0a927-ec50-44a0-b82c-26848002e35e",
   "metadata": {},
   "outputs": [],
   "source": [
    "# general tools\n",
    "import os\n",
    "import sys\n",
    "import time\n",
    "import h5py\n",
    "import random\n",
    "from glob import glob\n",
    "\n",
    "import numpy as np\n",
    "from datetime import datetime, timedelta\n",
    "from random import shuffle"
   ]
  },
  {
   "cell_type": "code",
   "execution_count": 2,
   "id": "20a24190-0ecb-4c87-ba41-0b1ec72becf3",
   "metadata": {},
   "outputs": [
    {
     "name": "stderr",
     "output_type": "stream",
     "text": [
      "2023-01-23 12:49:43.567696: I tensorflow/stream_executor/platform/default/dso_loader.cc:49] Successfully opened dynamic library libcudart.so.10.1\n"
     ]
    }
   ],
   "source": [
    "import tensorflow as tf\n",
    "from tensorflow import keras\n",
    "from tensorflow.keras import backend\n",
    "from keras_unet_collection import utils as k_utils"
   ]
  },
  {
   "cell_type": "code",
   "execution_count": 3,
   "id": "ed60309c-e19e-4869-ae18-694ad645527f",
   "metadata": {},
   "outputs": [],
   "source": [
    "sys.path.insert(0, '/glade/u/home/ksha/NCAR/')\n",
    "sys.path.insert(0, '/glade/u/home/ksha/NCAR/libs/')\n",
    "\n",
    "from namelist import *\n",
    "import data_utils as du"
   ]
  },
  {
   "cell_type": "code",
   "execution_count": 4,
   "id": "57dc768a-1ab3-4fc2-912e-3fe1d6f6ef26",
   "metadata": {},
   "outputs": [],
   "source": [
    "import re"
   ]
  },
  {
   "cell_type": "code",
   "execution_count": 5,
   "id": "db2a25df-e774-4c84-8270-9b7f62d51e02",
   "metadata": {},
   "outputs": [],
   "source": [
    "import matplotlib.pyplot as plt\n",
    "%matplotlib inline"
   ]
  },
  {
   "cell_type": "code",
   "execution_count": 6,
   "id": "5b090ba6-a5fc-4207-b7d3-c00fa1856a52",
   "metadata": {},
   "outputs": [],
   "source": [
    "def pos_mixer(TRAIN, L, a0=0, a1=0.2):\n",
    "    data_shape = TRAIN.shape\n",
    "    out = np.empty((L, data_shape[-1]))\n",
    "    \n",
    "    for i in range(L):\n",
    "        inds = np.random.choice(data_shape[0], 2)\n",
    "        a = np.random.uniform(a0, a1)\n",
    "        out[i, :] = a*TRAIN[inds[0], :] + (1-a)*TRAIN[inds[1], :]\n",
    "    return out"
   ]
  },
  {
   "cell_type": "code",
   "execution_count": 7,
   "id": "b23b86cf-3500-471a-bdfe-bad8433bbddd",
   "metadata": {},
   "outputs": [],
   "source": [
    "def set_seeds(seed):\n",
    "    os.environ['PYTHONHASHSEED'] = str(seed)\n",
    "    random.seed(seed)\n",
    "    tf.random.set_seed(seed)\n",
    "    np.random.seed(seed)"
   ]
  },
  {
   "cell_type": "code",
   "execution_count": 8,
   "id": "3bc32d24-a9ce-486a-9da6-fa401ca03cdd",
   "metadata": {},
   "outputs": [],
   "source": [
    "def verif_metric(VALID_target, Y_pred, ref):\n",
    "\n",
    "\n",
    "    # fpr, tpr, thresholds = roc_curve(VALID_target.ravel(), Y_pred.ravel())\n",
    "    # AUC = auc(fpr, tpr)\n",
    "    # AUC_metric = 1 - AUC\n",
    "    \n",
    "    BS = np.mean((VALID_target.ravel() - Y_pred.ravel())**2)\n",
    "    #ll = log_loss(VALID_target.ravel(), Y_pred.ravel())\n",
    "    \n",
    "    #print('{}'.format(BS))\n",
    "    metric = BS\n",
    "\n",
    "    return metric / ref"
   ]
  },
  {
   "cell_type": "code",
   "execution_count": 9,
   "id": "912aef91-0827-49ae-95d4-28d4f8bfb3cf",
   "metadata": {},
   "outputs": [],
   "source": [
    "# def set_seeds(seed):\n",
    "#     os.environ['PYTHONHASHSEED'] = str(seed)\n",
    "#     random.seed(seed)\n",
    "#     tf.random.set_seed(seed)\n",
    "#     np.random.seed(seed)"
   ]
  },
  {
   "cell_type": "code",
   "execution_count": 10,
   "id": "47bbe697-79dc-4c49-a499-474a478441fb",
   "metadata": {},
   "outputs": [],
   "source": [
    "def feature_extract(filenames, lon_80km, lon_minmax, lat_80km, lat_minmax, elev_80km, elev_max):\n",
    "    \n",
    "    lon_out = []\n",
    "    lat_out = []\n",
    "    elev_out = []\n",
    "    mon_out = []\n",
    "    \n",
    "    base_v3_s = datetime(2018, 7, 15)\n",
    "    base_v3_e = datetime(2020, 12, 2)\n",
    "\n",
    "    base_v4_s = datetime(2020, 12, 3)\n",
    "    base_v4_e = datetime(2022, 7, 15)\n",
    "\n",
    "    base_ref = datetime(2010, 1, 1)\n",
    "    \n",
    "    date_list_v3 = [base_v3_s + timedelta(days=day) for day in range(365+365+142)]\n",
    "    date_list_v4 = [base_v4_s + timedelta(days=day) for day in range(365+180-151)]\n",
    "    \n",
    "    for i, name in enumerate(filenames):\n",
    "        \n",
    "        if 'v4' in name:\n",
    "            date_list = date_list_v4\n",
    "        else:\n",
    "            date_list = date_list_v3\n",
    "        \n",
    "        nums = re.findall(r'\\d+', name)\n",
    "        indy = int(nums[-2])\n",
    "        indx = int(nums[-3])\n",
    "        day = int(nums[-4])\n",
    "        day = date_list[day]\n",
    "        month = day.month\n",
    "        \n",
    "        month_norm = (month - 1)/(12-1)\n",
    "        \n",
    "        lon = lon_80km[indx, indy]\n",
    "        lat = lat_80km[indx, indy]\n",
    "\n",
    "        lon = (lon - lon_minmax[0])/(lon_minmax[1] - lon_minmax[0])\n",
    "        lat = (lat - lat_minmax[0])/(lat_minmax[1] - lat_minmax[0])\n",
    "\n",
    "        elev = elev_80km[indx, indy]\n",
    "        elev = elev / elev_max\n",
    "        \n",
    "        lon_out.append(lon)\n",
    "        lat_out.append(lat)\n",
    "        elev_out.append(elev)\n",
    "        mon_out.append(month_norm)\n",
    "        \n",
    "    return np.array(lon_out), np.array(lat_out), np.array(elev_out), np.array(mon_out)\n",
    "\n",
    "def create_model():\n",
    "\n",
    "    \n",
    "    IN_vec = keras.Input((512,))    \n",
    "    IN_elev = keras.Input((3,))\n",
    "    IN = keras.layers.Concatenate()([IN_vec, IN_elev])\n",
    "    \n",
    "    X = IN\n",
    "    #\n",
    "    X = keras.layers.Dense(1024, activity_regularizer=keras.regularizers.L2(1e-2))(X)\n",
    "    X = keras.layers.BatchNormalization()(X)\n",
    "    X = keras.layers.Activation(\"gelu\")(X)\n",
    "    #X = keras.layers.Activation(\"relu\")(X)\n",
    "\n",
    "    X = keras.layers.Dropout(0.4)(X)\n",
    "    #X = keras.layers.Dropout(0.2)(X)\n",
    "    #\n",
    "    \n",
    "    X = keras.layers.Dense(512, activity_regularizer=keras.regularizers.L2(1e-2))(X)\n",
    "    X = keras.layers.BatchNormalization()(X)\n",
    "    X = keras.layers.Activation(\"gelu\")(X)\n",
    "    #X = keras.layers.Activation(\"relu\")(X)\n",
    "    \n",
    "    X = keras.layers.Dropout(0.4)(X)\n",
    "    #X = keras.layers.Dropout(0.2)(X)\n",
    "    \n",
    "    X = keras.layers.Dense(128, activity_regularizer=keras.regularizers.L2(1e-2))(X)\n",
    "    X = keras.layers.BatchNormalization()(X)\n",
    "    X = keras.layers.Activation(\"gelu\")(X)\n",
    "    #X = keras.layers.Activation(\"relu\")(X)\n",
    "    \n",
    "    OUT = X\n",
    "    OUT = keras.layers.Dense(1, activation='sigmoid', bias_initializer=keras.initializers.Constant(-10))(OUT)\n",
    "\n",
    "    model = keras.models.Model(inputs=[IN_vec, IN_elev], outputs=OUT)\n",
    "    \n",
    "    return model"
   ]
  },
  {
   "cell_type": "code",
   "execution_count": 11,
   "id": "5b1c36e5-4aee-49f2-b8b0-261600e25e00",
   "metadata": {},
   "outputs": [],
   "source": [
    "with h5py.File(save_dir+'HRRR_domain.hdf', 'r') as h5io:\n",
    "    lon_3km = h5io['lon_3km'][...]\n",
    "    lat_3km = h5io['lat_3km'][...]\n",
    "    lon_80km = h5io['lon_80km'][...]\n",
    "    lat_80km = h5io['lat_80km'][...]\n",
    "    elev_3km = h5io['elev_3km'][...]\n",
    "    land_mask_80km = h5io['land_mask_80km'][...]\n",
    "    \n",
    "grid_shape = land_mask_80km.shape"
   ]
  },
  {
   "cell_type": "code",
   "execution_count": 12,
   "id": "528e2e04-fffe-4f1c-a162-482f3c3983f4",
   "metadata": {},
   "outputs": [],
   "source": [
    "elev_80km = du.interp2d_wraper(lon_3km, lat_3km, elev_3km, lon_80km, lat_80km, method='linear')\n",
    "\n",
    "elev_80km[np.isnan(elev_80km)] = 0\n",
    "elev_80km[elev_80km<0] = 0\n",
    "elev_max = np.max(elev_80km)\n",
    "\n",
    "lon_80km_mask = lon_80km[land_mask_80km]\n",
    "lat_80km_mask = lat_80km[land_mask_80km]\n",
    "\n",
    "lon_minmax = [np.min(lon_80km_mask), np.max(lon_80km_mask)]\n",
    "lat_minmax = [np.min(lat_80km_mask), np.max(lat_80km_mask)]"
   ]
  },
  {
   "cell_type": "code",
   "execution_count": null,
   "id": "0707742a-b973-483d-9d60-95a8ef87c7ab",
   "metadata": {},
   "outputs": [],
   "source": []
  },
  {
   "cell_type": "code",
   "execution_count": 13,
   "id": "7cb0cd3b-a1da-46d8-918c-2fb336cb93ef",
   "metadata": {},
   "outputs": [],
   "source": [
    "lead1 = 2\n",
    "lead2 = 3\n",
    "lead3 = 4\n",
    "lead4 = 5\n",
    "\n",
    "lead_name = 4\n",
    "model_tag = 'full'"
   ]
  },
  {
   "cell_type": "code",
   "execution_count": 14,
   "id": "28c6aec5-4f1e-4a53-9a80-366ec8463aed",
   "metadata": {},
   "outputs": [],
   "source": [
    "filepath_vec = \"/glade/work/ksha/NCAR/\"\n",
    "\n",
    "path_name1 = '/glade/scratch/ksha/DATA/NCAR_batch_v3/'\n",
    "path_name2 = '/glade/scratch/ksha/DATA/NCAR_batch_v3/'\n",
    "path_name3 = '/glade/scratch/ksha/DATA/NCAR_batch_v3/'\n",
    "path_name4 = '/glade/scratch/ksha/DATA/NCAR_batch_v3/'"
   ]
  },
  {
   "cell_type": "code",
   "execution_count": 15,
   "id": "e593234c-ee7f-42fc-9384-5f8239efdd44",
   "metadata": {},
   "outputs": [],
   "source": [
    "filename_train_lead1 = sorted(glob(\"{}TRAIN*lead{}.npy\".format(path_name1, lead1)))\n",
    "filename_train_lead2 = sorted(glob(\"{}TRAIN*lead{}.npy\".format(path_name2, lead2)))\n",
    "filename_train_lead3 = sorted(glob(\"{}TRAIN*lead{}.npy\".format(path_name3, lead3)))\n",
    "filename_train_lead4 = sorted(glob(\"{}TRAIN*lead{}.npy\".format(path_name4, lead4)))"
   ]
  },
  {
   "cell_type": "code",
   "execution_count": 16,
   "id": "ead68ed4-b9aa-4068-87c0-d897c4f2841d",
   "metadata": {},
   "outputs": [],
   "source": [
    "IND_TRAIN_lead = np.load('/glade/work/ksha/NCAR/IND_TRAIN_lead_full.npy', allow_pickle=True)[()]\n",
    "TRAIN_ind1 = IND_TRAIN_lead['lead{}'.format(lead1)]\n",
    "TRAIN_ind2 = IND_TRAIN_lead['lead{}'.format(lead2)]\n",
    "TRAIN_ind3 = IND_TRAIN_lead['lead{}'.format(lead3)]\n",
    "TRAIN_ind4 = IND_TRAIN_lead['lead{}'.format(lead4)]"
   ]
  },
  {
   "cell_type": "code",
   "execution_count": 17,
   "id": "5330c355-896f-45a1-9e9b-d530c142a15c",
   "metadata": {},
   "outputs": [],
   "source": [
    "data_lead1_p0 = np.load('{}TRAIN_pp15_pred_lead{}_part0_{}.npy'.format(filepath_vec, lead1, model_tag), allow_pickle=True)[()]\n",
    "data_lead1_p1 = np.load('{}TRAIN_pp15_pred_lead{}_part1_{}.npy'.format(filepath_vec, lead1, model_tag), allow_pickle=True)[()]\n",
    "data_lead1_p2 = np.load('{}TRAIN_pp15_pred_lead{}_part2_{}.npy'.format(filepath_vec, lead1, model_tag), allow_pickle=True)[()]\n",
    "\n",
    "data_lead2_p0 = np.load('{}TRAIN_pp15_pred_lead{}_part0_{}.npy'.format(filepath_vec, lead2, model_tag), allow_pickle=True)[()]\n",
    "data_lead2_p1 = np.load('{}TRAIN_pp15_pred_lead{}_part1_{}.npy'.format(filepath_vec, lead2, model_tag), allow_pickle=True)[()]\n",
    "data_lead2_p2 = np.load('{}TRAIN_pp15_pred_lead{}_part2_{}.npy'.format(filepath_vec, lead2, model_tag), allow_pickle=True)[()]\n",
    "\n",
    "data_lead3_p0 = np.load('{}TRAIN_pp15_pred_lead{}_part0_{}.npy'.format(filepath_vec, lead3, model_tag), allow_pickle=True)[()]\n",
    "data_lead3_p1 = np.load('{}TRAIN_pp15_pred_lead{}_part1_{}.npy'.format(filepath_vec, lead3, model_tag), allow_pickle=True)[()]\n",
    "data_lead3_p2 = np.load('{}TRAIN_pp15_pred_lead{}_part2_{}.npy'.format(filepath_vec, lead3, model_tag), allow_pickle=True)[()]\n",
    "\n",
    "data_lead4_p0 = np.load('{}TRAIN_pp15_pred_lead{}_part0_{}.npy'.format(filepath_vec, lead4, model_tag), allow_pickle=True)[()]\n",
    "data_lead4_p1 = np.load('{}TRAIN_pp15_pred_lead{}_part1_{}.npy'.format(filepath_vec, lead4, model_tag), allow_pickle=True)[()]\n",
    "data_lead4_p2 = np.load('{}TRAIN_pp15_pred_lead{}_part2_{}.npy'.format(filepath_vec, lead4, model_tag), allow_pickle=True)[()]"
   ]
  },
  {
   "cell_type": "code",
   "execution_count": 18,
   "id": "af2205b3-1baf-42de-9503-d0b589ccfc3f",
   "metadata": {},
   "outputs": [],
   "source": [
    "TRAIN_lead1 = np.concatenate((data_lead1_p0['y_vector'], data_lead1_p1['y_vector'], data_lead1_p2['y_vector']), axis=0)\n",
    "TRAIN_lead2 = np.concatenate((data_lead2_p0['y_vector'], data_lead2_p1['y_vector'], data_lead2_p2['y_vector']), axis=0)\n",
    "TRAIN_lead3 = np.concatenate((data_lead3_p0['y_vector'], data_lead3_p1['y_vector'], data_lead3_p2['y_vector']), axis=0)\n",
    "TRAIN_lead4 = np.concatenate((data_lead4_p0['y_vector'], data_lead4_p1['y_vector'], data_lead4_p2['y_vector']), axis=0)"
   ]
  },
  {
   "cell_type": "code",
   "execution_count": 19,
   "id": "5c58d7f3-f2c4-42e4-ab39-5d26131f3e1a",
   "metadata": {},
   "outputs": [],
   "source": [
    "TRAIN_lead1_y = np.concatenate((data_lead1_p0['y_true'], data_lead1_p1['y_true'], data_lead1_p2['y_true']), axis=0)\n",
    "TRAIN_lead2_y = np.concatenate((data_lead2_p0['y_true'], data_lead2_p1['y_true'], data_lead2_p2['y_true']), axis=0)\n",
    "TRAIN_lead3_y = np.concatenate((data_lead3_p0['y_true'], data_lead3_p1['y_true'], data_lead3_p2['y_true']), axis=0)\n",
    "TRAIN_lead4_y = np.concatenate((data_lead4_p0['y_true'], data_lead4_p1['y_true'], data_lead4_p2['y_true']), axis=0)"
   ]
  },
  {
   "cell_type": "code",
   "execution_count": 20,
   "id": "b21a0ec8-fc11-4ccf-ab5d-4ff6f2129d29",
   "metadata": {},
   "outputs": [],
   "source": [
    "L = len(TRAIN_ind2)\n",
    "\n",
    "filename_train1_pick = []\n",
    "filename_train2_pick = []\n",
    "filename_train3_pick = []\n",
    "filename_train4_pick = []\n",
    "\n",
    "TRAIN_X = np.empty((L, 512))\n",
    "TRAIN_Y = np.empty(L)\n",
    "\n",
    "for i in range(L):\n",
    "    \n",
    "    ind_lead1 = int(TRAIN_ind1[i])\n",
    "    ind_lead2 = int(TRAIN_ind2[i])\n",
    "    ind_lead3 = int(TRAIN_ind3[i])\n",
    "    ind_lead4 = int(TRAIN_ind4[i])\n",
    "    \n",
    "    filename_train1_pick.append(filename_train_lead1[ind_lead1])\n",
    "    filename_train2_pick.append(filename_train_lead2[ind_lead2])\n",
    "    filename_train3_pick.append(filename_train_lead3[ind_lead3])\n",
    "    filename_train4_pick.append(filename_train_lead4[ind_lead4])\n",
    "    \n",
    "    TRAIN_X[i, 0:128]   = TRAIN_lead1[ind_lead1, :]\n",
    "    TRAIN_X[i, 128:256] = TRAIN_lead2[ind_lead2, :]\n",
    "    TRAIN_X[i, 256:384] = TRAIN_lead3[ind_lead3, :]\n",
    "    TRAIN_X[i, 384:512] = TRAIN_lead4[ind_lead4, :]\n",
    "    \n",
    "    TRAIN_Y[i] = TRAIN_lead3_y[ind_lead3]"
   ]
  },
  {
   "cell_type": "code",
   "execution_count": 21,
   "id": "c8ac4ab4-18e1-42ab-bf04-9e158ed1fc78",
   "metadata": {},
   "outputs": [],
   "source": [
    "lon_norm, lat_norm, elev_norm, mon_norm = feature_extract(\n",
    "    filename_train3_pick, lon_80km, lon_minmax, lat_80km, lat_minmax, elev_80km, elev_max)"
   ]
  },
  {
   "cell_type": "code",
   "execution_count": 22,
   "id": "8d479179-2549-49de-90d6-610670007dcb",
   "metadata": {},
   "outputs": [],
   "source": [
    "TRAIN_stn = np.concatenate((lon_norm[:, None], lat_norm[:, None], elev_norm[:, None]), axis=1)\n",
    "TRAIN_merge = TRAIN_stn"
   ]
  },
  {
   "cell_type": "code",
   "execution_count": 23,
   "id": "59c11c45-42b7-43fd-9e72-8de13f4edc5d",
   "metadata": {},
   "outputs": [],
   "source": [
    "TRAIN_256_pos = TRAIN_X[TRAIN_Y==1, :]\n",
    "TRAIN_256_neg = TRAIN_X[TRAIN_Y==0, :]"
   ]
  },
  {
   "cell_type": "code",
   "execution_count": 24,
   "id": "19544dea-1342-4c30-a470-d59b18652f05",
   "metadata": {},
   "outputs": [],
   "source": [
    "TRAIN_stn_pos = TRAIN_merge[TRAIN_Y==1]\n",
    "TRAIN_stn_neg = TRAIN_merge[TRAIN_Y==0]"
   ]
  },
  {
   "cell_type": "markdown",
   "id": "1a30ece5-27c7-49dd-9431-d9608dab439b",
   "metadata": {},
   "source": [
    "**Valid**"
   ]
  },
  {
   "cell_type": "code",
   "execution_count": 25,
   "id": "3ab5cdb3-9700-404f-be2a-b59d46aa20f7",
   "metadata": {},
   "outputs": [],
   "source": [
    "filename_valid_lead1 = sorted(glob(\"{}VALID*lead{}.npy\".format(path_name1, lead1)))\n",
    "filename_valid_lead2 = sorted(glob(\"{}VALID*lead{}.npy\".format(path_name2, lead2)))\n",
    "filename_valid_lead3 = sorted(glob(\"{}VALID*lead{}.npy\".format(path_name3, lead3)))\n",
    "filename_valid_lead4 = sorted(glob(\"{}VALID*lead{}.npy\".format(path_name4, lead4)))"
   ]
  },
  {
   "cell_type": "code",
   "execution_count": 26,
   "id": "77782c59-1e77-4c60-87a9-12f93b51136f",
   "metadata": {},
   "outputs": [],
   "source": [
    "valid_lead1 = np.load('{}TEST_pp15_pred_lead{}_{}.npy'.format(filepath_vec, lead1, model_tag), allow_pickle=True)[()]\n",
    "valid_lead2 = np.load('{}TEST_pp15_pred_lead{}_{}.npy'.format(filepath_vec, lead2, model_tag), allow_pickle=True)[()]\n",
    "valid_lead3 = np.load('{}TEST_pp15_pred_lead{}_{}.npy'.format(filepath_vec, lead3, model_tag), allow_pickle=True)[()]\n",
    "valid_lead4 = np.load('{}TEST_pp15_pred_lead{}_{}.npy'.format(filepath_vec, lead4, model_tag), allow_pickle=True)[()]\n",
    "\n",
    "VALID_lead1 = valid_lead1['y_vector']\n",
    "VALID_lead2 = valid_lead2['y_vector']\n",
    "VALID_lead3 = valid_lead3['y_vector']\n",
    "VALID_lead4 = valid_lead4['y_vector']\n",
    "\n",
    "VALID_lead1_y = valid_lead1['y_true']\n",
    "VALID_lead2_y = valid_lead2['y_true']\n",
    "VALID_lead3_y = valid_lead3['y_true']\n",
    "VALID_lead4_y = valid_lead4['y_true']"
   ]
  },
  {
   "cell_type": "code",
   "execution_count": 27,
   "id": "8d3e2b1e-9546-42f9-a533-151219c3bad0",
   "metadata": {},
   "outputs": [],
   "source": [
    "IND_VALID_lead = np.load('/glade/work/ksha/NCAR/IND_VALID_lead_full.npy', allow_pickle=True)[()]\n",
    "\n",
    "VALID_ind1 = IND_VALID_lead['lead{}'.format(lead1)]\n",
    "VALID_ind2 = IND_VALID_lead['lead{}'.format(lead2)]\n",
    "VALID_ind3 = IND_VALID_lead['lead{}'.format(lead3)]\n",
    "VALID_ind4 = IND_VALID_lead['lead{}'.format(lead4)]"
   ]
  },
  {
   "cell_type": "code",
   "execution_count": 28,
   "id": "6e2f9de4-ac10-43d2-a561-5df20d4079b9",
   "metadata": {},
   "outputs": [],
   "source": [
    "L = len(VALID_ind3)\n",
    "\n",
    "filename_valid1_pick = []\n",
    "filename_valid2_pick = []\n",
    "filename_valid3_pick = []\n",
    "filename_valid4_pick = []\n",
    "\n",
    "VALID_X = np.empty((L, 512))\n",
    "VALID_Y = np.zeros(L)\n",
    "\n",
    "for i in range(L):\n",
    "    \n",
    "    ind_lead1 = int(VALID_ind1[i])\n",
    "    ind_lead2 = int(VALID_ind2[i])\n",
    "    ind_lead3 = int(VALID_ind3[i])\n",
    "    ind_lead4 = int(VALID_ind4[i])\n",
    "    \n",
    "    filename_valid1_pick.append(filename_valid_lead1[ind_lead1])\n",
    "    filename_valid2_pick.append(filename_valid_lead2[ind_lead2])\n",
    "    filename_valid3_pick.append(filename_valid_lead3[ind_lead3])\n",
    "    filename_valid4_pick.append(filename_valid_lead4[ind_lead4])\n",
    "    \n",
    "    VALID_X[i, 0:128]   = VALID_lead1[ind_lead1, :]\n",
    "    VALID_X[i, 128:256] = VALID_lead2[ind_lead2, :]\n",
    "    VALID_X[i, 256:384] = VALID_lead3[ind_lead3, :]\n",
    "    VALID_X[i, 384:512] = VALID_lead4[ind_lead4, :]\n",
    "    \n",
    "    if 'pos' in filename_valid_lead3[ind_lead3]:\n",
    "        if VALID_lead3_y[ind_lead3] == 1.0:\n",
    "            VALID_Y[i] = 1.0\n",
    "        else:\n",
    "            egwrshat\n",
    "        "
   ]
  },
  {
   "cell_type": "code",
   "execution_count": 29,
   "id": "82caa322-8cdc-4640-8661-b67550285804",
   "metadata": {},
   "outputs": [],
   "source": [
    "lon_norm, lat_norm, elev_norm, mon_norm = feature_extract(\n",
    "    filename_valid3_pick, lon_80km, lon_minmax, lat_80km, lat_minmax, elev_80km, elev_max)"
   ]
  },
  {
   "cell_type": "code",
   "execution_count": 30,
   "id": "b9adbf49-be0d-423c-9a84-19ad2b3416c4",
   "metadata": {},
   "outputs": [],
   "source": [
    "VALID_stn = np.concatenate((lon_norm[:, None], lat_norm[:, None], elev_norm[:, None]), axis=1)\n",
    "VALID_merge = VALID_stn"
   ]
  },
  {
   "cell_type": "code",
   "execution_count": 31,
   "id": "6b67c26e-fd5f-41c4-8dd5-a2d1b1691f0b",
   "metadata": {},
   "outputs": [],
   "source": [
    "seeds = [12342, 2536234, 98765, 473, 865, 7456, 69472, 3456357, 3425, 678,\n",
    "         2452624, 5787, 235362, 67896, 98454, 12445, 46767, 78906, 345, 8695, \n",
    "         2463725, 4734, 23234, 884, 2341, 362, 5, 234, 483, 785356, 23425, 3621, \n",
    "         58461, 80968765, 123, 425633, 5646, 67635, 76785, 34214]\n",
    "\n",
    "training_rounds = len(seeds)"
   ]
  },
  {
   "cell_type": "code",
   "execution_count": 32,
   "id": "1ba8ffac-6fd0-4a42-8064-779ce5c7b6a8",
   "metadata": {},
   "outputs": [
    {
     "name": "stdout",
     "output_type": "stream",
     "text": [
      "Initial record: 1.1\n"
     ]
    },
    {
     "name": "stderr",
     "output_type": "stream",
     "text": [
      "2023-01-23 12:51:32.381121: I tensorflow/compiler/jit/xla_cpu_device.cc:41] Not creating XLA devices, tf_xla_enable_xla_devices not set\n",
      "2023-01-23 12:51:32.382572: I tensorflow/stream_executor/platform/default/dso_loader.cc:49] Successfully opened dynamic library libcuda.so.1\n",
      "2023-01-23 12:51:32.426652: I tensorflow/core/common_runtime/gpu/gpu_device.cc:1720] Found device 0 with properties: \n",
      "pciBusID: 0000:61:00.0 name: Tesla V100-SXM2-32GB computeCapability: 7.0\n",
      "coreClock: 1.53GHz coreCount: 80 deviceMemorySize: 31.75GiB deviceMemoryBandwidth: 836.37GiB/s\n",
      "2023-01-23 12:51:32.426700: I tensorflow/stream_executor/platform/default/dso_loader.cc:49] Successfully opened dynamic library libcudart.so.10.1\n",
      "2023-01-23 12:51:32.430299: I tensorflow/stream_executor/platform/default/dso_loader.cc:49] Successfully opened dynamic library libcublas.so.10\n",
      "2023-01-23 12:51:32.430360: I tensorflow/stream_executor/platform/default/dso_loader.cc:49] Successfully opened dynamic library libcublasLt.so.10\n",
      "2023-01-23 12:51:32.433583: I tensorflow/stream_executor/platform/default/dso_loader.cc:49] Successfully opened dynamic library libcufft.so.10\n",
      "2023-01-23 12:51:32.434519: I tensorflow/stream_executor/platform/default/dso_loader.cc:49] Successfully opened dynamic library libcurand.so.10\n",
      "2023-01-23 12:51:32.438067: I tensorflow/stream_executor/platform/default/dso_loader.cc:49] Successfully opened dynamic library libcusolver.so.10\n",
      "2023-01-23 12:51:32.439416: I tensorflow/stream_executor/platform/default/dso_loader.cc:49] Successfully opened dynamic library libcusparse.so.10\n",
      "2023-01-23 12:51:32.446344: I tensorflow/stream_executor/platform/default/dso_loader.cc:49] Successfully opened dynamic library libcudnn.so.7\n",
      "2023-01-23 12:51:32.446981: I tensorflow/core/common_runtime/gpu/gpu_device.cc:1862] Adding visible gpu devices: 0\n",
      "2023-01-23 12:51:32.447462: I tensorflow/core/platform/cpu_feature_guard.cc:142] This TensorFlow binary is optimized with oneAPI Deep Neural Network Library (oneDNN) to use the following CPU instructions in performance-critical operations:  SSE4.1 SSE4.2 AVX AVX2 AVX512F FMA\n",
      "To enable them in other operations, rebuild TensorFlow with the appropriate compiler flags.\n",
      "2023-01-23 12:51:32.447731: I tensorflow/compiler/jit/xla_gpu_device.cc:99] Not creating XLA devices, tf_xla_enable_xla_devices not set\n",
      "2023-01-23 12:51:32.448122: I tensorflow/core/common_runtime/gpu/gpu_device.cc:1720] Found device 0 with properties: \n",
      "pciBusID: 0000:61:00.0 name: Tesla V100-SXM2-32GB computeCapability: 7.0\n",
      "coreClock: 1.53GHz coreCount: 80 deviceMemorySize: 31.75GiB deviceMemoryBandwidth: 836.37GiB/s\n",
      "2023-01-23 12:51:32.448144: I tensorflow/stream_executor/platform/default/dso_loader.cc:49] Successfully opened dynamic library libcudart.so.10.1\n",
      "2023-01-23 12:51:32.448161: I tensorflow/stream_executor/platform/default/dso_loader.cc:49] Successfully opened dynamic library libcublas.so.10\n",
      "2023-01-23 12:51:32.448171: I tensorflow/stream_executor/platform/default/dso_loader.cc:49] Successfully opened dynamic library libcublasLt.so.10\n",
      "2023-01-23 12:51:32.448180: I tensorflow/stream_executor/platform/default/dso_loader.cc:49] Successfully opened dynamic library libcufft.so.10\n",
      "2023-01-23 12:51:32.448189: I tensorflow/stream_executor/platform/default/dso_loader.cc:49] Successfully opened dynamic library libcurand.so.10\n",
      "2023-01-23 12:51:32.448199: I tensorflow/stream_executor/platform/default/dso_loader.cc:49] Successfully opened dynamic library libcusolver.so.10\n",
      "2023-01-23 12:51:32.448208: I tensorflow/stream_executor/platform/default/dso_loader.cc:49] Successfully opened dynamic library libcusparse.so.10\n",
      "2023-01-23 12:51:32.448218: I tensorflow/stream_executor/platform/default/dso_loader.cc:49] Successfully opened dynamic library libcudnn.so.7\n",
      "2023-01-23 12:51:32.448726: I tensorflow/core/common_runtime/gpu/gpu_device.cc:1862] Adding visible gpu devices: 0\n",
      "2023-01-23 12:51:32.448769: I tensorflow/stream_executor/platform/default/dso_loader.cc:49] Successfully opened dynamic library libcudart.so.10.1\n",
      "2023-01-23 12:51:33.079797: I tensorflow/core/common_runtime/gpu/gpu_device.cc:1261] Device interconnect StreamExecutor with strength 1 edge matrix:\n",
      "2023-01-23 12:51:33.079840: I tensorflow/core/common_runtime/gpu/gpu_device.cc:1267]      0 \n",
      "2023-01-23 12:51:33.079854: I tensorflow/core/common_runtime/gpu/gpu_device.cc:1280] 0:   N \n",
      "2023-01-23 12:51:33.080910: I tensorflow/core/common_runtime/gpu/gpu_device.cc:1406] Created TensorFlow device (/job:localhost/replica:0/task:0/device:GPU:0 with 30132 MB memory) -> physical GPU (device: 0, name: Tesla V100-SXM2-32GB, pci bus id: 0000:61:00.0, compute capability: 7.0)\n"
     ]
    },
    {
     "name": "stdout",
     "output_type": "stream",
     "text": [
      "Training round 0\n"
     ]
    },
    {
     "name": "stderr",
     "output_type": "stream",
     "text": [
      "2023-01-23 12:51:34.427560: I tensorflow/compiler/mlir/mlir_graph_optimization_pass.cc:116] None of the MLIR optimization passes are enabled (registered 2)\n",
      "2023-01-23 12:51:34.432170: I tensorflow/core/platform/profile_utils/cpu_utils.cc:112] CPU Frequency: 2600000000 Hz\n",
      "2023-01-23 12:51:34.557798: I tensorflow/stream_executor/platform/default/dso_loader.cc:49] Successfully opened dynamic library libcublas.so.10\n"
     ]
    },
    {
     "name": "stdout",
     "output_type": "stream",
     "text": [
      "Validation loss improved from 1.1 to 0.9987818994906662\n",
      "save to: /glade/work/ksha/NCAR/Keras_models/FULL_Lead4\n"
     ]
    },
    {
     "name": "stderr",
     "output_type": "stream",
     "text": [
      "2023-01-23 12:51:47.294875: W tensorflow/python/util/util.cc:348] Sets are not currently considered sequences, but this may change in the future, so consider avoiding using them.\n"
     ]
    },
    {
     "name": "stdout",
     "output_type": "stream",
     "text": [
      "INFO:tensorflow:Assets written to: /glade/work/ksha/NCAR/Keras_models/FULL_Lead4/assets\n",
      "--- 15.259850263595581 seconds ---\n",
      "Validation loss 0.9996656377193046 NOT improved\n",
      "Validation loss 0.9997496874444752 NOT improved\n",
      "Validation loss 0.9997513789760539 NOT improved\n",
      "Validation loss 0.9997495163200771 NOT improved\n",
      "Validation loss 0.9997154445649221 NOT improved\n",
      "Validation loss 0.9996114123019266 NOT improved\n",
      "Validation loss 0.9995980718876463 NOT improved\n",
      "Validation loss 0.9993071194042602 NOT improved\n",
      "Validation loss 0.9993064075931078 NOT improved\n",
      "Validation loss improved from 0.9987818994906662 to 0.9983984082501626\n",
      "save to: /glade/work/ksha/NCAR/Keras_models/FULL_Lead4\n",
      "INFO:tensorflow:Assets written to: /glade/work/ksha/NCAR/Keras_models/FULL_Lead4/assets\n",
      "--- 9.446533918380737 seconds ---\n",
      "Validation loss improved from 0.9983984082501626 to 0.9983531059770668\n",
      "save to: /glade/work/ksha/NCAR/Keras_models/FULL_Lead4\n",
      "INFO:tensorflow:Assets written to: /glade/work/ksha/NCAR/Keras_models/FULL_Lead4/assets\n",
      "--- 7.762162208557129 seconds ---\n",
      "Validation loss improved from 0.9983531059770668 to 0.9975754713682967\n",
      "save to: /glade/work/ksha/NCAR/Keras_models/FULL_Lead4\n",
      "INFO:tensorflow:Assets written to: /glade/work/ksha/NCAR/Keras_models/FULL_Lead4/assets\n",
      "--- 7.716305732727051 seconds ---\n",
      "Validation loss 0.9977336648702655 NOT improved\n",
      "Validation loss improved from 0.9975754713682967 to 0.997382545842708\n",
      "save to: /glade/work/ksha/NCAR/Keras_models/FULL_Lead4\n",
      "INFO:tensorflow:Assets written to: /glade/work/ksha/NCAR/Keras_models/FULL_Lead4/assets\n",
      "--- 6.75507664680481 seconds ---\n",
      "Validation loss improved from 0.997382545842708 to 0.9971658923547456\n",
      "save to: /glade/work/ksha/NCAR/Keras_models/FULL_Lead4\n",
      "INFO:tensorflow:Assets written to: /glade/work/ksha/NCAR/Keras_models/FULL_Lead4/assets\n",
      "--- 7.310323476791382 seconds ---\n",
      "Validation loss improved from 0.9971658923547456 to 0.9952102437527427\n",
      "save to: /glade/work/ksha/NCAR/Keras_models/FULL_Lead4\n",
      "INFO:tensorflow:Assets written to: /glade/work/ksha/NCAR/Keras_models/FULL_Lead4/assets\n",
      "--- 6.760586261749268 seconds ---\n",
      "Validation loss improved from 0.9952102437527427 to 0.9940334617923839\n",
      "save to: /glade/work/ksha/NCAR/Keras_models/FULL_Lead4\n",
      "INFO:tensorflow:Assets written to: /glade/work/ksha/NCAR/Keras_models/FULL_Lead4/assets\n",
      "--- 7.313597917556763 seconds ---\n",
      "Validation loss improved from 0.9940334617923839 to 0.9850878198497246\n",
      "save to: /glade/work/ksha/NCAR/Keras_models/FULL_Lead4\n",
      "INFO:tensorflow:Assets written to: /glade/work/ksha/NCAR/Keras_models/FULL_Lead4/assets\n",
      "--- 7.2167980670928955 seconds ---\n",
      "Validation loss improved from 0.9850878198497246 to 0.9835295162231413\n",
      "save to: /glade/work/ksha/NCAR/Keras_models/FULL_Lead4\n",
      "INFO:tensorflow:Assets written to: /glade/work/ksha/NCAR/Keras_models/FULL_Lead4/assets\n",
      "--- 6.76644229888916 seconds ---\n",
      "Validation loss improved from 0.9835295162231413 to 0.9744264054823566\n",
      "save to: /glade/work/ksha/NCAR/Keras_models/FULL_Lead4\n",
      "INFO:tensorflow:Assets written to: /glade/work/ksha/NCAR/Keras_models/FULL_Lead4/assets\n",
      "--- 7.909686088562012 seconds ---\n",
      "Validation loss 0.9790422342737117 NOT improved\n",
      "Validation loss 0.9839465177256506 NOT improved\n",
      "Validation loss improved from 0.9744264054823566 to 0.950093989026622\n",
      "save to: /glade/work/ksha/NCAR/Keras_models/FULL_Lead4\n",
      "INFO:tensorflow:Assets written to: /glade/work/ksha/NCAR/Keras_models/FULL_Lead4/assets\n",
      "--- 6.730827569961548 seconds ---\n",
      "Validation loss improved from 0.950093989026622 to 0.9290485846759076\n",
      "save to: /glade/work/ksha/NCAR/Keras_models/FULL_Lead4\n",
      "INFO:tensorflow:Assets written to: /glade/work/ksha/NCAR/Keras_models/FULL_Lead4/assets\n",
      "--- 7.258028507232666 seconds ---\n",
      "Validation loss 0.969472694872001 NOT improved\n",
      "Validation loss 0.9357419228098612 NOT improved\n",
      "Validation loss 0.9493740372190619 NOT improved\n",
      "Validation loss 0.9542223091112851 NOT improved\n",
      "Validation loss improved from 0.9290485846759076 to 0.9167665567940622\n",
      "save to: /glade/work/ksha/NCAR/Keras_models/FULL_Lead4\n",
      "INFO:tensorflow:Assets written to: /glade/work/ksha/NCAR/Keras_models/FULL_Lead4/assets\n",
      "--- 7.3004310131073 seconds ---\n",
      "Validation loss 0.9271884084428488 NOT improved\n",
      "Validation loss 0.9271377972479182 NOT improved\n",
      "Validation loss improved from 0.9167665567940622 to 0.8892017502205023\n",
      "save to: /glade/work/ksha/NCAR/Keras_models/FULL_Lead4\n",
      "INFO:tensorflow:Assets written to: /glade/work/ksha/NCAR/Keras_models/FULL_Lead4/assets\n",
      "--- 6.69961953163147 seconds ---\n",
      "Validation loss 0.9090974924245643 NOT improved\n",
      "Validation loss 0.9494973759570694 NOT improved\n",
      "Validation loss 0.9153692681631332 NOT improved\n",
      "Validation loss 0.9412238521181485 NOT improved\n",
      "Validation loss 0.9787829077706822 NOT improved\n",
      "Validation loss 0.9893404058738033 NOT improved\n",
      "Validation loss 0.9410301455050742 NOT improved\n",
      "Validation loss 0.9433537968940714 NOT improved\n",
      "Validation loss 0.8976268238893698 NOT improved\n",
      "Validation loss 1.149899955362806 NOT improved\n",
      "Early stopping\n",
      "Training round 1\n",
      "Validation loss 0.9997365909517154 NOT improved\n",
      "Validation loss 0.9997163338537443 NOT improved\n",
      "Validation loss 0.9996993030943849 NOT improved\n",
      "Validation loss 0.9997183126129937 NOT improved\n",
      "Validation loss 0.9997141781711444 NOT improved\n",
      "Validation loss 0.9996605877719477 NOT improved\n",
      "Validation loss 0.9995543535393658 NOT improved\n",
      "Validation loss 0.9994642257707643 NOT improved\n",
      "Validation loss 0.9994165180511037 NOT improved\n",
      "Validation loss 0.9991506817431488 NOT improved\n",
      "Validation loss 0.9991771727417355 NOT improved\n",
      "Validation loss 0.998562258400277 NOT improved\n",
      "Validation loss 0.9982232715412305 NOT improved\n",
      "Validation loss 0.9958499829028821 NOT improved\n",
      "Validation loss 0.9961190938397628 NOT improved\n",
      "Validation loss 0.9961957824374063 NOT improved\n",
      "Validation loss 0.99516280380255 NOT improved\n",
      "Validation loss 0.9919398292747607 NOT improved\n",
      "Validation loss 0.9834213799185282 NOT improved\n",
      "Validation loss 0.9835922913985684 NOT improved\n",
      "Validation loss 0.9862933910798699 NOT improved\n",
      "Validation loss 0.9814882031298744 NOT improved\n",
      "Validation loss 0.9887130393878327 NOT improved\n",
      "Validation loss 0.983737359087833 NOT improved\n",
      "Validation loss 0.9613932124910818 NOT improved\n",
      "Validation loss 0.9648010074329421 NOT improved\n",
      "Validation loss 0.9769217214484572 NOT improved\n",
      "Validation loss 0.9397783821931575 NOT improved\n",
      "Validation loss 0.9574550970712417 NOT improved\n",
      "Validation loss 0.9101382221315614 NOT improved\n",
      "Validation loss 0.9465711981498854 NOT improved\n",
      "Validation loss 0.9437410035869254 NOT improved\n",
      "Validation loss 0.9393986398224005 NOT improved\n",
      "Validation loss 0.9396715991555787 NOT improved\n",
      "Validation loss 0.9576147100570522 NOT improved\n",
      "Validation loss 0.9357673175451409 NOT improved\n",
      "Validation loss 0.9339297495374416 NOT improved\n",
      "Validation loss 0.958332384031435 NOT improved\n",
      "Validation loss 0.9090086302201618 NOT improved\n",
      "Validation loss 0.9415324716924448 NOT improved\n",
      "Validation loss 0.9364725515084208 NOT improved\n",
      "Validation loss 0.9674417776814875 NOT improved\n"
     ]
    },
    {
     "name": "stderr",
     "output_type": "stream",
     "text": [
      "\n",
      "KeyboardInterrupt\n",
      "\n"
     ]
    }
   ],
   "source": [
    "ref = np.sum(VALID_Y) / len(VALID_Y)\n",
    "\n",
    "# =========== Model Section ========== #\n",
    "\n",
    "batch_dir = '/glade/scratch/ksha/DATA/NCAR_batch/'\n",
    "temp_dir = '/glade/work/ksha/NCAR/Keras_models/'\n",
    "\n",
    "key = 'FULL_Lead{}'.format(lead_name)\n",
    "\n",
    "model_name = '{}'.format(key)\n",
    "model_path = temp_dir+model_name\n",
    "\n",
    "tol = 0\n",
    "\n",
    "# ========== Training loop ========== #\n",
    "L_pos = len(TRAIN_256_pos)\n",
    "L_neg = len(TRAIN_256_neg)\n",
    "\n",
    "record = 1.1\n",
    "print(\"Initial record: {}\".format(record))\n",
    "\n",
    "min_del = 0\n",
    "max_tol = 100 # early stopping with patience\n",
    "\n",
    "epochs = 500\n",
    "batch_size = 64\n",
    "L_train = 16\n",
    "\n",
    "for r in range(training_rounds):\n",
    "    if r == 0:\n",
    "        tol = 0\n",
    "    else:\n",
    "        tol = -200\n",
    "\n",
    "    model = create_model()\n",
    "    #\n",
    "    model.compile(loss=keras.losses.BinaryCrossentropy(from_logits=False),\n",
    "                  optimizer=keras.optimizers.Adam(lr=1e-4))\n",
    "    \n",
    "    set_seeds(int(seeds[r]))\n",
    "    print('Training round {}'.format(r))\n",
    "\n",
    "    for i in range(epochs):            \n",
    "        start_time = time.time()\n",
    "\n",
    "        # loop of batch\n",
    "        for j in range(L_train):\n",
    "            N_pos = 32\n",
    "            N_neg = batch_size - N_pos\n",
    "\n",
    "            ind_neg = du.shuffle_ind(L_neg)\n",
    "            ind_pos = du.shuffle_ind(L_pos)\n",
    "\n",
    "            ind_neg_pick = ind_neg[:N_neg]\n",
    "            ind_pos_pick = ind_pos[:N_pos]\n",
    "\n",
    "            X_batch_neg = TRAIN_256_neg[ind_neg_pick, :]\n",
    "            X_batch_pos = TRAIN_256_pos[ind_pos_pick, :]\n",
    "            \n",
    "            X_batch_stn_neg = TRAIN_stn_neg[ind_neg_pick, :]\n",
    "            X_batch_stn_pos = TRAIN_stn_pos[ind_pos_pick, :]\n",
    "\n",
    "            X_batch = np.concatenate((X_batch_neg, X_batch_pos), axis=0)\n",
    "            X_batch_stn = np.concatenate((X_batch_stn_neg, X_batch_stn_pos), axis=0)\n",
    "\n",
    "            Y_batch = np.ones([batch_size,])\n",
    "            Y_batch[:N_neg] = 0.0\n",
    "\n",
    "            ind_ = du.shuffle_ind(batch_size)\n",
    "\n",
    "            X_batch = X_batch[ind_, :]\n",
    "            X_batch_stn = X_batch_stn[ind_, :]\n",
    "            Y_batch = Y_batch[ind_]\n",
    "\n",
    "            # train on batch\n",
    "            model.train_on_batch([X_batch, X_batch_stn], Y_batch);\n",
    "\n",
    "        # epoch end operations\n",
    "        Y_pred = model.predict([VALID_X, VALID_merge])\n",
    "\n",
    "        Y_pred[Y_pred<0] = 0\n",
    "        Y_pred[Y_pred>1] = 1\n",
    "\n",
    "        record_temp = verif_metric(VALID_Y, Y_pred, ref)\n",
    "\n",
    "        # if i % 10 == 0:\n",
    "        #     model.save(model_path_backup)\n",
    "\n",
    "        if (record - record_temp > min_del):\n",
    "            print('Validation loss improved from {} to {}'.format(record, record_temp))\n",
    "            record = record_temp\n",
    "            tol = 0\n",
    "            \n",
    "            #print('tol: {}'.format(tol))\n",
    "            # save\n",
    "            print('save to: {}'.format(model_path))\n",
    "            model.save(model_path)\n",
    "        else:\n",
    "            print('Validation loss {} NOT improved'.format(record_temp))\n",
    "            if record_temp > 1.0:\n",
    "                print('Early stopping')\n",
    "                break;\n",
    "            else:\n",
    "                tol += 1\n",
    "                if tol >= max_tol:\n",
    "                    print('Early stopping')\n",
    "                    break;\n",
    "                else:\n",
    "                    continue;\n",
    "        print(\"--- %s seconds ---\" % (time.time() - start_time))"
   ]
  },
  {
   "cell_type": "code",
   "execution_count": 34,
   "id": "8174347c-b7b5-4026-a3d8-42c7c6b9a188",
   "metadata": {},
   "outputs": [
    {
     "data": {
      "text/plain": [
       "5646523431"
      ]
     },
     "execution_count": 34,
     "metadata": {},
     "output_type": "execute_result"
    }
   ],
   "source": [
    "seeds[r]"
   ]
  },
  {
   "cell_type": "code",
   "execution_count": null,
   "id": "9fe7ad2d-0424-4eae-aa69-3a6cc7fef2b5",
   "metadata": {},
   "outputs": [],
   "source": []
  },
  {
   "cell_type": "code",
   "execution_count": null,
   "id": "d4dd4b1a-4e1d-4858-aa8e-3d1abba29527",
   "metadata": {},
   "outputs": [],
   "source": []
  },
  {
   "cell_type": "code",
   "execution_count": null,
   "id": "921c634a-b39f-4499-8251-932752f6a8a1",
   "metadata": {},
   "outputs": [],
   "source": []
  },
  {
   "cell_type": "code",
   "execution_count": null,
   "id": "4b61872a-0c91-4b31-a221-bb554627fb54",
   "metadata": {},
   "outputs": [],
   "source": []
  },
  {
   "cell_type": "code",
   "execution_count": 33,
   "id": "0c66da61-cef5-4c31-8508-3157f5473e6f",
   "metadata": {},
   "outputs": [],
   "source": [
    "model = create_model()\n",
    "\n",
    "model.compile(loss=keras.losses.BinaryCrossentropy(from_logits=False),\n",
    "              optimizer=keras.optimizers.Adam(lr=0))\n",
    "\n",
    "W_old = k_utils.dummy_loader('/glade/work/ksha/NCAR/Keras_models/full_lead{}/'.format(lead_name))\n",
    "model.set_weights(W_old)"
   ]
  },
  {
   "cell_type": "code",
   "execution_count": 34,
   "id": "7b0d0d43-8929-49ca-b850-af7a403484e1",
   "metadata": {},
   "outputs": [],
   "source": [
    "ref = np.sum(VALID_Y) / len(VALID_Y)\n",
    "Y_pred = model.predict([VALID_X, VALID_merge])\n",
    "record_temp = verif_metric(VALID_Y, Y_pred, ref)"
   ]
  },
  {
   "cell_type": "code",
   "execution_count": 35,
   "id": "3305590d-522c-4fa4-9309-313980eb1840",
   "metadata": {},
   "outputs": [],
   "source": [
    "# save_dict = {}\n",
    "# save_dict['Y_pred'] = Y_pred\n",
    "# save_dict['VALID_Y'] = VALID_Y\n",
    "# np.save('{}RESULT_BASE_lead{}_base.npy'.format(filepath_vec, lead), save_dict)\n",
    "# print('{}RESULT_BASE_lead{}_base.npy'.format(filepath_vec, lead))"
   ]
  },
  {
   "cell_type": "code",
   "execution_count": 36,
   "id": "05985aef-d764-4372-9100-20fa21135d11",
   "metadata": {},
   "outputs": [
    {
     "data": {
      "text/plain": [
       "0.8896413030101082"
      ]
     },
     "execution_count": 36,
     "metadata": {},
     "output_type": "execute_result"
    }
   ],
   "source": [
    "record_temp"
   ]
  },
  {
   "cell_type": "code",
   "execution_count": 37,
   "id": "376ba8aa-f93b-4e29-a4d7-b07f25cc6abb",
   "metadata": {},
   "outputs": [
    {
     "data": {
      "text/plain": [
       "[<matplotlib.lines.Line2D at 0x2b21af446c70>]"
      ]
     },
     "execution_count": 37,
     "metadata": {},
     "output_type": "execute_result"
    },
    {
     "data": {
      "image/png": "[encoded data removed]",
      "text/plain": [
       "<Figure size 640x480 with 1 Axes>"
      ]
     },
     "metadata": {},
     "output_type": "display_data"
    }
   ],
   "source": [
    "plt.plot(Y_pred)"
   ]
  },
  {
   "cell_type": "code",
   "execution_count": null,
   "id": "066efafd-a444-44c7-91b7-59b3bc5f2058",
   "metadata": {},
   "outputs": [],
   "source": []
  },
  {
   "cell_type": "code",
   "execution_count": 53,
   "id": "3dcfaccb-752b-4c69-91da-a5070af77a0b",
   "metadata": {},
   "outputs": [
    {
     "data": {
      "text/plain": [
       "[<matplotlib.lines.Line2D at 0x2b2a676572b0>]"
      ]
     },
     "execution_count": 53,
     "metadata": {},
     "output_type": "execute_result"
    },
    {
     "data": {
      "image/png": "[encoded data removed]",
      "text/plain": [
       "<Figure size 640x480 with 1 Axes>"
      ]
     },
     "metadata": {},
     "output_type": "display_data"
    }
   ],
   "source": [
    "plt.plot(Y_pred)"
   ]
  },
  {
   "cell_type": "code",
   "execution_count": 51,
   "id": "dcd674f8-ace7-4662-a0fb-a46e2d616659",
   "metadata": {},
   "outputs": [
    {
     "data": {
      "text/plain": [
       "[<matplotlib.lines.Line2D at 0x2acec9902970>]"
      ]
     },
     "execution_count": 51,
     "metadata": {},
     "output_type": "execute_result"
    },
    {
     "data": {
      "image/png": "[encoded data removed]",
      "text/plain": [
       "<Figure size 640x480 with 1 Axes>"
      ]
     },
     "metadata": {},
     "output_type": "display_data"
    }
   ],
   "source": [
    "plt.plot(Y_pred)"
   ]
  },
  {
   "cell_type": "code",
   "execution_count": null,
   "id": "060452ac-b15c-4c3f-aa00-1638cc0597d8",
   "metadata": {},
   "outputs": [],
   "source": []
  }
 ],
 "metadata": {
  "kernelspec": {
   "display_name": "Python 3 (ipykernel)",
   "language": "python",
   "name": "python3"
  },
  "language_info": {
   "codemirror_mode": {
    "name": "ipython",
    "version": 3
   },
   "file_extension": ".py",
   "mimetype": "text/x-python",
   "name": "python",
   "nbconvert_exporter": "python",
   "pygments_lexer": "ipython3",
   "version": "3.9.15"
  }
 },
 "nbformat": 4,
 "nbformat_minor": 5
}
