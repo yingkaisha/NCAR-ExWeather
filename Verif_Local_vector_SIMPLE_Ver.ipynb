{
 "cells": [
  {
   "cell_type": "code",
   "execution_count": 1,
   "id": "27a0a927-ec50-44a0-b82c-26848002e35e",
   "metadata": {},
   "outputs": [],
   "source": [
    "# general tools\n",
    "import os\n",
    "import sys\n",
    "import time\n",
    "import h5py\n",
    "import random\n",
    "from glob import glob\n",
    "\n",
    "import numpy as np\n",
    "from random import shuffle"
   ]
  },
  {
   "cell_type": "code",
   "execution_count": 22,
   "id": "5b702b07-49d3-447b-bf3a-8dd51da72848",
   "metadata": {},
   "outputs": [
    {
     "name": "stderr",
     "output_type": "stream",
     "text": [
      "2022-10-31 11:17:18.796765: I tensorflow/stream_executor/platform/default/dso_loader.cc:49] Successfully opened dynamic library libcudart.so.10.1\n"
     ]
    }
   ],
   "source": [
    "import tensorflow as tf\n",
    "from tensorflow import keras\n",
    "from tensorflow.keras import backend\n",
    "from keras_unet_collection import utils as k_utils"
   ]
  },
  {
   "cell_type": "code",
   "execution_count": 2,
   "id": "ed60309c-e19e-4869-ae18-694ad645527f",
   "metadata": {},
   "outputs": [],
   "source": [
    "sys.path.insert(0, '/glade/u/home/ksha/NCAR/')\n",
    "sys.path.insert(0, '/glade/u/home/ksha/NCAR/libs/')\n",
    "\n",
    "from namelist import *\n",
    "import data_utils as du\n",
    "import graph_utils as gu\n",
    "\n",
    "import matplotlib.pyplot as plt\n",
    "%matplotlib inline"
   ]
  },
  {
   "cell_type": "code",
   "execution_count": 3,
   "id": "e3a620be-f0df-4227-b70c-1ece27788f60",
   "metadata": {},
   "outputs": [],
   "source": [
    "from sklearn.metrics import classification_report, auc, roc_curve\n",
    "from sklearn.metrics import confusion_matrix"
   ]
  },
  {
   "cell_type": "code",
   "execution_count": 4,
   "id": "5823f8f1-c29a-4e3f-9dac-5f28fa91d762",
   "metadata": {},
   "outputs": [],
   "source": [
    "from sklearn.calibration import calibration_curve\n",
    "from sklearn.metrics import brier_score_loss\n",
    "from sklearn.isotonic import IsotonicRegression\n",
    "from sklearn.linear_model import LogisticRegression"
   ]
  },
  {
   "cell_type": "code",
   "execution_count": null,
   "id": "7b493ebc-5503-40fa-aa74-12d403b2dd24",
   "metadata": {},
   "outputs": [],
   "source": []
  },
  {
   "cell_type": "code",
   "execution_count": 5,
   "id": "05644139-bb3c-4a0e-9337-aa55fee20d81",
   "metadata": {},
   "outputs": [],
   "source": [
    "def pos_mixer(TRAIN, L, a0=0, a1=0.2):\n",
    "    data_shape = TRAIN.shape\n",
    "    out = np.empty((L, data_shape[-1]))\n",
    "    \n",
    "    for i in range(L):\n",
    "        inds = np.random.choice(data_shape[0], 2)\n",
    "        a = np.random.uniform(a0, a1)\n",
    "        out[i, :] = a*TRAIN[inds[0], :] + (1-a)*TRAIN[inds[1], :]\n",
    "    return out"
   ]
  },
  {
   "cell_type": "code",
   "execution_count": 6,
   "id": "0c1d95a3-387c-4da5-8060-41f7acb08032",
   "metadata": {},
   "outputs": [],
   "source": [
    "def create_model():\n",
    "\n",
    "    IN = keras.Input((768,))\n",
    "\n",
    "    X = IN\n",
    "\n",
    "    X = keras.layers.Dense(1024, activity_regularizer=keras.regularizers.L2(1e-2))(X)\n",
    "    X = keras.layers.BatchNormalization()(X)\n",
    "    X = keras.layers.Activation(\"gelu\")(X)\n",
    "\n",
    "    X = keras.layers.Dropout(0.3)(X)\n",
    "    #X = keras.layers.GaussianDropout(0.1)(X)\n",
    "\n",
    "    X = keras.layers.Dense(512, activity_regularizer=keras.regularizers.L2(1e-2))(X)\n",
    "    X = keras.layers.BatchNormalization()(X)\n",
    "    X = keras.layers.Activation(\"gelu\")(X)\n",
    "\n",
    "    X = keras.layers.Dropout(0.3)(X)\n",
    "    #X = keras.layers.GaussianDropout(0.1)(X)\n",
    "\n",
    "    X = keras.layers.Dense(128, activity_regularizer=keras.regularizers.L2(1e-2))(X)\n",
    "    X = keras.layers.BatchNormalization()(X)\n",
    "    X = keras.layers.Activation(\"gelu\")(X)\n",
    "\n",
    "    X = keras.layers.Dropout(0.3)(X)\n",
    "\n",
    "    X = keras.layers.Dense(64, activity_regularizer=keras.regularizers.L2(1e-2))(X)\n",
    "    X = keras.layers.BatchNormalization()(X)\n",
    "    X = keras.layers.Activation(\"gelu\")(X)\n",
    "\n",
    "    OUT = X\n",
    "    OUT = keras.layers.Dense(1, activation='sigmoid', bias_initializer=keras.initializers.Constant(-10))(OUT)\n",
    "\n",
    "    model = keras.models.Model(inputs=IN, outputs=OUT)\n",
    "    \n",
    "    return model"
   ]
  },
  {
   "cell_type": "code",
   "execution_count": 7,
   "id": "d74ee0b0-2d9c-456c-bcf1-66112a154348",
   "metadata": {},
   "outputs": [],
   "source": [
    "def verif_metric(VALID_target, Y_pred, ref):\n",
    "\n",
    "\n",
    "    # fpr, tpr, thresholds = roc_curve(VALID_target.ravel(), Y_pred.ravel())\n",
    "    # AUC = auc(fpr, tpr)\n",
    "    # AUC_metric = 1 - AUC\n",
    "    \n",
    "    BS = np.mean((VALID_target.ravel() - Y_pred.ravel())**2)\n",
    "    #ll = log_loss(VALID_target.ravel(), Y_pred.ravel())\n",
    "    \n",
    "    #print('{}'.format(BS))\n",
    "    metric = BS\n",
    "\n",
    "    return metric / ref"
   ]
  },
  {
   "cell_type": "code",
   "execution_count": 8,
   "id": "76e8cc9a-654a-48c2-abac-e4945a9ad9a8",
   "metadata": {},
   "outputs": [],
   "source": [
    "batch_dir = '/glade/scratch/ksha/DATA/NCAR_batch/'\n",
    "temp_dir = '/glade/work/ksha/NCAR/Keras_models/'\n",
    "\n",
    "key = 'HEAD_Lead2'"
   ]
  },
  {
   "cell_type": "code",
   "execution_count": 9,
   "id": "224a3ce1-c8ff-41e1-9a08-6c9d19354b92",
   "metadata": {},
   "outputs": [],
   "source": [
    "with h5py.File(save_dir+'HRRR_domain.hdf', 'r') as h5io:\n",
    "    land_mask_80km = h5io['land_mask_80km'][...]\n",
    "    \n",
    "grid_shape = land_mask_80km.shape"
   ]
  },
  {
   "cell_type": "code",
   "execution_count": null,
   "id": "6bf59c76-9079-42b1-b168-41737d9403dc",
   "metadata": {},
   "outputs": [],
   "source": []
  },
  {
   "cell_type": "code",
   "execution_count": null,
   "id": "fb4d79b6-52c2-4339-93fd-bb9e27187deb",
   "metadata": {},
   "outputs": [],
   "source": []
  },
  {
   "cell_type": "markdown",
   "id": "c88b54cc-978c-4c87-a12b-8b8e4530779d",
   "metadata": {},
   "source": [
    "### Data prep"
   ]
  },
  {
   "cell_type": "code",
   "execution_count": 45,
   "id": "d66d47ad-2957-49fa-9409-25a5049fceda",
   "metadata": {},
   "outputs": [],
   "source": [
    "filename_train = sorted(glob(\"/glade/scratch/ksha/DATA/NCAR_batch/TRAIN*neg_neg_neg*lead2.npy\")) + \\\n",
    "                 sorted(glob(\"/glade/scratch/ksha/DATA/NCAR_batch/TRAIN*pos*lead2.npy\")) + \\\n",
    "                 sorted(glob(\"/glade/scratch/ksha/DATA/NCAR_batch/TRAIN*neg_neg_neg*lead3.npy\")) + \\\n",
    "                 sorted(glob(\"/glade/scratch/ksha/DATA/NCAR_batch/TRAIN*pos*lead3.npy\")) + \\\n",
    "                 sorted(glob(\"/glade/scratch/ksha/DATA/NCAR_batch/TRAIN*neg_neg_neg*lead4.npy\")) + \\\n",
    "                 sorted(glob(\"/glade/scratch/ksha/DATA/NCAR_batch/TRAIN*pos*lead4.npy\"))"
   ]
  },
  {
   "cell_type": "code",
   "execution_count": 46,
   "id": "a8a79b85-892d-4605-a22d-c74e1c358d81",
   "metadata": {},
   "outputs": [],
   "source": [
    "data_lead1_p0 = np.load('/glade/work/ksha/NCAR/TRAIN_pred_lead1_part0_vec2.npy', allow_pickle=True)[()]\n",
    "data_lead1_p1 = np.load('/glade/work/ksha/NCAR/TRAIN_pred_lead1_part1_vec2.npy', allow_pickle=True)[()]\n",
    "data_lead1_p2 = np.load('/glade/work/ksha/NCAR/TRAIN_pred_lead1_part2_vec2.npy', allow_pickle=True)[()]\n",
    "\n",
    "data_lead2_p0 = np.load('/glade/work/ksha/NCAR/TRAIN_pred_lead2_part0_vec2.npy', allow_pickle=True)[()]\n",
    "data_lead2_p1 = np.load('/glade/work/ksha/NCAR/TRAIN_pred_lead2_part1_vec2.npy', allow_pickle=True)[()]\n",
    "data_lead2_p2 = np.load('/glade/work/ksha/NCAR/TRAIN_pred_lead2_part2_vec2.npy', allow_pickle=True)[()]\n",
    "\n",
    "data_lead3_p0 = np.load('/glade/work/ksha/NCAR/TRAIN_pred_lead3_part0_vec2.npy', allow_pickle=True)[()]\n",
    "data_lead3_p1 = np.load('/glade/work/ksha/NCAR/TRAIN_pred_lead3_part1_vec2.npy', allow_pickle=True)[()]\n",
    "data_lead3_p2 = np.load('/glade/work/ksha/NCAR/TRAIN_pred_lead3_part2_vec2.npy', allow_pickle=True)[()]\n",
    "\n",
    "data_lead4_p0 = np.load('/glade/work/ksha/NCAR/TRAIN_pred_lead4_part0_vec2.npy', allow_pickle=True)[()]\n",
    "data_lead4_p1 = np.load('/glade/work/ksha/NCAR/TRAIN_pred_lead4_part1_vec2.npy', allow_pickle=True)[()]\n",
    "data_lead4_p2 = np.load('/glade/work/ksha/NCAR/TRAIN_pred_lead4_part2_vec2.npy', allow_pickle=True)[()]\n",
    "\n",
    "TRAIN_256 = np.concatenate((data_lead2_p0['y_vector'], \n",
    "                            data_lead2_p1['y_vector'], \n",
    "                            data_lead2_p2['y_vector'],\n",
    "                            data_lead3_p0['y_vector'], \n",
    "                            data_lead3_p1['y_vector'], \n",
    "                            data_lead3_p2['y_vector'],\n",
    "                            data_lead4_p0['y_vector'], \n",
    "                            data_lead4_p1['y_vector'], \n",
    "                            data_lead4_p2['y_vector'],), axis=0)\n",
    "\n",
    "\n",
    "TRAIN_pred = np.concatenate((data_lead2_p0['y_pred'], \n",
    "                             data_lead2_p1['y_pred'], \n",
    "                             data_lead2_p2['y_pred'],\n",
    "                             data_lead3_p0['y_pred'], \n",
    "                             data_lead3_p1['y_pred'], \n",
    "                             data_lead3_p2['y_pred'],\n",
    "                             data_lead4_p0['y_pred'], \n",
    "                             data_lead4_p1['y_pred'], \n",
    "                             data_lead4_p2['y_pred'],), axis=0)\n",
    "\n",
    "TRAIN_Y = np.concatenate((data_lead2_p0['y_true'], \n",
    "                          data_lead2_p1['y_true'], \n",
    "                          data_lead2_p2['y_true'],\n",
    "                          data_lead3_p0['y_true'], \n",
    "                          data_lead3_p1['y_true'], \n",
    "                          data_lead3_p2['y_true'],\n",
    "                          data_lead4_p0['y_true'], \n",
    "                          data_lead4_p1['y_true'], \n",
    "                          data_lead4_p2['y_true'],), axis=0)\n",
    "\n",
    "TRAIN_256_pick = TRAIN_256 #[flag_pick_train, :]\n",
    "TRAIN_pred_pick = TRAIN_pred #[flag_pick_train, :]\n",
    "TRAIN_Y_pick = TRAIN_Y #[flag_pick_train]\n",
    "\n",
    "TRAIN_256_pos = TRAIN_256[TRAIN_Y==1]\n",
    "TRAIN_256_neg = TRAIN_256[TRAIN_Y==0]\n",
    "\n",
    "filename_valid = sorted(glob(\"/glade/scratch/ksha/DATA/NCAR_batch/VALID*neg_neg_neg*lead2.npy\")) + \\\n",
    "                 sorted(glob(\"/glade/scratch/ksha/DATA/NCAR_batch/VALID*pos*lead2.npy\"))\n",
    "\n",
    "data_p_valid = np.load('/glade/work/ksha/NCAR/TEST_pred_lead2_vec2.npy', allow_pickle=True)[()]\n",
    "\n",
    "filename_test = filename_valid + \\\n",
    "                sorted(glob(\"/glade/scratch/ksha/DATA/NCAR_batch_v4/*neg_neg_neg*lead{}.npy\".format(2))) + \\\n",
    "                sorted(glob(\"/glade/scratch/ksha/DATA/NCAR_batch_v4/*pos*lead{}.npy\".format(2)))\n",
    "\n",
    "data_p_test = np.load('/glade/work/ksha/NCAR/TEST_pred_lead2_v4_vec2.npy', allow_pickle=True)[()]\n",
    "\n",
    "TEST_256 = np.concatenate((data_p_valid['y_vector'], data_p_test['y_vector']), axis=0)\n",
    "TEST_pred = np.concatenate((data_p_valid['y_pred'], data_p_test['y_pred']), axis=0)\n",
    "TEST_Y = np.concatenate((data_p_valid['y_true'], data_p_test['y_true']), axis=0)"
   ]
  },
  {
   "cell_type": "code",
   "execution_count": 82,
   "id": "633862ca-975d-4b24-8112-ae4322ca0b79",
   "metadata": {},
   "outputs": [],
   "source": [
    "ix = 30 #30\n",
    "iy = 55"
   ]
  },
  {
   "cell_type": "code",
   "execution_count": 83,
   "id": "69fee794-8ebc-42f3-9b72-7cc61fcb47e5",
   "metadata": {},
   "outputs": [],
   "source": [
    "name_self = ['indx{}_indy{}'.format(ix, iy),]\n",
    "\n",
    "name_block5 = []\n",
    "\n",
    "for i in range(ix-2, ix+3):\n",
    "    for j in range(iy-2, iy+3):\n",
    "        name_block5.append('indx{}_indy{}'.format(i, j))"
   ]
  },
  {
   "cell_type": "code",
   "execution_count": 93,
   "id": "71b9227a-c6a5-4d9d-9c67-2fe2878c9cef",
   "metadata": {},
   "outputs": [],
   "source": [
    "L_train = len(filename_train)\n",
    "flag_pick_train = [False,]*L_train\n",
    "filename_pick_train = []\n",
    "\n",
    "for i, name in enumerate(filename_train):\n",
    "    for patterns in name_block5:\n",
    "        if patterns in name:\n",
    "            flag_pick_train[i] = True\n",
    "            filename_pick_train.append(name)\n",
    "            break;\n",
    "\n",
    "\n",
    "L_test = len(filename_test)\n",
    "flag_pick_test = [False,]*L_test\n",
    "filename_pick_test = []\n",
    "\n",
    "for i, name in enumerate(filename_test):\n",
    "    for patterns in name_self:\n",
    "        if patterns in name:\n",
    "            flag_pick_test[i] = True\n",
    "            filename_pick_test.append(name)\n",
    "            break;"
   ]
  },
  {
   "cell_type": "code",
   "execution_count": 94,
   "id": "be528841-74b5-4f08-9a2d-049a9c421a6c",
   "metadata": {},
   "outputs": [],
   "source": [
    "TRAIN_256_pick = TRAIN_256[flag_pick_train, :]\n",
    "TRAIN_pred_pick = TRAIN_pred[flag_pick_train, :]\n",
    "TRAIN_Y_pick = TRAIN_Y[flag_pick_train]"
   ]
  },
  {
   "cell_type": "code",
   "execution_count": 95,
   "id": "c1a9a7c8-56cb-40ab-8a74-bb80972e34e1",
   "metadata": {},
   "outputs": [],
   "source": [
    "TRAIN_256_pos = TRAIN_256[TRAIN_Y==1]\n",
    "TRAIN_256_neg = TRAIN_256[TRAIN_Y==0]"
   ]
  },
  {
   "cell_type": "code",
   "execution_count": 96,
   "id": "df2676a9-a4db-4828-8ff2-fd65e40697c5",
   "metadata": {},
   "outputs": [],
   "source": [
    "TEST_256_pick = TEST_256[flag_pick_test, :]\n",
    "TEST_pred_pick = TEST_pred[flag_pick_test, :]\n",
    "TEST_Y_pick = TEST_Y[flag_pick_test]"
   ]
  },
  {
   "cell_type": "code",
   "execution_count": 97,
   "id": "a2ff965c-0edb-4c74-b4c0-65a86e84593b",
   "metadata": {},
   "outputs": [],
   "source": [
    "model = create_model()\n",
    "\n",
    "model.compile(loss=keras.losses.BinaryCrossentropy(from_logits=False),\n",
    "              optimizer=keras.optimizers.SGD(lr=0.0))\n",
    "#"
   ]
  },
  {
   "cell_type": "code",
   "execution_count": 98,
   "id": "870ba093-b002-461c-a865-6b667f44ef8f",
   "metadata": {},
   "outputs": [],
   "source": [
    "model_name = '{}_ix{}_iy{}'.format(key, ix, iy)\n",
    "model_path = temp_dir+model_name\n",
    "\n",
    "W_old = k_utils.dummy_loader(temp_dir+'HEAD_Lead2_ix{}_iy{}'.format(ix, iy))\n",
    "model.set_weights(W_old)"
   ]
  },
  {
   "cell_type": "code",
   "execution_count": null,
   "id": "8538dab9-2403-472e-9a75-5ea2865d64ba",
   "metadata": {},
   "outputs": [],
   "source": []
  },
  {
   "cell_type": "code",
   "execution_count": 99,
   "id": "90cc40e0-da9d-4709-b602-c86fede43192",
   "metadata": {},
   "outputs": [
    {
     "name": "stdout",
     "output_type": "stream",
     "text": [
      "Initial record: 0.8810942110618152\n"
     ]
    }
   ],
   "source": [
    "Y_pred = model.predict([TEST_256_pick])\n",
    "ref = np.sum(TEST_Y_pick) / len(TEST_Y_pick)\n",
    "record = verif_metric(TEST_Y_pick, Y_pred, ref)\n",
    "print(\"Initial record: {}\".format(record))"
   ]
  },
  {
   "cell_type": "code",
   "execution_count": 100,
   "id": "91212a23-ec73-4db0-8c0b-8c01893c9810",
   "metadata": {},
   "outputs": [
    {
     "name": "stdout",
     "output_type": "stream",
     "text": [
      "auc: 0.9701650238429562\n",
      "o_bar: 0.0015639097744360902\n",
      "bs: 0.0013779518488786283\n",
      "bss: 0.11890578893818476\n"
     ]
    }
   ],
   "source": [
    "y_true = TEST_Y_pick\n",
    "y_pred = Y_pred\n",
    "\n",
    "fpr, tpr, thres = roc_curve(y_true, y_pred)\n",
    "o_bar = np.mean(y_true)\n",
    "\n",
    "bs = brier_score_loss(y_true, y_pred)\n",
    "auc_score = auc(fpr, tpr)\n",
    "bss = (o_bar-bs)/(o_bar)\n",
    "\n",
    "print('auc: {}'.format(auc_score))\n",
    "print('o_bar: {}'.format(o_bar))\n",
    "print('bs: {}'.format(bs))\n",
    "print('bss: {}'.format(bss))"
   ]
  },
  {
   "cell_type": "code",
   "execution_count": 92,
   "id": "d8ba0f22-73ba-49e5-8c04-7eddc765dfd2",
   "metadata": {},
   "outputs": [
    {
     "name": "stdout",
     "output_type": "stream",
     "text": [
      "Initial record: 0.9035836278159305\n"
     ]
    }
   ],
   "source": [
    "Y_pred_train = model.predict([TRAIN_256_pick])\n",
    "ref = np.sum(TRAIN_Y_pick) / len(TRAIN_Y_pick)\n",
    "record = verif_metric(TRAIN_Y_pick, Y_pred_train, ref)\n",
    "print(\"Initial record: {}\".format(record))"
   ]
  },
  {
   "cell_type": "code",
   "execution_count": null,
   "id": "efb88aa1-8d6c-40ac-8c8e-d2f343a44459",
   "metadata": {},
   "outputs": [],
   "source": []
  },
  {
   "cell_type": "code",
   "execution_count": null,
   "id": "b31eaf02-5bf5-431b-af84-64f0963bb8c2",
   "metadata": {},
   "outputs": [],
   "source": []
  },
  {
   "cell_type": "code",
   "execution_count": null,
   "id": "b8c50b87-4ed3-48fc-9e37-f6f41166cb9b",
   "metadata": {},
   "outputs": [],
   "source": []
  },
  {
   "cell_type": "code",
   "execution_count": null,
   "id": "c9829dac-dcc0-46b2-ae9a-924090fc2c54",
   "metadata": {},
   "outputs": [],
   "source": []
  },
  {
   "cell_type": "code",
   "execution_count": null,
   "id": "f8298622-b5bc-4c12-bdac-ea9cda132d04",
   "metadata": {},
   "outputs": [],
   "source": []
  }
 ],
 "metadata": {
  "kernelspec": {
   "display_name": "Python 3 (ipykernel)",
   "language": "python",
   "name": "python3"
  },
  "language_info": {
   "codemirror_mode": {
    "name": "ipython",
    "version": 3
   },
   "file_extension": ".py",
   "mimetype": "text/x-python",
   "name": "python",
   "nbconvert_exporter": "python",
   "pygments_lexer": "ipython3",
   "version": "3.9.13"
  }
 },
 "nbformat": 4,
 "nbformat_minor": 5
}
